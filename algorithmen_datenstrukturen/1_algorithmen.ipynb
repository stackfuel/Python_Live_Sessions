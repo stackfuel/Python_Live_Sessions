{
 "cells": [
  {
   "cell_type": "markdown",
   "metadata": {},
   "source": [
    "# Informatik Basics\n",
    "\n",
    "## Algorithmus\n",
    "\n",
    "Ein Algorithmus ist eine **eindeutige**, **endliche Abfolge** von **Anweisungen** oder Regeln, die dazu dient, ein bestimmtes **Problem zu lösen** oder eine bestimmte Aufgabe zu erfüllen. Diese Anweisungen werden in einer **bestimmten Reihenfolge** ausgeführt, um von einem Ausgangszustand zu einem gewünschten Endzustand zu gelangen.\n",
    "\n",
    "Hier sind einige wichtige Merkmale eines Algorithmus:\n",
    "\n",
    "1. **Eindeutigkeit**: Jede Anweisung muss klar und unmissverständlich sein.\n",
    "2. **Endlichkeit**: Der Algorithmus muss nach einer endlichen Anzahl von Schritten zum Abschluss kommen.\n",
    "3. **Ausführbarkeit**: Jeder Schritt des Algorithmus muss ausführbar sein.\n",
    "4. **Determinismus**: Ein Algorithmus sollte bei gleichen Ausgangsbedingungen immer dieselben Ergebnisse liefern.\n",
    "5. **Eingaben und Ausgaben**: Ein Algorithmus kann Null oder mehr Eingaben haben und eine oder mehrere Ausgaben liefern.\n",
    "\n",
    "Algorithmen sind grundlegend in der Informatik und Mathematik und werden in vielen Bereichen eingesetzt, von der Berechnung mathematischer Funktionen bis hin zur Steuerung komplexer Systeme in der Technik und Wirtschaft.\n"
   ]
  },
  {
   "cell_type": "markdown",
   "metadata": {},
   "source": [
    "### Größter gemeinsame Teiler\n",
    "Der größte gemeinsame Teiler (GGT) zweier natürlicher Zahlen $a$ und $b$, auch als größter gemeinsamer Divisor (ggD) bezeichnet, ist die größte natürliche Zahl $d$, die sowohl $a$ als auch $b$ ohne Rest teilt. Mathematisch lässt sich der GGT so definieren:\n",
    "\n",
    "$$\n",
    "\\text{GGT}(a, b) = \\max \\{ d \\in \\mathbb{N} : d \\mid a \\text{ und } d \\mid b \\}\n",
    "$$\n",
    "\n",
    "Dabei bedeutet $d \\mid a$, dass $d$ ein Teiler von $a$ ist, also $a$ durch $d$ ohne Rest teilbar ist."
   ]
  },
  {
   "cell_type": "code",
   "execution_count": 16,
   "metadata": {},
   "outputs": [
    {
     "name": "stdout",
     "output_type": "stream",
     "text": [
      "Alle gemeinsamend Teiler von 60 und 90: {1, 2, 3, 5, 6, 10, 15, 30}\n",
      "Größter gemeinsame Teiler: 30\n"
     ]
    }
   ],
   "source": [
    "a = 60\n",
    "b = 90\n",
    "\n",
    "max_d = min(a, b)\n",
    "N = range(1, max_d+1)\n",
    "\n",
    "cds = {d for d in N if a%d==0 and b%d==0}\n",
    "gcd = max(cds)\n",
    "\n",
    "print(f\"Alle gemeinsamend Teiler von {a} und {b}: {cds}\")\n",
    "print(f\"Größter gemeinsame Teiler: {gcd}\")"
   ]
  },
  {
   "cell_type": "markdown",
   "metadata": {},
   "source": [
    "### Beispiel Euklidischer Algorithmus\n",
    "\n",
    "Der euklidische Algorithmus ist ein effizienter Weg zur Bestimmung des größten gemeinsamen Teilers (GGT) zweier natürlicher Zahlen. Er basiert auf der Tatsache, dass der GGT zweier Zahlen auch der GGT der kleineren Zahl und dem Rest der Division der größeren Zahl durch die kleinere Zahl ist. \n",
    "\n",
    "Hier sind die Schritte des euklidischen Algorithmus in Kurzform:\n",
    "\n",
    "1. Gegeben sind zwei Zahlen $a$ und $b$ mit $a > b$.\n",
    "2. Teile $a$ durch $b$ und bestimme den Rest $r$ (also $a \\mod b$).\n",
    "3. Ersetze $a$ durch $b$ und $b$ durch $r$.\n",
    "4. Wiederhole die Schritte 2 und 3, bis $r = 0$.\n",
    "5. Der GGT ist der letzte nicht-null Rest $b$.\n",
    "\n",
    "Beispiel:\n",
    "Um den GGT von 48 und 18 zu finden:\n",
    "\n",
    "1. 48 mod 18 = 12 (Rest ist 12)\n",
    "2. 18 mod 12 = 6 (Rest ist 6)\n",
    "3. 12 mod 6 = 0 (Rest ist 0)\n",
    "\n",
    "Der GGT ist 6."
   ]
  },
  {
   "cell_type": "code",
   "execution_count": 6,
   "metadata": {},
   "outputs": [
    {
     "name": "stdout",
     "output_type": "stream",
     "text": [
      "a a a a a a a a a a a a a a a a a a a a a a a a a a a a a a a a a a a a a a a a a a a a a a a a \n",
      "b b b b b b b b b b b b b b b b b b \n",
      "\n",
      "a a a a a a a a a a a a a a a a a a \n",
      "b b b b b b b b b b b b \n",
      "\n",
      "a a a a a a a a a a a a \n",
      "b b b b b b \n",
      "\n",
      "a a a a a a \n",
      "\n",
      "gcd is 6\n"
     ]
    }
   ],
   "source": [
    "a = 48\n",
    "b = 18\n",
    "\n",
    "while b != 0:\n",
    "    print(f\"{'a '*a}\")\n",
    "    print(f\"{'b '*b}\")\n",
    "    print(\"\")\n",
    "    rest = a%b\n",
    "    a = b\n",
    "    b = rest\n",
    "    \n",
    "print(f\"{'a '*a}\")\n",
    "print(f\"{'b '*b}\")\n",
    "print(f\"gcd is {a}\")\n",
    "\n"
   ]
  },
  {
   "cell_type": "markdown",
   "metadata": {},
   "source": [
    "#### Verallgemeinerung als Funktion"
   ]
  },
  {
   "cell_type": "code",
   "execution_count": 11,
   "metadata": {},
   "outputs": [
    {
     "name": "stdout",
     "output_type": "stream",
     "text": [
      "         a |          b |  gcd(a, b)\n",
      "------------------------------------\n",
      "        48 |         18 |          6\n",
      "       101 |         10 |          1\n",
      "        20 |          8 |          4\n",
      "         0 |          5 |          5\n",
      "        42 |         56 |         14\n",
      "       270 |        192 |          6\n",
      "        17 |         31 |          1\n",
      "    123456 |     789012 |         12\n"
     ]
    }
   ],
   "source": [
    "def gcd(a, b):\n",
    "    while b != 0:\n",
    "        rest = a%b\n",
    "        a = b\n",
    "        b = rest\n",
    "    return a\n",
    "\n",
    "# Testfälle mit tabellarischer Ausgabe\n",
    "test_cases = [\n",
    "    (48, 18),\n",
    "    (101, 10),\n",
    "    (20, 8),\n",
    "    (0, 5),\n",
    "    (42, 56),\n",
    "    (270, 192),\n",
    "    (17, 31),\n",
    "    (123456, 789012)\n",
    "]\n",
    "\n",
    "# Header der Tabelle\n",
    "print(f\"{'a':>10} | {'b':>10} | {'gcd(a, b)':>10}\")\n",
    "print(\"-\" * 36)\n",
    "\n",
    "# Testfälle und Ergebnisse in tabellarischer Form ausgeben\n",
    "for a, b in test_cases:\n",
    "    result = gcd(a, b)\n",
    "    print(f\"{a:>10} | {b:>10} | {result:>10}\")\n"
   ]
  },
  {
   "cell_type": "markdown",
   "metadata": {},
   "source": [
    "## Rekursion\n",
    "\n",
    "Rekursion ist ein Prinzip, bei dem eine **Funktion sich selbst aufruft**, um ein Problem in kleinere, leichter lösbare Teilprobleme zu zerlegen. Eine rekursive Funktion enthält eine oder mehrere **Basisbedingungen**, die ohne weitere Rekursion gelöst werden können, und eine **Rekursionsbedingung**, die die Funktion erneut mit anderen Argumenten aufruft."
   ]
  },
  {
   "cell_type": "code",
   "execution_count": 21,
   "metadata": {},
   "outputs": [
    {
     "name": "stdout",
     "output_type": "stream",
     "text": [
      "6\n"
     ]
    }
   ],
   "source": [
    "def gcd(a, b=0):\n",
    "    if b == 0:\n",
    "        return a\n",
    "    return gcd(b, a%b)\n",
    "\n",
    "print(gcd(12, 18))"
   ]
  },
  {
   "cell_type": "code",
   "execution_count": 24,
   "metadata": {},
   "outputs": [],
   "source": [
    "def gcd(a, b=0, *args):\n",
    "    if b == 0:\n",
    "        if not args:\n",
    "            return a\n",
    "        return gcd(a, *args)\n",
    "    \n",
    "    return gcd(b, a%b)\n"
   ]
  },
  {
   "cell_type": "markdown",
   "metadata": {},
   "source": [
    "### Beispiel Quicksort\n",
    "\n",
    "Quicksort ist ein effizienter Sortieralgorithmus, der das **\"Teile und Herrsche\"**-Prinzip nutzt. Er wählt ein Pivotelement und teilt das Array in kleinere Teile, die rekursiv sortiert werden. Seine Einfachheit und Effektivität machen ihn zu einem der am häufigsten verwendeten Sortieralgorithmen in der Informatik.\n",
    "\n",
    "1. **Basisfall**: Wenn das Array `arr` leer ist oder nur ein Element enthält, ist es bereits sortiert, und wir geben es zurück.\n",
    "\n",
    "2. **Pivot-Auswahl**: Wir wählen das mittlere Element des Arrays als Pivot.\n",
    "\n",
    "3. **Partitionierung**:\n",
    "   - `left`: Alle Elemente, die kleiner als der Pivot sind.\n",
    "   - `middle`: Alle Elemente, die gleich dem Pivot sind (dies berücksichtigt auch Duplikate).\n",
    "   - `right`: Alle Elemente, die größer als der Pivot sind.\n",
    "\n",
    "4. **Rekursion**: Wir sortieren rekursiv die `left`- und `right`-Teile und kombinieren die Ergebnisse mit den `middle`-Elementen.\n"
   ]
  },
  {
   "cell_type": "code",
   "execution_count": 7,
   "metadata": {},
   "outputs": [
    {
     "name": "stdout",
     "output_type": "stream",
     "text": [
      "[15, 3, 2, 8, 11, 10, 1, 6, 3, 1]\n",
      "[3, 2, 8, 1, 6, 3, 1] [10] [15, 11]\n",
      "[] [1, 1] [3, 2, 8, 6, 3]\n",
      "[3, 2, 6, 3] [8] []\n",
      "[3, 2, 3] [6] []\n",
      "[] [2] [3, 3]\n",
      "[] [3, 3] []\n",
      "[] [11] [15]\n",
      "[1, 1, 2, 3, 3, 6, 8, 10, 11, 15]\n"
     ]
    }
   ],
   "source": [
    "\n",
    "def quicksort(arr):\n",
    "    if len(arr) <= 1:\n",
    "        return arr\n",
    "    else:\n",
    "        pivot  = arr[len(arr) // 2]\n",
    "        left   = [x for x in arr if x < pivot]\n",
    "        middle = [x for x in arr if x == pivot]\n",
    "        right  = [x for x in arr if x > pivot]\n",
    "        print(left, middle, right)\n",
    "        return quicksort(left) + middle + quicksort(right)\n",
    "\n",
    "# Beispielnutzung\n",
    "array = [15, 3, 2, 8, 11, 10, 1, 6, 3, 1]\n",
    "print(array)\n",
    "sorted_array = quicksort(array)\n",
    "print(sorted_array)\n"
   ]
  },
  {
   "cell_type": "code",
   "execution_count": 27,
   "metadata": {},
   "outputs": [
    {
     "name": "stdout",
     "output_type": "stream",
     "text": [
      "[1, 2, 3, 4, 5, 6, 7, 8, 9, 10]\n",
      "[6, 7, 8, 9, 10]\n",
      "[9, 10]\n",
      "[10]\n",
      "Element 10 gefunden bei Index 9.\n"
     ]
    }
   ],
   "source": [
    "def binary_search(arr, target):\n",
    "    left, right = 0, len(arr) - 1\n",
    "    \n",
    "    \n",
    "    while left <= right:\n",
    "        print(arr[left:right+1])\n",
    "        \n",
    "        mid = (left + right) // 2\n",
    "        mid_val = arr[mid]\n",
    "        \n",
    "        if mid_val == target:\n",
    "            return mid                      # Element gefunden, Rückgabe des Index\n",
    "        elif mid_val < target:\n",
    "            left = mid + 1                  # Suche im rechten Teil weiter\n",
    "        else:\n",
    "            right = mid - 1                 # Suche im linken Teil weiter\n",
    "    \n",
    "    return -1  # Element nicht gefunden\n",
    "\n",
    "# Beispielverwendung:\n",
    "arr = [1, 2, 3, 4, 5, 6, 7, 8, 9, 10]\n",
    "target = 10\n",
    "\n",
    "result = binary_search(arr, target)\n",
    "if result != -1:\n",
    "    print(f\"Element {target} gefunden bei Index {result}.\")\n",
    "else:\n",
    "    print(f\"Element {target} nicht in der Liste gefunden.\")\n"
   ]
  }
 ],
 "metadata": {
  "kernelspec": {
   "display_name": "stackfuel",
   "language": "python",
   "name": "python3"
  },
  "language_info": {
   "codemirror_mode": {
    "name": "ipython",
    "version": 3
   },
   "file_extension": ".py",
   "mimetype": "text/x-python",
   "name": "python",
   "nbconvert_exporter": "python",
   "pygments_lexer": "ipython3",
   "version": "3.12.2"
  }
 },
 "nbformat": 4,
 "nbformat_minor": 2
}
