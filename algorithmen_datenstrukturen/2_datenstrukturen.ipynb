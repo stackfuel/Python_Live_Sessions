{
 "cells": [
  {
   "cell_type": "markdown",
   "metadata": {},
   "source": [
    "## Datenstrukturen\n",
    "\n",
    "Datenstrukturen sind spezielle Weisen, Daten zu organisieren, zu verwalten und zu speichern, sodass sie effizient genutzt und verarbeitet werden können. Sie spielen eine zentrale Rolle in der Informatik, da sie die Grundlage für die Implementierung und Optimierung von Algorithmen bilden.\n",
    "\n",
    "**Wichtige Aspekte:**\n",
    "- **Organisation**: Bestimmen, wie Daten angeordnet sind.\n",
    "- **Speicherung**: Bestimmen, wie Daten im Speicher abgelegt werden.\n",
    "- **Zugriff**: Definieren Methoden, um auf Daten zuzugreifen.\n",
    "- **Manipulation**: Ermöglichen das Hinzufügen, Entfernen und Ändern von Daten.\n",
    "\n",
    "**Arten von Datenstrukturen:**\n",
    "\n",
    "1. **Primitive Datenstrukturen**:\n",
    "   - Grundlegende Datentypen wie Integer, Float, Char, Boolean.\n",
    "\n",
    "2. **Nicht-primitive Datenstrukturen**:\n",
    "   - **Linear**:\n",
    "     - **Arrays**: Kontinuierliche Speicherblöcke.\n",
    "     - **Listen**: Flexibel, z. B. verkettete Listen.\n",
    "     - **Stacks**: LIFO-Prinzip.\n",
    "     - **Queues**: FIFO-Prinzip.\n",
    "   - **Nicht-linear**:\n",
    "     - **Bäume**: Hierarchische Strukturen, z. B. Binärbäume.\n",
    "     - **Graphen**: Netzwerke von Knoten und Kanten.\n",
    "     - **Mengen** (Sets): Speichern einzigartige Elemente ohne eine bestimmte Reihenfolge\n",
    "     - **Maps** (Dictionaries): Speichern Daten als Schlüssel-Wert-Paare, wobei die Schlüssel nicht in einer linearen Reihenfolge angeordnet sind.   \n",
    "\n"
   ]
  }
 ],
 "metadata": {
  "language_info": {
   "name": "python"
  }
 },
 "nbformat": 4,
 "nbformat_minor": 2
}
