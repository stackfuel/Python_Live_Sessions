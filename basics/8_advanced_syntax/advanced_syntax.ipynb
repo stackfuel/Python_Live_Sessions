{
 "cells": [
  {
   "cell_type": "markdown",
   "id": "9c4b4dd4",
   "metadata": {},
   "source": [
    "# Erweiterte Python Syntax (Syntactic Sugar)\n",
    "\n",
    "In diesem Notebook lernen wir fortgeschrittene Python-Syntaxelemente kennen, die Code eleganter, lesbarer und effizienter machen. Diese \"syntaktischen Zuckergüsse\" sind ein wichtiger Teil der Python-Philosophie: \"Es sollte eine – und vorzugsweise nur eine – offensichtliche Möglichkeit geben, etwas zu tun.\"\n"
   ]
  },
  {
   "cell_type": "markdown",
   "id": "fa6c8280",
   "metadata": {},
   "source": [
    "## 1. Comprehensions\n",
    "\n",
    "Comprehensions erlauben es uns, neue Datenstrukturen auf elegante und kompakte Weise zu erzeugen. Sie kombinieren Schleifen und bedingte Logik in einer einzigen Zeile, was den Code lesbarer und oft effizienter macht."
   ]
  },
  {
   "cell_type": "markdown",
   "id": "b54282df",
   "metadata": {},
   "source": [
    "### 1.1 List Comprehensions"
   ]
  },
  {
   "cell_type": "code",
   "execution_count": 78,
   "id": "aeef9821",
   "metadata": {},
   "outputs": [
    {
     "name": "stdout",
     "output_type": "stream",
     "text": [
      "Mit Schleife erzeugt: [0, 1, 4, 9, 16, 25, 36, 49, 64, 81]\n"
     ]
    }
   ],
   "source": [
    "# \"Normale\" Schleife zur Erstellung einer Liste\n",
    "quadrate = []\n",
    "for x in range(10):\n",
    "    quadrate.append(x**2)\n",
    "print(f\"Mit Schleife erzeugt: {quadrate}\")"
   ]
  },
  {
   "cell_type": "code",
   "execution_count": 79,
   "id": "bcfb0858",
   "metadata": {},
   "outputs": [
    {
     "name": "stdout",
     "output_type": "stream",
     "text": [
      "Mit List Comprehension: [0, 1, 4, 9, 16, 25, 36, 49, 64, 81]\n"
     ]
    }
   ],
   "source": [
    "# Gleiche Liste mit List Comprehension\n",
    "quadrate_comp = [x**2 for x in range(10)]\n",
    "print(f\"Mit List Comprehension: {quadrate_comp}\")"
   ]
  },
  {
   "cell_type": "markdown",
   "id": "d1a585c8",
   "metadata": {},
   "source": [
    "Comprehensions können auch bedingte Ausdrücke enthalten:"
   ]
  },
  {
   "cell_type": "code",
   "execution_count": 80,
   "id": "605025f1",
   "metadata": {},
   "outputs": [
    {
     "name": "stdout",
     "output_type": "stream",
     "text": [
      "Quadrate der geraden Zahlen: [0, 4, 16, 36, 64]\n"
     ]
    }
   ],
   "source": [
    "# List Comprehension mit Bedingung (nur gerade Zahlen)\n",
    "gerade_quadrate = [x**2 for x in range(10) if x % 2 == 0]\n",
    "print(f\"Quadrate der geraden Zahlen: {gerade_quadrate}\")"
   ]
  },
  {
   "cell_type": "code",
   "execution_count": 84,
   "id": "c3aeb7cb",
   "metadata": {},
   "outputs": [
    {
     "name": "stdout",
     "output_type": "stream",
     "text": [
      "Quadrate der geraden Zahlen, 'Odd' für ungerade: [0, 'Odd', 4, 'Odd', 16, 'Odd', 36, 'Odd', 64, 'Odd']\n"
     ]
    }
   ],
   "source": [
    "# List Comprehension mit if/else \n",
    "gerade_mask = [x**2 if x % 2 == 0 else \"Odd\" for x in range(10)]\n",
    "print(f\"Quadrate der geraden Zahlen, 'Odd' für ungerade: {gerade_mask}\")"
   ]
  },
  {
   "cell_type": "markdown",
   "id": "c0950bd9",
   "metadata": {},
   "source": [
    "### 1.2 Dictionary Comprehensions\n",
    "Mit Dictionary Comprehensions können wir auf ähnliche Weise neue Dictionaries erstellen:"
   ]
  },
  {
   "cell_type": "code",
   "execution_count": 85,
   "id": "3098fa91",
   "metadata": {},
   "outputs": [
    {
     "name": "stdout",
     "output_type": "stream",
     "text": [
      "Dictionary mit Quadratzahlen: {0: 0, 1: 1, 2: 4, 3: 9, 4: 16, 5: 25}\n"
     ]
    }
   ],
   "source": [
    "# Dictionary Comprehension: Zahlen -> Quadratzahlen\n",
    "quadrat_dict = {x: x**2 for x in range(6)}\n",
    "print(f\"Dictionary mit Quadratzahlen: {quadrat_dict}\")\n"
   ]
  },
  {
   "cell_type": "code",
   "execution_count": 86,
   "id": "ade6f45c",
   "metadata": {},
   "outputs": [
    {
     "name": "stdout",
     "output_type": "stream",
     "text": [
      "Dictionary mit Quadraten gerader Zahlen: {0: 0, 2: 4, 4: 16, 6: 36, 8: 64}\n"
     ]
    }
   ],
   "source": [
    "\n",
    "# Dictionary Comprehension mit Bedingung\n",
    "gerade_quadrat_dict = {x: x**2 for x in range(10) if x % 2 == 0}\n",
    "print(f\"Dictionary mit Quadraten gerader Zahlen: {gerade_quadrat_dict}\")\n"
   ]
  },
  {
   "cell_type": "code",
   "execution_count": 87,
   "id": "5b869349",
   "metadata": {},
   "outputs": [],
   "source": [
    "\n",
    "# Umkehrung eines Dictionaries mit Dictionary Comprehension\n",
    "original = {'a': 1, 'b': 3, 'c': 3}\n"
   ]
  },
  {
   "cell_type": "code",
   "execution_count": 88,
   "id": "def17066",
   "metadata": {},
   "outputs": [
    {
     "data": {
      "text/plain": [
       "dict_items([('a', 1), ('b', 3), ('c', 3)])"
      ]
     },
     "execution_count": 88,
     "metadata": {},
     "output_type": "execute_result"
    }
   ],
   "source": [
    "original.items()"
   ]
  },
  {
   "cell_type": "code",
   "execution_count": 89,
   "id": "ab523757",
   "metadata": {},
   "outputs": [
    {
     "name": "stdout",
     "output_type": "stream",
     "text": [
      "Originales Dictionary: {'a': 1, 'b': 3, 'c': 3}\n",
      "Umgekehrtes Dictionary: {1: 'a', 3: 'c'}\n"
     ]
    }
   ],
   "source": [
    "\n",
    "umgekehrt = {wert: schluessel for schluessel, wert in original.items()}\n",
    "print(f\"Originales Dictionary: {original}\")\n",
    "print(f\"Umgekehrtes Dictionary: {umgekehrt}\")"
   ]
  },
  {
   "cell_type": "markdown",
   "id": "e73392a4",
   "metadata": {},
   "source": [
    "### 1.3 Set Comprehensions\n",
    "Set Comprehensions erstellen auf ähnliche Weise Mengen (Sets):"
   ]
  },
  {
   "cell_type": "code",
   "execution_count": 12,
   "id": "f1baae29",
   "metadata": {},
   "outputs": [
    {
     "name": "stdout",
     "output_type": "stream",
     "text": [
      "Set mit Quadratzahlen: {0, 1, 64, 4, 36, 9, 16, 49, 81, 25}\n"
     ]
    }
   ],
   "source": [
    "# Set Comprehension\n",
    "quadrat_set = {x**2 for x in range(10)}\n",
    "print(f\"Set mit Quadratzahlen: {quadrat_set}\")\n"
   ]
  },
  {
   "cell_type": "code",
   "execution_count": 13,
   "id": "1bcfa8c7",
   "metadata": {},
   "outputs": [
    {
     "name": "stdout",
     "output_type": "stream",
     "text": [
      "Originale Liste mit Duplikaten: [1, 2, 2, 3, 3, 3, 4, 5, 5]\n",
      "Set ohne Duplikate: {1, 2, 3, 4, 5}\n"
     ]
    }
   ],
   "source": [
    "\n",
    "# Beachte: Doppelte Werte werden automatisch entfernt\n",
    "zahlen = [1, 2, 2, 3, 3, 3, 4, 5, 5]\n",
    "eindeutige_zahlen = {x for x in zahlen}\n",
    "print(f\"Originale Liste mit Duplikaten: {zahlen}\")\n",
    "print(f\"Set ohne Duplikate: {eindeutige_zahlen}\")"
   ]
  },
  {
   "cell_type": "code",
   "execution_count": 14,
   "id": "87204962",
   "metadata": {},
   "outputs": [
    {
     "data": {
      "text/plain": [
       "{1, 2, 3, 4, 5}"
      ]
     },
     "execution_count": 14,
     "metadata": {},
     "output_type": "execute_result"
    }
   ],
   "source": [
    "set(zahlen)"
   ]
  },
  {
   "cell_type": "markdown",
   "id": "d6177e03",
   "metadata": {},
   "source": [
    "### 1.4 Verschachtelte Comprehensions\n",
    "Comprehensions können auch verschachtelt werden, was besonders nützlich ist, um mit mehrdimensionalen Daten zu arbeiten:"
   ]
  },
  {
   "cell_type": "code",
   "execution_count": 91,
   "id": "0e40826c",
   "metadata": {},
   "outputs": [
    {
     "name": "stdout",
     "output_type": "stream",
     "text": [
      "Matrix:\n",
      "[1, 2, 3, 4, 5]\n",
      "[2, 4, 6, 8, 10]\n",
      "[3, 6, 9, 12, 15]\n",
      "[4, 8, 12, 16, 20]\n",
      "[5, 10, 15, 20, 25]\n"
     ]
    }
   ],
   "source": [
    "# Erstellen einer Matrix\n",
    "\n",
    "matrix = []\n",
    "for i in range(1, 6):\n",
    "    zeile = []\n",
    "    for j in range(1, 6):\n",
    "        zeile.append(i * j)\n",
    "    matrix.append(zeile)\n",
    "\n",
    "print(\"Matrix:\")\n",
    "for zeile in matrix:\n",
    "    print(zeile)"
   ]
  },
  {
   "cell_type": "code",
   "execution_count": 93,
   "id": "49a63c5b",
   "metadata": {
    "lines_to_next_cell": 1
   },
   "outputs": [
    {
     "name": "stdout",
     "output_type": "stream",
     "text": [
      "Matrix 5x5:\n",
      "[1, 2, 3, 4, 5]\n",
      "[2, 4, 6, 8, 10]\n",
      "[3, 6, 9, 12, 15]\n",
      "[4, 8, 12, 16, 20]\n",
      "[5, 10, 15, 20, 25]\n"
     ]
    }
   ],
   "source": [
    "# Verschachtelte List Comprehension: Erstellen einer Matrix\n",
    "matrix = [[i * j for j in range(1, 6)] for i in range(1, 6)]\n",
    "print(\"Matrix 5x5:\")\n",
    "for zeile in matrix:\n",
    "    print(zeile)"
   ]
  },
  {
   "cell_type": "code",
   "execution_count": 92,
   "id": "8fd50d72",
   "metadata": {},
   "outputs": [
    {
     "name": "stdout",
     "output_type": "stream",
     "text": [
      "Flache Liste aus Matrix: [1, 2, 3, 4, 5, 2, 4, 6, 8, 10]... (gekürzt)\n"
     ]
    }
   ],
   "source": [
    "# Flatten einer Matrix (aus 2D zu 1D)\n",
    "flach = [element for zeile in matrix for element in zeile]\n",
    "print(f\"Flache Liste aus Matrix: {flach[:10]}... (gekürzt)\")"
   ]
  },
  {
   "cell_type": "markdown",
   "id": "79aaf9d6",
   "metadata": {},
   "source": [
    "## 2. Lambda-Funktionen\n",
    "\n",
    "Lambda-Funktionen sind anonyme Funktionen (Funktionen ohne Namen), die in einer einzigen Zeile definiert werden können. Sie sind nützlich, wenn wir eine kleine Funktion nur einmal benötigen, z.B. als Argument für `map()`, `filter()` oder `sorted()`."
   ]
  },
  {
   "cell_type": "code",
   "execution_count": 18,
   "id": "755de8e7",
   "metadata": {},
   "outputs": [
    {
     "name": "stdout",
     "output_type": "stream",
     "text": [
      "Normale Funktion: 25\n",
      "Lambda-Funktion: 25\n"
     ]
    }
   ],
   "source": [
    "# \"Normale\" Funktion\n",
    "def quadriere(x):\n",
    "    return x**2\n",
    "\n",
    "# Äquivalente Lambda-Funktion\n",
    "quadriere_lambda = lambda x: x**2\n",
    "\n",
    "print(f\"Normale Funktion: {quadriere(5)}\")\n",
    "print(f\"Lambda-Funktion: {quadriere_lambda(5)}\")"
   ]
  },
  {
   "cell_type": "code",
   "execution_count": 19,
   "id": "d65cfa86",
   "metadata": {},
   "outputs": [
    {
     "data": {
      "text/plain": [
       "'quadriere'"
      ]
     },
     "execution_count": 19,
     "metadata": {},
     "output_type": "execute_result"
    }
   ],
   "source": [
    "quadriere.__name__"
   ]
  },
  {
   "cell_type": "code",
   "execution_count": 21,
   "id": "51a52847",
   "metadata": {},
   "outputs": [
    {
     "data": {
      "text/plain": [
       "'<lambda>'"
      ]
     },
     "execution_count": 21,
     "metadata": {},
     "output_type": "execute_result"
    }
   ],
   "source": [
    "quadriere_lambda.__name__"
   ]
  },
  {
   "cell_type": "code",
   "execution_count": 22,
   "id": "228f09ef",
   "metadata": {},
   "outputs": [
    {
     "data": {
      "text/plain": [
       "144"
      ]
     },
     "execution_count": 22,
     "metadata": {},
     "output_type": "execute_result"
    }
   ],
   "source": [
    "quadriere_lambda(12)"
   ]
  },
  {
   "cell_type": "markdown",
   "id": "406e92fc",
   "metadata": {},
   "source": [
    "Lambda-Funktionen werden oft als Argumente für höherwertige Funktionen verwendet:"
   ]
  },
  {
   "cell_type": "code",
   "execution_count": 23,
   "id": "c439ed4c",
   "metadata": {},
   "outputs": [
    {
     "name": "stdout",
     "output_type": "stream",
     "text": [
      "Quadratzahlen mit map(): [1, 4, 9, 16, 25]\n"
     ]
    }
   ],
   "source": [
    "# Verwendung mit map() - wendet eine Funktion auf jedes Element einer Sequenz an\n",
    "zahlen = [1, 2, 3, 4, 5]\n",
    "quadrate = list(map(lambda x: x**2, zahlen))\n",
    "print(f\"Quadratzahlen mit map(): {quadrate}\")\n"
   ]
  },
  {
   "cell_type": "code",
   "execution_count": null,
   "id": "3caa7ac3",
   "metadata": {},
   "outputs": [
    {
     "name": "stdout",
     "output_type": "stream",
     "text": [
      "Gefilterte gerade Zahlen: [2, 4]\n"
     ]
    }
   ],
   "source": [
    "# Verwendung mit filter() - filtert Elemente basierend auf einer Bedingung\n",
    "gerade = list(filter(lambda x: x % 2 == 0, zahlen))\n",
    "print(f\"Gefilterte gerade Zahlen: {gerade}\")\n"
   ]
  },
  {
   "cell_type": "code",
   "execution_count": 95,
   "id": "06dd4b32",
   "metadata": {},
   "outputs": [
    {
     "data": {
      "text/plain": [
       "[2, 5, -7, 12]"
      ]
     },
     "execution_count": 95,
     "metadata": {},
     "output_type": "execute_result"
    }
   ],
   "source": [
    "# Sortierung mit Schlüssel-Funktion\n",
    "sorted([5, 2, -7, 12], key=abs)"
   ]
  },
  {
   "cell_type": "code",
   "execution_count": 96,
   "id": "64d8fc63",
   "metadata": {},
   "outputs": [
    {
     "name": "stdout",
     "output_type": "stream",
     "text": [
      "Nach Alter sortiert: [{'name': 'Bob', 'alter': 25}, {'name': 'Alice', 'alter': 30}, {'name': 'Charlie', 'alter': 35}]\n"
     ]
    }
   ],
   "source": [
    "# Verwendung mit sorted() - sortiert mit benutzerdefiniertem Schlüssel\n",
    "personen = [\n",
    "    {'name': 'Alice', 'alter': 30},\n",
    "    {'name': 'Bob', 'alter': 25},\n",
    "    {'name': 'Charlie', 'alter': 35}\n",
    "]\n",
    "sortiert_nach_alter = sorted(personen, key=lambda person: person['alter'])\n",
    "print(f\"Nach Alter sortiert: {sortiert_nach_alter}\")"
   ]
  },
  {
   "cell_type": "markdown",
   "id": "a6b377d7",
   "metadata": {},
   "source": [
    "Es ist wichtig zu beachten, dass Lambda-Funktionen auf einfache Ausdrücke beschränkt sind. Für komplexere Funktionen sollten normale Funktionsdefinitionen verwendet werden."
   ]
  },
  {
   "cell_type": "markdown",
   "id": "bf2d93cc",
   "metadata": {},
   "source": [
    "## 3. With-Statement und Context Manager\n",
    "\n",
    "Das `with`-Statement erstellt einen Kontext, in dem Ressourcen automatisch verwaltet werden. Dies ist besonders nützlich für Operationen, die eine Bereinigung erfordern, wie das Schließen von Dateien oder das Freigeben von Netzwerkverbindungen."
   ]
  },
  {
   "cell_type": "code",
   "execution_count": 28,
   "id": "ca460f4a",
   "metadata": {},
   "outputs": [],
   "source": [
    "# Dateien ohne with-Statement (traditionell)\n",
    "f = open('beispiel.txt', 'w')\n",
    "f.write('Hallo Welt!\\n')\n",
    "f.close()  # Muss manuell geschlossen werden\n"
   ]
  },
  {
   "cell_type": "code",
   "execution_count": null,
   "id": "47abf17f",
   "metadata": {},
   "outputs": [],
   "source": [
    "# Gleiche Operation mit with-Statement\n",
    "with open('beispiel.txt', 'w') as f:\n",
    "    f.write('Hallo mit with-Statement!\\n')\n",
    "# Datei wird automatisch geschlossen, wenn der Block verlassen wird\n"
   ]
  },
  {
   "cell_type": "code",
   "execution_count": null,
   "id": "7e59fd42",
   "metadata": {},
   "outputs": [
    {
     "name": "stdout",
     "output_type": "stream",
     "text": [
      "Dateiinhalt: Hallo mit with-Statement!\n",
      "\n"
     ]
    }
   ],
   "source": [
    "# Lesen der Datei\n",
    "with open('beispiel.txt', 'r') as f:\n",
    "    inhalt = f.read()\n",
    "print(f\"Dateiinhalt: {inhalt}\")"
   ]
  },
  {
   "cell_type": "markdown",
   "id": "f2c15c72",
   "metadata": {},
   "source": [
    "Das `with`-Statement kann auch mehrere Context Manager gleichzeitig verwalten:"
   ]
  },
  {
   "cell_type": "code",
   "execution_count": 31,
   "id": "aedb18d6",
   "metadata": {},
   "outputs": [],
   "source": [
    "# Mehrere Context Manager\n",
    "with open('quelle.txt', 'w') as quelle, open('ziel.txt', 'w') as ziel:\n",
    "    quelle.write('Quelldaten\\n')\n",
    "    ziel.write('Zieldaten\\n')\n",
    "# Beide Dateien werden automatisch geschlossen"
   ]
  },
  {
   "cell_type": "markdown",
   "id": "d8123bfe",
   "metadata": {},
   "source": [
    "### 3.1 (Optional) Eigene Context Manager mit Klassen\n",
    "\n",
    "Wir können eigene Context Manager erstellen, indem wir die Methoden `__enter__` und `__exit__` implementieren:"
   ]
  },
  {
   "cell_type": "code",
   "execution_count": 32,
   "id": "ae9de8bd",
   "metadata": {},
   "outputs": [
    {
     "name": "stdout",
     "output_type": "stream",
     "text": [
      "Context 'Test' wird betreten\n",
      "Innerhalb des Context Managers\n",
      "Verwendung des Context Manager Objekts: Test\n",
      "Context 'Test' wird verlassen\n"
     ]
    }
   ],
   "source": [
    "class MeinContextManager:\n",
    "    def __init__(self, name):\n",
    "        self.name = name\n",
    "    \n",
    "    def __enter__(self):\n",
    "        print(f\"Context '{self.name}' wird betreten\")\n",
    "        return self  # Gibt das Objekt zurück, das dem as-Ausdruck zugewiesen wird\n",
    "    \n",
    "    def __exit__(self, exc_type, exc_val, exc_tb):\n",
    "        print(f\"Context '{self.name}' wird verlassen\")\n",
    "        # Rückgabewert True unterdrückt Ausnahmen\n",
    "        return False  # Ausnahmen werden nicht unterdrückt\n",
    "\n",
    "# Verwendung des eigenen Context Managers\n",
    "with MeinContextManager(\"Test\") as cm:\n",
    "    print(\"Innerhalb des Context Managers\")\n",
    "    print(f\"Verwendung des Context Manager Objekts: {cm.name}\")"
   ]
  },
  {
   "cell_type": "markdown",
   "id": "f9c693ed",
   "metadata": {},
   "source": [
    "## 4. Tuple Unpacking und *-Operatoren\n",
    "\n",
    "Tuple Unpacking ermöglicht es, die Elemente eines Tuples (oder einer anderen Sequenz) in einzelne Variablen zu \"entpacken\". Der `*`-Operator kann zum Packen und Entpacken von variablen Argumenten verwendet werden."
   ]
  },
  {
   "cell_type": "code",
   "execution_count": 33,
   "id": "d13d9cff",
   "metadata": {},
   "outputs": [],
   "source": [
    "# Einfaches Tuple Unpacking\n",
    "koordinaten = (10, 20)\n"
   ]
  },
  {
   "cell_type": "code",
   "execution_count": 34,
   "id": "66f4d964",
   "metadata": {},
   "outputs": [],
   "source": [
    "koordinaten\n",
    "x = koordinaten[0]\n",
    "y = koordinaten[1]"
   ]
  },
  {
   "cell_type": "code",
   "execution_count": 35,
   "id": "c232fc00",
   "metadata": {},
   "outputs": [
    {
     "name": "stdout",
     "output_type": "stream",
     "text": [
      "x = 10, y = 20\n"
     ]
    }
   ],
   "source": [
    "\n",
    "x, y = koordinaten\n",
    "print(f\"x = {x}, y = {y}\")\n"
   ]
  },
  {
   "cell_type": "code",
   "execution_count": 36,
   "id": "2e439461",
   "metadata": {},
   "outputs": [
    {
     "name": "stdout",
     "output_type": "stream",
     "text": [
      "a = 1, b = 2, c = 3\n"
     ]
    }
   ],
   "source": [
    "\n",
    "# Unpacking funktioniert mit jeder Sequenz\n",
    "liste = [1, 2, 3]\n",
    "a, b, c = liste\n",
    "print(f\"a = {a}, b = {b}, c = {c}\")\n"
   ]
  },
  {
   "cell_type": "code",
   "execution_count": 37,
   "id": "9d959cd1",
   "metadata": {},
   "outputs": [
    {
     "name": "stdout",
     "output_type": "stream",
     "text": [
      "Vor dem Tausch: a = 10, b = 20\n",
      "Nach dem Tausch: a = 20, b = 10\n"
     ]
    }
   ],
   "source": [
    "\n",
    "# Tauschen von Variablen ohne temporäre Variable\n",
    "a, b = 10, 20\n",
    "print(f\"Vor dem Tausch: a = {a}, b = {b}\")\n",
    "a, b = b, a\n",
    "print(f\"Nach dem Tausch: a = {a}, b = {b}\")"
   ]
  },
  {
   "cell_type": "markdown",
   "id": "8c4938ca",
   "metadata": {},
   "source": [
    "### 4.1 Die *-Syntax zum Entpacken\n",
    "\n",
    "Mit dem `*`-Operator können wir restliche Elemente in einer Liste sammeln oder eine Liste in einzelne Argumente entpacken:"
   ]
  },
  {
   "cell_type": "code",
   "execution_count": 38,
   "id": "f82177f1",
   "metadata": {
    "lines_to_next_cell": 1
   },
   "outputs": [
    {
     "name": "stdout",
     "output_type": "stream",
     "text": [
      "Erster: 1, Zweiter: 2,  Rest: [3, 4, 5]\n"
     ]
    }
   ],
   "source": [
    "# Sammeln von Argumenten mit *\n",
    "erster, zweiter, *rest = [1, 2, 3, 4, 5]\n",
    "print(f\"Erster: {erster}, Zweiter: {zweiter},  Rest: {rest}\")\n"
   ]
  },
  {
   "cell_type": "code",
   "execution_count": 39,
   "id": "eec23f37",
   "metadata": {},
   "outputs": [
    {
     "name": "stdout",
     "output_type": "stream",
     "text": [
      "Anfang: [1, 2, 3, 4], Letzter: 5\n"
     ]
    }
   ],
   "source": [
    "\n",
    "*anfang, letzter = [1, 2, 3, 4, 5]\n",
    "print(f\"Anfang: {anfang}, Letzter: {letzter}\")\n"
   ]
  },
  {
   "cell_type": "code",
   "execution_count": 40,
   "id": "636b4a1d",
   "metadata": {},
   "outputs": [
    {
     "name": "stdout",
     "output_type": "stream",
     "text": [
      "Erster: 1, Mitte: [2, 3, 4], Letzter: 5\n"
     ]
    }
   ],
   "source": [
    "\n",
    "erster, *mitte, letzter = [1, 2, 3, 4, 5]\n",
    "print(f\"Erster: {erster}, Mitte: {mitte}, Letzter: {letzter}\")"
   ]
  },
  {
   "cell_type": "markdown",
   "id": "0086887b",
   "metadata": {},
   "source": [
    "### 4.2 Die *-Syntax in Funktionen\n",
    "\n",
    "In Funktionen kann der `*`-Operator verwendet werden, um eine variable Anzahl von Positionsargumenten zu empfangen oder um Sequenzen als einzelne Argumente zu übergeben:"
   ]
  },
  {
   "cell_type": "code",
   "execution_count": 41,
   "id": "63c61963",
   "metadata": {
    "lines_to_next_cell": 1
   },
   "outputs": [
    {
     "name": "stdout",
     "output_type": "stream",
     "text": [
      "(1, 2, 3)\n",
      "Summe von 1, 2, 3: 6\n",
      "(5, 10, 15, 20, 25, -12)\n",
      "Summe von 5, 10, 15, 20: 63\n"
     ]
    }
   ],
   "source": [
    "# Funktion mit variabler Argumentanzahl\n",
    "def summe(*zahlen):\n",
    "    print(zahlen)\n",
    "    result = 0\n",
    "    for zahl in zahlen:\n",
    "        result += zahl\n",
    "    return result\n",
    "\n",
    "print(f\"Summe von 1, 2, 3: {summe(1, 2, 3)}\")\n",
    "print(f\"Summe von 5, 10, 15, 20: {summe(5, 10, 15, 20, 25, -12)}\")\n"
   ]
  },
  {
   "cell_type": "code",
   "execution_count": 42,
   "id": "7c1087c5",
   "metadata": {},
   "outputs": [
    {
     "name": "stdout",
     "output_type": "stream",
     "text": [
      "(1, 2, 3, 4, 5)\n",
      "Summe der Liste: 15\n"
     ]
    }
   ],
   "source": [
    "\n",
    "# Entpacken einer Sequenz als Argumente\n",
    "zahlen = [1, 2, 3, 4, 5]\n",
    "print(f\"Summe der Liste: {summe(*zahlen)}\")"
   ]
  },
  {
   "cell_type": "markdown",
   "id": "2e8acaf4",
   "metadata": {},
   "source": [
    "### 4.3 Die **-Syntax für Dictionaries\n",
    "\n",
    "Analog dazu kann der `**`-Operator verwendet werden, um Dictionaries in Schlüssel-Wert-Paare zu entpacken oder um eine variable Anzahl von Schlüsselwortargumenten zu sammeln:"
   ]
  },
  {
   "cell_type": "code",
   "execution_count": 43,
   "id": "8c251f3f",
   "metadata": {},
   "outputs": [
    {
     "name": "stdout",
     "output_type": "stream",
     "text": [
      "Name: Alice\n",
      "  alter: 30\n",
      "  beruf: Entwicklerin\n",
      "  hobby: Lesen\n"
     ]
    }
   ],
   "source": [
    "# Funktion mit variabler Anzahl von Schlüsselwortargumenten\n",
    "def beschreibe_person(name, **eigenschaften):\n",
    "    print(f\"Name: {name}\")\n",
    "    for eigenschaft, wert in eigenschaften.items():\n",
    "        print(f\"  {eigenschaft}: {wert}\")\n",
    "\n",
    "beschreibe_person(\"Alice\", alter=30, beruf=\"Entwicklerin\", hobby=\"Lesen\")\n"
   ]
  },
  {
   "cell_type": "code",
   "execution_count": 44,
   "id": "d44106bc",
   "metadata": {},
   "outputs": [
    {
     "name": "stdout",
     "output_type": "stream",
     "text": [
      "Name: Bob\n",
      "  alter: 25\n",
      "  beruf: Designer\n",
      "  wohnort: Berlin\n"
     ]
    }
   ],
   "source": [
    "\n",
    "# Entpacken eines Dictionaries als Schlüsselwortargumente\n",
    "person_info = {\n",
    "    \"name\": \"Bob\",\n",
    "    \"alter\": 25,\n",
    "    \"beruf\": \"Designer\",\n",
    "    \"wohnort\": \"Berlin\"\n",
    "}\n",
    "\n",
    "beschreibe_person(**person_info)\n"
   ]
  },
  {
   "cell_type": "code",
   "execution_count": 45,
   "id": "0cda7141",
   "metadata": {},
   "outputs": [
    {
     "name": "stdout",
     "output_type": "stream",
     "text": [
      "Kombiniertes Dictionary: {'a': 1, 'b': 2, 'c': 3, 'd': 4}\n"
     ]
    }
   ],
   "source": [
    "\n",
    "# Kombinieren von Dictionaries mit **\n",
    "dict1 = {\"a\": 1, \"b\": 2}\n",
    "dict2 = {\"c\": 3, \"d\": 4}\n",
    "kombiniert = {**dict1, **dict2}\n",
    "print(f\"Kombiniertes Dictionary: {kombiniert}\")"
   ]
  },
  {
   "cell_type": "markdown",
   "id": "77b24baf",
   "metadata": {},
   "source": [
    "## 5. F-Strings und String-Formatierung\n",
    "\n",
    "F-Strings (Formatted String Literals) sind eine leistungsstarke und lesbare Methode zur String-Formatierung, die seit Python 3.6 verfügbar ist."
   ]
  },
  {
   "cell_type": "code",
   "execution_count": null,
   "id": "ba5b7b87",
   "metadata": {},
   "outputs": [
    {
     "name": "stdout",
     "output_type": "stream",
     "text": [
      "Hallo, ich bin Alice und 30 Jahre alt.\n",
      "Hallo, ich bin Alice und 30 Jahre alt.\n",
      "Hallo, ich bin Alice und 30 Jahre alt. Alice ist ein schöner Name.\n"
     ]
    }
   ],
   "source": [
    "# Traditionelle String-Formatierung mit %\n",
    "name = \"Alice\"\n",
    "alter = 30\n",
    "print(\"Hallo, ich bin %s und %d Jahre alt.\" % (name, alter)) # Verwendung von %s und %d: %s für Strings, %d für Ganzzahlen\n",
    "\n",
    "# Formatierung mit str.format()\n",
    "print(\"Hallo, ich bin {} und {} Jahre alt.\".format(name, alter))\n",
    "print(\"Hallo, ich bin {0} und {1} Jahre alt. {0} ist ein schöner Name.\".format(name, alter))\n"
   ]
  },
  {
   "cell_type": "code",
   "execution_count": 47,
   "id": "7e12c004",
   "metadata": {},
   "outputs": [
    {
     "data": {
      "text/plain": [
       "'Hallo ich bin Alice'"
      ]
     },
     "execution_count": 47,
     "metadata": {},
     "output_type": "execute_result"
    }
   ],
   "source": [
    "s = \"Hallo ich bin {name}\"\n",
    "\n",
    "s.format(name=name)\n",
    "\n"
   ]
  },
  {
   "cell_type": "code",
   "execution_count": null,
   "id": "b051a424",
   "metadata": {},
   "outputs": [
    {
     "name": "stdout",
     "output_type": "stream",
     "text": [
      "Hallo, ich bin Alice und 30 Jahre alt.\n",
      "Die Summe von 2 + 2 ist 4.\n",
      "ALICE ist 1993 geboren.\n"
     ]
    }
   ],
   "source": [
    "# F-Strings (ab Python 3.6)\n",
    "print(f\"Hallo, ich bin {name} und {alter} Jahre alt.\")\n",
    "\n",
    "# Ausdrücke in F-Strings\n",
    "print(f\"Die Summe von 2 + 2 ist {2 + 2}.\")\n",
    "print(f\"{name.upper()} ist {2023 - alter} geboren.\")"
   ]
  },
  {
   "cell_type": "markdown",
   "id": "4411574d",
   "metadata": {},
   "source": [
    "F-Strings bieten erweiterte Formatierungsoptionen mit spezifischen Formatspezifikatoren:"
   ]
  },
  {
   "cell_type": "code",
   "execution_count": 50,
   "id": "d93ccdb0",
   "metadata": {},
   "outputs": [
    {
     "name": "stdout",
     "output_type": "stream",
     "text": [
      "Pi: 3.14159265359\n",
      "Pi auf 2 Dezimalstellen: 3.14\n",
      "Pi in wissenschaftlicher Notation: 3.14e+00\n",
      "Pi als Prozent: 314.16%\n"
     ]
    }
   ],
   "source": [
    "# Formatierungsoptionen\n",
    "pi = 3.14159265359\n",
    "print(f\"Pi: {pi}\")\n",
    "print(f\"Pi auf 2 Dezimalstellen: {pi:.2f}\")\n",
    "print(f\"Pi in wissenschaftlicher Notation: {pi:.2e}\")\n",
    "print(f\"Pi als Prozent: {pi:.2%}\")\n"
   ]
  },
  {
   "cell_type": "code",
   "execution_count": null,
   "id": "ae718d17",
   "metadata": {},
   "outputs": [
    {
     "name": "stdout",
     "output_type": "stream",
     "text": [
      "Währungsformatierung: $1,234,567.90\n",
      " 1 hoch 2 =   1\n",
      " 2 hoch 2 =   4\n",
      " 3 hoch 2 =   9\n",
      " 4 hoch 2 =  16\n",
      " 5 hoch 2 =  25\n",
      " 6 hoch 2 =  36\n",
      " 7 hoch 2 =  49\n",
      " 8 hoch 2 =  64\n",
      " 9 hoch 2 =  81\n",
      "10 hoch 2 = 100\n",
      "11 hoch 2 = 121\n",
      "12 hoch 2 = 144\n",
      "13 hoch 2 = 169\n",
      "14 hoch 2 = 196\n",
      "15 hoch 2 = 225\n",
      "16 hoch 2 = 256\n",
      "17 hoch 2 = 289\n",
      "18 hoch 2 = 324\n",
      "19 hoch 2 = 361\n"
     ]
    }
   ],
   "source": [
    "# Zahlenformatierung\n",
    "betrag = 1234567.897654\n",
    "print(f\"Währungsformatierung: ${betrag:,.2f}\")\n",
    "\n",
    "# Ausrichtung und Breite\n",
    "for i in range(1, 20):\n",
    "    print(f\"{i:2d} hoch 2 = {i**2:3d}\") # Zahlen rechtsbündig in einem Feld der Breite 2 bzw. 3"
   ]
  },
  {
   "cell_type": "markdown",
   "id": "967d442c",
   "metadata": {},
   "source": [
    "### 5.1 Debugging mit F-Strings\n",
    "\n",
    "In Python 3.8 wurde ein \"Debugging\"-Syntax für F-Strings eingeführt, der den Variablennamen zusammen mit seinem Wert anzeigt:"
   ]
  },
  {
   "cell_type": "code",
   "execution_count": 59,
   "id": "437f1b0b",
   "metadata": {},
   "outputs": [
    {
     "name": "stdout",
     "output_type": "stream",
     "text": [
      "x = 10, y = 20\n",
      "x + y = 30\n",
      "x * y = 200\n"
     ]
    }
   ],
   "source": [
    "# F-String Debugging (Python 3.8+)\n",
    "x = 10\n",
    "y = 20\n",
    "print(f\"{x = }, {y = }\")\n",
    "print(f\"{x + y = }\")\n",
    "print(f\"{x * y = }\")"
   ]
  },
  {
   "cell_type": "markdown",
   "id": "8efaeda6",
   "metadata": {},
   "source": [
    "## 6. Ternary Operator\n",
    "\n",
    "Der ternäre Operator in Python hat die Form `x if condition else y`. Er ermöglicht bedingte Ausdrücke in einer einzigen Zeile."
   ]
  },
  {
   "cell_type": "code",
   "execution_count": null,
   "id": "8c3ac43e",
   "metadata": {},
   "outputs": [
    {
     "name": "stdout",
     "output_type": "stream",
     "text": [
      "Maximum (mit if-else): 10\n",
      "Maximum (mit ternärem Operator): 10\n"
     ]
    }
   ],
   "source": [
    "# Herkömmliche if-else-Struktur\n",
    "a = 5\n",
    "b = 10\n",
    "if a > b:\n",
    "    maximum = a\n",
    "else:\n",
    "    maximum = b\n",
    "print(f\"Maximum (mit if-else): {maximum}\")"
   ]
  },
  {
   "cell_type": "code",
   "execution_count": null,
   "id": "aab21f26",
   "metadata": {},
   "outputs": [],
   "source": [
    "# Äquivalent mit dem ternären Operator\n",
    "maximum = a if a > b else b\n",
    "print(f\"Maximum (mit ternärem Operator): {maximum}\")"
   ]
  },
  {
   "cell_type": "markdown",
   "id": "c6508177",
   "metadata": {},
   "source": [
    "Der ternäre Operator kann auch verschachtelt werden, was jedoch die Lesbarkeit beeinträchtigen kann:"
   ]
  },
  {
   "cell_type": "code",
   "execution_count": 61,
   "id": "130be48a",
   "metadata": {},
   "outputs": [
    {
     "name": "stdout",
     "output_type": "stream",
     "text": [
      "Status: Erwachsener\n"
     ]
    }
   ],
   "source": [
    "# Einfache Verwendung\n",
    "alter = 19\n",
    "status = \"Kind\" if alter < 18 else \"Erwachsener\"\n",
    "print(f\"Status: {status}\")\n"
   ]
  },
  {
   "cell_type": "code",
   "execution_count": 62,
   "id": "2d32de75",
   "metadata": {},
   "outputs": [
    {
     "name": "stdout",
     "output_type": "stream",
     "text": [
      "Status: Senior\n",
      "Status (besser formatiert): Senior\n"
     ]
    }
   ],
   "source": [
    "\n",
    "# Verschachtelte ternäre Operatoren\n",
    "alter = 65\n",
    "status = \"Kind\" if alter < 18 else \"Senior\" if alter >= 65 else \"Erwachsener\"\n",
    "print(f\"Status: {status}\")\n",
    "\n",
    "# Besser lesbar mit mehreren Zeilen oder normalen if-elif-else-Strukturen\n",
    "status = (\n",
    "    \"Kind\" if alter < 18 else\n",
    "    \"Senior\" if alter >= 65 else\n",
    "    \"Erwachsener\"\n",
    ")\n",
    "print(f\"Status (besser formatiert): {status}\")"
   ]
  },
  {
   "cell_type": "markdown",
   "id": "f39f2caa",
   "metadata": {},
   "source": [
    "### 6.1 Ternary Operator in (List)-Comprehensions\n",
    "\n",
    "Der Ternary Operator wird oft in List Comprehensions verwendet um elemente in Abhängigkeit einer Bedingung zu erzeugen."
   ]
  },
  {
   "cell_type": "code",
   "execution_count": 63,
   "id": "4e9caf12",
   "metadata": {},
   "outputs": [
    {
     "name": "stdout",
     "output_type": "stream",
     "text": [
      "[-5, -4, -3, -2, -1, 0, 1, 4, 9, 16, 25]\n"
     ]
    }
   ],
   "source": [
    "print([a**2 if a>0 else a for a in range(-5, 6)])"
   ]
  },
  {
   "cell_type": "markdown",
   "id": "7122bdea",
   "metadata": {},
   "source": [
    "## 7. Walrus-Operator `:=`\n",
    "\n",
    "Der Walrus-Operator `:=` wurde in Python 3.8 eingeführt. Er ermöglicht es, einer Variable im Rahmen eines Ausdrucks einen Wert zuzuweisen und dann diesen Wert im selben Ausdruck zu verwenden."
   ]
  },
  {
   "cell_type": "code",
   "execution_count": 64,
   "id": "c8fbdeb2",
   "metadata": {},
   "outputs": [
    {
     "name": "stdout",
     "output_type": "stream",
     "text": [
      "Der String 'Hallo Welt' hat 10 Zeichen, das ist mehr als 5.\n"
     ]
    }
   ],
   "source": [
    "# Traditioneller Ansatz\n",
    "string = \"Hallo Welt\"\n",
    "length = len(string)\n",
    "if length > 5:\n",
    "    print(f\"Der String '{string}' hat {length} Zeichen, das ist mehr als 5.\")\n"
   ]
  },
  {
   "cell_type": "code",
   "execution_count": null,
   "id": "54d7f170",
   "metadata": {},
   "outputs": [
    {
     "name": "stdout",
     "output_type": "stream",
     "text": [
      "Der String 'Tschüs Welt' hat 11 Zeichen, das ist mehr als 5.\n"
     ]
    }
   ],
   "source": [
    "# Mit dem Walrus-Operator\n",
    "string_2 = \"Tschüs Welt\"\n",
    "if (length_2 := len(string_2)) > 5:\n",
    "    print(f\"Der String '{string_2}' hat {length_2} Zeichen, das ist mehr als 5.\")"
   ]
  },
  {
   "cell_type": "markdown",
   "id": "2fc9abad",
   "metadata": {},
   "source": [
    "Der Walrus-Operator ist besonders nützlich in Schleifen oder Comprehensions, wo ein Ausdruck berechnet und dann verwendet werden muss:"
   ]
  },
  {
   "cell_type": "code",
   "execution_count": 66,
   "id": "fc189ec5",
   "metadata": {
    "lines_to_next_cell": 1
   },
   "outputs": [
    {
     "name": "stdout",
     "output_type": "stream",
     "text": [
      "Quadrate > 10 (traditionell): [16, 25]\n",
      "Quadrate > 10 (mit Walrus): [16, 25]\n"
     ]
    }
   ],
   "source": [
    "# Traditionell: Berechnung wird zweimal durchgeführt\n",
    "zahlen = [1, 2, 3, 4, 5]\n",
    "quadrate = [x**2 for x in zahlen if x**2 > 10]\n",
    "print(f\"Quadrate > 10 (traditionell): {quadrate}\")\n",
    "\n",
    "# Mit Walrus: Berechnung wird nur einmal durchgeführt\n",
    "quadrate_walrus = [q for x in zahlen if (q := x**2) > 10]\n",
    "print(f\"Quadrate > 10 (mit Walrus): {quadrate_walrus}\")"
   ]
  },
  {
   "cell_type": "markdown",
   "id": "9d8e26d4",
   "metadata": {},
   "source": [
    "## 8. Chaining von Vergleichsoperatoren\n",
    "\n",
    "In Python können Vergleichsoperatoren aneinandergereiht (chained) werden, was den Code lesbarer macht und unnötige Wiederholungen vermeidet."
   ]
  },
  {
   "cell_type": "code",
   "execution_count": 67,
   "id": "9c241eba",
   "metadata": {},
   "outputs": [
    {
     "name": "stdout",
     "output_type": "stream",
     "text": [
      "x liegt zwischen 0 und 10 (traditioneller Vergleich)\n",
      "x liegt zwischen 0 und 10 (Operator Chaining)\n",
      "x (5) ist größer als 0, kleiner als y (7), und y ist kleiner als 10\n"
     ]
    }
   ],
   "source": [
    "# Traditionelle Vergleiche mit 'and'\n",
    "x = 5\n",
    "if x > 0 and x < 10:\n",
    "    print(\"x liegt zwischen 0 und 10 (traditioneller Vergleich)\")\n",
    "\n",
    "# Äquivalent mit Operator Chaining\n",
    "if 0 < x < 10:\n",
    "    print(\"x liegt zwischen 0 und 10 (Operator Chaining)\")\n",
    "\n",
    "# Komplexere Verkettungen\n",
    "y = 7\n",
    "if 0 < x < y < 10:\n",
    "    print(f\"x ({x}) ist größer als 0, kleiner als y ({y}), und y ist kleiner als 10\")"
   ]
  },
  {
   "cell_type": "markdown",
   "id": "964677d6",
   "metadata": {},
   "source": [
    "Operator Chaining funktioniert mit allen Vergleichsoperatoren (`<`, `<=`, `>`, `>=`, `==`, `!=`) und kann gemischt werden:"
   ]
  },
  {
   "cell_type": "code",
   "execution_count": 68,
   "id": "23017cb5",
   "metadata": {},
   "outputs": [
    {
     "name": "stdout",
     "output_type": "stream",
     "text": [
      "a (3) ist kleiner als b (5), und b ist kleiner oder gleich c (7)\n",
      "Komplexe Bedingung ist wahr\n"
     ]
    }
   ],
   "source": [
    "# Verschiedene Vergleichsoperatoren in einer Kette\n",
    "a, b, c = 3, 5, 7\n",
    "if a < b <= c:\n",
    "    print(f\"a ({a}) ist kleiner als b ({b}), und b ist kleiner oder gleich c ({c})\")\n",
    "\n",
    "if a < b != c > a:\n",
    "    print(\"Komplexe Bedingung ist wahr\")"
   ]
  },
  {
   "cell_type": "markdown",
   "id": "df0cb4ac",
   "metadata": {},
   "source": [
    "### 8.1 Operatorreihenfolge (Precedence)\n",
    "\n",
    "In Python gibt es eine festgelegte Reihenfolge, in der Operatoren ausgewertet werden. Es ist wichtig, diese zu kennen, um unerwartetes Verhalten zu vermeiden."
   ]
  },
  {
   "cell_type": "code",
   "execution_count": 69,
   "id": "a68ff970",
   "metadata": {
    "lines_to_next_cell": 1
   },
   "outputs": [
    {
     "name": "stdout",
     "output_type": "stream",
     "text": [
      "x + y < z: False (Berechnung: 15 < 15)\n",
      "not x < y and z > y or x == 5: True\n",
      "(not (x < y)) and (z > y or x == 5): False\n"
     ]
    }
   ],
   "source": [
    "# Beispiel für Operatorreihenfolge\n",
    "x = 5\n",
    "y = 10\n",
    "z = 15\n",
    "\n",
    "# Arithmetische Operatoren haben Vorrang vor Vergleichsoperatoren\n",
    "result = x + y < z\n",
    "print(f\"x + y < z: {result} (Berechnung: {x + y} < {z})\")\n",
    "\n",
    "# Logische Operatoren: not hat Vorrang vor and, and hat Vorrang vor or\n",
    "result = not x < y and z > y or x == 5\n",
    "print(f\"not x < y and z > y or x == 5: {result}\")\n",
    "\n",
    "# Auswertungsreihenfolge mit Klammern verdeutlichen\n",
    "result = (not (x < y)) and (z > y or x == 5)\n",
    "print(f\"(not (x < y)) and (z > y or x == 5): {result}\")"
   ]
  },
  {
   "cell_type": "markdown",
   "id": "a5d0ed0f",
   "metadata": {},
   "source": [
    "Hier ist eine vereinfachte Darstellung der Operatorreihenfolge in Python (von höchster zu niedrigster Priorität):\n",
    "\n",
    "1. Klammerausdrücke `()`\n",
    "2. Potenzierung `**`\n",
    "3. Unäre Operatoren `+x`, `-x`, `~x`\n",
    "4. Multiplikation, Division `*`, `/`, `//`, `%`\n",
    "5. Addition, Subtraktion `+`, `-`\n",
    "6. Bitweise Shifts `<<`, `>>`\n",
    "7. Bitweises AND `&`\n",
    "8. Bitweises XOR `^`\n",
    "9. Bitweises OR `|`\n",
    "10. Vergleiche `<`, `<=`, `>`, `>=`, `!=`, `==`\n",
    "11. `is`, `is not`, `in`, `not in`\n",
    "12. Logisches NOT `not`\n",
    "13. Logisches AND `and`\n",
    "14. Logisches OR `or`"
   ]
  },
  {
   "cell_type": "markdown",
   "id": "9b536d3f",
   "metadata": {},
   "source": [
    "## 9. Structural Pattern Matching (Match-Case)\n",
    "\n",
    "Structural Pattern Matching wurde in Python 3.10 eingeführt und bietet eine elegante Möglichkeit, komplexe Bedingungsprüfungen durchzuführen. Es ähnelt der `switch`-`case`-Struktur aus anderen Sprachen, ist aber deutlich mächtiger."
   ]
  },
  {
   "cell_type": "code",
   "execution_count": null,
   "id": "3541b0d6",
   "metadata": {},
   "outputs": [],
   "source": [
    "# Traditionelle if-else-Struktur\n",
    "\n",
    "def check_status(status_code):\n",
    "    if status_code == 200:\n",
    "        return \"OK\"\n",
    "    elif status_code == 404:\n",
    "        return \"Not Found\"\n",
    "    elif status_code == 500:\n",
    "        return \"Internal Server Error\"\n",
    "    else:\n",
    "        return f\"Unknown Status: {status_code}\"\n",
    "    \n",
    "print(f\"HTTP 200: {check_status(200)}\")\n",
    "print(f\"HTTP 404: {check_status(404)}\")\n",
    "print(f\"HTTP 302: {check_status(302)}\")"
   ]
  },
  {
   "cell_type": "code",
   "execution_count": 70,
   "id": "0d178e6f",
   "metadata": {
    "lines_to_next_cell": 1
   },
   "outputs": [
    {
     "name": "stdout",
     "output_type": "stream",
     "text": [
      "HTTP 200: OK\n",
      "HTTP 404: Not Found\n",
      "HTTP 302: Unbekannter Status: 302\n"
     ]
    }
   ],
   "source": [
    "# Einfaches Pattern Matching\n",
    "def check_status(status_code):\n",
    "    match status_code:\n",
    "        case 200:\n",
    "            return \"OK\"\n",
    "        case 404:\n",
    "            return \"Not Found\"\n",
    "        case 500:\n",
    "            return \"Internal Server Error\"\n",
    "        case _:  # Default-Fall\n",
    "            return f\"Unbekannter Status: {status_code}\"\n",
    "\n",
    "print(f\"HTTP 200: {check_status(200)}\")\n",
    "print(f\"HTTP 404: {check_status(404)}\")\n",
    "print(f\"HTTP 302: {check_status(302)}\")"
   ]
  },
  {
   "cell_type": "markdown",
   "id": "0b1dba2d",
   "metadata": {},
   "source": [
    "### 9.1 Komplexe Muster und Guards\n",
    "\n",
    "Pattern Matching unterstützt komplexe Muster, einschließlich der Zerlegung von Datenstrukturen, OR-Muster und Bedingungsprüfungen (Guards):"
   ]
  },
  {
   "cell_type": "code",
   "execution_count": 71,
   "id": "6558db7d",
   "metadata": {
    "lines_to_next_cell": 1
   },
   "outputs": [
    {
     "name": "stdout",
     "output_type": "stream",
     "text": [
      "Ursprung\n",
      "Y-Achse bei y=5\n",
      "X-Achse bei x=3\n",
      "Punkt auf der Diagonalen: (2, 2)\n",
      "Punkt bei (3, 4)\n"
     ]
    }
   ],
   "source": [
    "# Pattern Matching mit strukturierten Daten\n",
    "def analyze_point(point):\n",
    "    match point:\n",
    "        case (0, 0):\n",
    "            return \"Ursprung\"\n",
    "        case (0, y):\n",
    "            return f\"Y-Achse bei y={y}\"\n",
    "        case (x, 0):\n",
    "            return f\"X-Achse bei x={x}\"\n",
    "        case (x, y) if x == y:\n",
    "            return f\"Punkt auf der Diagonalen: ({x}, {y})\"\n",
    "        case (x, y):\n",
    "            return f\"Punkt bei ({x}, {y})\"\n",
    "\n",
    "print(analyze_point((0, 0)))\n",
    "print(analyze_point((0, 5)))\n",
    "print(analyze_point((3, 0)))\n",
    "print(analyze_point((2, 2)))\n",
    "print(analyze_point((3, 4)))"
   ]
  },
  {
   "cell_type": "markdown",
   "id": "138ed3e2",
   "metadata": {},
   "source": [
    "### 9.2 (Optional) Musterabgleich mit Klassen\n",
    "\n",
    "Pattern Matching ist besonders nützlich für den Abgleich mit Objekten und deren Attributen:"
   ]
  },
  {
   "cell_type": "code",
   "execution_count": 72,
   "id": "c6c24d12",
   "metadata": {
    "lines_to_next_cell": 1
   },
   "outputs": [
    {
     "name": "stdout",
     "output_type": "stream",
     "text": [
      "Punkt bei (3, 4)\n",
      "Rechteck mit Ursprung (0, 0), Breite 10 und Höhe 20\n",
      "Kreis mit Mittelpunkt (5, 5) und Radius 15\n"
     ]
    }
   ],
   "source": [
    "# Klassen für Pattern Matching\n",
    "class Point:\n",
    "    def __init__(self, x, y):\n",
    "        self.x = x\n",
    "        self.y = y\n",
    "\n",
    "class Rectangle:\n",
    "    def __init__(self, pos, width, height):\n",
    "        self.pos = pos\n",
    "        self.width = width\n",
    "        self.height = height\n",
    "\n",
    "class Circle:\n",
    "    def __init__(self, center, radius):\n",
    "        self.center = center\n",
    "        self.radius = radius\n",
    "\n",
    "# Funktion mit Pattern Matching für verschiedene Formen\n",
    "def describe_shape(shape):\n",
    "    match shape:\n",
    "        case Point(x=0, y=0):\n",
    "            return \"Punkt im Ursprung\"\n",
    "        case Point(x=x, y=y):\n",
    "            return f\"Punkt bei ({x}, {y})\"\n",
    "        case Rectangle(pos=Point(x=0, y=0), width=w, height=h):\n",
    "            return f\"Rechteck mit Ursprung (0, 0), Breite {w} und Höhe {h}\"\n",
    "        case Rectangle(pos=pos, width=w, height=h):\n",
    "            return f\"Rechteck bei ({pos.x}, {pos.y}), Breite {w} und Höhe {h}\"\n",
    "        case Circle(center=Point(x=0, y=0), radius=r):\n",
    "            return f\"Kreis mit Mittelpunkt im Ursprung und Radius {r}\"\n",
    "        case Circle(center=center, radius=r):\n",
    "            return f\"Kreis mit Mittelpunkt ({center.x}, {center.y}) und Radius {r}\"\n",
    "        case _:\n",
    "            return \"Unbekannte Form\"\n",
    "\n",
    "point = Point(3, 4)\n",
    "rect = Rectangle(Point(0, 0), 10, 20)\n",
    "circle = Circle(Point(5, 5), 15)\n",
    "\n",
    "print(describe_shape(point))\n",
    "print(describe_shape(rect))\n",
    "print(describe_shape(circle))"
   ]
  },
  {
   "cell_type": "markdown",
   "id": "0de5d2cf",
   "metadata": {},
   "source": [
    "## 10. Type Hints\n",
    "\n",
    "Type Hints wurden in Python 3.5 eingeführt und ermöglichen es, den erwarteten Typ von Variablen, Funktionsparametern und Rückgabewerten anzugeben. Sie werden nicht zur Laufzeit überprüft, sondern dienen hauptsächlich der Dokumentation und der statischen Typprüfung durch externe Tools."
   ]
  },
  {
   "cell_type": "code",
   "execution_count": null,
   "id": "864d067e",
   "metadata": {},
   "outputs": [
    {
     "name": "stdout",
     "output_type": "stream",
     "text": [
      "User ID: 12345, Active: True, Username: alice\n"
     ]
    }
   ],
   "source": [
    "# Type Hints für Variablen\n",
    "\n",
    "user_id: int = 12345\n",
    "is_active: bool = True\n",
    "username: str = \"alice\"\n",
    "\n",
    "print(f\"User ID: {user_id}, Active: {is_active}, Username: {username}\")"
   ]
  },
  {
   "cell_type": "code",
   "execution_count": null,
   "id": "91997935",
   "metadata": {},
   "outputs": [
    {
     "name": "stdout",
     "output_type": "stream",
     "text": [
      "Hallo Python\n",
      "Hallo 0\n"
     ]
    }
   ],
   "source": [
    "def greeting(name):\n",
    "    return f\"Hallo {name}\"\n",
    "\n",
    "print(greeting(\"Python\"))\n",
    "print(greeting(0))"
   ]
  },
  {
   "cell_type": "code",
   "execution_count": null,
   "id": "52202802",
   "metadata": {},
   "outputs": [
    {
     "name": "stdout",
     "output_type": "stream",
     "text": [
      "Hallo Python\n",
      "Hallo 0\n"
     ]
    }
   ],
   "source": [
    "# Einfache Type Hints\n",
    "def greeting(name: str) -> str:\n",
    "    return f\"Hallo {name}\"\n",
    "\n",
    "print(greeting(\"Python\"))\n",
    "print(greeting(0)) # Typfehler wird hier nicht erkannt"
   ]
  },
  {
   "cell_type": "markdown",
   "id": "541096ec",
   "metadata": {},
   "source": [
    "### 10.1 Das `Typing`-Modul"
   ]
  },
  {
   "cell_type": "markdown",
   "id": "e89ebc69",
   "metadata": {},
   "source": [
    "Type Hints unterstützen komplexe Typen aus dem `typing`-Modul:"
   ]
  },
  {
   "cell_type": "code",
   "execution_count": 103,
   "id": "4f7a127d",
   "metadata": {},
   "outputs": [
    {
     "name": "stdout",
     "output_type": "stream",
     "text": [
      "[2, 4, 6, 8]\n"
     ]
    }
   ],
   "source": [
    "from typing import List, Dict, Tuple, Optional, Union, Any, Callable\n",
    "\n",
    "# Listen\n",
    "def double_all(numbers: List[int]) -> List[int]:\n",
    "    return [n * 2 for n in numbers]\n",
    "\n",
    "print(double_all([1, 2, 3, 4]))\n",
    "\n"
   ]
  },
  {
   "cell_type": "code",
   "execution_count": null,
   "id": "8870ffa3",
   "metadata": {},
   "outputs": [
    {
     "name": "stdout",
     "output_type": "stream",
     "text": [
      "{'eine': 1, 'ist': 1, 'katze': 2, 'die': 1}\n"
     ]
    }
   ],
   "source": [
    "# Dictionaries\n",
    "def count_words(text: str) -> Dict[str, int]:\n",
    "    words = text.lower().split()\n",
    "    return {word: words.count(word) for word in set(words)}\n",
    "\n",
    "print(count_words(\"Die Katze ist eine Katze\"))\n"
   ]
  },
  {
   "cell_type": "code",
   "execution_count": 106,
   "id": "736701d3",
   "metadata": {},
   "outputs": [
    {
     "name": "stdout",
     "output_type": "stream",
     "text": [
      "Hallo Gast\n",
      "Hallo Max\n"
     ]
    }
   ],
   "source": [
    "# Optionale Parameter\n",
    "def greet_user(name: Optional[str] = None) -> str:\n",
    "    if name is None:\n",
    "        return \"Hallo Gast\"\n",
    "    return f\"Hallo {name}\"\n",
    "\n",
    "print(greet_user())\n",
    "print(greet_user(\"Max\"))\n"
   ]
  },
  {
   "cell_type": "code",
   "execution_count": 107,
   "id": "58b3ffbb",
   "metadata": {},
   "outputs": [
    {
     "name": "stdout",
     "output_type": "stream",
     "text": [
      "Verarbeite ID: 12345\n",
      "Verarbeite ID: AB-12345\n"
     ]
    }
   ],
   "source": [
    "# Union-Typen (entweder str oder int)\n",
    "def process_id(user_id: Union[str, int]) -> str:\n",
    "    return f\"Verarbeite ID: {user_id}\"\n",
    "\n",
    "print(process_id(12345))\n",
    "print(process_id(\"AB-12345\"))"
   ]
  }
 ],
 "metadata": {
  "kernelspec": {
   "display_name": "base",
   "language": "python",
   "name": "python3"
  },
  "language_info": {
   "codemirror_mode": {
    "name": "ipython",
    "version": 3
   },
   "file_extension": ".py",
   "mimetype": "text/x-python",
   "name": "python",
   "nbconvert_exporter": "python",
   "pygments_lexer": "ipython3",
   "version": "3.11.7"
  }
 },
 "nbformat": 4,
 "nbformat_minor": 5
}
