{
 "cells": [
  {
   "cell_type": "markdown",
   "metadata": {},
   "source": [
    "# Einführung in Python Funktionen\n",
    "\n",
    "Funktionen sind ein grundlegendes Konzept in Python und anderen Programmiersprachen. Sie ermöglichen es, Code in wiederverwendbare Blöcke zu organisieren, die bestimmte Aufgaben ausführen. Dadurch können wir unseren Code Modular gestalten."
   ]
  },
  {
   "cell_type": "markdown",
   "metadata": {},
   "source": [
    "## Grundlagen von Funktionen\n",
    "\n",
    "Eine Funktion ist ein Stück Programmcode, das wir **Funktionskörper** nennen und das durch eine **Funktionsdefinition** gekennzeichnet ist. Du kannst dir eine Funktion wie ein eigenständiges kleines Programm vorstellen, das eine bestimmte Aufgabe erfüllt. In der Regel geben wir Funktionen einige Werte, die wir **Parameter** nennen, damit die Funktion allgemeine Probleme und nicht nur einen speziellen Fall lösen kann. Wenn die Funktion ihre Aufgabe abgeschlossen hat, gibt es oft einen oder mehrere Werte, die sie berechnet oder erzeugt hat. Diese können wir durch das `return`-Schlüsselwort an das Programm, das die Funktion aufgerufen hat, zurückgeben.\n",
    "\n",
    "Eine Funktion besteht aus folgenden Teilen:\n",
    "\n",
    "- **def**: Das Schlüsselwort `def` leitet eine Funktionsdefinition ein.\n",
    "- **name**: Jede Funktion hat einen eigenen Namen. Der Name sollte beschreibend sein und den Zweck der Funktion widerspiegeln.\n",
    "- **parameter** (optional): parameter sind Platzhalter für Werte, die an die Funktion übergeben werden. Sie werden in Klammern nach dem Funktionsnamen angegeben. Wenn keine Parameter benötigt werden, können die Klammern leer gelassen werden.\n",
    "- **docstring** (optional): Eine kurze Beschreibung der Funktion, die in dreifachen Anführungszeichen steht. Sie wird oft verwendet, um den Zweck und die Funktionsweise der Funktion zu dokumentieren.\n",
    "- **body**: Der Funktionskörper ist der Code, der ausgeführt wird, wenn die Funktion aufgerufen wird. Er wird durch Einrückung vom Rest des Codes abgehoben.\n",
    "- **return** (optional): Mit dem Schlüsselwort `return` wird die Funktion beendet und der entsprechende Wert wird an den Aufrufer zurückgegeben."
   ]
  },
  {
   "cell_type": "code",
   "execution_count": null,
   "metadata": {},
   "outputs": [],
   "source": [
    "# kleinstmögliches Beispiel einer Funktion\n",
    "def f():\n",
    "    pass\n",
    "\n",
    "result = f()\n",
    "print(result)"
   ]
  },
  {
   "cell_type": "code",
   "execution_count": null,
   "metadata": {},
   "outputs": [],
   "source": [
    "# Eine einfache Funktion definieren\n",
    "def begruessung(name):                      # Funktionskopf (name und Parameter)\n",
    "    \"\"\"Eine einfache Begrüßungsfunktion\"\"\"  # Funktionsdokumentation (Docstring)\n",
    "    return f\"Hallo {name}!\"                 # Funktionskörper (Rückgabewert)   \n",
    "\n",
    "# Funktion aufrufen\n",
    "print(begruessung(\"Maria\"))\n",
    "\n",
    "# Hilfe zur Funktion anzeigen\n",
    "help(begruessung)"
   ]
  },
  {
   "cell_type": "markdown",
   "metadata": {},
   "source": [
    "### Funktionen mit Standardwerten\n",
    "\n",
    "Parameter können Standardwerte haben, die verwendet werden, wenn kein Argument übergeben wird."
   ]
  },
  {
   "cell_type": "code",
   "execution_count": null,
   "metadata": {},
   "outputs": [],
   "source": [
    "def begruessung_mit_standard(name=\"Gast\", gruß=\"Hallo\"):\n",
    "    return f\"{gruß} {name}!\"\n",
    "\n",
    "print(begruessung_mit_standard())  # Verwendet Standardwerte\n",
    "print(begruessung_mit_standard(\"Peter\", gruß=\"Jo\"))  # Überschreibt nur den ersten Parameter\n",
    "print(begruessung_mit_standard(gruß=\"Hi\", name=\"Anna\"))  # Benannte Parameter"
   ]
  },
  {
   "cell_type": "markdown",
   "metadata": {},
   "source": [
    "## 2. Besonderheiten bei der Parameterübergabe\n",
    "\n",
    "Python bietet spezielle Notationen für flexible Parameterübergabe:"
   ]
  },
  {
   "cell_type": "code",
   "execution_count": null,
   "metadata": {},
   "outputs": [],
   "source": [
    "# *args - Variable Anzahl von positionellen Argumenten\n",
    "def summe_aller_zahlen(*args):\n",
    "    print(f\"args ist vom Typ: {type(args)}\")\n",
    "    print(f\"Übergebene Argumente: {args}\")\n",
    "    return sum(args)\n",
    "\n",
    "print(summe_aller_zahlen(1, 2, 3, 4, 5, 6, 7, ))\n",
    "print(summe_aller_zahlen(10, 20))"
   ]
  },
  {
   "cell_type": "code",
   "execution_count": null,
   "metadata": {},
   "outputs": [],
   "source": [
    "# **kwargs - Variable Anzahl von Schlüsselwort-Argumenten\n",
    "def personen_info(**kwargs):\n",
    "    print(f\"kwargs ist vom Typ: {type(kwargs)}\")\n",
    "    for key, value in kwargs.items():\n",
    "        print(f\"{key}: {value}\")\n",
    "\n",
    "personen_info(name=\"Anna\", alter=25, stadt=\"Berlin\")"
   ]
  },
  {
   "cell_type": "code",
   "execution_count": null,
   "metadata": {},
   "outputs": [],
   "source": [
    "def func(*args, **kwargs):\n",
    "    print(args)\n",
    "    print(kwargs)\n",
    "    \n",
    "func(1, 4, 6, name=\"Anna\", t=(4, 3, 2), f=5.7)\n"
   ]
  },
  {
   "cell_type": "markdown",
   "metadata": {},
   "source": [
    "## 3. Funktionen höherer Ordnung\n",
    "\n",
    "In Python sind Funktionen \"First Class Objects\". Das bedeutet, sie können:\n",
    "- Variablen zugewiesen werden\n",
    "- Als Parameter übergeben werden\n",
    "- Von anderen Funktionen zurückgegeben werden"
   ]
  },
  {
   "cell_type": "code",
   "execution_count": null,
   "metadata": {},
   "outputs": [],
   "source": [
    "# Funktion einer Variable zuweisen\n",
    "def quadrat(x):\n",
    "    return x * x\n",
    "\n",
    "rechne = quadrat\n",
    "print(rechne.__name__)\n",
    "print(rechne(4))\n",
    "\n",
    "# Funktion als Parameter\n",
    "def berechne_liste(funktions_objekt, liste):\n",
    "    \n",
    "    result = []\n",
    "    for x in liste:\n",
    "        result.append(funktions_objekt(x))\n",
    "    \n",
    "    \n",
    "    return result\n",
    "\n",
    "zahlen = [1, 2, 3, 4]\n",
    "print(berechne_liste(quadrat, zahlen))"
   ]
  },
  {
   "cell_type": "code",
   "execution_count": null,
   "metadata": {},
   "outputs": [],
   "source": [
    "# Closure - Funktion die eine Funktion zurückgibt\n",
    "def multipliziere_mit(faktor):\n",
    "    def multiplikator(x):\n",
    "        return x * faktor\n",
    "    return multiplikator\n",
    "\n",
    "verdopple = multipliziere_mit(2)\n",
    "verdreifache = multipliziere_mit(3)\n",
    "\n",
    "print(verdopple(5))\n",
    "print(verdreifache(5))"
   ]
  },
  {
   "cell_type": "markdown",
   "metadata": {},
   "source": [
    "### Lambda-Funktionen\n",
    "\n",
    "Lambda-Funktionen sind anonyme Einzeiler-Funktionen:"
   ]
  },
  {
   "cell_type": "code",
   "execution_count": null,
   "metadata": {},
   "outputs": [],
   "source": [
    "quadrat_lambda = lambda x: x * x\n",
    "print(quadrat_lambda(5))\n",
    "help(quadrat_lambda)"
   ]
  },
  {
   "cell_type": "code",
   "execution_count": null,
   "metadata": {},
   "outputs": [],
   "source": [
    "\n",
    "# Nützlich in Kombination mit eingebauten Funktionen\n",
    "zahlen = [1, 2, -3, 4, -5]\n",
    "\n",
    "sortiert = sorted(zahlen, key=lambda x: (x**2))  # Absteigend sortieren\n",
    "print(sortiert)"
   ]
  },
  {
   "cell_type": "markdown",
   "metadata": {},
   "source": [
    "## 4. Beispiele aus der Python Standardbibliothek\n",
    "\n",
    "Python bietet viele nützliche eingebaute Funktionen, die mit Funktionen als Parameter arbeiten:"
   ]
  },
  {
   "cell_type": "code",
   "execution_count": null,
   "metadata": {},
   "outputs": [],
   "source": [
    "# map() - Wendet eine Funktion auf jedes Element an\n",
    "zahlen = [1, 2, 3, 4, 5]\n",
    "quadrate = list(map(quadrat, zahlen))\n",
    "print(f\"map(): {quadrate}\")\n"
   ]
  },
  {
   "cell_type": "code",
   "execution_count": null,
   "metadata": {},
   "outputs": [],
   "source": [
    "\n",
    "# filter() - Filtert Elemente basierend auf einer Funktion\n",
    "gerade_zahlen = list(filter(lambda x: x % 2 == 0, zahlen))\n",
    "print(f\"filter(): {gerade_zahlen}\")\n"
   ]
  },
  {
   "cell_type": "code",
   "execution_count": null,
   "metadata": {},
   "outputs": [],
   "source": [
    "\n",
    "# sorted() mit key-Funktion\n",
    "woerter = ['Python', 'ist', 'eine', 'großartige', 'Programmiersprache']\n",
    "sortiert_nach_laenge = sorted(woerter, key=len, reverse=True)\n",
    "print(f\"sorted(): {sortiert_nach_laenge}\")"
   ]
  },
  {
   "cell_type": "code",
   "execution_count": null,
   "metadata": {},
   "outputs": [],
   "source": [
    "# reduce() für Aggregationen\n",
    "from functools import reduce\n",
    "\n",
    "# Alle Zahlen multiplizieren\n",
    "produkt = reduce(lambda x, y: x * y, zahlen)\n",
    "print(f\"reduce(): {produkt} \") # (((1*2)*3)*4)*5\n"
   ]
  },
  {
   "cell_type": "code",
   "execution_count": null,
   "metadata": {},
   "outputs": [],
   "source": [
    "# Strings verketten\n",
    "woerter = ['Python', 'ist', 'cool']\n",
    "satz = reduce(lambda x, y: x + ' ' + y, woerter)\n",
    "\n",
    "print(f\"reduce(): {satz}\")"
   ]
  },
  {
   "cell_type": "code",
   "execution_count": null,
   "metadata": {},
   "outputs": [],
   "source": [
    "\" \".join(['Python', 'ist', 'cool'])"
   ]
  },
  {
   "cell_type": "markdown",
   "metadata": {},
   "source": [
    "## Übungsaufgaben\n",
    "\n",
    "1. Schreiben Sie eine Funktion, die eine beliebige Anzahl von Zahlen akzeptiert und deren Durchschnitt berechnet.\n",
    "2. Erstellen Sie eine Funktion höherer Ordnung, die eine Funktion und eine Liste als Parameter nimmt und die Funktion nur auf die geraden Zahlen der Liste anwendet.\n",
    "3. Verwenden Sie `map()`, `filter()` und `reduce()` in Kombination, um aus einer Liste von Zahlen die Summe aller Quadrate der geraden Zahlen zu berechnen."
   ]
  },
  {
   "cell_type": "code",
   "execution_count": null,
   "metadata": {},
   "outputs": [],
   "source": []
  }
 ],
 "metadata": {
  "kernelspec": {
   "display_name": ".venv",
   "language": "python",
   "name": "python3"
  },
  "language_info": {
   "codemirror_mode": {
    "name": "ipython",
    "version": 3
   },
   "file_extension": ".py",
   "mimetype": "text/x-python",
   "name": "python",
   "nbconvert_exporter": "python",
   "pygments_lexer": "ipython3",
   "version": "3.12.4"
  }
 },
 "nbformat": 4,
 "nbformat_minor": 2
}
