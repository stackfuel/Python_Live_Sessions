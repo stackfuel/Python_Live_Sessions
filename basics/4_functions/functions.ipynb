{
 "cells": [
  {
   "cell_type": "markdown",
   "metadata": {},
   "source": [
    "# Einführung in Python Funktionen\n",
    "\n",
    "Funktionen sind ein grundlegendes Konzept in Python und anderen Programmiersprachen. Sie ermöglichen es, Code in wiederverwendbare Blöcke zu organisieren, die bestimmte Aufgaben ausführen. Dadurch können wir unseren Code Modular gestalten."
   ]
  },
  {
   "cell_type": "markdown",
   "metadata": {},
   "source": [
    "## 1. Grundlagen von Funktionen\n",
    "\n",
    "Eine Funktion ist ein Stück Programmcode, das wir **Funktionskörper** nennen und das durch eine **Funktionsdefinition** gekennzeichnet ist. Du kannst dir eine Funktion wie ein eigenständiges kleines Programm vorstellen, das eine bestimmte Aufgabe erfüllt. In der Regel geben wir Funktionen einige Werte, die wir **Parameter** nennen, damit die Funktion allgemeine Probleme und nicht nur einen speziellen Fall lösen kann. Wenn die Funktion ihre Aufgabe abgeschlossen hat, gibt es oft einen oder mehrere Werte, die sie berechnet oder erzeugt hat. Diese können wir durch das `return`-Schlüsselwort an das Programm, das die Funktion aufgerufen hat, zurückgeben.\n",
    "\n",
    "Eine Funktion besteht aus folgenden Teilen:\n",
    "\n",
    "- **def**: Das Schlüsselwort `def` leitet eine Funktionsdefinition ein.\n",
    "- **name**: Jede Funktion hat einen eigenen Namen. Der Name sollte beschreibend sein und den Zweck der Funktion widerspiegeln.\n",
    "- **parameter** (optional): parameter sind Platzhalter für Werte, die an die Funktion übergeben werden. Sie werden in Klammern nach dem Funktionsnamen angegeben. Wenn keine Parameter benötigt werden, können die Klammern leer gelassen werden.\n",
    "- **docstring** (optional): Eine kurze Beschreibung der Funktion, die in dreifachen Anführungszeichen steht. Sie wird oft verwendet, um den Zweck und die Funktionsweise der Funktion zu dokumentieren.\n",
    "- **body**: Der Funktionskörper ist der Code, der ausgeführt wird, wenn die Funktion aufgerufen wird. Er wird durch Einrückung vom Rest des Codes abgehoben.\n",
    "- **return** (optional): Mit dem Schlüsselwort `return` wird die Funktion beendet und der entsprechende Wert wird an den Aufrufer zurückgegeben."
   ]
  },
  {
   "cell_type": "code",
   "execution_count": 1,
   "metadata": {},
   "outputs": [
    {
     "name": "stdout",
     "output_type": "stream",
     "text": [
      "None\n"
     ]
    }
   ],
   "source": [
    "# kleinstmögliches Beispiel einer Funktion\n",
    "def f():\n",
    "    pass\n",
    "\n",
    "result = f()\n",
    "print(result)"
   ]
  },
  {
   "cell_type": "code",
   "execution_count": 2,
   "metadata": {},
   "outputs": [
    {
     "name": "stdout",
     "output_type": "stream",
     "text": [
      "Hallo Maria!\n",
      "Help on function begruessung in module __main__:\n",
      "\n",
      "begruessung(name)\n",
      "    Eine einfache Begrüßungsfunktion\n",
      "\n"
     ]
    }
   ],
   "source": [
    "# Eine einfache Funktion definieren\n",
    "def begruessung(name):                      # Funktionskopf (name und Parameter)\n",
    "    \"\"\"Eine einfache Begrüßungsfunktion\"\"\"  # Funktionsdokumentation (Docstring)\n",
    "    return f\"Hallo {name}!\"                 # Funktionskörper (Rückgabewert)   \n",
    "\n",
    "# Funktion aufrufen\n",
    "print(begruessung(\"Maria\"))\n",
    "\n",
    "# Hilfe zur Funktion anzeigen\n",
    "help(begruessung)"
   ]
  },
  {
   "cell_type": "markdown",
   "metadata": {},
   "source": [
    "### Funktionen mit Standardwerten\n",
    "\n",
    "Parameter können Standardwerte haben, die verwendet werden, wenn kein Argument übergeben wird."
   ]
  },
  {
   "cell_type": "code",
   "execution_count": null,
   "metadata": {},
   "outputs": [
    {
     "name": "stdout",
     "output_type": "stream",
     "text": [
      "Hallo Gast!\n",
      "Jo Peter!\n",
      "Hi Anna!\n"
     ]
    }
   ],
   "source": [
    "def begruessung_mit_standard(name=\"Gast\", gruß=\"Hallo\"):\n",
    "    return f\"{gruß} {name}!\""
   ]
  },
  {
   "cell_type": "code",
   "execution_count": null,
   "metadata": {},
   "outputs": [],
   "source": [
    "print(begruessung_mit_standard())  # Verwendet Standardwerte"
   ]
  },
  {
   "cell_type": "code",
   "execution_count": null,
   "metadata": {},
   "outputs": [],
   "source": [
    "print(begruessung_mit_standard(\"Peter\", gruß=\"Jo\"))  # Überschreibt nur den ersten Parameter"
   ]
  },
  {
   "cell_type": "code",
   "execution_count": null,
   "metadata": {},
   "outputs": [],
   "source": [
    "print(begruessung_mit_standard(gruß=\"Hi\", name=\"Anna\"))  # Benannte Parameter"
   ]
  },
  {
   "cell_type": "markdown",
   "metadata": {},
   "source": [
    "## 2. Parameterübergabe\n",
    "\n",
    "Python bietet spezielle Notationen für flexible Parameterübergabe:"
   ]
  },
  {
   "cell_type": "markdown",
   "metadata": {},
   "source": [
    "`*args` erlaubt es, eine variable Anzahl von Positionsargumenten an eine Funktion zu übergeben."
   ]
  },
  {
   "cell_type": "code",
   "execution_count": null,
   "metadata": {},
   "outputs": [
    {
     "name": "stdout",
     "output_type": "stream",
     "text": [
      "args ist vom Typ: <class 'tuple'>\n",
      "Übergebene Argumente: (1, 2, 3, 4, 5, 6, 7)\n",
      "28\n",
      "args ist vom Typ: <class 'tuple'>\n",
      "Übergebene Argumente: (10, 20)\n",
      "30\n"
     ]
    }
   ],
   "source": [
    "# *args - Variable Anzahl von positionellen Argumenten\n",
    "def summe_aller_zahlen(*args):\n",
    "    print(f\"args ist vom Typ: {type(args)}\")\n",
    "    print(f\"Übergebene Argumente: {args}\")\n",
    "    return sum(args)"
   ]
  },
  {
   "cell_type": "code",
   "execution_count": 6,
   "metadata": {},
   "outputs": [
    {
     "name": "stdout",
     "output_type": "stream",
     "text": [
      "args ist vom Typ: <class 'tuple'>\n",
      "Übergebene Argumente: (1, 2, 3, 4, 5, 6, 7)\n"
     ]
    },
    {
     "data": {
      "text/plain": [
       "28"
      ]
     },
     "execution_count": 6,
     "metadata": {},
     "output_type": "execute_result"
    }
   ],
   "source": [
    "summe_aller_zahlen(1, 2, 3, 4, 5, 6, 7)"
   ]
  },
  {
   "cell_type": "code",
   "execution_count": 7,
   "metadata": {},
   "outputs": [
    {
     "name": "stdout",
     "output_type": "stream",
     "text": [
      "args ist vom Typ: <class 'tuple'>\n",
      "Übergebene Argumente: (10, 20)\n"
     ]
    },
    {
     "data": {
      "text/plain": [
       "30"
      ]
     },
     "execution_count": 7,
     "metadata": {},
     "output_type": "execute_result"
    }
   ],
   "source": [
    "summe_aller_zahlen(10, 20)"
   ]
  },
  {
   "cell_type": "code",
   "execution_count": 5,
   "metadata": {},
   "outputs": [
    {
     "name": "stdout",
     "output_type": "stream",
     "text": [
      "args ist vom Typ: <class 'tuple'>\n",
      "Übergebene Argumente: ()\n"
     ]
    },
    {
     "data": {
      "text/plain": [
       "0"
      ]
     },
     "execution_count": 5,
     "metadata": {},
     "output_type": "execute_result"
    }
   ],
   "source": [
    "summe_aller_zahlen()"
   ]
  },
  {
   "cell_type": "markdown",
   "metadata": {},
   "source": [
    "Mit `**kwargs` kann man benannte Argumente verarbeiten, die du nicht explizit in der Signatur der Funktion definiert hast. Das ist praktisch, um eine variable Anzahl von Schlüsselwortargumenten zu übergeben. "
   ]
  },
  {
   "cell_type": "code",
   "execution_count": null,
   "metadata": {},
   "outputs": [
    {
     "name": "stdout",
     "output_type": "stream",
     "text": [
      "kwargs ist vom Typ: <class 'dict'>\n",
      "name: Anna\n",
      "alter: 25\n",
      "stadt: Berlin\n"
     ]
    }
   ],
   "source": [
    "# **kwargs - Variable Anzahl von Schlüsselwort-Argumenten\n",
    "def personen_info(**kwargs):\n",
    "    print(f\"kwargs ist vom Typ: {type(kwargs)}\")\n",
    "    for key, value in kwargs.items():\n",
    "        print(f\"{key}: {value}\")"
   ]
  },
  {
   "cell_type": "code",
   "execution_count": null,
   "metadata": {},
   "outputs": [],
   "source": [
    "personen_info(name=\"Anna\", alter=25, stadt=\"Berlin\")"
   ]
  },
  {
   "cell_type": "code",
   "execution_count": null,
   "metadata": {},
   "outputs": [],
   "source": [
    "# Eine Funktion mit **kwargs, um Schlüsselwort-Argumente zu verarbeiten\n",
    "\n",
    "def greet(**kwargs):\n",
    "    greeting = \"Hello\"\n",
    "    if 'name' in kwargs:\n",
    "        greeting += \", \" + kwargs['name']\n",
    "    if 'title' in kwargs:\n",
    "        greeting += \" the \" + kwargs['title']\n",
    "    return greeting + \"!\"\n"
   ]
  },
  {
   "cell_type": "code",
   "execution_count": null,
   "metadata": {},
   "outputs": [],
   "source": [
    "print(greet(name=\"Alice\", title=\"Queen\")) "
   ]
  },
  {
   "cell_type": "code",
   "execution_count": null,
   "metadata": {},
   "outputs": [],
   "source": [
    "print(greet(name=\"Bob\"))"
   ]
  },
  {
   "cell_type": "markdown",
   "metadata": {},
   "source": [
    "Die Kombination von `*args` und `**kwargs` bietet besonders viel Flexibilität für Funktionen, die maximale Flexibilität bei den akzeptierten Argumenten benötigen:"
   ]
  },
  {
   "cell_type": "code",
   "execution_count": null,
   "metadata": {},
   "outputs": [
    {
     "name": "stdout",
     "output_type": "stream",
     "text": [
      "{'name': 'John Doe', 'email': 'john@example.com', 'hobbies': ['reading', 'traveling'], 'age': 30, 'profession': 'Developer'}\n"
     ]
    }
   ],
   "source": [
    "def create_profile(name, email, *args, **kwargs):\n",
    "    profile = {}\n",
    "    profile['name'] = name\n",
    "    profile['email'] = email\n",
    "    profile['hobbies'] = list(args)\n",
    "    profile.update(kwargs)\n",
    "    return profile"
   ]
  },
  {
   "cell_type": "code",
   "execution_count": null,
   "metadata": {},
   "outputs": [],
   "source": [
    "# Example usage\n",
    "print(create_profile(\"John Doe\", \"john@example.com\", \"reading\", \"traveling\", age=30, profession=\"Developer\"))"
   ]
  },
  {
   "cell_type": "markdown",
   "metadata": {},
   "source": [
    "## 3. Funktionen höherer Ordnung\n",
    "\n",
    "In Python sind Funktionen \"First Class Objects\". Das bedeutet, sie können:\n",
    "- Variablen zugewiesen werden\n",
    "- Als Parameter übergeben werden\n",
    "- Von anderen Funktionen zurückgegeben werden\n",
    "\n",
    "Eine Funktion höherer Ordnung ist jede Funktion, die mindestens eine der folgenden Bedingungen erfüllt:\n",
    "\n",
    "* Nimmt eine oder mehrere Funktionen als Argumente.\n",
    "* Gibt eine Funktion als Ergebnis zurück.\n",
    "\n",
    "Die Fähigkeit, Funktionen in Variablen zu speichern, sie an andere Funktionen zu übergeben und sie als Werte zurückzugeben, ermöglicht einen sehr flexiblen und ausdrucksstarken Programmierstil."
   ]
  },
  {
   "cell_type": "code",
   "execution_count": null,
   "metadata": {},
   "outputs": [
    {
     "name": "stdout",
     "output_type": "stream",
     "text": [
      "quadrat\n",
      "9\n"
     ]
    }
   ],
   "source": [
    "# Funktion einer Variable zuweisen\n",
    "def quadrat(x):\n",
    "    return x * x\n",
    "\n",
    "rechne = quadrat"
   ]
  },
  {
   "cell_type": "code",
   "execution_count": 9,
   "metadata": {},
   "outputs": [
    {
     "name": "stdout",
     "output_type": "stream",
     "text": [
      "quadrat\n"
     ]
    }
   ],
   "source": [
    "print(rechne.__name__) # Name der Funktion"
   ]
  },
  {
   "cell_type": "code",
   "execution_count": 10,
   "metadata": {},
   "outputs": [
    {
     "name": "stdout",
     "output_type": "stream",
     "text": [
      "9\n"
     ]
    }
   ],
   "source": [
    "print(rechne(3))  # Aufruf der Funktion über die Variable"
   ]
  },
  {
   "cell_type": "code",
   "execution_count": null,
   "metadata": {},
   "outputs": [
    {
     "name": "stdout",
     "output_type": "stream",
     "text": [
      "[1, 4, 9, 16]\n"
     ]
    }
   ],
   "source": [
    "# Funktion als Parameter\n",
    "def berechne_liste(funktions_objekt, liste):\n",
    "    \"\"\"Wendet eine Funktion auf jedes Element einer Liste an und gibt eine neue Liste zurück.\"\"\"\n",
    "    result = []\n",
    "    for x in liste:\n",
    "        result.append(funktions_objekt(x))    \n",
    "    return result"
   ]
  },
  {
   "cell_type": "code",
   "execution_count": null,
   "metadata": {},
   "outputs": [],
   "source": [
    "zahlen = [1, 2, 3, 4]\n",
    "print(berechne_liste(quadrat, zahlen))  # Wendet die Funktion 'quadrat' auf jedes Element der Liste 'zahlen' an"
   ]
  },
  {
   "cell_type": "code",
   "execution_count": null,
   "metadata": {},
   "outputs": [
    {
     "name": "stdout",
     "output_type": "stream",
     "text": [
      "10\n",
      "15\n"
     ]
    }
   ],
   "source": [
    "# Closure - Funktion die eine Funktion zurückgibt\n",
    "def multipliziere_mit(faktor):\n",
    "    \"\"\"Erzeugt eine Funktion, die einen Wert mit einem gegebenen Faktor multipliziert.\"\"\"\n",
    "    def multiplikator(x):\n",
    "        return x * faktor \n",
    "    return multiplikator\n"
   ]
  },
  {
   "cell_type": "code",
   "execution_count": null,
   "metadata": {},
   "outputs": [],
   "source": [
    "# Erzeugt zwei Funktionen, die mit 2 und 3 multiplizieren\n",
    "verdopple = multipliziere_mit(2)\n",
    "print(verdopple(5))"
   ]
  },
  {
   "cell_type": "code",
   "execution_count": null,
   "metadata": {},
   "outputs": [],
   "source": [
    "verdreifache = multipliziere_mit(3)\n",
    "print(verdreifache(5))"
   ]
  },
  {
   "cell_type": "markdown",
   "metadata": {},
   "source": [
    "Das ist praktisch, weil man so für unterschiedliche Zahlen jeweils passende Multiplikationsfunktionen einfach erstellen kann. Solche Closures sind nützlich, um spezialisierte Funktionen dynamisch zu erzeugen, den Code flexibler und wartbarer zu gestalten und funktionale Programmierungsansätze effizient umzusetzen. "
   ]
  },
  {
   "cell_type": "markdown",
   "metadata": {},
   "source": [
    "### Lambda-Funktionen\n",
    "\n",
    "Lambda-Funktionen in Python, oft auch als anonyme Funktionen bezeichnet, sind eine verkürzte Art, kleine, einmalig verwendete und ausdrucksbereite Funktionen zu schreiben.\n",
    "\n",
    "`lambda parameter: ausdruck`\n",
    "\n",
    "* `lambda` ist das Schlüsselwort, das den Beginn einer anonymen Funktion signalisiert.\n",
    "* `parameter` steht für die Argumente, die die Funktion übernimmt. Man kann mehrere Parameter durch Kommas getrennt angeben.\n",
    "* `ausdruck` ist eine einzelne Ausdrucksanweisung, die als Funktionskörper dient und das Ergebnis zurückgibt. Dieser Ausdruck wird ausgewertet und direkt zurückgeliefert."
   ]
  },
  {
   "cell_type": "code",
   "execution_count": null,
   "metadata": {},
   "outputs": [
    {
     "name": "stdout",
     "output_type": "stream",
     "text": [
      "25\n",
      "Help on function <lambda> in module __main__:\n",
      "\n",
      "<lambda> lambda x\n",
      "\n"
     ]
    }
   ],
   "source": [
    "quadrat_lambda = lambda x: x * x"
   ]
  },
  {
   "cell_type": "code",
   "execution_count": null,
   "metadata": {},
   "outputs": [],
   "source": [
    "print(quadrat_lambda(5))\n",
    "help(quadrat_lambda)"
   ]
  },
  {
   "cell_type": "code",
   "execution_count": null,
   "metadata": {},
   "outputs": [
    {
     "name": "stdout",
     "output_type": "stream",
     "text": [
      "[1, 2, -3, 4, -5]\n"
     ]
    }
   ],
   "source": [
    "# Nützlich in Kombination mit eingebauten Funktionen\n",
    "zahlen = [1, 2, -3, 4, -5]\n",
    "\n",
    "sortiert = sorted(zahlen, key=lambda x: (x**2))  # Absteigend nach dem Quadrat der Zahl\n",
    "print(sortiert)"
   ]
  },
  {
   "cell_type": "markdown",
   "metadata": {},
   "source": [
    "### Eingebaute Funktionen\n",
    "\n",
    "Python bietet viele nützliche eingebaute Funktionen, die mit Funktionen als Parameter arbeiten:"
   ]
  },
  {
   "cell_type": "markdown",
   "metadata": {},
   "source": [
    "Die Funktion `map()` wendet eine gegebene Funktion auf jedes Element einer Liste oder eines anderen iterierbaren Objekts an und gibt ein neues iterierbares Objekt zurück, das die Ergebnisse enthält."
   ]
  },
  {
   "cell_type": "code",
   "execution_count": null,
   "metadata": {},
   "outputs": [
    {
     "name": "stdout",
     "output_type": "stream",
     "text": [
      "map(): [1, 4, 9, 16, 25]\n"
     ]
    }
   ],
   "source": [
    "# map() - Wendet eine Funktion auf jedes Element an\n",
    "zahlen = [1, 2, 3, 4, 5]\n",
    "\n",
    "# quadrat-Funktion mit map() verwenden\n",
    "quadrate = list(map(quadrat, zahlen))\n",
    "print(f\"map(): {quadrate}\")\n"
   ]
  },
  {
   "cell_type": "markdown",
   "metadata": {},
   "source": [
    "Die Funktion `filter()` wendet eine Prüffunktion auf jedes Element eines iterierbaren Objekts an und gibt ein neues iterierbares Objekt zurück, das alle Elemente enthält, für die die Prüffunktion True ergibt."
   ]
  },
  {
   "cell_type": "code",
   "execution_count": 20,
   "metadata": {},
   "outputs": [
    {
     "name": "stdout",
     "output_type": "stream",
     "text": [
      "filter(): [2, 4]\n"
     ]
    }
   ],
   "source": [
    "# filter() - Filtert Elemente basierend auf einer Funktion\n",
    "\n",
    "# Funktion, die prüft, ob eine Zahl gerade ist\n",
    "gerade_zahlen = filter(lambda x: x % 2 == 0, zahlen)\n",
    "print(f\"filter(): {list(gerade_zahlen)}\")\n"
   ]
  },
  {
   "cell_type": "markdown",
   "metadata": {},
   "source": [
    "Die Funktion `sorted()` sortiert die Elemente eines iterierbaren Objekts und gibt eine neue sortierte Liste zurück, optional nach einer spezifischen Sortierschlüssel-Funktion organisiert."
   ]
  },
  {
   "cell_type": "code",
   "execution_count": null,
   "metadata": {},
   "outputs": [],
   "source": [
    "# sorted() - Sortiert eine Liste anhand einer Funktion\n",
    "\n",
    "# Sortiert eine Liste von Wörtern nach ihrer Länge\n",
    "woerter = ['Python', 'ist', 'eine', 'großartige', 'Programmiersprache']\n",
    "sortiert_nach_laenge = sorted(woerter, key=len, reverse=True)\n",
    "print(f\"sorted(): {sortiert_nach_laenge}\")"
   ]
  },
  {
   "cell_type": "markdown",
   "metadata": {},
   "source": [
    "Die Funktion `reduce()` wendet eine zweistellige Funktion kumulativ auf die Elemente eines iterierbaren Objekts an, um einen einzelnen, kumulativen Wert zu produzieren."
   ]
  },
  {
   "cell_type": "code",
   "execution_count": 21,
   "metadata": {},
   "outputs": [
    {
     "name": "stdout",
     "output_type": "stream",
     "text": [
      "reduce(): 120 \n"
     ]
    }
   ],
   "source": [
    "# reduce() - Reduziert eine Liste auf einen einzelnen Wert\n",
    "from functools import reduce\n",
    "\n",
    "# Alle Zahlen multiplizieren\n",
    "produkt = reduce(lambda x, y: x * y, zahlen)\n",
    "print(f\"reduce(): {produkt} \") # (((1*2)*3)*4)*5\n"
   ]
  },
  {
   "cell_type": "code",
   "execution_count": 22,
   "metadata": {},
   "outputs": [
    {
     "name": "stdout",
     "output_type": "stream",
     "text": [
      "reduce(): Python ist cool\n"
     ]
    }
   ],
   "source": [
    "# Strings verketten\n",
    "woerter = ['Python', 'ist', 'cool']\n",
    "satz = reduce(lambda x, y: x + ' ' + y, woerter)\n",
    "\n",
    "print(f\"reduce(): {satz}\")"
   ]
  },
  {
   "cell_type": "code",
   "execution_count": null,
   "metadata": {},
   "outputs": [
    {
     "data": {
      "text/plain": [
       "'Python ist cool'"
      ]
     },
     "execution_count": 23,
     "metadata": {},
     "output_type": "execute_result"
    }
   ],
   "source": [
    "# Einfachere Lösung\n",
    "\" \".join(['Python', 'ist', 'cool'])"
   ]
  },
  {
   "cell_type": "markdown",
   "metadata": {},
   "source": [
    "## Übungsaufgaben\n",
    "\n",
    "1. Schreibe eine Funktion, die eine beliebige Anzahl von Zahlen akzeptiert und deren Durchschnitt berechnet.\n",
    "2. Erstelle eine Funktion höherer Ordnung, die eine Funktion und eine Liste als Parameter nimmt und die Funktion nur auf die geraden Zahlen der Liste anwendet.\n",
    "3. Verwende `map()`, `filter()` und `reduce()` in Kombination, um aus einer Liste von Zahlen die Summe aller Quadrate der geraden Zahlen zu berechnen."
   ]
  }
 ],
 "metadata": {
  "kernelspec": {
   "display_name": "base",
   "language": "python",
   "name": "python3"
  },
  "language_info": {
   "codemirror_mode": {
    "name": "ipython",
    "version": 3
   },
   "file_extension": ".py",
   "mimetype": "text/x-python",
   "name": "python",
   "nbconvert_exporter": "python",
   "pygments_lexer": "ipython3",
   "version": "3.11.7"
  }
 },
 "nbformat": 4,
 "nbformat_minor": 2
}
