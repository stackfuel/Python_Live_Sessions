{
 "cells": [
  {
   "cell_type": "code",
   "execution_count": null,
   "metadata": {},
   "outputs": [
    {
     "name": "stdout",
     "output_type": "stream",
     "text": [
      "0.0009987354278564453\n"
     ]
    },
    {
     "data": {
      "text/plain": [
       "12586269025"
      ]
     },
     "execution_count": 67,
     "metadata": {},
     "output_type": "execute_result"
    }
   ],
   "source": [
    "import time\n",
    "\n",
    "from functools import wraps\n",
    "from functools import lru_cache\n",
    "\n",
    "\n",
    "def time_tracker(func):\n",
    "    \n",
    "    @wraps(func)\n",
    "    def wrap(*args, **kwargs):\n",
    "        start = time.time()\n",
    "        \n",
    "        result = func(*args, **kwargs)\n",
    "        \n",
    "        end = time.time()\n",
    "        print(end - start)\n",
    "        \n",
    "        return result\n",
    "    \n",
    "    return wrap\n",
    "\n",
    "\n",
    "@lru_cache\n",
    "def fib_rec(n):\n",
    "    if n in (0, 1):\n",
    "        return n\n",
    "    return fib_rec(n-1) + fib_rec(n-2)\n",
    "\n",
    "@time_tracker\n",
    "def fib_2(n):\n",
    "    \"\"\"Recursive function to return the nth Fibonacci number.\"\"\"\n",
    "    return fib_rec(n)\n",
    "\n",
    "@time_tracker\n",
    "def fib_1(n):\n",
    "    \"\"\"Iterative function to return the nth Fibonacci number.\"\"\"\n",
    "    if n in (0, 1):\n",
    "        return n\n",
    "    a, b = 0, 1\n",
    "    \n",
    "    for _ in range(0, n-1):\n",
    "        a, b = b, a+b\n",
    "    return b\n",
    "\n",
    "print(fib_1(30))\n",
    "\n",
    "print(fib_2(50))\n"
   ]
  },
  {
   "cell_type": "code",
   "execution_count": 42,
   "metadata": {},
   "outputs": [
    {
     "name": "stdout",
     "output_type": "stream",
     "text": [
      "a\n",
      "b\n",
      "12\n"
     ]
    }
   ],
   "source": [
    "def test(*args):\n",
    "    \n",
    "    for element in args:\n",
    "        print(element)\n",
    "    \n",
    "    \n",
    "test(\"a\", \"b\", 12)"
   ]
  },
  {
   "cell_type": "code",
   "execution_count": 47,
   "metadata": {},
   "outputs": [
    {
     "name": "stdout",
     "output_type": "stream",
     "text": [
      "a, b, 12\n"
     ]
    }
   ],
   "source": [
    "print(\"a\", \"b\", 12, sep=\", \")"
   ]
  }
 ],
 "metadata": {
  "kernelspec": {
   "display_name": "stackfuel",
   "language": "python",
   "name": "python3"
  },
  "language_info": {
   "codemirror_mode": {
    "name": "ipython",
    "version": 3
   },
   "file_extension": ".py",
   "mimetype": "text/x-python",
   "name": "python",
   "nbconvert_exporter": "python",
   "pygments_lexer": "ipython3",
   "version": "3.12.2"
  }
 },
 "nbformat": 4,
 "nbformat_minor": 2
}
