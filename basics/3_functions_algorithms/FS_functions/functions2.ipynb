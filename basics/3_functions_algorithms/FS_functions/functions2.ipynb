{
 "cells": [
  {
   "cell_type": "code",
   "execution_count": null,
   "metadata": {},
   "outputs": [
    {
     "name": "stdout",
     "output_type": "stream",
     "text": [
      "Function 'example_function' executed in 2.0008 seconds\n"
     ]
    },
    {
     "data": {
      "text/plain": [
       "'Function complete!'"
      ]
     },
     "execution_count": 2,
     "metadata": {},
     "output_type": "execute_result"
    }
   ],
   "source": [
    "import time\n",
    "import functools\n",
    "\n",
    "def timer_log(func):\n",
    "    \"\"\"Decorator that logs the execution time of a function.\"\"\"\n",
    "    \n",
    "    @functools.wraps(func)\n",
    "    def wrapper_timer_log(*args, **kwargs):\n",
    "        start_time = time.time()  # Record the start time\n",
    "        result = func(*args, **kwargs)  # Execute the function\n",
    "        end_time = time.time()  # Record the end time\n",
    "        execution_time = end_time - start_time  # Calculate the duration\n",
    "        print(f\"Function '{func.__name__}' executed in {execution_time:.4f} seconds\")\n",
    "        return result  # Return the result of the function\n",
    "    \n",
    "    return wrapper_timer_log\n",
    "\n",
    "# Example usage:\n",
    "\n",
    "@timer_log\n",
    "def example_function(seconds):\n",
    "    \"\"\"Function that sleeps for a given number of seconds.\"\"\"\n",
    "    time.sleep(seconds)\n",
    "    return \"Function complete!\"\n",
    "\n",
    "# Call the decorated function\n",
    "example_function(2)\n"
   ]
  },
  {
   "cell_type": "code",
   "execution_count": 15,
   "metadata": {},
   "outputs": [
    {
     "name": "stdout",
     "output_type": "stream",
     "text": [
      "Function 'fibonacci_2' executed in 0.0000 seconds\n",
      "514229\n"
     ]
    }
   ],
   "source": [
    "from functools import lru_cache\n",
    "\n",
    "@lru_cache\n",
    "def fibonacci_recursive(n):\n",
    "    \"\"\"Recursive function to return the nth Fibonacci number.\"\"\"\n",
    "    if n <= 0:\n",
    "        raise ValueError(\"Input should be a positive integer.\")\n",
    "    elif n == 1:\n",
    "        return 0\n",
    "    elif n == 2:\n",
    "        return 1\n",
    "    else:\n",
    "        return fibonacci_recursive(n - 1) + fibonacci_recursive(n - 2)\n",
    "\n",
    "\n",
    "@timer_log\n",
    "def fibonacci_2(n):\n",
    "    return fibonacci_recursive(n)\n",
    "\n",
    "\n",
    "# Example usage\n",
    "print(fibonacci_2(30))  # Output: 34\n"
   ]
  },
  {
   "cell_type": "code",
   "execution_count": 11,
   "metadata": {},
   "outputs": [
    {
     "name": "stdout",
     "output_type": "stream",
     "text": [
      "Function 'fibonacci_iterative' executed in 0.0000 seconds\n",
      "514229\n"
     ]
    }
   ],
   "source": [
    "@timer_log\n",
    "def fibonacci_iterative(n):\n",
    "    \"\"\"Iterative function to return the nth Fibonacci number.\"\"\"\n",
    "    if n <= 0:\n",
    "        raise ValueError(\"Input should be a positive integer.\")\n",
    "    elif n == 1:\n",
    "        return 0\n",
    "    elif n == 2:\n",
    "        return 1\n",
    "\n",
    "    a, b = 0, 1\n",
    "    for _ in range(2, n):\n",
    "        a, b = b, a + b\n",
    "    return b\n",
    "\n",
    "# Example usage\n",
    "print(fibonacci_iterative(30))  # Output: 34\n"
   ]
  },
  {
   "cell_type": "code",
   "execution_count": 18,
   "metadata": {},
   "outputs": [
    {
     "name": "stdout",
     "output_type": "stream",
     "text": [
      "Function 'fibonacci_iterative' executed in 0.0000 seconds\n",
      "Function 'fibonacci_iterative' executed in 0.0000 seconds\n",
      "Function 'fibonacci_iterative' executed in 0.0000 seconds\n",
      "Function 'fibonacci_iterative' executed in 0.0000 seconds\n",
      "Function 'fibonacci_iterative' executed in 0.0000 seconds\n",
      "Function 'fibonacci_iterative' executed in 0.0000 seconds\n",
      "Function 'fibonacci_iterative' executed in 0.0000 seconds\n",
      "Function 'fibonacci_iterative' executed in 0.0000 seconds\n",
      "Function 'fibonacci_iterative' executed in 0.0000 seconds\n"
     ]
    },
    {
     "data": {
      "text/plain": [
       "[(1, 0), (2, 1), (3, 1), (4, 2), (5, 3), (6, 5), (7, 8), (8, 13), (9, 21)]"
      ]
     },
     "execution_count": 18,
     "metadata": {},
     "output_type": "execute_result"
    }
   ],
   "source": [
    "[(n, fibonacci_iterative(n)) for n in range(1, 10)]"
   ]
  }
 ],
 "metadata": {
  "kernelspec": {
   "display_name": "stackfuel",
   "language": "python",
   "name": "python3"
  },
  "language_info": {
   "codemirror_mode": {
    "name": "ipython",
    "version": 3
   },
   "file_extension": ".py",
   "mimetype": "text/x-python",
   "name": "python",
   "nbconvert_exporter": "python",
   "pygments_lexer": "ipython3",
   "version": "3.12.2"
  }
 },
 "nbformat": 4,
 "nbformat_minor": 2
}
