{
 "cells": [
  {
   "cell_type": "code",
   "execution_count": 32,
   "metadata": {},
   "outputs": [
    {
     "name": "stdout",
     "output_type": "stream",
     "text": [
      "29 ist eine Primzahl :)\n"
     ]
    }
   ],
   "source": [
    "x = 29\n",
    "\n",
    "\n",
    "teiler = 2\n",
    "while teiler < x:\n",
    "    if x % teiler == 0:\n",
    "        print(f\"{x} ist keine Primzahl! Sie ist Teilbar durch {teiler}.\")\n",
    "        break\n",
    "    teiler = teiler + 1\n",
    "else:\n",
    "    print(f\"{x} ist eine Primzahl :)\")\n"
   ]
  },
  {
   "cell_type": "code",
   "execution_count": 38,
   "metadata": {},
   "outputs": [
    {
     "name": "stdout",
     "output_type": "stream",
     "text": [
      "H\n",
      "a\n",
      "l\n",
      "l\n",
      "o\n",
      " \n",
      "W\n",
      "e\n",
      "l\n",
      "t\n",
      "You have reached the last element.\n",
      "0\n",
      "1\n",
      "2\n",
      "3\n",
      "4\n",
      "You have reached the last element.\n"
     ]
    }
   ],
   "source": [
    "l = [1, 2, 3, 4]\n",
    "t = (\"Hallo\", \"Welt\")\n",
    "r = range(5)\n",
    "d = {\"a\": 5, \"b\": 7}\n",
    "s = {5, 7, 2, 9}\n",
    "st = \"Hallo Welt\"\n",
    "\n",
    "\n",
    "\n",
    "it = iter(st)\n",
    "while True:\n",
    "    try:\n",
    "        element = next(it)\n",
    "    except StopIteration:\n",
    "        print(\"You have reached the last element.\")\n",
    "        break\n",
    "    \n",
    "    print(element)\n",
    "\n",
    "# same as\n",
    "for element in r:\n",
    "    print(element)\n",
    "else:\n",
    "    print(\"You have reached the last element.\")\n"
   ]
  },
  {
   "cell_type": "code",
   "execution_count": 20,
   "metadata": {},
   "outputs": [
    {
     "name": "stdout",
     "output_type": "stream",
     "text": [
      "1\n",
      "2\n",
      "3\n",
      "4\n"
     ]
    }
   ],
   "source": [
    "l = [1, 2, 3, 4]\n",
    "\n",
    "it = iter(l)\n",
    "\n",
    "try:\n",
    "    while (element := next(it)):\n",
    "        print(element)\n",
    "except StopIteration:\n",
    "    pass"
   ]
  },
  {
   "cell_type": "code",
   "execution_count": 47,
   "metadata": {},
   "outputs": [
    {
     "name": "stdout",
     "output_type": "stream",
     "text": [
      "juhu\n",
      "juhu\n",
      "juhu\n",
      "juhu\n",
      "juhu\n"
     ]
    }
   ],
   "source": [
    "a = 5\n",
    "\n",
    "while a < 12:\n",
    "    print(\"juhu\")\n",
    "    a = a+1\n",
    "    if a == 10:\n",
    "        break\n"
   ]
  },
  {
   "cell_type": "code",
   "execution_count": 66,
   "metadata": {},
   "outputs": [],
   "source": [
    "l = [1, 2, 3, 4, 5, 6, 7]\n",
    "t = (5, 6, 7)\n",
    "s = {9, 2, 5, 5}\n",
    "st = \"Hallo Welt!\"\n",
    "\n",
    "\n"
   ]
  },
  {
   "cell_type": "code",
   "execution_count": 79,
   "metadata": {},
   "outputs": [
    {
     "ename": "TypeError",
     "evalue": "'set' object is not subscriptable",
     "output_type": "error",
     "traceback": [
      "\u001b[1;31m---------------------------------------------------------------------------\u001b[0m",
      "\u001b[1;31mTypeError\u001b[0m                                 Traceback (most recent call last)",
      "Cell \u001b[1;32mIn[79], line 1\u001b[0m\n\u001b[1;32m----> 1\u001b[0m s[::\u001b[38;5;241m-\u001b[39m\u001b[38;5;241m1\u001b[39m]\n",
      "\u001b[1;31mTypeError\u001b[0m: 'set' object is not subscriptable"
     ]
    }
   ],
   "source": [
    "s[::-1]"
   ]
  },
  {
   "cell_type": "code",
   "execution_count": 61,
   "metadata": {},
   "outputs": [
    {
     "name": "stdout",
     "output_type": "stream",
     "text": [
      "9\n",
      "2\n",
      "5\n"
     ]
    }
   ],
   "source": [
    "itterator = iter(s)\n",
    "\n",
    "while True:\n",
    "    try:\n",
    "        element = next(itterator)\n",
    "    except StopIteration:\n",
    "        break\n",
    "    \n",
    "    print(element)"
   ]
  },
  {
   "cell_type": "code",
   "execution_count": 83,
   "metadata": {},
   "outputs": [
    {
     "data": {
      "text/plain": [
       "2"
      ]
     },
     "execution_count": 83,
     "metadata": {},
     "output_type": "execute_result"
    }
   ],
   "source": [
    "it = iter(range(10))\n",
    "\n",
    "next(it)\n",
    "next(it)\n",
    "next(it)\n",
    "\n"
   ]
  },
  {
   "cell_type": "code",
   "execution_count": 90,
   "metadata": {},
   "outputs": [
    {
     "name": "stdout",
     "output_type": "stream",
     "text": [
      "0\n",
      "3\n",
      "6\n",
      "9\n",
      "12\n",
      "15\n",
      "18\n"
     ]
    }
   ],
   "source": [
    "for element in range(0, 20, 3):\n",
    "    print(element)\n"
   ]
  },
  {
   "cell_type": "code",
   "execution_count": 96,
   "metadata": {},
   "outputs": [
    {
     "name": "stdout",
     "output_type": "stream",
     "text": [
      "a 1\n",
      "b 2\n",
      "c 3\n",
      "d 4\n",
      "\n",
      "a 1\n",
      "b 2\n",
      "c 3\n",
      "d 4\n"
     ]
    }
   ],
   "source": [
    "# Zwei objekte simultan durchlaufen\n",
    "\n",
    "l1 = list(\"abcd\")\n",
    "l2 = [1, 2, 3, 4, 5, 6]\n",
    "\n",
    "for i in range(len(l1)):\n",
    "    print(l1[i], l2[i])\n",
    "    \n",
    "print()\n",
    "# besser\n",
    "for e1, e2 in zip(l1, l2):\n",
    "    print(e1, e2)"
   ]
  },
  {
   "cell_type": "code",
   "execution_count": 92,
   "metadata": {},
   "outputs": [
    {
     "name": "stdout",
     "output_type": "stream",
     "text": [
      "H\n",
      "a\n",
      "l\n",
      "l\n",
      "o\n",
      "H\n",
      "a\n",
      "l\n",
      "l\n",
      "o\n",
      "0 H\n",
      "1 a\n",
      "2 l\n",
      "3 l\n",
      "4 o\n"
     ]
    }
   ],
   "source": [
    "# typische \"Fehler\" bei for schleifen\n",
    "\n",
    "st = \"Hallo\"\n",
    "for i in range(len(st)):\n",
    "    print(st[i])\n",
    "    \n",
    "#besser\n",
    "for c in st:\n",
    "    print(c)\n",
    "    \n",
    "    \n",
    "# und wenn wir den Index brauchen?\n",
    "\n",
    "for i, c in enumerate(st):\n",
    "    print(i, c)"
   ]
  }
 ],
 "metadata": {
  "kernelspec": {
   "display_name": "stackfuel",
   "language": "python",
   "name": "python3"
  },
  "language_info": {
   "codemirror_mode": {
    "name": "ipython",
    "version": 3
   },
   "file_extension": ".py",
   "mimetype": "text/x-python",
   "name": "python",
   "nbconvert_exporter": "python",
   "pygments_lexer": "ipython3",
   "version": "3.12.2"
  }
 },
 "nbformat": 4,
 "nbformat_minor": 2
}
