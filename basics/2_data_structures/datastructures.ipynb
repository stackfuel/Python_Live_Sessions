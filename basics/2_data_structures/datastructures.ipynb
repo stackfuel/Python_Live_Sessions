{
 "cells": [
  {
   "cell_type": "markdown",
   "id": "d0ce4b1f",
   "metadata": {},
   "source": [
    "# Python Datenstrukturen: Listen, Tupel, Mengen und Dictionaries\n",
    "\n",
    "In Python werden Datenstrukturen verwendet, um Sammlungen von Daten zu speichern, auf die auf vielfältige Weise zugegriffen und manipuliert werden kann. Die eingebauten Datenstrukturen in Python umfassen **Listen**, **Tupel**, **Mengen** und **Dictionaries**. Jede dieser Datenstrukturen hat einzigartige Eigenschaften und Verwendungszwecke.\n",
    "\n",
    "In dieser Lektion werden wir diese Datenstrukturen erkunden, ihre Eigenschaften verstehen und lernen, wie man sie effektiv in der Python-Programmierung einsetzt.\n",
    "\n",
    "**Überblick:**\n",
    "\n",
    "- Einführung in grundlegende Datentypen\n",
    "- Verständnis von Tupeln\n",
    "- Arbeiten mit Listen\n",
    "- Erkundung von Mengen\n",
    "- Verwendung von Dictionaries\n",
    "- Zusammenfassung"
   ]
  },
  {
   "cell_type": "markdown",
   "id": "b0a32cb6",
   "metadata": {},
   "source": [
    "## Grundlegende Datentypen in Python\n",
    "\n",
    "Bevor wir uns mit komplexen Datenstrukturen befassen, lassen Sie uns kurz einige der grundlegenden Datentypen in Python überprüfen:\n",
    "\n",
    "- **Boolean**: Repräsentiert `True` oder `False`.\n",
    "- **Integer**: Ganze Zahlen, positiv oder negativ, ohne Dezimalstellen.\n",
    "- **Float**: Zahlen mit Dezimalstellen.\n",
    "- **String**: Geordnete Sequenz von Zeichen, eingeschlossen in einfache, doppelte oder dreifache Anführungszeichen.\n",
    "- **None**: Repräsentiert das Fehlen eines Wertes."
   ]
  },
  {
   "cell_type": "code",
   "execution_count": null,
   "id": "d9dbd48c",
   "metadata": {},
   "outputs": [],
   "source": [
    "# Beispiele für grundlegende Datentypen\n",
    "boolesche_variable = True                # Boolean\n",
    "integer_variable = 42                    # Integer\n",
    "float_variable = 3.14                    # Float\n",
    "string_variable = \"Hallo, Welt!\"         # String\n",
    "keine_variable = None                    # NoneType\n",
    "\n",
    "print(\"Boolean:\", boolesche_variable)\n",
    "print(\"Integer:\", integer_variable)\n",
    "print(\"Float:\", float_variable)\n",
    "print(\"String:\", string_variable)\n",
    "print(\"NoneType:\", keine_variable)"
   ]
  },
  {
   "cell_type": "markdown",
   "id": "75e8525e",
   "metadata": {},
   "source": [
    "## Tupel\n",
    "\n",
    "### Was ist ein Tupel?\n",
    "\n",
    "Ein **Tupel** ist eine **unveränderliche**, **geordnete** Sequenz von Elementen. Tupel werden verwendet, um mehrere Elemente in einer einzelnen Variablen zu speichern und werden durch Klammern `(` `)` definiert, wobei die Elemente durch Kommas `,` getrennt sind.\n",
    "\n",
    "**Eigenschaften von Tupeln:**\n",
    "\n",
    "- **Geordnet**: Elemente haben eine definierte Reihenfolge und können über Indizes angesprochen werden.\n",
    "- **Unveränderlich**: Elemente können nach der Erstellung des Tupels nicht geändert werden.\n",
    "- **Erlaubt Duplikate**: Tupel können doppelte Elemente enthalten.\n",
    "- **Kann gemischte Datentypen enthalten**: Elemente können unterschiedliche Datentypen haben.\n",
    "\n",
    "Tupel sind Listen ähnlich, aber der Hauptunterschied besteht darin, dass Tupel unveränderlich sind, während Listen veränderlich sind."
   ]
  },
  {
   "cell_type": "code",
   "execution_count": null,
   "id": "190467d0",
   "metadata": {},
   "outputs": [],
   "source": [
    "# Erstellen eines Tupels mit verschiedenen Datentypen\n",
    "mein_tupel = (boolesche_variable, integer_variable, float_variable, string_variable, keine_variable)\n",
    "print(\"Mein Tupel:\", mein_tupel)"
   ]
  },
  {
   "cell_type": "markdown",
   "id": "f1845e70",
   "metadata": {},
   "source": [
    "### Erstellen von Tupeln\n",
    "\n",
    "Tupel können auf verschiedene Weise erstellt werden:"
   ]
  },
  {
   "cell_type": "code",
   "execution_count": null,
   "id": "09e54158",
   "metadata": {},
   "outputs": [],
   "source": [
    "# Mit Klammern\n",
    "tupel1 = (1, 2, 3)\n",
    "print(\"Tupel1:\", tupel1)\n",
    "\n",
    "# Ohne Klammern (Tupel-Packing)\n",
    "tupel2 = 4, 5, 6\n",
    "print(\"Tupel2:\", tupel2)\n",
    "\n",
    "# Mit dem tuple()-Konstruktor\n",
    "tupel3 = tuple([7, 8, 9])\n",
    "print(\"Tupel3:\", tupel3)\n",
    "\n",
    "# Erstellen eines leeren Tupels\n",
    "leeres_tupel = ()\n",
    "print(\"Leeres Tupel:\", leeres_tupel)\n",
    "\n",
    "# Erstellen eines Einzel-Element-Tupels (beachten Sie das Komma)\n",
    "einzelnes_element_tupel = (42,)\n",
    "print(\"Einzelnes Element Tupel:\", einzelnes_element_tupel)"
   ]
  },
  {
   "cell_type": "markdown",
   "id": "4f15cf19",
   "metadata": {},
   "source": [
    "### Zugriff auf Tupel-Elemente\n",
    "\n",
    "Sie können auf Tupel-Elemente durch Indizierung und Slicing zugreifen, ähnlich wie bei Listen."
   ]
  },
  {
   "cell_type": "code",
   "execution_count": null,
   "id": "3ee5d157",
   "metadata": {},
   "outputs": [],
   "source": [
    "früchte = ('apfel', 'banane', 'kirsche', 'apfel', 'orange', 'banane', 'apfel')\n",
    "\n",
    "# Zugriff auf Elemente über den Index\n",
    "print(\"Erstes Element:\", früchte[0])\n",
    "print(\"Drittes Element:\", früchte[2])\n",
    "\n",
    "# Zugriff auf Elemente mit negativen Indizes\n",
    "print(\"Letztes Element:\", früchte[-1])\n",
    "print(\"Vorletztes Element:\", früchte[-2])\n",
    "\n",
    "# Tupel schneiden\n",
    "print(\"Elemente von Index 1 bis 3:\", früchte[1:4])\n",
    "print(\"Jedes zweite Element:\", früchte[::2])\n",
    "print(\"Umgekehrtes Tupel:\", früchte[::-1])"
   ]
  },
  {
   "cell_type": "markdown",
   "id": "1f203f43",
   "metadata": {},
   "source": [
    "### Tupel-Methoden\n",
    "\n",
    "Tupel haben nur zwei eingebaute Methoden:\n",
    "\n",
    "- **count()**: Gibt die Anzahl der Vorkommen eines bestimmten Wertes im Tupel zurück.\n",
    "- **index()**: Sucht im Tupel nach einem bestimmten Wert und gibt die Position des ersten Vorkommens zurück."
   ]
  },
  {
   "cell_type": "code",
   "execution_count": null,
   "id": "027ddddf",
   "metadata": {},
   "outputs": [],
   "source": [
    "# Verwendung von count()\n",
    "apfel_anzahl = früchte.count('apfel')\n",
    "print(\"Anzahl der 'apfel' Vorkommen:\", apfel_anzahl)\n",
    "\n",
    "# Verwendung von index()\n",
    "erste_banane_index = früchte.index('banane')\n",
    "print(\"Erstes Auftreten von 'banane' an Index:\", erste_banane_index)\n",
    "\n",
    "# Verwendung von index() mit Start- und Endparametern\n",
    "zweiter_apfel_index = früchte.index('apfel', erste_banane_index + 1)\n",
    "print(\"Zweites Auftreten von 'apfel' an Index:\", zweiter_apfel_index)"
   ]
  },
  {
   "cell_type": "markdown",
   "id": "5e252e50",
   "metadata": {},
   "source": [
    "### Unveränderlichkeit von Tupeln\n",
    "\n",
    "Tupel sind unveränderlich, was bedeutet, dass nach der Erstellung eines Tupels seine Elemente nicht geändert, hinzugefügt oder entfernt werden können. Der Versuch, ein Tupel zu ändern, führt zu einem `TypeError`."
   ]
  },
  {
   "cell_type": "code",
   "execution_count": null,
   "id": "25c6715e",
   "metadata": {},
   "outputs": [],
   "source": [
    "# Versuch, ein Tupel-Element zu ändern (dies führt zu einem Fehler)\n",
    "try:\n",
    "    früchte[0] = 'birne'\n",
    "except TypeError as e:\n",
    "    print(\"Fehler:\", e)"
   ]
  },
  {
   "cell_type": "markdown",
   "id": "2879158d",
   "metadata": {},
   "source": [
    "### Wann man Tupel verwendet\n",
    "\n",
    "Tupel sind nützlich, wenn Sie sicherstellen möchten, dass die Daten nicht geändert werden können. Sie werden oft verwendet, um feste Sammlungen von Elementen zu repräsentieren, wie Koordinaten, Datenbankeinträge oder beliebige Daten, die konstant bleiben sollen."
   ]
  },
  {
   "cell_type": "markdown",
   "id": "e17eb3f7",
   "metadata": {},
   "source": [
    "## Listen\n",
    "\n",
    "### Was ist eine Liste?\n",
    "\n",
    "Eine **Liste** ist eine **veränderliche**, **geordnete** Sequenz von Elementen. Listen sind einer der vielseitigsten Datentypen in Python und ermöglichen das Hinzufügen, Entfernen oder Ändern von Elementen.\n",
    "\n",
    "**Eigenschaften von Listen:**\n",
    "\n",
    "- **Geordnet**: Elemente haben eine definierte Reihenfolge und können über Indizes angesprochen werden.\n",
    "- **Veränderlich**: Elemente können nach der Erstellung der Liste geändert werden.\n",
    "- **Erlaubt Duplikate**: Listen können doppelte Elemente enthalten.\n",
    "- **Kann gemischte Datentypen enthalten**: Elemente können unterschiedliche Datentypen haben."
   ]
  },
  {
   "cell_type": "code",
   "execution_count": null,
   "id": "0056e53d",
   "metadata": {},
   "outputs": [],
   "source": [
    "# Erstellen einer Liste mit verschiedenen Datentypen\n",
    "meine_liste = [boolesche_variable, integer_variable, float_variable, string_variable, keine_variable]\n",
    "print(\"Meine Liste:\", meine_liste)"
   ]
  },
  {
   "cell_type": "markdown",
   "id": "5832210e",
   "metadata": {},
   "source": [
    "### Zugriff auf Listenelemente\n",
    "\n",
    "Ähnlich wie bei Tupeln können Sie auf Elemente in einer Liste mit Indizes und Slicing zugreifen."
   ]
  },
  {
   "cell_type": "code",
   "execution_count": null,
   "id": "7a929083",
   "metadata": {},
   "outputs": [],
   "source": [
    "namen = [\"Alice\", \"Bob\", \"Charlie\", \"Bob\", \"David\", \"Eve\"]\n",
    "\n",
    "# Zugriff auf Elemente über den Index\n",
    "print(\"Erster Name:\", namen[0])\n",
    "print(\"Dritter Name:\", namen[2])\n",
    "\n",
    "# Zugriff auf Elemente mit negativen Indizes\n",
    "print(\"Letzter Name:\", namen[-1])\n",
    "print(\"Vorletzter Name:\", namen[-2])\n",
    "\n",
    "# Listen schneiden\n",
    "print(\"Namen von Index 1 bis 3:\", namen[1:4])\n",
    "print(\"Jeder zweite Name:\", namen[::2])\n",
    "print(\"Umgekehrte Liste:\", namen[::-1])"
   ]
  },
  {
   "cell_type": "markdown",
   "id": "0e882190",
   "metadata": {},
   "source": [
    "### Listen modifizieren\n",
    "\n",
    "Listen sind veränderlich, was bedeutet, dass Sie sie nach der Erstellung ändern können."
   ]
  },
  {
   "cell_type": "code",
   "execution_count": null,
   "id": "98bb1005",
   "metadata": {},
   "outputs": [],
   "source": [
    "# Ändern eines Elements\n",
    "print(\"Ursprüngliche Liste:\", namen)\n",
    "namen[3] = \"Daniel\"\n",
    "print(\"Nach Änderung:\", namen)"
   ]
  },
  {
   "cell_type": "markdown",
   "id": "c29d34f7",
   "metadata": {},
   "source": [
    "### Listenmethoden\n",
    "\n",
    "Listen haben viele eingebaute Methoden, die es ermöglichen, sie zu manipulieren:\n",
    "\n",
    "- **append()**: Fügt ein Element am Ende der Liste hinzu.\n",
    "- **extend()**: Fügt alle Elemente eines Iterables am Ende der Liste hinzu.\n",
    "- **insert()**: Fügt ein Element an einer bestimmten Position ein.\n",
    "- **remove()**: Entfernt das erste Vorkommen eines bestimmten Elements.\n",
    "- **pop()**: Entfernt und gibt das Element an der angegebenen Position zurück.\n",
    "- **clear()**: Entfernt alle Elemente aus der Liste.\n",
    "- **index()**: Gibt den Index des ersten Vorkommens eines bestimmten Elements zurück.\n",
    "- **count()**: Gibt die Anzahl der Vorkommen eines bestimmten Elements zurück.\n",
    "- **sort()**: Sortiert die Liste.\n",
    "- **reverse()**: Kehrt die Reihenfolge der Liste um."
   ]
  },
  {
   "cell_type": "code",
   "execution_count": null,
   "id": "2cba480e",
   "metadata": {},
   "outputs": [],
   "source": [
    "# append()\n",
    "namen.append(\"Frank\")\n",
    "print(\"Nach append('Frank'):\", namen)\n",
    "\n",
    "# extend()\n",
    "namen.extend([\"Grace\", \"Henry\"])\n",
    "print(\"Nach extend(['Grace', 'Henry']):\", namen)\n",
    "\n",
    "# insert()\n",
    "namen.insert(2, \"Ivy\")\n",
    "print(\"Nach insert('Ivy') an Index 2:\", namen)\n",
    "\n",
    "# remove()\n",
    "namen.remove(\"Bob\")\n",
    "print(\"Nach remove('Bob'):\", namen)\n",
    "\n",
    "# pop()\n",
    "entfernter_name = namen.pop(3)\n",
    "print(\"Nach pop(3):\", namen)\n",
    "print(\"Entfernter Name:\", entfernter_name)\n",
    "\n",
    "# clear()\n",
    "namen.clear()\n",
    "print(\"Nach clear():\", namen)\n",
    "\n",
    "# Liste für weitere Beispiele neu befüllen\n",
    "namen = [\"Alice\", \"Bob\", \"Charlie\", \"David\", \"Eve\"]\n",
    "\n",
    "# index()\n",
    "index_von_charlie = namen.index(\"Charlie\")\n",
    "print(\"Index von 'Charlie':\", index_von_charlie)\n",
    "\n",
    "# count()\n",
    "anzahl_von_bob = namen.count(\"Bob\")\n",
    "print(\"Anzahl von 'Bob':\", anzahl_von_bob)\n",
    "\n",
    "# sort()\n",
    "zahlen = [3, 1, 4, 1, 5, 9, 2, 6]\n",
    "print(\"Ursprüngliche Zahlen:\", zahlen)\n",
    "zahlen.sort()\n",
    "print(\"Sortierte Zahlen:\", zahlen)\n",
    "\n",
    "# reverse()\n",
    "zahlen.reverse()\n",
    "print(\"Umgekehrte Zahlen:\", zahlen)"
   ]
  },
  {
   "cell_type": "markdown",
   "id": "fae42794",
   "metadata": {},
   "source": [
    "### Listenoperationen\n",
    "\n",
    "Listen unterstützen Operationen wie Verkettung und Wiederholung."
   ]
  },
  {
   "cell_type": "code",
   "execution_count": null,
   "id": "85c0331d",
   "metadata": {},
   "outputs": [],
   "source": [
    "# Verkettung mit +\n",
    "liste1 = [1, 2, 3]\n",
    "liste2 = [4, 5, 6]\n",
    "verkettete_liste = liste1 + liste2\n",
    "print(\"Verkettete Liste:\", verkettete_liste)\n",
    "\n",
    "# Wiederholung mit *\n",
    "wiederholte_liste = liste1 * 3\n",
    "print(\"Wiederholte Liste:\", wiederholte_liste)"
   ]
  },
  {
   "cell_type": "markdown",
   "id": "814c86f2",
   "metadata": {},
   "source": [
    "### Listen als Stapel und Warteschlangen\n",
    "\n",
    "Listen können verwendet werden, um Stapel (LIFO) und Warteschlangen (FIFO) zu implementieren."
   ]
  },
  {
   "cell_type": "code",
   "execution_count": null,
   "id": "d58415c8",
   "metadata": {},
   "outputs": [],
   "source": [
    "# Verwendung der Liste als Stapel\n",
    "stapel = []\n",
    "stapel.append(1)\n",
    "stapel.append(2)\n",
    "stapel.append(3)\n",
    "print(\"Stapel nach push:\", stapel)\n",
    "\n",
    "letztes_element = stapel.pop()\n",
    "print(\"Gepopptes Element:\", letztes_element)\n",
    "print(\"Stapel nach pop:\", stapel)\n"
   ]
  },
  {
   "cell_type": "code",
   "execution_count": null,
   "id": "0c7a43f6",
   "metadata": {},
   "outputs": [],
   "source": [
    "\n",
    "# Verwendung der Liste als Warteschlange (Hinweis: Für große Listen ineffizient)\n",
    "warteschlange = []\n",
    "warteschlange.append('a')\n",
    "warteschlange.append('b')\n",
    "warteschlange.append('c')\n",
    "print(\"Warteschlange nach enqueue:\", warteschlange)\n",
    "\n",
    "erstes_element = warteschlange.pop(0)\n",
    "print(\"Dequeued Element:\", erstes_element)\n",
    "print(\"Warteschlange nach dequeue:\", warteschlange)"
   ]
  },
  {
   "cell_type": "markdown",
   "id": "8813677d",
   "metadata": {},
   "source": [
    "## Mengen\n",
    "\n",
    "### Was ist eine Menge?\n",
    "\n",
    "Eine **Menge** ist eine **ungeordnete**, **veränderliche** Sammlung von **einzigartigen** Elementen. Mengen werden verwendet, um mehrere Elemente in einer einzelnen Variablen zu speichern und werden durch geschweifte Klammern `{}` definiert, wobei die Elemente durch Kommas `,` getrennt sind, oder durch Verwendung des `set()`-Konstruktors.\n",
    "\n",
    "**Eigenschaften von Mengen:**\n",
    "\n",
    "- **Ungeordnet**: Elemente haben keine definierte Reihenfolge.\n",
    "- **Veränderlich**: Elemente können nach der Erstellung der Menge hinzugefügt oder entfernt werden.\n",
    "- **Keine doppelten Elemente**: Jedes Element ist einzigartig.\n",
    "- **Elemente müssen unveränderlich sein**: Elemente müssen von unveränderlichen Datentypen sein."
   ]
  },
  {
   "cell_type": "code",
   "execution_count": null,
   "id": "d812849e",
   "metadata": {},
   "outputs": [],
   "source": [
    "# Erstellen einer Menge\n",
    "meine_menge = {1, 2, 3, 4, 5}\n",
    "print(\"Meine Menge:\", meine_menge)\n",
    "\n",
    "# Erstellen einer Menge mit gemischten Datentypen\n",
    "gemischte_menge = {\"Hallo\", 3.14, (1, 2, 3)}\n",
    "print(\"Gemischte Menge:\", gemischte_menge)\n",
    "\n",
    "# Erstellen einer leeren Menge (Hinweis: Verwenden Sie set(), nicht {})\n",
    "leere_menge = set()\n",
    "print(\"Leere Menge:\", leere_menge)"
   ]
  },
  {
   "cell_type": "markdown",
   "id": "f0db44af",
   "metadata": {},
   "source": [
    "### Zugriff auf Mengenelemente\n",
    "\n",
    "Da Mengen ungeordnet sind, können Sie nicht mit Indizes oder Slicing auf Elemente zugreifen. Sie können jedoch über eine Menge iterieren."
   ]
  },
  {
   "cell_type": "code",
   "execution_count": null,
   "id": "6e624f5c",
   "metadata": {},
   "outputs": [],
   "source": [
    "# Iterieren über eine Menge\n",
    "for element in meine_menge:\n",
    "    print(element)"
   ]
  },
  {
   "cell_type": "markdown",
   "id": "a21779e8",
   "metadata": {},
   "source": [
    "### Mengen modifizieren\n",
    "\n",
    "Sie können Elemente zu einer Menge hinzufügen und entfernen."
   ]
  },
  {
   "cell_type": "code",
   "execution_count": null,
   "id": "dbbbc9a6",
   "metadata": {},
   "outputs": [],
   "source": [
    "# Elemente hinzufügen\n",
    "meine_menge.add(6)\n",
    "print(\"Nach Hinzufügen von 6:\", meine_menge)\n",
    "\n",
    "# Elemente entfernen\n",
    "meine_menge.remove(3)\n",
    "print(\"Nach Entfernen von 3:\", meine_menge)\n",
    "\n",
    "# Element verwerfen (kein Fehler, wenn Element nicht existiert)\n",
    "meine_menge.discard(10)\n",
    "print(\"Nach discard(10) (nicht in der Menge):\", meine_menge)\n",
    "\n",
    "# Entfernen und Zurückgeben eines beliebigen Elements\n",
    "entferntes_element = meine_menge.pop()\n",
    "print(\"Entferntes Element:\", entferntes_element)\n",
    "print(\"Menge nach pop:\", meine_menge)\n",
    "\n",
    "# Alle Elemente entfernen\n",
    "meine_menge.clear()\n",
    "print(\"Menge nach clear:\", meine_menge)"
   ]
  },
  {
   "cell_type": "markdown",
   "id": "0e2feebe",
   "metadata": {},
   "source": [
    "### Mengenoperationen\n",
    "\n",
    "Mengen unterstützen mathematische Mengenoperationen wie Vereinigung, Schnittmenge, Differenz und symmetrische Differenz."
   ]
  },
  {
   "cell_type": "code",
   "execution_count": null,
   "id": "68466dd8",
   "metadata": {},
   "outputs": [],
   "source": [
    "# Definieren von Mengen\n",
    "menge_a = {1, 2, 3, 4, 5}\n",
    "menge_b = {4, 5, 6, 7, 8}\n",
    "\n",
    "print(\"Menge A:\", menge_a)\n",
    "print(\"Menge B:\", menge_b)\n",
    "\n",
    "# Vereinigung\n",
    "vereinigung = menge_a.union(menge_b)\n",
    "print(\"Vereinigung:\", vereinigung)\n",
    "\n",
    "# Schnittmenge\n",
    "schnittmenge = menge_a.intersection(menge_b)\n",
    "print(\"Schnittmenge:\", schnittmenge)\n",
    "\n",
    "# Differenz\n",
    "differenz = menge_a.difference(menge_b)\n",
    "print(\"Differenz (A - B):\", differenz)\n",
    "\n",
    "# Symmetrische Differenz\n",
    "symm_diff = menge_a.symmetric_difference(menge_b)\n",
    "print(\"Symmetrische Differenz:\", symm_diff)"
   ]
  },
  {
   "cell_type": "markdown",
   "id": "c8ba3965",
   "metadata": {},
   "source": [
    "### Mitgliedschaftstest in Mengen\n",
    "\n",
    "Das Überprüfen, ob ein Element in einer Menge enthalten ist, ist sehr effizient."
   ]
  },
  {
   "cell_type": "code",
   "execution_count": null,
   "id": "28757c59",
   "metadata": {},
   "outputs": [],
   "source": [
    "# Mitgliedschaftstest\n",
    "print(\"Ist 3 in menge_a?\", 3 in menge_a)\n",
    "print(\"Ist 6 in menge_a?\", 6 in menge_a)"
   ]
  },
  {
   "cell_type": "markdown",
   "id": "3d71dccb",
   "metadata": {},
   "source": [
    "## Dictionaries\n",
    "\n",
    "### Was ist ein Dictionary?\n",
    "\n",
    "Ein **Dictionary** ist eine **ungeordnete**, **veränderliche** Sammlung von **Schlüssel-Wert-Paaren**. Dictionaries sind für das Abrufen von Werten optimiert, wenn der Schlüssel bekannt ist.\n",
    "\n",
    "**Eigenschaften von Dictionaries:**\n",
    "\n",
    "- **Ungeordnet** (Python 3.7+ behält die Einfügereihenfolge bei)\n",
    "- **Schlüssel sind einzigartig** und müssen unveränderliche Typen sein (wie Strings, Zahlen oder Tupel).\n",
    "- **Werte** können jeglichen Typ haben und können dupliziert werden."
   ]
  },
  {
   "cell_type": "code",
   "execution_count": null,
   "id": "c2cd31f6",
   "metadata": {},
   "outputs": [],
   "source": [
    "# Erstellen eines Dictionaries\n",
    "mein_dict = {\n",
    "    \"name\": \"Alice\",\n",
    "    \"alter\": 30,\n",
    "    \"stadt\": \"Wunderland\"\n",
    "}\n",
    "print(\"Mein Dictionary:\", mein_dict)\n",
    "\n",
    "# Verwendung des dict()-Konstruktors\n",
    "anders_dict = dict([('name', 'Bob'), ('alter', 25)])\n",
    "print(\"Anderes Dictionary:\", anders_dict)\n",
    "\n",
    "# Leeres Dictionary\n",
    "leeres_dict = {}\n",
    "print(\"Leeres Dictionary:\", leeres_dict)"
   ]
  },
  {
   "cell_type": "markdown",
   "id": "88ccc952",
   "metadata": {},
   "source": [
    "### Zugriff auf Dictionary-Elemente\n",
    "\n",
    "Sie können auf Dictionary-Elemente über Schlüssel zugreifen, sie hinzufügen und ändern."
   ]
  },
  {
   "cell_type": "code",
   "execution_count": null,
   "id": "a0a2549e",
   "metadata": {},
   "outputs": [],
   "source": [
    "# Werte abrufen\n",
    "name = mein_dict[\"name\"]\n",
    "print(\"Name:\", name)\n",
    "\n",
    "# Werte ändern\n",
    "mein_dict[\"alter\"] = 31\n",
    "print(\"Aktualisiertes Dictionary:\", mein_dict)\n",
    "\n",
    "# Neue Schlüssel-Wert-Paare hinzufügen\n",
    "mein_dict[\"beruf\"] = \"Abenteurer\"\n",
    "print(\"Nach Hinzufügen von 'beruf':\", mein_dict)"
   ]
  },
  {
   "cell_type": "markdown",
   "id": "9c703fd7",
   "metadata": {},
   "source": [
    "### Dictionary-Methoden\n",
    "\n",
    "Einige nützliche Methoden für Dictionaries sind:\n",
    "\n",
    "- **get()**: Gibt den Wert für den angegebenen Schlüssel zurück, falls vorhanden.\n",
    "- **keys()**: Gibt ein View-Objekt aller Schlüssel zurück.\n",
    "- **values()**: Gibt ein View-Objekt aller Werte zurück.\n",
    "- **items()**: Gibt ein View-Objekt aller Schlüssel-Wert-Paare (als Tupel) zurück.\n",
    "- **pop()**: Entfernt den angegebenen Schlüssel und gibt den entsprechenden Wert zurück.\n",
    "- **popitem()**: Entfernt und gibt das zuletzt eingefügte Schlüssel-Wert-Paar zurück.\n",
    "- **update()**: Aktualisiert das Dictionary mit Elementen aus einem anderen Dictionary oder Iterable von Schlüssel-Wert-Paaren.\n",
    "- **clear()**: Entfernt alle Elemente aus dem Dictionary."
   ]
  },
  {
   "cell_type": "code",
   "execution_count": null,
   "id": "4c6e6f9a",
   "metadata": {},
   "outputs": [],
   "source": [
    "# get()\n",
    "stadt = mein_dict.get(\"stadt\")\n",
    "print(\"Stadt:\", stadt)\n",
    "\n",
    "# get() mit Standardwert\n",
    "land = mein_dict.get(\"land\", \"Unbekannt\")\n",
    "print(\"Land:\", land)\n",
    "\n",
    "# keys()\n",
    "schlüssel = mein_dict.keys()\n",
    "print(\"Schlüssel:\", schlüssel)\n",
    "\n",
    "# values()\n",
    "werte = mein_dict.values()\n",
    "print(\"Werte:\", werte)\n",
    "\n",
    "# items()\n",
    "paare = mein_dict.items()\n",
    "print(\"Schlüssel-Wert-Paare:\", paare)\n",
    "\n",
    "# pop()\n",
    "beruf = mein_dict.pop(\"beruf\")\n",
    "print(\"Entfernter Beruf:\", beruf)\n",
    "print(\"Dictionary nach pop:\", mein_dict)\n",
    "\n",
    "# popitem()\n",
    "letztes_paar = mein_dict.popitem()\n",
    "print(\"Zuletzt entferntes Paar:\", letztes_paar)\n",
    "print(\"Dictionary nach popitem:\", mein_dict)\n",
    "\n",
    "# update()\n",
    "mein_dict.update({\"alter\": 32, \"land\": \"Wunderland\"})\n",
    "print(\"Dictionary nach update:\", mein_dict)\n",
    "\n",
    "# clear()\n",
    "mein_dict.clear()\n",
    "print(\"Dictionary nach clear:\", mein_dict)"
   ]
  },
  {
   "cell_type": "markdown",
   "id": "7d20dcd7",
   "metadata": {},
   "source": [
    "### Iterieren über Dictionaries"
   ]
  },
  {
   "cell_type": "code",
   "execution_count": null,
   "id": "c6bc991c",
   "metadata": {},
   "outputs": [],
   "source": [
    "# Dictionary neu befüllen\n",
    "mein_dict = {\n",
    "    \"name\": \"Alice\",\n",
    "    \"alter\": 32,\n",
    "    \"stadt\": \"Wunderland\",\n",
    "    \"land\": \"Wunderland\"\n",
    "}\n",
    "\n",
    "# Über Schlüssel iterieren\n",
    "print(\"Schlüssel:\")\n",
    "for schlüssel in mein_dict:\n",
    "    print(schlüssel)\n",
    "\n",
    "# Über Werte iterieren\n",
    "print(\"\\nWerte:\")\n",
    "for wert in mein_dict.values():\n",
    "    print(wert)\n",
    "\n",
    "# Über Schlüssel-Wert-Paare iterieren\n",
    "print(\"\\nSchlüssel-Wert-Paare:\")\n",
    "for schlüssel, wert in mein_dict.items():\n",
    "    print(f\"{schlüssel}: {wert}\")"
   ]
  },
  {
   "cell_type": "markdown",
   "id": "868dc0f9",
   "metadata": {},
   "source": [
    "### Verschachtelte Dictionaries\n",
    "\n",
    "Dictionaries können andere Dictionaries enthalten, was es ermöglicht, verschachtelte Datenstrukturen zu erstellen."
   ]
  },
  {
   "cell_type": "code",
   "execution_count": null,
   "id": "5b511445",
   "metadata": {},
   "outputs": [],
   "source": [
    "# Erstellen eines verschachtelten Dictionaries\n",
    "verschachteltes_dict = {\n",
    "    \"kind1\": {\"name\": \"Emily\", \"alter\": 5},\n",
    "    \"kind2\": {\"name\": \"Daniel\", \"alter\": 3}\n",
    "}\n",
    "print(\"Verschachteltes Dictionary:\", verschachteltes_dict)\n",
    "\n",
    "# Zugriff auf Elemente im verschachtelten Dictionary\n",
    "name_von_kind1 = verschachteltes_dict[\"kind1\"][\"name\"]\n",
    "print(\"Name von Kind1:\", name_von_kind1)"
   ]
  },
  {
   "cell_type": "markdown",
   "id": "8efbc237",
   "metadata": {},
   "source": [
    "## Zusammenfassung\n",
    "\n",
    "In dieser Lektion haben wir die grundlegenden Datenstrukturen in Python erkundet:\n",
    "\n",
    "- **Tupel**: Unveränderliche, geordnete Sequenzen von Elementen.\n",
    "- **Listen**: Veränderliche, geordnete Sequenzen von Elementen.\n",
    "- **Mengen**: Veränderliche, ungeordnete Sammlungen von einzigartigen Elementen.\n",
    "- **Dictionaries**: Veränderliche, ungeordnete Sammlungen von Schlüssel-Wert-Paaren.\n",
    "\n",
    "Das Verständnis dieser Datenstrukturen ist entscheidend für effektive Python-Programmierung, da sie es ermöglichen, Daten effizient zu speichern und zu manipulieren. Jede Datenstruktur hat ihre eigenen Anwendungsfälle und Vorteile, abhängig von den Anforderungen Ihres Programms.\n",
    "\n",
    "**Wesentliche Erkenntnisse:**\n",
    "\n",
    "- Verwenden Sie **Tupel**, wenn Sie eine unveränderliche Sequenz von Elementen benötigen.\n",
    "- Verwenden Sie **Listen**, wenn Sie eine veränderliche Sequenz benötigen, in der Elemente hinzugefügt, entfernt oder geändert werden können.\n",
    "- Verwenden Sie **Mengen**, wenn Sie einzigartige Elemente speichern und Mengenoperationen durchführen müssen.\n",
    "- Verwenden Sie **Dictionaries**, wenn Sie Schlüssel mit Werten für effizientes Nachschlagen und Manipulieren verknüpfen müssen."
   ]
  }
 ],
 "metadata": {
  "kernelspec": {
   "display_name": ".venv",
   "language": "python",
   "name": "python3"
  },
  "language_info": {
   "codemirror_mode": {
    "name": "ipython",
    "version": 3
   },
   "file_extension": ".py",
   "mimetype": "text/x-python",
   "name": "python",
   "nbconvert_exporter": "python",
   "pygments_lexer": "ipython3",
   "version": "3.12.4"
  }
 },
 "nbformat": 4,
 "nbformat_minor": 5
}
