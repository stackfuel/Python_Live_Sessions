{
 "cells": [
  {
   "cell_type": "markdown",
   "id": "3ffa4afc",
   "metadata": {},
   "source": [
    "# Iteratoren, Generatoren und Lazy Evaluation\n",
    "\n",
    "In Python sind einige Datentypen **iterierbar**, was bedeutet, dass sie durchlaufen werden können, zum Beispiel in einer For-Schleife. Zu diesen iterierbaren Objekten gehören Listen, Tupel, Strings und auch spezielle Objekte wie `range`. Auf den ersten Blick verhalten sich eine Liste und ein `range`-Objekt sehr ähnlich, aber es gibt einen wichtigen Unterschied:\n",
    "\n",
    "- **Liste**: Enthält alle Elemente und speichert sie im Speicher.\n",
    "- **`range`-Objekt**: Enthält nicht alle Elemente direkt, sondern erzeugt sie bei Bedarf.\n",
    "\n",
    "Dieser Unterschied hat Auswirkungen auf den Speicherbedarf und die Effizienz von Programmen, besonders bei der Arbeit mit großen Datenmengen. In dieser Lektion werden wir uns mit den Konzepten von **Iteratoren**, **Generatoren** und **Lazy Evaluation** beschäftigen und lernen, wie sie uns dabei helfen können, effizientere Programme zu schreiben."
   ]
  },
  {
   "cell_type": "markdown",
   "id": "1598af25",
   "metadata": {},
   "source": [
    "## Listen und `range`-Objekte im Vergleich\n",
    "\n",
    "Beginnen wir mit einem einfachen Beispiel, um den Unterschied zwischen Listen und `range`-Objekten zu verstehen."
   ]
  },
  {
   "cell_type": "code",
   "execution_count": null,
   "id": "4cc88783",
   "metadata": {},
   "outputs": [],
   "source": [
    "# Funktion, um den Speicherplatzbedarf einer Variable zu ermitteln\n",
    "from sys import getsizeof\n",
    "\n",
    "# Erstellen einer Liste und eines range-Objekts\n",
    "l = [0, 1, 2, 3, 4, 5, 6, 7, 8, 9]\n",
    "r = range(10)\n",
    "\n",
    "# Ausgabe der Typen und Inhalte\n",
    "print(\"Typ von l:\", type(l))\n",
    "print(\"Typ von r:\", type(r))\n",
    "print(\"Inhalt von l:\", l)\n",
    "print(\"Inhalt von r:\", r)"
   ]
  },
  {
   "cell_type": "markdown",
   "id": "e1aeadac",
   "metadata": {},
   "source": [
    "Wir sehen, dass `l` eine Liste ist, die die Zahlen von 0 bis 9 enthält, während `r` ein `range`-Objekt ist, das die Zahlen von 0 bis 9 repräsentiert. Beim Ausgeben des `range`-Objekts sehen wir nur die Repräsentation `range(0, 10)` und nicht die einzelnen Zahlen.\n",
    "\n",
    "Obwohl beide Objekte ähnlich aussehen und verwendet werden können, unterscheiden sie sich in der Art, wie sie die Daten speichern."
   ]
  },
  {
   "cell_type": "code",
   "execution_count": null,
   "id": "c28da18e",
   "metadata": {},
   "outputs": [],
   "source": [
    "# Iteration über die Liste\n",
    "print(\"Iteration über die Liste l:\")\n",
    "for e in l:\n",
    "    print(e, end=\" \")\n",
    "print(\"\\n\")\n",
    "\n",
    "# Iteration über das range-Objekt\n",
    "print(\"Iteration über das range-Objekt r:\")\n",
    "for e in r:\n",
    "    print(e, end=\" \")\n",
    "print(\"\\n\")"
   ]
  },
  {
   "cell_type": "markdown",
   "id": "e933c2da",
   "metadata": {},
   "source": [
    "Beide Objekte können in einer For-Schleife durchlaufen werden, und die Ausgabe ist identisch."
   ]
  },
  {
   "cell_type": "code",
   "execution_count": null,
   "id": "53343f0b",
   "metadata": {},
   "outputs": [],
   "source": [
    "# Speicherbedarf vergleichen\n",
    "print(\"Größe der Liste l:\", getsizeof(l), \"Bytes\")\n",
    "print(\"Größe des range-Objekts r:\", getsizeof(r), \"Bytes\")"
   ]
  },
  {
   "cell_type": "markdown",
   "id": "861b638e",
   "metadata": {},
   "source": [
    "Die Liste `l` benötigt mehr Speicher als das `range`-Objekt `r`. Dies liegt daran, dass die Liste alle Elemente im Speicher hält, während das `range`-Objekt nur Start-, Endwert und Schrittweite speichern muss."
   ]
  },
  {
   "cell_type": "markdown",
   "id": "a482813f",
   "metadata": {},
   "source": [
    "Schauen wir uns an, wie sich der Speicherbedarf ändert, wenn wir die Länge der iterierbaren Objekte erhöhen."
   ]
  },
  {
   "cell_type": "code",
   "execution_count": null,
   "id": "c2494c44",
   "metadata": {},
   "outputs": [],
   "source": [
    "large_range = range(1000000)\n",
    "large_list = list(large_range)\n",
    "\n",
    "print(\"Größe des range-Objekts mit 1.000.000 Elementen:\", getsizeof(large_range), \"Bytes\")\n",
    "print(\"Größe der Liste mit 1.000.000 Elementen:\", getsizeof(large_list), \"Bytes\")"
   ]
  },
  {
   "cell_type": "markdown",
   "id": "80f16684",
   "metadata": {},
   "source": [
    "**Erläuterung:**\n",
    "\n",
    "- Der Speicherbedarf des `range`-Objekts bleibt nahezu konstant, selbst bei einer Million Elemente.\n",
    "- Die Liste benötigt jedoch über 8 MB Speicher, um alle Elemente zu speichern.\n",
    "\n",
    "**Hinweis:**\n",
    "\n",
    "Die Funktion `getsizeof` misst nur die Größe des Objekts selbst und nicht den Speicherbedarf der einzelnen Elemente. Dennoch verdeutlicht dies den Unterschied zwischen den beiden Objekttypen."
   ]
  },
  {
   "cell_type": "markdown",
   "id": "40b5b5ab",
   "metadata": {},
   "source": [
    "## Iterables und Iteratoren\n",
    "\n",
    "- **Iterables**: Ein Iterable ist ein Objekt, das eine `__iter__()`-Methode implementiert, die einen Iterator zurückgibt. Iterables sind Objekte, über die man in einer Schleife iterieren kann. Beispiele für eingebaute Iterable-Objekte in Python sind Listen, Tupel, Strings und Mengen.\n",
    "\n",
    "- **Iteratoren**: Ein Iterator ist ein Objekt, das die Methoden `__iter__()` und `__next__()` implementiert. Die Methode `__next__()` gibt das nächste Element des Iterators zurück und wirft eine `StopIteration`-Exception, wenn keine weiteren Elemente vorhanden sind.\n",
    "\n",
    "**Hinweis:** Dunder-Methoden (Double-underscore-Methoden) wie `__next__()` oder `__iter__()` werden in Python meist nicht direkt aufgerufen. Stattdessen greift man auf diese spezielle Funktionalität durch dafür vorgesehene Hilfsfunktionen oder Sprachkonstrukte zu. Beispielsweise verwendet man die eingebaute `next()`-Funktion, um das nächste Element von einem Iterator zu erhalten, anstatt direkt `iterator.__next__()` aufzurufen. Dies fördert klareren und lesbareren Code und nutzt die volle Flexibilität, die Python bietet.\n",
    "\n",
    "Bei der Iteration über ein Iterable in einer Schleife wird implizit ein Iterator erstellt, um die Iteration durchzuführen. Hier ist ein einfaches Beispiel:"
   ]
  },
  {
   "cell_type": "code",
   "execution_count": null,
   "id": "3ac5d514",
   "metadata": {},
   "outputs": [],
   "source": [
    "# Einfache Liste als Iterable\n",
    "liste = [1, 2, 3]\n",
    "\n",
    "# Erstellen eines Iterators aus dem Iterable\n",
    "iterator = iter(liste)\n",
    "# Alternativ: iterator = liste.__iter__()\n",
    "\n",
    "# Abrufen von Elementen mit einem Iterator\n",
    "print(next(iterator))  # Gibt 1 zurück\n",
    "print(next(iterator))  # Gibt 2 zurück\n",
    "print(next(iterator))  # Gibt 3 zurück\n",
    "#print(next(iterator))  # Wirft eine StopIteration Exeption"
   ]
  },
  {
   "cell_type": "markdown",
   "id": "f998de8d",
   "metadata": {},
   "source": [
    "## Funktionen, die Iteratoren zurückgeben\n",
    "\n",
    "Mehrere eingebaute Funktionen in Python geben Iteratoren zurück. Beispiele sind `map`, `zip` und `enumerate`."
   ]
  },
  {
   "cell_type": "code",
   "execution_count": null,
   "id": "7ea7f268",
   "metadata": {},
   "outputs": [],
   "source": [
    "l = [1, 2, 3, 4, 5]\n",
    "\n",
    "# Verwenden von map\n",
    "m = map(lambda x: x**2, l)\n",
    "\n",
    "print(\"Typ von m:\", type(m))\n",
    "print(next(m)) # Die erste Zahl außerhalb der for-Schleife\n",
    "\n",
    "for item in m:\n",
    "    print(item, end=\" \")\n",
    "print(\"\\n\")"
   ]
  },
  {
   "cell_type": "code",
   "execution_count": null,
   "id": "59e7b9f0",
   "metadata": {},
   "outputs": [],
   "source": [
    "# Verwenden von zip\n",
    "z = zip(l, l)\n",
    "\n",
    "print(\"Typ von z:\", type(z))\n",
    "print(next(z))  # Gibt das erste Tupel zurück\n",
    "\n",
    "for item in z:\n",
    "    print(item, end=\" \")\n",
    "print(\"\\n\")"
   ]
  },
  {
   "cell_type": "code",
   "execution_count": null,
   "id": "1354d6cf",
   "metadata": {},
   "outputs": [],
   "source": [
    "# Verwenden von enumerate\n",
    "e = enumerate(l)\n",
    "\n",
    "print(\"Typ von e:\", type(e))\n",
    "print(next(e))  # Gibt das erste Tupel (Index, Wert) zurück\n",
    "\n",
    "for index, value in e:\n",
    "    print(f\"Index {index}: Wert {value}\")"
   ]
  },
  {
   "cell_type": "markdown",
   "id": "0bb79327",
   "metadata": {},
   "source": [
    "Die Iteratoren generieren ihre Elemente erst bei der Iteration. Dies spart Speicher, da nicht alle Elemente im Voraus berechnet werden."
   ]
  },
  {
   "cell_type": "markdown",
   "id": "6b076209",
   "metadata": {},
   "source": [
    "## Eigene Iteratoren mit Generatoren erstellen\n",
    "\n",
    "Wenn wir Funktionen schreiben, die große Datenmengen verarbeiten, ist es hilfreich, wenn sie Iteratoren zurückgeben. Dies können wir mit Generatoren erreichen."
   ]
  },
  {
   "cell_type": "markdown",
   "id": "691e79e5",
   "metadata": {},
   "source": [
    "### Generator-Funktionen mit `yield`\n",
    "\n",
    "Durch das Schlüsselwort `yield` können wir Funktionen schreiben, die bei jedem Aufruf von `next()` ein neues Element liefern."
   ]
  },
  {
   "cell_type": "code",
   "execution_count": null,
   "id": "751cc83c",
   "metadata": {
    "lines_to_next_cell": 1
   },
   "outputs": [],
   "source": [
    "def my_generator(n):\n",
    "    i = 0\n",
    "    while i < n:\n",
    "        yield i\n",
    "        i += 1\n",
    "\n",
    "gen = my_generator(5)\n",
    "print(\"Typ von gen:\", type(gen))\n",
    "\n",
    "print(\"Erste Zahl aus dem Generator:\", next(gen))  # Gibt 0 zurück\n",
    "\n",
    "print(\"Iterieren über den Generator gen:\")\n",
    "for num in gen:\n",
    "    print(num)"
   ]
  },
  {
   "cell_type": "markdown",
   "id": "a2ee64ee",
   "metadata": {},
   "source": [
    "**Erläuterung:**\n",
    "\n",
    "- Die Funktion `my_generator` ist ein Generator. Bei jedem `yield` wird der aktuelle Wert von `i` zurückgegeben.\n",
    "- Beim nächsten Aufruf wird die Ausführung nach dem `yield` fortgesetzt."
   ]
  },
  {
   "cell_type": "markdown",
   "id": "2c0aaa79",
   "metadata": {},
   "source": [
    "### Vergleich von Funktionen mit und ohne Generatoren"
   ]
  },
  {
   "cell_type": "markdown",
   "id": "209486e2",
   "metadata": {},
   "source": [
    "**Funktion, die eine Liste zurückgibt:**"
   ]
  },
  {
   "cell_type": "code",
   "execution_count": null,
   "id": "49596e74",
   "metadata": {
    "lines_to_next_cell": 1
   },
   "outputs": [],
   "source": [
    "def squares_list(n):\n",
    "    result = []\n",
    "    for i in range(n):\n",
    "        result.append(i**2)\n",
    "    return result\n",
    "\n",
    "squares = squares_list(20)\n",
    "print(\"Quadratzahlen als Liste:\", squares)\n",
    "print(\"Größe der Liste:\", getsizeof(squares), \"Bytes\")"
   ]
  },
  {
   "cell_type": "markdown",
   "id": "c841181b",
   "metadata": {},
   "source": [
    "**Funktion, die einen Generator zurückgibt:**"
   ]
  },
  {
   "cell_type": "code",
   "execution_count": null,
   "id": "d96d721f",
   "metadata": {},
   "outputs": [],
   "source": [
    "def squares_generator(n):\n",
    "    for i in range(n):\n",
    "        yield i**2\n",
    "\n",
    "squares_gen = squares_generator(20)\n",
    "print(\"Quadratzahlen als Generator:\", squares_gen)\n",
    "print(\"Größe des Generators:\", getsizeof(squares_gen), \"Bytes\")\n",
    "\n",
    "print(\"Quadratzahlen aus Generator:\")\n",
    "for num in squares_gen:\n",
    "    print(num, end=\" \")\n",
    "print()"
   ]
  },
  {
   "cell_type": "markdown",
   "id": "9784920c",
   "metadata": {},
   "source": [
    "**Erläuterung:**\n",
    "\n",
    "- Die Listenfunktion `squares_list` erstellt eine Liste aller Quadratzahlen und speichert sie im Speicher.\n",
    "- Die Generatorfunktion `squares_generator` liefert die Quadratzahlen bei Bedarf und benötigt weniger Speicher."
   ]
  },
  {
   "cell_type": "markdown",
   "id": "be8caf78",
   "metadata": {},
   "source": [
    "### Optional: Beispiele map, zip, enumerate Implementierung"
   ]
  },
  {
   "cell_type": "code",
   "execution_count": null,
   "id": "e408e75f",
   "metadata": {},
   "outputs": [],
   "source": [
    "def my_enumerate(iterable, start=0):\n",
    "    index = start\n",
    "    it = iter(iterable)\n",
    "    while True:\n",
    "        try:\n",
    "            yield (index, next(it))\n",
    "        except StopIteration:\n",
    "            return\n",
    "        index += 1"
   ]
  },
  {
   "cell_type": "code",
   "execution_count": null,
   "id": "18890fd8",
   "metadata": {},
   "outputs": [],
   "source": [
    "\n",
    "# Beispiel für `my_enumerate`\n",
    "colors = ['red', 'green', 'blue']\n",
    "\n",
    "enumerated_colors = my_enumerate(colors, start=1)\n",
    "\n",
    "for index, color in enumerated_colors:\n",
    "    print(index, color)"
   ]
  },
  {
   "cell_type": "code",
   "execution_count": null,
   "id": "0eb1aa06",
   "metadata": {},
   "outputs": [],
   "source": [
    "def my_zip(*iterables):\n",
    "    iterators = [iter(i) for i in iterables]\n",
    "    while True:\n",
    "        try:\n",
    "            result = [next(i) for i in iterators]\n",
    "            yield tuple(result)\n",
    "        except StopIteration:\n",
    "            return\n",
    "\n"
   ]
  },
  {
   "cell_type": "code",
   "execution_count": null,
   "id": "57c54814",
   "metadata": {},
   "outputs": [],
   "source": [
    "# Beispiel für `my_zip`\n",
    "list1 = [1, 2, 3]\n",
    "list2 = ['a', 'b', 'c']\n",
    "list3 = [True, False, True]\n",
    "\n",
    "print(next(my_zip(list1, list2, list3)))    # Gibt (1, 'a', True) zurück\n",
    "\n",
    "zipped_result = my_zip(list1, list2, list3)\n",
    "\n",
    "for item in zipped_result:\n",
    "    print(item)"
   ]
  },
  {
   "cell_type": "code",
   "execution_count": null,
   "id": "3d9567a8",
   "metadata": {},
   "outputs": [],
   "source": [
    "def my_map(f, *iterables):\n",
    "    for args in my_zip(*iterables):\n",
    "        yield f(*args)"
   ]
  },
  {
   "cell_type": "code",
   "execution_count": null,
   "id": "4266bd8a",
   "metadata": {},
   "outputs": [],
   "source": [
    "# Beispiel für `my_map`\n",
    "def add(x, y):\n",
    "    return x + y\n",
    "\n",
    "list1 = [1, 2, 3]\n",
    "list2 = [4, 5, 6]\n",
    "\n",
    "mapped_result = my_map(add, list1, list2)\n",
    "\n",
    "next(mapped_result)  # Erste Addition außerhalb der Schleife\n",
    "\n",
    "print(\"Ergebnis der ersten Addition:\", next(mapped_result))\n",
    "for item in mapped_result:\n",
    "    print(item)"
   ]
  },
  {
   "cell_type": "markdown",
   "id": "3fbed0e6",
   "metadata": {},
   "source": [
    "### Generator Expressions\n",
    "\n",
    "Ähnlich zu List Comprehensions können wir Generator Expressions verwenden, um Generatoren zu erstellen."
   ]
  },
  {
   "cell_type": "code",
   "execution_count": null,
   "id": "c713a3b5",
   "metadata": {},
   "outputs": [],
   "source": [
    "# List Comprehension\n",
    "lc = [i**2 for i in range(100)]\n",
    "print(\"List Comprehension:\", lc)\n",
    "print(\"Größe von lc:\", getsizeof(lc), \"Bytes\")\n",
    "\n",
    "# Generator Expression\n",
    "ge = (i**2 for i in range(100))\n",
    "print(\"Generator Expression:\", ge)\n",
    "print(\"Größe von ge:\", getsizeof(ge), \"Bytes\")\n",
    "\n",
    "print(\"Quadratzahlen aus Generator Expression:\")\n",
    "for num in ge:\n",
    "    print(num, end=\" \")\n",
    "print()"
   ]
  },
  {
   "cell_type": "markdown",
   "id": "2ca11678",
   "metadata": {},
   "source": [
    "**Erläuterung:**\n",
    "\n",
    "- Die List Comprehension erstellt sofort eine Liste mit allen Elementen.\n",
    "- Die Generator Expression erzeugt die Elemente bei Bedarf und verbraucht weniger Speicher.\n",
    "\n",
    "\n",
    "\n"
   ]
  },
  {
   "cell_type": "markdown",
   "id": "fb7f98df",
   "metadata": {},
   "source": [
    "## Einsatz von Generatoren für Lazy Evaluation\n",
    "\n",
    "**Lazy Evaluation** bedeutet, dass Berechnungen erst dann durchgeführt werden, wenn sie tatsächlich benötigt werden. Generatoren ermöglichen es uns, dieses Konzept in Python zu nutzen."
   ]
  },
  {
   "cell_type": "markdown",
   "id": "7fdbd1cd",
   "metadata": {},
   "source": [
    "**Beispiel mit unendlicher Folge von Fibonacci-Zahlen:**\n",
    "\n",
    "Fibonacci-Zahlen sind eine berühmte Zahlenfolge, die aus der Summe der beiden vorherigen Zahlen gebildet wird. Die Folge beginnt mit 0 und 1, und jedes nachfolgende Element ist die Summe der vorhergehenden beiden. \n",
    "\n",
    "$$\n",
    "F(n) = \n",
    "\\begin{cases} \n",
    "0, & \\text{wenn } n = 0 \\\\\n",
    "1, & \\text{wenn } n = 1 \\\\\n",
    "F(n-1) + F(n-2), & \\text{wenn } n > 1\n",
    "\\end{cases}\n",
    "$$\n",
    "\n",
    "Dabei steht $ F(n) $ für die $ n $-te Fibonacci-Zahl.\n",
    "\n",
    "\n",
    "\n",
    "| $n$ | $F(n)$ |\n",
    "|-----|--------|\n",
    "|0    | 0      |\n",
    "|1    | 1      |\n",
    "|2    | 1      |\n",
    "|3    | 2      |\n",
    "|4    | 3      |\n",
    "|5    | 5      |\n",
    "|6    | 8      |\n",
    "|7    |13      |\n",
    "\n",
    "Durch den Einsatz von Lazy Evaluation mit Generatoren können wir diese unendliche Folge generieren, ohne unendlich viel Speicher zu benötigen. Wir können bei Bedarf jederzeit das nächste Element erzeugen."
   ]
  },
  {
   "cell_type": "code",
   "execution_count": null,
   "id": "3d71961e",
   "metadata": {},
   "outputs": [],
   "source": [
    "def fibonacci():\n",
    "    a, b = 0, 1\n",
    "    while True:\n",
    "        yield a\n",
    "        a, b = b, a + b\n",
    "\n",
    "fib_gen = fibonacci()\n",
    "\n",
    "# Ausgabe der ersten 20 Fibonacci-Zahlen\n",
    "print(f\"{'n':>3} | {'F(n)':<5}\")\n",
    "print(\"-\"*11)\n",
    "\n",
    "for n, f in zip(range(20), fib_gen):\n",
    "    print(f\"{n:>3} | {f:>5}\")"
   ]
  },
  {
   "cell_type": "markdown",
   "id": "c6363dd7",
   "metadata": {},
   "source": [
    "**Erläuterung:**\n",
    "\n",
    "- Die Funktion `fibonacci` erzeugt eine unendliche Zahlenfolge.\n",
    "- Da die Zahlen bei Bedarf generiert werden, können wir theoretisch unendlich viele Elemente haben, ohne den Speicher zu überlasten."
   ]
  },
  {
   "cell_type": "markdown",
   "id": "b5a1e2d9",
   "metadata": {},
   "source": [
    "## Nachteile von Generatoren gegenüber Listen\n",
    "\n",
    "Generatoren sind speicher- und zeiteffizient, haben aber Nachteile gegenüber Listen:\n",
    "\n",
    "- **Nicht indexierbar**: Kein direkter Zugriff auf Elemente per Index.\n",
    "- **Einmalige Iteration**: Nach vollständiger Durchlaufung erschöpft.\n",
    "- **Unbekannte Länge**: `len()` funktioniert nicht, da Länge nicht definiert.\n",
    "- **Kein zufälliger Zugriff**: Keine Möglichkeit, Elemente zu überspringen oder zurückzugehen.\n",
    "- **Erschwertes Debugging**: Zustand schwer einsehbar.\n",
    "\n",
    "**Beispiele:**"
   ]
  },
  {
   "cell_type": "code",
   "execution_count": null,
   "id": "1abadc58",
   "metadata": {},
   "outputs": [],
   "source": [
    "# Nicht indexierbar und Einmalige Iteration\n",
    "try:\n",
    "    my_generator = (x for x in range(5))\n",
    "    print(\"Indexzugriff:\", my_generator[2])  # Fehler\n",
    "except TypeError as e:\n",
    "    print(\"Fehler:\", e)"
   ]
  },
  {
   "cell_type": "code",
   "execution_count": null,
   "id": "43896292",
   "metadata": {},
   "outputs": [],
   "source": [
    "# Einmalige Iteration\n",
    "gen = (x for x in range(3))\n",
    "print(\"Erster Durchlauf:\")\n",
    "for value in gen:\n",
    "    print(value)\n",
    "print(\"Zweiter Durchlauf:\")\n",
    "for value in gen:\n",
    "    print(value)  # Keine Ausgabe"
   ]
  },
  {
   "cell_type": "code",
   "execution_count": null,
   "id": "8cc268b3",
   "metadata": {},
   "outputs": [],
   "source": [
    "# Unbekannte Länge\n",
    "try:\n",
    "    gen = (x for x in range(5))\n",
    "    print(len(gen))  # Fehler\n",
    "except TypeError as e:\n",
    "    print(\"Fehler:\", e)"
   ]
  },
  {
   "cell_type": "markdown",
   "id": "43fa8a05",
   "metadata": {},
   "source": [
    "## Zusammenfassung\n",
    "\n",
    "1. **Speicherbedarf von `range` und Listen**: `range`-Objekte speichern nur Start, Ende und Schrittweite und verbrauchen konstanten Speicher, während Listen alle Elemente im Speicher halten.\n",
    "\n",
    "2. **Iteratoren**: Objekte wie `map`, `zip` und `enumerate` geben Iteratoren zurück, die ihre Elemente bei Bedarf generieren.\n",
    "\n",
    "3. **Generatoren**: Mit dem `yield`-Schlüsselwort können wir Generatoren erstellen, die Iteratoren sind und Lazy Evaluation ermöglichen.\n",
    "\n",
    "4. **Generator Expressions**: Ähnlich zu List Comprehensions, aber sie erzeugen Elemente bei Bedarf.\n",
    "\n",
    "5. **Lazy Evaluation**: Berechnungen werden erst durchgeführt, wenn sie benötigt werden, was Speicher und Rechenleistung spart."
   ]
  }
 ],
 "metadata": {
  "kernelspec": {
   "display_name": "base",
   "language": "python",
   "name": "python3"
  },
  "language_info": {
   "codemirror_mode": {
    "name": "ipython",
    "version": 3
   },
   "file_extension": ".py",
   "mimetype": "text/x-python",
   "name": "python",
   "nbconvert_exporter": "python",
   "pygments_lexer": "ipython3",
   "version": "3.11.7"
  }
 },
 "nbformat": 4,
 "nbformat_minor": 5
}
