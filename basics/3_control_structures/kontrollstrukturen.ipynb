{
 "cells": [
  {
   "cell_type": "markdown",
   "id": "0b250ea6",
   "metadata": {},
   "source": [
    "# Kontrollstrukturen in Python\n",
    "\n",
    "Kontrollstrukturen sind fundamentale Bausteine in der Programmierung, die den Ablauf eines Programms steuern. Sie bestimmen, in welcher Reihenfolge Anweisungen ausgeführt werden und ermöglichen es, Entscheidungen zu treffen, Wiederholungen durchzuführen und Verzweigungen zu erstellen."
   ]
  },
  {
   "cell_type": "markdown",
   "id": "c8346b13",
   "metadata": {},
   "source": [
    "![Arten von Kontrollstrukturen](flowchart-overview-text-3-done.png)\n",
    "\n",
    "*Arten von Kontrollstrukturen*\n",
    "\n",
    "*Quelle: [Core Electronics](https://core-electronics.com.au/guides/control-structure-python/)*"
   ]
  },
  {
   "cell_type": "markdown",
   "id": "b8c3ee1a",
   "metadata": {},
   "source": [
    "Im Folgenden die drei grundlegenden Konzepte:\n",
    "\n",
    "* Sequenz: Eine Sequenz ist die einfachste Form der Programmsteuerung: Alle Anweisungen werden nacheinander abgearbeitet, genau so, wie sie im Code stehen. Dadurch entsteht ein klarer, linearer Ablauf – ideal für Prozesse, die strikt in festgelegten Schritten stattfinden müssen.  \n",
    "\n",
    "* Selektion: Bei der Selektion wird der Programmfluss anhand einer Bedingung verzweigt. Man entscheidet „ja“ oder „nein“ und folgt jeweils einem anderen Pfad. So lassen sich unterschiedliche Aktionen oder Sonderfälle gezielt steuern, ohne den Gesamtablauf von vorne zu beginnen.  \n",
    "\n",
    "* Iteration: Iteration steht für das wiederholte Ausführen eines oder mehrerer Schritte, solange eine Bedingung erfüllt ist oder noch Elemente übrig sind. Dadurch lassen sich sich wiederholende Aufgaben automatisieren, zum Beispiel das Durcharbeiten einer Datensammlung oder das Wiederholen einer Berechnung bis zum Erreichen eines Zielwerts."
   ]
  },
  {
   "cell_type": "markdown",
   "id": "66ccdfe3",
   "metadata": {},
   "source": [
    "## Bedingte Anweisungen\n",
    "\n",
    "Bedingte Anweisungen führen Code in Abhängigkeit von einer konkreten Bedingung aus. Durch bedingte Anweisungen können Verzweigungen im Code eingebaut werden."
   ]
  },
  {
   "cell_type": "markdown",
   "id": "002e4bee",
   "metadata": {},
   "source": [
    "### Die `if`-Anweisung\n",
    "\n",
    "Durch das Schlüsselwort `if` können wir einen bestimmten Teil des Codes nur dann ausführen lassen, wenn eine Bedingung erfüllt ist.\n",
    "\n",
    "Bedingungen sind Ausdrücke, die als Boolean ausgewertet werden können, also ein `True` oder `False` Ergebnis liefern."
   ]
  },
  {
   "cell_type": "markdown",
   "id": "f98774f4",
   "metadata": {},
   "source": [
    "![If-statement](if-statement.jpg)\n",
    "\n",
    "*If-Anweisung Flowchart*\n",
    "\n",
    "*Quelle: [GeeksforGeeks](https://www.geeksforgeeks.org/python/python3-if-if-else-nested-if-if-elif-statements/)*"
   ]
  },
  {
   "cell_type": "code",
   "execution_count": null,
   "id": "8f131e9d",
   "metadata": {},
   "outputs": [],
   "source": [
    "if True:            print(\"True\")\n",
    "if False:           print(\"False\")\n",
    "\n",
    "if True and True:   print(\"True\")\n",
    "if False and True:  print(\"False\")\n",
    "\n",
    "if True or True:    print(\"True\")\n",
    "if True or False:   print(\"True\")\n",
    "if False or False:  print(\"False\")\n",
    "\n",
    "if not True:        print(\"False\")\n",
    "if not False:       print(\"True\")\n",
    "\n",
    "if None:            print(\"False\")\n",
    "if not None:        print(\"True\")\n",
    "\n",
    "if 1:               print(\"True\")\n",
    "if 0:               print(\"False\")\n",
    "if 5:               print(\"True\")\n",
    "if 0.5:             print(\"True\")\n",
    "if -5:              print(\"True\")\n",
    "if 0.0:             print(\"False\")\n",
    "\n",
    "if [45]:            print(\"True\")\n",
    "if []:              print(\"False\")\n",
    "if {\"a\": 8}:        print(\"True\")\n",
    "if {}:              print(\"False\")\n",
    "if \"\":              print(\"False\")\n",
    "if \"False\":         print(\"True\")\n",
    "\n",
    "if 3 in [1, 2, 3]:  print(\"True\")\n",
    "if 4 in [1, 2, 3]:  print(\"False\")\n",
    "\n",
    "if any([0, 0, 0]):  print(\"False\")\n",
    "if any([0, 12, 0]):  print(\"True\")\n",
    "\n",
    "if all([0, 1, 1]):  print(\"False\")\n",
    "if all([1, 1, 1]):  print(\"True\")\n",
    "\n",
    "if 1 == 1:          print(\"True\")\n",
    "if 1 != 1:          print(\"False\")\n",
    "if 1 < 2:           print(\"True\")\n",
    "if 1 <= 2:          print(\"True\")\n"
   ]
  },
  {
   "cell_type": "markdown",
   "id": "67ac33c2",
   "metadata": {},
   "source": [
    "### Das Schlüsselwort `pass`\n",
    "\n",
    "Das Schlüsselwort `pass` kann verwendet werden, um der Sprache klar zu machen, dass hier zunächst nichts passieren soll."
   ]
  },
  {
   "cell_type": "code",
   "execution_count": null,
   "id": "1659f2c7",
   "metadata": {},
   "outputs": [],
   "source": [
    "# Beispiel: Platzhalter für zukünftigen Code\n",
    "\n",
    "if True:\n",
    "    pass  # Hier wird später Code eingefügt\n",
    "\n",
    "print(\"Dies ist außerhalb des if-Blocks.\")"
   ]
  },
  {
   "cell_type": "markdown",
   "id": "fc9127c3",
   "metadata": {},
   "source": [
    "### Der `else`-Block\n",
    "\n",
    "Durch das Schlüsselwort `else` nach einem `if`-Block kann eine alternative Folge von Anweisungen ausgeführt werden, falls die Bedingung aus der `if`-Anweisung `False` ist."
   ]
  },
  {
   "cell_type": "markdown",
   "id": "5d868558",
   "metadata": {},
   "source": [
    "![If-statement](if-else.jpg)\n",
    "\n",
    "*If-Else Flowchart*\n",
    "\n",
    "*Quelle: [GeeksforGeeks](https://www.geeksforgeeks.org/python/python3-if-if-else-nested-if-if-elif-statements/)*"
   ]
  },
  {
   "cell_type": "code",
   "execution_count": null,
   "id": "d92803cf",
   "metadata": {},
   "outputs": [],
   "source": [
    "# Beispiel: Überprüfen, ob ein Schüler in der Liste der bestandenen Schüler ist\n",
    "\n",
    "bestandene_schueler = [\"Anna\", \"Bernd\", \"Claudia\"]\n",
    "schueler = \"Daniel\"\n",
    "\n",
    "if schueler in bestandene_schueler:\n",
    "    print(f\"{schueler} hat die Prüfung bestanden.\")\n",
    "else:\n",
    "    print(f\"{schueler} hat die Prüfung nicht bestanden.\")"
   ]
  },
  {
   "cell_type": "code",
   "execution_count": null,
   "id": "e02a474f",
   "metadata": {},
   "outputs": [],
   "source": [
    "# Beispiel: Überprüfen, ob eine Note größer oder gleich 50 ist\n",
    "\n",
    "note = 25\n",
    "\n",
    "if note >= 50:\n",
    "    print(\"Der Schüler hat bestanden.\")\n",
    "else:\n",
    "    print(\"Der Schüler ist durchgefallen.\")"
   ]
  },
  {
   "cell_type": "code",
   "execution_count": null,
   "id": "498997f0",
   "metadata": {},
   "outputs": [],
   "source": [
    "# Beispiel: Überprüfen, ob eine Liste leer ist\n",
    "\n",
    "studenten_liste = [\"Daniel\"]\n",
    "\n",
    "if studenten_liste:\n",
    "    print(\"Die Liste der Studenten ist nicht leer.\")\n",
    "else:\n",
    "    print(\"Es sind keine Studenten vorhanden.\")"
   ]
  },
  {
   "cell_type": "code",
   "execution_count": null,
   "id": "48eef891",
   "metadata": {},
   "outputs": [],
   "source": [
    "# Beispiel: Bestimmen, ob eine Zahl gerade oder ungerade ist\n",
    "\n",
    "zahl = 12\n",
    "\n",
    "if zahl % 2 == 0:\n",
    "    print(f\"{zahl} ist eine gerade Zahl.\")\n",
    "else:\n",
    "    print(f\"{zahl} ist eine ungerade Zahl.\")"
   ]
  },
  {
   "cell_type": "markdown",
   "id": "f9042ff4",
   "metadata": {},
   "source": [
    "### Die `elif`-Anweisung\n",
    "\n",
    "Eine Kombination von `if` und `else`, um mehrere Bedingungen nacheinander zu überprüfen."
   ]
  },
  {
   "cell_type": "markdown",
   "id": "1193a737",
   "metadata": {},
   "source": [
    "![If-statement](if-elseif-ladder.jpg)\n",
    "\n",
    "*If-Elif-Else Flowchart*\n",
    "\n",
    "*Quelle: [GeeksforGeeks](https://www.geeksforgeeks.org/python/python3-if-if-else-nested-if-if-elif-statements/)*"
   ]
  },
  {
   "cell_type": "code",
   "execution_count": null,
   "id": "a6d226b4",
   "metadata": {},
   "outputs": [],
   "source": [
    "# Beispiel: Schulnoten bewerten\n",
    "\n",
    "note = 85\n",
    "\n",
    "if note >= 90:\n",
    "    print(\"Note: Sehr gut\")\n",
    "elif note >= 75:\n",
    "    print(\"Note: Gut\")\n",
    "elif note >= 60:\n",
    "    print(\"Note: Befriedigend\")\n",
    "elif note >= 50:\n",
    "    print(\"Note: Ausreichend\")\n",
    "else:\n",
    "    print(\"Note: Mangelhaft\")"
   ]
  },
  {
   "cell_type": "markdown",
   "id": "2634153d",
   "metadata": {},
   "source": [
    "## Schleifen\n",
    "\n",
    "Schleifen werden genutzt, um eine Abfolge von Anweisungen wiederholt auszuführen."
   ]
  },
  {
   "cell_type": "markdown",
   "id": "9181a0f2",
   "metadata": {},
   "source": [
    "### Die `while`-Schleife\n",
    "\n",
    "Die `while`-Schleife funktioniert wie die `if`-Bedingung, nur dass der Körper solange wiederholt ausgeführt wird, wie die Bedingung zu `True` ausgewertet wird."
   ]
  },
  {
   "cell_type": "markdown",
   "id": "17fdc4f6",
   "metadata": {},
   "source": [
    "![While-Schleife](while-loop.jpg)\n",
    "\n",
    "*While-Schleife Flowchart*\n",
    "\n",
    "*Quelle: [GeeksforGeeks](https://www.geeksforgeeks.org/python/python-while-loop/)*"
   ]
  },
  {
   "cell_type": "code",
   "execution_count": null,
   "id": "b92bb165",
   "metadata": {},
   "outputs": [],
   "source": [
    "# Beispiel: Countdown von 5 auf 1\n",
    "\n",
    "count = 5\n",
    "\n",
    "while count > 0:\n",
    "    print(count)\n",
    "    count -= 1\n",
    "    \n",
    "\n",
    "print(\"Start!\")"
   ]
  },
  {
   "cell_type": "code",
   "execution_count": null,
   "id": "ceb70ce2",
   "metadata": {},
   "outputs": [],
   "source": [
    "count"
   ]
  },
  {
   "cell_type": "markdown",
   "id": "ff58c9d7",
   "metadata": {},
   "source": [
    "Schleifen können durch zwei Anweisungen unterbrochen werden:\n",
    "\n",
    "- `break` beendet die Schleife komplett und verlässt den Schleifenkörper.\n",
    "- `continue` stoppt die aktuelle Iteration und führt dazu, dass die Schleife mit der nächsten Iteration fortfährt."
   ]
  },
  {
   "cell_type": "code",
   "execution_count": null,
   "id": "59e23bba",
   "metadata": {},
   "outputs": [],
   "source": [
    "# Beispiel für `break`\n",
    "\n",
    "zahl = 0\n",
    "\n",
    "while True:\n",
    "    print(zahl)\n",
    "    zahl += 1\n",
    "    if zahl > 5:\n",
    "        break\n",
    "\n",
    "print(\"Schleife wurde mit `break` beendet.\")"
   ]
  },
  {
   "cell_type": "code",
   "execution_count": null,
   "id": "8a979620",
   "metadata": {},
   "outputs": [],
   "source": [
    "# Beispiel für `continue` in einer `while`-Schleife\n",
    "\n",
    "zahl = 0\n",
    "\n",
    "while zahl < 10:\n",
    "    zahl += 1\n",
    "    if zahl % 2 == 0:\n",
    "        continue\n",
    "    print(zahl)\n",
    "\n",
    "print(\"Es wurden nur ungerade Zahlen ausgegeben.\")"
   ]
  },
  {
   "cell_type": "markdown",
   "id": "b040c23b",
   "metadata": {},
   "source": [
    "#### Der `else`-Zweig in Schleifen\n",
    "\n",
    "Auch `while`-Schleifen können durch einen `else`-Zweig erweitert werden. Dieser wird, wie bei der `if`-Anweisung, nur dann ausgeführt, wenn die Schleifenbedingung zu `False` ausgewertet wird. Dies passiert in der Regel, wenn eine Schleife ohne Unterbrechung (`break`) durchläuft."
   ]
  },
  {
   "cell_type": "code",
   "execution_count": null,
   "id": "5e141a5e",
   "metadata": {},
   "outputs": [],
   "source": [
    "# Beispiel für `else` in einer `while`-Schleife\n",
    "\n",
    "zahl = 5\n",
    "\n",
    "while zahl > 0:\n",
    "    print(zahl)\n",
    "    zahl -= 1\n",
    "else:\n",
    "    print(\"Die Schleife wurde normal beendet.\")"
   ]
  },
  {
   "cell_type": "markdown",
   "id": "cdb0521f",
   "metadata": {},
   "source": [
    "#### Sonderfall Endlosschleife\n",
    "\n",
    "`while`-Schleifen können schnell zu Endlosschleifen führen. Dies passiert immer dann, wenn während der Ausführung des Schleifenkörpers keine Elemente verändert werden, die in der Bedingung der Schleife genutzt werden, und keine `break`-Anweisung getriggert wird."
   ]
  },
  {
   "cell_type": "code",
   "execution_count": null,
   "id": "2a0e6118",
   "metadata": {},
   "outputs": [],
   "source": [
    "# Beispiel einer unbeabsichtigten Endlosschleife\n",
    "\n",
    "zahl = 5\n",
    "\n",
    "# Achtung: Dieser Code würde unendlich laufen, da `zahl` nie verändert wird.\n",
    "# while zahl > 0:\n",
    "#     print(\"Dies ist eine Endlosschleife.\")"
   ]
  },
  {
   "cell_type": "code",
   "execution_count": null,
   "id": "4b5532a2",
   "metadata": {},
   "outputs": [],
   "source": [
    "# Beispiel einer beabsichtigten Endlosschleife\n",
    "\n",
    "while True:\n",
    "    eingabe = input(\"Geben Sie 'exit' ein, um zu beenden: \")\n",
    "    if eingabe == \"exit\":\n",
    "        print(\"Programm wird beendet.\")\n",
    "        break\n",
    "    else:\n",
    "        print(f\"Sie haben '{eingabe}' eingegeben.\")"
   ]
  },
  {
   "cell_type": "markdown",
   "id": "34f1830d",
   "metadata": {},
   "source": [
    "#### While Schleife und Datenstrukturen"
   ]
  },
  {
   "cell_type": "code",
   "execution_count": null,
   "id": "95a311b9",
   "metadata": {},
   "outputs": [],
   "source": [
    "# typische Datenstrukturen\n",
    "list_           = [0, 1, 1, 2, 3, 5, 8, 13, 21, 34]\n",
    "tuple_          = (2, 3, 5, 7, 11, 13, 17, 19, 23, 29)\n",
    "string_         = \"Heureka\"\n",
    "dictionary_     = {\"a\": 1, \"b\": 2, \"c\": 3}\n",
    "set_            = {2, 4, 6, 8, 10}\n",
    "range_          = range(5)\n",
    "zip_            = zip(list_, tuple_)\n",
    "enumerate_      = enumerate(string_)\n",
    "\n",
    "\n",
    "col = list_\n",
    "\n",
    "i = 0\n",
    "while i < len(col):\n",
    "    print(col[i]) \n",
    "    i += 1\n"
   ]
  },
  {
   "cell_type": "markdown",
   "id": "4fafa76c",
   "metadata": {},
   "source": [
    "### Einschub: Iteratoren\n",
    "\n",
    "Ein Iterator ist ein Objekt, das auf einer gegebenen Datenstruktur oder einem Generator bzw. einer Instanz dieser aufsetzt und stets auf ein Element dieser Struktur zeigt.\n",
    "\n",
    "![Iterator](https://machinelearninggeek.com/wp-content/uploads/2023/01/image-1024x447.png)\n",
    "Quelle: https://machinelearninggeek.com/python-iterators-examples/\n"
   ]
  },
  {
   "cell_type": "code",
   "execution_count": null,
   "id": "912b3ba8",
   "metadata": {},
   "outputs": [],
   "source": [
    "# Beispiel mit einer Liste\n",
    "\n",
    "meine_liste = [1, 2, 3]\n",
    "mein_iterator = iter(meine_liste)"
   ]
  },
  {
   "cell_type": "code",
   "execution_count": null,
   "id": "bec5b7ae",
   "metadata": {},
   "outputs": [],
   "source": [
    "mein_iterator"
   ]
  },
  {
   "cell_type": "code",
   "execution_count": null,
   "id": "52001cb7",
   "metadata": {},
   "outputs": [],
   "source": [
    "next(mein_iterator)"
   ]
  },
  {
   "cell_type": "markdown",
   "id": "113ffede",
   "metadata": {},
   "source": [
    "### Einschub: Exception Handling\n",
    "\n",
    "Solche Fehler können durch eine weitere Kontrollstruktur behandelt werden: `try` und `except`."
   ]
  },
  {
   "cell_type": "code",
   "execution_count": null,
   "id": "9cfde86c",
   "metadata": {},
   "outputs": [],
   "source": [
    "# Versuch, über das Ende hinaus zu iterieren\n",
    "\n",
    "try:\n",
    "    print(next(mein_iterator))\n",
    "except StopIteration:\n",
    "    print(\"Keine weiteren Elemente im Iterator.\")"
   ]
  },
  {
   "cell_type": "markdown",
   "id": "632d95cf",
   "metadata": {},
   "source": [
    "#### While Schleife über einem Iterator"
   ]
  },
  {
   "cell_type": "code",
   "execution_count": null,
   "id": "3fe92fed",
   "metadata": {},
   "outputs": [],
   "source": [
    "# Beispiel: Nachbildung einer `for`-Schleife mit einem Iterator und `while`\n",
    "\n",
    "meine_liste = {2, 4, 6, 8, 10}\n",
    "mein_iterator = iter(meine_liste)\n",
    "\n",
    "while True:\n",
    "    try:\n",
    "        element = next(mein_iterator)\n",
    "    except StopIteration:\n",
    "        print(\"Alle Elemente wurden verarbeitet.\")\n",
    "        break\n",
    "    print(element)"
   ]
  },
  {
   "cell_type": "markdown",
   "id": "16a318d6",
   "metadata": {},
   "source": [
    "### Die `for`-Schleife\n",
    "\n",
    "Pythons `for`-Schleife ist in anderen Sprachen als `for-each`-Schleife bekannt. Sie arbeitet mit einem Iterator und durchläuft jedes Element einer gegebenen Datenstruktur bzw. eines Generators. Bei jedem Durchlauf werden diese Elemente einer Variable zugeordnet, wodurch auf die Elemente einzeln zugegriffen werden kann."
   ]
  },
  {
   "cell_type": "markdown",
   "id": "b1332de9",
   "metadata": {},
   "source": [
    "![For-Schleife](for-loop-python.jpg)\n",
    "\n",
    "*For-Schleife Flowchart*\n",
    "\n",
    "*Quelle: [GeeksforGeeks](https://www.geeksforgeeks.org/python/python-for-loops/)*"
   ]
  },
  {
   "cell_type": "code",
   "execution_count": null,
   "id": "7260d423",
   "metadata": {},
   "outputs": [],
   "source": [
    "# Beispiel: Durchlaufen einer Liste von Studenten\n",
    "\n",
    "studenten = [\"Anna\", \"Bernd\", \"Claudia\"]\n",
    "\n",
    "for student in studenten:\n",
    "    print(f\"Student: {student}\")"
   ]
  },
  {
   "cell_type": "code",
   "execution_count": null,
   "id": "d1e78c87",
   "metadata": {},
   "outputs": [],
   "source": [
    "list_           = [0, 1, 1, 2, 3, 5, 8, 13, 21, 34]\n",
    "tuple_          = (2, 3, 5, 7, 11, 13, 17, 19, 23, 29)\n",
    "string_         = \"Heureka\"\n",
    "dictionary_     = {\"a\": 1, \"b\": 2, \"c\": 3}\n",
    "set_            = {2, 4, 6, 8, 10}\n",
    "range_          = range(5)\n",
    "zip_            = zip(list_, tuple_)\n",
    "enumerate_      = enumerate(string_)\n",
    "\n",
    "\n",
    "for x in list_: print(x, end=\" \")\n",
    "print()\n",
    "for x in tuple_: print(x, end=\" \")\n",
    "print()\n",
    "for x in string_: print(x, end=\" \")\n",
    "print()\n",
    "for x in dictionary_.items(): print(x, end=\" \")\n",
    "print()\n",
    "for x in set_: print(x, end=\" \")\n",
    "print()\n",
    "for x in range_: print(x, end=\" \")\n",
    "print()\n",
    "for x in zip_: print(x, end=\" \")\n",
    "print()\n",
    "for x in enumerate_: print(x, end=\" \")"
   ]
  },
  {
   "cell_type": "code",
   "execution_count": null,
   "id": "c00b0d2e",
   "metadata": {},
   "outputs": [],
   "source": [
    "# Beispiel: Berechnung der Quadratwerte einer Zahlenliste\n",
    "\n",
    "zahlen = [1, 2, 3, 4, 5]\n",
    "\n",
    "for zahl in zahlen:\n",
    "    quadrat = zahl ** 2\n",
    "    print(f\"Das Quadrat von {zahl} ist {quadrat}\")"
   ]
  },
  {
   "cell_type": "code",
   "execution_count": null,
   "id": "cfef1811",
   "metadata": {},
   "outputs": [],
   "source": [
    "# Beispiel mit `break` in einer `for`-Schleife\n",
    "\n",
    "for zahl in zahlen:\n",
    "    if zahl == 3:\n",
    "        print(\"Zahl 3 gefunden, Schleife wird beendet.\")\n",
    "        break\n",
    "    print(f\"Zahl: {zahl}\")"
   ]
  },
  {
   "cell_type": "code",
   "execution_count": null,
   "id": "22a8a3a9",
   "metadata": {},
   "outputs": [],
   "source": [
    "# Beispiel mit `continue` in einer `for`-Schleife\n",
    "\n",
    "for zahl in zahlen:\n",
    "    if zahl % 2 == 0:\n",
    "        continue\n",
    "    print(f\"Ungerade Zahl: {zahl}\")"
   ]
  },
  {
   "cell_type": "code",
   "execution_count": null,
   "id": "bab2d29d",
   "metadata": {},
   "outputs": [],
   "source": [
    "# Beispiel mit `range` in einer `for`-Schleife\n",
    "\n",
    "for i in range(0, 20, 3):\n",
    "    print(i)\n"
   ]
  },
  {
   "cell_type": "code",
   "execution_count": null,
   "id": "6966241d",
   "metadata": {},
   "outputs": [],
   "source": [
    "# Beispiel: Verwendung von `enumerate` in einer `for`-Schleife\n",
    "\n",
    "studenten = [\"Anna\", \"Bernd\", \"Claudia\"]\n",
    "\n",
    "for index, student in enumerate(studenten):\n",
    "    print(f\"Student {index}: {student}\")"
   ]
  },
  {
   "cell_type": "code",
   "execution_count": null,
   "id": "61ea75f1",
   "metadata": {},
   "outputs": [],
   "source": [
    "# Beispiel: Durchlaufen eines Wörterbuchs\n",
    "\n",
    "noten = {\"Anna\": 85, \"Bernd\": 78, \"Claudia\": 92}\n",
    "\n",
    "for name, note in noten.items():\n",
    "    print(f\"{name} hat {note} Punkte erzielt.\")"
   ]
  },
  {
   "cell_type": "code",
   "execution_count": null,
   "id": "0d6e076b",
   "metadata": {},
   "outputs": [],
   "source": [
    "# Beispiel: Verschachtelte Schleifen\n",
    "\n",
    "for student in studenten:\n",
    "    for buchstabe in student:\n",
    "        print(buchstabe, end=\" \")\n",
    "    print()  # Neue Zeile nach jedem Namen"
   ]
  }
 ],
 "metadata": {
  "jupytext": {
   "cell_metadata_filter": "-all",
   "main_language": "python",
   "notebook_metadata_filter": "-all"
  },
  "kernelspec": {
   "display_name": "base",
   "language": "python",
   "name": "python3"
  },
  "language_info": {
   "codemirror_mode": {
    "name": "ipython",
    "version": 3
   },
   "file_extension": ".py",
   "mimetype": "text/x-python",
   "name": "python",
   "nbconvert_exporter": "python",
   "pygments_lexer": "ipython3",
   "version": "3.11.7"
  }
 },
 "nbformat": 4,
 "nbformat_minor": 5
}
