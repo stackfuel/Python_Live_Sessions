{
 "cells": [
  {
   "cell_type": "markdown",
   "id": "ff6cab41",
   "metadata": {},
   "source": [
    "# Python \"primitive\" Datentypen\n",
    "\n",
    "## 1. Einleitung\n",
    "In diesem Notebook lernen wir die grundlegenden Datentypen in Python kennen.\n",
    "\n",
    "In Python werden Informationen bzw. Daten in **Objekten** gespeichert. Diese Objekte sind immer von einem bestimmten **Typ**. Der Typ eines Objektes bestimmt, welche art von Daten in dem Objekt gespeichert, und welche operationen mit dem Objekt ausgeführt werden können.\n",
    "\n",
    "Zwei Zahlen `3` und `9` werden Beispielsweise in dem Datentyp `int` (Integer) gespeichert. Und da zwei Integer Objekte durch das `+`-Zeichen addiert werden können, können auch die Zahlen `3` und `9` addiert werden:"
   ]
  },
  {
   "cell_type": "code",
   "execution_count": null,
   "id": "a40093b9",
   "metadata": {},
   "outputs": [],
   "source": [
    "3 + 9"
   ]
  },
  {
   "cell_type": "markdown",
   "id": "ce3458f2",
   "metadata": {},
   "source": [
    "Code wie in der obigen Zelle nennen wir **Ausdruck** (oder Expression). Eine Expression ist ein kleiner Teil Programmcode, der zu einem Objekt ausgewertet werden kann.\n",
    "\n",
    "Weitere Beispiele für Expressions wären:\n",
    "``` Python\n",
    "3 * (4 - 1)\n",
    "[x**2 for x in range(5)]\n",
    "max(10, 20, 5)\n",
    "\"hello\".upper()\n",
    "```\n",
    "\n",
    "Du kannst alle Zeilen in einer Jupyter Zelle ausführen und wirst ein Objekt als Ergebnis bekommen.\n",
    "\n",
    "Eine Expression alleine ist oft nicht sehr hilfreich. Meistens wollen wir uns den Wert den wir berechnet haben auch abspeichern und später wiederverwenden.\n",
    "\n",
    "Durch eine **Zuweisung** mit `=` können wir das Ergebnis einer Expression in einer **Variable** speichern."
   ]
  },
  {
   "cell_type": "code",
   "execution_count": null,
   "id": "d04dc256",
   "metadata": {},
   "outputs": [],
   "source": [
    "meine_variable = 42"
   ]
  },
  {
   "cell_type": "markdown",
   "id": "c0420107",
   "metadata": {},
   "source": [
    "Dieser Code gibt uns kein Ergebnis zurück, da es sich bei dem Code nicht um eine Expression sondern um eine Zuweisung handelt. Die Expression ist nur der Teil, der rechts vom `=` steht (also die `42`).\n",
    "\n",
    "In der Variable `meine_variable` ist nun ein Objekt vom Typ `int` mit dem Wert `42` gespeichert."
   ]
  },
  {
   "cell_type": "markdown",
   "id": "521b9b7c",
   "metadata": {},
   "source": [
    "Python ist eine **dynamisch typisierte** Sprache, was bedeutet, dass wir **Variablen** erstellen können,\n",
    "ohne explizit ihren Typ deklarieren zu müssen.\n",
    "\n",
    "Das hat den Vorteil, dass wir uns um den konkreten Datentyp oft keine Gedanken machen müssen. Es verschleiert aber auch oft, was tatsächlich unter der Haube von Python vor sich geht."
   ]
  },
  {
   "cell_type": "code",
   "execution_count": null,
   "id": "5920b2ee",
   "metadata": {},
   "outputs": [],
   "source": [
    "# Mit der funktion `type` können wir den Datentyp einer variable überprüfen.\n",
    "print(f\"Der Wert ist {meine_variable} und hat den Typ: {type(meine_variable)}\")"
   ]
  },
  {
   "cell_type": "markdown",
   "id": "3aeb96e0",
   "metadata": {},
   "source": [
    "## 2. Einfache Datentypen\n",
    "\n",
    "In Python gibt es mehrere grundlegende Datentypen, die als \"primitiv\" betrachtet werden können. Diese Typen bilden die Basis für komplexere Datenstrukturen und sind in der Standardbibliothek von Python enthalten. Im Folgenden lernen wir die wichtigsten primitiven Datentypen kennen und wie sie verwendet werden.\n",
    "\n",
    "### 2.1 Boolean (bool)\n",
    "Ein Objekt vom Typ `bool` kann nur zwei Werte annehmen: `True` oder `False`. \n",
    "\n",
    "Boolean-Werte werden primär für logische Operationen und Bedingungen verwendet. Sie sind das Ergebnis von Vergleichsoperationen und steuern den Ablauf von Kontrollstrukturen wie `if`-Anweisungen und Schleifen.\n",
    "\n",
    "Wir können Boolean-Werte direkt zuweisen oder durch Vergleiche erzeugen:"
   ]
  },
  {
   "cell_type": "code",
   "execution_count": null,
   "id": "3e6faf17",
   "metadata": {},
   "outputs": [],
   "source": [
    "wahr = True\n",
    "falsch = False\n",
    "\n",
    "print(f\"Typ von wahr: {type(wahr)}\")"
   ]
  },
  {
   "cell_type": "code",
   "execution_count": null,
   "id": "f9ca0e2b",
   "metadata": {},
   "outputs": [],
   "source": [
    "# Logische Operationen mit Booleans\n",
    "print(\"\\nLogische Operationen:\")\n",
    "print(f\"True and False: {True and False}\")  # Logisches UND: Beide Bedingungen müssen wahr sein\n",
    "print(f\"True or False: {True or False}\")    # Logisches ODER: Eine Bedingung muss wahr sein\n",
    "print(f\"not True: {not True}\")              # Logische Negation: Kehrt den Wert um"
   ]
  },
  {
   "cell_type": "code",
   "execution_count": null,
   "id": "adaf5a66",
   "metadata": {},
   "outputs": [],
   "source": [
    "# Vergleichsoperatoren erzeugen Boolean-Werte\n",
    "print(\"\\nVergleiche:\")\n",
    "print(f\"5 > 3: {5 > 3}\")    # Größer als\n",
    "print(f\"5 == 5: {5 == 5}\")  # Gleich (Beachte den doppelten Gleichheitsoperator für Vergleiche)\n",
    "print(f\"5 != 10: {5 != 10}\") # Ungleich"
   ]
  },
  {
   "cell_type": "markdown",
   "id": "4e59eb37",
   "metadata": {},
   "source": [
    "Interessanterweise können in Python alle Objekte in einem Boolean-Kontext ausgewertet werden. Die Funktion `bool()` gibt den entsprechenden Boolean-Wert zurück. Einige Beispiele für Werte, die als `False` betrachtet werden:\n",
    "\n",
    "- `False` (Boolean False)\n",
    "- `None` (Der Python Null-Wert)\n",
    "- `0` (Integer Null)\n",
    "- `0.0` (Float Null)\n",
    "- `''` oder `\"\"` (Leerer String)\n",
    "- `[]` (Leere Liste)\n",
    "- `()` (Leeres Tupel)\n",
    "- `{}` (Leeres Dictionary)\n",
    "- `set()` (Leeres Set)\n",
    "\n",
    "Alle anderen Werte werden als `True` angesehen. Diese Eigenschaft wird oft in Bedingungen genutzt, z.B. `if my_list:` prüft, ob die Liste nicht leer ist."
   ]
  },
  {
   "cell_type": "code",
   "execution_count": null,
   "id": "3e7124c4",
   "metadata": {},
   "outputs": [],
   "source": [
    "# Boolean-Konversion von verschiedenen Werten\n",
    "print(\"\\nBoolean Konvertierung:\")\n",
    "print(f\"bool(0): {bool(0)}\")\n",
    "print(f\"bool(1): {bool(1)}\")\n",
    "print(f\"bool(''): {bool('')}\")\n",
    "print(f\"bool('Hallo'): {bool('Hallo')}\")\n",
    "print(f\"bool([]): {bool([])}\")\n",
    "print(f\"bool([1, 2]): {bool([1, 2])}\")"
   ]
  },
  {
   "cell_type": "markdown",
   "id": "f5f5048d",
   "metadata": {},
   "source": [
    "### 2.2 Integer (int)\n",
    "Integer sind ganze Zahlen ohne Dezimalstellen. Sie können positiv oder negativ sein und haben in Python keine festgelegte Größenbeschränkung (solange der verfügbare Speicher ausreicht).\n",
    "\n",
    "Integers werden für die Darstellung von ganzen Zahlen verwendet und unterstützen alle grundlegenden arithmetischen Operationen.\n",
    "\n",
    "In vielen Programmiersprachen haben Integer eine feste Größe (wie 32 oder 64 Bit), was zu Überlaufproblemen führen kann. In Python werden Integer jedoch automatisch erweitert, wenn sie zu groß werden, was sehr große Zahlen ermöglicht."
   ]
  },
  {
   "cell_type": "code",
   "execution_count": null,
   "id": "85d72feb",
   "metadata": {
    "lines_to_next_cell": 2
   },
   "outputs": [],
   "source": [
    "positiv = 42\n",
    "negativ = -42\n",
    "gross = 10**20  # 10 hoch 20 - eine sehr große Zahl\n",
    "\n",
    "print(\"\\nInteger-Beispiele:\")\n",
    "print(f\"positiv = {positiv}, Typ: {type(positiv)}\")\n",
    "print(f\"negativ = {negativ}, Typ: {type(negativ)}\")\n",
    "print(f\"gross = {gross}, Typ: {type(gross)}\")"
   ]
  },
  {
   "cell_type": "code",
   "execution_count": null,
   "id": "a2ad5383",
   "metadata": {},
   "outputs": [],
   "source": [
    "# Integer-Operationen\n",
    "a, b = 10, 3\n",
    "print(f\"{a=}\")  # Kompakte Ausgabe des Variablennamens und -werts\n",
    "print(f\"{b=}\")\n",
    "print(\"\\nInteger-Operationen:\")\n",
    "\n",
    "\n",
    "print(f\"a + b = {a + b}\")  # Addition\n",
    "print(f\"a - b = {a - b}\")  # Subtraktion\n",
    "print(f\"a * b = {a * b}\")  # Multiplikation\n",
    "print(f\"a / b = {a / b}\")  # Division (Ergebnis ist float)\n",
    "print(f\"a // b = {a // b}\")  # Ganzzahlige Division (Abrunden zum nächsten ganzzahligen Wert)\n",
    "print(f\"a % b = {a % b}\")  # Modulo (Rest der ganzzahligen Division)\n",
    "print(f\"a ** b = {a ** b}\")  # Potenzierung (a hoch b)"
   ]
  },
  {
   "cell_type": "markdown",
   "id": "c920400b",
   "metadata": {},
   "source": [
    "Integer in Python haben einige besondere Eigenschaften:\n",
    "\n",
    "1. **Unbegrenzte Präzision**: Python kann mit beliebig großen Zahlen umgehen, ohne dass ein Überlauf auftritt. Dies unterscheidet Python von Sprachen wie C oder Java, wo Integer eine feste Größe haben.\n",
    "\n",
    "2. **Automatische Typkonvertierung**: Bei der Division zweier Integer (`/`) gibt Python standardmäßig einen Float zurück, während die ganzzahlige Division (`//`) einen Integer zurückgibt.\n",
    "\n",
    "3. **Bitoperationen**: Integer unterstützen bitweise Operationen wie `&` (AND), `|` (OR), `^` (XOR), `~` (NOT), `<<` (Links-Shift) und `>>` (Rechts-Shift)."
   ]
  },
  {
   "cell_type": "code",
   "execution_count": null,
   "id": "6786ca0f",
   "metadata": {},
   "outputs": [],
   "source": [
    "# Demonstration der Bitoperationen\n",
    "c, d = 10, 6  # In Binär: 10 = 1010, 6 = 0110\n",
    "print(\"\\nBitweise Operationen:\")\n",
    "print(f\"c = {c} (Binär: {bin(c)})\")\n",
    "print(f\"d = {d} (Binär: {bin(d)})\")\n",
    "print(f\"c & d = {c & d} (Binär: {bin(c & d)})\")  # Bitweises AND\n",
    "print(f\"c | d = {c | d} (Binär: {bin(c | d)})\")  # Bitweises OR\n",
    "print(f\"c ^ d = {c ^ d} (Binär: {bin(c ^ d)})\")  # Bitweises XOR\n",
    "print(f\"~c = {~c} (Binär: {bin(~c)})\")           # Bitweises NOT\n",
    "print(f\"c << 1 = {c << 1} (Binär: {bin(c << 1)})\")  # Links-Shift (multipliziert mit 2)\n",
    "print(f\"c >> 1 = {c >> 1} (Binär: {bin(c >> 1)})\")  # Rechts-Shift (dividiert durch 2)"
   ]
  },
  {
   "cell_type": "markdown",
   "id": "7dc3d28d",
   "metadata": {},
   "source": [
    "### 2.3 Float (float)\n",
    "Floats sind Zahlen mit Dezimalstellen. Sie werden intern mit doppelter Präzision dargestellt (64 Bit IEEE 754), was eine hohe Genauigkeit, aber keine unbegrenzte Präzision bietet.\n",
    "\n",
    "Floats werden für wissenschaftliche Berechnungen, Messungen und überall dort verwendet, wo Dezimalzahlen benötigt werden. Sie können in der Standardnotation (z.B. `3.14`) oder in wissenschaftlicher Notation (z.B. `2.5e8` für 2.5 × 10⁸) dargestellt werden.\n",
    "\n",
    "Es ist wichtig zu verstehen, dass Floats aufgrund ihrer binären Darstellung im Speicher nicht alle Dezimalzahlen exakt darstellen können, was zu Rundungsfehlern führen kann."
   ]
  },
  {
   "cell_type": "code",
   "execution_count": null,
   "id": "96c1baeb",
   "metadata": {
    "lines_to_next_cell": 2
   },
   "outputs": [],
   "source": [
    "x = 3.14          # Standard Dezimalnotation\n",
    "y = -0.001        # Negative Dezimalzahl\n",
    "z = 2.5e8         # Wissenschaftliche Notation: 2.5 * 10^8 = 250000000.0\n",
    "w = 1.23e-5       # Wissenschaftliche Notation für kleine Zahlen: 1.23 * 10^-5 = 0.0000123\n",
    "\n",
    "print(f\"{x=}\")\n",
    "print(f\"{y=}\")\n",
    "print(f\"{z=}\")\n",
    "print(f\"{w=}\")\n",
    "\n",
    "\n",
    "print(\"\\nFloat-Beispiele:\")\n",
    "print(f\"x = {x}, Typ: {type(x)}\")\n",
    "print(f\"y = {y}, Typ: {type(y)}\")\n",
    "print(f\"z = {z}, Typ: {type(z)}\")\n",
    "print(f\"w = {w}, Typ: {type(w)}\")"
   ]
  },
  {
   "cell_type": "code",
   "execution_count": null,
   "id": "5abc7519",
   "metadata": {},
   "outputs": [],
   "source": [
    "# Umwandlung zwischen int und float\n",
    "i = 5\n",
    "f = float(i)  # int zu float\n",
    "print(f\"\\nInt {i} zu Float: {f}\")\n",
    "\n",
    "f = 7.8\n",
    "i = int(f)  # float zu int (schneidet Dezimalstellen ab, kein Runden!)\n",
    "print(f\"Float {f} zu Int: {i}\")\n",
    "\n",
    "# Achtung bei Float-Arithmetik: Rundungsfehler können auftreten\n",
    "print(\"\\nFloat-Präzision:\")\n",
    "print(f\"0.1 + 0.2 = {0.1 + 0.2}\")  # Ergibt nicht exakt 0.3 wegen binärer Darstellung\n",
    "print(f\"Ist 0.1 + 0.2 == 0.3? {0.1 + 0.2 == 0.3}\")  # Wird 'False' sein!"
   ]
  },
  {
   "cell_type": "markdown",
   "id": "4235d4fc",
   "metadata": {},
   "source": [
    "Der Rundungsfehler bei Floats ist ein wichtiges Konzept in der Programmierung. Wenn wir präzise Dezimalberechnungen benötigen, sollten wir das `decimal`-Modul von Python verwenden:"
   ]
  },
  {
   "cell_type": "code",
   "execution_count": null,
   "id": "748ba10e",
   "metadata": {},
   "outputs": [],
   "source": [
    "from decimal import Decimal\n",
    "\n",
    "print(\"\\nMit dem Decimal-Modul:\")\n",
    "print(f\"Decimal('0.1') + Decimal('0.2') = {Decimal('0.1') + Decimal('0.2')}\")\n",
    "print(f\"Ist Decimal('0.1') + Decimal('0.2') == Decimal('0.3')? {Decimal('0.1') + Decimal('0.2') == Decimal('0.3')}\")"
   ]
  },
  {
   "cell_type": "markdown",
   "id": "b947e8a6",
   "metadata": {},
   "source": [
    "Floats unterstützen alle arithmetischen Operationen wie Integer, bieten aber auch zusätzliche mathematische Funktionen über das `math`-Modul:"
   ]
  },
  {
   "cell_type": "code",
   "execution_count": null,
   "id": "b2cdad14",
   "metadata": {},
   "outputs": [],
   "source": [
    "import math\n",
    "\n",
    "print(\"\\nMathematische Operationen mit Floats:\")\n",
    "print(f\"Quadratwurzel von 25: {math.sqrt(25)}\")\n",
    "print(f\"Sinus von Pi/2: {math.sin(math.pi/2)}\")\n",
    "print(f\"e hoch 2: {math.exp(2)}\")\n",
    "print(f\"Natürlicher Logarithmus von 10: {math.log(10)}\")\n",
    "print(f\"Logarithmus zur Basis 10 von 100: {math.log10(100)}\")\n",
    "print(f\"Aufrunden von 4.3: {math.ceil(4.3)}\")\n",
    "print(f\"Abrunden von 4.7: {math.floor(4.7)}\")"
   ]
  },
  {
   "cell_type": "markdown",
   "id": "1943a0e3",
   "metadata": {},
   "source": [
    "### 2.4 String (str)\n",
    "Strings sind Zeichenketten beliebiger länge. Sie sind eine Sequenz von Unicode-Zeichen und gehören damit eigentlich zu den Datenstrukturen, werden aber oft als primitive Datentypen behandelt.\n",
    "\n",
    "Strings werden für die Darstellung von Text, Namen, Codes, und anderen zeichenbasierten Informationen verwendet. Sie sind unveränderlich (immutable), d.h. einmal erstellt, kann ihr Inhalt nicht mehr geändert werden.\n",
    "\n",
    "Strings können durch doppelte `\"` oder einzelne `'` Anführungszeichen erzeugt werden. Für mehrzeilige Strings verwendet man dreifache Anführungszeichen `\"\"\"` oder `'''`."
   ]
  },
  {
   "cell_type": "code",
   "execution_count": null,
   "id": "d5c9389f",
   "metadata": {},
   "outputs": [],
   "source": [
    "s1 = \"Hallo Welt\"\n",
    "s2 = 'Einzelne Anführungszeichen'\n",
    "s3 = \"String mit einem 'Wort' in Anführungszeichen\"\n",
    "s4 = 'String mit einem \"Wort\" in doppelten Anführungszeichen'\n",
    "\n",
    "s5 = \"\"\"Ein String\n",
    "mit einem Zeilenumbruch.\n",
    "Und noch einer Zeile.\"\"\"\n",
    "\n",
    "s6 = '''Auch mit einfachen\n",
    "dreifachen Anführungszeichen\n",
    "geht das.'''\n",
    "\n",
    "print(s1)\n",
    "print(s2)\n",
    "print(s3)\n",
    "print(s4)\n",
    "print(s5)\n",
    "print(s6)"
   ]
  },
  {
   "cell_type": "markdown",
   "id": "dcd52676",
   "metadata": {},
   "source": [
    "Strings können durch das `+`-Zeichen aneinandergehängt (konkateniert) werden. Diese Operation erstellt einen neuen String, da Strings immutable sind."
   ]
  },
  {
   "cell_type": "code",
   "execution_count": null,
   "id": "a53d22f5",
   "metadata": {},
   "outputs": [],
   "source": [
    "# String-Konkatenation\n",
    "greeting = \"Hallo\"\n",
    "name = \"Welt\"\n",
    "message = greeting + \" \" + name\n",
    "print(message)"
   ]
  },
  {
   "cell_type": "markdown",
   "id": "f7ee83ef",
   "metadata": {},
   "source": [
    "Strings können durch das `*`-Zeichen und einem Integer vervielfältigt werden. Dies ist nützlich, um Muster oder Trennlinien zu erstellen."
   ]
  },
  {
   "cell_type": "code",
   "execution_count": null,
   "id": "4eb47f7b",
   "metadata": {},
   "outputs": [],
   "source": [
    "# String-Multiplikation\n",
    "trennlinie = \"-\" * 20\n",
    "rahmen = \"+\" + \"-\" * 18 + \"+\"\n",
    "print(trennlinie)\n",
    "print(rahmen)\n",
    "print(\"| \" + \"Python ist toll!\".ljust(16) + \" |\")\n",
    "print(rahmen)"
   ]
  },
  {
   "cell_type": "markdown",
   "id": "1cb389e2",
   "metadata": {},
   "source": [
    "Ein wichtiges Konzept bei Strings ist das **Indexing** und **Slicing**. Durch eckige Klammern `[]` können wir einzelne Zeichen oder Teilstrings extrahieren:\n",
    "\n",
    "- ein bestimmtes Zeichen indexieren mit `[<index>]`\n",
    "- den Anfang und den Ende der Teilfolge definieren mit `[<start>:<end>]`\n",
    "- den Angang, das Ende und eine Schrittweite definieren mit `[<start>:<end>:<step>]`\n",
    "\n",
    "In Python beginnen Indizes bei 0, und negative Indizes zählen vom Ende des Strings."
   ]
  },
  {
   "cell_type": "code",
   "execution_count": null,
   "id": "5e22dfd2",
   "metadata": {},
   "outputs": [],
   "source": [
    "s = \"Hallo Welt\"\n",
    "\n",
    "print(f\"{s=}\")\n",
    "print(f\"{s[0]=}\")        # Erstes Zeichen (Index 0)\n",
    "print(f\"{s[1]=}\")        # Zweites Zeichen (Index 1)\n",
    "print(f\"{s[2]=}\")        # Drittes Zeichen (Index 2)\n",
    "print(f\"{s[-1]=}\")       # Letztes Zeichen\n",
    "print(f\"{s[-2]=}\")       # Vorletztes Zeichen\n",
    "print(f\"{s[0:3]=}\")      # Zeichen 0 bis 2 (Index 3 ist exklusiv)\n",
    "print(f\"{s[0:-1]=}\")     # Vom Anfang bis zum vorletzten Zeichen\n",
    "print(f\"{s[0:]=}\")       # Vom Anfang bis zum Ende (komplett)\n",
    "print(f\"{s[:]=}\")        # Der komplette String\n",
    "print(f\"{s[::2]=}\")      # Jedes zweite Zeichen\n",
    "print(f\"{s[::-1]=}\")     # Umgekehrter String (von hinten nach vorne)"
   ]
  },
  {
   "cell_type": "markdown",
   "id": "0ed335e6",
   "metadata": {},
   "source": [
    "Der `in`-Operator prüft, ob ein Substring in einem String enthalten ist. `not in` prüft auf Nichtvorhandensein."
   ]
  },
  {
   "cell_type": "code",
   "execution_count": null,
   "id": "d485cc51",
   "metadata": {},
   "outputs": [],
   "source": [
    "# Prüfen, ob ein Substring enthalten ist\n",
    "print(\"'l' in 'Hallo Welt':\", \"l\" in \"Hallo Welt\")\n",
    "print(\"'flup' in 'Hallo Welt':\", \"flup\" in \"Hallo Welt\")\n",
    "print(\"'flup' nicht in 'Hallo Welt':\", \"flup\" not in \"Hallo Welt\")\n",
    "print(\"'hallo' in 'Hallo Welt' (Groß-/Kleinschreibung beachten):\", \"hallo\" in \"Hallo Welt\")\n",
    "print(\"'hallo' in 'Hallo Welt' (Groß-/Kleinschreibung ignorieren):\", \"hallo\".lower() in \"Hallo Welt\".lower())"
   ]
  },
  {
   "cell_type": "markdown",
   "id": "d2539026",
   "metadata": {},
   "source": [
    "Die `len`-Funktion gibt die Länge (Anzahl der Zeichen) eines Strings zurück. Diese Funktion funktioniert auch mit anderen Sequenztypen wie Listen, Tupeln usw."
   ]
  },
  {
   "cell_type": "code",
   "execution_count": null,
   "id": "163a7968",
   "metadata": {},
   "outputs": [],
   "source": [
    "# String-Länge\n",
    "print(f\"Länge von 'Hallo Welt': {len('Hallo Welt')}\")\n",
    "print(f\"Länge eines leeren Strings: {len('')}\")\n",
    "print(f\"Länge eines Strings mit Leerzeichen: {len('   ')}\")"
   ]
  },
  {
   "cell_type": "markdown",
   "id": "d4c79c63",
   "metadata": {},
   "source": [
    "Die String-Klasse bietet eine Vielzahl nützlicher Methoden, die wir durch einen `.` gefolgt vom Methodennamen aufrufen können. Diese erstellen immer einen neuen String und verändern den ursprünglichen String nicht (weil Strings immutable sind)."
   ]
  },
  {
   "cell_type": "code",
   "execution_count": null,
   "id": "92087ad1",
   "metadata": {},
   "outputs": [],
   "source": [
    "s = \"  Hallo Welt  \"\n",
    "print(f\"Original: '{s}'\")\n",
    "print(f\"{s.upper()=}\")      # Alle Zeichen in Großbuchstaben\n",
    "print(f\"{s.lower()=}\")      # Alle Zeichen in Kleinbuchstaben\n",
    "print(f\"{s.strip()=}\")      # Entfernt Leerzeichen am Anfang und Ende\n",
    "print(f\"{s.split()=}\")      # Teilt den String an Leerzeichen und erstellt eine Liste"
   ]
  },
  {
   "cell_type": "markdown",
   "id": "0d6ed78e",
   "metadata": {},
   "source": [
    "Hier sind weitere nützliche String-Methoden:"
   ]
  },
  {
   "cell_type": "code",
   "execution_count": null,
   "id": "682c08e7",
   "metadata": {
    "lines_to_next_cell": 1
   },
   "outputs": [],
   "source": [
    "text = \"Python ist eine großartige Programmiersprache!\"\n",
    "print(f\"Original: '{text}'\")\n",
    "print(f\"Erste Buchstaben groß: {text.title()}\")\n",
    "print(f\"Ersten Buchstaben eines Satzes groß: {text.capitalize()}\")\n",
    "print(f\"Ersetzt 'großartige' durch 'fantastische': {text.replace('großartige', 'fantastische')}\")\n",
    "print(f\"Beginnt mit 'Python'? {text.startswith('Python')}\")\n",
    "print(f\"Endet mit '!'? {text.endswith('!')}\")\n",
    "print(f\"Position von 'großartige': {text.find('großartige')}\")\n",
    "print(f\"Anzahl des Buchstabens 'e': {text.count('e')}\")\n",
    "\n",
    "# String-Formatierung\n",
    "name = \"Alice\"\n",
    "alter = 30\n",
    "print(f\"Formatierung mit f-Strings: {name} ist {alter} Jahre alt.\")\n",
    "print(\"Formatierung mit .format(): {} ist {} Jahre alt.\".format(name, alter))\n",
    "print(\"Formatierung mit benannten Parametern: {n} ist {a} Jahre alt.\".format(n=name, a=alter))"
   ]
  },
  {
   "cell_type": "markdown",
   "id": "72f25116",
   "metadata": {},
   "source": [
    "### 2.5 None\n",
    "Der `None`-Typ in Python wird verwendet, um die Abwesenheit eines Wertes zu kennzeichnen. Er ist vergleichbar mit `null` in anderen Programmiersprachen.\n",
    "\n",
    "`None` wird oft als Standardrückgabewert von Funktionen verwendet, die keinen expliziten Wert zurückgeben. Es ist auch nützlich als Initialwert für Variablen, die später einen Wert erhalten sollen.\n",
    "\n",
    "`None` ist ein Singleton-Objekt, d.h. es gibt nur eine Instanz von `None` im gesamten Programm. Wir können prüfen, ob ein Objekt `None` ist, indem wir den `is`-Operator verwenden."
   ]
  },
  {
   "cell_type": "code",
   "execution_count": null,
   "id": "bdd5abbe",
   "metadata": {},
   "outputs": [],
   "source": [
    "def f():\n",
    "    print(\"Ich gebe nichts zurück :)\")\n",
    "    \n",
    "result = f()\n",
    "\n",
    "print(f\"Rückgabewert: {result}\")\n",
    "print(f\"Typ des Rückgabewerts: {type(result)}\")"
   ]
  },
  {
   "cell_type": "markdown",
   "id": "2779b238",
   "metadata": {},
   "source": [
    "Der `None`-Wert hat einige besondere Eigenschaften:"
   ]
  },
  {
   "cell_type": "code",
   "execution_count": null,
   "id": "9a57582c",
   "metadata": {},
   "outputs": [],
   "source": [
    "# None in Vergleichen\n",
    "print(f\"None == None: {None == None}\")    # Gleichheitsprüfung\n",
    "print(f\"None is None: {None is None}\")    # Identitätsprüfung (bevorzugt für None)\n",
    "\n",
    "# None in Wahrheitswerten\n",
    "print(f\"bool(None): {bool(None)}\")       # None ist False in Boolean-Kontext\n",
    "\n",
    "# None als Default-Parameter\n",
    "def greet(name=None):\n",
    "    if name is None:\n",
    "        return \"Hallo, Gast!\"\n",
    "    else:\n",
    "        return f\"Hallo, {name}!\"\n",
    "\n",
    "print(greet())             # Verwendet den Default-Wert None\n",
    "print(greet(\"Max\"))        # Verwendet den übergebenen Namen"
   ]
  },
  {
   "cell_type": "markdown",
   "id": "4bfaf7af",
   "metadata": {},
   "source": [
    "## 3. Zusammenfassung\n",
    "\n",
    "In diesem Notebook haben wir die grundlegenden Datentypen in Python kennengelernt:\n",
    "\n",
    "- **Boolean (bool)**: `True` oder `False`, für logische Operationen\n",
    "- **Integer (int)**: Ganze Zahlen ohne Größenbeschränkung\n",
    "- **Float (float)**: Dezimalzahlen mit doppelter Präzision\n",
    "- **String (str)**: Zeichenketten mit Unicode-Unterstützung\n",
    "- **None**: Zur Darstellung der Abwesenheit eines Wertes\n",
    "\n",
    "Diese Datentypen bilden die Grundlage für komplexere Datenstrukturen und Algorithmen in Python. Das Verständnis dieser Grundlagen ist essenziell für die effektive Programmierung in Python.\n",
    "\n",
    "In fortgeschrittenen Anwendungen werden wir auch weitere Datentypen wie Listen, Tupel, Dictionaries und Sets kennenlernen, die auf diesen primitiven Typen aufbauen."
   ]
  }
 ],
 "metadata": {
  "kernelspec": {
   "display_name": ".venv",
   "language": "python",
   "name": "python3"
  },
  "language_info": {
   "codemirror_mode": {
    "name": "ipython",
    "version": 3
   },
   "file_extension": ".py",
   "mimetype": "text/x-python",
   "name": "python",
   "nbconvert_exporter": "python",
   "pygments_lexer": "ipython3",
   "version": "3.12.4"
  }
 },
 "nbformat": 4,
 "nbformat_minor": 5
}
