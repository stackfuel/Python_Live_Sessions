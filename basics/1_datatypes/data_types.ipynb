{
 "cells": [
  {
   "cell_type": "markdown",
   "metadata": {},
   "source": [
    "# Python \"primitive\" Datentypen\n",
    "\n",
    "## 1. Einleitung\n",
    "In diesem Notebook lernen wir die grundlegenden Datentypen in Python kennen.\n",
    "\n",
    "In Python werden Informationen bzw. Daten in Objekten gespeichert. Diese Objekte sind immer von einem bestimmten Typ. Der Typ eines Objektes bestimmt, welche Daten in den Objekt gespeichert, und welche operationen mit dem Objekt ausgeführt werden können.\n",
    "\n",
    "Zwei Zahlen `3` und `9` werden Beispielsweise in dem Datentyp `int` (Integer) gespeichert. Und da zwei Integer Objekte durch das `+`-Zeichen addiert werden können, können auch die Zahlen `3` und `9` addiert werden:"
   ]
  },
  {
   "cell_type": "code",
   "execution_count": null,
   "metadata": {},
   "outputs": [],
   "source": [
    "3 + 9"
   ]
  },
  {
   "cell_type": "markdown",
   "metadata": {},
   "source": [
    "Python ist eine **dynamisch typisierte** Sprache, was bedeutet, dass wir Variablen erstellen können,\n",
    "ohne explizit ihren Typ deklarieren zu müssen.\n",
    "\n",
    "Das hat den Vorteil, dass wir uns um den konkreten Datentyp oft keine Gedanken machen müssen. Es verschleiert aber auch oft, was tatsächlich unter der Haube von Python vor sich geht."
   ]
  },
  {
   "cell_type": "code",
   "execution_count": null,
   "metadata": {},
   "outputs": [],
   "source": [
    "# Python erkennt den Typ automatisch anhand des zugewiesenen Wertes.\n",
    "variable = 42  # Python erkennt dies automatisch als Integer\n",
    "\n",
    "# Mit der funktion `type` können wir den Datentyp einer variable überprüfen.\n",
    "print(f\"Der Wert ist {variable} und hat den Typ: {type(variable)}\")\n"
   ]
  },
  {
   "cell_type": "markdown",
   "metadata": {},
   "source": [
    "## 2. Einfache Datentypen\n",
    "\n",
    "### 2.1 Boolean (bool)\n",
    "Der Boolean-Typ kann nur zwei Werte haben: True oder False\n",
    "\n",
    "Diese werden für logische Operationen verwendet"
   ]
  },
  {
   "cell_type": "code",
   "execution_count": null,
   "metadata": {},
   "outputs": [],
   "source": [
    "wahr = True\n",
    "falsch = False\n",
    "\n",
    "print(f\"Typ von wahr: {type(wahr)}\")"
   ]
  },
  {
   "cell_type": "code",
   "execution_count": null,
   "metadata": {},
   "outputs": [],
   "source": [
    "# Logische Operationen mit Booleans\n",
    "print(\"\\nLogische Operationen:\")\n",
    "print(f\"True and False: {True and False}\")\n",
    "print(f\"True or False: {True or False}\")\n",
    "print(f\"not True: {not True}\")"
   ]
  },
  {
   "cell_type": "code",
   "execution_count": null,
   "metadata": {},
   "outputs": [],
   "source": [
    "# Vergleichsoperatoren erzeugen Boolean-Werte\n",
    "print(\"\\nVergleiche:\")\n",
    "print(f\"5 > 3: {5 > 3}\")\n",
    "print(f\"5 == 5: {5 == 5}\")\n",
    "print(f\"5 != 10: {5 != 10}\")\n"
   ]
  },
  {
   "cell_type": "markdown",
   "metadata": {},
   "source": [
    "### 2.2 Integer (int)\n",
    "Integer sind ganze Zahlen ohne Dezimalstellen.\n",
    "\n",
    "Sie können positiv oder negativ sein und haben keine festgelegte Größenbeschränkung in Python\n"
   ]
  },
  {
   "cell_type": "code",
   "execution_count": null,
   "metadata": {},
   "outputs": [],
   "source": [
    "positiv = 42\n",
    "negativ = -42\n",
    "gross = 10**20  # 10 hoch 20\n",
    "\n",
    "print(\"\\nInteger-Beispiele:\")\n",
    "print(f\"positiv = {positiv}, Typ: {type(positiv)}\")\n",
    "print(f\"negativ = {negativ}, Typ: {type(negativ)}\")\n",
    "print(f\"gross = {gross}, Typ: {type(gross)}\")\n"
   ]
  },
  {
   "cell_type": "code",
   "execution_count": null,
   "metadata": {},
   "outputs": [],
   "source": [
    "# Integer-Operationen\n",
    "a, b = 10, 3\n",
    "print(f\"{a=}\")\n",
    "print(f\"{b=}\")\n",
    "print(\"\\nInteger-Operationen:\")\n",
    "\n",
    "\n",
    "print(f\"a + b = {a + b}\")  # Addition\n",
    "print(f\"a - b = {a - b}\")  # Subtraktion\n",
    "print(f\"a * b = {a * b}\")  # Multiplikation\n",
    "print(f\"a / b = {a / b}\")  # Division (Ergebnis ist float)\n",
    "print(f\"a // b = {a // b}\")  # Ganzzahlige Division\n",
    "print(f\"a % b = {a % b}\")  # Modulo (Rest)\n",
    "print(f\"a ** b = {a ** b}\")  # Potenzierung"
   ]
  },
  {
   "cell_type": "markdown",
   "metadata": {},
   "source": [
    "### 2.3 Float (float)\n",
    "Floats sind Zahlen mit Dezimalstellen\n",
    "\n",
    "Sie werden intern mit doppelter Präzision dargestellt (64 Bit IEEE 754)\n"
   ]
  },
  {
   "cell_type": "code",
   "execution_count": null,
   "metadata": {},
   "outputs": [],
   "source": [
    "x = 3.14\n",
    "y = -0.001\n",
    "z = 2.5e8  # Wissenschaftliche Notation: 2.5 * 10^8\n",
    "\n",
    "print(f\"{x=}\")\n",
    "print(f\"{y=}\")\n",
    "print(f\"{z=}\")\n",
    "\n",
    "\n",
    "print(\"\\nFloat-Beispiele:\")\n",
    "print(f\"x = {x}, Typ: {type(x)}\")\n",
    "print(f\"y = {y}, Typ: {type(y)}\")\n",
    "print(f\"z = {z}, Typ: {type(z)}\")\n"
   ]
  },
  {
   "cell_type": "code",
   "execution_count": null,
   "metadata": {},
   "outputs": [],
   "source": [
    "\n",
    "# Umwandlung zwischen int und float\n",
    "i = 5\n",
    "f = float(i)  # int zu float\n",
    "print(f\"\\nInt {i} zu Float: {f}\")\n",
    "\n",
    "f = 7.8\n",
    "i = int(f)  # float zu int (schneidet Dezimalstellen ab)\n",
    "print(f\"Float {f} zu Int: {i}\")\n",
    "\n",
    "# Achtung bei Float-Arithmetik: Rundungsfehler können auftreten\n",
    "print(\"\\nFloat-Präzision:\")\n",
    "print(f\"0.1 + 0.2 = {0.1 + 0.2}\")  # Ergibt nicht exakt 0.3 wegen binärer Darstellung\n",
    "\n"
   ]
  },
  {
   "cell_type": "markdown",
   "metadata": {},
   "source": [
    "### 2.4 String (str)\n",
    "Strings sind Zeichenketten beliebiger länge.\n",
    "\n",
    "Sie beinnhalten mehrere Zeichen und gehören damit eigentlich zu den Datenstrukturen.\n",
    "\n",
    "Strings können durch Doppelte `\"` oder Einzelne `'` Anführungszeichen erzeugt werden.\n",
    "\n",
    "Möchte man einen mehrzeiligen String erstellen, muss man zum Anfang und Ende des String drei anführungszeichen `\"\"\"` bzw. `'''` angeben."
   ]
  },
  {
   "cell_type": "code",
   "execution_count": null,
   "metadata": {},
   "outputs": [],
   "source": [
    "s1 = \"Hallo Welt\"\n",
    "s2 = 'Einzelne Anführungszeichen'\n",
    "s3 = \"String mit einem 'Wort' in Anführungszeichen\"\n",
    "\n",
    "s4 = \"\"\"Ein String\n",
    "mit einem Zeilenumbruch.\"\"\"\n",
    "\n",
    "print(s1)\n",
    "print(s2)\n",
    "print(s3)\n",
    "print(s4)"
   ]
  },
  {
   "cell_type": "markdown",
   "metadata": {},
   "source": [
    "Strings können durch das `+`-Zeichen aneinandergehängt (concatiniert) werden."
   ]
  },
  {
   "cell_type": "code",
   "execution_count": null,
   "metadata": {},
   "outputs": [],
   "source": [
    "\"Hallo\" + \" \" + \"Welt\""
   ]
  },
  {
   "cell_type": "markdown",
   "metadata": {},
   "source": [
    "String können druch das `*`-Zeichen und einem Integer vervielfältigt werden."
   ]
  },
  {
   "cell_type": "code",
   "execution_count": null,
   "metadata": {},
   "outputs": [],
   "source": [
    "\"#\" * 20"
   ]
  },
  {
   "cell_type": "markdown",
   "metadata": {},
   "source": [
    "Durch Eckige Klammern `[]` können wir uns Teile aus einem String herausziehen (slicing).\n",
    "\n",
    "Dabei können wir zwischen drei Varianten wählen:\n",
    "- ein bestimmtes Zeichen indexieren `[<index>]`\n",
    "- den Anfang und den Ende der Teilfolge definieren `[<start>:<end>]`\n",
    "- den Angang, das Ende und eine Schrittweite definieren `[<start>:<end>:<step>]`"
   ]
  },
  {
   "cell_type": "code",
   "execution_count": null,
   "metadata": {},
   "outputs": [],
   "source": [
    "s = \"Hallo Welt\"\n",
    "\n",
    "print(f\"{s=}\")\n",
    "print(f\"{s[0]=}\")\n",
    "print(f\"{s[1]=}\")\n",
    "print(f\"{s[2]=}\")\n",
    "print(f\"{s[-1]=}\")\n",
    "print(f\"{s[-2]=}\")\n",
    "print(f\"{s[0:3]=}\")\n",
    "print(f\"{s[0:-1]=}\")\n",
    "print(f\"{s[0:]=}\")\n",
    "print(f\"{s[:]=}\")\n",
    "print(f\"{s[::2]=}\")\n",
    "print(f\"{s[::-1]=}\")"
   ]
  },
  {
   "cell_type": "code",
   "execution_count": null,
   "metadata": {},
   "outputs": [],
   "source": [
    "print(\"l\" in \"Hallo Welt\")\n",
    "print(\"flup\" in \"Hallo Welt\")\n",
    "print(\"flup\" not in \"Hallo Welt\")"
   ]
  },
  {
   "cell_type": "markdown",
   "metadata": {},
   "source": [
    "Die `len`-Funktion kann uns die Länge (Anzahl der Zeichen) eines Strings (und vieler anderer Datentypen) geben."
   ]
  },
  {
   "cell_type": "code",
   "execution_count": null,
   "metadata": {},
   "outputs": [],
   "source": [
    "len(\"Hallo Welt\")"
   ]
  },
  {
   "cell_type": "markdown",
   "metadata": {},
   "source": [
    "Die String Klasse bietet einige nützliche Methoden, welche wir durch einen `.` gefolgt von dem Methodennamen aufrufen können."
   ]
  },
  {
   "cell_type": "code",
   "execution_count": null,
   "metadata": {},
   "outputs": [],
   "source": [
    "s = \"  Hallo Welt  \"\n",
    "print(f\"{s.upper()=}\")\n",
    "print(f\"{s.lower()=}\")\n",
    "print(f\"{s.strip()=}\")\n",
    "print(f\"{s.split()=}\")"
   ]
  },
  {
   "cell_type": "markdown",
   "metadata": {},
   "source": [
    "### 2.5 None\n",
    "Der `None` type in Python wird verwendet um die Abwesenheit eines Wertes zu kennzeichen.\n",
    "\n",
    "Er wird als default Rückgabewert von Funktionen verwendet."
   ]
  },
  {
   "cell_type": "code",
   "execution_count": null,
   "metadata": {},
   "outputs": [],
   "source": [
    "def f():\n",
    "    print(\"Ich gebe nichts zurück :)\")\n",
    "    \n",
    "result = f()\n",
    "\n",
    "print(result)\n",
    "print(type(result))"
   ]
  }
 ],
 "metadata": {
  "kernelspec": {
   "display_name": ".venv",
   "language": "python",
   "name": "python3"
  },
  "language_info": {
   "codemirror_mode": {
    "name": "ipython",
    "version": 3
   },
   "file_extension": ".py",
   "mimetype": "text/x-python",
   "name": "python",
   "nbconvert_exporter": "python",
   "pygments_lexer": "ipython3",
   "version": "3.12.4"
  }
 },
 "nbformat": 4,
 "nbformat_minor": 2
}
