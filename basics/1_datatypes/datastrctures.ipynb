{
 "cells": [
  {
   "cell_type": "code",
   "execution_count": null,
   "metadata": {},
   "outputs": [],
   "source": [
    "import this"
   ]
  },
  {
   "cell_type": "code",
   "execution_count": null,
   "metadata": {},
   "outputs": [],
   "source": [
    "# grundlegende Datentypen\n",
    "boolean = True              # oder False\n",
    "integer = 42                # oder -1, -45, 156, 928374528138495\n",
    "float   = 3.14              # oder -3.14, 0.0, 928374528138495.0\n",
    "string  = \"Hallo Welt!\"     # oder 'Hallo Welt!', \"🚀\", 'erste Zeile\\nzweite Zeile', \"\"\"mehrzeiliger String\"\"\"\n",
    "none    = None\n",
    "\n",
    "print(boolean, integer, float, string, none, sep=\"\\n\")"
   ]
  },
  {
   "cell_type": "markdown",
   "metadata": {},
   "source": [
    "# Tuple"
   ]
  },
  {
   "cell_type": "markdown",
   "metadata": {},
   "source": [
    "## Was ist ein Tuple\n",
    "\n",
    "- Ein Tuple ist eine unveränderliche, geordnete Sammlung von Elementen.\n",
    "- Ein Tuple wird durch runde Klammern () definiert und die Elemente werden durch Kommas getrennt.\n",
    "- Ein Tuple kann Elemente unterschiedlicher Datentypen enthalten.\n"
   ]
  },
  {
   "cell_type": "code",
   "execution_count": null,
   "metadata": {},
   "outputs": [],
   "source": [
    "\n",
    "tuple_ = (boolean, integer, float, string, none)\n",
    "print(tuple_)"
   ]
  },
  {
   "cell_type": "code",
   "execution_count": null,
   "metadata": {},
   "outputs": [],
   "source": [
    "# Tuple sind 'itterables', das bedeutet wir können sie als Basis für for Schleifen verwenden.\n",
    "\n",
    "for element in tuple_:\n",
    "    print(element)"
   ]
  },
  {
   "cell_type": "code",
   "execution_count": null,
   "metadata": {},
   "outputs": [],
   "source": [
    "fruits = ('apple', 'banana', 'cherry', 'apple', 'orange', 'banana', 'apple')"
   ]
  },
  {
   "cell_type": "code",
   "execution_count": null,
   "metadata": {},
   "outputs": [],
   "source": [
    "# Mit der len Funktion können wir die Anzahl der Elemente in einem Tuple ermitteln.\n",
    "\n",
    "print(len(fruits))"
   ]
  },
  {
   "cell_type": "code",
   "execution_count": null,
   "metadata": {},
   "outputs": [],
   "source": [
    "# Mit dem Keyword `in` lässt sich prüfen ob ein Element in einem Tuple enthalten ist.\n",
    "\n",
    "print('apple' in fruits)\n",
    "print('pear' in fruits)"
   ]
  },
  {
   "cell_type": "code",
   "execution_count": null,
   "metadata": {},
   "outputs": [],
   "source": [
    "# Jedem Element eines Tuples wird ein Index entsprechend seiner Position zugeordnet.\n",
    "# Die Zählung beginnt bei 0. Das erste Element eines Tuples hat also stehts den Index 0.\n",
    "# Um auf die Element über ihren Index zuzugreifen, schreiben wir \n",
    "# fruits[index]\n",
    "# fruits[start:stop]\n",
    "# fruits[start:stop:schrittweite].\n",
    "\n",
    "print(fruits)\n",
    "\n",
    "print(fruits[0])\n",
    "print(fruits[4])\n",
    "print(fruits[1:3])\n",
    "print(fruits[1:6:2])"
   ]
  },
  {
   "cell_type": "code",
   "execution_count": null,
   "metadata": {},
   "outputs": [],
   "source": [
    "# Man kann für den Index auch negative Werte verwenden\n",
    "# -1 entspricht dem letzten Element, -2 dem vorletzten, usw.\n",
    "\n",
    "print(fruits)\n",
    "\n",
    "print(fruits[-1])\n",
    "print(fruits[-2])\n",
    "print(fruits[-3:-1])\n",
    "print(fruits[-3:])"
   ]
  },
  {
   "cell_type": "code",
   "execution_count": null,
   "metadata": {},
   "outputs": [],
   "source": [
    "# Auch für die Schrittweite können negative Werte verwendet werden.\n",
    "# In diesem Fall wird das Tupel rückwärts durchlaufen.\n",
    "# Der Startwert muss dabei größer als der Stopwert sein.\n",
    "\n",
    "print(fruits)\n",
    "\n",
    "print(fruits[::-1])\n",
    "print(fruits[::-2])\n",
    "print(fruits[5:1:-1])\n",
    "print(fruits[5:1:-2])"
   ]
  },
  {
   "cell_type": "code",
   "execution_count": null,
   "metadata": {},
   "outputs": [],
   "source": [
    "# Tuple haben zwei Methoden\n",
    "\n",
    "# Verwenden der count()-Methode, um die Anzahl der Vorkommen von 'apple' zu zählen\n",
    "\n",
    "apple_count = fruits.count('apple')\n",
    "print(apple_count)"
   ]
  },
  {
   "cell_type": "code",
   "execution_count": null,
   "metadata": {},
   "outputs": [],
   "source": [
    "# Verwenden der index()-Methode, um den Index des ersten Vorkommens von 'banana' zu finden\n",
    "fruits.index('apple', 2)"
   ]
  },
  {
   "cell_type": "code",
   "execution_count": null,
   "metadata": {},
   "outputs": [],
   "source": [
    "value = \"apple\"\n",
    "\n",
    "start = 0\n",
    "for _ in range(fruits.count(value)):\n",
    "    idx = fruits.index(value, start)\n",
    "    print(idx)\n",
    "    start = idx+1\n",
    "    "
   ]
  },
  {
   "cell_type": "code",
   "execution_count": null,
   "metadata": {},
   "outputs": [],
   "source": [
    "# tuple sind unveränderlich (immutable), d.h. sie können nach der Erstellung nicht mehr verändert werden.\n",
    "\n",
    "fruits[3] = \"peach\""
   ]
  },
  {
   "cell_type": "markdown",
   "metadata": {},
   "source": [
    "# List"
   ]
  },
  {
   "cell_type": "code",
   "execution_count": null,
   "metadata": {},
   "outputs": [],
   "source": [
    "# Was ist eine List?\n",
    "\n",
    "# Eine List ist eine veränderliche, geordnete Sammlung von Elementen.\n",
    "# Eine List wird durch eckige Klammern [] definiert und die Elemente werden durch Kommas getrennt.\n",
    "# Eine List kann Elemente unterschiedlicher Datentypen enthalten.\n",
    "\n",
    "names = [\"Alice\", \"Bob\", \"Charlie\", \"Bob\", \"David\", \"Eve\"]\n",
    "\n",
    "# Listen unterstützen weitestgehend die selben Funktionalitäten wie Tuple\n",
    "\n",
    "print(names)\n",
    "\n",
    "print(names[1:3])\n",
    "print(len(names))\n",
    "print(\"Alice\" in names)\n",
    "print(\"Mallory\" in names)\n",
    "\n",
    "for name in names:\n",
    "    print(name)\n",
    "\n"
   ]
  },
  {
   "cell_type": "code",
   "execution_count": null,
   "metadata": {},
   "outputs": [],
   "source": [
    "print(names.count(\"Bob\"))\n",
    "print(names.index(\"Bob\"))"
   ]
  },
  {
   "cell_type": "code",
   "execution_count": null,
   "metadata": {},
   "outputs": [],
   "source": [
    "# Listen sind veränderlich (mutable), d.h. sie können nach der Erstellung verändert werden.\n",
    "print(names)\n",
    "names[3] = \"Daniel\"\n",
    "print(names)\n"
   ]
  },
  {
   "cell_type": "code",
   "execution_count": null,
   "metadata": {},
   "outputs": [],
   "source": [
    "# Mit der append()-Methode können wir ein Element am Ende einer Liste hinzufügen.\n",
    "names.append(\"Eva\")\n",
    "print(names)"
   ]
  },
  {
   "cell_type": "code",
   "execution_count": null,
   "metadata": {},
   "outputs": [],
   "source": [
    "# Mit der extend()-Methode können wir eine Liste an eine andere Liste anhängen.\n",
    "names.extend([\"Frank\", \"Grace\"])\n",
    "# names = names + [\"Frank\", \"Grace\"] # tut das gleiche\n",
    "print(names)"
   ]
  },
  {
   "cell_type": "code",
   "execution_count": null,
   "metadata": {},
   "outputs": [],
   "source": [
    "# Zwei Listen können auch mit dem + Operator zusammengefügt werden.\n",
    "# Dabei wird eine neue Liste erstellt und die beiden Listen werden nicht verändert.\n",
    "\n",
    "l1 = [1, 2, 3]\n",
    "l2 = [4, 5, 6]\n",
    "l3 = l1 + l2\n",
    "\n",
    "print(l1)\n",
    "print(l2)\n",
    "print(l3)"
   ]
  },
  {
   "cell_type": "code",
   "execution_count": null,
   "metadata": {},
   "outputs": [],
   "source": [
    "# Mit der insert()-Methode können wir ein Element an einer bestimmten Position in einer Liste einfügen.\n",
    "\n",
    "print(names)\n",
    "names.insert(3, \"Dennis\")\n",
    "print(names)"
   ]
  },
  {
   "cell_type": "code",
   "execution_count": null,
   "metadata": {},
   "outputs": [],
   "source": [
    "# Mit der pop()-Methode können wir ein Element an einer bestimmten Position aus einer Liste entfernen.\n",
    "\n",
    "print(names)\n",
    "poped_element = names.pop(3)\n",
    "print(names)\n",
    "print(poped_element)"
   ]
  },
  {
   "cell_type": "code",
   "execution_count": null,
   "metadata": {},
   "outputs": [],
   "source": [
    "# Gibt man pop keinen Index an, wird das letzte Element entfernt.\n",
    "# Das entfernte Element wird dabei zurückgegeben.\n",
    "# Zusammen mit append lässt sich die Liste wie ein Stack verwenden.\n",
    "\n",
    "stack = []\n",
    "stack.append(1)\n",
    "stack.append(2)\n",
    "stack.append(3)\n",
    "\n",
    "print(stack)\n",
    "\n",
    "print(stack.pop())\n",
    "print(stack.pop())\n",
    "print(stack.pop())\n",
    "\n"
   ]
  },
  {
   "cell_type": "code",
   "execution_count": null,
   "metadata": {},
   "outputs": [],
   "source": [
    "stack"
   ]
  },
  {
   "cell_type": "code",
   "execution_count": null,
   "metadata": {},
   "outputs": [],
   "source": [
    "# Wie bei Tuplen kommen wir mit der Methode index an den Index des ersten Vorkommens eines Elements.\n",
    "# Mit der remove()-Methode können wir das erste Vorkommen eines Elements aus einer Liste entfernen.\n",
    "\n",
    "print(names)\n",
    "if \"Dennis\" in names:\n",
    "    names.remove(\"Dennis\")\n",
    "else:\n",
    "    print(\"Dennis not found\")\n",
    "print(names)"
   ]
  },
  {
   "cell_type": "code",
   "execution_count": null,
   "metadata": {},
   "outputs": [],
   "source": [
    "l = [1, 2, 2, 2, 3]\n",
    "\n",
    "for _ in range(l.count(2)):\n",
    "    l.remove(2)\n",
    "\n",
    "l"
   ]
  },
  {
   "cell_type": "code",
   "execution_count": null,
   "metadata": {},
   "outputs": [],
   "source": [
    "# Mit der clear()-Methode können wir alle Elemente aus einer Liste entfernen.\n",
    "\n",
    "l = [1, 2, 3, 4, 5]\n",
    "print(l)\n",
    "l.clear()\n",
    "print(l)"
   ]
  },
  {
   "cell_type": "code",
   "execution_count": null,
   "metadata": {},
   "outputs": [],
   "source": [
    "# Mit der reverse()-Methode können wir die Reihenfolge der Elemente in einer Liste umkehren.\n",
    "\n",
    "l = [1, 2, 3, 4, 5]\n",
    "print(l)\n",
    "l.reverse()\n",
    "print(l)"
   ]
  },
  {
   "cell_type": "code",
   "execution_count": null,
   "metadata": {},
   "outputs": [],
   "source": [
    "list(reversed(l))"
   ]
  },
  {
   "cell_type": "code",
   "execution_count": null,
   "metadata": {},
   "outputs": [],
   "source": [
    "l"
   ]
  },
  {
   "cell_type": "code",
   "execution_count": null,
   "metadata": {},
   "outputs": [],
   "source": [
    "# Mit der sort()-Methode können wir die Elemente einer Liste sortieren.\n",
    "\n",
    "l = [5, 3, 4, 1, 2]\n",
    "# print(l)\n",
    "# l.sort()\n",
    "# print(l)"
   ]
  },
  {
   "cell_type": "code",
   "execution_count": null,
   "metadata": {},
   "outputs": [],
   "source": [
    "print(sorted(l))\n",
    "print(l)"
   ]
  },
  {
   "cell_type": "markdown",
   "metadata": {},
   "source": [
    "# Set"
   ]
  },
  {
   "cell_type": "code",
   "execution_count": null,
   "metadata": {},
   "outputs": [],
   "source": [
    "# Ein Set ist eine ungeordnete Sammlung von Elementen ohne Duplikate.\n",
    "# Ein Set wird durch geschweifte Klammern {} definiert und die Elemente werden durch Kommas getrennt.\n",
    "# Ein Set kann Elemente unterschiedlicher Datentypen enthalten. Dabei können nur unveränderliche Datentypen wie\n",
    "# Integer, Float, String, Tuple, Boolean und None usw. enthalten sein.\n",
    "\n",
    "s = {1, 2, 3, 4, 5, (1, 2, 3)}\n",
    "print(s)"
   ]
  },
  {
   "cell_type": "code",
   "execution_count": null,
   "metadata": {},
   "outputs": [],
   "source": [
    "string_ = \"strig\"\n",
    "\n",
    "hash(string_)"
   ]
  },
  {
   "cell_type": "code",
   "execution_count": null,
   "metadata": {},
   "outputs": [],
   "source": [
    "6.8 in s"
   ]
  },
  {
   "cell_type": "code",
   "execution_count": null,
   "metadata": {},
   "outputs": [],
   "source": [
    "s = {\"Hallo Welt\", 6.8, (4, 5, 6), True, None}\n",
    "s"
   ]
  },
  {
   "cell_type": "code",
   "execution_count": null,
   "metadata": {},
   "outputs": [],
   "source": [
    "# Ein Set ist ein 'itterable', das bedeutet wir können es als Basis für for Schleifen verwenden.\n",
    "# Die Reihenfolge der Elemente in einem Set ist nicht definiert.\n",
    "# Ein Set hat keine Duplikate\n",
    "\n",
    "s = {1, 2, 3, 4, 5, 1, 2, 3, 4, 5}\n",
    "\n",
    "print(s)\n",
    "for e in s:\n",
    "    print(e)\n",
    "    \n"
   ]
  },
  {
   "cell_type": "code",
   "execution_count": null,
   "metadata": {},
   "outputs": [],
   "source": [
    "# Ein Set hat keine Indizes, daher können wir nicht auf Elemente über ihren Index zugreifen.\n",
    "\n",
    "s[3]"
   ]
  },
  {
   "cell_type": "code",
   "execution_count": null,
   "metadata": {},
   "outputs": [],
   "source": [
    "# Sets unterstützen die üblichen Mengenoperatoren aus der Mengenlehre.\n",
    "# Mit den Methoden union(), intersection() und difference() können wir die Vereinigung, den Schnitt und die Differenz\n",
    "# von zwei Sets berechnen.\n",
    "\n",
    "s1 = {1, 2, 3, 4, 5}\n",
    "s2 = {4, 5, 6, 7, 8}\n",
    "\n",
    "print(s1.union(s2))\n",
    "print(s1.intersection(s2))\n",
    "print(s1.difference(s2))"
   ]
  },
  {
   "cell_type": "code",
   "execution_count": null,
   "metadata": {},
   "outputs": [],
   "source": [
    "# Die gleichen Operatoren können auch mit den Operatoren |, &, - durchgeführt werden.\n",
    "\n",
    "print(s1 | s2)\n",
    "print(s1 & s2)\n",
    "print(s1 - s2)"
   ]
  },
  {
   "cell_type": "code",
   "execution_count": null,
   "metadata": {},
   "outputs": [],
   "source": [
    "# Mit der add()-Methode können wir ein Element zu einem Set hinzufügen.\n",
    "\n",
    "s = {1, 2, 3, 4, 5}\n",
    "print(s)\n",
    "s.add(6)\n",
    "print(s)"
   ]
  },
  {
   "cell_type": "code",
   "execution_count": null,
   "metadata": {},
   "outputs": [],
   "source": [
    "# Mit der remove()-Methode können wir ein Element aus einem Set entfernen.\n",
    "\n",
    "s = {1, 2, 3, 4, 5}\n",
    "print(s)\n",
    "s.remove(3)\n",
    "print(s)"
   ]
  },
  {
   "cell_type": "code",
   "execution_count": null,
   "metadata": {},
   "outputs": [],
   "source": [
    "# Mit dem Schlüsselwort `in` können wir prüfen, ob ein Element in einem Set enthalten ist.\n",
    "# `in` ist in Sets effizienter als in Listen.\n",
    "\n",
    "s = {1, 2, 3, 4, 5}\n",
    "print(3 in s) "
   ]
  },
  {
   "cell_type": "markdown",
   "metadata": {},
   "source": [
    "# Dictionary"
   ]
  },
  {
   "cell_type": "code",
   "execution_count": null,
   "metadata": {},
   "outputs": [],
   "source": [
    "# Ein Dictionary ist eine ungeordnete Sammlung von Elementen, die durch Schlüssel-Wert-Paare definiert sind.\n",
    "# Ein Dictionary wird durch geschweifte Klammern {} definiert und die Schlüssel-Wert-Paare werden durch Kommas getrennt.\n",
    "# Ein Dictionary kann Elemente unterschiedlicher Datentypen enthalten.\n",
    "\n",
    "d = {\"a\": 1, \"b\": 2, \"c\": 3, \"d\": 4, \"e\": 5, \"f\": None}\n",
    "print(d)"
   ]
  },
  {
   "cell_type": "code",
   "execution_count": null,
   "metadata": {},
   "outputs": [],
   "source": [
    "# Ein Dictionary ist ein 'itterable', das bedeutet wir können es als Basis für for Schleifen verwenden.\n",
    "# Die Reihenfolge der Elemente in einem Dictionary ist nicht definiert.\n",
    "\n",
    "for key in d:\n",
    "    print(key, d[key])"
   ]
  },
  {
   "cell_type": "code",
   "execution_count": null,
   "metadata": {},
   "outputs": [],
   "source": [
    "# Mit dem Schlüsselwort `in` können wir prüfen, ob ein Schlüssel in einem Dictionary enthalten ist.\n",
    "\n",
    "print(\"a\" in d)\n",
    "print(\"z\" in d)"
   ]
  },
  {
   "cell_type": "code",
   "execution_count": null,
   "metadata": {},
   "outputs": [],
   "source": [
    "from collections import defaultdict, Counter\n",
    "\n",
    "\n",
    "d = defaultdict(int)\n",
    "\n",
    "\n",
    "Counter(\"Hallo Welt\")\n",
    "\n",
    "\n"
   ]
  },
  {
   "cell_type": "code",
   "execution_count": null,
   "metadata": {},
   "outputs": [],
   "source": [
    "# Mit der Methode get() können wir den Wert eines Schlüssels abrufen.\n",
    "\n",
    "print(d.get(\"a\"))\n",
    "print(d.get(\"z\", 0))\n",
    "\n",
    "# Alternativ können wir auch direkt auf den Wert eines Schlüssels zug\n",
    "# Im gegensasatz zu get() wirft diese Methode einen KeyError, wenn der Schlüssel nicht im Dictionary enthalten ist.\n",
    "\n",
    "print(d[\"a\"])\n",
    "print(d[\"f\"])"
   ]
  },
  {
   "cell_type": "code",
   "execution_count": null,
   "metadata": {},
   "outputs": [],
   "source": [
    "# Mit der Methode pop() können wir ein Schlüssel-Wert-Paar aus einem Dictionary entfernen.\n",
    "# Die Methode gibt den Wert des entfernten Schlüssels zurück.\n",
    "\n",
    "d = {\"a\": 1, \"b\": 2, \"c\": 3, \"d\": 4, \"e\": 5}\n",
    "print(d)\n",
    "var = d.pop(\"a\")\n",
    "\n",
    "print(d)\n",
    "print(var)"
   ]
  },
  {
   "cell_type": "code",
   "execution_count": null,
   "metadata": {},
   "outputs": [],
   "source": [
    "d.pop(\"a\")"
   ]
  },
  {
   "cell_type": "code",
   "execution_count": null,
   "metadata": {},
   "outputs": [],
   "source": [
    "# Die Schlüssel eines Dictionarys müssen eindeutig sein.\n",
    "\n",
    "d = {\"a\": 1, \"b\": 2, \"a\": 2}\n",
    "print(d)\n"
   ]
  },
  {
   "cell_type": "code",
   "execution_count": null,
   "metadata": {},
   "outputs": [],
   "source": [
    "# Zwei dictionarys können mit der update()-Methode zusammengeführt werden.\n",
    "\n",
    "d1 = {\"a\": 1, \"b\": 2, \"c\": 3}\n",
    "d2 = {\"c\": 4, \"d\": 5, \"e\": 6}\n",
    "\n",
    "print(d1)\n",
    "print(d2)\n",
    "\n",
    "d1.update(d2)\n",
    "print(d1)"
   ]
  },
  {
   "cell_type": "code",
   "execution_count": null,
   "metadata": {},
   "outputs": [],
   "source": [
    "# Alternativ können zwei dictionarys auch mit dem | Operator zusammengeführt werden.\n",
    "\n",
    "d1 = {\"a\": 1, \"b\": 2, \"c\": 3}\n",
    "d2 = {\"c\": 4, \"d\": 5, \"e\": 6}\n",
    "\n",
    "print(d1)\n",
    "print(d2)\n",
    "\n",
    "d3 = d1 | d2\n",
    "print(d3)"
   ]
  },
  {
   "cell_type": "code",
   "execution_count": null,
   "metadata": {},
   "outputs": [],
   "source": [
    "# Mit der keys()-Methode können wir eine Liste aller Schlüssel eines Dictionarys abrufen.\n",
    "\n",
    "d = {\"a\": 1, \"b\": 2, \"c\": 3}\n",
    "print(list(d.keys()))\n",
    "\n",
    "# Mit der values()-Methode können wir eine Liste aller Werte eines Dictionarys abrufen.\n",
    "\n",
    "print(d.values())"
   ]
  },
  {
   "cell_type": "code",
   "execution_count": null,
   "metadata": {},
   "outputs": [],
   "source": [
    "# Mit der items()-Methode können wir eine Liste aller Schlüssel-Wert-Paare eines Dictionarys abrufen.\n",
    "\n",
    "print(d.items())\n",
    "\n",
    "# Wir können item() benutzen um über alle Schlüssel-Wert-Paare eines Dictionarys zu iterieren.\n",
    "\n",
    "for key, value in d.items():\n",
    "    print(key, value)"
   ]
  },
  {
   "cell_type": "code",
   "execution_count": null,
   "metadata": {},
   "outputs": [],
   "source": [
    "# Wir können die keys nutzen um auf values zuzugreifen oder diese zu verändern\n",
    "\n",
    "d = {\"a\": 1, \"b\": 2, \"c\": 3}\n",
    "print(d)\n",
    "\n",
    "d[\"b\"] = d[\"b\"]**2\n",
    "\n",
    "print(d)"
   ]
  },
  {
   "cell_type": "code",
   "execution_count": null,
   "metadata": {},
   "outputs": [],
   "source": [
    "# Die keys eines Dictionarys müssen unveränderlich sein.\n",
    "\n",
    "d = {\"a\": 1, \"b\": 2, \"c\": 3}\n",
    "print(d)\n",
    "\n",
    "#d[[1, 2, 3]] = 4\n",
    "\n",
    "d[(1, 2, 3)] = 4\n",
    "\n",
    "print(d)"
   ]
  },
  {
   "cell_type": "code",
   "execution_count": null,
   "metadata": {},
   "outputs": [],
   "source": [
    "# Praktische Anwendungen\n",
    "\n",
    "# Drictionarys werden verwendet um die globalen Variablen in Python zu speichern.\n",
    "# Die Funktion globals() gibt ein Dictionary zurück, das alle globalen Variablen und deren\n",
    "# Werte enthält.\n",
    "\n",
    "print(globals())"
   ]
  },
  {
   "cell_type": "code",
   "execution_count": null,
   "metadata": {},
   "outputs": [],
   "source": [
    "def f(a, b):\n",
    "    print(locals())\n",
    "    \n",
    "f(2, 3)"
   ]
  },
  {
   "cell_type": "code",
   "execution_count": null,
   "metadata": {},
   "outputs": [],
   "source": [
    "# Ein Dictionary kann auch verwendet werden, um eine Konfigurationsdatei zu speichern.\n",
    "\n",
    "config = {\n",
    "    \"username\": \"admin\",\n",
    "    \"password\": \"admin\",\n",
    "    \"host\": \"localhost\",\n",
    "    \"port\": 3306,\n",
    "    \"database\": \"test\"\n",
    "}\n",
    "\n",
    "print(config)"
   ]
  },
  {
   "cell_type": "markdown",
   "metadata": {},
   "source": [
    "## Generator Strukturen\n",
    "\n",
    "### Range (range)"
   ]
  }
 ],
 "metadata": {
  "kernelspec": {
   "display_name": "stackfuel",
   "language": "python",
   "name": "python3"
  },
  "language_info": {
   "codemirror_mode": {
    "name": "ipython",
    "version": 3
   },
   "file_extension": ".py",
   "mimetype": "text/x-python",
   "name": "python",
   "nbconvert_exporter": "python",
   "pygments_lexer": "ipython3",
   "version": "3.12.2"
  }
 },
 "nbformat": 4,
 "nbformat_minor": 2
}
