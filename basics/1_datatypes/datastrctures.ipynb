{
 "cells": [
  {
   "cell_type": "code",
   "execution_count": 1,
   "metadata": {},
   "outputs": [
    {
     "name": "stdout",
     "output_type": "stream",
     "text": [
      "The Zen of Python, by Tim Peters\n",
      "\n",
      "Beautiful is better than ugly.\n",
      "Explicit is better than implicit.\n",
      "Simple is better than complex.\n",
      "Complex is better than complicated.\n",
      "Flat is better than nested.\n",
      "Sparse is better than dense.\n",
      "Readability counts.\n",
      "Special cases aren't special enough to break the rules.\n",
      "Although practicality beats purity.\n",
      "Errors should never pass silently.\n",
      "Unless explicitly silenced.\n",
      "In the face of ambiguity, refuse the temptation to guess.\n",
      "There should be one-- and preferably only one --obvious way to do it.\n",
      "Although that way may not be obvious at first unless you're Dutch.\n",
      "Now is better than never.\n",
      "Although never is often better than *right* now.\n",
      "If the implementation is hard to explain, it's a bad idea.\n",
      "If the implementation is easy to explain, it may be a good idea.\n",
      "Namespaces are one honking great idea -- let's do more of those!\n"
     ]
    }
   ],
   "source": [
    "import this"
   ]
  },
  {
   "cell_type": "code",
   "execution_count": 3,
   "metadata": {},
   "outputs": [
    {
     "name": "stdout",
     "output_type": "stream",
     "text": [
      "True\n",
      "42\n",
      "3.14\n",
      "Hallo Welt!\n",
      "None\n"
     ]
    }
   ],
   "source": [
    "# grundlegende Datentypen\n",
    "boolean = True              # oder False\n",
    "integer = 42                # oder -1, -45, 156, 928374528138495\n",
    "float   = 3.14              # oder -3.14, 0.0, 928374528138495.0\n",
    "string  = \"Hallo Welt!\"     # oder 'Hallo Welt!', \"🚀\", 'erste Zeile\\nzweite Zeile', \"\"\"mehrzeiliger String\"\"\"\n",
    "none    = None\n",
    "\n",
    "print(boolean, integer, float, string, none, sep=\"\\n\")"
   ]
  },
  {
   "cell_type": "markdown",
   "metadata": {},
   "source": [
    "# Tuple"
   ]
  },
  {
   "cell_type": "code",
   "execution_count": 4,
   "metadata": {},
   "outputs": [
    {
     "name": "stdout",
     "output_type": "stream",
     "text": [
      "(True, 42, 3.14, 'Hallo Welt!', None)\n"
     ]
    }
   ],
   "source": [
    "# Was ist ein Tuple\n",
    "\n",
    "# Ein Tuple ist eine unveränderliche, geordnete Sammlung von Elementen.\n",
    "# Ein Tuple wird durch runde Klammern () definiert und die Elemente werden durch Kommas getrennt.\n",
    "# Ein Tuple kann Elemente unterschiedlicher Datentypen enthalten.\n",
    "\n",
    "tuple_ = (boolean, integer, float, string, none)\n",
    "print(tuple_)"
   ]
  },
  {
   "cell_type": "code",
   "execution_count": 7,
   "metadata": {},
   "outputs": [
    {
     "data": {
      "text/plain": [
       "(1, 2, 3)"
      ]
     },
     "execution_count": 7,
     "metadata": {},
     "output_type": "execute_result"
    }
   ],
   "source": [
    "tuple([1, 2,3])"
   ]
  },
  {
   "cell_type": "code",
   "execution_count": 5,
   "metadata": {},
   "outputs": [
    {
     "name": "stdout",
     "output_type": "stream",
     "text": [
      "True\n",
      "42\n",
      "3.14\n",
      "Hallo Welt!\n",
      "None\n"
     ]
    }
   ],
   "source": [
    "# Tuple sind 'itterables', das bedeutet wir können sie als Basis für for Schleifen verwenden.\n",
    "\n",
    "for element in tuple_:\n",
    "    print(element)"
   ]
  },
  {
   "cell_type": "code",
   "execution_count": 9,
   "metadata": {},
   "outputs": [],
   "source": [
    "fruits = ('apple', 'banana', 'cherry', 'apple', 'orange', 'banana', 'apple')"
   ]
  },
  {
   "cell_type": "code",
   "execution_count": 10,
   "metadata": {},
   "outputs": [
    {
     "name": "stdout",
     "output_type": "stream",
     "text": [
      "7\n"
     ]
    }
   ],
   "source": [
    "# Mit der len Funktion können wir die Anzahl der Elemente in einem Tuple ermitteln.\n",
    "\n",
    "print(len(fruits))"
   ]
  },
  {
   "cell_type": "code",
   "execution_count": 11,
   "metadata": {},
   "outputs": [
    {
     "name": "stdout",
     "output_type": "stream",
     "text": [
      "True\n",
      "False\n"
     ]
    }
   ],
   "source": [
    "# Mit dem Keyword `in` lässt sich prüfen ob ein Element in einem Tuple enthalten ist.\n",
    "\n",
    "print('apple' in fruits)\n",
    "print('pear' in fruits)"
   ]
  },
  {
   "cell_type": "code",
   "execution_count": 16,
   "metadata": {},
   "outputs": [
    {
     "name": "stdout",
     "output_type": "stream",
     "text": [
      "('apple', 'banana', 'cherry', 'apple', 'orange', 'banana', 'apple')\n",
      "apple\n",
      "orange\n",
      "('banana', 'cherry')\n",
      "('banana', 'apple', 'banana')\n"
     ]
    }
   ],
   "source": [
    "# Jedem Element eines Tuples wird ein Index entsprechend seiner Position zugeordnet.\n",
    "# Die Zählung beginnt bei 0. Das erste Element eines Tuples hat also stehts den Index 0.\n",
    "# Um auf die Element über ihren Index zuzugreifen, schreiben wir \n",
    "# fruits[index]\n",
    "# fruits[start:stop]\n",
    "# fruits[start:stop:schrittweite].\n",
    "\n",
    "print(fruits)\n",
    "\n",
    "print(fruits[0])\n",
    "print(fruits[4])\n",
    "print(fruits[1:3])\n",
    "print(fruits[1:6:2])"
   ]
  },
  {
   "cell_type": "code",
   "execution_count": 20,
   "metadata": {},
   "outputs": [
    {
     "name": "stdout",
     "output_type": "stream",
     "text": [
      "('apple', 'banana', 'cherry', 'apple', 'orange', 'banana', 'apple')\n",
      "apple\n",
      "banana\n",
      "('orange', 'banana')\n",
      "('orange', 'banana', 'apple')\n"
     ]
    }
   ],
   "source": [
    "# Man kann für den Index auch negative Werte verwenden\n",
    "# -1 entspricht dem letzten Element, -2 dem vorletzten, usw.\n",
    "\n",
    "print(fruits)\n",
    "\n",
    "print(fruits[-1])\n",
    "print(fruits[-2])\n",
    "print(fruits[-3:-1])\n",
    "print(fruits[-3:])"
   ]
  },
  {
   "cell_type": "code",
   "execution_count": 25,
   "metadata": {},
   "outputs": [
    {
     "name": "stdout",
     "output_type": "stream",
     "text": [
      "('apple', 'banana', 'cherry', 'apple', 'orange', 'banana', 'apple')\n",
      "('apple', 'banana', 'orange', 'apple', 'cherry', 'banana', 'apple')\n",
      "('apple', 'orange', 'cherry', 'apple')\n",
      "('banana', 'orange', 'apple', 'cherry')\n",
      "('banana', 'apple')\n"
     ]
    }
   ],
   "source": [
    "# Auch für die Schrittweite können negative Werte verwendet werden.\n",
    "# In diesem Fall wird das Tupel rückwärts durchlaufen.\n",
    "# Der Startwert muss dabei größer als der Stopwert sein.\n",
    "\n",
    "print(fruits)\n",
    "\n",
    "print(fruits[::-1])\n",
    "print(fruits[::-2])\n",
    "print(fruits[5:1:-1])\n",
    "print(fruits[5:1:-2])"
   ]
  },
  {
   "cell_type": "code",
   "execution_count": 26,
   "metadata": {},
   "outputs": [
    {
     "name": "stdout",
     "output_type": "stream",
     "text": [
      "3\n"
     ]
    }
   ],
   "source": [
    "# Tuple haben zwei Methoden\n",
    "\n",
    "# Verwenden der count()-Methode, um die Anzahl der Vorkommen von 'apple' zu zählen\n",
    "\n",
    "apple_count = fruits.count('apple')\n",
    "print(apple_count)"
   ]
  },
  {
   "cell_type": "code",
   "execution_count": 28,
   "metadata": {},
   "outputs": [
    {
     "data": {
      "text/plain": [
       "3"
      ]
     },
     "execution_count": 28,
     "metadata": {},
     "output_type": "execute_result"
    }
   ],
   "source": [
    "# Verwenden der index()-Methode, um den Index des ersten Vorkommens von 'banana' zu finden\n",
    "fruits.index('apple', 2)"
   ]
  },
  {
   "cell_type": "code",
   "execution_count": 31,
   "metadata": {},
   "outputs": [
    {
     "data": {
      "text/plain": [
       "[0, 1, 2]"
      ]
     },
     "execution_count": 31,
     "metadata": {},
     "output_type": "execute_result"
    }
   ],
   "source": [
    "list(range(fruits.count(value)))"
   ]
  },
  {
   "cell_type": "code",
   "execution_count": null,
   "metadata": {},
   "outputs": [
    {
     "name": "stdout",
     "output_type": "stream",
     "text": [
      "0\n",
      "3\n",
      "6\n"
     ]
    }
   ],
   "source": [
    "value = \"apple\"\n",
    "\n",
    "start = 0\n",
    "for _ in range(fruits.count(value)):\n",
    "    idx = fruits.index(value, start)\n",
    "    print(idx)\n",
    "    start = idx+1\n",
    "    "
   ]
  },
  {
   "cell_type": "code",
   "execution_count": 32,
   "metadata": {},
   "outputs": [
    {
     "ename": "TypeError",
     "evalue": "'tuple' object does not support item assignment",
     "output_type": "error",
     "traceback": [
      "\u001b[1;31m---------------------------------------------------------------------------\u001b[0m",
      "\u001b[1;31mTypeError\u001b[0m                                 Traceback (most recent call last)",
      "Cell \u001b[1;32mIn[32], line 3\u001b[0m\n\u001b[0;32m      1\u001b[0m \u001b[38;5;66;03m# tuple sind unveränderlich (immutable), d.h. sie können nach der Erstellung nicht mehr verändert werden.\u001b[39;00m\n\u001b[1;32m----> 3\u001b[0m fruits[\u001b[38;5;241m3\u001b[39m] \u001b[38;5;241m=\u001b[39m \u001b[38;5;124m\"\u001b[39m\u001b[38;5;124mpeach\u001b[39m\u001b[38;5;124m\"\u001b[39m\n",
      "\u001b[1;31mTypeError\u001b[0m: 'tuple' object does not support item assignment"
     ]
    }
   ],
   "source": [
    "# tuple sind unveränderlich (immutable), d.h. sie können nach der Erstellung nicht mehr verändert werden.\n",
    "\n",
    "fruits[3] = \"peach\""
   ]
  },
  {
   "cell_type": "markdown",
   "metadata": {},
   "source": [
    "# List"
   ]
  },
  {
   "cell_type": "code",
   "execution_count": 39,
   "metadata": {},
   "outputs": [
    {
     "name": "stdout",
     "output_type": "stream",
     "text": [
      "['Alice', 'Bob', 'Charlie', 'Bob', 'David', 'Eve']\n",
      "['Bob', 'Charlie']\n",
      "6\n",
      "True\n",
      "False\n",
      "Alice\n",
      "Bob\n",
      "Charlie\n",
      "Bob\n",
      "David\n",
      "Eve\n"
     ]
    }
   ],
   "source": [
    "# Was ist eine List?\n",
    "\n",
    "# Eine List ist eine veränderliche, geordnete Sammlung von Elementen.\n",
    "# Eine List wird durch eckige Klammern [] definiert und die Elemente werden durch Kommas getrennt.\n",
    "# Eine List kann Elemente unterschiedlicher Datentypen enthalten.\n",
    "\n",
    "names = [\"Alice\", \"Bob\", \"Charlie\", \"Bob\", \"David\", \"Eve\"]\n",
    "\n",
    "# Listen unterstützen weitestgehend die selben Funktionalitäten wie Tuple\n",
    "\n",
    "print(names)\n",
    "\n",
    "print(names[1:3])\n",
    "print(len(names))\n",
    "print(\"Alice\" in names)\n",
    "print(\"Mallory\" in names)\n",
    "\n",
    "for name in names:\n",
    "    print(name)\n",
    "\n"
   ]
  },
  {
   "cell_type": "code",
   "execution_count": 40,
   "metadata": {},
   "outputs": [
    {
     "name": "stdout",
     "output_type": "stream",
     "text": [
      "2\n",
      "1\n"
     ]
    }
   ],
   "source": [
    "print(names.count(\"Bob\"))\n",
    "print(names.index(\"Bob\"))"
   ]
  },
  {
   "cell_type": "code",
   "execution_count": 41,
   "metadata": {},
   "outputs": [
    {
     "name": "stdout",
     "output_type": "stream",
     "text": [
      "['Alice', 'Bob', 'Charlie', 'Bob', 'David', 'Eve']\n",
      "['Alice', 'Bob', 'Charlie', 'Daniel', 'David', 'Eve']\n"
     ]
    }
   ],
   "source": [
    "# Listen sind veränderlich (mutable), d.h. sie können nach der Erstellung verändert werden.\n",
    "print(names)\n",
    "names[3] = \"Daniel\"\n",
    "print(names)\n"
   ]
  },
  {
   "cell_type": "code",
   "execution_count": 43,
   "metadata": {},
   "outputs": [
    {
     "name": "stdout",
     "output_type": "stream",
     "text": [
      "['Alice', 'Bob', 'Charlie', 'Daniel', 'David', 'Eve', 'Eva']\n"
     ]
    }
   ],
   "source": [
    "# Mit der append()-Methode können wir ein Element am Ende einer Liste hinzufügen.\n",
    "names.append(\"Eva\")\n",
    "print(names)"
   ]
  },
  {
   "cell_type": "code",
   "execution_count": null,
   "metadata": {},
   "outputs": [
    {
     "name": "stdout",
     "output_type": "stream",
     "text": [
      "['Alice', 'Bob', 'Charlie', 'Daniel', 'David', 'Eve', 'Eva', 'Frank', 'Grace']\n"
     ]
    }
   ],
   "source": [
    "# Mit der extend()-Methode können wir eine Liste an eine andere Liste anhängen.\n",
    "names.extend([\"Frank\", \"Grace\"])\n",
    "# names = names + [\"Frank\", \"Grace\"] # tut das gleiche\n",
    "print(names)"
   ]
  },
  {
   "cell_type": "code",
   "execution_count": 45,
   "metadata": {},
   "outputs": [
    {
     "name": "stdout",
     "output_type": "stream",
     "text": [
      "[1, 2, 3]\n",
      "[4, 5, 6]\n",
      "[1, 2, 3, 4, 5, 6]\n"
     ]
    }
   ],
   "source": [
    "# Zwei Listen können auch mit dem + Operator zusammengefügt werden.\n",
    "# Dabei wird eine neue Liste erstellt und die beiden Listen werden nicht verändert.\n",
    "\n",
    "l1 = [1, 2, 3]\n",
    "l2 = [4, 5, 6]\n",
    "l3 = l1 + l2\n",
    "\n",
    "print(l1)\n",
    "print(l2)\n",
    "print(l3)"
   ]
  },
  {
   "cell_type": "code",
   "execution_count": 51,
   "metadata": {},
   "outputs": [
    {
     "name": "stdout",
     "output_type": "stream",
     "text": [
      "['Alice', 'Bob', 'Charlie', 'Daniel', 'David', 'Eve', 'Eva', 'Frank', 'Grace']\n",
      "['Alice', 'Bob', 'Charlie', 'Dennis', 'Daniel', 'David', 'Eve', 'Eva', 'Frank', 'Grace']\n"
     ]
    }
   ],
   "source": [
    "# Mit der insert()-Methode können wir ein Element an einer bestimmten Position in einer Liste einfügen.\n",
    "\n",
    "print(names)\n",
    "names.insert(3, \"Dennis\")\n",
    "print(names)"
   ]
  },
  {
   "cell_type": "code",
   "execution_count": 47,
   "metadata": {},
   "outputs": [
    {
     "name": "stdout",
     "output_type": "stream",
     "text": [
      "['Alice', 'Bob', 'Charlie', 'Dennis', 'Daniel', 'David', 'Eve', 'Eva', 'Frank', 'Grace']\n",
      "['Alice', 'Bob', 'Charlie', 'Daniel', 'David', 'Eve', 'Eva', 'Frank', 'Grace']\n",
      "Dennis\n"
     ]
    }
   ],
   "source": [
    "# Mit der pop()-Methode können wir ein Element an einer bestimmten Position aus einer Liste entfernen.\n",
    "\n",
    "print(names)\n",
    "poped_element = names.pop(3)\n",
    "print(names)\n",
    "print(poped_element)"
   ]
  },
  {
   "cell_type": "code",
   "execution_count": 48,
   "metadata": {},
   "outputs": [
    {
     "name": "stdout",
     "output_type": "stream",
     "text": [
      "[1, 2, 3]\n",
      "3\n",
      "2\n",
      "1\n"
     ]
    }
   ],
   "source": [
    "# Gibt man pop keinen Index an, wird das letzte Element entfernt.\n",
    "# Das entfernte Element wird dabei zurückgegeben.\n",
    "# Zusammen mit append lässt sich die Liste wie ein Stack verwenden.\n",
    "\n",
    "stack = []\n",
    "stack.append(1)\n",
    "stack.append(2)\n",
    "stack.append(3)\n",
    "\n",
    "print(stack)\n",
    "\n",
    "print(stack.pop())\n",
    "print(stack.pop())\n",
    "print(stack.pop())\n",
    "\n"
   ]
  },
  {
   "cell_type": "code",
   "execution_count": 49,
   "metadata": {},
   "outputs": [
    {
     "data": {
      "text/plain": [
       "[]"
      ]
     },
     "execution_count": 49,
     "metadata": {},
     "output_type": "execute_result"
    }
   ],
   "source": [
    "stack"
   ]
  },
  {
   "cell_type": "code",
   "execution_count": 52,
   "metadata": {},
   "outputs": [
    {
     "name": "stdout",
     "output_type": "stream",
     "text": [
      "['Alice', 'Bob', 'Charlie', 'Dennis', 'Daniel', 'David', 'Eve', 'Eva', 'Frank', 'Grace']\n",
      "['Alice', 'Bob', 'Charlie', 'Daniel', 'David', 'Eve', 'Eva', 'Frank', 'Grace']\n"
     ]
    }
   ],
   "source": [
    "# Wie bei Tuplen kommen wir mit der Methode index an den Index des ersten Vorkommens eines Elements.\n",
    "# Mit der remove()-Methode können wir das erste Vorkommen eines Elements aus einer Liste entfernen.\n",
    "\n",
    "print(names)\n",
    "if \"Dennis\" in names:\n",
    "    names.remove(\"Dennis\")\n",
    "else:\n",
    "    print(\"Dennis not found\")\n",
    "print(names)"
   ]
  },
  {
   "cell_type": "code",
   "execution_count": 56,
   "metadata": {},
   "outputs": [
    {
     "data": {
      "text/plain": [
       "[1, 3]"
      ]
     },
     "execution_count": 56,
     "metadata": {},
     "output_type": "execute_result"
    }
   ],
   "source": [
    "l = [1, 2, 2, 2, 3]\n",
    "\n",
    "for _ in range(l.count(2)):\n",
    "    l.remove(2)\n",
    "\n",
    "l"
   ]
  },
  {
   "cell_type": "code",
   "execution_count": null,
   "metadata": {},
   "outputs": [
    {
     "name": "stdout",
     "output_type": "stream",
     "text": [
      "[1, 2, 3, 4, 5]\n",
      "[]\n"
     ]
    }
   ],
   "source": [
    "# Mit der clear()-Methode können wir alle Elemente aus einer Liste entfernen.\n",
    "\n",
    "l = [1, 2, 3, 4, 5]\n",
    "print(l)\n",
    "l.clear()\n",
    "print(l)"
   ]
  },
  {
   "cell_type": "code",
   "execution_count": null,
   "metadata": {},
   "outputs": [
    {
     "name": "stdout",
     "output_type": "stream",
     "text": [
      "[1, 2, 3, 4, 5]\n",
      "[5, 4, 3, 2, 1]\n"
     ]
    }
   ],
   "source": [
    "# Mit der reverse()-Methode können wir die Reihenfolge der Elemente in einer Liste umkehren.\n",
    "\n",
    "l = [1, 2, 3, 4, 5]\n",
    "print(l)\n",
    "l.reverse()\n",
    "print(l)"
   ]
  },
  {
   "cell_type": "code",
   "execution_count": 60,
   "metadata": {},
   "outputs": [
    {
     "data": {
      "text/plain": [
       "[1, 2, 3, 4, 5]"
      ]
     },
     "execution_count": 60,
     "metadata": {},
     "output_type": "execute_result"
    }
   ],
   "source": [
    "list(reversed(l))"
   ]
  },
  {
   "cell_type": "code",
   "execution_count": 61,
   "metadata": {},
   "outputs": [
    {
     "data": {
      "text/plain": [
       "[5, 4, 3, 2, 1]"
      ]
     },
     "execution_count": 61,
     "metadata": {},
     "output_type": "execute_result"
    }
   ],
   "source": [
    "l"
   ]
  },
  {
   "cell_type": "code",
   "execution_count": 63,
   "metadata": {},
   "outputs": [],
   "source": [
    "# Mit der sort()-Methode können wir die Elemente einer Liste sortieren.\n",
    "\n",
    "l = [5, 3, 4, 1, 2]\n",
    "# print(l)\n",
    "# l.sort()\n",
    "# print(l)"
   ]
  },
  {
   "cell_type": "code",
   "execution_count": 66,
   "metadata": {},
   "outputs": [
    {
     "name": "stdout",
     "output_type": "stream",
     "text": [
      "[1, 2, 3, 4, 5]\n",
      "[5, 3, 4, 1, 2]\n"
     ]
    }
   ],
   "source": [
    "print(sorted(l))\n",
    "print(l)"
   ]
  },
  {
   "cell_type": "markdown",
   "metadata": {},
   "source": [
    "# Set"
   ]
  },
  {
   "cell_type": "code",
   "execution_count": 71,
   "metadata": {},
   "outputs": [
    {
     "name": "stdout",
     "output_type": "stream",
     "text": [
      "{1, 2, 3, 4, 5, (1, 2, 3)}\n"
     ]
    }
   ],
   "source": [
    "# Ein Set ist eine ungeordnete Sammlung von Elementen ohne Duplikate.\n",
    "# Ein Set wird durch geschweifte Klammern {} definiert und die Elemente werden durch Kommas getrennt.\n",
    "# Ein Set kann Elemente unterschiedlicher Datentypen enthalten. Dabei können nur unveränderliche Datentypen wie\n",
    "# Integer, Float, String, Tuple, Boolean und None usw. enthalten sein.\n",
    "\n",
    "s = {1, 2, 3, 4, 5, (1, 2, 3)}\n",
    "print(s)"
   ]
  },
  {
   "cell_type": "code",
   "execution_count": 82,
   "metadata": {},
   "outputs": [
    {
     "data": {
      "text/plain": [
       "-527267560428419355"
      ]
     },
     "execution_count": 82,
     "metadata": {},
     "output_type": "execute_result"
    }
   ],
   "source": [
    "string_ = \"strig\"\n",
    "\n",
    "hash(string_)"
   ]
  },
  {
   "cell_type": "code",
   "execution_count": 79,
   "metadata": {},
   "outputs": [
    {
     "data": {
      "text/plain": [
       "True"
      ]
     },
     "execution_count": 79,
     "metadata": {},
     "output_type": "execute_result"
    }
   ],
   "source": [
    "6.8 in s"
   ]
  },
  {
   "cell_type": "code",
   "execution_count": null,
   "metadata": {},
   "outputs": [
    {
     "ename": "TypeError",
     "evalue": "unhashable type: 'set'",
     "output_type": "error",
     "traceback": [
      "\u001b[1;31m---------------------------------------------------------------------------\u001b[0m",
      "\u001b[1;31mTypeError\u001b[0m                                 Traceback (most recent call last)",
      "Cell \u001b[1;32mIn[76], line 1\u001b[0m\n\u001b[1;32m----> 1\u001b[0m s \u001b[38;5;241m=\u001b[39m {\u001b[38;5;124m\"\u001b[39m\u001b[38;5;124mHallo Welt\u001b[39m\u001b[38;5;124m\"\u001b[39m, \u001b[38;5;241m6.8\u001b[39m, (\u001b[38;5;241m4\u001b[39m, \u001b[38;5;241m5\u001b[39m, \u001b[38;5;241m6\u001b[39m), \u001b[38;5;28;01mTrue\u001b[39;00m, \u001b[38;5;28;01mNone\u001b[39;00m, {\u001b[38;5;241m1\u001b[39m, \u001b[38;5;241m2\u001b[39m}}\n\u001b[0;32m      2\u001b[0m s\n",
      "\u001b[1;31mTypeError\u001b[0m: unhashable type: 'set'"
     ]
    }
   ],
   "source": [
    "s = {\"Hallo Welt\", 6.8, (4, 5, 6), True, None}\n",
    "s"
   ]
  },
  {
   "cell_type": "code",
   "execution_count": 83,
   "metadata": {},
   "outputs": [
    {
     "name": "stdout",
     "output_type": "stream",
     "text": [
      "{1, 2, 3, 4, 5}\n",
      "1\n",
      "2\n",
      "3\n",
      "4\n",
      "5\n"
     ]
    }
   ],
   "source": [
    "# Ein Set ist ein 'itterable', das bedeutet wir können es als Basis für for Schleifen verwenden.\n",
    "# Die Reihenfolge der Elemente in einem Set ist nicht definiert.\n",
    "# Ein Set hat keine Duplikate\n",
    "\n",
    "s = {1, 2, 3, 4, 5, 1, 2, 3, 4, 5}\n",
    "\n",
    "print(s)\n",
    "for e in s:\n",
    "    print(e)\n",
    "    \n"
   ]
  },
  {
   "cell_type": "code",
   "execution_count": 84,
   "metadata": {},
   "outputs": [
    {
     "ename": "TypeError",
     "evalue": "'set' object is not subscriptable",
     "output_type": "error",
     "traceback": [
      "\u001b[1;31m---------------------------------------------------------------------------\u001b[0m",
      "\u001b[1;31mTypeError\u001b[0m                                 Traceback (most recent call last)",
      "Cell \u001b[1;32mIn[84], line 3\u001b[0m\n\u001b[0;32m      1\u001b[0m \u001b[38;5;66;03m# Ein Set hat keine Indizes, daher können wir nicht auf Elemente über ihren Index zugreifen.\u001b[39;00m\n\u001b[1;32m----> 3\u001b[0m s[\u001b[38;5;241m3\u001b[39m]\n",
      "\u001b[1;31mTypeError\u001b[0m: 'set' object is not subscriptable"
     ]
    }
   ],
   "source": [
    "# Ein Set hat keine Indizes, daher können wir nicht auf Elemente über ihren Index zugreifen.\n",
    "\n",
    "s[3]"
   ]
  },
  {
   "cell_type": "code",
   "execution_count": 85,
   "metadata": {},
   "outputs": [
    {
     "name": "stdout",
     "output_type": "stream",
     "text": [
      "{1, 2, 3, 4, 5, 6, 7, 8}\n",
      "{4, 5}\n",
      "{1, 2, 3}\n"
     ]
    }
   ],
   "source": [
    "# Sets unterstützen die üblichen Mengenoperatoren aus der Mengenlehre.\n",
    "# Mit den Methoden union(), intersection() und difference() können wir die Vereinigung, den Schnitt und die Differenz\n",
    "# von zwei Sets berechnen.\n",
    "\n",
    "s1 = {1, 2, 3, 4, 5}\n",
    "s2 = {4, 5, 6, 7, 8}\n",
    "\n",
    "print(s1.union(s2))\n",
    "print(s1.intersection(s2))\n",
    "print(s1.difference(s2))"
   ]
  },
  {
   "cell_type": "code",
   "execution_count": 86,
   "metadata": {},
   "outputs": [
    {
     "name": "stdout",
     "output_type": "stream",
     "text": [
      "{1, 2, 3, 4, 5, 6, 7, 8}\n",
      "{4, 5}\n",
      "{1, 2, 3}\n"
     ]
    }
   ],
   "source": [
    "# Die gleichen Operatoren können auch mit den Operatoren |, &, - durchgeführt werden.\n",
    "\n",
    "print(s1 | s2)\n",
    "print(s1 & s2)\n",
    "print(s1 - s2)"
   ]
  },
  {
   "cell_type": "code",
   "execution_count": 87,
   "metadata": {},
   "outputs": [
    {
     "name": "stdout",
     "output_type": "stream",
     "text": [
      "{1, 2, 3, 4, 5}\n",
      "{1, 2, 3, 4, 5, 6}\n"
     ]
    }
   ],
   "source": [
    "# Mit der add()-Methode können wir ein Element zu einem Set hinzufügen.\n",
    "\n",
    "s = {1, 2, 3, 4, 5}\n",
    "print(s)\n",
    "s.add(6)\n",
    "print(s)"
   ]
  },
  {
   "cell_type": "code",
   "execution_count": 88,
   "metadata": {},
   "outputs": [
    {
     "name": "stdout",
     "output_type": "stream",
     "text": [
      "{1, 2, 3, 4, 5}\n",
      "{1, 2, 4, 5}\n"
     ]
    }
   ],
   "source": [
    "# Mit der remove()-Methode können wir ein Element aus einem Set entfernen.\n",
    "\n",
    "s = {1, 2, 3, 4, 5}\n",
    "print(s)\n",
    "s.remove(3)\n",
    "print(s)"
   ]
  },
  {
   "cell_type": "code",
   "execution_count": 89,
   "metadata": {},
   "outputs": [
    {
     "name": "stdout",
     "output_type": "stream",
     "text": [
      "True\n"
     ]
    }
   ],
   "source": [
    "# Mit dem Schlüsselwort `in` können wir prüfen, ob ein Element in einem Set enthalten ist.\n",
    "# `in` ist in Sets effizienter als in Listen.\n",
    "\n",
    "s = {1, 2, 3, 4, 5}\n",
    "print(3 in s) "
   ]
  },
  {
   "cell_type": "markdown",
   "metadata": {},
   "source": [
    "# Dictionary"
   ]
  },
  {
   "cell_type": "code",
   "execution_count": 94,
   "metadata": {},
   "outputs": [
    {
     "name": "stdout",
     "output_type": "stream",
     "text": [
      "{'a': 1, 'b': 2, 'c': 3, 'd': 4, 'e': 5, 'f': None}\n"
     ]
    }
   ],
   "source": [
    "# Ein Dictionary ist eine ungeordnete Sammlung von Elementen, die durch Schlüssel-Wert-Paare definiert sind.\n",
    "# Ein Dictionary wird durch geschweifte Klammern {} definiert und die Schlüssel-Wert-Paare werden durch Kommas getrennt.\n",
    "# Ein Dictionary kann Elemente unterschiedlicher Datentypen enthalten.\n",
    "\n",
    "d = {\"a\": 1, \"b\": 2, \"c\": 3, \"d\": 4, \"e\": 5, \"f\": None}\n",
    "print(d)"
   ]
  },
  {
   "cell_type": "code",
   "execution_count": 91,
   "metadata": {},
   "outputs": [
    {
     "name": "stdout",
     "output_type": "stream",
     "text": [
      "a 1\n",
      "b 2\n",
      "c 3\n",
      "d 4\n",
      "e 5\n"
     ]
    }
   ],
   "source": [
    "# Ein Dictionary ist ein 'itterable', das bedeutet wir können es als Basis für for Schleifen verwenden.\n",
    "# Die Reihenfolge der Elemente in einem Dictionary ist nicht definiert.\n",
    "\n",
    "for key in d:\n",
    "    print(key, d[key])"
   ]
  },
  {
   "cell_type": "code",
   "execution_count": 92,
   "metadata": {},
   "outputs": [
    {
     "name": "stdout",
     "output_type": "stream",
     "text": [
      "True\n",
      "False\n"
     ]
    }
   ],
   "source": [
    "# Mit dem Schlüsselwort `in` können wir prüfen, ob ein Schlüssel in einem Dictionary enthalten ist.\n",
    "\n",
    "print(\"a\" in d)\n",
    "print(\"z\" in d)"
   ]
  },
  {
   "cell_type": "code",
   "execution_count": 126,
   "metadata": {},
   "outputs": [
    {
     "data": {
      "text/plain": [
       "Counter({'l': 3, 'H': 1, 'a': 1, 'o': 1, ' ': 1, 'W': 1, 'e': 1, 't': 1})"
      ]
     },
     "execution_count": 126,
     "metadata": {},
     "output_type": "execute_result"
    }
   ],
   "source": [
    "from collections import defaultdict, Counter\n",
    "\n",
    "\n",
    "d = defaultdict(int)\n",
    "\n",
    "\n",
    "Counter(\"Hallo Welt\")\n",
    "\n",
    "\n"
   ]
  },
  {
   "cell_type": "code",
   "execution_count": 110,
   "metadata": {},
   "outputs": [
    {
     "name": "stdout",
     "output_type": "stream",
     "text": [
      "1\n",
      "0\n",
      "1\n"
     ]
    },
    {
     "ename": "KeyError",
     "evalue": "'f'",
     "output_type": "error",
     "traceback": [
      "\u001b[1;31m---------------------------------------------------------------------------\u001b[0m",
      "\u001b[1;31mKeyError\u001b[0m                                  Traceback (most recent call last)",
      "Cell \u001b[1;32mIn[110], line 10\u001b[0m\n\u001b[0;32m      6\u001b[0m \u001b[38;5;66;03m# Alternativ können wir auch direkt auf den Wert eines Schlüssels zug\u001b[39;00m\n\u001b[0;32m      7\u001b[0m \u001b[38;5;66;03m# Im gegensasatz zu get() wirft diese Methode einen KeyError, wenn der Schlüssel nicht im Dictionary enthalten ist.\u001b[39;00m\n\u001b[0;32m      9\u001b[0m \u001b[38;5;28mprint\u001b[39m(d[\u001b[38;5;124m\"\u001b[39m\u001b[38;5;124ma\u001b[39m\u001b[38;5;124m\"\u001b[39m])\n\u001b[1;32m---> 10\u001b[0m \u001b[38;5;28mprint\u001b[39m(d[\u001b[38;5;124m\"\u001b[39m\u001b[38;5;124mf\u001b[39m\u001b[38;5;124m\"\u001b[39m])\n",
      "\u001b[1;31mKeyError\u001b[0m: 'f'"
     ]
    }
   ],
   "source": [
    "# Mit der Methode get() können wir den Wert eines Schlüssels abrufen.\n",
    "\n",
    "print(d.get(\"a\"))\n",
    "print(d.get(\"z\", 0))\n",
    "\n",
    "# Alternativ können wir auch direkt auf den Wert eines Schlüssels zug\n",
    "# Im gegensasatz zu get() wirft diese Methode einen KeyError, wenn der Schlüssel nicht im Dictionary enthalten ist.\n",
    "\n",
    "print(d[\"a\"])\n",
    "print(d[\"f\"])"
   ]
  },
  {
   "cell_type": "code",
   "execution_count": 104,
   "metadata": {},
   "outputs": [
    {
     "name": "stdout",
     "output_type": "stream",
     "text": [
      "{'a': 1, 'b': 2, 'c': 3, 'd': 4, 'e': 5}\n",
      "{'b': 2, 'c': 3, 'd': 4, 'e': 5}\n",
      "1\n"
     ]
    }
   ],
   "source": [
    "# Mit der Methode pop() können wir ein Schlüssel-Wert-Paar aus einem Dictionary entfernen.\n",
    "# Die Methode gibt den Wert des entfernten Schlüssels zurück.\n",
    "\n",
    "d = {\"a\": 1, \"b\": 2, \"c\": 3, \"d\": 4, \"e\": 5}\n",
    "print(d)\n",
    "var = d.pop(\"a\")\n",
    "\n",
    "print(d)\n",
    "print(var)"
   ]
  },
  {
   "cell_type": "code",
   "execution_count": 103,
   "metadata": {},
   "outputs": [
    {
     "data": {
      "text/plain": [
       "2"
      ]
     },
     "execution_count": 103,
     "metadata": {},
     "output_type": "execute_result"
    }
   ],
   "source": [
    "d.pop(\"a\")"
   ]
  },
  {
   "cell_type": "code",
   "execution_count": 101,
   "metadata": {},
   "outputs": [
    {
     "name": "stdout",
     "output_type": "stream",
     "text": [
      "{'a': 2, 'b': 2}\n"
     ]
    }
   ],
   "source": [
    "# Die Schlüssel eines Dictionarys müssen eindeutig sein.\n",
    "\n",
    "d = {\"a\": 1, \"b\": 2, \"a\": 2}\n",
    "print(d)\n"
   ]
  },
  {
   "cell_type": "code",
   "execution_count": 105,
   "metadata": {},
   "outputs": [
    {
     "name": "stdout",
     "output_type": "stream",
     "text": [
      "{'a': 1, 'b': 2, 'c': 3}\n",
      "{'c': 4, 'd': 5, 'e': 6}\n",
      "{'a': 1, 'b': 2, 'c': 4, 'd': 5, 'e': 6}\n"
     ]
    }
   ],
   "source": [
    "# Zwei dictionarys können mit der update()-Methode zusammengeführt werden.\n",
    "\n",
    "d1 = {\"a\": 1, \"b\": 2, \"c\": 3}\n",
    "d2 = {\"c\": 4, \"d\": 5, \"e\": 6}\n",
    "\n",
    "print(d1)\n",
    "print(d2)\n",
    "\n",
    "d1.update(d2)\n",
    "print(d1)"
   ]
  },
  {
   "cell_type": "code",
   "execution_count": 106,
   "metadata": {},
   "outputs": [
    {
     "name": "stdout",
     "output_type": "stream",
     "text": [
      "{'a': 1, 'b': 2, 'c': 3}\n",
      "{'c': 4, 'd': 5, 'e': 6}\n",
      "{'a': 1, 'b': 2, 'c': 4, 'd': 5, 'e': 6}\n"
     ]
    }
   ],
   "source": [
    "# Alternativ können zwei dictionarys auch mit dem | Operator zusammengeführt werden.\n",
    "\n",
    "d1 = {\"a\": 1, \"b\": 2, \"c\": 3}\n",
    "d2 = {\"c\": 4, \"d\": 5, \"e\": 6}\n",
    "\n",
    "print(d1)\n",
    "print(d2)\n",
    "\n",
    "d3 = d1 | d2\n",
    "print(d3)"
   ]
  },
  {
   "cell_type": "code",
   "execution_count": 108,
   "metadata": {},
   "outputs": [
    {
     "name": "stdout",
     "output_type": "stream",
     "text": [
      "['a', 'b', 'c']\n",
      "dict_values([1, 2, 3])\n"
     ]
    }
   ],
   "source": [
    "# Mit der keys()-Methode können wir eine Liste aller Schlüssel eines Dictionarys abrufen.\n",
    "\n",
    "d = {\"a\": 1, \"b\": 2, \"c\": 3}\n",
    "print(list(d.keys()))\n",
    "\n",
    "# Mit der values()-Methode können wir eine Liste aller Werte eines Dictionarys abrufen.\n",
    "\n",
    "print(d.values())"
   ]
  },
  {
   "cell_type": "code",
   "execution_count": 109,
   "metadata": {},
   "outputs": [
    {
     "name": "stdout",
     "output_type": "stream",
     "text": [
      "dict_items([('a', 1), ('b', 2), ('c', 3)])\n",
      "a 1\n",
      "b 2\n",
      "c 3\n"
     ]
    }
   ],
   "source": [
    "# Mit der items()-Methode können wir eine Liste aller Schlüssel-Wert-Paare eines Dictionarys abrufen.\n",
    "\n",
    "print(d.items())\n",
    "\n",
    "# Wir können item() benutzen um über alle Schlüssel-Wert-Paare eines Dictionarys zu iterieren.\n",
    "\n",
    "for key, value in d.items():\n",
    "    print(key, value)"
   ]
  },
  {
   "cell_type": "code",
   "execution_count": 118,
   "metadata": {},
   "outputs": [
    {
     "name": "stdout",
     "output_type": "stream",
     "text": [
      "{'a': 1, 'b': 2, 'c': 3}\n",
      "{'a': 1, 'b': 4, 'c': 3}\n"
     ]
    }
   ],
   "source": [
    "# Wir können die keys nutzen um auf values zuzugreifen oder diese zu verändern\n",
    "\n",
    "d = {\"a\": 1, \"b\": 2, \"c\": 3}\n",
    "print(d)\n",
    "\n",
    "d[\"b\"] = d[\"b\"]**2\n",
    "\n",
    "print(d)"
   ]
  },
  {
   "cell_type": "code",
   "execution_count": 121,
   "metadata": {},
   "outputs": [
    {
     "name": "stdout",
     "output_type": "stream",
     "text": [
      "{'a': 1, 'b': 2, 'c': 3}\n",
      "{'a': 1, 'b': 2, 'c': 3, (1, 2, 3): 4}\n"
     ]
    }
   ],
   "source": [
    "# Die keys eines Dictionarys müssen unveränderlich sein.\n",
    "\n",
    "d = {\"a\": 1, \"b\": 2, \"c\": 3}\n",
    "print(d)\n",
    "\n",
    "#d[[1, 2, 3]] = 4\n",
    "\n",
    "d[(1, 2, 3)] = 4\n",
    "\n",
    "print(d)"
   ]
  },
  {
   "cell_type": "code",
   "execution_count": 122,
   "metadata": {},
   "outputs": [
    {
     "name": "stdout",
     "output_type": "stream",
     "text": [
      "{'__name__': '__main__', '__doc__': 'Automatically created module for IPython interactive environment', '__package__': None, '__loader__': None, '__spec__': None, '__builtin__': <module 'builtins' (built-in)>, '__builtins__': <module 'builtins' (built-in)>, '_ih': ['', 'import this', '# Was ist ein Tuple\\n\\n# Ein Tuple ist eine unveränderliche, geordnete Sammlung von Elementen.\\n# Ein Tuple wird durch runde Klammern () definiert und die Elemente werden durch Kommas getrennt.\\n# Ein Tuple kann Elemente unterschiedlicher Datentypen enthalten.\\n\\ntuple_ = (boolean, integer, float, string, none)\\nprint(tuple_)', '# grundlegende Datentypen\\nboolean = True              # oder False\\ninteger = 42                # oder -1, -45, 156, 928374528138495\\nfloat   = 3.14              # oder -3.14, 0.0, 928374528138495.0\\nstring  = \"Hallo Welt!\"     # oder \\'Hallo Welt!\\', \"🚀\", \\'erste Zeile\\\\nzweite Zeile\\', \"\"\"mehrzeiliger String\"\"\"\\nnone    = None\\n\\nprint(boolean, integer, float, string, none, sep=\"\\\\n\")', '# Was ist ein Tuple\\n\\n# Ein Tuple ist eine unveränderliche, geordnete Sammlung von Elementen.\\n# Ein Tuple wird durch runde Klammern () definiert und die Elemente werden durch Kommas getrennt.\\n# Ein Tuple kann Elemente unterschiedlicher Datentypen enthalten.\\n\\ntuple_ = (boolean, integer, float, string, none)\\nprint(tuple_)', \"# Tuple sind 'itterables', das bedeutet wir können sie als Basis für for Schleifen verwenden.\\n\\nfor element in tuple_:\\n    print(element)\", 'tuple(1, 2)', 'tuple([1, 2,3])', '# Mit der len Funktion können wir die Anzahl der Elemente in einem Tuple ermitteln.\\n\\nprint(len(fruits))', \"fruits = ('apple', 'banana', 'cherry', 'apple', 'orange', 'banana', 'apple')\", '# Mit der len Funktion können wir die Anzahl der Elemente in einem Tuple ermitteln.\\n\\nprint(len(fruits))', \"# Mit dem Keyword `in` lässt sich prüfen ob ein Element in einem Tuple enthalten ist.\\n\\nprint('apple' in fruits)\\nprint('pear' in fruits)\", '# Jedem Element eines Tuples wird ein Index entsprechend seiner Position zugeordnet.\\n# Die Zählung beginnt bei 0. Das erste Element eines Tuples hat also stehts den Index 0.\\n# Um auf die Element über ihren Index zuzugreifen, schreiben wir \\n# fruits[index]\\n# fruits[start:stop]\\n# fruits[start:stop:schrittweite].\\n\\nprint(fruits)\\n\\n# print(fruits[0])\\n# print(fruits[4])\\n# print(fruits[1:3])\\n# print(fruits[1:6:2])', '# Jedem Element eines Tuples wird ein Index entsprechend seiner Position zugeordnet.\\n# Die Zählung beginnt bei 0. Das erste Element eines Tuples hat also stehts den Index 0.\\n# Um auf die Element über ihren Index zuzugreifen, schreiben wir \\n# fruits[index]\\n# fruits[start:stop]\\n# fruits[start:stop:schrittweite].\\n\\nprint(fruits)\\n\\nprint(fruits[0])\\n# print(fruits[4])\\n# print(fruits[1:3])\\n# print(fruits[1:6:2])', '# Jedem Element eines Tuples wird ein Index entsprechend seiner Position zugeordnet.\\n# Die Zählung beginnt bei 0. Das erste Element eines Tuples hat also stehts den Index 0.\\n# Um auf die Element über ihren Index zuzugreifen, schreiben wir \\n# fruits[index]\\n# fruits[start:stop]\\n# fruits[start:stop:schrittweite].\\n\\nprint(fruits)\\n\\nprint(fruits[0])\\nprint(fruits[4])\\n# print(fruits[1:3])\\n# print(fruits[1:6:2])', '# Jedem Element eines Tuples wird ein Index entsprechend seiner Position zugeordnet.\\n# Die Zählung beginnt bei 0. Das erste Element eines Tuples hat also stehts den Index 0.\\n# Um auf die Element über ihren Index zuzugreifen, schreiben wir \\n# fruits[index]\\n# fruits[start:stop]\\n# fruits[start:stop:schrittweite].\\n\\nprint(fruits)\\n\\nprint(fruits[0])\\nprint(fruits[4])\\nprint(fruits[1:3])\\n# print(fruits[1:6:2])', '# Jedem Element eines Tuples wird ein Index entsprechend seiner Position zugeordnet.\\n# Die Zählung beginnt bei 0. Das erste Element eines Tuples hat also stehts den Index 0.\\n# Um auf die Element über ihren Index zuzugreifen, schreiben wir \\n# fruits[index]\\n# fruits[start:stop]\\n# fruits[start:stop:schrittweite].\\n\\nprint(fruits)\\n\\nprint(fruits[0])\\nprint(fruits[4])\\nprint(fruits[1:3])\\nprint(fruits[1:6:2])', '# Man kann für den Index auch negative Werte verwenden\\n# -1 entspricht dem letzten Element, -2 dem vorletzten, usw.\\n\\nprint(fruits)\\n\\nprint(fruits[-1])\\n# print(fruits[-2])\\n# print(fruits[-3:-1])\\n# print(fruits[-3:])', '# Man kann für den Index auch negative Werte verwenden\\n# -1 entspricht dem letzten Element, -2 dem vorletzten, usw.\\n\\nprint(fruits)\\n\\nprint(fruits[-1])\\nprint(fruits[-2])\\n# print(fruits[-3:-1])\\n# print(fruits[-3:])', '# Man kann für den Index auch negative Werte verwenden\\n# -1 entspricht dem letzten Element, -2 dem vorletzten, usw.\\n\\nprint(fruits)\\n\\nprint(fruits[-1])\\nprint(fruits[-2])\\nprint(fruits[-3:-1])\\n# print(fruits[-3:])', '# Man kann für den Index auch negative Werte verwenden\\n# -1 entspricht dem letzten Element, -2 dem vorletzten, usw.\\n\\nprint(fruits)\\n\\nprint(fruits[-1])\\nprint(fruits[-2])\\nprint(fruits[-3:-1])\\nprint(fruits[-3:])', '# Auch für die Schrittweite können negative Werte verwendet werden.\\n# In diesem Fall wird das Tupel rückwärts durchlaufen.\\n# Der Startwert muss dabei größer als der Stopwert sein.\\n\\nprint(fruits)\\n\\nprint(fruits[::-1])\\n# print(fruits[::-2])\\n# print(fruits[5:1:-1])\\n# print(fruits[5:1:-2])', '# Auch für die Schrittweite können negative Werte verwendet werden.\\n# In diesem Fall wird das Tupel rückwärts durchlaufen.\\n# Der Startwert muss dabei größer als der Stopwert sein.\\n\\nprint(fruits)\\n\\nprint(fruits[::-1])\\nprint(fruits[::-2])\\n# print(fruits[5:1:-1])\\n# print(fruits[5:1:-2])', '# Auch für die Schrittweite können negative Werte verwendet werden.\\n# In diesem Fall wird das Tupel rückwärts durchlaufen.\\n# Der Startwert muss dabei größer als der Stopwert sein.\\n\\nprint(fruits)\\n\\nprint(fruits[::-1])\\nprint(fruits[::-2])\\nprint(fruits[5:1:])\\n# print(fruits[5:1:-2])', '# Auch für die Schrittweite können negative Werte verwendet werden.\\n# In diesem Fall wird das Tupel rückwärts durchlaufen.\\n# Der Startwert muss dabei größer als der Stopwert sein.\\n\\nprint(fruits)\\n\\nprint(fruits[::-1])\\nprint(fruits[::-2])\\nprint(fruits[5:1:-1])\\n# print(fruits[5:1:-2])', '# Auch für die Schrittweite können negative Werte verwendet werden.\\n# In diesem Fall wird das Tupel rückwärts durchlaufen.\\n# Der Startwert muss dabei größer als der Stopwert sein.\\n\\nprint(fruits)\\n\\nprint(fruits[::-1])\\nprint(fruits[::-2])\\nprint(fruits[5:1:-1])\\nprint(fruits[5:1:-2])', \"# Tuple haben zwei Methoden\\n\\n# Verwenden der count()-Methode, um die Anzahl der Vorkommen von 'apple' zu zählen\\n\\napple_count = fruits.count('apple')\\nprint(apple_count)\", \"# Verwenden der index()-Methode, um den Index des ersten Vorkommens von 'banana' zu finden\\nfruits.index('apple')\", \"# Verwenden der index()-Methode, um den Index des ersten Vorkommens von 'banana' zu finden\\nfruits.index('apple', 2)\", 'value = \"apple\"\\n\\nstart = 0\\nfor _ in range(fruits.count(value)):\\n    idx = fruits.index(value, start)\\n    print(idx)\\n    start = idx+1\\n    ', 'range(fruits.count(value))', 'list(range(fruits.count(value)))', '# tuple sind unveränderlich (immutable), d.h. sie können nach der Erstellung nicht mehr verändert werden.\\n\\nfruits[3] = \"peach\"', '# Was ist eine List?\\n\\n# Eine List ist eine veränderliche, geordnete Sammlung von Elementen.\\n# Eine List wird durch eckige Klammern [] definiert und die Elemente werden durch Kommas getrennt.\\n# Eine List kann Elemente unterschiedlicher Datentypen enthalten.\\n\\nnames = [\"Alice\", \"Bob\", \"Charlie\", \"Bob\", \"David\", \"Eve\"]\\n\\n# Listen unterstützen weitestgehend die selben Funktionalitäten wie Tuple\\n\\nprint(names)\\n\\nprint(names[1:3])\\nprint(len(names))\\nprint(\"Alice\" in names)\\nprint(\"Mallory\" in names)\\n\\nfor name in names:\\n    print(name)', 'print(names.count(\"Bob\"))\\nprint(names.index(\"Bob\"))', '# Listen sind veränderlich (mutable), d.h. sie können nach der Erstellung verändert werden.\\nprint(names)\\nnames[3] = \"Daniel\"\\nprint(names)', '# Mit der append()-Methode können wir ein Element am Ende einer Liste hinzufügen.\\nnames.append(\"Eva\")\\nprint(names)', '# Mit der extend()-Methode können wir eine Liste an eine andere Liste anhängen.\\nnames.extend([\"Frank\", \"Grace\"])\\nprint(names)', '# Mit der append()-Methode können wir ein Element am Ende einer Liste hinzufügen.\\nnames.append([\"Frank\", \"Grace\"])\\nprint(names)', '# Was ist eine List?\\n\\n# Eine List ist eine veränderliche, geordnete Sammlung von Elementen.\\n# Eine List wird durch eckige Klammern [] definiert und die Elemente werden durch Kommas getrennt.\\n# Eine List kann Elemente unterschiedlicher Datentypen enthalten.\\n\\nnames = [\"Alice\", \"Bob\", \"Charlie\", \"Bob\", \"David\", \"Eve\"]\\n\\n# Listen unterstützen weitestgehend die selben Funktionalitäten wie Tuple\\n\\nprint(names)\\n\\nprint(names[1:3])\\nprint(len(names))\\nprint(\"Alice\" in names)\\nprint(\"Mallory\" in names)\\n\\nfor name in names:\\n    print(name)', 'print(names.count(\"Bob\"))\\nprint(names.index(\"Bob\"))', '# Listen sind veränderlich (mutable), d.h. sie können nach der Erstellung verändert werden.\\nprint(names)\\nnames[3] = \"Daniel\"\\nprint(names)', '# Mit der append()-Methode können wir ein Element am Ende einer Liste hinzufügen.\\nnames.append(\"Frank\", \"Grace\")\\nprint(names)', '# Mit der append()-Methode können wir ein Element am Ende einer Liste hinzufügen.\\nnames.append(\"Eva\")\\nprint(names)', '# Mit der extend()-Methode können wir eine Liste an eine andere Liste anhängen.\\nnames.extend([\"Frank\", \"Grace\"])\\nprint(names)', '# Zwei Listen können auch mit dem + Operator zusammengefügt werden.\\n# Dabei wird eine neue Liste erstellt und die beiden Listen werden nicht verändert.\\n\\nl1 = [1, 2, 3]\\nl2 = [4, 5, 6]\\nl3 = l1 + l2\\n\\nprint(l1)\\nprint(l2)\\nprint(l3)', '# Mit der insert()-Methode können wir ein Element an einer bestimmten Position in einer Liste einfügen.\\n\\nprint(names)\\nnames.insert(3, \"Dennis\")\\nprint(names)', '# Mit der pop()-Methode können wir ein Element an einer bestimmten Position aus einer Liste entfernen.\\n\\nprint(names)\\npoped_element = names.pop(3)\\nprint(names)\\nprint(poped_element)', '# Gibt man pop keinen Index an, wird das letzte Element entfernt.\\n# Das entfernte Element wird dabei zurückgegeben.\\n# Zusammen mit append lässt sich die Liste wie ein Stack verwenden.\\n\\nstack = []\\nstack.append(1)\\nstack.append(2)\\nstack.append(3)\\n\\nprint(stack)\\n\\nprint(stack.pop())\\nprint(stack.pop())\\nprint(stack.pop())', 'stack', '# Wie bei Tuplen kommen wir mit der Methode index an den Index des ersten Vorkommens eines Elements.\\n# Mit der remove()-Methode können wir das erste Vorkommen eines Elements aus einer Liste entfernen.\\n\\nprint(names)\\nif \"Dennis\" in names:\\n    names.remove(\"Dennis\")\\nelse:\\n    print(\"Dennis not found\")\\nprint(names)', '# Mit der insert()-Methode können wir ein Element an einer bestimmten Position in einer Liste einfügen.\\n\\nprint(names)\\nnames.insert(3, \"Dennis\")\\nprint(names)', '# Wie bei Tuplen kommen wir mit der Methode index an den Index des ersten Vorkommens eines Elements.\\n# Mit der remove()-Methode können wir das erste Vorkommen eines Elements aus einer Liste entfernen.\\n\\nprint(names)\\nif \"Dennis\" in names:\\n    names.remove(\"Dennis\")\\nelse:\\n    print(\"Dennis not found\")\\nprint(names)', 'names.remove(\"Dennis\")', 'names.index(\"Dennis\")', 'l = [1, 2, 2, 2, 3]\\n\\nl.remove(2)\\n\\nl', 'l = [1, 2, 2, 2, 3]\\n\\nfor _ in range(l.count(2)):\\n    l.remove(2)\\n\\nl', '# Mit der clear()-Methode können wir alle Elemente aus einer Liste entfernen.\\n\\nl = [1, 2, 3, 4, 5]\\nprint(l)\\nl.clear()\\nprint(l)', '# Mit der reverse()-Methode können wir die Reihenfolge der Elemente in einer Liste umkehren.\\n\\nl = [1, 2, 3, 4, 5]\\nprint(l)\\nl.reverse()\\nprint(l)', 'reversed(l)', 'list(reversed(l))', 'l', '# Mit der sort()-Methode können wir die Elemente einer Liste sortieren.\\n\\nl = [5, 3, 4, 1, 2]\\nprint(l)\\nl.sort()\\nprint(l)', '# Mit der sort()-Methode können wir die Elemente einer Liste sortieren.\\n\\nl = [5, 3, 4, 1, 2]\\n# print(l)\\n# l.sort()\\n# print(l)', 'l', 'sorted(l)', 'print(sorted(l))\\nprint(l)', '# Ein Set ist eine ungeordnete Sammlung von Elementen ohne Duplikate.\\n# Ein Set wird durch geschweifte Klammern {} definiert und die Elemente werden durch Kommas getrennt.\\n# Ein Set kann Elemente unterschiedlicher Datentypen enthalten. Dabei können nur unveränderliche Datentypen wie\\n# Integer, Float, String, Tuple, Boolean und None usw. enthalten sein.\\n\\ns = {1, 2, 3, 4, 5}\\nprint(s)', '# Ein Set ist eine ungeordnete Sammlung von Elementen ohne Duplikate.\\n# Ein Set wird durch geschweifte Klammern {} definiert und die Elemente werden durch Kommas getrennt.\\n# Ein Set kann Elemente unterschiedlicher Datentypen enthalten. Dabei können nur unveränderliche Datentypen wie\\n# Integer, Float, String, Tuple, Boolean und None usw. enthalten sein.\\n\\ns = {1, 2, 3, 4, 5, 5, 5, 5}\\nprint(s)', '# Ein Set ist eine ungeordnete Sammlung von Elementen ohne Duplikate.\\n# Ein Set wird durch geschweifte Klammern {} definiert und die Elemente werden durch Kommas getrennt.\\n# Ein Set kann Elemente unterschiedlicher Datentypen enthalten. Dabei können nur unveränderliche Datentypen wie\\n# Integer, Float, String, Tuple, Boolean und None usw. enthalten sein.\\n\\ns = {1, 2, 3, 4, 5, \"hallo\"}\\nprint(s)', '# Ein Set ist eine ungeordnete Sammlung von Elementen ohne Duplikate.\\n# Ein Set wird durch geschweifte Klammern {} definiert und die Elemente werden durch Kommas getrennt.\\n# Ein Set kann Elemente unterschiedlicher Datentypen enthalten. Dabei können nur unveränderliche Datentypen wie\\n# Integer, Float, String, Tuple, Boolean und None usw. enthalten sein.\\n\\ns = {1, 2, 3, 4, 5, [1, 2, 3]}\\nprint(s)', '# Ein Set ist eine ungeordnete Sammlung von Elementen ohne Duplikate.\\n# Ein Set wird durch geschweifte Klammern {} definiert und die Elemente werden durch Kommas getrennt.\\n# Ein Set kann Elemente unterschiedlicher Datentypen enthalten. Dabei können nur unveränderliche Datentypen wie\\n# Integer, Float, String, Tuple, Boolean und None usw. enthalten sein.\\n\\ns = {1, 2, 3, 4, 5, (1, 2, 3)}\\nprint(s)', 's = {[1, 2, 3], \"Hallo Welt\", 6.8, (4, 5, 6), {\"a\": 9, \"b\": -12}, True, None}', 's = {\"Hallo Welt\", 6.8, (4, 5, 6), {\"a\": 9, \"b\": -12}, True, None}', 's = {\"Hallo Welt\", 6.8, (4, 5, 6), True, None}', 's = {\"Hallo Welt\", 6.8, (4, 5, 6), True, None}\\ns', 's = {\"Hallo Welt\", 6.8, (4, 5, 6), True, None, {1, 2}}\\ns', 'hash(\"string\")', 'hash(\"string\")', '6.8 in s', 'string_ = \"string\"\\nhash(string)', 'string_ = \"string\"\\nhash(string_)', 'string_ = \"strig\"\\n\\nhash(string_)', \"# Ein Set ist ein 'itterable', das bedeutet wir können es als Basis für for Schleifen verwenden.\\n# Die Reihenfolge der Elemente in einem Set ist nicht definiert.\\n# Ein Set hat keine Duplikate\\n\\ns = {1, 2, 3, 4, 5, 1, 2, 3, 4, 5}\\n\\nprint(s)\\nfor e in s:\\n    print(e)\\n    \", '# Ein Set hat keine Indizes, daher können wir nicht auf Elemente über ihren Index zugreifen.\\n\\ns[3]', '# Sets unterstützen die üblichen Mengenoperatoren aus der Mengenlehre.\\n# Mit den Methoden union(), intersection() und difference() können wir die Vereinigung, den Schnitt und die Differenz\\n# von zwei Sets berechnen.\\n\\ns1 = {1, 2, 3, 4, 5}\\ns2 = {4, 5, 6, 7, 8}\\n\\nprint(s1.union(s2))\\nprint(s1.intersection(s2))\\nprint(s1.difference(s2))', '# Die gleichen Operatoren können auch mit den Operatoren |, &, - durchgeführt werden.\\n\\nprint(s1 | s2)\\nprint(s1 & s2)\\nprint(s1 - s2)', '# Mit der add()-Methode können wir ein Element zu einem Set hinzufügen.\\n\\ns = {1, 2, 3, 4, 5}\\nprint(s)\\ns.add(6)\\nprint(s)', '# Mit der remove()-Methode können wir ein Element aus einem Set entfernen.\\n\\ns = {1, 2, 3, 4, 5}\\nprint(s)\\ns.remove(3)\\nprint(s)', '# Mit dem Schlüsselwort `in` können wir prüfen, ob ein Element in einem Set enthalten ist.\\n# `in` ist in Sets effizienter als in Listen.\\n\\ns = {1, 2, 3, 4, 5}\\nprint(3 in s) ', '# Ein Dictionary ist eine ungeordnete Sammlung von Elementen, die durch Schlüssel-Wert-Paare definiert sind.\\n# Ein Dictionary wird durch geschweifte Klammern {} definiert und die Schlüssel-Wert-Paare werden durch Kommas getrennt.\\n# Ein Dictionary kann Elemente unterschiedlicher Datentypen enthalten.\\n\\nd = {\"a\": 1, \"b\": 2, \"c\": 3, \"d\": 4, \"e\": 5}\\nprint(d)', \"# Ein Dictionary ist ein 'itterable', das bedeutet wir können es als Basis für for Schleifen verwenden.\\n# Die Reihenfolge der Elemente in einem Dictionary ist nicht definiert.\\n\\nfor key in d:\\n    print(key, d[key])\", '# Mit dem Schlüsselwort `in` können wir prüfen, ob ein Schlüssel in einem Dictionary enthalten ist.\\n\\nprint(\"a\" in d)\\nprint(\"z\" in d)', '# Mit der Methode get() können wir den Wert eines Schlüssels abrufen.\\n\\nprint(d.get(\"a\"))\\nprint(d.get(\"z\"))\\n\\n# Alternativ können wir auch direkt auf den Wert eines Schlüssels zug\\n# Im gegensasatz zu get() wirft diese Methode einen KeyError, wenn der Schlüssel nicht im Dictionary enthalten ist.\\n\\nprint(d[\"a\"])\\nprint(d[\"z\"])', '# Ein Dictionary ist eine ungeordnete Sammlung von Elementen, die durch Schlüssel-Wert-Paare definiert sind.\\n# Ein Dictionary wird durch geschweifte Klammern {} definiert und die Schlüssel-Wert-Paare werden durch Kommas getrennt.\\n# Ein Dictionary kann Elemente unterschiedlicher Datentypen enthalten.\\n\\nd = {\"a\": 1, \"b\": 2, \"c\": 3, \"d\": 4, \"e\": 5, \"f\": None}\\nprint(d)', '# Mit der Methode get() können wir den Wert eines Schlüssels abrufen.\\n\\nprint(d.get(\"a\"))\\nprint(d.get(\"f\"))\\n\\n# Alternativ können wir auch direkt auf den Wert eines Schlüssels zug\\n# Im gegensasatz zu get() wirft diese Methode einen KeyError, wenn der Schlüssel nicht im Dictionary enthalten ist.\\n\\nprint(d[\"a\"])\\nprint(d[\"z\"])', '# Mit der Methode get() können wir den Wert eines Schlüssels abrufen.\\n\\nprint(d.get(\"a\"))\\nprint(d.get(\"f\"))\\n\\n# Alternativ können wir auch direkt auf den Wert eines Schlüssels zug\\n# Im gegensasatz zu get() wirft diese Methode einen KeyError, wenn der Schlüssel nicht im Dictionary enthalten ist.\\n\\nprint(d[\"a\"])\\nprint(d[\"f\"])', '# Mit der Methode get() können wir den Wert eines Schlüssels abrufen.\\n\\nprint(d.get(\"a\"))\\nprint(d.get(\"z\", 0))\\n\\n# Alternativ können wir auch direkt auf den Wert eines Schlüssels zug\\n# Im gegensasatz zu get() wirft diese Methode einen KeyError, wenn der Schlüssel nicht im Dictionary enthalten ist.\\n\\nprint(d[\"a\"])\\nprint(d[\"f\"])', '# Mit der Methode get() können wir den Wert eines Schlüssels abrufen.\\n\\nprint(d.get(\"a\"))\\nprint(d.get(\"z\"))\\n\\n# Alternativ können wir auch direkt auf den Wert eines Schlüssels zug\\n# Im gegensasatz zu get() wirft diese Methode einen KeyError, wenn der Schlüssel nicht im Dictionary enthalten ist.\\n\\nprint(d[\"a\"])\\nprint(d[\"f\"])', '# Mit der Methode pop() können wir ein Schlüssel-Wert-Paar aus einem Dictionary entfernen.\\n# Die Methode gibt den Wert des entfernten Schlüssels zurück.\\n\\nd = {\"a\": 1, \"b\": 2, \"c\": 3, \"d\": 4, \"e\": 5}\\nprint(d)\\na = d.pop(\"a\")\\nprint(d)\\nprint(a)', '# Die Schlüssel eines Dictionarys müssen eindeutig sein.\\n\\nd = {\"a\": 1, \"b\": 2, \"a\": 3}\\nprint(d)', '# Die Schlüssel eines Dictionarys müssen eindeutig sein.\\n\\nd = {\"a\": 1, \"b\": 2, \"a\": 2}\\nprint(d)', 'd ', 'd.pop(\"a\")', '# Mit der Methode pop() können wir ein Schlüssel-Wert-Paar aus einem Dictionary entfernen.\\n# Die Methode gibt den Wert des entfernten Schlüssels zurück.\\n\\nd = {\"a\": 1, \"b\": 2, \"c\": 3, \"d\": 4, \"e\": 5}\\nprint(d)\\nvar = d.pop(\"a\")\\n\\nprint(d)\\nprint(var)', '# Zwei dictionarys können mit der update()-Methode zusammengeführt werden.\\n\\nd1 = {\"a\": 1, \"b\": 2, \"c\": 3}\\nd2 = {\"c\": 4, \"d\": 5, \"e\": 6}\\n\\nprint(d1)\\nprint(d2)\\n\\nd1.update(d2)\\nprint(d1)', '# Alternativ können zwei dictionarys auch mit dem | Operator zusammengeführt werden.\\n\\nd1 = {\"a\": 1, \"b\": 2, \"c\": 3}\\nd2 = {\"c\": 4, \"d\": 5, \"e\": 6}\\n\\nprint(d1)\\nprint(d2)\\n\\nd3 = d1 | d2\\nprint(d3)', '# Mit der keys()-Methode können wir eine Liste aller Schlüssel eines Dictionarys abrufen.\\n\\nd = {\"a\": 1, \"b\": 2, \"c\": 3}\\nprint(d.keys())\\n\\n# Mit der values()-Methode können wir eine Liste aller Werte eines Dictionarys abrufen.\\n\\nprint(d.values())', '# Mit der keys()-Methode können wir eine Liste aller Schlüssel eines Dictionarys abrufen.\\n\\nd = {\"a\": 1, \"b\": 2, \"c\": 3}\\nprint(list(d.keys()))\\n\\n# Mit der values()-Methode können wir eine Liste aller Werte eines Dictionarys abrufen.\\n\\nprint(d.values())', '# Mit der items()-Methode können wir eine Liste aller Schlüssel-Wert-Paare eines Dictionarys abrufen.\\n\\nprint(d.items())\\n\\n# Wir können item() benutzen um über alle Schlüssel-Wert-Paare eines Dictionarys zu iterieren.\\n\\nfor key, value in d.items():\\n    print(key, value)', '# Mit der Methode get() können wir den Wert eines Schlüssels abrufen.\\n\\nprint(d.get(\"a\"))\\nprint(d.get(\"z\", 0))\\n\\n# Alternativ können wir auch direkt auf den Wert eines Schlüssels zug\\n# Im gegensasatz zu get() wirft diese Methode einen KeyError, wenn der Schlüssel nicht im Dictionary enthalten ist.\\n\\nprint(d[\"a\"])\\nprint(d[\"f\"])', 'from collections import defaultdict\\n\\n\\nd = defaultdict(int)\\n\\nd[5]', 'from collections import defaultdict\\n\\n\\nd = defaultdict({\"a\": 2, })\\n\\nd[5]', 'from collections import defaultdict\\n\\n\\nd = defaultdict(int, {\"a\": 2, })\\n\\nd[5]', 'from collections import defaultdict\\n\\n\\nd = defaultdict(int, {\"a\": 2, })\\n\\nd[\"a\"]', 'from collections import defaultdict\\n\\n\\nd = defaultdict(int, {\"a\": 2, \"b\": 6})\\nprint(d)', 'from collections import defaultdict\\n\\n\\nd = defaultdict(int, {\"a\": 2, \"b\": 6})\\nprint(d)\\nd[\"c\"]\\nprint(d)', 'from collections import defaultdict\\n\\n\\nd = defaultdict(int, {\"a\": 2, \"b\": 6})\\nprint(d)\\nprint(d[\"c\"])\\nprint(d)', '# Wir können die keys nutzen um auf values zuzugreifen oder diese zu verändern\\n\\nd = {\"a\": 1, \"b\": 2, \"c\": 3}\\nprint(d)\\n\\nd[\"b\"] = d[\"b\"]**2\\n\\nprint(d)', '# Die keys eines Dictionarys müssen unveränderlich sein.\\n\\nd = {\"a\": 1, \"b\": 2, \"c\": 3}\\nprint(d)\\n\\n# d[[1, 2, 3]] = 4\\n\\nd[(1, 2, 3)] = 4\\n\\nprint(d)', '# Die keys eines Dictionarys müssen unveränderlich sein.\\n\\nd = {\"a\": 1, \"b\": 2, \"c\": 3}\\nprint(d)\\n\\nd[[1, 2, 3]] = 4\\n\\nd[(1, 2, 3)] = 4\\n\\nprint(d)', '# Die keys eines Dictionarys müssen unveränderlich sein.\\n\\nd = {\"a\": 1, \"b\": 2, \"c\": 3}\\nprint(d)\\n\\n#d[[1, 2, 3]] = 4\\n\\nd[(1, 2, 3)] = 4\\n\\nprint(d)', '# Praktische Anwendungen\\n\\n# Drictionarys werden verwendet um die globalen Variablen in Python zu speichern.\\n# Die Funktion globals() gibt ein Dictionary zurück, das alle globalen Variablen und deren\\n# Werte enthält.\\n\\nprint(globals())'], '_oh': {7: (1, 2, 3), 27: 0, 28: 3, 30: range(0, 3), 31: [0, 1, 2], 49: [], 55: [1, 2, 2, 3], 56: [1, 3], 59: <list_reverseiterator object at 0x000002601F8F3310>, 60: [1, 2, 3, 4, 5], 61: [5, 4, 3, 2, 1], 64: [5, 3, 4, 1, 2], 65: [1, 2, 3, 4, 5], 75: {None, True, 6.8, (4, 5, 6), 'Hallo Welt'}, 77: -2511729232103956573, 78: -2511729232103956573, 79: True, 80: 75108934462107762, 81: -2511729232103956573, 82: -527267560428419355, 102: {'b': 2}, 103: 2, 111: 0, 113: 0, 114: 2}, '_dh': [WindowsPath('c:/Users/Nils Schillmann/StackFuel/Team - Mentoring - Dokumente/1_Operationelles/13_Own_Space/Nils/Live_Sessions/Python')], 'In': ['', 'import this', '# Was ist ein Tuple\\n\\n# Ein Tuple ist eine unveränderliche, geordnete Sammlung von Elementen.\\n# Ein Tuple wird durch runde Klammern () definiert und die Elemente werden durch Kommas getrennt.\\n# Ein Tuple kann Elemente unterschiedlicher Datentypen enthalten.\\n\\ntuple_ = (boolean, integer, float, string, none)\\nprint(tuple_)', '# grundlegende Datentypen\\nboolean = True              # oder False\\ninteger = 42                # oder -1, -45, 156, 928374528138495\\nfloat   = 3.14              # oder -3.14, 0.0, 928374528138495.0\\nstring  = \"Hallo Welt!\"     # oder \\'Hallo Welt!\\', \"🚀\", \\'erste Zeile\\\\nzweite Zeile\\', \"\"\"mehrzeiliger String\"\"\"\\nnone    = None\\n\\nprint(boolean, integer, float, string, none, sep=\"\\\\n\")', '# Was ist ein Tuple\\n\\n# Ein Tuple ist eine unveränderliche, geordnete Sammlung von Elementen.\\n# Ein Tuple wird durch runde Klammern () definiert und die Elemente werden durch Kommas getrennt.\\n# Ein Tuple kann Elemente unterschiedlicher Datentypen enthalten.\\n\\ntuple_ = (boolean, integer, float, string, none)\\nprint(tuple_)', \"# Tuple sind 'itterables', das bedeutet wir können sie als Basis für for Schleifen verwenden.\\n\\nfor element in tuple_:\\n    print(element)\", 'tuple(1, 2)', 'tuple([1, 2,3])', '# Mit der len Funktion können wir die Anzahl der Elemente in einem Tuple ermitteln.\\n\\nprint(len(fruits))', \"fruits = ('apple', 'banana', 'cherry', 'apple', 'orange', 'banana', 'apple')\", '# Mit der len Funktion können wir die Anzahl der Elemente in einem Tuple ermitteln.\\n\\nprint(len(fruits))', \"# Mit dem Keyword `in` lässt sich prüfen ob ein Element in einem Tuple enthalten ist.\\n\\nprint('apple' in fruits)\\nprint('pear' in fruits)\", '# Jedem Element eines Tuples wird ein Index entsprechend seiner Position zugeordnet.\\n# Die Zählung beginnt bei 0. Das erste Element eines Tuples hat also stehts den Index 0.\\n# Um auf die Element über ihren Index zuzugreifen, schreiben wir \\n# fruits[index]\\n# fruits[start:stop]\\n# fruits[start:stop:schrittweite].\\n\\nprint(fruits)\\n\\n# print(fruits[0])\\n# print(fruits[4])\\n# print(fruits[1:3])\\n# print(fruits[1:6:2])', '# Jedem Element eines Tuples wird ein Index entsprechend seiner Position zugeordnet.\\n# Die Zählung beginnt bei 0. Das erste Element eines Tuples hat also stehts den Index 0.\\n# Um auf die Element über ihren Index zuzugreifen, schreiben wir \\n# fruits[index]\\n# fruits[start:stop]\\n# fruits[start:stop:schrittweite].\\n\\nprint(fruits)\\n\\nprint(fruits[0])\\n# print(fruits[4])\\n# print(fruits[1:3])\\n# print(fruits[1:6:2])', '# Jedem Element eines Tuples wird ein Index entsprechend seiner Position zugeordnet.\\n# Die Zählung beginnt bei 0. Das erste Element eines Tuples hat also stehts den Index 0.\\n# Um auf die Element über ihren Index zuzugreifen, schreiben wir \\n# fruits[index]\\n# fruits[start:stop]\\n# fruits[start:stop:schrittweite].\\n\\nprint(fruits)\\n\\nprint(fruits[0])\\nprint(fruits[4])\\n# print(fruits[1:3])\\n# print(fruits[1:6:2])', '# Jedem Element eines Tuples wird ein Index entsprechend seiner Position zugeordnet.\\n# Die Zählung beginnt bei 0. Das erste Element eines Tuples hat also stehts den Index 0.\\n# Um auf die Element über ihren Index zuzugreifen, schreiben wir \\n# fruits[index]\\n# fruits[start:stop]\\n# fruits[start:stop:schrittweite].\\n\\nprint(fruits)\\n\\nprint(fruits[0])\\nprint(fruits[4])\\nprint(fruits[1:3])\\n# print(fruits[1:6:2])', '# Jedem Element eines Tuples wird ein Index entsprechend seiner Position zugeordnet.\\n# Die Zählung beginnt bei 0. Das erste Element eines Tuples hat also stehts den Index 0.\\n# Um auf die Element über ihren Index zuzugreifen, schreiben wir \\n# fruits[index]\\n# fruits[start:stop]\\n# fruits[start:stop:schrittweite].\\n\\nprint(fruits)\\n\\nprint(fruits[0])\\nprint(fruits[4])\\nprint(fruits[1:3])\\nprint(fruits[1:6:2])', '# Man kann für den Index auch negative Werte verwenden\\n# -1 entspricht dem letzten Element, -2 dem vorletzten, usw.\\n\\nprint(fruits)\\n\\nprint(fruits[-1])\\n# print(fruits[-2])\\n# print(fruits[-3:-1])\\n# print(fruits[-3:])', '# Man kann für den Index auch negative Werte verwenden\\n# -1 entspricht dem letzten Element, -2 dem vorletzten, usw.\\n\\nprint(fruits)\\n\\nprint(fruits[-1])\\nprint(fruits[-2])\\n# print(fruits[-3:-1])\\n# print(fruits[-3:])', '# Man kann für den Index auch negative Werte verwenden\\n# -1 entspricht dem letzten Element, -2 dem vorletzten, usw.\\n\\nprint(fruits)\\n\\nprint(fruits[-1])\\nprint(fruits[-2])\\nprint(fruits[-3:-1])\\n# print(fruits[-3:])', '# Man kann für den Index auch negative Werte verwenden\\n# -1 entspricht dem letzten Element, -2 dem vorletzten, usw.\\n\\nprint(fruits)\\n\\nprint(fruits[-1])\\nprint(fruits[-2])\\nprint(fruits[-3:-1])\\nprint(fruits[-3:])', '# Auch für die Schrittweite können negative Werte verwendet werden.\\n# In diesem Fall wird das Tupel rückwärts durchlaufen.\\n# Der Startwert muss dabei größer als der Stopwert sein.\\n\\nprint(fruits)\\n\\nprint(fruits[::-1])\\n# print(fruits[::-2])\\n# print(fruits[5:1:-1])\\n# print(fruits[5:1:-2])', '# Auch für die Schrittweite können negative Werte verwendet werden.\\n# In diesem Fall wird das Tupel rückwärts durchlaufen.\\n# Der Startwert muss dabei größer als der Stopwert sein.\\n\\nprint(fruits)\\n\\nprint(fruits[::-1])\\nprint(fruits[::-2])\\n# print(fruits[5:1:-1])\\n# print(fruits[5:1:-2])', '# Auch für die Schrittweite können negative Werte verwendet werden.\\n# In diesem Fall wird das Tupel rückwärts durchlaufen.\\n# Der Startwert muss dabei größer als der Stopwert sein.\\n\\nprint(fruits)\\n\\nprint(fruits[::-1])\\nprint(fruits[::-2])\\nprint(fruits[5:1:])\\n# print(fruits[5:1:-2])', '# Auch für die Schrittweite können negative Werte verwendet werden.\\n# In diesem Fall wird das Tupel rückwärts durchlaufen.\\n# Der Startwert muss dabei größer als der Stopwert sein.\\n\\nprint(fruits)\\n\\nprint(fruits[::-1])\\nprint(fruits[::-2])\\nprint(fruits[5:1:-1])\\n# print(fruits[5:1:-2])', '# Auch für die Schrittweite können negative Werte verwendet werden.\\n# In diesem Fall wird das Tupel rückwärts durchlaufen.\\n# Der Startwert muss dabei größer als der Stopwert sein.\\n\\nprint(fruits)\\n\\nprint(fruits[::-1])\\nprint(fruits[::-2])\\nprint(fruits[5:1:-1])\\nprint(fruits[5:1:-2])', \"# Tuple haben zwei Methoden\\n\\n# Verwenden der count()-Methode, um die Anzahl der Vorkommen von 'apple' zu zählen\\n\\napple_count = fruits.count('apple')\\nprint(apple_count)\", \"# Verwenden der index()-Methode, um den Index des ersten Vorkommens von 'banana' zu finden\\nfruits.index('apple')\", \"# Verwenden der index()-Methode, um den Index des ersten Vorkommens von 'banana' zu finden\\nfruits.index('apple', 2)\", 'value = \"apple\"\\n\\nstart = 0\\nfor _ in range(fruits.count(value)):\\n    idx = fruits.index(value, start)\\n    print(idx)\\n    start = idx+1\\n    ', 'range(fruits.count(value))', 'list(range(fruits.count(value)))', '# tuple sind unveränderlich (immutable), d.h. sie können nach der Erstellung nicht mehr verändert werden.\\n\\nfruits[3] = \"peach\"', '# Was ist eine List?\\n\\n# Eine List ist eine veränderliche, geordnete Sammlung von Elementen.\\n# Eine List wird durch eckige Klammern [] definiert und die Elemente werden durch Kommas getrennt.\\n# Eine List kann Elemente unterschiedlicher Datentypen enthalten.\\n\\nnames = [\"Alice\", \"Bob\", \"Charlie\", \"Bob\", \"David\", \"Eve\"]\\n\\n# Listen unterstützen weitestgehend die selben Funktionalitäten wie Tuple\\n\\nprint(names)\\n\\nprint(names[1:3])\\nprint(len(names))\\nprint(\"Alice\" in names)\\nprint(\"Mallory\" in names)\\n\\nfor name in names:\\n    print(name)', 'print(names.count(\"Bob\"))\\nprint(names.index(\"Bob\"))', '# Listen sind veränderlich (mutable), d.h. sie können nach der Erstellung verändert werden.\\nprint(names)\\nnames[3] = \"Daniel\"\\nprint(names)', '# Mit der append()-Methode können wir ein Element am Ende einer Liste hinzufügen.\\nnames.append(\"Eva\")\\nprint(names)', '# Mit der extend()-Methode können wir eine Liste an eine andere Liste anhängen.\\nnames.extend([\"Frank\", \"Grace\"])\\nprint(names)', '# Mit der append()-Methode können wir ein Element am Ende einer Liste hinzufügen.\\nnames.append([\"Frank\", \"Grace\"])\\nprint(names)', '# Was ist eine List?\\n\\n# Eine List ist eine veränderliche, geordnete Sammlung von Elementen.\\n# Eine List wird durch eckige Klammern [] definiert und die Elemente werden durch Kommas getrennt.\\n# Eine List kann Elemente unterschiedlicher Datentypen enthalten.\\n\\nnames = [\"Alice\", \"Bob\", \"Charlie\", \"Bob\", \"David\", \"Eve\"]\\n\\n# Listen unterstützen weitestgehend die selben Funktionalitäten wie Tuple\\n\\nprint(names)\\n\\nprint(names[1:3])\\nprint(len(names))\\nprint(\"Alice\" in names)\\nprint(\"Mallory\" in names)\\n\\nfor name in names:\\n    print(name)', 'print(names.count(\"Bob\"))\\nprint(names.index(\"Bob\"))', '# Listen sind veränderlich (mutable), d.h. sie können nach der Erstellung verändert werden.\\nprint(names)\\nnames[3] = \"Daniel\"\\nprint(names)', '# Mit der append()-Methode können wir ein Element am Ende einer Liste hinzufügen.\\nnames.append(\"Frank\", \"Grace\")\\nprint(names)', '# Mit der append()-Methode können wir ein Element am Ende einer Liste hinzufügen.\\nnames.append(\"Eva\")\\nprint(names)', '# Mit der extend()-Methode können wir eine Liste an eine andere Liste anhängen.\\nnames.extend([\"Frank\", \"Grace\"])\\nprint(names)', '# Zwei Listen können auch mit dem + Operator zusammengefügt werden.\\n# Dabei wird eine neue Liste erstellt und die beiden Listen werden nicht verändert.\\n\\nl1 = [1, 2, 3]\\nl2 = [4, 5, 6]\\nl3 = l1 + l2\\n\\nprint(l1)\\nprint(l2)\\nprint(l3)', '# Mit der insert()-Methode können wir ein Element an einer bestimmten Position in einer Liste einfügen.\\n\\nprint(names)\\nnames.insert(3, \"Dennis\")\\nprint(names)', '# Mit der pop()-Methode können wir ein Element an einer bestimmten Position aus einer Liste entfernen.\\n\\nprint(names)\\npoped_element = names.pop(3)\\nprint(names)\\nprint(poped_element)', '# Gibt man pop keinen Index an, wird das letzte Element entfernt.\\n# Das entfernte Element wird dabei zurückgegeben.\\n# Zusammen mit append lässt sich die Liste wie ein Stack verwenden.\\n\\nstack = []\\nstack.append(1)\\nstack.append(2)\\nstack.append(3)\\n\\nprint(stack)\\n\\nprint(stack.pop())\\nprint(stack.pop())\\nprint(stack.pop())', 'stack', '# Wie bei Tuplen kommen wir mit der Methode index an den Index des ersten Vorkommens eines Elements.\\n# Mit der remove()-Methode können wir das erste Vorkommen eines Elements aus einer Liste entfernen.\\n\\nprint(names)\\nif \"Dennis\" in names:\\n    names.remove(\"Dennis\")\\nelse:\\n    print(\"Dennis not found\")\\nprint(names)', '# Mit der insert()-Methode können wir ein Element an einer bestimmten Position in einer Liste einfügen.\\n\\nprint(names)\\nnames.insert(3, \"Dennis\")\\nprint(names)', '# Wie bei Tuplen kommen wir mit der Methode index an den Index des ersten Vorkommens eines Elements.\\n# Mit der remove()-Methode können wir das erste Vorkommen eines Elements aus einer Liste entfernen.\\n\\nprint(names)\\nif \"Dennis\" in names:\\n    names.remove(\"Dennis\")\\nelse:\\n    print(\"Dennis not found\")\\nprint(names)', 'names.remove(\"Dennis\")', 'names.index(\"Dennis\")', 'l = [1, 2, 2, 2, 3]\\n\\nl.remove(2)\\n\\nl', 'l = [1, 2, 2, 2, 3]\\n\\nfor _ in range(l.count(2)):\\n    l.remove(2)\\n\\nl', '# Mit der clear()-Methode können wir alle Elemente aus einer Liste entfernen.\\n\\nl = [1, 2, 3, 4, 5]\\nprint(l)\\nl.clear()\\nprint(l)', '# Mit der reverse()-Methode können wir die Reihenfolge der Elemente in einer Liste umkehren.\\n\\nl = [1, 2, 3, 4, 5]\\nprint(l)\\nl.reverse()\\nprint(l)', 'reversed(l)', 'list(reversed(l))', 'l', '# Mit der sort()-Methode können wir die Elemente einer Liste sortieren.\\n\\nl = [5, 3, 4, 1, 2]\\nprint(l)\\nl.sort()\\nprint(l)', '# Mit der sort()-Methode können wir die Elemente einer Liste sortieren.\\n\\nl = [5, 3, 4, 1, 2]\\n# print(l)\\n# l.sort()\\n# print(l)', 'l', 'sorted(l)', 'print(sorted(l))\\nprint(l)', '# Ein Set ist eine ungeordnete Sammlung von Elementen ohne Duplikate.\\n# Ein Set wird durch geschweifte Klammern {} definiert und die Elemente werden durch Kommas getrennt.\\n# Ein Set kann Elemente unterschiedlicher Datentypen enthalten. Dabei können nur unveränderliche Datentypen wie\\n# Integer, Float, String, Tuple, Boolean und None usw. enthalten sein.\\n\\ns = {1, 2, 3, 4, 5}\\nprint(s)', '# Ein Set ist eine ungeordnete Sammlung von Elementen ohne Duplikate.\\n# Ein Set wird durch geschweifte Klammern {} definiert und die Elemente werden durch Kommas getrennt.\\n# Ein Set kann Elemente unterschiedlicher Datentypen enthalten. Dabei können nur unveränderliche Datentypen wie\\n# Integer, Float, String, Tuple, Boolean und None usw. enthalten sein.\\n\\ns = {1, 2, 3, 4, 5, 5, 5, 5}\\nprint(s)', '# Ein Set ist eine ungeordnete Sammlung von Elementen ohne Duplikate.\\n# Ein Set wird durch geschweifte Klammern {} definiert und die Elemente werden durch Kommas getrennt.\\n# Ein Set kann Elemente unterschiedlicher Datentypen enthalten. Dabei können nur unveränderliche Datentypen wie\\n# Integer, Float, String, Tuple, Boolean und None usw. enthalten sein.\\n\\ns = {1, 2, 3, 4, 5, \"hallo\"}\\nprint(s)', '# Ein Set ist eine ungeordnete Sammlung von Elementen ohne Duplikate.\\n# Ein Set wird durch geschweifte Klammern {} definiert und die Elemente werden durch Kommas getrennt.\\n# Ein Set kann Elemente unterschiedlicher Datentypen enthalten. Dabei können nur unveränderliche Datentypen wie\\n# Integer, Float, String, Tuple, Boolean und None usw. enthalten sein.\\n\\ns = {1, 2, 3, 4, 5, [1, 2, 3]}\\nprint(s)', '# Ein Set ist eine ungeordnete Sammlung von Elementen ohne Duplikate.\\n# Ein Set wird durch geschweifte Klammern {} definiert und die Elemente werden durch Kommas getrennt.\\n# Ein Set kann Elemente unterschiedlicher Datentypen enthalten. Dabei können nur unveränderliche Datentypen wie\\n# Integer, Float, String, Tuple, Boolean und None usw. enthalten sein.\\n\\ns = {1, 2, 3, 4, 5, (1, 2, 3)}\\nprint(s)', 's = {[1, 2, 3], \"Hallo Welt\", 6.8, (4, 5, 6), {\"a\": 9, \"b\": -12}, True, None}', 's = {\"Hallo Welt\", 6.8, (4, 5, 6), {\"a\": 9, \"b\": -12}, True, None}', 's = {\"Hallo Welt\", 6.8, (4, 5, 6), True, None}', 's = {\"Hallo Welt\", 6.8, (4, 5, 6), True, None}\\ns', 's = {\"Hallo Welt\", 6.8, (4, 5, 6), True, None, {1, 2}}\\ns', 'hash(\"string\")', 'hash(\"string\")', '6.8 in s', 'string_ = \"string\"\\nhash(string)', 'string_ = \"string\"\\nhash(string_)', 'string_ = \"strig\"\\n\\nhash(string_)', \"# Ein Set ist ein 'itterable', das bedeutet wir können es als Basis für for Schleifen verwenden.\\n# Die Reihenfolge der Elemente in einem Set ist nicht definiert.\\n# Ein Set hat keine Duplikate\\n\\ns = {1, 2, 3, 4, 5, 1, 2, 3, 4, 5}\\n\\nprint(s)\\nfor e in s:\\n    print(e)\\n    \", '# Ein Set hat keine Indizes, daher können wir nicht auf Elemente über ihren Index zugreifen.\\n\\ns[3]', '# Sets unterstützen die üblichen Mengenoperatoren aus der Mengenlehre.\\n# Mit den Methoden union(), intersection() und difference() können wir die Vereinigung, den Schnitt und die Differenz\\n# von zwei Sets berechnen.\\n\\ns1 = {1, 2, 3, 4, 5}\\ns2 = {4, 5, 6, 7, 8}\\n\\nprint(s1.union(s2))\\nprint(s1.intersection(s2))\\nprint(s1.difference(s2))', '# Die gleichen Operatoren können auch mit den Operatoren |, &, - durchgeführt werden.\\n\\nprint(s1 | s2)\\nprint(s1 & s2)\\nprint(s1 - s2)', '# Mit der add()-Methode können wir ein Element zu einem Set hinzufügen.\\n\\ns = {1, 2, 3, 4, 5}\\nprint(s)\\ns.add(6)\\nprint(s)', '# Mit der remove()-Methode können wir ein Element aus einem Set entfernen.\\n\\ns = {1, 2, 3, 4, 5}\\nprint(s)\\ns.remove(3)\\nprint(s)', '# Mit dem Schlüsselwort `in` können wir prüfen, ob ein Element in einem Set enthalten ist.\\n# `in` ist in Sets effizienter als in Listen.\\n\\ns = {1, 2, 3, 4, 5}\\nprint(3 in s) ', '# Ein Dictionary ist eine ungeordnete Sammlung von Elementen, die durch Schlüssel-Wert-Paare definiert sind.\\n# Ein Dictionary wird durch geschweifte Klammern {} definiert und die Schlüssel-Wert-Paare werden durch Kommas getrennt.\\n# Ein Dictionary kann Elemente unterschiedlicher Datentypen enthalten.\\n\\nd = {\"a\": 1, \"b\": 2, \"c\": 3, \"d\": 4, \"e\": 5}\\nprint(d)', \"# Ein Dictionary ist ein 'itterable', das bedeutet wir können es als Basis für for Schleifen verwenden.\\n# Die Reihenfolge der Elemente in einem Dictionary ist nicht definiert.\\n\\nfor key in d:\\n    print(key, d[key])\", '# Mit dem Schlüsselwort `in` können wir prüfen, ob ein Schlüssel in einem Dictionary enthalten ist.\\n\\nprint(\"a\" in d)\\nprint(\"z\" in d)', '# Mit der Methode get() können wir den Wert eines Schlüssels abrufen.\\n\\nprint(d.get(\"a\"))\\nprint(d.get(\"z\"))\\n\\n# Alternativ können wir auch direkt auf den Wert eines Schlüssels zug\\n# Im gegensasatz zu get() wirft diese Methode einen KeyError, wenn der Schlüssel nicht im Dictionary enthalten ist.\\n\\nprint(d[\"a\"])\\nprint(d[\"z\"])', '# Ein Dictionary ist eine ungeordnete Sammlung von Elementen, die durch Schlüssel-Wert-Paare definiert sind.\\n# Ein Dictionary wird durch geschweifte Klammern {} definiert und die Schlüssel-Wert-Paare werden durch Kommas getrennt.\\n# Ein Dictionary kann Elemente unterschiedlicher Datentypen enthalten.\\n\\nd = {\"a\": 1, \"b\": 2, \"c\": 3, \"d\": 4, \"e\": 5, \"f\": None}\\nprint(d)', '# Mit der Methode get() können wir den Wert eines Schlüssels abrufen.\\n\\nprint(d.get(\"a\"))\\nprint(d.get(\"f\"))\\n\\n# Alternativ können wir auch direkt auf den Wert eines Schlüssels zug\\n# Im gegensasatz zu get() wirft diese Methode einen KeyError, wenn der Schlüssel nicht im Dictionary enthalten ist.\\n\\nprint(d[\"a\"])\\nprint(d[\"z\"])', '# Mit der Methode get() können wir den Wert eines Schlüssels abrufen.\\n\\nprint(d.get(\"a\"))\\nprint(d.get(\"f\"))\\n\\n# Alternativ können wir auch direkt auf den Wert eines Schlüssels zug\\n# Im gegensasatz zu get() wirft diese Methode einen KeyError, wenn der Schlüssel nicht im Dictionary enthalten ist.\\n\\nprint(d[\"a\"])\\nprint(d[\"f\"])', '# Mit der Methode get() können wir den Wert eines Schlüssels abrufen.\\n\\nprint(d.get(\"a\"))\\nprint(d.get(\"z\", 0))\\n\\n# Alternativ können wir auch direkt auf den Wert eines Schlüssels zug\\n# Im gegensasatz zu get() wirft diese Methode einen KeyError, wenn der Schlüssel nicht im Dictionary enthalten ist.\\n\\nprint(d[\"a\"])\\nprint(d[\"f\"])', '# Mit der Methode get() können wir den Wert eines Schlüssels abrufen.\\n\\nprint(d.get(\"a\"))\\nprint(d.get(\"z\"))\\n\\n# Alternativ können wir auch direkt auf den Wert eines Schlüssels zug\\n# Im gegensasatz zu get() wirft diese Methode einen KeyError, wenn der Schlüssel nicht im Dictionary enthalten ist.\\n\\nprint(d[\"a\"])\\nprint(d[\"f\"])', '# Mit der Methode pop() können wir ein Schlüssel-Wert-Paar aus einem Dictionary entfernen.\\n# Die Methode gibt den Wert des entfernten Schlüssels zurück.\\n\\nd = {\"a\": 1, \"b\": 2, \"c\": 3, \"d\": 4, \"e\": 5}\\nprint(d)\\na = d.pop(\"a\")\\nprint(d)\\nprint(a)', '# Die Schlüssel eines Dictionarys müssen eindeutig sein.\\n\\nd = {\"a\": 1, \"b\": 2, \"a\": 3}\\nprint(d)', '# Die Schlüssel eines Dictionarys müssen eindeutig sein.\\n\\nd = {\"a\": 1, \"b\": 2, \"a\": 2}\\nprint(d)', 'd ', 'd.pop(\"a\")', '# Mit der Methode pop() können wir ein Schlüssel-Wert-Paar aus einem Dictionary entfernen.\\n# Die Methode gibt den Wert des entfernten Schlüssels zurück.\\n\\nd = {\"a\": 1, \"b\": 2, \"c\": 3, \"d\": 4, \"e\": 5}\\nprint(d)\\nvar = d.pop(\"a\")\\n\\nprint(d)\\nprint(var)', '# Zwei dictionarys können mit der update()-Methode zusammengeführt werden.\\n\\nd1 = {\"a\": 1, \"b\": 2, \"c\": 3}\\nd2 = {\"c\": 4, \"d\": 5, \"e\": 6}\\n\\nprint(d1)\\nprint(d2)\\n\\nd1.update(d2)\\nprint(d1)', '# Alternativ können zwei dictionarys auch mit dem | Operator zusammengeführt werden.\\n\\nd1 = {\"a\": 1, \"b\": 2, \"c\": 3}\\nd2 = {\"c\": 4, \"d\": 5, \"e\": 6}\\n\\nprint(d1)\\nprint(d2)\\n\\nd3 = d1 | d2\\nprint(d3)', '# Mit der keys()-Methode können wir eine Liste aller Schlüssel eines Dictionarys abrufen.\\n\\nd = {\"a\": 1, \"b\": 2, \"c\": 3}\\nprint(d.keys())\\n\\n# Mit der values()-Methode können wir eine Liste aller Werte eines Dictionarys abrufen.\\n\\nprint(d.values())', '# Mit der keys()-Methode können wir eine Liste aller Schlüssel eines Dictionarys abrufen.\\n\\nd = {\"a\": 1, \"b\": 2, \"c\": 3}\\nprint(list(d.keys()))\\n\\n# Mit der values()-Methode können wir eine Liste aller Werte eines Dictionarys abrufen.\\n\\nprint(d.values())', '# Mit der items()-Methode können wir eine Liste aller Schlüssel-Wert-Paare eines Dictionarys abrufen.\\n\\nprint(d.items())\\n\\n# Wir können item() benutzen um über alle Schlüssel-Wert-Paare eines Dictionarys zu iterieren.\\n\\nfor key, value in d.items():\\n    print(key, value)', '# Mit der Methode get() können wir den Wert eines Schlüssels abrufen.\\n\\nprint(d.get(\"a\"))\\nprint(d.get(\"z\", 0))\\n\\n# Alternativ können wir auch direkt auf den Wert eines Schlüssels zug\\n# Im gegensasatz zu get() wirft diese Methode einen KeyError, wenn der Schlüssel nicht im Dictionary enthalten ist.\\n\\nprint(d[\"a\"])\\nprint(d[\"f\"])', 'from collections import defaultdict\\n\\n\\nd = defaultdict(int)\\n\\nd[5]', 'from collections import defaultdict\\n\\n\\nd = defaultdict({\"a\": 2, })\\n\\nd[5]', 'from collections import defaultdict\\n\\n\\nd = defaultdict(int, {\"a\": 2, })\\n\\nd[5]', 'from collections import defaultdict\\n\\n\\nd = defaultdict(int, {\"a\": 2, })\\n\\nd[\"a\"]', 'from collections import defaultdict\\n\\n\\nd = defaultdict(int, {\"a\": 2, \"b\": 6})\\nprint(d)', 'from collections import defaultdict\\n\\n\\nd = defaultdict(int, {\"a\": 2, \"b\": 6})\\nprint(d)\\nd[\"c\"]\\nprint(d)', 'from collections import defaultdict\\n\\n\\nd = defaultdict(int, {\"a\": 2, \"b\": 6})\\nprint(d)\\nprint(d[\"c\"])\\nprint(d)', '# Wir können die keys nutzen um auf values zuzugreifen oder diese zu verändern\\n\\nd = {\"a\": 1, \"b\": 2, \"c\": 3}\\nprint(d)\\n\\nd[\"b\"] = d[\"b\"]**2\\n\\nprint(d)', '# Die keys eines Dictionarys müssen unveränderlich sein.\\n\\nd = {\"a\": 1, \"b\": 2, \"c\": 3}\\nprint(d)\\n\\n# d[[1, 2, 3]] = 4\\n\\nd[(1, 2, 3)] = 4\\n\\nprint(d)', '# Die keys eines Dictionarys müssen unveränderlich sein.\\n\\nd = {\"a\": 1, \"b\": 2, \"c\": 3}\\nprint(d)\\n\\nd[[1, 2, 3]] = 4\\n\\nd[(1, 2, 3)] = 4\\n\\nprint(d)', '# Die keys eines Dictionarys müssen unveränderlich sein.\\n\\nd = {\"a\": 1, \"b\": 2, \"c\": 3}\\nprint(d)\\n\\n#d[[1, 2, 3]] = 4\\n\\nd[(1, 2, 3)] = 4\\n\\nprint(d)', '# Praktische Anwendungen\\n\\n# Drictionarys werden verwendet um die globalen Variablen in Python zu speichern.\\n# Die Funktion globals() gibt ein Dictionary zurück, das alle globalen Variablen und deren\\n# Werte enthält.\\n\\nprint(globals())'], 'Out': {7: (1, 2, 3), 27: 0, 28: 3, 30: range(0, 3), 31: [0, 1, 2], 49: [], 55: [1, 2, 2, 3], 56: [1, 3], 59: <list_reverseiterator object at 0x000002601F8F3310>, 60: [1, 2, 3, 4, 5], 61: [5, 4, 3, 2, 1], 64: [5, 3, 4, 1, 2], 65: [1, 2, 3, 4, 5], 75: {None, True, 6.8, (4, 5, 6), 'Hallo Welt'}, 77: -2511729232103956573, 78: -2511729232103956573, 79: True, 80: 75108934462107762, 81: -2511729232103956573, 82: -527267560428419355, 102: {'b': 2}, 103: 2, 111: 0, 113: 0, 114: 2}, 'get_ipython': <bound method InteractiveShell.get_ipython of <ipykernel.zmqshell.ZMQInteractiveShell object at 0x000002601F1726F0>>, 'exit': <IPython.core.autocall.ZMQExitAutocall object at 0x000002601F1ADD00>, 'quit': <IPython.core.autocall.ZMQExitAutocall object at 0x000002601F1ADD00>, 'open': <function open at 0x000002601D1A1D00>, '_': 2, '__': 0, '___': (1, 2, 3), '__vsc_ipynb_file__': 'c:\\\\Users\\\\Nils Schillmann\\\\StackFuel\\\\Team - Mentoring - Dokumente\\\\1_Operationelles\\\\13_Own_Space\\\\Nils\\\\Live_Sessions\\\\Python\\\\datastrctures.ipynb', '_i': '# Die keys eines Dictionarys müssen unveränderlich sein.\\n\\nd = {\"a\": 1, \"b\": 2, \"c\": 3}\\nprint(d)\\n\\n#d[[1, 2, 3]] = 4\\n\\nd[(1, 2, 3)] = 4\\n\\nprint(d)', '_ii': '# Die keys eines Dictionarys müssen unveränderlich sein.\\n\\nd = {\"a\": 1, \"b\": 2, \"c\": 3}\\nprint(d)\\n\\nd[[1, 2, 3]] = 4\\n\\nd[(1, 2, 3)] = 4\\n\\nprint(d)', '_iii': '# Die keys eines Dictionarys müssen unveränderlich sein.\\n\\nd = {\"a\": 1, \"b\": 2, \"c\": 3}\\nprint(d)\\n\\n# d[[1, 2, 3]] = 4\\n\\nd[(1, 2, 3)] = 4\\n\\nprint(d)', '_i1': 'import this', 'this': <module 'this' from 'c:\\\\Users\\\\Nils Schillmann\\\\.conda\\\\envs\\\\stackfuel\\\\Lib\\\\this.py'>, '_i2': '# Was ist ein Tuple\\n\\n# Ein Tuple ist eine unveränderliche, geordnete Sammlung von Elementen.\\n# Ein Tuple wird durch runde Klammern () definiert und die Elemente werden durch Kommas getrennt.\\n# Ein Tuple kann Elemente unterschiedlicher Datentypen enthalten.\\n\\ntuple_ = (boolean, integer, float, string, none)\\nprint(tuple_)', '_i3': '# grundlegende Datentypen\\nboolean = True              # oder False\\ninteger = 42                # oder -1, -45, 156, 928374528138495\\nfloat   = 3.14              # oder -3.14, 0.0, 928374528138495.0\\nstring  = \"Hallo Welt!\"     # oder \\'Hallo Welt!\\', \"🚀\", \\'erste Zeile\\\\nzweite Zeile\\', \"\"\"mehrzeiliger String\"\"\"\\nnone    = None\\n\\nprint(boolean, integer, float, string, none, sep=\"\\\\n\")', 'boolean': True, 'integer': 42, 'float': 3.14, 'string': 'Hallo Welt!', 'none': None, '_i4': '# Was ist ein Tuple\\n\\n# Ein Tuple ist eine unveränderliche, geordnete Sammlung von Elementen.\\n# Ein Tuple wird durch runde Klammern () definiert und die Elemente werden durch Kommas getrennt.\\n# Ein Tuple kann Elemente unterschiedlicher Datentypen enthalten.\\n\\ntuple_ = (boolean, integer, float, string, none)\\nprint(tuple_)', 'tuple_': (True, 42, 3.14, 'Hallo Welt!', None), '_i5': \"# Tuple sind 'itterables', das bedeutet wir können sie als Basis für for Schleifen verwenden.\\n\\nfor element in tuple_:\\n    print(element)\", 'element': None, '_i6': 'tuple(1, 2)', '_i7': 'tuple([1, 2,3])', '_7': (1, 2, 3), '_i8': '# Mit der len Funktion können wir die Anzahl der Elemente in einem Tuple ermitteln.\\n\\nprint(len(fruits))', '_i9': \"fruits = ('apple', 'banana', 'cherry', 'apple', 'orange', 'banana', 'apple')\", 'fruits': ('apple', 'banana', 'cherry', 'apple', 'orange', 'banana', 'apple'), '_i10': '# Mit der len Funktion können wir die Anzahl der Elemente in einem Tuple ermitteln.\\n\\nprint(len(fruits))', '_i11': \"# Mit dem Keyword `in` lässt sich prüfen ob ein Element in einem Tuple enthalten ist.\\n\\nprint('apple' in fruits)\\nprint('pear' in fruits)\", '_i12': '# Jedem Element eines Tuples wird ein Index entsprechend seiner Position zugeordnet.\\n# Die Zählung beginnt bei 0. Das erste Element eines Tuples hat also stehts den Index 0.\\n# Um auf die Element über ihren Index zuzugreifen, schreiben wir \\n# fruits[index]\\n# fruits[start:stop]\\n# fruits[start:stop:schrittweite].\\n\\nprint(fruits)\\n\\n# print(fruits[0])\\n# print(fruits[4])\\n# print(fruits[1:3])\\n# print(fruits[1:6:2])', '_i13': '# Jedem Element eines Tuples wird ein Index entsprechend seiner Position zugeordnet.\\n# Die Zählung beginnt bei 0. Das erste Element eines Tuples hat also stehts den Index 0.\\n# Um auf die Element über ihren Index zuzugreifen, schreiben wir \\n# fruits[index]\\n# fruits[start:stop]\\n# fruits[start:stop:schrittweite].\\n\\nprint(fruits)\\n\\nprint(fruits[0])\\n# print(fruits[4])\\n# print(fruits[1:3])\\n# print(fruits[1:6:2])', '_i14': '# Jedem Element eines Tuples wird ein Index entsprechend seiner Position zugeordnet.\\n# Die Zählung beginnt bei 0. Das erste Element eines Tuples hat also stehts den Index 0.\\n# Um auf die Element über ihren Index zuzugreifen, schreiben wir \\n# fruits[index]\\n# fruits[start:stop]\\n# fruits[start:stop:schrittweite].\\n\\nprint(fruits)\\n\\nprint(fruits[0])\\nprint(fruits[4])\\n# print(fruits[1:3])\\n# print(fruits[1:6:2])', '_i15': '# Jedem Element eines Tuples wird ein Index entsprechend seiner Position zugeordnet.\\n# Die Zählung beginnt bei 0. Das erste Element eines Tuples hat also stehts den Index 0.\\n# Um auf die Element über ihren Index zuzugreifen, schreiben wir \\n# fruits[index]\\n# fruits[start:stop]\\n# fruits[start:stop:schrittweite].\\n\\nprint(fruits)\\n\\nprint(fruits[0])\\nprint(fruits[4])\\nprint(fruits[1:3])\\n# print(fruits[1:6:2])', '_i16': '# Jedem Element eines Tuples wird ein Index entsprechend seiner Position zugeordnet.\\n# Die Zählung beginnt bei 0. Das erste Element eines Tuples hat also stehts den Index 0.\\n# Um auf die Element über ihren Index zuzugreifen, schreiben wir \\n# fruits[index]\\n# fruits[start:stop]\\n# fruits[start:stop:schrittweite].\\n\\nprint(fruits)\\n\\nprint(fruits[0])\\nprint(fruits[4])\\nprint(fruits[1:3])\\nprint(fruits[1:6:2])', '_i17': '# Man kann für den Index auch negative Werte verwenden\\n# -1 entspricht dem letzten Element, -2 dem vorletzten, usw.\\n\\nprint(fruits)\\n\\nprint(fruits[-1])\\n# print(fruits[-2])\\n# print(fruits[-3:-1])\\n# print(fruits[-3:])', '_i18': '# Man kann für den Index auch negative Werte verwenden\\n# -1 entspricht dem letzten Element, -2 dem vorletzten, usw.\\n\\nprint(fruits)\\n\\nprint(fruits[-1])\\nprint(fruits[-2])\\n# print(fruits[-3:-1])\\n# print(fruits[-3:])', '_i19': '# Man kann für den Index auch negative Werte verwenden\\n# -1 entspricht dem letzten Element, -2 dem vorletzten, usw.\\n\\nprint(fruits)\\n\\nprint(fruits[-1])\\nprint(fruits[-2])\\nprint(fruits[-3:-1])\\n# print(fruits[-3:])', '_i20': '# Man kann für den Index auch negative Werte verwenden\\n# -1 entspricht dem letzten Element, -2 dem vorletzten, usw.\\n\\nprint(fruits)\\n\\nprint(fruits[-1])\\nprint(fruits[-2])\\nprint(fruits[-3:-1])\\nprint(fruits[-3:])', '_i21': '# Auch für die Schrittweite können negative Werte verwendet werden.\\n# In diesem Fall wird das Tupel rückwärts durchlaufen.\\n# Der Startwert muss dabei größer als der Stopwert sein.\\n\\nprint(fruits)\\n\\nprint(fruits[::-1])\\n# print(fruits[::-2])\\n# print(fruits[5:1:-1])\\n# print(fruits[5:1:-2])', '_i22': '# Auch für die Schrittweite können negative Werte verwendet werden.\\n# In diesem Fall wird das Tupel rückwärts durchlaufen.\\n# Der Startwert muss dabei größer als der Stopwert sein.\\n\\nprint(fruits)\\n\\nprint(fruits[::-1])\\nprint(fruits[::-2])\\n# print(fruits[5:1:-1])\\n# print(fruits[5:1:-2])', '_i23': '# Auch für die Schrittweite können negative Werte verwendet werden.\\n# In diesem Fall wird das Tupel rückwärts durchlaufen.\\n# Der Startwert muss dabei größer als der Stopwert sein.\\n\\nprint(fruits)\\n\\nprint(fruits[::-1])\\nprint(fruits[::-2])\\nprint(fruits[5:1:])\\n# print(fruits[5:1:-2])', '_i24': '# Auch für die Schrittweite können negative Werte verwendet werden.\\n# In diesem Fall wird das Tupel rückwärts durchlaufen.\\n# Der Startwert muss dabei größer als der Stopwert sein.\\n\\nprint(fruits)\\n\\nprint(fruits[::-1])\\nprint(fruits[::-2])\\nprint(fruits[5:1:-1])\\n# print(fruits[5:1:-2])', '_i25': '# Auch für die Schrittweite können negative Werte verwendet werden.\\n# In diesem Fall wird das Tupel rückwärts durchlaufen.\\n# Der Startwert muss dabei größer als der Stopwert sein.\\n\\nprint(fruits)\\n\\nprint(fruits[::-1])\\nprint(fruits[::-2])\\nprint(fruits[5:1:-1])\\nprint(fruits[5:1:-2])', '_i26': \"# Tuple haben zwei Methoden\\n\\n# Verwenden der count()-Methode, um die Anzahl der Vorkommen von 'apple' zu zählen\\n\\napple_count = fruits.count('apple')\\nprint(apple_count)\", 'apple_count': 3, '_i27': \"# Verwenden der index()-Methode, um den Index des ersten Vorkommens von 'banana' zu finden\\nfruits.index('apple')\", '_27': 0, '_i28': \"# Verwenden der index()-Methode, um den Index des ersten Vorkommens von 'banana' zu finden\\nfruits.index('apple', 2)\", '_28': 3, '_i29': 'value = \"apple\"\\n\\nstart = 0\\nfor _ in range(fruits.count(value)):\\n    idx = fruits.index(value, start)\\n    print(idx)\\n    start = idx+1\\n    ', 'value': 3, 'start': 7, 'idx': 6, '_i30': 'range(fruits.count(value))', '_30': range(0, 3), '_i31': 'list(range(fruits.count(value)))', '_31': [0, 1, 2], '_i32': '# tuple sind unveränderlich (immutable), d.h. sie können nach der Erstellung nicht mehr verändert werden.\\n\\nfruits[3] = \"peach\"', '_i33': '# Was ist eine List?\\n\\n# Eine List ist eine veränderliche, geordnete Sammlung von Elementen.\\n# Eine List wird durch eckige Klammern [] definiert und die Elemente werden durch Kommas getrennt.\\n# Eine List kann Elemente unterschiedlicher Datentypen enthalten.\\n\\nnames = [\"Alice\", \"Bob\", \"Charlie\", \"Bob\", \"David\", \"Eve\"]\\n\\n# Listen unterstützen weitestgehend die selben Funktionalitäten wie Tuple\\n\\nprint(names)\\n\\nprint(names[1:3])\\nprint(len(names))\\nprint(\"Alice\" in names)\\nprint(\"Mallory\" in names)\\n\\nfor name in names:\\n    print(name)', 'names': ['Alice', 'Bob', 'Charlie', 'Daniel', 'David', 'Eve', 'Eva', 'Frank', 'Grace'], 'name': 'Eve', '_i34': 'print(names.count(\"Bob\"))\\nprint(names.index(\"Bob\"))', '_i35': '# Listen sind veränderlich (mutable), d.h. sie können nach der Erstellung verändert werden.\\nprint(names)\\nnames[3] = \"Daniel\"\\nprint(names)', '_i36': '# Mit der append()-Methode können wir ein Element am Ende einer Liste hinzufügen.\\nnames.append(\"Eva\")\\nprint(names)', '_i37': '# Mit der extend()-Methode können wir eine Liste an eine andere Liste anhängen.\\nnames.extend([\"Frank\", \"Grace\"])\\nprint(names)', '_i38': '# Mit der append()-Methode können wir ein Element am Ende einer Liste hinzufügen.\\nnames.append([\"Frank\", \"Grace\"])\\nprint(names)', '_i39': '# Was ist eine List?\\n\\n# Eine List ist eine veränderliche, geordnete Sammlung von Elementen.\\n# Eine List wird durch eckige Klammern [] definiert und die Elemente werden durch Kommas getrennt.\\n# Eine List kann Elemente unterschiedlicher Datentypen enthalten.\\n\\nnames = [\"Alice\", \"Bob\", \"Charlie\", \"Bob\", \"David\", \"Eve\"]\\n\\n# Listen unterstützen weitestgehend die selben Funktionalitäten wie Tuple\\n\\nprint(names)\\n\\nprint(names[1:3])\\nprint(len(names))\\nprint(\"Alice\" in names)\\nprint(\"Mallory\" in names)\\n\\nfor name in names:\\n    print(name)', '_i40': 'print(names.count(\"Bob\"))\\nprint(names.index(\"Bob\"))', '_i41': '# Listen sind veränderlich (mutable), d.h. sie können nach der Erstellung verändert werden.\\nprint(names)\\nnames[3] = \"Daniel\"\\nprint(names)', '_i42': '# Mit der append()-Methode können wir ein Element am Ende einer Liste hinzufügen.\\nnames.append(\"Frank\", \"Grace\")\\nprint(names)', '_i43': '# Mit der append()-Methode können wir ein Element am Ende einer Liste hinzufügen.\\nnames.append(\"Eva\")\\nprint(names)', '_i44': '# Mit der extend()-Methode können wir eine Liste an eine andere Liste anhängen.\\nnames.extend([\"Frank\", \"Grace\"])\\nprint(names)', '_i45': '# Zwei Listen können auch mit dem + Operator zusammengefügt werden.\\n# Dabei wird eine neue Liste erstellt und die beiden Listen werden nicht verändert.\\n\\nl1 = [1, 2, 3]\\nl2 = [4, 5, 6]\\nl3 = l1 + l2\\n\\nprint(l1)\\nprint(l2)\\nprint(l3)', 'l1': [1, 2, 3], 'l2': [4, 5, 6], 'l3': [1, 2, 3, 4, 5, 6], '_i46': '# Mit der insert()-Methode können wir ein Element an einer bestimmten Position in einer Liste einfügen.\\n\\nprint(names)\\nnames.insert(3, \"Dennis\")\\nprint(names)', '_i47': '# Mit der pop()-Methode können wir ein Element an einer bestimmten Position aus einer Liste entfernen.\\n\\nprint(names)\\npoped_element = names.pop(3)\\nprint(names)\\nprint(poped_element)', 'poped_element': 'Dennis', '_i48': '# Gibt man pop keinen Index an, wird das letzte Element entfernt.\\n# Das entfernte Element wird dabei zurückgegeben.\\n# Zusammen mit append lässt sich die Liste wie ein Stack verwenden.\\n\\nstack = []\\nstack.append(1)\\nstack.append(2)\\nstack.append(3)\\n\\nprint(stack)\\n\\nprint(stack.pop())\\nprint(stack.pop())\\nprint(stack.pop())', 'stack': [], '_i49': 'stack', '_49': [], '_i50': '# Wie bei Tuplen kommen wir mit der Methode index an den Index des ersten Vorkommens eines Elements.\\n# Mit der remove()-Methode können wir das erste Vorkommen eines Elements aus einer Liste entfernen.\\n\\nprint(names)\\nif \"Dennis\" in names:\\n    names.remove(\"Dennis\")\\nelse:\\n    print(\"Dennis not found\")\\nprint(names)', '_i51': '# Mit der insert()-Methode können wir ein Element an einer bestimmten Position in einer Liste einfügen.\\n\\nprint(names)\\nnames.insert(3, \"Dennis\")\\nprint(names)', '_i52': '# Wie bei Tuplen kommen wir mit der Methode index an den Index des ersten Vorkommens eines Elements.\\n# Mit der remove()-Methode können wir das erste Vorkommen eines Elements aus einer Liste entfernen.\\n\\nprint(names)\\nif \"Dennis\" in names:\\n    names.remove(\"Dennis\")\\nelse:\\n    print(\"Dennis not found\")\\nprint(names)', '_i53': 'names.remove(\"Dennis\")', '_i54': 'names.index(\"Dennis\")', '_i55': 'l = [1, 2, 2, 2, 3]\\n\\nl.remove(2)\\n\\nl', 'l': [5, 3, 4, 1, 2], '_55': [1, 2, 2, 3], '_i56': 'l = [1, 2, 2, 2, 3]\\n\\nfor _ in range(l.count(2)):\\n    l.remove(2)\\n\\nl', '_56': [1, 3], '_i57': '# Mit der clear()-Methode können wir alle Elemente aus einer Liste entfernen.\\n\\nl = [1, 2, 3, 4, 5]\\nprint(l)\\nl.clear()\\nprint(l)', '_i58': '# Mit der reverse()-Methode können wir die Reihenfolge der Elemente in einer Liste umkehren.\\n\\nl = [1, 2, 3, 4, 5]\\nprint(l)\\nl.reverse()\\nprint(l)', '_i59': 'reversed(l)', '_59': <list_reverseiterator object at 0x000002601F8F3310>, '_i60': 'list(reversed(l))', '_60': [1, 2, 3, 4, 5], '_i61': 'l', '_61': [5, 4, 3, 2, 1], '_i62': '# Mit der sort()-Methode können wir die Elemente einer Liste sortieren.\\n\\nl = [5, 3, 4, 1, 2]\\nprint(l)\\nl.sort()\\nprint(l)', '_i63': '# Mit der sort()-Methode können wir die Elemente einer Liste sortieren.\\n\\nl = [5, 3, 4, 1, 2]\\n# print(l)\\n# l.sort()\\n# print(l)', '_i64': 'l', '_64': [5, 3, 4, 1, 2], '_i65': 'sorted(l)', '_65': [1, 2, 3, 4, 5], '_i66': 'print(sorted(l))\\nprint(l)', '_i67': '# Ein Set ist eine ungeordnete Sammlung von Elementen ohne Duplikate.\\n# Ein Set wird durch geschweifte Klammern {} definiert und die Elemente werden durch Kommas getrennt.\\n# Ein Set kann Elemente unterschiedlicher Datentypen enthalten. Dabei können nur unveränderliche Datentypen wie\\n# Integer, Float, String, Tuple, Boolean und None usw. enthalten sein.\\n\\ns = {1, 2, 3, 4, 5}\\nprint(s)', 's': {1, 2, 3, 4, 5}, '_i68': '# Ein Set ist eine ungeordnete Sammlung von Elementen ohne Duplikate.\\n# Ein Set wird durch geschweifte Klammern {} definiert und die Elemente werden durch Kommas getrennt.\\n# Ein Set kann Elemente unterschiedlicher Datentypen enthalten. Dabei können nur unveränderliche Datentypen wie\\n# Integer, Float, String, Tuple, Boolean und None usw. enthalten sein.\\n\\ns = {1, 2, 3, 4, 5, 5, 5, 5}\\nprint(s)', '_i69': '# Ein Set ist eine ungeordnete Sammlung von Elementen ohne Duplikate.\\n# Ein Set wird durch geschweifte Klammern {} definiert und die Elemente werden durch Kommas getrennt.\\n# Ein Set kann Elemente unterschiedlicher Datentypen enthalten. Dabei können nur unveränderliche Datentypen wie\\n# Integer, Float, String, Tuple, Boolean und None usw. enthalten sein.\\n\\ns = {1, 2, 3, 4, 5, \"hallo\"}\\nprint(s)', '_i70': '# Ein Set ist eine ungeordnete Sammlung von Elementen ohne Duplikate.\\n# Ein Set wird durch geschweifte Klammern {} definiert und die Elemente werden durch Kommas getrennt.\\n# Ein Set kann Elemente unterschiedlicher Datentypen enthalten. Dabei können nur unveränderliche Datentypen wie\\n# Integer, Float, String, Tuple, Boolean und None usw. enthalten sein.\\n\\ns = {1, 2, 3, 4, 5, [1, 2, 3]}\\nprint(s)', '_i71': '# Ein Set ist eine ungeordnete Sammlung von Elementen ohne Duplikate.\\n# Ein Set wird durch geschweifte Klammern {} definiert und die Elemente werden durch Kommas getrennt.\\n# Ein Set kann Elemente unterschiedlicher Datentypen enthalten. Dabei können nur unveränderliche Datentypen wie\\n# Integer, Float, String, Tuple, Boolean und None usw. enthalten sein.\\n\\ns = {1, 2, 3, 4, 5, (1, 2, 3)}\\nprint(s)', '_i72': 's = {[1, 2, 3], \"Hallo Welt\", 6.8, (4, 5, 6), {\"a\": 9, \"b\": -12}, True, None}', '_i73': 's = {\"Hallo Welt\", 6.8, (4, 5, 6), {\"a\": 9, \"b\": -12}, True, None}', '_i74': 's = {\"Hallo Welt\", 6.8, (4, 5, 6), True, None}', '_i75': 's = {\"Hallo Welt\", 6.8, (4, 5, 6), True, None}\\ns', '_75': {None, True, 6.8, (4, 5, 6), 'Hallo Welt'}, '_i76': 's = {\"Hallo Welt\", 6.8, (4, 5, 6), True, None, {1, 2}}\\ns', '_i77': 'hash(\"string\")', '_77': -2511729232103956573, '_i78': 'hash(\"string\")', '_78': -2511729232103956573, '_i79': '6.8 in s', '_79': True, '_i80': 'string_ = \"string\"\\nhash(string)', 'string_': 'strig', '_80': 75108934462107762, '_i81': 'string_ = \"string\"\\nhash(string_)', '_81': -2511729232103956573, '_i82': 'string_ = \"strig\"\\n\\nhash(string_)', '_82': -527267560428419355, '_i83': \"# Ein Set ist ein 'itterable', das bedeutet wir können es als Basis für for Schleifen verwenden.\\n# Die Reihenfolge der Elemente in einem Set ist nicht definiert.\\n# Ein Set hat keine Duplikate\\n\\ns = {1, 2, 3, 4, 5, 1, 2, 3, 4, 5}\\n\\nprint(s)\\nfor e in s:\\n    print(e)\\n    \", 'e': 5, '_i84': '# Ein Set hat keine Indizes, daher können wir nicht auf Elemente über ihren Index zugreifen.\\n\\ns[3]', '_i85': '# Sets unterstützen die üblichen Mengenoperatoren aus der Mengenlehre.\\n# Mit den Methoden union(), intersection() und difference() können wir die Vereinigung, den Schnitt und die Differenz\\n# von zwei Sets berechnen.\\n\\ns1 = {1, 2, 3, 4, 5}\\ns2 = {4, 5, 6, 7, 8}\\n\\nprint(s1.union(s2))\\nprint(s1.intersection(s2))\\nprint(s1.difference(s2))', 's1': {1, 2, 3, 4, 5}, 's2': {4, 5, 6, 7, 8}, '_i86': '# Die gleichen Operatoren können auch mit den Operatoren |, &, - durchgeführt werden.\\n\\nprint(s1 | s2)\\nprint(s1 & s2)\\nprint(s1 - s2)', '_i87': '# Mit der add()-Methode können wir ein Element zu einem Set hinzufügen.\\n\\ns = {1, 2, 3, 4, 5}\\nprint(s)\\ns.add(6)\\nprint(s)', '_i88': '# Mit der remove()-Methode können wir ein Element aus einem Set entfernen.\\n\\ns = {1, 2, 3, 4, 5}\\nprint(s)\\ns.remove(3)\\nprint(s)', '_i89': '# Mit dem Schlüsselwort `in` können wir prüfen, ob ein Element in einem Set enthalten ist.\\n# `in` ist in Sets effizienter als in Listen.\\n\\ns = {1, 2, 3, 4, 5}\\nprint(3 in s) ', '_i90': '# Ein Dictionary ist eine ungeordnete Sammlung von Elementen, die durch Schlüssel-Wert-Paare definiert sind.\\n# Ein Dictionary wird durch geschweifte Klammern {} definiert und die Schlüssel-Wert-Paare werden durch Kommas getrennt.\\n# Ein Dictionary kann Elemente unterschiedlicher Datentypen enthalten.\\n\\nd = {\"a\": 1, \"b\": 2, \"c\": 3, \"d\": 4, \"e\": 5}\\nprint(d)', 'd': {'a': 1, 'b': 2, 'c': 3, (1, 2, 3): 4}, '_i91': \"# Ein Dictionary ist ein 'itterable', das bedeutet wir können es als Basis für for Schleifen verwenden.\\n# Die Reihenfolge der Elemente in einem Dictionary ist nicht definiert.\\n\\nfor key in d:\\n    print(key, d[key])\", 'key': 'c', '_i92': '# Mit dem Schlüsselwort `in` können wir prüfen, ob ein Schlüssel in einem Dictionary enthalten ist.\\n\\nprint(\"a\" in d)\\nprint(\"z\" in d)', '_i93': '# Mit der Methode get() können wir den Wert eines Schlüssels abrufen.\\n\\nprint(d.get(\"a\"))\\nprint(d.get(\"z\"))\\n\\n# Alternativ können wir auch direkt auf den Wert eines Schlüssels zug\\n# Im gegensasatz zu get() wirft diese Methode einen KeyError, wenn der Schlüssel nicht im Dictionary enthalten ist.\\n\\nprint(d[\"a\"])\\nprint(d[\"z\"])', '_i94': '# Ein Dictionary ist eine ungeordnete Sammlung von Elementen, die durch Schlüssel-Wert-Paare definiert sind.\\n# Ein Dictionary wird durch geschweifte Klammern {} definiert und die Schlüssel-Wert-Paare werden durch Kommas getrennt.\\n# Ein Dictionary kann Elemente unterschiedlicher Datentypen enthalten.\\n\\nd = {\"a\": 1, \"b\": 2, \"c\": 3, \"d\": 4, \"e\": 5, \"f\": None}\\nprint(d)', '_i95': '# Mit der Methode get() können wir den Wert eines Schlüssels abrufen.\\n\\nprint(d.get(\"a\"))\\nprint(d.get(\"f\"))\\n\\n# Alternativ können wir auch direkt auf den Wert eines Schlüssels zug\\n# Im gegensasatz zu get() wirft diese Methode einen KeyError, wenn der Schlüssel nicht im Dictionary enthalten ist.\\n\\nprint(d[\"a\"])\\nprint(d[\"z\"])', '_i96': '# Mit der Methode get() können wir den Wert eines Schlüssels abrufen.\\n\\nprint(d.get(\"a\"))\\nprint(d.get(\"f\"))\\n\\n# Alternativ können wir auch direkt auf den Wert eines Schlüssels zug\\n# Im gegensasatz zu get() wirft diese Methode einen KeyError, wenn der Schlüssel nicht im Dictionary enthalten ist.\\n\\nprint(d[\"a\"])\\nprint(d[\"f\"])', '_i97': '# Mit der Methode get() können wir den Wert eines Schlüssels abrufen.\\n\\nprint(d.get(\"a\"))\\nprint(d.get(\"z\", 0))\\n\\n# Alternativ können wir auch direkt auf den Wert eines Schlüssels zug\\n# Im gegensasatz zu get() wirft diese Methode einen KeyError, wenn der Schlüssel nicht im Dictionary enthalten ist.\\n\\nprint(d[\"a\"])\\nprint(d[\"f\"])', '_i98': '# Mit der Methode get() können wir den Wert eines Schlüssels abrufen.\\n\\nprint(d.get(\"a\"))\\nprint(d.get(\"z\"))\\n\\n# Alternativ können wir auch direkt auf den Wert eines Schlüssels zug\\n# Im gegensasatz zu get() wirft diese Methode einen KeyError, wenn der Schlüssel nicht im Dictionary enthalten ist.\\n\\nprint(d[\"a\"])\\nprint(d[\"f\"])', '_i99': '# Mit der Methode pop() können wir ein Schlüssel-Wert-Paar aus einem Dictionary entfernen.\\n# Die Methode gibt den Wert des entfernten Schlüssels zurück.\\n\\nd = {\"a\": 1, \"b\": 2, \"c\": 3, \"d\": 4, \"e\": 5}\\nprint(d)\\na = d.pop(\"a\")\\nprint(d)\\nprint(a)', 'a': 1, '_i100': '# Die Schlüssel eines Dictionarys müssen eindeutig sein.\\n\\nd = {\"a\": 1, \"b\": 2, \"a\": 3}\\nprint(d)', '_i101': '# Die Schlüssel eines Dictionarys müssen eindeutig sein.\\n\\nd = {\"a\": 1, \"b\": 2, \"a\": 2}\\nprint(d)', '_i102': 'd ', '_102': {'b': 2}, '_i103': 'd.pop(\"a\")', '_103': 2, '_i104': '# Mit der Methode pop() können wir ein Schlüssel-Wert-Paar aus einem Dictionary entfernen.\\n# Die Methode gibt den Wert des entfernten Schlüssels zurück.\\n\\nd = {\"a\": 1, \"b\": 2, \"c\": 3, \"d\": 4, \"e\": 5}\\nprint(d)\\nvar = d.pop(\"a\")\\n\\nprint(d)\\nprint(var)', 'var': 1, '_i105': '# Zwei dictionarys können mit der update()-Methode zusammengeführt werden.\\n\\nd1 = {\"a\": 1, \"b\": 2, \"c\": 3}\\nd2 = {\"c\": 4, \"d\": 5, \"e\": 6}\\n\\nprint(d1)\\nprint(d2)\\n\\nd1.update(d2)\\nprint(d1)', 'd1': {'a': 1, 'b': 2, 'c': 3}, 'd2': {'c': 4, 'd': 5, 'e': 6}, '_i106': '# Alternativ können zwei dictionarys auch mit dem | Operator zusammengeführt werden.\\n\\nd1 = {\"a\": 1, \"b\": 2, \"c\": 3}\\nd2 = {\"c\": 4, \"d\": 5, \"e\": 6}\\n\\nprint(d1)\\nprint(d2)\\n\\nd3 = d1 | d2\\nprint(d3)', 'd3': {'a': 1, 'b': 2, 'c': 4, 'd': 5, 'e': 6}, '_i107': '# Mit der keys()-Methode können wir eine Liste aller Schlüssel eines Dictionarys abrufen.\\n\\nd = {\"a\": 1, \"b\": 2, \"c\": 3}\\nprint(d.keys())\\n\\n# Mit der values()-Methode können wir eine Liste aller Werte eines Dictionarys abrufen.\\n\\nprint(d.values())', '_i108': '# Mit der keys()-Methode können wir eine Liste aller Schlüssel eines Dictionarys abrufen.\\n\\nd = {\"a\": 1, \"b\": 2, \"c\": 3}\\nprint(list(d.keys()))\\n\\n# Mit der values()-Methode können wir eine Liste aller Werte eines Dictionarys abrufen.\\n\\nprint(d.values())', '_i109': '# Mit der items()-Methode können wir eine Liste aller Schlüssel-Wert-Paare eines Dictionarys abrufen.\\n\\nprint(d.items())\\n\\n# Wir können item() benutzen um über alle Schlüssel-Wert-Paare eines Dictionarys zu iterieren.\\n\\nfor key, value in d.items():\\n    print(key, value)', '_i110': '# Mit der Methode get() können wir den Wert eines Schlüssels abrufen.\\n\\nprint(d.get(\"a\"))\\nprint(d.get(\"z\", 0))\\n\\n# Alternativ können wir auch direkt auf den Wert eines Schlüssels zug\\n# Im gegensasatz zu get() wirft diese Methode einen KeyError, wenn der Schlüssel nicht im Dictionary enthalten ist.\\n\\nprint(d[\"a\"])\\nprint(d[\"f\"])', '_i111': 'from collections import defaultdict\\n\\n\\nd = defaultdict(int)\\n\\nd[5]', 'defaultdict': <class 'collections.defaultdict'>, '_111': 0, '_i112': 'from collections import defaultdict\\n\\n\\nd = defaultdict({\"a\": 2, })\\n\\nd[5]', '_i113': 'from collections import defaultdict\\n\\n\\nd = defaultdict(int, {\"a\": 2, })\\n\\nd[5]', '_113': 0, '_i114': 'from collections import defaultdict\\n\\n\\nd = defaultdict(int, {\"a\": 2, })\\n\\nd[\"a\"]', '_114': 2, '_i115': 'from collections import defaultdict\\n\\n\\nd = defaultdict(int, {\"a\": 2, \"b\": 6})\\nprint(d)', '_i116': 'from collections import defaultdict\\n\\n\\nd = defaultdict(int, {\"a\": 2, \"b\": 6})\\nprint(d)\\nd[\"c\"]\\nprint(d)', '_i117': 'from collections import defaultdict\\n\\n\\nd = defaultdict(int, {\"a\": 2, \"b\": 6})\\nprint(d)\\nprint(d[\"c\"])\\nprint(d)', '_i118': '# Wir können die keys nutzen um auf values zuzugreifen oder diese zu verändern\\n\\nd = {\"a\": 1, \"b\": 2, \"c\": 3}\\nprint(d)\\n\\nd[\"b\"] = d[\"b\"]**2\\n\\nprint(d)', '_i119': '# Die keys eines Dictionarys müssen unveränderlich sein.\\n\\nd = {\"a\": 1, \"b\": 2, \"c\": 3}\\nprint(d)\\n\\n# d[[1, 2, 3]] = 4\\n\\nd[(1, 2, 3)] = 4\\n\\nprint(d)', '_i120': '# Die keys eines Dictionarys müssen unveränderlich sein.\\n\\nd = {\"a\": 1, \"b\": 2, \"c\": 3}\\nprint(d)\\n\\nd[[1, 2, 3]] = 4\\n\\nd[(1, 2, 3)] = 4\\n\\nprint(d)', '_i121': '# Die keys eines Dictionarys müssen unveränderlich sein.\\n\\nd = {\"a\": 1, \"b\": 2, \"c\": 3}\\nprint(d)\\n\\n#d[[1, 2, 3]] = 4\\n\\nd[(1, 2, 3)] = 4\\n\\nprint(d)', '_i122': '# Praktische Anwendungen\\n\\n# Drictionarys werden verwendet um die globalen Variablen in Python zu speichern.\\n# Die Funktion globals() gibt ein Dictionary zurück, das alle globalen Variablen und deren\\n# Werte enthält.\\n\\nprint(globals())'}\n"
     ]
    }
   ],
   "source": [
    "# Praktische Anwendungen\n",
    "\n",
    "# Drictionarys werden verwendet um die globalen Variablen in Python zu speichern.\n",
    "# Die Funktion globals() gibt ein Dictionary zurück, das alle globalen Variablen und deren\n",
    "# Werte enthält.\n",
    "\n",
    "print(globals())"
   ]
  },
  {
   "cell_type": "code",
   "execution_count": 123,
   "metadata": {},
   "outputs": [
    {
     "name": "stdout",
     "output_type": "stream",
     "text": [
      "{'a': 2, 'b': 3}\n"
     ]
    }
   ],
   "source": [
    "def f(a, b):\n",
    "    print(locals())\n",
    "    \n",
    "f(2, 3)"
   ]
  },
  {
   "cell_type": "code",
   "execution_count": 124,
   "metadata": {},
   "outputs": [
    {
     "name": "stdout",
     "output_type": "stream",
     "text": [
      "{'username': 'admin', 'password': 'admin', 'host': 'localhost', 'port': 3306, 'database': 'test'}\n"
     ]
    }
   ],
   "source": [
    "# Ein Dictionary kann auch verwendet werden, um eine Konfigurationsdatei zu speichern.\n",
    "\n",
    "config = {\n",
    "    \"username\": \"admin\",\n",
    "    \"password\": \"admin\",\n",
    "    \"host\": \"localhost\",\n",
    "    \"port\": 3306,\n",
    "    \"database\": \"test\"\n",
    "}\n",
    "\n",
    "print(config)"
   ]
  }
 ],
 "metadata": {
  "kernelspec": {
   "display_name": "stackfuel",
   "language": "python",
   "name": "python3"
  },
  "language_info": {
   "codemirror_mode": {
    "name": "ipython",
    "version": 3
   },
   "file_extension": ".py",
   "mimetype": "text/x-python",
   "name": "python",
   "nbconvert_exporter": "python",
   "pygments_lexer": "ipython3",
   "version": "3.12.2"
  }
 },
 "nbformat": 4,
 "nbformat_minor": 2
}
