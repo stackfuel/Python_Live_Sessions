{
 "cells": [
  {
   "cell_type": "markdown",
   "id": "1727860c",
   "metadata": {},
   "source": [
    "## Algorithmen\n",
    "\n",
    "Ein Algorithmus ist eine **eindeutige**, **endliche Abfolge** von **Anweisungen** oder Regeln, die dazu dient, ein bestimmtes **Problem zu lösen** oder eine bestimmte Aufgabe zu erfüllen. Diese Anweisungen werden in einer **bestimmten Reihenfolge** ausgeführt, um von einem Ausgangszustand zu einem gewünschten Endzustand zu gelangen.\n",
    "\n",
    "Hier sind einige wichtige Merkmale eines Algorithmus:\n",
    "\n",
    "1. **Eindeutigkeit**: Jede Anweisung muss klar und unmissverständlich sein.\n",
    "2. **Endlichkeit**: Der Algorithmus muss nach einer endlichen Anzahl von Schritten zum Abschluss kommen.\n",
    "3. **Ausführbarkeit**: Jeder Schritt des Algorithmus muss ausführbar sein.\n",
    "4. **Determinismus**: Ein Algorithmus sollte bei gleichen Ausgangsbedingungen immer dieselben Ergebnisse liefern.\n",
    "5. **Eingaben und Ausgaben**: Ein Algorithmus kann Null oder mehr Eingaben haben und eine oder mehrere Ausgaben liefern.\n",
    "\n",
    "Algorithmen sind grundlegend in der Informatik und Mathematik und werden in vielen Bereichen eingesetzt, von der Berechnung mathematischer Funktionen bis hin zur Steuerung komplexer Systeme in der Technik und Wirtschaft.\n"
   ]
  },
  {
   "cell_type": "markdown",
   "id": "c235cc0d",
   "metadata": {},
   "source": [
    "### Größter gemeinsame Teiler\n",
    "Der größte gemeinsame Teiler (GGT) zweier natürlicher Zahlen $a$ und $b$, auch als größter gemeinsamer Divisor (ggD) bezeichnet, ist die größte natürliche Zahl $d$, die sowohl $a$ als auch $b$ ohne Rest teilt. Mathematisch lässt sich der GGT so definieren:\n",
    "\n",
    "$$\n",
    "\\text{GGT}(a, b) = \\max \\{ d \\in \\mathbb{N} : d \\mid a \\text{ und } d \\mid b \\}\n",
    "$$\n",
    "\n",
    "Dabei bedeutet $d \\mid a$, dass $d$ ein Teiler von $a$ ist, also $a$ durch $d$ ohne Rest teilbar ist."
   ]
  },
  {
   "cell_type": "code",
   "execution_count": null,
   "id": "f1c0ad25",
   "metadata": {},
   "outputs": [],
   "source": [
    "a = 48\n",
    "b = 60\n",
    "\n",
    "max_d = min(a, b)\n",
    "N = range(1, max_d+1)\n",
    "\n",
    "cds = {d for d in N if a%d==0 and b%d==0}\n",
    "gcd = max(cds)\n",
    "\n",
    "print(f\"Alle gemeinsamend Teiler von {a} und {b}: {cds}\")\n",
    "print(f\"Größter gemeinsame Teiler: {gcd}\")"
   ]
  },
  {
   "cell_type": "markdown",
   "id": "2a8bdd47",
   "metadata": {},
   "source": [
    "### Beispiel: Euklidischer Algorithmus\n",
    "\n",
    "Der euklidische Algorithmus ist ein effizienter Weg zur Bestimmung des größten gemeinsamen Teilers (GGT) zweier natürlicher Zahlen. Er basiert auf der Tatsache, dass der GGT zweier Zahlen auch der GGT der kleineren Zahl und dem Rest der Division der größeren Zahl durch die kleinere Zahl ist. \n",
    "\n",
    "![Euclidean Algorithm](Euclidean_algorithm.gif)\n",
    "\n",
    "*Subtraktionsbasierte Animation des euklidischen Algorithmus. Das ursprüngliche Rechteck hat die Dimensionen a = 1071 und b = 462. Quadrate der Größe 462×462 werden darin platziert, wobei ein Rechteck von 462×147 übrig bleibt. Dieses Rechteck wird mit 147×147-Quadraten gefüllt, bis ein Rechteck von 21×147 übrig bleibt, das wiederum mit 21×21-Quadraten gefüllt wird, ohne unbedeckte Fläche zu hinterlassen. Die kleinste Quadratgröße, 21, ist der GGT von 1071 und 462.*\n",
    "*Quelle: [Wikipedia](https://de.wikipedia.org/wiki/Euklidischer_Algorithmus)*\n",
    "\n",
    "Hier sind die Schritte des euklidischen Algorithmus in Kurzform:\n",
    "\n",
    "1. Gegeben sind zwei Zahlen $a$ und $b$ mit $a > b$.\n",
    "2. Teile $a$ durch $b$ und bestimme den Rest $r$ (also $a \\mod b$).\n",
    "3. Ersetze $a$ durch $b$ und $b$ durch $r$.\n",
    "4. Wiederhole die Schritte 2 und 3, bis $r = 0$.\n",
    "5. Der GGT ist der letzte nicht-null Rest $b$.\n",
    "\n",
    "Der Algorithmus ist besonders effizient, da er die Größe der Zahlen in jedem Schritt reduziert. Dies führt zu einer logarithmischen Laufzeit im Verhältnis zur Größe der Eingabewerte.\n",
    "\n",
    "Beispiel:\n",
    "Um den GGT von 48 und 18 zu finden:\n",
    "\n",
    "1. 48 mod 18 = 12 (Rest ist 12)\n",
    "2. 18 mod 12 = 6 (Rest ist 6)\n",
    "3. 12 mod 6 = 0 (Rest ist 0)\n",
    "\n",
    "Der GGT ist 6."
   ]
  },
  {
   "cell_type": "code",
   "execution_count": null,
   "id": "78479217",
   "metadata": {},
   "outputs": [],
   "source": [
    "a = 60\n",
    "b = 48\n",
    "\n",
    "while b != 0:\n",
    "    print(f\"a: {a}\")\n",
    "    print(f\"b: {b}\")\n",
    "    print(\"--------\")\n",
    "    rest = a%b\n",
    "    a = b\n",
    "    b = rest\n",
    "    \n",
    "#print(f\"{'a '*a}\")\n",
    "#print(f\"{'b '*b}\")\n",
    "print(f\"gcd is {a}\")\n"
   ]
  },
  {
   "cell_type": "markdown",
   "id": "3e689db1",
   "metadata": {},
   "source": [
    "#### Verallgemeinerung als Funktion"
   ]
  },
  {
   "cell_type": "code",
   "execution_count": null,
   "id": "005e968e",
   "metadata": {},
   "outputs": [],
   "source": [
    "def gcd(a, b):\n",
    "    while b != 0:\n",
    "        rest = a%b\n",
    "        a = b\n",
    "        b = rest\n",
    "    return a"
   ]
  },
  {
   "cell_type": "code",
   "execution_count": null,
   "id": "57e222f4",
   "metadata": {},
   "outputs": [],
   "source": [
    "# Testfälle mit tabellarischer Ausgabe\n",
    "test_cases = [\n",
    "    (48, 18),\n",
    "    (101, 10),\n",
    "    (20, 8),\n",
    "    (0, 5),\n",
    "    (42, 56),\n",
    "    (270, 192),\n",
    "    (17, 31),\n",
    "    (123456, 789012)\n",
    "]\n",
    "\n",
    "# Header der Tabelle\n",
    "print(f\"{'a':>10} | {'b':>10} | {'gcd(a, b)':>10}\")\n",
    "print(\"-\" * 36)\n",
    "\n",
    "# Testfälle und Ergebnisse in tabellarischer Form ausgeben\n",
    "for a, b in test_cases:\n",
    "    result = gcd(a, b)\n",
    "    print(f\"{a:>10} | {b:>10} | {result:>10}\")"
   ]
  },
  {
   "cell_type": "markdown",
   "id": "b67e3267",
   "metadata": {},
   "source": [
    "#### Rekursion\n",
    "\n",
    "Rekursion ist ein Prinzip, bei dem eine **Funktion sich selbst aufruft**, um ein Problem in kleinere, leichter lösbare Teilprobleme zu zerlegen. Eine rekursive Funktion enthält eine oder mehrere **Basisbedingungen**, die ohne weitere Rekursion gelöst werden können, und eine **Rekursionsbedingung**, die die Funktion erneut mit anderen Argumenten aufruft.\n",
    "\n",
    "In unserem Beispiel wird die Funktion `gcd` rekursiv aufgerufen, um den größten gemeinsamen Teiler (GGT) zweier Zahlen zu berechnen. Die Basisbedingung tritt ein, wenn der zweite Parameter `b` gleich 0 ist. In diesem Fall gibt die Funktion den Wert von `a` zurück, da der GGT in diesem Fall `a` ist. Andernfalls wird die Funktion erneut mit den Argumenten `b` und dem Rest der Division von `a` durch `b` aufgerufen."
   ]
  },
  {
   "cell_type": "code",
   "execution_count": null,
   "id": "864176f8",
   "metadata": {
    "lines_to_next_cell": 1
   },
   "outputs": [],
   "source": [
    "def gcd(a, b=0):\n",
    "    print(f\"a: {a}, b: {b}\")\n",
    "    if a == 0:\n",
    "        return b\n",
    "    if b == 0:\n",
    "        return a\n",
    "    return gcd(b, a%b)\n",
    "\n",
    "print(gcd(18, 12))"
   ]
  },
  {
   "cell_type": "markdown",
   "id": "e291d47a",
   "metadata": {
    "lines_to_next_cell": 0
   },
   "source": [
    "\n",
    "In dieser Version der Funktion `gcd` wird die Rekursion so implementiert, dass sie eine beliebige Anzahl von Argumenten akzeptiert. Wenn nur ein Argument übergeben wird, wird die Funktion mit dem ersten Argument und 0 aufgerufen. Wenn mehrere Argumente übergeben werden, wird die Funktion rekursiv mit dem ersten und dem Rest der Argumente aufgerufen.\n"
   ]
  },
  {
   "cell_type": "code",
   "execution_count": null,
   "id": "b5520260",
   "metadata": {},
   "outputs": [],
   "source": [
    "def gcd(a, b=0, *args):\n",
    "    print(f\"a: {a}, b: {b}\")\n",
    "    if b == 0:\n",
    "        if not args:\n",
    "            return a\n",
    "        return gcd(a, *args)\n",
    "    return gcd(b, b%a,*args)\n",
    "\n",
    "print(gcd(12, 18))\n",
    "print(gcd(12, 18, 27))"
   ]
  },
  {
   "cell_type": "markdown",
   "id": "ed5c55ff",
   "metadata": {},
   "source": [
    "### Beispiel Quicksort\n",
    "\n",
    "![Quicksort](Quicksort_image.png)\n",
    "\n",
    "*Quelle: [Medium](https://medium.com/@dinmukhamed.dukumbayev26/quicksort-is-c-a8cc34a6ccc0)*\n",
    "\n",
    "Quicksort ist ein effizienter Sortieralgorithmus, der das **\"Teile und Herrsche\"**-Prinzip nutzt. Er wählt ein Pivotelement und teilt das Array in kleinere Teile, die rekursiv sortiert werden. Seine Einfachheit und Effektivität machen ihn zu einem der am häufigsten verwendeten Sortieralgorithmen in der Informatik.\n",
    "\n",
    "1. **Basisfall**: Wenn das Array `arr` leer ist oder nur ein Element enthält, ist es bereits sortiert, und wir geben es zurück.\n",
    "\n",
    "2. **Pivot-Auswahl**: Wir wählen das letzte Element des Arrays als Pivot.\n",
    "\n",
    "3. **Partitionierung**:\n",
    "   - `left`: Alle Elemente, die kleiner als der Pivot sind.\n",
    "   - `middle`: Alle Elemente, die gleich dem Pivot sind (dies berücksichtigt auch Duplikate).\n",
    "   - `right`: Alle Elemente, die größer als der Pivot sind.\n",
    "\n",
    "4. **Rekursion**: Wir sortieren rekursiv die `left`- und `right`-Teile und kombinieren die Ergebnisse mit den `middle`-Elementen.\n"
   ]
  },
  {
   "cell_type": "code",
   "execution_count": null,
   "id": "476debd0",
   "metadata": {
    "lines_to_next_cell": 1
   },
   "outputs": [],
   "source": [
    "def quicksort(arr):\n",
    "    if len(arr) <= 1:\n",
    "        return arr\n",
    "    else:\n",
    "        pivot = arr[-1]\n",
    "        left, middle, right = [], [], []\n",
    "        for i in range(len(arr)):\n",
    "            if arr[i] < pivot:\n",
    "                left.append(arr[i])\n",
    "            elif arr[i] > pivot:\n",
    "                right.append(arr[i])\n",
    "            else:\n",
    "                middle.append(arr[i])\n",
    "        print(left, middle, right)\n",
    "        return quicksort(left) + middle + quicksort(right)\n"
   ]
  },
  {
   "cell_type": "code",
   "execution_count": null,
   "id": "9cc0b082",
   "metadata": {},
   "outputs": [],
   "source": [
    "# Beispielnutzung\n",
    "array = [15, 3, 2, 8, 11, 10, 1, 6, 3, 1, 5]\n",
    "print(array)\n",
    "sorted_array = quicksort(array)\n",
    "print(sorted_array)"
   ]
  },
  {
   "cell_type": "markdown",
   "id": "ddd25935",
   "metadata": {
    "lines_to_next_cell": 0
   },
   "source": [
    "## Beispiel Binäre Suche\n",
    "\n",
    "![Binary Search](binarysearch_image.png)\n",
    "\n",
    "*Quelle: [GeekforGeeks](https://www.geeksforgeeks.org/complexity-analysis-of-binary-search/)*\n",
    "\n",
    "Die binäre Suche ist ein effizienter Suchalgorithmus, der das Prinzip der Divide and Conquer Strategie (Teile und Herrsche) nutzt. Dies ermöglicht es, in logarithmischer Zeit zu operieren, indem der Suchbereich mit jedem Schritt halbiert wird, anstatt jedes Element sequenziell zu durchlaufen. Angenommen, dass das Array bereits sortiert ist, wird der Algorithmus wie folgt beschrieben:\n",
    "\n",
    "1. Initialisierung der Zeiger left und right,\n",
    "\n",
    "2. Berechnung des mittleren Index und Vergleich des Zielwertes (target) mit dem Wert am mittleren Index mid_val,\n",
    "\n",
    "3. Anpassung der Zeiger basierend darauf, ob mid_val kleiner oder größer als target ist.\n",
    "\n",
    "4. Rückgabe des Indexes des gefundenen Zielwertes oder -1, falls das Element nicht gefunden wird."
   ]
  },
  {
   "cell_type": "code",
   "execution_count": null,
   "id": "504dba47",
   "metadata": {
    "lines_to_next_cell": 2
   },
   "outputs": [],
   "source": [
    "def binary_search(arr, target):\n",
    "    left, right = 0, len(arr) - 1\n",
    "    \n",
    "    while left <= right:\n",
    "        print(arr[left:right+1])\n",
    "        \n",
    "        mid = (left + right) // 2\n",
    "        mid_val = arr[mid]\n",
    "        \n",
    "        if mid_val == target:\n",
    "            return mid                      # Element gefunden, Rückgabe des Index\n",
    "        elif mid_val < target:\n",
    "            left = mid + 1                  # Suche im rechten Teil weiter\n",
    "        else:\n",
    "            right = mid - 1                 # Suche im linken Teil weiter\n",
    "    \n",
    "    return -1  # Element nicht gefunden\n",
    "\n"
   ]
  },
  {
   "cell_type": "code",
   "execution_count": null,
   "id": "71f18355",
   "metadata": {},
   "outputs": [],
   "source": [
    "# Beispielverwendung:\n",
    "arr = [1, 2, 3, 4, 5, 6, 7, 8, 9, 10]\n",
    "target = 10\n",
    "\n",
    "result = binary_search(arr, target)\n",
    "if result != -1:\n",
    "    print(f\"Element {target} gefunden bei Index {result}.\")\n",
    "else:\n",
    "    print(f\"Element {target} nicht in der Liste gefunden.\")"
   ]
  },
  {
   "cell_type": "code",
   "execution_count": null,
   "id": "0b3591dc",
   "metadata": {},
   "outputs": [],
   "source": [
    "def binary_search_rec(arr, target):\n",
    "    \n",
    "    if not arr:\n",
    "        return -1  # Leeres Array, Element nicht gefunden\n",
    "    \n",
    "    mid = len(arr) // 2\n",
    "    mid_val = arr[mid]\n",
    "\n",
    "    if mid_val == target:\n",
    "        return mid                      # Element gefunden, Rückgabe des Index\n",
    "    elif mid_val < target:\n",
    "        res = binary_search_rec(arr[mid+1:], target)                # Suche im rechten Teil weiter\n",
    "        return (mid + 1 + res) if res != -1 else -1\n",
    "    else:\n",
    "        return binary_search_rec(arr[:mid], target)                 # Suche im linken Teil weiter"
   ]
  },
  {
   "cell_type": "code",
   "execution_count": null,
   "id": "2cabca35",
   "metadata": {},
   "outputs": [],
   "source": [
    "# Beispielverwendung:\n",
    "arr = [1, 2, 3, 4, 5, 6, 7, 8, 9, 10]\n",
    "target = 10\n",
    "\n",
    "result = binary_search_rec(arr, target)\n",
    "print(result, \"result\")\n",
    "if result != -1:\n",
    "    print(f\"Element {target} gefunden bei Index {result}.\")\n",
    "else:\n",
    "    print(f\"Element {target} nicht in der Liste gefunden.\")"
   ]
  }
 ],
 "metadata": {
  "jupytext": {
   "cell_metadata_filter": "-all",
   "main_language": "python",
   "notebook_metadata_filter": "-all"
  },
  "kernelspec": {
   "display_name": "python-entwicklung",
   "language": "python",
   "name": "python3"
  },
  "language_info": {
   "codemirror_mode": {
    "name": "ipython",
    "version": 3
   },
   "file_extension": ".py",
   "mimetype": "text/x-python",
   "name": "python",
   "nbconvert_exporter": "python",
   "pygments_lexer": "ipython3",
   "version": "3.12.4"
  }
 },
 "nbformat": 4,
 "nbformat_minor": 5
}
