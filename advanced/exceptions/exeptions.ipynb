{
 "cells": [
  {
   "cell_type": "markdown",
   "id": "00694d85",
   "metadata": {},
   "source": [
    "# Exceptions und Asserts in Python\n",
    "\n",
    "## Lernziele\n",
    "\n",
    "In dieser Session wirst du lernen, wie du mit Fehlern in Python professionell umgehst. Wir schauen uns an, wie du Exceptions richtig behandelst, eigene Fehlerklassen erstellst und Assertions für die Entwicklung einsetzt. Am Ende der Session wirst du robusteren und wartbareren Code schreiben können.\n",
    "\n",
    "---\n",
    "\n",
    "## 1. Was sind Exceptions?\n",
    "\n",
    "Stell dir vor, du schreibst ein Programm, das Benutzereingaben verarbeitet. Der Benutzer soll eine Zahl eingeben, gibt aber stattdessen \"abc\" ein. Oder dein Programm soll eine Datei öffnen, die aber gar nicht existiert. In solchen Situationen treten **Exceptions** auf – Ausnahmesituationen, die den normalen Programmablauf unterbrechen.\n",
    "\n",
    "Während ein **Syntax-Fehler** bedeutet, dass Python deinen Code gar nicht erst ausführen kann (weil du z.B. einen Doppelpunkt vergessen hast), sind Exceptions **Laufzeitfehler**. Dein Code ist syntaktisch korrekt, aber während der Ausführung passiert etwas Unerwartetes.\n",
    "\n",
    "Im Gegensatz zu Syntax-Fehlern können wir Exceptions abfangen und darauf reagieren. Unser Programm muss also nicht abstürzen, nur weil der Benutzer etwas Falsches eingegeben hat!\n",
    "\n",
    "### Häufige Exception-Typen\n",
    "\n",
    "Lass uns die häufigsten Exceptions anschauen, denen du in der Praxis begegnen wirst:\n",
    "\n"
   ]
  },
  {
   "cell_type": "code",
   "execution_count": 1,
   "id": "93d1573a",
   "metadata": {},
   "outputs": [
    {
     "ename": "ValueError",
     "evalue": "invalid literal for int() with base 10: 'abc'",
     "output_type": "error",
     "traceback": [
      "\u001b[31m---------------------------------------------------------------------------\u001b[39m",
      "\u001b[31mValueError\u001b[39m                                Traceback (most recent call last)",
      "\u001b[36mCell\u001b[39m\u001b[36m \u001b[39m\u001b[32mIn[1]\u001b[39m\u001b[32m, line 2\u001b[39m\n\u001b[32m      1\u001b[39m \u001b[38;5;66;03m# ValueError - Der Wert passt nicht zum erwarteten Format\u001b[39;00m\n\u001b[32m----> \u001b[39m\u001b[32m2\u001b[39m \u001b[38;5;28;43mint\u001b[39;49m\u001b[43m(\u001b[49m\u001b[33;43m\"\u001b[39;49m\u001b[33;43mabc\u001b[39;49m\u001b[33;43m\"\u001b[39;49m\u001b[43m)\u001b[49m  \u001b[38;5;66;03m# Kann den String \"abc\" nicht in eine Zahl umwandeln\u001b[39;00m\n",
      "\u001b[31mValueError\u001b[39m: invalid literal for int() with base 10: 'abc'"
     ]
    }
   ],
   "source": [
    "# ValueError - Der Wert passt nicht zum erwarteten Format\n",
    "int(\"abc\")  # Kann den String \"abc\" nicht in eine Zahl umwandeln"
   ]
  },
  {
   "cell_type": "code",
   "execution_count": 2,
   "id": "39c55075",
   "metadata": {},
   "outputs": [
    {
     "ename": "TypeError",
     "evalue": "can only concatenate str (not \"int\") to str",
     "output_type": "error",
     "traceback": [
      "\u001b[31m---------------------------------------------------------------------------\u001b[39m",
      "\u001b[31mTypeError\u001b[39m                                 Traceback (most recent call last)",
      "\u001b[36mCell\u001b[39m\u001b[36m \u001b[39m\u001b[32mIn[2]\u001b[39m\u001b[32m, line 2\u001b[39m\n\u001b[32m      1\u001b[39m \u001b[38;5;66;03m# TypeError - Die Operation passt nicht zum Datentyp\u001b[39;00m\n\u001b[32m----> \u001b[39m\u001b[32m2\u001b[39m \u001b[33;43m\"\u001b[39;49m\u001b[33;43mHello\u001b[39;49m\u001b[33;43m\"\u001b[39;49m\u001b[43m \u001b[49m\u001b[43m+\u001b[49m\u001b[43m \u001b[49m\u001b[32;43m5\u001b[39;49m  \u001b[38;5;66;03m# Man kann keinen String mit einer Zahl addieren\u001b[39;00m\n",
      "\u001b[31mTypeError\u001b[39m: can only concatenate str (not \"int\") to str"
     ]
    }
   ],
   "source": [
    "# TypeError - Die Operation passt nicht zum Datentyp\n",
    "\"Hello\" + 5  # Man kann keinen String mit einer Zahl addieren"
   ]
  },
  {
   "cell_type": "code",
   "execution_count": 3,
   "id": "fca06842",
   "metadata": {},
   "outputs": [
    {
     "ename": "ZeroDivisionError",
     "evalue": "division by zero",
     "output_type": "error",
     "traceback": [
      "\u001b[31m---------------------------------------------------------------------------\u001b[39m",
      "\u001b[31mZeroDivisionError\u001b[39m                         Traceback (most recent call last)",
      "\u001b[36mCell\u001b[39m\u001b[36m \u001b[39m\u001b[32mIn[3]\u001b[39m\u001b[32m, line 2\u001b[39m\n\u001b[32m      1\u001b[39m \u001b[38;5;66;03m# ZeroDivisionError - Eine der klassischen mathematischen Fehler\u001b[39;00m\n\u001b[32m----> \u001b[39m\u001b[32m2\u001b[39m \u001b[32;43m10\u001b[39;49m\u001b[43m \u001b[49m\u001b[43m/\u001b[49m\u001b[43m \u001b[49m\u001b[32;43m0\u001b[39;49m  \u001b[38;5;66;03m# Division durch Null ist mathematisch nicht definiert\u001b[39;00m\n",
      "\u001b[31mZeroDivisionError\u001b[39m: division by zero"
     ]
    }
   ],
   "source": [
    "# ZeroDivisionError - Eine der klassischen mathematischen Fehler\n",
    "10 / 0  # Division durch Null ist mathematisch nicht definiert"
   ]
  },
  {
   "cell_type": "code",
   "execution_count": 4,
   "id": "e19fccd5",
   "metadata": {},
   "outputs": [
    {
     "ename": "KeyError",
     "evalue": "'address'",
     "output_type": "error",
     "traceback": [
      "\u001b[31m---------------------------------------------------------------------------\u001b[39m",
      "\u001b[31mKeyError\u001b[39m                                  Traceback (most recent call last)",
      "\u001b[36mCell\u001b[39m\u001b[36m \u001b[39m\u001b[32mIn[4]\u001b[39m\u001b[32m, line 3\u001b[39m\n\u001b[32m      1\u001b[39m \u001b[38;5;66;03m# KeyError - Der Schlüssel existiert nicht im Dictionary\u001b[39;00m\n\u001b[32m      2\u001b[39m person = {\u001b[33m\"\u001b[39m\u001b[33mname\u001b[39m\u001b[33m\"\u001b[39m: \u001b[33m\"\u001b[39m\u001b[33mAnna\u001b[39m\u001b[33m\"\u001b[39m, \u001b[33m\"\u001b[39m\u001b[33mage\u001b[39m\u001b[33m\"\u001b[39m: \u001b[32m25\u001b[39m}\n\u001b[32m----> \u001b[39m\u001b[32m3\u001b[39m \u001b[43mperson\u001b[49m\u001b[43m[\u001b[49m\u001b[33;43m\"\u001b[39;49m\u001b[33;43maddress\u001b[39;49m\u001b[33;43m\"\u001b[39;49m\u001b[43m]\u001b[49m  \u001b[38;5;66;03m# Es gibt keinen Schlüssel \"address\"\u001b[39;00m\n",
      "\u001b[31mKeyError\u001b[39m: 'address'"
     ]
    }
   ],
   "source": [
    "# KeyError - Der Schlüssel existiert nicht im Dictionary\n",
    "person = {\"name\": \"Anna\", \"age\": 25}\n",
    "person[\"address\"]  # Es gibt keinen Schlüssel \"address\""
   ]
  },
  {
   "cell_type": "code",
   "execution_count": 5,
   "id": "8641b3ba",
   "metadata": {},
   "outputs": [
    {
     "ename": "IndexError",
     "evalue": "list index out of range",
     "output_type": "error",
     "traceback": [
      "\u001b[31m---------------------------------------------------------------------------\u001b[39m",
      "\u001b[31mIndexError\u001b[39m                                Traceback (most recent call last)",
      "\u001b[36mCell\u001b[39m\u001b[36m \u001b[39m\u001b[32mIn[5]\u001b[39m\u001b[32m, line 3\u001b[39m\n\u001b[32m      1\u001b[39m \u001b[38;5;66;03m# IndexError - Der Index liegt außerhalb der Liste\u001b[39;00m\n\u001b[32m      2\u001b[39m liste = [\u001b[32m1\u001b[39m, \u001b[32m2\u001b[39m, \u001b[32m3\u001b[39m]\n\u001b[32m----> \u001b[39m\u001b[32m3\u001b[39m \u001b[43mliste\u001b[49m\u001b[43m[\u001b[49m\u001b[32;43m10\u001b[39;49m\u001b[43m]\u001b[49m  \u001b[38;5;66;03m# Die Liste hat nur 3 Elemente (Indizes 0-2)\u001b[39;00m\n",
      "\u001b[31mIndexError\u001b[39m: list index out of range"
     ]
    }
   ],
   "source": [
    "# IndexError - Der Index liegt außerhalb der Liste\n",
    "liste = [1, 2, 3]\n",
    "liste[10]  # Die Liste hat nur 3 Elemente (Indizes 0-2)"
   ]
  },
  {
   "cell_type": "markdown",
   "id": "f009f14b",
   "metadata": {},
   "source": [
    "\n",
    "### Ein kleines Experiment\n",
    "\n",
    "Lass uns den Unterschied zwischen Syntax-Fehlern und Exceptions verdeutlichen:\n"
   ]
  },
  {
   "cell_type": "code",
   "execution_count": 6,
   "id": "e3d793f4",
   "metadata": {},
   "outputs": [
    {
     "ename": "SyntaxError",
     "evalue": "expected ':' (894237008.py, line 2)",
     "output_type": "error",
     "traceback": [
      "  \u001b[36mCell\u001b[39m\u001b[36m \u001b[39m\u001b[32mIn[6]\u001b[39m\u001b[32m, line 2\u001b[39m\n\u001b[31m    \u001b[39m\u001b[31mif True\u001b[39m\n           ^\n\u001b[31mSyntaxError\u001b[39m\u001b[31m:\u001b[39m expected ':'\n"
     ]
    }
   ],
   "source": [
    "# Das hier ist ein Syntax-Fehler - Python kann den Code nicht einmal starten:\n",
    "if True\n",
    "    print(\"Fehler\")\n",
    "\n",
    "# Das hier ist eine Exception - der Code ist valide, schlägt aber zur Laufzeit fehl:\n",
    "result = 10 / 0"
   ]
  },
  {
   "cell_type": "markdown",
   "id": "b54a2499",
   "metadata": {},
   "source": [
    "\n",
    "Der erste Code ist wie ein Satz ohne Punkt und mit falscher Grammatik – unverständlich. Der zweite Code ist wie ein Satz, der grammatikalisch korrekt ist, aber eine unmögliche Anweisung enthält (\"Teile durch Null\").\n",
    "\n",
    "---\n",
    "\n",
    "## 2. Try-Except: Exceptions abfangen\n",
    "\n",
    "Wenn wir wissen, dass bestimmte Codezeilen Exceptions auslösen könnten, können wir sie mit einem `try-except`-Block schützen. Das ist wie ein Sicherheitsnetz: Wenn etwas schiefgeht, fangen wir den Fehler ab und können angemessen reagieren, anstatt dass das gesamte Programm abstürzt.\n",
    "\n",
    "### Die Grundstruktur\n",
    "\n",
    "Das Prinzip ist einfach: Im `try`-Block steht der Code, der möglicherweise eine Exception wirft. Im `except`-Block definierst du, was passieren soll, wenn tatsächlich ein Fehler auftritt.\n"
   ]
  },
  {
   "cell_type": "code",
   "execution_count": 11,
   "id": "ebc9d380",
   "metadata": {},
   "outputs": [
    {
     "name": "stdout",
     "output_type": "stream",
     "text": [
      "Ein Fehler ist aufgetreten!\n"
     ]
    }
   ],
   "source": [
    "try:\n",
    "    # Code, der eine Exception werfen könnte\n",
    "    zahl = int(input(\"Gib eine Zahl ein: \"))\n",
    "    ergebnis = 100 / zahl\n",
    "    print(f\"Ergebnis: {ergebnis}\")\n",
    "except:\n",
    "    # Wird ausgeführt, wenn irgendeine Exception auftritt\n",
    "    print(\"Ein Fehler ist aufgetreten!\")"
   ]
  },
  {
   "cell_type": "markdown",
   "id": "b2139148",
   "metadata": {},
   "source": [
    "Wir können auf die Exception selbst zugreifen, um mehr Informationen zu erhalten:"
   ]
  },
  {
   "cell_type": "code",
   "execution_count": 3,
   "id": "29aeb238",
   "metadata": {},
   "outputs": [
    {
     "name": "stdout",
     "output_type": "stream",
     "text": [
      "Ein Fehler ist aufgetreten: invalid literal for int() with base 10: 'abc'\n"
     ]
    }
   ],
   "source": [
    "try:\n",
    "    # Code, der eine Exception werfen könnte\n",
    "    zahl = int(input(\"Gib eine Zahl ein: \"))\n",
    "    ergebnis = 100 / zahl\n",
    "    print(f\"Ergebnis: {ergebnis}\")\n",
    "except Exception as e:\n",
    "    # Wird ausgeführt, wenn irgendeine Exception auftritt\n",
    "    print(f\"Ein Fehler ist aufgetreten: {e}\")"
   ]
  },
  {
   "cell_type": "markdown",
   "id": "0060fd56",
   "metadata": {},
   "source": [
    "\n",
    "Dieser Code ist schon mal besser als gar keine Fehlerbehandlung, aber er hat einen Haken: Wir fangen **alle** Exceptions ab, ohne zu wissen, was genau schiefgelaufen ist. War es eine ungültige Eingabe? Eine Division durch Null? Etwas ganz anderes? Wir wissen es nicht!\n",
    "\n",
    "### Spezifische Exceptions abfangen\n",
    "\n",
    "Viel besser ist es, genau zu sagen, welche Exceptions wir erwarten und wie wir auf jede einzelne reagieren wollen. Das macht unseren Code nicht nur robuster, sondern auch leichter zu debuggen.\n"
   ]
  },
  {
   "cell_type": "code",
   "execution_count": null,
   "id": "002b33a5",
   "metadata": {},
   "outputs": [],
   "source": [
    "try:\n",
    "    alter = int(input(\"Wie alt bist du? \"))\n",
    "    print(f\"In 10 Jahren bist du {alter + 10} Jahre alt.\")\n",
    "except ValueError:\n",
    "    print(\"Bitte gib eine gültige Zahl ein!\")"
   ]
  },
  {
   "cell_type": "markdown",
   "id": "fcb69154",
   "metadata": {},
   "source": [
    "\n",
    "Hier fangen wir nur `ValueError` ab, der auftritt, wenn der Benutzer etwas eingibt, das keine Zahl ist. Wenn eine andere Exception auftreten sollte, würde das Programm trotzdem abstürzen – und das ist gut so! Denn dann wissen wir, dass etwas Unerwartetes passiert ist, das wir noch nicht bedacht haben.\n",
    "\n",
    "### Mehrere Exception-Typen behandeln\n",
    "\n",
    "Manchmal kann ein Codeblock verschiedene Arten von Exceptions werfen. Dann kannst du mehrere `except`-Blöcke hintereinander schreiben, einen für jeden Exception-Typ.\n"
   ]
  },
  {
   "cell_type": "code",
   "execution_count": 4,
   "id": "2959c53c",
   "metadata": {},
   "outputs": [
    {
     "name": "stdout",
     "output_type": "stream",
     "text": [
      "5.0\n",
      "Fehler: Division durch Null ist nicht erlaubt!\n",
      "None\n",
      "Fehler: Beide Argumente müssen Zahlen sein!\n",
      "None\n"
     ]
    }
   ],
   "source": [
    "def teile_zahlen(a, b):\n",
    "    try:\n",
    "        ergebnis = a / b\n",
    "        return ergebnis\n",
    "    except ZeroDivisionError:\n",
    "        print(\"Fehler: Division durch Null ist nicht erlaubt!\")\n",
    "        return None\n",
    "    except TypeError:\n",
    "        print(\"Fehler: Beide Argumente müssen Zahlen sein!\")\n",
    "        return None\n",
    "\n",
    "# Tests\n",
    "print(teile_zahlen(10, 2))      # Funktioniert: 5.0\n",
    "print(teile_zahlen(10, 0))      # Division durch Null\n",
    "print(teile_zahlen(10, \"2\"))    # Falscher Datentyp"
   ]
  },
  {
   "cell_type": "markdown",
   "id": "3a8e7b9a",
   "metadata": {},
   "source": [
    "\n",
    "Beachte, wie wir hier auf jeden Fehlertyp unterschiedlich reagieren können. Der Benutzer bekommt eine klare Fehlermeldung, die ihm sagt, was genau schiefgelaufen ist.\n",
    "\n",
    "### Die Exception-Nachricht auslesen\n",
    "\n",
    "Oft möchtest du nicht nur wissen, dass ein Fehler aufgetreten ist, sondern auch Details darüber erfahren. Dafür kannst du die Exception in einer Variable speichern:\n"
   ]
  },
  {
   "cell_type": "code",
   "execution_count": 5,
   "id": "29552b27",
   "metadata": {},
   "outputs": [
    {
     "name": "stdout",
     "output_type": "stream",
     "text": [
      "Fehler aufgetreten: invalid literal for int() with base 10: 'keine Zahl'\n",
      "Fehlertyp: ValueError\n"
     ]
    }
   ],
   "source": [
    "try:\n",
    "    wert = int(\"keine Zahl\")\n",
    "except ValueError as e:\n",
    "    print(f\"Fehler aufgetreten: {e}\")\n",
    "    print(f\"Fehlertyp: {type(e).__name__}\")\n"
   ]
  },
  {
   "cell_type": "markdown",
   "id": "6260449c",
   "metadata": {},
   "source": [
    "\n",
    "Das `as e` speichert die Exception in der Variable `e`, sodass wir die Fehlermeldung ausgeben können. Das ist besonders beim Debuggen hilfreich!\n",
    "\n",
    "---\n",
    "\n",
    "## 3. Else und Finally\n",
    "\n",
    "Der `try-except`-Block kann noch zwei weitere optionale Komponenten haben: `else` und `finally`. Diese geben dir noch mehr Kontrolle über den Ablauf bei Erfolg oder Fehlschlag.\n",
    "\n",
    "### Der Else-Block: Code für den Erfolgsfall\n",
    "\n",
    "Der `else`-Block ist etwas Besonderes: Er wird nur dann ausgeführt, wenn im `try`-Block **keine** Exception aufgetreten ist. Das ist praktisch, wenn du Code hast, der nur im Erfolgsfall laufen soll, aber selbst keine Exceptions werfen sollte, die du abfangen möchtest.\n"
   ]
  },
  {
   "cell_type": "code",
   "execution_count": 6,
   "id": "b0f228ff",
   "metadata": {},
   "outputs": [
    {
     "name": "stdout",
     "output_type": "stream",
     "text": [
      "Datei 'existiert_nicht.txt' nicht gefunden!\n"
     ]
    }
   ],
   "source": [
    "def lies_datei(dateiname):\n",
    "    try:\n",
    "        datei = open(dateiname, 'r')\n",
    "        inhalt = datei.read()\n",
    "    except FileNotFoundError:\n",
    "        print(f\"Datei '{dateiname}' nicht gefunden!\")\n",
    "    else:\n",
    "        print(\"Datei erfolgreich gelesen!\")\n",
    "        print(f\"Inhalt hat {len(inhalt)} Zeichen\")\n",
    "        datei.close()\n",
    "\n",
    "# Test\n",
    "lies_datei(\"existiert_nicht.txt\")"
   ]
  },
  {
   "cell_type": "markdown",
   "id": "91c2bc5e",
   "metadata": {},
   "source": [
    "\n",
    "Warum nicht einfach den Code aus dem `else`-Block am Ende des `try`-Blocks schreiben? Der Vorteil ist Klarheit: Im `else`-Block steht Code, der konzeptionell zum Erfolgsfall gehört. Außerdem werden Exceptions, die im `else`-Block auftreten könnten, nicht vom `except`-Block abgefangen – das verhindert, dass du versehentlich Fehler abfängst, die du gar nicht abfangen wolltest.\n",
    "\n",
    "### Der Finally-Block: Aufräumen ist Pflicht\n",
    "\n",
    "Der `finally`-Block ist noch wichtiger: Er wird **immer** ausgeführt, egal ob eine Exception aufgetreten ist oder nicht. Das ist perfekt für Aufräumarbeiten wie das Schließen von Dateien oder Datenbankverbindungen.\n"
   ]
  },
  {
   "cell_type": "code",
   "execution_count": 7,
   "id": "e8d65111",
   "metadata": {},
   "outputs": [
    {
     "name": "stdout",
     "output_type": "stream",
     "text": [
      "Datei wurde geschlossen.\n",
      "Division durch Null!\n",
      "Datei wurde geschlossen.\n"
     ]
    }
   ],
   "source": [
    "def verarbeite_daten(daten):\n",
    "    datei = None\n",
    "    try:\n",
    "        datei = open(\"ausgabe.txt\", 'w')\n",
    "        ergebnis = 100 / daten\n",
    "        datei.write(f\"Ergebnis: {ergebnis}\\n\")\n",
    "    except ZeroDivisionError:\n",
    "        print(\"Division durch Null!\")\n",
    "    except Exception as e:\n",
    "        print(f\"Unerwarteter Fehler: {e}\")\n",
    "    finally:\n",
    "        if datei:\n",
    "            datei.close()\n",
    "            print(\"Datei wurde geschlossen.\")\n",
    "\n",
    "# Test\n",
    "verarbeite_daten(10)   # Funktioniert normal\n",
    "verarbeite_daten(0)    # Fehler, aber Datei wird trotzdem geschlossen"
   ]
  },
  {
   "cell_type": "markdown",
   "id": "f642ffb1",
   "metadata": {},
   "source": [
    "\n",
    "Der `finally`-Block ist deine Garantie: Egal was passiert, diese Aufräumarbeiten werden durchgeführt. Das ist besonders wichtig bei Ressourcen wie Dateien, Netzwerkverbindungen oder Locks, die du immer ordentlich freigeben musst.\n",
    "\n",
    "---\n",
    "\n",
    "## 4. Eigene Exceptions werfen\n",
    "\n",
    "Bisher haben wir nur Exceptions behandelt, die von Python selbst oder von anderen Funktionen geworfen wurden. Aber du kannst auch selbst Exceptions werfen! Das ist sinnvoll, wenn du feststellst, dass etwas in deinem Code nicht stimmt und du den Aufrufer darüber informieren möchtest.\n",
    "\n",
    "### Das raise-Statement\n",
    "\n",
    "Mit dem `raise`-Statement kannst du eine Exception auslösen. Das ist wie ein lautes \"Stopp! Hier stimmt etwas nicht!\" an den Rest deines Codes.\n"
   ]
  },
  {
   "cell_type": "code",
   "execution_count": 1,
   "id": "1406f733",
   "metadata": {},
   "outputs": [
    {
     "name": "stdout",
     "output_type": "stream",
     "text": [
      "Alter wurde auf 25 gesetzt.\n"
     ]
    }
   ],
   "source": [
    "def setze_alter(alter):\n",
    "    if alter < 0:\n",
    "        raise ValueError(\"Alter kann nicht negativ sein!\")\n",
    "    if alter > 150:\n",
    "        raise ValueError(\"Alter scheint unrealistisch hoch!\")\n",
    "    return f\"Alter wurde auf {alter} gesetzt.\"\n",
    "\n",
    "# Tests\n",
    "print(setze_alter(25))      # Funktioniert\n",
    "# print(setze_alter(-5))    # Wirft ValueError\n",
    "# print(setze_alter(200))   # Wirft ValueError"
   ]
  },
  {
   "cell_type": "markdown",
   "id": "bd4d76f3",
   "metadata": {},
   "source": [
    "\n",
    "Warum würdest du das tun? Stell dir vor, deine Funktion ist Teil einer größeren Bibliothek. Wenn ungültige Daten reinkommen, sollte nicht still und heimlich etwas Falsches passieren. Besser ist es, laut und deutlich zu sagen: \"Diese Daten sind nicht okay!\" Dann kann der Aufrufer entscheiden, wie er damit umgeht.\n",
    "\n",
    "### Eigene Exception-Klassen definieren\n",
    "\n",
    "Für größere Projekte kannst du sogar eigene Exception-Klassen erstellen. Das gibt dir mehrere Vorteile: Du kannst Exceptions semantisch gruppieren, eine Hierarchie aufbauen und der aufrufende Code kann gezielt bestimmte Fehlertypen abfangen.\n"
   ]
  },
  {
   "cell_type": "code",
   "execution_count": 10,
   "id": "9f4f980d",
   "metadata": {},
   "outputs": [
    {
     "name": "stdout",
     "output_type": "stream",
     "text": [
      "Fehler bei Validierung: Alter -3 ist negativ!\n"
     ]
    }
   ],
   "source": [
    "class InvalidAgeError(Exception):\n",
    "    \"\"\"Basisklasse für Fehler bei der Altersangabe\"\"\"\n",
    "    pass\n",
    "\n",
    "class AgeTooLowError(InvalidAgeError):\n",
    "    \"\"\"Wird geworfen, wenn das Alter zu niedrig ist\"\"\"\n",
    "    pass\n",
    "\n",
    "class AgeTooHighError(InvalidAgeError):\n",
    "    \"\"\"Wird geworfen, wenn das Alter zu hoch ist\"\"\"\n",
    "    pass\n",
    "\n",
    "def validiere_alter(alter):\n",
    "    if alter < 0:\n",
    "        raise AgeTooLowError(f\"Alter {alter} ist negativ!\")\n",
    "    if alter > 150:\n",
    "        raise AgeTooHighError(f\"Alter {alter} ist unrealistisch!\")\n",
    "    return True\n",
    "\n",
    "# Verwendung\n",
    "try:\n",
    "    validiere_alter(-3)\n",
    "except AgeTooLowError as e:\n",
    "    print(f\"Fehler bei Validierung: {e}\")\n",
    "except AgeTooHighError as e:\n",
    "    print(f\"Fehler bei Validierung: {e}\")\n"
   ]
  },
  {
   "cell_type": "markdown",
   "id": "eb699b92",
   "metadata": {},
   "source": [
    "\n",
    "Das Schöne an dieser Hierarchie: Der aufrufende Code kann entweder alle Altersfehler mit `except InvalidAgeError` abfangen, oder gezielt nur `AgeTooLowError` behandeln. Das gibt viel Flexibilität!\n"
   ]
  },
  {
   "cell_type": "markdown",
   "id": "7a9c1147",
   "metadata": {},
   "source": [
    "### For-Schleifen mit Break und Continue simulieren\n",
    "\n",
    "Der folgende Abschnitt hat keinen praktischen Nutzen, sondern dient nur der Demonstration."
   ]
  },
  {
   "cell_type": "code",
   "execution_count": 38,
   "id": "5fd4c064",
   "metadata": {},
   "outputs": [
    {
     "name": "stdout",
     "output_type": "stream",
     "text": [
      "Element: 1\n",
      "Element: 2\n",
      "Element: 3\n"
     ]
    }
   ],
   "source": [
    "def my_for(iterable, body):\n",
    "    iterator = iter(iterable)\n",
    "    while True:\n",
    "        try:\n",
    "            item = next(iterator)\n",
    "            body(item)\n",
    "        except StopIteration:\n",
    "            return\n",
    "        \n",
    "# Beispielnutzung\n",
    "def drucke_element(e):\n",
    "    print(f\"Element: {e}\")\n",
    "\n",
    "my_for([1, 2, 3], drucke_element)\n"
   ]
  },
  {
   "cell_type": "code",
   "execution_count": 21,
   "id": "8a704a19",
   "metadata": {},
   "outputs": [
    {
     "name": "stdout",
     "output_type": "stream",
     "text": [
      "Element: 1\n",
      "Element: 2\n",
      "Element: 3\n",
      "Gerade Zahl: 2\n",
      "Gerade Zahl: 4\n"
     ]
    }
   ],
   "source": [
    "class LoopControl(Exception):\n",
    "    pass\n",
    "\n",
    "class Break(LoopControl):\n",
    "    pass\n",
    "\n",
    "class Continue(LoopControl):\n",
    "    pass\n",
    "\n",
    "def my_for(iterable, body, *args, **kwargs):\n",
    "    iterator = iter(iterable)\n",
    "    while True:\n",
    "        try:\n",
    "            item = next(iterator)\n",
    "            try:\n",
    "                body(item, *args, **kwargs)\n",
    "            except Continue:\n",
    "                pass\n",
    "            except Break:\n",
    "                return\n",
    "        except StopIteration:\n",
    "            return\n",
    "\n",
    "# Beispiel mit Break\n",
    "def drucke_bis_drei(e):\n",
    "    if e > 3:\n",
    "        raise Break()\n",
    "    print(f\"Element: {e}\")\n",
    "\n",
    "my_for([1, 2, 3, 4, 5], drucke_bis_drei)\n",
    "\n",
    "# Beispiel mit Continue\n",
    "def drucke_gerade(e):\n",
    "    if e % 2 != 0:\n",
    "        raise Continue()\n",
    "    print(f\"Gerade Zahl: {e}\")\n",
    "    \n",
    "my_for([1, 2, 3, 4, 5], drucke_gerade)\n"
   ]
  },
  {
   "cell_type": "code",
   "execution_count": 20,
   "id": "934f74c4",
   "metadata": {},
   "outputs": [
    {
     "name": "stdout",
     "output_type": "stream",
     "text": [
      "Untersuche Element: 10\n",
      "Untersuche Element: 20\n",
      "Untersuche Element: 30\n",
      "Untersuche Element: 40\n",
      "Untersuche Element: 50\n",
      "{'found': False, 'value': None, 'index': None}\n"
     ]
    }
   ],
   "source": [
    "# linear search mit my_for\n",
    "\n",
    "data = [10, 20, 30, 40, 50]\n",
    "target = 60\n",
    "\n",
    "def finde_element(e, target, result):\n",
    "    if e[1] == target:\n",
    "        result[\"found\"] = True\n",
    "        result[\"value\"] = e[1]\n",
    "        result[\"index\"] = e[0]\n",
    "        raise Break()\n",
    "    print(f\"Untersuche Element: {e[1]}\")\n",
    "    \n",
    "result = {\"found\": False, \"value\": None, \"index\": None}\n",
    "my_for(enumerate(data), finde_element, target, result)\n",
    "print(result)"
   ]
  },
  {
   "cell_type": "code",
   "execution_count": 17,
   "id": "48972cb2",
   "metadata": {},
   "outputs": [
    {
     "data": {
      "text/plain": [
       "30"
      ]
     },
     "execution_count": 17,
     "metadata": {},
     "output_type": "execute_result"
    }
   ],
   "source": [
    "data[2]"
   ]
  },
  {
   "cell_type": "markdown",
   "id": "fbfe2f1f",
   "metadata": {},
   "source": [
    "\n",
    "---\n",
    "\n",
    "## 5. Assertions: Für Entwickler, nicht für Benutzer\n",
    "\n",
    "Jetzt kommen wir zu einem Werkzeug, das oft missverstanden wird: **Assertions**. Ein Assert ist eine Behauptung, die du in deinem Code aufstellst: \"An dieser Stelle muss X wahr sein!\" Wenn X nicht wahr ist, stürzt das Programm mit einem `AssertionError` ab.\n",
    "\n",
    "Das klingt erstmal radikal, aber Assertions haben einen ganz speziellen Zweck: Sie sind **Entwicklerhilfen** für das Debugging, nicht für die Behandlung von erwartbaren Fehlern!\n",
    "\n",
    "### Die Assert-Syntax\n",
    "\n",
    "Ein Assert besteht aus dem Keyword `assert`, gefolgt von einer Bedingung und optional einer Fehlermeldung:\n"
   ]
  },
  {
   "cell_type": "code",
   "execution_count": 25,
   "id": "1b48166d",
   "metadata": {},
   "outputs": [
    {
     "name": "stdout",
     "output_type": "stream",
     "text": [
      "Check bestanden!\n"
     ]
    }
   ],
   "source": [
    "x = 10\n",
    "assert x > 0, \"x muss positiv sein\"\n",
    "print(\"Check bestanden!\")\n",
    "\n",
    "# assert x < 0, \"x muss negativ sein\"  # AssertionError: x muss negativ sein\n"
   ]
  },
  {
   "cell_type": "code",
   "execution_count": 32,
   "id": "39ea375e",
   "metadata": {},
   "outputs": [
    {
     "name": "stdout",
     "output_type": "stream",
     "text": [
      "Check bestanden!\n"
     ]
    }
   ],
   "source": [
    "# equivalent zu:\n",
    "\n",
    "x = 10\n",
    "if __debug__:\n",
    "    if not x > 0:\n",
    "        raise AssertionError(\"x muss positiv sein\")\n",
    "print(\"Check bestanden!\")\n"
   ]
  },
  {
   "cell_type": "markdown",
   "id": "91ee869b",
   "metadata": {},
   "source": [
    "Wenn die Bedingung `True` ist, passiert nichts – das Programm läuft einfach weiter. Wenn sie `False` ist, gibt es einen `AssertionError` mit deiner Nachricht."
   ]
  },
  {
   "cell_type": "markdown",
   "id": "ffc98c76",
   "metadata": {},
   "source": [
    "### Assertions in Funktionen: Pre- und Postconditions\n",
    "\n",
    "Eine klassische Verwendung von Assertions ist die Überprüfung von Nachbedingungen (Postconditions) oder internen Invarianten: Nach der Ausführung eines Code-Abschnitts sollte eine bestimmte Bedingung immer erfüllt sein – ein Fehler weist dann meist auf einen Bug im eigenen Code hin.\n",
    "\n",
    "Für Vorbedingungen (Preconditions) – also Erwartungen an die Funktions-Parameter – sollte man in Python keine Assertions verwenden, insbesondere wenn die Funktion von externem Code oder Nutzer-Eingaben aufgerufen werden kann. Hier sollte man stattdessen mit Exceptions wie ValueError oder TypeError arbeiten. So können Verstöße korrekt behandelt und gemeldet werden, auch wenn das Programm optimiert oder im Produktivbetrieb ausgeführt wird.\n"
   ]
  },
  {
   "cell_type": "code",
   "execution_count": null,
   "id": "c6ccac44",
   "metadata": {},
   "outputs": [
    {
     "name": "stdout",
     "output_type": "stream",
     "text": [
      "4.0\n"
     ]
    }
   ],
   "source": [
    "# Falsche Verwendung von Assertions:\n",
    "def berechne_quadratwurzel(x):\n",
    "    # Precondition\n",
    "    assert isinstance(x, (int, float)), \"x muss eine Zahl sein\"\n",
    "    assert x >= 0, \"Kann keine Quadratwurzel von negativen Zahlen berechnen\"\n",
    "    \n",
    "    ergebnis = x ** 0.5\n",
    "\n",
    "    # Postcondition\n",
    "    assert ergebnis >= 0, \"Ergebnis sollte nicht-negativ sein\"\n",
    "    \n",
    "    return ergebnis\n",
    "\n",
    "print(berechne_quadratwurzel(16))  # 4.0\n",
    "# print(berechne_quadratwurzel(-4))  # AssertionError"
   ]
  },
  {
   "cell_type": "code",
   "execution_count": 37,
   "id": "e4ca8ae0",
   "metadata": {},
   "outputs": [
    {
     "name": "stdout",
     "output_type": "stream",
     "text": [
      "4.0\n"
     ]
    }
   ],
   "source": [
    "# Richtige Verwendung von Assertions:\n",
    "\n",
    "def berechne_quadratwurzel(x):\n",
    "    if not isinstance(x, (int, float)):\n",
    "        raise TypeError(\"x muss eine Zahl sein\")\n",
    "    if x < 0:\n",
    "        raise ValueError(\"Kann keine Quadratwurzel von negativen Zahlen berechnen\")\n",
    "    \n",
    "    ergebnis = x ** 0.5\n",
    "    \n",
    "    assert ergebnis >= 0  # Nachbedingung – hier ist ein AssertionError richtig!\n",
    "    return ergebnis\n",
    "\n",
    "print(berechne_quadratwurzel(16))  # 4.0\n",
    "# print(berechne_quadratwurzel(-4))  # ValueError\n",
    "# print(berechne_quadratwurzel(\"abc\"))  # TypeError"
   ]
  },
  {
   "cell_type": "markdown",
   "id": "2e323d2b",
   "metadata": {},
   "source": [
    "\n",
    "Diese Postcondition mag trivial erscheinen (natürlich ist die Wurzel positiv!), aber in komplexeren Funktionen können solche Checks subtile Bugs aufdecken.\n"
   ]
  },
  {
   "cell_type": "markdown",
   "id": "0fd4f069",
   "metadata": {},
   "source": [
    "---\n",
    "\n",
    "## Assertions in Pytest"
   ]
  },
  {
   "cell_type": "code",
   "execution_count": 1,
   "id": "29c44397",
   "metadata": {},
   "outputs": [],
   "source": [
    "def berechne_quadratwurzel(x):\n",
    "    if not isinstance(x, (int, float)):\n",
    "        raise TypeError(\"x muss eine Zahl sein\")\n",
    "    if x < 0:\n",
    "        raise ValueError(\"Kann keine Quadratwurzel von negativen Zahlen berechnen\")\n",
    "    \n",
    "    ergebnis = x ** 0.5\n",
    "    \n",
    "    assert ergebnis >= 0  # Nachbedingung – hier ist ein AssertionError richtig!\n",
    "    return ergebnis"
   ]
  },
  {
   "cell_type": "code",
   "execution_count": 2,
   "id": "c8c1c1d2",
   "metadata": {},
   "outputs": [],
   "source": [
    "import pytest\n",
    "\n",
    "def test_quadratwurzel_positive_zahlen():\n",
    "    assert berechne_quadratwurzel(9) == 3.0\n",
    "    assert berechne_quadratwurzel(0) == 0.0\n",
    "    assert berechne_quadratwurzel(1.44) == 1.2\n",
    "\n",
    "def test_quadratwurzel_typeerror():\n",
    "    for wert in [\"abc\", None, [4], {\"x\": 4}]:\n",
    "        with pytest.raises(TypeError):\n",
    "            berechne_quadratwurzel(wert)\n",
    "\n",
    "def test_quadratwurzel_valueerror():\n",
    "    with pytest.raises(ValueError):\n",
    "        berechne_quadratwurzel(-1)\n",
    "    with pytest.raises(ValueError):\n",
    "        berechne_quadratwurzel(-100.123)\n",
    "\n",
    "@pytest.mark.parametrize(\n",
    "    argnames=\"wert, erwartet\",\n",
    "    argvalues=[\n",
    "        (16, 4.0),\n",
    "        (25.0, 5.0),\n",
    "        (0.25, 0.5),\n",
    "        (10000, 100.0),\n",
    "    ]\n",
    ")\n",
    "def test_quadratwurzel_parametrized(wert, erwartet):\n",
    "    assert berechne_quadratwurzel(wert) == erwartet"
   ]
  },
  {
   "cell_type": "code",
   "execution_count": 3,
   "id": "c36011e9",
   "metadata": {},
   "outputs": [],
   "source": [
    "import ipytest\n",
    "ipytest.autoconfig()  # Automatische Konfiguration für Jupyter-Notebooks"
   ]
  },
  {
   "cell_type": "code",
   "execution_count": 4,
   "id": "d876360c",
   "metadata": {},
   "outputs": [
    {
     "name": "stdout",
     "output_type": "stream",
     "text": [
      "\u001b[1m======================================= test session starts =======================================\u001b[0m\n",
      "platform win32 -- Python 3.12.4, pytest-8.4.1, pluggy-1.6.0 -- c:\\Users\\Nils Schillmann\\Documents\\Sessions\\Python_Entwicklung\\.venv\\Scripts\\python.exe\n",
      "cachedir: .pytest_cache\n",
      "rootdir: c:\\Users\\Nils Schillmann\\Documents\\Sessions\\Python_Entwicklung\n",
      "configfile: pyproject.toml\n",
      "\u001b[1mcollecting ... \u001b[0mcollected 7 items\n",
      "\n",
      "t_fdde5f0510944bac8a7d892af22cfcb0.py::test_quadratwurzel_positive_zahlen \u001b[32mPASSED\u001b[0m\u001b[32m             [ 14%]\u001b[0m\n",
      "t_fdde5f0510944bac8a7d892af22cfcb0.py::test_quadratwurzel_typeerror \u001b[32mPASSED\u001b[0m\u001b[32m                   [ 28%]\u001b[0m\n",
      "t_fdde5f0510944bac8a7d892af22cfcb0.py::test_quadratwurzel_valueerror \u001b[32mPASSED\u001b[0m\u001b[32m                  [ 42%]\u001b[0m\n",
      "t_fdde5f0510944bac8a7d892af22cfcb0.py::test_quadratwurzel_parametrized[16-4.0] \u001b[32mPASSED\u001b[0m\u001b[32m        [ 57%]\u001b[0m\n",
      "t_fdde5f0510944bac8a7d892af22cfcb0.py::test_quadratwurzel_parametrized[25.0-5.0] \u001b[32mPASSED\u001b[0m\u001b[32m      [ 71%]\u001b[0m\n",
      "t_fdde5f0510944bac8a7d892af22cfcb0.py::test_quadratwurzel_parametrized[0.25-0.5] \u001b[32mPASSED\u001b[0m\u001b[32m      [ 85%]\u001b[0m\n",
      "t_fdde5f0510944bac8a7d892af22cfcb0.py::test_quadratwurzel_parametrized[10000-100.0] \u001b[32mPASSED\u001b[0m\u001b[32m   [100%]\u001b[0m\n",
      "\n",
      "\u001b[32m======================================== \u001b[32m\u001b[1m7 passed\u001b[0m\u001b[32m in 0.04s\u001b[0m\u001b[32m ========================================\u001b[0m\n"
     ]
    },
    {
     "data": {
      "text/plain": [
       "<ExitCode.OK: 0>"
      ]
     },
     "execution_count": 4,
     "metadata": {},
     "output_type": "execute_result"
    }
   ],
   "source": [
    "ipytest.run('-vv')  # Führt die Tests im aktuellen Notebook aus"
   ]
  }
 ],
 "metadata": {
  "kernelspec": {
   "display_name": "python-entwicklung",
   "language": "python",
   "name": "python3"
  },
  "language_info": {
   "codemirror_mode": {
    "name": "ipython",
    "version": 3
   },
   "file_extension": ".py",
   "mimetype": "text/x-python",
   "name": "python",
   "nbconvert_exporter": "python",
   "pygments_lexer": "ipython3",
   "version": "3.12.4"
  }
 },
 "nbformat": 4,
 "nbformat_minor": 5
}
