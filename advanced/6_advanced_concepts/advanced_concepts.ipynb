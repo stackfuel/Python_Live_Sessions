{
 "cells": [
  {
   "cell_type": "markdown",
   "id": "e2211c43",
   "metadata": {},
   "source": [
    "# Erweiterte Konzepte in Python\n",
    "\n",
    "## Dataclasses\n",
    "\n",
    "Dokumentation: [Dataclasses](https://docs.python.org/3/library/dataclasses.html)\n",
    "\n",
    "Dataclasses sind eine spezielle Art von Klassen in Python, die hauptsächlich zur Speicherung von Daten entwickelt wurden. Sie wurden in Python 3.7 eingeführt und bieten eine elegante Möglichkeit, Klassen zu erstellen, die primär dazu dienen, strukturierte Daten zu halten.\n",
    "Der große Vorteil von Dataclasses liegt darin, dass Python automatisch viele häufig benötigte Methoden für uns generiert, die wir sonst manuell schreiben müssten. Stellen Sie sich vor, Sie müssten für jede Datenklasse immer wieder die gleichen `__init__`, `__repr__` und `__eq__` Methoden schreiben - das wäre ziemlich mühsam und fehleranfällig."
   ]
  },
  {
   "cell_type": "code",
   "execution_count": null,
   "id": "9b384689",
   "metadata": {},
   "outputs": [],
   "source": [
    "from dataclasses import dataclass\n",
    "\n",
    "@dataclass\n",
    "class Person:\n",
    "    name: str\n",
    "    age: int\n",
    "    email: str\n",
    "\n",
    "# Dataclass automatically generates __init__, __repr__, and __eq__ methods\n",
    "p1 = Person(name=\"Alice\", age=30, email=\"alice@gmail.com\")\n",
    "p2 = Person(name=\"Bob\", age=25, email=\"bob@gmail.com\")\n",
    "\n"
   ]
  },
  {
   "cell_type": "code",
   "execution_count": null,
   "id": "21103503",
   "metadata": {},
   "outputs": [],
   "source": [
    "\n",
    "\n",
    "print(p1)\n",
    "print(p2)\n",
    "\n",
    "print(p1.name)\n",
    "print(p1.age)\n",
    "print(p1.email)\n",
    "\n",
    "print(f\"{p1 == p2 = }\")\n",
    "print(f\"{p1 == p1 = }\")\n",
    "\n",
    "p1.name = \"Alice Smith\"\n",
    "print(p1)\n"
   ]
  },
  {
   "cell_type": "markdown",
   "id": "7fbe6871",
   "metadata": {},
   "source": [
    "Dataclasses bieten jedoch weit mehr Flexibilität als die einfache Grundfunktionalität. Mit zusätzlichen Parametern und speziellen Funktionen können wir das Verhalten unserer Datenklassen präzise steuern.\n",
    "\n",
    "Der Parameter `order=True` ermöglicht es, dass Python automatisch Vergleichsoperatoren (`<`, `>`, `<=`, `>=`) für unsere Klasse generiert. Dadurch können wir Instanzen der Klasse sortieren. Mit `frozen=True` machen wir die Dataclass unveränderlich (immutable) - nach der Erstellung können die Attribute nicht mehr verändert werden.\n",
    "\n",
    "Die `field()` Funktion gibt uns feine Kontrolle über einzelne Attribute. Mit `compare=False` können wir bestimmte Felder von Vergleichsoperationen ausschließen, `default=None` setzt Standardwerte, und `repr=False` verhindert, dass ein Attribut in der String-Darstellung erscheint.\n",
    "\n",
    "Besonders mächtig ist die `__post_init__` Methode, die automatisch nach der Initialisierung aufgerufen wird. Hier können wir Validierungen durchführen, berechnete Werte setzen oder andere Nachbearbeitungen vornehmen. Bei frozen Dataclasses müssen wir `object.__setattr__()` verwenden, um Attribute zu ändern."
   ]
  },
  {
   "cell_type": "code",
   "execution_count": null,
   "id": "8c0052e6",
   "metadata": {},
   "outputs": [],
   "source": [
    "from dataclasses import dataclass, field\n",
    "from typing import Optional\n",
    "\n",
    "@dataclass(order=True, frozen=True)\n",
    "class Person:\n",
    "    name: str = field(compare=False)\n",
    "    age: int\n",
    "    email: Optional[str] = field(compare=False, default=None, repr=False)\n",
    "    \n",
    "    def __post_init__(self):\n",
    "        if self.age < 0:\n",
    "            raise ValueError(\"Age cannot be negative\")\n",
    "        \n",
    "        if not self.email:\n",
    "            # self.email = \"No email provided\"                      # This will raise an error because the dataclass is frozen\n",
    "            object.__setattr__(self, 'email', \"No email provided\")  # This is how you can set a default value for a frozen dataclass\n",
    "            # The Better way to handle this is to use a default value in the field definition\n",
    "            \n",
    "        print(f\"Created Person: {self.name}, Age: {self.age}, Email: {self.email}\")\n",
    "        \n",
    "    # You can add methods to the dataclass\n",
    "    @property\n",
    "    def is_adult(self) -> bool:\n",
    "        return self.age >= 18\n",
    "    \n",
    "    \n",
    "persons = (\n",
    "    Person(name=\"Alice\", age=12),\n",
    "    Person(name=\"Bob\", age=45, email=\"bobthemaster@gmx.de\"),\n",
    "    Person(name=\"Charlie\", age=18, email=\"charlie@gmail.com\"),\n",
    "    Person(name=\"Alice\", age=32),\n",
    "    Person(name=\"Tim\", age=10)\n",
    ")\n",
    "\n"
   ]
  },
  {
   "cell_type": "code",
   "execution_count": null,
   "id": "abe7264a",
   "metadata": {},
   "outputs": [],
   "source": [
    "\n",
    "print(\"\\n\"*3)\n",
    "print(\"Persons sorted by age:\")\n",
    "for person in sorted(persons):\n",
    "    print(person)\n",
    "    \n",
    "\n",
    "print(\"\\n\"*3)\n",
    "print(\"Only adults:\")\n",
    "print([person for person in persons if person.is_adult])\n",
    "\n",
    "#persons[0].name = \"Alice Smith\"  # This will raise an error because the dataclass is frozen"
   ]
  },
  {
   "cell_type": "markdown",
   "id": "7a9e6bbe",
   "metadata": {},
   "source": [
    "### Warum Dataclasses verwenden?\n",
    "Dataclasses bieten mehrere wichtige Vorteile gegenüber herkömmlichen Klassen:\n",
    "- Weniger Code schreiben: Sie müssen nicht immer wieder die gleichen Standardmethoden implementieren.\n",
    "- Bessere Lesbarkeit: Der Code wird klarer und fokussiert sich auf die eigentlichen Daten.\n",
    "- Typsicherheit: Durch die Verwendung von Type Hints wird der Code robuster und besser dokumentiert.\n",
    "- Automatische Funktionalität: Vergleiche, String-Repräsentationen und Hashing funktionieren automatisch.\n",
    "\n",
    "### Wann sollten Sie Dataclasses verwenden?\n",
    "Dataclasses sind ideal für Situationen, in denen Sie:\n",
    "\n",
    "- Strukturierte Daten speichern möchten\n",
    "- Klassen benötigen, die hauptsächlich als Datencontainer fungieren\n",
    "- Schnell und sauber Datenstrukturen definieren möchten\n",
    "- Von automatisch generierten Methoden profitieren möchten\n",
    "- Sie sind weniger geeignet für komplexe Klassen mit viel Geschäftslogik oder wenn Sie vollständige Kontrolle über die Implementierung aller Methoden benötigen.\n",
    "\n",
    "### Zusammenfassung\n",
    "Dataclasses sind ein mächtiges Werkzeug in Python, das die Erstellung von datenorientierten Klassen erheblich vereinfacht. Sie reduzieren Boilerplate-Code, verbessern die Lesbarkeit und bieten gleichzeitig robuste Funktionalität. Für die meisten Anwendungsfälle, in denen Sie strukturierte Daten verwalten müssen, sind Dataclasses die eleganteste Lösung.\n",
    "\n"
   ]
  },
  {
   "cell_type": "markdown",
   "id": "ab3c1207",
   "metadata": {},
   "source": [
    "## Enums\n",
    "\n",
    "Dokumentation: [Enums](https://docs.python.org/3/library/enum.html)\n",
    "\n",
    "Enums (Enumerationen) sind eine spezielle Klasse in Python, die es ermöglicht, eine Gruppe von konstanten Werten zu definieren. Sie sind besonders nützlich, wenn Sie eine feste Menge von Werten benötigen, die klar benannt und voneinander unterschieden werden können. Enums verbessern die Lesbarkeit des Codes und verhindern Fehler, die durch die Verwendung von \"magischen Zahlen\" oder Strings entstehen könnten.\n"
   ]
  },
  {
   "cell_type": "code",
   "execution_count": null,
   "id": "2443980a",
   "metadata": {},
   "outputs": [],
   "source": [
    "def buy_shirt(color: str, size: str):\n",
    "    valid_colors = ['red', 'green', 'blue']\n",
    "    valid_sizes = ['S', 'M', 'L', 'XL']\n",
    "\n",
    "    if color not in valid_colors:\n",
    "        raise ValueError(f\"Invalid color: {color}. Valid options are: {valid_colors}\")\n",
    "\n",
    "    if size not in valid_sizes:\n",
    "        raise ValueError(f\"Invalid size: {size}. Valid options are: {valid_sizes}\")\n",
    "\n",
    "    print(f\"Buying a {color} shirt in size {size}.\")\n",
    "\n"
   ]
  },
  {
   "cell_type": "code",
   "execution_count": null,
   "id": "b8da7411",
   "metadata": {},
   "outputs": [],
   "source": [
    "\n",
    "try:\n",
    "    buy_shirt('red', 'M')  # Gültiger Aufruf\n",
    "    buy_shirt('yellow', 'M')  # Ungültiger Aufruf\n",
    "except ValueError as e:\n",
    "    print(e)"
   ]
  },
  {
   "cell_type": "markdown",
   "id": "2d948a4d",
   "metadata": {},
   "source": [
    "Die Verwendung von einfachen Strings für Parameter wie `color` und `size` bringt mehrere Probleme mit sich. Erstens gibt es keine Typsicherheit - der Entwickler könnte versehentlich `'Red'` statt `'red'` schreiben oder sich bei der Groß-/Kleinschreibung vertun. Zweitens sind die gültigen Werte nicht sofort ersichtlich, ohne den Code zu lesen oder die Dokumentation zu konsultieren. Drittens bieten moderne IDEs keine Autovervollständigung für diese String-Werte an, was zu Tippfehlern führen kann.\n",
    "\n",
    "Darüber hinaus ist die Wartung problematisch: Wenn neue Farben oder Größen hinzugefügt werden sollen, müssen die Listen im Code aktualisiert werden, und es besteht die Gefahr, dass diese an verschiedenen Stellen im Code inkonsistent werden. Bei größeren Projekten können solche \"magischen Strings\" schnell zu schwer auffindbaren Fehlern führen.\n",
    "\n",
    "Enum-Klassen lösen diese Probleme elegant: Sie definieren eine feste Menge von benannten Konstanten, die typsicher sind und von der IDE unterstützt werden. Ungültige Werte werden bereits zur Laufzeit abgefangen, und die verfügbaren Optionen sind klar definiert und dokumentiert."
   ]
  },
  {
   "cell_type": "code",
   "execution_count": null,
   "id": "d80c1c95",
   "metadata": {},
   "outputs": [],
   "source": [
    "from enum import Enum\n",
    "\n",
    "class Color(Enum):\n",
    "    RED = 'red'\n",
    "    GREEN = 'green'\n",
    "    BLUE = 'blue'\n",
    "\n",
    "class Size(Enum):\n",
    "    S = 'S'\n",
    "    M = 'M'\n",
    "    L = 'L'\n",
    "    XL = 'XL'\n",
    "\n",
    "def buy_shirt_enum(color: Color, size: Size):\n",
    "    print(f\"Buying a {color.value} shirt in size {size.value}.\")\n",
    "\n"
   ]
  },
  {
   "cell_type": "code",
   "execution_count": null,
   "id": "74750157",
   "metadata": {},
   "outputs": [],
   "source": [
    "\n",
    "try:\n",
    "    buy_shirt_enum(Color.RED, Size.M)  # Gültiger Aufruf\n",
    "    buy_shirt_enum(Color('yellow'), Size.M)  # Ungültiger Aufruf\n",
    "except ValueError as e:\n",
    "    print(e)"
   ]
  },
  {
   "cell_type": "markdown",
   "id": "eeeb38b4",
   "metadata": {},
   "source": [
    "Neben den einfachen Enums gibt es auch spezialisierte Varianten für bestimmte Anwendungsfälle. Eine besonders mächtige Variante ist das `Flag` Enum, das für Situationen entwickelt wurde, in denen mehrere Werte gleichzeitig aktiv sein können - wie bei Berechtigungen, Zuständen oder Optionen.\n",
    "\n",
    "Das `Flag` Enum unterscheidet sich von normalen Enums dadurch, dass seine Werte mit bitweisen Operatoren (`|`, `&`, `^`) kombiniert werden können. Jeder Enum-Wert repräsentiert eine Zweierpotenz (1, 2, 4, 8, ...), wodurch sie sich perfekt für Bitmasken eignen.\n",
    "\n",
    "Die `auto()` Funktion ist dabei besonders praktisch: Sie weist automatisch passende Werte zu, ohne dass wir uns Gedanken über die konkrete Zahlenzuweisung machen müssen. Bei Flag Enums sorgt `auto()` dafür, dass jeder Wert eine eindeutige Zweierpotenz erhält, was für die bitweise Verknüpfung erforderlich ist.\n",
    "\n",
    "Diese Kombination aus Flag Enum und `auto()` ermöglicht es, elegante und typsichere Lösungen für komplexe Berechtigungssysteme oder Konfigurationsoptionen zu erstellen, bei denen mehrere Eigenschaften gleichzeitig aktiv sein können."
   ]
  },
  {
   "cell_type": "code",
   "execution_count": null,
   "id": "82509c5a",
   "metadata": {},
   "outputs": [],
   "source": [
    "from enum import Flag, auto\n",
    "\n",
    "class Berechtigung(Flag):\n",
    "    LESEN = auto()\n",
    "    SCHREIBEN = auto()\n",
    "    AUSFUEHREN = auto()\n",
    "    LOESCHEN = auto()\n",
    "\n",
    "# Berechtigungen können kombiniert werden:\n",
    "user_rechte = Berechtigung.LESEN | Berechtigung.SCHREIBEN\n",
    "admin_rechte = Berechtigung.LESEN | Berechtigung.SCHREIBEN | Berechtigung.AUSFUEHREN | Berechtigung.LOESCHEN\n",
    "\n",
    "\n",
    "print(f\"{Berechtigung.LESEN = }\")\n",
    "print(f\"{Berechtigung.SCHREIBEN = }\")\n",
    "print(f\"{Berechtigung.AUSFUEHREN = }\")\n",
    "print(f\"{Berechtigung.LOESCHEN = }\")\n",
    "print(f\"{user_rechte = }\")  # Berechtigung.LESEN | Berechtigung.SCHREIBEN\n",
    "print(f\"{admin_rechte = }\")  # Berechtigung.LESEN | Berechtigung.SCHREIBEN | Berechtigung.AUSFUEHREN | Berechtigung.LOESCHEN\n",
    "\n",
    "\n"
   ]
  },
  {
   "cell_type": "code",
   "execution_count": null,
   "id": "0ddfa0cd",
   "metadata": {},
   "outputs": [],
   "source": [
    "\n",
    "# Überprüfung von Berechtigungen:\n",
    "def kann_datei_bearbeiten(rechte: Berechtigung) -> bool:\n",
    "    \"\"\"Prüft, ob die Rechte zum Bearbeiten einer Datei ausreichen\"\"\"\n",
    "    erforderliche_rechte = Berechtigung.LESEN | Berechtigung.SCHREIBEN\n",
    "    return (rechte & erforderliche_rechte) == erforderliche_rechte\n",
    "\n",
    "print(kann_datei_bearbeiten(user_rechte))   # True\n",
    "print(kann_datei_bearbeiten(Berechtigung.LESEN))  # False\n",
    "print(kann_datei_bearbeiten(admin_rechte))  # True\n",
    "\n",
    "print(f\"{Berechtigung.LESEN in user_rechte = }\")\n",
    "print(f\"{Berechtigung.AUSFUEHREN in user_rechte = }\")"
   ]
  },
  {
   "cell_type": "markdown",
   "id": "4814bdc8",
   "metadata": {},
   "source": [
    "Eine weitere nützliche Variante ist das `IntFlag` Enum, das die Funktionalität von Flag Enums mit den Eigenschaften von Integern kombiniert. Der entscheidende Unterschied liegt darin, dass `IntFlag` Werte direkt mit Ganzzahlen verglichen und sortiert werden können, da sie sich wie normale Integer verhalten.\n",
    "\n",
    "`IntFlag` eignet sich besonders gut für Situationen, in denen Sie sowohl die Kombinierbarkeit von Flags als auch die natürliche Ordnung von Zahlen benötigen. Dadurch können Sie nicht nur prüfen, ob bestimmte Flags gesetzt sind, sondern auch die Enum-Werte sortieren oder direkt mit Zahlen vergleichen.\n",
    "\n",
    "Die Zugriffsmöglichkeiten sind vielfältig: Sie können über den Namen (`Weekday.MONDAY`), den Wert (`Weekday(1)`) oder sogar über String-Indizierung (`Weekday[\"MONDAY\"]`) auf die Enum-Werte zugreifen. Die Kombination mit bitweisen Operatoren bleibt dabei vollständig erhalten."
   ]
  },
  {
   "cell_type": "code",
   "execution_count": null,
   "id": "27935223",
   "metadata": {},
   "outputs": [],
   "source": [
    "from enum import IntFlag, auto\n",
    "\n",
    "class Weekday(IntFlag):\n",
    "    MONDAY = auto()\n",
    "    TUESDAY = auto()\n",
    "    WEDNESDAY = auto()\n",
    "    THURSDAY = auto()\n",
    "    FRIDAY = auto()\n",
    "    SATURDAY = auto()\n",
    "    SUNDAY = auto()\n"
   ]
  },
  {
   "cell_type": "code",
   "execution_count": null,
   "id": "4bf21414",
   "metadata": {},
   "outputs": [],
   "source": [
    "\n",
    "print(Weekday.MONDAY)\n",
    "print(Weekday.TUESDAY.name)\n",
    "print(Weekday.WEDNESDAY.value)\n",
    "\n",
    "print(Weekday(1))\n",
    "print(Weekday[\"MONDAY\"])\n",
    "\n"
   ]
  },
  {
   "cell_type": "code",
   "execution_count": null,
   "id": "9bab924b",
   "metadata": {},
   "outputs": [],
   "source": [
    "\n",
    "print(Weekday.MONDAY == Weekday.TUESDAY)  # False\n",
    "print(Weekday.MONDAY == Weekday.MONDAY)  # True\n",
    "print(f\"{Weekday.MONDAY < Weekday.TUESDAY = }\")  # True\n",
    "print(f\"{Weekday.MONDAY > Weekday.TUESDAY = }\")  # False\n"
   ]
  },
  {
   "cell_type": "code",
   "execution_count": null,
   "id": "10d54150",
   "metadata": {},
   "outputs": [],
   "source": [
    "\n",
    "print(sorted(\n",
    "    [Weekday.MONDAY, \n",
    "    Weekday.WEDNESDAY, \n",
    "    Weekday.TUESDAY, \n",
    "    Weekday.FRIDAY, \n",
    "    Weekday.THURSDAY, \n",
    "    Weekday.SATURDAY]\n",
    "    \n",
    "))\n",
    "\n",
    "weekend = Weekday.SATURDAY | Weekday.SUNDAY\n",
    "Weekday.SATURDAY in weekend  # True\n",
    "Weekday.MONDAY in weekend  # False\n",
    "\n",
    "\n",
    "\n"
   ]
  },
  {
   "cell_type": "markdown",
   "id": "92f7768d",
   "metadata": {},
   "source": [
    "Die Kombination von Dataclasses und Enums zeigt die wahre Stärke beider Konzepte: Während Dataclasses eine saubere Struktur für Datenklassen bieten, sorgen Enums für typsichere und aussagekräftige Konstanten. Zusammen ergeben sie eine elegante Lösung für datenorientierte Klassen mit kontrollierten Zuständen.\n",
    "\n",
    "In diesem Beispiel nutzen wir ein Enum als Typ-Annotation für ein Dataclass-Attribut und definieren gleichzeitig einen Standardwert. Dies bietet mehrere Vorteile: Der Code wird selbstdokumentierend, da die möglichen Status-Werte klar ersichtlich sind. IDEs können Autovervollständigung anbieten und Typfehler bereits vor der Laufzeit erkennen. Darüber hinaus verhindert das Enum ungültige Zuweisungen - es ist unmöglich, versehentlich einen String wie \"active\" statt \"aktiv\" zu verwenden.\n",
    "\n",
    "Die Methoden der Dataclass können das Enum für Zustandsübergänge und -validierungen nutzen, wodurch die Geschäftslogik klar und wartbar wird. Diese Kombination ist besonders wertvoll bei komplexeren Domänenmodellen, wo sowohl strukturierte Daten als auch kontrollierte Zustände wichtig sind."
   ]
  },
  {
   "cell_type": "code",
   "execution_count": null,
   "id": "2a72cc20",
   "metadata": {},
   "outputs": [],
   "source": [
    "from enum import Enum\n",
    "from dataclasses import dataclass\n",
    "from typing import Optional\n",
    "\n",
    "class Status(Enum):\n",
    "    AKTIV = \"aktiv\"\n",
    "    INAKTIV = \"inaktiv\"\n",
    "    GESPERRT = \"gesperrt\"\n",
    "\n",
    "@dataclass\n",
    "class Benutzer:\n",
    "    name: str\n",
    "    email: str\n",
    "    status: Status = Status.AKTIV  # Enum als Typ-Annotation und Standardwert\n",
    "    \n",
    "    def aktivieren(self):\n",
    "        \"\"\"Aktiviert den Benutzer, wenn er inaktiv oder gesperrt ist\"\"\"\n",
    "        if self.status in [Status.INAKTIV, Status.GESPERRT]:\n",
    "            self.status = Status.AKTIV\n",
    "            print(f\"{self.name} wurde aktiviert\")\n",
    "        else:\n",
    "            print(f\"{self.name} ist bereits aktiv\")\n",
    "\n"
   ]
  },
  {
   "cell_type": "code",
   "execution_count": null,
   "id": "c82840d1",
   "metadata": {},
   "outputs": [],
   "source": [
    "\n",
    "benutzer = Benutzer(\"Max Mustermann\", \"max@example.com\", Status.INAKTIV)\n",
    "benutzer.aktivieren()  # Max Mustermann wurde aktiviert\n",
    "benutzer.aktivieren()"
   ]
  },
  {
   "cell_type": "markdown",
   "id": "49a3e4dc",
   "metadata": {},
   "source": [
    "### Zusammenfassung\n",
    "Enums sind ein mächtiges Werkzeug, das Ihren Python-Code robuster, lesbarer und wartbarer macht. Sie bieten eine elegante Lösung für das häufige Problem, zusammengehörige Konstanten zu verwalten. Durch die verschiedenen Enum-Typen (Enum, IntEnum, Flag) können Sie das Verhalten genau an Ihre Bedürfnisse anpassen.\n"
   ]
  },
  {
   "cell_type": "markdown",
   "id": "37b4f5f7",
   "metadata": {},
   "source": [
    "## Collections\n",
    "\n",
    "Dokumentation: [Collections](https://docs.python.org/3/library/collections.html)\n",
    "\n",
    "Die `collections`-Bibliothek in Python bietet spezialisierte Container-Datentypen, die über die eingebauten Datentypen wie Listen, Tupel und Dictionaries hinausgehen. Diese erweiterten Datentypen sind optimiert für bestimmte Anwendungsfälle und bieten zusätzliche Funktionalitäten, die die Arbeit mit Datenstrukturen erleichtern."
   ]
  },
  {
   "cell_type": "markdown",
   "id": "f5140292",
   "metadata": {},
   "source": [
    "### `NamedTuple`\n",
    "\n",
    "`NamedTuple` wird verwendet, um tuple-ähnliche Objekte mit benannten Feldern zu erstellen. Es kombiniert die Effizienz und Unveränderlichkeit von Tupeln mit einer verbesserten Lesbarkeit durch benannte Attribute."
   ]
  },
  {
   "cell_type": "code",
   "execution_count": null,
   "id": "416cdf72",
   "metadata": {},
   "outputs": [],
   "source": [
    "person = ('Alice', 30, 'Engineer')  # Name, Alter, Beruf\n",
    "print(f\"Name: {person[0]}, Age: {person[1]}, Job: {person[2]}\")"
   ]
  },
  {
   "cell_type": "code",
   "execution_count": null,
   "id": "9ba783f7",
   "metadata": {},
   "outputs": [],
   "source": [
    "from collections import namedtuple\n",
    "\n",
    "Person = namedtuple('Person', ['name', 'age', 'job'])\n"
   ]
  },
  {
   "cell_type": "code",
   "execution_count": null,
   "id": "3df72d64",
   "metadata": {},
   "outputs": [],
   "source": [
    "\n",
    "person = Person(name='Alice', age=30, job='Engineer')\n",
    "print(f\"Name: {person.name}, Age: {person.age}, Job: {person.job}\")\n",
    "print(f\"{person = }\")\n",
    "print(f\"{person[0] = }, {person[1] = }, {person[2] = }\") # Accessing by index\n",
    "print(f\"{person._asdict() = }\")  # Convert to dictionary\n",
    "print(f\"{type(person) = }\")  # Type of the namedtuple\n",
    "print(f\"{isinstance(person, tuple) = }\") # namedtuple is a subclass of tuple\n",
    "print(f\"{Person.mro() = }\")"
   ]
  },
  {
   "cell_type": "markdown",
   "id": "2fb13f71",
   "metadata": {},
   "source": [
    "\n",
    "### `defaultdict`\n",
    "\n",
    "Ein `defaultdict` ist eine Erweiterung des normalen Dictionaries, das automatisch eine Standardwertfunktion aufruft, wenn auf einen fehlenden Schlüssel zugegriffen wird. Dies kann das handhaben von Schlüssel-Fehlern vereinfachen und den Code sauberer machen.\n"
   ]
  },
  {
   "cell_type": "code",
   "execution_count": null,
   "id": "2b8b46e8",
   "metadata": {},
   "outputs": [],
   "source": [
    "\n",
    "word_counts = {}\n",
    "words = ['apple', 'banana', 'apple', 'orange', 'banana', 'banana']\n",
    "\n",
    "for word in words:\n",
    "    if word in word_counts:\n",
    "        word_counts[word] += 1\n",
    "    else:\n",
    "        word_counts[word] = 1\n",
    "\n",
    "print(word_counts)\n"
   ]
  },
  {
   "cell_type": "code",
   "execution_count": null,
   "id": "d6078268",
   "metadata": {},
   "outputs": [],
   "source": [
    "from collections import defaultdict\n",
    "\n",
    "word_counts = defaultdict(int)\n",
    "words = ['apple', 'banana', 'apple', 'orange', 'banana', 'banana']\n",
    "\n",
    "for word in words:\n",
    "    word_counts[word] += 1\n",
    "\n",
    "print(word_counts)\n"
   ]
  },
  {
   "cell_type": "markdown",
   "id": "cc7b933e",
   "metadata": {},
   "source": [
    "### `Counter`\n",
    "\n",
    "`Counter` ist ein spezieller Typ von Dictionary, der hauptsächlich für das Zählen von Hash-Objekten geeignet ist. Er vereinfacht das Berechnen der Frequenz von Elementen in einer Sammlung stark.\n",
    "\n"
   ]
  },
  {
   "cell_type": "code",
   "execution_count": null,
   "id": "53332584",
   "metadata": {},
   "outputs": [],
   "source": [
    "\n",
    "word_counts = {}\n",
    "words = ['apple', 'banana', 'apple', 'orange', 'banana', 'banana']\n",
    "\n",
    "for word in words:\n",
    "    if word in word_counts:\n",
    "        word_counts[word] += 1\n",
    "    else:\n",
    "        word_counts[word] = 1\n",
    "\n",
    "print(word_counts)\n",
    "\n"
   ]
  },
  {
   "cell_type": "code",
   "execution_count": null,
   "id": "4d939553",
   "metadata": {},
   "outputs": [],
   "source": [
    "from collections import Counter\n",
    "\n",
    "words = ['apple', 'banana', 'apple', 'orange', 'banana', 'banana']\n",
    "word_counts = Counter(words)\n",
    "\n",
    "print(word_counts)\n"
   ]
  },
  {
   "cell_type": "markdown",
   "id": "dade8a4c",
   "metadata": {},
   "source": [
    "\n",
    "### Vorteile der Verwendung von `NamedTuple`, `defaultdict` und `Counter`:\n",
    "\n",
    "- **`NamedTuple`**: Verbessert die Lesbarkeit und Verständlichkeit, während die Effizienz von Tupel beibehalten wird.\n",
    "- **`defaultdict`**: Reduziert die Notwendigkeit für existierende Schlüsselprüfungen und initialisiert automatisch Werte.\n",
    "- **`Counter`**: Bietet eine einfache und klare Möglichkeit, die Häufigkeit von Elementen zu ermitteln, ohne zusätzlichen Code zum Zählen selbst schreiben zu müssen.\n",
    "\n",
    "Diese spezialisierteren Datentypen sind besonders nützlich, um den Code sauberer, effizienter und weniger anfällig für Fehler zu gestalten."
   ]
  }
 ],
 "metadata": {
  "kernelspec": {
   "display_name": "python-entwicklung",
   "language": "python",
   "name": "python3"
  },
  "language_info": {
   "codemirror_mode": {
    "name": "ipython",
    "version": 3
   },
   "file_extension": ".py",
   "mimetype": "text/x-python",
   "name": "python",
   "nbconvert_exporter": "python",
   "pygments_lexer": "ipython3",
   "version": "3.12.4"
  }
 },
 "nbformat": 4,
 "nbformat_minor": 5
}
