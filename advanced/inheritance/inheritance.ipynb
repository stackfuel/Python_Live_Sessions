{
 "cells": [
  {
   "cell_type": "code",
   "execution_count": 1,
   "id": "96e92010",
   "metadata": {},
   "outputs": [],
   "source": [
    "# from vector import Vector\n",
    "import inspect\n",
    "from IPython.display import Code\n",
    "\n",
    "# This cell is used to set the autoreload extension for Jupyter notebooks.\n",
    "# It allows for automatic reloading of modules when they are modified.\n",
    "%load_ext autoreload\n",
    "%autoreload 2"
   ]
  },
  {
   "cell_type": "markdown",
   "id": "31301411",
   "metadata": {},
   "source": [
    "# Vererbung in Python\n",
    "\n",
    "Die Vererbung ist eines der fundamentalen Konzepte der objektorientierten Programmierung und ermöglicht es, neue Klassen basierend auf bereits existierenden Klassen zu erstellen. In Python ist Vererbung ein mächtiges Werkzeug, das Code-Wiederverwendung fördert und hierarchische Beziehungen zwischen Objekten modelliert. Gleichzeitig bringt sie jedoch auch Komplexitäten mit sich, die sorgfältig verstanden und verwaltet werden müssen.\n",
    "Durch Vererbung kann eine Klasse (die \"Kindklasse\" oder \"Unterklasse\") Attribute und Methoden von einer anderen Klasse (der \"Elternklasse\" oder \"Oberklasse\") übernehmen. Dies ermöglicht es, gemeinsame Funktionalitäten in einer Basisklasse zu definieren und in spezialisierten Klassen zu erweitern oder zu modifizieren."
   ]
  },
  {
   "cell_type": "markdown",
   "id": "ec4aece0",
   "metadata": {},
   "source": [
    "## Lineare Vererbung\n",
    "\n",
    "Die einfachste Form der Vererbung ist die lineare oder einfache Vererbung, bei der eine Klasse von genau einer Elternklasse erbt. Dies schafft eine klare hierarchische Struktur, die leicht zu verstehen und zu verwalten ist."
   ]
  },
  {
   "cell_type": "code",
   "execution_count": 2,
   "id": "588a3372",
   "metadata": {},
   "outputs": [],
   "source": [
    "# Basisklasse A\n",
    "class A:\n",
    "    x = \"A_x\"  # Klassenattribut\n",
    "    \n",
    "    def m1(self):\n",
    "        return \"A.m1()\"\n",
    "\n",
    "# Klasse B erbt von A\n",
    "class B(A):\n",
    "    y = \"B_y\"  # Neues Klassenattribut\n",
    "    \n",
    "    def m2(self):\n",
    "        return \"B.m2()\"\n",
    "\n",
    "# Klasse C erbt von B und überschreibt Attribute/Methoden\n",
    "class C(B):\n",
    "    z = \"C_z\"  # Neues Klassenattribut\n",
    "    \n",
    "    def m1(self):  # Überschreibt m1 von A\n",
    "        return \"C.m1()\"\n",
    "    \n",
    "    def m3(self):\n",
    "        return \"C.m3()\"\n",
    "        \n"
   ]
  },
  {
   "cell_type": "code",
   "execution_count": 3,
   "id": "aefea7b8",
   "metadata": {},
   "outputs": [
    {
     "name": "stdout",
     "output_type": "stream",
     "text": [
      "=== Klasse A ===\n",
      "a.x = A_x\n",
      "a.m1() = A.m1()\n",
      "\n",
      "=== Klasse B ===\n",
      "b.x = A_x\n",
      "b.y = B_y\n",
      "b.m1() = A.m1()\n",
      "b.m2() = B.m2()\n",
      "\n",
      "=== Klasse C ===\n",
      "c.x = A_x\n",
      "c.y = B_y\n",
      "c.z = C_z\n",
      "c.m1() = C.m1()\n",
      "c.m2() = B.m2()\n",
      "c.m3() = C.m3()\n"
     ]
    }
   ],
   "source": [
    "# Demonstration\n",
    "print(\"=== Klasse A ===\")\n",
    "a = A()\n",
    "print(f\"a.x = {a.x}\")\n",
    "print(f\"a.m1() = {a.m1()}\")\n",
    "\n",
    "print(\"\\n=== Klasse B ===\")\n",
    "b = B()\n",
    "print(f\"b.x = {b.x}\")  # Geerbt von A\n",
    "print(f\"b.y = {b.y}\")  # Eigenes Attribut\n",
    "print(f\"b.m1() = {b.m1()}\")  # Geerbt von A\n",
    "print(f\"b.m2() = {b.m2()}\")  # Eigene Methode\n",
    "\n",
    "print(\"\\n=== Klasse C ===\")\n",
    "c = C()\n",
    "print(f\"c.x = {c.x}\")  # Überschrieben\n",
    "print(f\"c.y = {c.y}\")  # Geerbt von B\n",
    "print(f\"c.z = {c.z}\")  # Eigenes Attribut\n",
    "print(f\"c.m1() = {c.m1()}\")  # Überschrieben\n",
    "print(f\"c.m2() = {c.m2()}\")  # Geerbt von B\n",
    "print(f\"c.m3() = {c.m3()}\")  # Eigene Methode\n"
   ]
  },
  {
   "cell_type": "markdown",
   "id": "23ae10f9",
   "metadata": {},
   "source": [
    "### Vererbungshierarchie verstehen\n",
    "\n",
    "Python bietet einige nützliche Attribute, um die Vererbungsstruktur zu untersuchen:"
   ]
  },
  {
   "cell_type": "code",
   "execution_count": 6,
   "id": "136d31af",
   "metadata": {},
   "outputs": [
    {
     "name": "stdout",
     "output_type": "stream",
     "text": [
      "\n",
      "=== Basisklassen ===\n",
      "C.__bases__ = (<class '__main__.B'>,)\n",
      "\n",
      "=== Method Resolution Order (MRO) ===\n",
      "C.mro() = [<class '__main__.C'>, <class '__main__.B'>, <class '__main__.A'>, <class 'object'>]\n"
     ]
    }
   ],
   "source": [
    "\n",
    "print(\"\\n=== Basisklassen ===\")\n",
    "print(f\"C.__bases__ = {C.__bases__}\")  # Zeigt die Basisklassen von C\n",
    "\n",
    "print(\"\\n=== Method Resolution Order (MRO) ===\")\n",
    "print(f\"C.mro() = {C.mro()}\")  # Zeigt die Auflösungsreihenfolge\n",
    "\n"
   ]
  },
  {
   "cell_type": "markdown",
   "id": "f5ef25f9",
   "metadata": {},
   "source": [
    "In Python ist alles ein Objekt von einem bestimmten Typ. Die `type()`-Funktion gibt den Typ eines Objekts zurück, und die `isinstance()`-Funktion prüft, ob ein Objekt eine Instanz eines bestimmten Typs ist.\n",
    "\n",
    "Das Objekt `c` ist vom Typ `C` da es ein direktes Objekt der Klasse `C` ist. Die Klasse `C` erbt von der Klasse `B`, die wiederum von der Klasse `A` erbt. Dies bedeutet, dass `c` auch eine Instanz von `B` und `A` ist."
   ]
  },
  {
   "cell_type": "code",
   "execution_count": 7,
   "id": "178dad98",
   "metadata": {},
   "outputs": [
    {
     "name": "stdout",
     "output_type": "stream",
     "text": [
      "\n",
      "=== Typen und Instanzen ===\n",
      "type(c) = <class '__main__.C'>\n",
      "isinstance(c, C) = True\n",
      "isinstance(c, B) = True\n",
      "isinstance(c, A) = True\n"
     ]
    }
   ],
   "source": [
    "print(\"\\n=== Typen und Instanzen ===\")\n",
    "print(f\"type(c) = {type(c)}\")\n",
    "print(f\"isinstance(c, C) = {isinstance(c, C)}\")  # c ist eine Instanz von C\n",
    "print(f\"isinstance(c, B) = {isinstance(c, B)}\")\n",
    "print(f\"isinstance(c, A) = {isinstance(c, A)}\")"
   ]
  },
  {
   "cell_type": "markdown",
   "id": "e21d5d1b",
   "metadata": {},
   "source": [
    "Python hat eine Basisklasse `object`, von der alle Klassen erben. Dies bedeutet, dass jede Klasse in Python eine Hierarchie hat, die letztendlich auf `object` zurückgeht."
   ]
  },
  {
   "cell_type": "code",
   "execution_count": 8,
   "id": "3ef89b9e",
   "metadata": {},
   "outputs": [
    {
     "name": "stdout",
     "output_type": "stream",
     "text": [
      "isinstance(c, object) = True\n",
      "isinstance(5, object) = True\n",
      "isinstance('Hello', object) = True\n",
      "\n",
      "=== Basisklasse object ===\n",
      "object.__bases__ = ()\n"
     ]
    }
   ],
   "source": [
    "print(f\"isinstance(c, object) = {isinstance(c, object)}\")  # c ist eine Instanz von object\n",
    "print(f\"isinstance(5, object) = {isinstance(5, object)}\")  # 5 ist eine Instanz von object\n",
    "print(f\"isinstance('Hello', object) = {isinstance('Hello', object)}\")  # 'Hello' ist eine Instanz von object\n",
    "\n",
    "print(\"\\n=== Basisklasse object ===\")\n",
    "print(f\"object.__bases__ = {object.__bases__}\")"
   ]
  },
  {
   "cell_type": "markdown",
   "id": "1d0f4484",
   "metadata": {},
   "source": [
    "Die lineare Vererbung ist intuitiv und folgt einer klaren Kette: C erbt von B, B erbt von A. Wenn Python nach einem Attribut oder einer Methode sucht, durchläuft es diese Kette von der spezifischsten zur allgemeinsten Klasse.\n",
    "\n",
    "### Vorteile der linearen Vererbung\n",
    "\n",
    "- **Klarheit**: Die Vererbungshierarchie ist eindeutig und leicht nachvollziehbar\n",
    "- **Einfache Wartung**: Änderungen an der Basisklasse wirken sich vorhersagbar auf alle Kindklassen aus\n",
    "- **Natürliche Modellierung**: Viele reale Beziehungen lassen sich gut durch lineare Hierarchien abbilden"
   ]
  },
  {
   "cell_type": "markdown",
   "id": "ed242e5e",
   "metadata": {},
   "source": [
    "## Mehrfachvererbung"
   ]
  },
  {
   "cell_type": "markdown",
   "id": "70187274",
   "metadata": {},
   "source": [
    "Python unterstützt Mehrfachvererbung, bei der eine Klasse von mehreren Elternklassen gleichzeitig erben kann. Dies ist ein mächtiges Feature, das jedoch auch Komplexitäten einführt."
   ]
  },
  {
   "cell_type": "code",
   "execution_count": 32,
   "id": "12c48221",
   "metadata": {},
   "outputs": [],
   "source": [
    "class B:\n",
    "    x = \"B_x\"\n",
    "\n",
    "class C:\n",
    "    y = \"C_y\"  # Neues Klassenattribut\n",
    "\n",
    "# Klasse D erbt von B und C (Mehrfachvererbung)\n",
    "class D(B, C):\n",
    "    z = \"D_z\"  "
   ]
  },
  {
   "cell_type": "code",
   "execution_count": 33,
   "id": "819d64a7",
   "metadata": {},
   "outputs": [
    {
     "name": "stdout",
     "output_type": "stream",
     "text": [
      "\n",
      "=== Klasse B ===\n",
      "B.x = B_x\n",
      "\n",
      "=== Klasse C ===\n",
      "C.y = C_y\n",
      "\n",
      "=== Klasse D(B, C) ===\n",
      "D.x = B_x\n",
      "D.y = C_y\n",
      "D.z = D_z\n",
      "D.mro() = [<class '__main__.D'>, <class '__main__.B'>, <class '__main__.C'>, <class 'object'>]\n"
     ]
    }
   ],
   "source": [
    "print(\"\\n=== Klasse B ===\")\n",
    "print(f\"B.x = {B.x}\")\n",
    "\n",
    "print(\"\\n=== Klasse C ===\")\n",
    "print(f\"C.y = {C.y}\")\n",
    "\n",
    "print(\"\\n=== Klasse D(B, C) ===\")\n",
    "print(f\"D.x = {D.x}\") # Geerbt von B\n",
    "print(f\"D.y = {D.y}\") # Geerbt von C\n",
    "print(f\"D.z = {D.z}\") # Eigenes Attribut\n",
    "print(f\"D.mro() = {D.mro()}\")  # Zeigt die Auflösungsreihenfolge"
   ]
  },
  {
   "cell_type": "markdown",
   "id": "6a976196",
   "metadata": {},
   "source": [
    "### Das Diamond Problem\n",
    "\n",
    "Das Diamond Problem tritt auf, wenn eine Klasse von zwei Klassen erbt, die beide von einer gemeinsamen Basisklasse erben. Dies kann zu Mehrdeutigkeiten führen, wenn die abgeleitete Klasse versucht, auf Attribute oder Methoden der gemeinsamen Basisklasse zuzugreifen."
   ]
  },
  {
   "cell_type": "code",
   "execution_count": 20,
   "id": "69a772c7",
   "metadata": {},
   "outputs": [],
   "source": [
    "class A:\n",
    "    x = \"A_x\"  # Klassenattribut\n",
    "    \n",
    "class B(A):\n",
    "    pass\n",
    "\n",
    "class C(A):\n",
    "    x = \"C_x\"  # Eigenes Klassenattribut\n",
    "    \n",
    "# Klasse D erbt von B und C (Mehrfachvererbung)\n",
    "class D(B, C):\n",
    "    pass"
   ]
  },
  {
   "cell_type": "markdown",
   "id": "49d05d54",
   "metadata": {},
   "source": [
    "Überlege welches `x`-Attribut ausgegeben wird, wenn du von `D` den Wert von `x` abfragst.\n",
    "\n",
    "Es gibt zwei Möglichkeiten:\n",
    "- Das `x`-Attribut von `A` wird verwendet, da `D` zuerst von `B` erbt und `B` das `x`-Attribut von `A` erbt.\n",
    "- Das `x`-Attribut von `C` wird verwendet, da `B` kein eigenes `x`-Attribut hat und `C` ein `x`-Attribut definiert."
   ]
  },
  {
   "cell_type": "code",
   "execution_count": 22,
   "id": "00be6d26",
   "metadata": {},
   "outputs": [
    {
     "name": "stdout",
     "output_type": "stream",
     "text": [
      "D.x =  C_x\n",
      "D.mro() =  [<class '__main__.D'>, <class '__main__.B'>, <class '__main__.C'>, <class '__main__.A'>, <class 'object'>]\n"
     ]
    }
   ],
   "source": [
    "print(\"D.x = \", D.x)  # Welches x wird hier verwendet?\n",
    "\n",
    "print(\"D.mro() = \", D.mro())  # Zeigt die Auflösungsreihenfolge"
   ]
  },
  {
   "cell_type": "markdown",
   "id": "d842a982",
   "metadata": {},
   "source": [
    "### Kooperative vs. nicht-kooperative Vererbung"
   ]
  },
  {
   "cell_type": "markdown",
   "id": "4e07c8ff",
   "metadata": {},
   "source": [
    "Wenn wir eine Methode der Elternklasse in der Kindklasse überschreiben, möchten wir manchmal die Originalmethode der Elternklasse aufrufen, um ihre Funktionalität zu erweitern, anstatt sie vollständig zu ersetzen. Wir können dies tun, indem wir die Elternklasse direkt verwenden um an deren Methoden zu gelangen."
   ]
  },
  {
   "cell_type": "code",
   "execution_count": 23,
   "id": "f5d805eb",
   "metadata": {},
   "outputs": [],
   "source": [
    "class A:\n",
    "    def m(self):\n",
    "        print(\"A.m()\")\n",
    "        \n",
    "class B(A):\n",
    "    def m(self):\n",
    "        print(\"B.m()\")\n",
    "        A.m(self)  # Aufruf der Methode von A\n",
    "        \n",
    "class C(A):\n",
    "    def m(self):\n",
    "        print(\"C.m()\")\n",
    "        A.m(self)  # Aufruf der Methode von A\n",
    "        \n",
    "class D(B, C):\n",
    "    def m(self):\n",
    "        print(\"D.m()\")\n",
    "        B.m(self)  # Aufruf der Methode von B\n",
    "        C.m(self)  # Aufruf der Methode von C"
   ]
  },
  {
   "cell_type": "markdown",
   "id": "2d5159c3",
   "metadata": {},
   "source": [
    "In diesem Fall rufen wir die entsprechenden Elternklassen direkt auf, um ihre Methoden zu verwenden. Dies kann allerdings zu Problemen führen."
   ]
  },
  {
   "cell_type": "code",
   "execution_count": 24,
   "id": "6d44e474",
   "metadata": {},
   "outputs": [
    {
     "name": "stdout",
     "output_type": "stream",
     "text": [
      "\n",
      "=== Aufruf der Methode durch A ===\n",
      "A.m()\n",
      "\n",
      "=== Aufruf der Methode durch B ===\n",
      "B.m()\n",
      "A.m()\n",
      "\n",
      "=== Aufruf der Methode durch C ===\n",
      "C.m()\n",
      "A.m()\n",
      "\n",
      "=== Aufruf der Methode durch D ===\n",
      "D.m()\n",
      "B.m()\n",
      "A.m()\n",
      "C.m()\n",
      "A.m()\n"
     ]
    }
   ],
   "source": [
    "a, b, c, d = A(), B(), C(), D()\n",
    "\n",
    "print(\"\\n=== Aufruf der Methode durch A ===\")\n",
    "a.m()\n",
    "\n",
    "print(\"\\n=== Aufruf der Methode durch B ===\")\n",
    "b.m()\n",
    "\n",
    "print(\"\\n=== Aufruf der Methode durch C ===\")\n",
    "c.m()\n",
    "\n",
    "print(\"\\n=== Aufruf der Methode durch D ===\")\n",
    "d.m()"
   ]
  },
  {
   "cell_type": "markdown",
   "id": "88e57ce5",
   "metadata": {},
   "source": [
    "Im letzten Beispiel sehen wir, dass die Methode von `A` doppelt aufgerufen wird. Dies ist ein Verhalten, welches wir in der Regel nicht wollen. Um dies zu vermeiden, können wir die `super()`-Funktion verwenden, die die nächste Klasse in der Method Resolution Order (MRO) aufruft. Dadurch wird sichergestellt, dass jede Methode nur einmal aufgerufen wird, selbst wenn mehrere Elternklassen die gleiche Methode haben.\n",
    "\n",
    "```python"
   ]
  },
  {
   "cell_type": "code",
   "execution_count": 25,
   "id": "c85072bf",
   "metadata": {},
   "outputs": [
    {
     "name": "stdout",
     "output_type": "stream",
     "text": [
      "\n",
      "=== Aufruf der Methode durch A ===\n",
      "A.m()\n",
      "\n",
      "=== Aufruf der Methode durch B ===\n",
      "B.m()\n",
      "A.m()\n",
      "\n",
      "=== Aufruf der Methode durch C ===\n",
      "C.m()\n",
      "A.m()\n",
      "\n",
      "=== Aufruf der Methode durch D ===\n",
      "D.m()\n",
      "B.m()\n",
      "C.m()\n",
      "A.m()\n"
     ]
    }
   ],
   "source": [
    "class A:\n",
    "    def m(self):\n",
    "        print(\"A.m()\")\n",
    "        \n",
    "class B(A):\n",
    "    def m(self):\n",
    "        print(\"B.m()\")\n",
    "        super().m()  # Aufruf der Methode von A\n",
    "        \n",
    "class C(A):\n",
    "    def m(self):\n",
    "        print(\"C.m()\")\n",
    "        super().m()  # Aufruf der Methode von A\n",
    "        \n",
    "class D(B, C):\n",
    "    def m(self):\n",
    "        print(\"D.m()\")\n",
    "        super().m()  # Aufruf der Methode von B oder C, je nach MRO\n",
    "\n",
    "a, b, c, d = A(), B(), C(), D()\n",
    "\n",
    "print(\"\\n=== Aufruf der Methode durch A ===\")\n",
    "a.m()\n",
    "\n",
    "print(\"\\n=== Aufruf der Methode durch B ===\")\n",
    "b.m()\n",
    "\n",
    "print(\"\\n=== Aufruf der Methode durch C ===\")\n",
    "c.m()\n",
    "\n",
    "print(\"\\n=== Aufruf der Methode durch D ===\")\n",
    "d.m()"
   ]
  },
  {
   "cell_type": "markdown",
   "id": "0d6b4cc7",
   "metadata": {},
   "source": [
    "Die `super()`-Funktion gibt ein sogenanntes \"Proxy-Objekt\" zurück, das sich wie `self` verhält, aber auf die nächste Klasse in der Method Resolution Order verweist. Dadurch können wir Methoden der Elternklasse aufrufen, ohne uns um die genaue Hierarchie kümmern zu müssen.\n"
   ]
  },
  {
   "cell_type": "markdown",
   "id": "017d31e6",
   "metadata": {},
   "source": [
    "## Vector Klasse durch Vererbung\n",
    "\n",
    "In der vorherigen Lektion haben wir eine `Vector`-Klasse erstellt, die ein Attribut `_components` als Tuple definiert hat um die einzelnen Komponenten eines Vektors zu speichern. Zudem haben wir auf dieser Basis die Methoden des Container-Protokolls implementiert, um die Vektoren wie Container zu behandeln.\n",
    "\n",
    "Wir können das gleiche Verhalten auch durch Vererbung erreichen, indem wir eine `Vector`-Klasse erstellen, die von der `tuple`-Klasse erbt. Dadurch können wir die Funktionalität von `tuple` nutzen und gleichzeitig unsere eigenen Methoden hinzufügen.\n",
    "\n",
    "In der Datei `vector.py` findest du eine Implementierung der `Vector`-Klasse, die von `tuple` erbt. "
   ]
  },
  {
   "cell_type": "code",
   "execution_count": 27,
   "id": "27b4ef83",
   "metadata": {},
   "outputs": [
    {
     "name": "stdout",
     "output_type": "stream",
     "text": [
      "\n",
      "=== Beispielanwengun ===\n",
      "v1 = <1.0, 2.0, 3.0>\n",
      "v2 = <4.0, 5.0, 6.0>\n",
      "v1 + v2 = <5.0, 7.0, 9.0>\n",
      "v1[0] = 1.0\n",
      "v1[1] = 2.0\n",
      "v1[2] = 3.0\n"
     ]
    }
   ],
   "source": [
    "from vector import Vector\n",
    "\n",
    "v1 = Vector([1, 2, 3])\n",
    "v2 = Vector([4, 5, 6])\n",
    "\n",
    "print(\"\\n=== Beispielanwengun ===\")\n",
    "print(f\"v1 = {v1}\")\n",
    "print(f\"v2 = {v2}\")\n",
    "print(f\"v1 + v2 = {v1 + v2}\")\n",
    "\n",
    "for component in enumerate(v1):\n",
    "    print(f\"v1[{component[0]}] = {component[1]}\")\n"
   ]
  },
  {
   "cell_type": "markdown",
   "id": "2240130b",
   "metadata": {},
   "source": [
    "Unsere Vector objekte sind vom typ `Vector`, und damit ebenfalls eine Instanz von `tuple`. Dadurch können wir die Methoden von `tuple` direkt auf unseren Vector-Objekten verwenden, wie z.B. `len()`, `in`-Operator und Indexzugriff.\n"
   ]
  },
  {
   "cell_type": "code",
   "execution_count": 28,
   "id": "e9df4934",
   "metadata": {},
   "outputs": [
    {
     "name": "stdout",
     "output_type": "stream",
     "text": [
      "type(v1) =  <class 'vector.Vector'>\n",
      "isinstance(v1, Vector) =  True\n",
      "isinstance(v1, tuple) =  True\n"
     ]
    }
   ],
   "source": [
    "print(\"type(v1) = \", type(v1))  # Zeigt den Typ des Vektors\n",
    "print(\"isinstance(v1, Vector) = \", isinstance(v1, Vector))\n",
    "print(\"isinstance(v1, tuple) = \", isinstance(v1, tuple))  # v1 ist auch eine Instanz von tuple"
   ]
  },
  {
   "cell_type": "markdown",
   "id": "939407bc",
   "metadata": {},
   "source": [
    "Durch das Erben von `tuple` können wir uns die implementierung der Container-Protokoll-Methoden sparen, da `tuple` diese bereits implementiert hat. Dadurch können wir unsere `Vector`-Klasse schlanker und einfacher gestalten.\n",
    "\n",
    "Allerdings bekommen wir auch ein paar Probleme:\n",
    "\n",
    "Da `tuple` unveränderliche Objekte erzeugt, können wir die Komponenten eines Vektors nicht wie bissher in der `__init__`-Methode setzen, da zu diesem Zeitpunkt das Objekt bereits erstellt wurde. Stattdessen müssen wir die Komponenten direkt im Konstruktor der `Vector`-Klasse, der sogenannten `__new__`-Methode, setzen. Diese Methode wird aufgerufen, bevor das Objekt erstellt wird und ermöglicht es uns, die Komponenten des Vektors zu definieren.\n"
   ]
  },
  {
   "cell_type": "code",
   "execution_count": 29,
   "id": "f912caee",
   "metadata": {},
   "outputs": [
    {
     "data": {
      "text/html": [
       "<style>pre { line-height: 125%; }\n",
       "td.linenos .normal { color: inherit; background-color: transparent; padding-left: 5px; padding-right: 5px; }\n",
       "span.linenos { color: inherit; background-color: transparent; padding-left: 5px; padding-right: 5px; }\n",
       "td.linenos .special { color: #000000; background-color: #ffffc0; padding-left: 5px; padding-right: 5px; }\n",
       "span.linenos.special { color: #000000; background-color: #ffffc0; padding-left: 5px; padding-right: 5px; }\n",
       ".output_html .hll { background-color: #ffffcc }\n",
       ".output_html { background: #f8f8f8; }\n",
       ".output_html .c { color: #3D7B7B; font-style: italic } /* Comment */\n",
       ".output_html .err { border: 1px solid #F00 } /* Error */\n",
       ".output_html .k { color: #008000; font-weight: bold } /* Keyword */\n",
       ".output_html .o { color: #666 } /* Operator */\n",
       ".output_html .ch { color: #3D7B7B; font-style: italic } /* Comment.Hashbang */\n",
       ".output_html .cm { color: #3D7B7B; font-style: italic } /* Comment.Multiline */\n",
       ".output_html .cp { color: #9C6500 } /* Comment.Preproc */\n",
       ".output_html .cpf { color: #3D7B7B; font-style: italic } /* Comment.PreprocFile */\n",
       ".output_html .c1 { color: #3D7B7B; font-style: italic } /* Comment.Single */\n",
       ".output_html .cs { color: #3D7B7B; font-style: italic } /* Comment.Special */\n",
       ".output_html .gd { color: #A00000 } /* Generic.Deleted */\n",
       ".output_html .ge { font-style: italic } /* Generic.Emph */\n",
       ".output_html .ges { font-weight: bold; font-style: italic } /* Generic.EmphStrong */\n",
       ".output_html .gr { color: #E40000 } /* Generic.Error */\n",
       ".output_html .gh { color: #000080; font-weight: bold } /* Generic.Heading */\n",
       ".output_html .gi { color: #008400 } /* Generic.Inserted */\n",
       ".output_html .go { color: #717171 } /* Generic.Output */\n",
       ".output_html .gp { color: #000080; font-weight: bold } /* Generic.Prompt */\n",
       ".output_html .gs { font-weight: bold } /* Generic.Strong */\n",
       ".output_html .gu { color: #800080; font-weight: bold } /* Generic.Subheading */\n",
       ".output_html .gt { color: #04D } /* Generic.Traceback */\n",
       ".output_html .kc { color: #008000; font-weight: bold } /* Keyword.Constant */\n",
       ".output_html .kd { color: #008000; font-weight: bold } /* Keyword.Declaration */\n",
       ".output_html .kn { color: #008000; font-weight: bold } /* Keyword.Namespace */\n",
       ".output_html .kp { color: #008000 } /* Keyword.Pseudo */\n",
       ".output_html .kr { color: #008000; font-weight: bold } /* Keyword.Reserved */\n",
       ".output_html .kt { color: #B00040 } /* Keyword.Type */\n",
       ".output_html .m { color: #666 } /* Literal.Number */\n",
       ".output_html .s { color: #BA2121 } /* Literal.String */\n",
       ".output_html .na { color: #687822 } /* Name.Attribute */\n",
       ".output_html .nb { color: #008000 } /* Name.Builtin */\n",
       ".output_html .nc { color: #00F; font-weight: bold } /* Name.Class */\n",
       ".output_html .no { color: #800 } /* Name.Constant */\n",
       ".output_html .nd { color: #A2F } /* Name.Decorator */\n",
       ".output_html .ni { color: #717171; font-weight: bold } /* Name.Entity */\n",
       ".output_html .ne { color: #CB3F38; font-weight: bold } /* Name.Exception */\n",
       ".output_html .nf { color: #00F } /* Name.Function */\n",
       ".output_html .nl { color: #767600 } /* Name.Label */\n",
       ".output_html .nn { color: #00F; font-weight: bold } /* Name.Namespace */\n",
       ".output_html .nt { color: #008000; font-weight: bold } /* Name.Tag */\n",
       ".output_html .nv { color: #19177C } /* Name.Variable */\n",
       ".output_html .ow { color: #A2F; font-weight: bold } /* Operator.Word */\n",
       ".output_html .w { color: #BBB } /* Text.Whitespace */\n",
       ".output_html .mb { color: #666 } /* Literal.Number.Bin */\n",
       ".output_html .mf { color: #666 } /* Literal.Number.Float */\n",
       ".output_html .mh { color: #666 } /* Literal.Number.Hex */\n",
       ".output_html .mi { color: #666 } /* Literal.Number.Integer */\n",
       ".output_html .mo { color: #666 } /* Literal.Number.Oct */\n",
       ".output_html .sa { color: #BA2121 } /* Literal.String.Affix */\n",
       ".output_html .sb { color: #BA2121 } /* Literal.String.Backtick */\n",
       ".output_html .sc { color: #BA2121 } /* Literal.String.Char */\n",
       ".output_html .dl { color: #BA2121 } /* Literal.String.Delimiter */\n",
       ".output_html .sd { color: #BA2121; font-style: italic } /* Literal.String.Doc */\n",
       ".output_html .s2 { color: #BA2121 } /* Literal.String.Double */\n",
       ".output_html .se { color: #AA5D1F; font-weight: bold } /* Literal.String.Escape */\n",
       ".output_html .sh { color: #BA2121 } /* Literal.String.Heredoc */\n",
       ".output_html .si { color: #A45A77; font-weight: bold } /* Literal.String.Interpol */\n",
       ".output_html .sx { color: #008000 } /* Literal.String.Other */\n",
       ".output_html .sr { color: #A45A77 } /* Literal.String.Regex */\n",
       ".output_html .s1 { color: #BA2121 } /* Literal.String.Single */\n",
       ".output_html .ss { color: #19177C } /* Literal.String.Symbol */\n",
       ".output_html .bp { color: #008000 } /* Name.Builtin.Pseudo */\n",
       ".output_html .fm { color: #00F } /* Name.Function.Magic */\n",
       ".output_html .vc { color: #19177C } /* Name.Variable.Class */\n",
       ".output_html .vg { color: #19177C } /* Name.Variable.Global */\n",
       ".output_html .vi { color: #19177C } /* Name.Variable.Instance */\n",
       ".output_html .vm { color: #19177C } /* Name.Variable.Magic */\n",
       ".output_html .il { color: #666 } /* Literal.Number.Integer.Long */</style><div class=\"highlight\"><pre><span></span>    <span class=\"k\">def</span><span class=\"w\"> </span><span class=\"fm\">__new__</span><span class=\"p\">(</span><span class=\"bp\">cls</span><span class=\"p\">,</span> <span class=\"n\">components</span><span class=\"p\">:</span> <span class=\"n\">Iterable</span><span class=\"p\">[</span><span class=\"n\">numbers</span><span class=\"o\">.</span><span class=\"n\">Real</span><span class=\"p\">]</span> <span class=\"o\">=</span> <span class=\"p\">())</span> <span class=\"o\">-&gt;</span> <span class=\"kc\">None</span><span class=\"p\">:</span>\n",
       "<span class=\"w\">        </span><span class=\"sd\">&quot;&quot;&quot;</span>\n",
       "<span class=\"sd\">        Create a new Vector instance.</span>\n",
       "<span class=\"sd\">        Accepts any iterable of real numbers.</span>\n",
       "\n",
       "<span class=\"sd\">        If no components are provided, an empty vector is created.</span>\n",
       "\n",
       "<span class=\"sd\">        &gt;&gt;&gt; Vector([1, 2.5, 3.0])</span>\n",
       "<span class=\"sd\">        Vector([1.0, 2.5, 3.0])</span>\n",
       "<span class=\"sd\">        &gt;&gt;&gt; Vector(range(3))</span>\n",
       "<span class=\"sd\">        Vector([0.0, 1.0, 2.0])</span>\n",
       "<span class=\"sd\">        &gt;&gt;&gt; Vector()  # Empty vector</span>\n",
       "<span class=\"sd\">        Vector([])</span>\n",
       "<span class=\"sd\">        &quot;&quot;&quot;</span>\n",
       "        <span class=\"n\">components_list</span> <span class=\"o\">=</span> <span class=\"nb\">list</span><span class=\"p\">(</span><span class=\"n\">components</span><span class=\"p\">)</span>\n",
       "        <span class=\"k\">if</span> <span class=\"ow\">not</span> <span class=\"nb\">all</span><span class=\"p\">(</span><span class=\"nb\">isinstance</span><span class=\"p\">(</span><span class=\"n\">c</span><span class=\"p\">,</span> <span class=\"n\">numbers</span><span class=\"o\">.</span><span class=\"n\">Real</span><span class=\"p\">)</span> <span class=\"k\">for</span> <span class=\"n\">c</span> <span class=\"ow\">in</span> <span class=\"n\">components_list</span><span class=\"p\">):</span>\n",
       "            <span class=\"k\">raise</span> <span class=\"ne\">TypeError</span><span class=\"p\">(</span><span class=\"s2\">&quot;All components must be real numbers (int or float).&quot;</span><span class=\"p\">)</span>\n",
       "        <span class=\"k\">return</span> <span class=\"nb\">super</span><span class=\"p\">()</span><span class=\"o\">.</span><span class=\"fm\">__new__</span><span class=\"p\">(</span><span class=\"bp\">cls</span><span class=\"p\">,</span> <span class=\"p\">(</span><span class=\"nb\">float</span><span class=\"p\">(</span><span class=\"n\">c</span><span class=\"p\">)</span> <span class=\"k\">for</span> <span class=\"n\">c</span> <span class=\"ow\">in</span> <span class=\"n\">components_list</span><span class=\"p\">))</span>\n",
       "</pre></div>\n"
      ],
      "text/latex": [
       "\\begin{Verbatim}[commandchars=\\\\\\{\\}]\n",
       "    \\PY{k}{def}\\PY{+w}{ }\\PY{n+nf+fm}{\\PYZus{}\\PYZus{}new\\PYZus{}\\PYZus{}}\\PY{p}{(}\\PY{n+nb+bp}{cls}\\PY{p}{,} \\PY{n}{components}\\PY{p}{:} \\PY{n}{Iterable}\\PY{p}{[}\\PY{n}{numbers}\\PY{o}{.}\\PY{n}{Real}\\PY{p}{]} \\PY{o}{=} \\PY{p}{(}\\PY{p}{)}\\PY{p}{)} \\PY{o}{\\PYZhy{}}\\PY{o}{\\PYZgt{}} \\PY{k+kc}{None}\\PY{p}{:}\n",
       "\\PY{+w}{        }\\PY{l+s+sd}{\\PYZdq{}\\PYZdq{}\\PYZdq{}}\n",
       "\\PY{l+s+sd}{        Create a new Vector instance.}\n",
       "\\PY{l+s+sd}{        Accepts any iterable of real numbers.}\n",
       "\n",
       "\\PY{l+s+sd}{        If no components are provided, an empty vector is created.}\n",
       "\n",
       "\\PY{l+s+sd}{        \\PYZgt{}\\PYZgt{}\\PYZgt{} Vector([1, 2.5, 3.0])}\n",
       "\\PY{l+s+sd}{        Vector([1.0, 2.5, 3.0])}\n",
       "\\PY{l+s+sd}{        \\PYZgt{}\\PYZgt{}\\PYZgt{} Vector(range(3))}\n",
       "\\PY{l+s+sd}{        Vector([0.0, 1.0, 2.0])}\n",
       "\\PY{l+s+sd}{        \\PYZgt{}\\PYZgt{}\\PYZgt{} Vector()  \\PYZsh{} Empty vector}\n",
       "\\PY{l+s+sd}{        Vector([])}\n",
       "\\PY{l+s+sd}{        \\PYZdq{}\\PYZdq{}\\PYZdq{}}\n",
       "        \\PY{n}{components\\PYZus{}list} \\PY{o}{=} \\PY{n+nb}{list}\\PY{p}{(}\\PY{n}{components}\\PY{p}{)}\n",
       "        \\PY{k}{if} \\PY{o+ow}{not} \\PY{n+nb}{all}\\PY{p}{(}\\PY{n+nb}{isinstance}\\PY{p}{(}\\PY{n}{c}\\PY{p}{,} \\PY{n}{numbers}\\PY{o}{.}\\PY{n}{Real}\\PY{p}{)} \\PY{k}{for} \\PY{n}{c} \\PY{o+ow}{in} \\PY{n}{components\\PYZus{}list}\\PY{p}{)}\\PY{p}{:}\n",
       "            \\PY{k}{raise} \\PY{n+ne}{TypeError}\\PY{p}{(}\\PY{l+s+s2}{\\PYZdq{}}\\PY{l+s+s2}{All components must be real numbers (int or float).}\\PY{l+s+s2}{\\PYZdq{}}\\PY{p}{)}\n",
       "        \\PY{k}{return} \\PY{n+nb}{super}\\PY{p}{(}\\PY{p}{)}\\PY{o}{.}\\PY{n+nf+fm}{\\PYZus{}\\PYZus{}new\\PYZus{}\\PYZus{}}\\PY{p}{(}\\PY{n+nb+bp}{cls}\\PY{p}{,} \\PY{p}{(}\\PY{n+nb}{float}\\PY{p}{(}\\PY{n}{c}\\PY{p}{)} \\PY{k}{for} \\PY{n}{c} \\PY{o+ow}{in} \\PY{n}{components\\PYZus{}list}\\PY{p}{)}\\PY{p}{)}\n",
       "\\end{Verbatim}\n"
      ],
      "text/plain": [
       "    def __new__(cls, components: Iterable[numbers.Real] = ()) -> None:\n",
       "        \"\"\"\n",
       "        Create a new Vector instance.\n",
       "        Accepts any iterable of real numbers.\n",
       "\n",
       "        If no components are provided, an empty vector is created.\n",
       "\n",
       "        >>> Vector([1, 2.5, 3.0])\n",
       "        Vector([1.0, 2.5, 3.0])\n",
       "        >>> Vector(range(3))\n",
       "        Vector([0.0, 1.0, 2.0])\n",
       "        >>> Vector()  # Empty vector\n",
       "        Vector([])\n",
       "        \"\"\"\n",
       "        components_list = list(components)\n",
       "        if not all(isinstance(c, numbers.Real) for c in components_list):\n",
       "            raise TypeError(\"All components must be real numbers (int or float).\")\n",
       "        return super().__new__(cls, (float(c) for c in components_list))"
      ]
     },
     "execution_count": 29,
     "metadata": {},
     "output_type": "execute_result"
    }
   ],
   "source": [
    "Code(inspect.getsource(Vector.__new__), language='python')"
   ]
  },
  {
   "cell_type": "markdown",
   "id": "04b477b4",
   "metadata": {},
   "source": [
    "Hier verwenden wir die `super()`-Funktion, um die `__new__`-Methode der Elternklasse `tuple` aufzurufen und die Komponenten des Vektors zu setzen. Die `__init__`-Methode wird in diesem Fall nicht benötigt, da die Initialisierung bereits in der `__new__`-Methode erfolgt.\n"
   ]
  },
  {
   "cell_type": "markdown",
   "id": "d9b2de99",
   "metadata": {},
   "source": [
    "Ein weiteres Problem entsteht, da ein Vektor ein etwas anderes Verhalten als ein Tuple haben soll. Beim vergleich von Vektoren durch die `__lt__`-Methode sollen Vektoren anhand ihrer Geometrischen Länge verglichen werden. Ein Tuple hingegen wird komponentenweise verglichen. "
   ]
  },
  {
   "cell_type": "code",
   "execution_count": null,
   "id": "ddf6d3aa",
   "metadata": {},
   "outputs": [
    {
     "name": "stdout",
     "output_type": "stream",
     "text": [
      "False\n",
      "True\n"
     ]
    }
   ],
   "source": [
    "components1 = (0, 10, 10)\n",
    "components2 = (1, 0, 0)\n",
    "\n",
    "print(Vector(components1) < Vector(components2))\n",
    "print(components1 < components2)  # Tuple Vergleich"
   ]
  },
  {
   "cell_type": "markdown",
   "id": "2b9f777e",
   "metadata": {},
   "source": [
    "Obwohl die Komponenten der Tuple und der Vektoren gleich sind, verhalten sie sich in diesem Spezialfall unterschiedlich. Dies kann zu sehr schwer zu findenden Fehlern führen, da unsere Vektoren immernoch Instanzen von `tuple` sind und wir somit möglicherweise unerwartete Ergebnisse erhalten.\n",
    "\n",
    "In der regel wird daher empfohlen, die Komposition (das verwenden eines Objekts als Attribut in einer anderen Klasse) anstelle der Vererbung zu verwenden, wenn die Beziehung zwischen den Klassen nicht klar hierarchisch ist oder wenn die Basisklasse nicht für die Erweiterung gedacht ist. In unserem Fall wäre es besser, eine `Vector`-Klasse zu erstellen, die ein `tuple` als Attribut enthält, anstatt von `tuple` zu erben."
   ]
  }
 ],
 "metadata": {
  "kernelspec": {
   "display_name": "python-entwicklung",
   "language": "python",
   "name": "python3"
  },
  "language_info": {
   "codemirror_mode": {
    "name": "ipython",
    "version": 3
   },
   "file_extension": ".py",
   "mimetype": "text/x-python",
   "name": "python",
   "nbconvert_exporter": "python",
   "pygments_lexer": "ipython3",
   "version": "3.12.4"
  }
 },
 "nbformat": 4,
 "nbformat_minor": 5
}
