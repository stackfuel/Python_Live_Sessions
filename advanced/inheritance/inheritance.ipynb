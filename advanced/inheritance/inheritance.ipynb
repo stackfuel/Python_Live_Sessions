{
 "cells": [
  {
   "cell_type": "code",
   "execution_count": null,
   "id": "96e92010",
   "metadata": {},
   "outputs": [],
   "source": [
    "# from vector import Vector\n",
    "import inspect\n",
    "from IPython.display import Code\n",
    "\n",
    "# This cell is used to set the autoreload extension for Jupyter notebooks.\n",
    "# It allows for automatic reloading of modules when they are modified.\n",
    "%load_ext autoreload\n",
    "%autoreload 2"
   ]
  },
  {
   "cell_type": "markdown",
   "id": "31301411",
   "metadata": {},
   "source": [
    "# Vererbung in Python\n",
    "\n",
    "Die Vererbung ist eines der fundamentalen Konzepte der objektorientierten Programmierung und ermöglicht es, neue Klassen basierend auf bereits existierenden Klassen zu erstellen. In Python ist Vererbung ein mächtiges Werkzeug, das Code-Wiederverwendung fördert und hierarchische Beziehungen zwischen Objekten modelliert. Gleichzeitig bringt sie jedoch auch Komplexitäten mit sich, die sorgfältig verstanden und verwaltet werden müssen.\n",
    "Durch Vererbung kann eine Klasse (die \"Kindklasse\" oder \"Unterklasse\") Attribute und Methoden von einer anderen Klasse (der \"Elternklasse\" oder \"Oberklasse\") übernehmen. Dies ermöglicht es, gemeinsame Funktionalitäten in einer Basisklasse zu definieren und in spezialisierten Klassen zu erweitern oder zu modifizieren."
   ]
  },
  {
   "cell_type": "markdown",
   "id": "ec4aece0",
   "metadata": {},
   "source": [
    "## Lineare Vererbung\n",
    "\n",
    "Die einfachste Form der Vererbung ist die lineare oder einfache Vererbung, bei der eine Klasse von genau einer Elternklasse erbt. Dies schafft eine klare hierarchische Struktur, die leicht zu verstehen und zu verwalten ist."
   ]
  },
  {
   "cell_type": "code",
   "execution_count": null,
   "id": "588a3372",
   "metadata": {},
   "outputs": [],
   "source": [
    "# Basisklasse A\n",
    "class A:\n",
    "    x = \"A_x\"  # Klassenattribut\n",
    "    \n",
    "    def m1(self):\n",
    "        return \"A.m1()\"\n",
    "\n",
    "# Klasse B erbt von A\n",
    "class B(A):\n",
    "    y = \"B_y\"  # Neues Klassenattribut\n",
    "    \n",
    "    def m2(self):\n",
    "        return \"B.m2()\"\n",
    "\n",
    "# Klasse C erbt von B und überschreibt Attribute/Methoden\n",
    "class C(B):\n",
    "    z = \"C_z\"  # Neues Klassenattribut\n",
    "    \n",
    "    def m1(self):  # Überschreibt m1 von A\n",
    "        return \"C.m1()\"\n",
    "    \n",
    "    def m3(self):\n",
    "        return \"C.m3()\"\n",
    "        \n"
   ]
  },
  {
   "cell_type": "code",
   "execution_count": null,
   "id": "aefea7b8",
   "metadata": {},
   "outputs": [],
   "source": [
    "# Demonstration\n",
    "print(\"=== Klasse A ===\")\n",
    "a = A()\n",
    "print(f\"a.x = {a.x}\")\n",
    "print(f\"a.m1() = {a.m1()}\")\n",
    "\n",
    "print(\"\\n=== Klasse B ===\")\n",
    "b = B()\n",
    "print(f\"b.x = {b.x}\")  # Geerbt von A\n",
    "print(f\"b.y = {b.y}\")  # Eigenes Attribut\n",
    "print(f\"b.m1() = {b.m1()}\")  # Geerbt von A\n",
    "print(f\"b.m2() = {b.m2()}\")  # Eigene Methode\n",
    "\n",
    "print(\"\\n=== Klasse C ===\")\n",
    "c = C()\n",
    "print(f\"c.x = {c.x}\")  # Überschrieben\n",
    "print(f\"c.y = {c.y}\")  # Geerbt von B\n",
    "print(f\"c.z = {c.z}\")  # Eigenes Attribut\n",
    "print(f\"c.m1() = {c.m1()}\")  # Überschrieben\n",
    "print(f\"c.m2() = {c.m2()}\")  # Geerbt von B\n",
    "print(f\"c.m3() = {c.m3()}\")  # Eigene Methode\n"
   ]
  },
  {
   "cell_type": "markdown",
   "id": "23ae10f9",
   "metadata": {},
   "source": [
    "### Vererbungshierarchie verstehen\n",
    "\n",
    "Python bietet einige nützliche Attribute, um die Vererbungsstruktur zu untersuchen:"
   ]
  },
  {
   "cell_type": "code",
   "execution_count": null,
   "id": "136d31af",
   "metadata": {},
   "outputs": [],
   "source": [
    "\n",
    "print(\"\\n=== Basisklassen ===\")\n",
    "print(f\"C.__bases__ = {C.__bases__}\")  # Zeigt die Basisklassen von C\n",
    "\n",
    "print(\"\\n=== Method Resolution Order (MRO) ===\")\n",
    "print(f\"C.mro() = {C.mro()}\")  # Zeigt die Auflösungsreihenfolge\n",
    "\n"
   ]
  },
  {
   "cell_type": "markdown",
   "id": "f5ef25f9",
   "metadata": {},
   "source": [
    "In Python ist alles ein Objekt von einem bestimmten Typ. Die `type()`-Funktion gibt den Typ eines Objekts zurück, und die `isinstance()`-Funktion prüft, ob ein Objekt eine Instanz eines bestimmten Typs ist.\n",
    "\n",
    "Das Objekt `c` ist vom Typ `C` da es ein direktes Objekt der Klasse `C` ist. Die Klasse `C` erbt von der Klasse `B`, die wiederum von der Klasse `A` erbt. Dies bedeutet, dass `c` auch eine Instanz von `B` und `A` ist."
   ]
  },
  {
   "cell_type": "code",
   "execution_count": null,
   "id": "178dad98",
   "metadata": {},
   "outputs": [],
   "source": [
    "print(\"\\n=== Typen und Instanzen ===\")\n",
    "print(f\"type(c) = {type(c)}\")\n",
    "print(f\"isinstance(c, C) = {isinstance(c, C)}\")  # c ist eine Instanz von C\n",
    "print(f\"isinstance(c, B) = {isinstance(c, B)}\")\n",
    "print(f\"isinstance(c, A) = {isinstance(c, A)}\")"
   ]
  },
  {
   "cell_type": "markdown",
   "id": "e21d5d1b",
   "metadata": {},
   "source": [
    "Python hat eine Basisklasse `object`, von der alle Klassen erben. Dies bedeutet, dass jede Klasse in Python eine Hierarchie hat, die letztendlich auf `object` zurückgeht."
   ]
  },
  {
   "cell_type": "code",
   "execution_count": null,
   "id": "3ef89b9e",
   "metadata": {},
   "outputs": [],
   "source": [
    "print(f\"isinstance(c, object) = {isinstance(c, object)}\")  # c ist eine Instanz von object\n",
    "print(f\"isinstance(5, object) = {isinstance(5, object)}\")  # 5 ist eine Instanz von object\n",
    "print(f\"isinstance('Hello', object) = {isinstance('Hello', object)}\")  # 'Hello' ist eine Instanz von object\n",
    "\n",
    "print(\"\\n=== Basisklasse object ===\")\n",
    "print(f\"object.__bases__ = {object.__bases__}\")"
   ]
  },
  {
   "cell_type": "markdown",
   "id": "1d0f4484",
   "metadata": {},
   "source": [
    "Die lineare Vererbung ist intuitiv und folgt einer klaren Kette: C erbt von B, B erbt von A. Wenn Python nach einem Attribut oder einer Methode sucht, durchläuft es diese Kette von der spezifischsten zur allgemeinsten Klasse.\n",
    "\n",
    "### Vorteile der linearen Vererbung\n",
    "\n",
    "- **Klarheit**: Die Vererbungshierarchie ist eindeutig und leicht nachvollziehbar\n",
    "- **Einfache Wartung**: Änderungen an der Basisklasse wirken sich vorhersagbar auf alle Kindklassen aus\n",
    "- **Natürliche Modellierung**: Viele reale Beziehungen lassen sich gut durch lineare Hierarchien abbilden"
   ]
  },
  {
   "cell_type": "markdown",
   "id": "ed242e5e",
   "metadata": {},
   "source": [
    "## Mehrfachvererbung"
   ]
  },
  {
   "cell_type": "markdown",
   "id": "70187274",
   "metadata": {},
   "source": [
    "Python unterstützt Mehrfachvererbung, bei der eine Klasse von mehreren Elternklassen gleichzeitig erben kann. Dies ist ein mächtiges Feature, das jedoch auch Komplexitäten einführt."
   ]
  },
  {
   "cell_type": "code",
   "execution_count": null,
   "id": "12c48221",
   "metadata": {},
   "outputs": [],
   "source": [
    "class B:\n",
    "    x = \"B_x\"\n",
    "\n",
    "class C:\n",
    "    y = \"C_y\"  # Neues Klassenattribut\n",
    "\n",
    "# Klasse D erbt von B und C (Mehrfachvererbung)\n",
    "class D(B, C):\n",
    "    z = \"D_z\"  "
   ]
  },
  {
   "cell_type": "code",
   "execution_count": null,
   "id": "819d64a7",
   "metadata": {},
   "outputs": [],
   "source": [
    "print(\"\\n=== Klasse B ===\")\n",
    "print(f\"B.x = {B.x}\")\n",
    "\n",
    "print(\"\\n=== Klasse C ===\")\n",
    "print(f\"C.y = {C.y}\")\n",
    "\n",
    "print(\"\\n=== Klasse D(B, C) ===\")\n",
    "print(f\"D.x = {D.x}\") # Geerbt von B\n",
    "print(f\"D.y = {D.y}\") # Geerbt von C\n",
    "print(f\"D.z = {D.z}\") # Eigenes Attribut\n",
    "print(f\"D.mro() = {D.mro()}\")  # Zeigt die Auflösungsreihenfolge"
   ]
  },
  {
   "cell_type": "markdown",
   "id": "6a976196",
   "metadata": {},
   "source": [
    "### Das Diamond Problem\n",
    "\n",
    "Das Diamond Problem tritt auf, wenn eine Klasse von zwei Klassen erbt, die beide von einer gemeinsamen Basisklasse erben. Dies kann zu Mehrdeutigkeiten führen, wenn die abgeleitete Klasse versucht, auf Attribute oder Methoden der gemeinsamen Basisklasse zuzugreifen."
   ]
  },
  {
   "cell_type": "code",
   "execution_count": null,
   "id": "69a772c7",
   "metadata": {},
   "outputs": [],
   "source": [
    "class A:\n",
    "    x = \"A_x\"  # Klassenattribut\n",
    "    \n",
    "class B(A):\n",
    "    pass\n",
    "\n",
    "class C(A):\n",
    "    x = \"C_x\"  # Eigenes Klassenattribut\n",
    "    \n",
    "# Klasse D erbt von B und C (Mehrfachvererbung)\n",
    "class D(B, C):\n",
    "    pass"
   ]
  },
  {
   "cell_type": "markdown",
   "id": "49d05d54",
   "metadata": {},
   "source": [
    "Überlege welches `x`-Attribut ausgegeben wird, wenn du von `D` den Wert von `x` abfragst.\n",
    "\n",
    "Es gibt zwei Möglichkeiten:\n",
    "- Das `x`-Attribut von `A` wird verwendet, da `D` zuerst von `B` erbt und `B` das `x`-Attribut von `A` erbt.\n",
    "- Das `x`-Attribut von `C` wird verwendet, da `B` kein eigenes `x`-Attribut hat und `C` ein `x`-Attribut definiert."
   ]
  },
  {
   "cell_type": "code",
   "execution_count": null,
   "id": "00be6d26",
   "metadata": {},
   "outputs": [],
   "source": [
    "print(\"D.x = \", D.x)  # Welches x wird hier verwendet?\n",
    "\n",
    "print(\"D.mro() = \", D.mro())  # Zeigt die Auflösungsreihenfolge"
   ]
  },
  {
   "cell_type": "markdown",
   "id": "d842a982",
   "metadata": {},
   "source": [
    "### Kooperative vs. nicht-kooperative Vererbung"
   ]
  },
  {
   "cell_type": "markdown",
   "id": "4e07c8ff",
   "metadata": {},
   "source": [
    "Wenn wir eine Methode der Elternklasse in der Kindklasse überschreiben, möchten wir manchmal die Originalmethode der Elternklasse aufrufen, um ihre Funktionalität zu erweitern, anstatt sie vollständig zu ersetzen. Wir können dies tun, indem wir die Elternklasse direkt verwenden um an deren Methoden zu gelangen."
   ]
  },
  {
   "cell_type": "code",
   "execution_count": null,
   "id": "f5d805eb",
   "metadata": {},
   "outputs": [],
   "source": [
    "class A:\n",
    "    def m(self):\n",
    "        print(\"A.m()\")\n",
    "        \n",
    "class B(A):\n",
    "    def m(self):\n",
    "        print(\"B.m()\")\n",
    "        A.m(self)  # Aufruf der Methode von A\n",
    "        \n",
    "class C(A):\n",
    "    def m(self):\n",
    "        print(\"C.m()\")\n",
    "        A.m(self)  # Aufruf der Methode von A\n",
    "        \n",
    "class D(B, C):\n",
    "    def m(self):\n",
    "        print(\"D.m()\")\n",
    "        B.m(self)  # Aufruf der Methode von B\n",
    "        C.m(self)  # Aufruf der Methode von C"
   ]
  },
  {
   "cell_type": "markdown",
   "id": "2d5159c3",
   "metadata": {},
   "source": [
    "In diesem Fall rufen wir die entsprechenden Elternklassen direkt auf, um ihre Methoden zu verwenden. Dies kann allerdings zu Problemen führen."
   ]
  },
  {
   "cell_type": "code",
   "execution_count": null,
   "id": "6d44e474",
   "metadata": {},
   "outputs": [],
   "source": [
    "a, b, c, d = A(), B(), C(), D()\n",
    "\n",
    "print(\"\\n=== Aufruf der Methode durch A ===\")\n",
    "a.m()\n",
    "\n",
    "print(\"\\n=== Aufruf der Methode durch B ===\")\n",
    "b.m()\n",
    "\n",
    "print(\"\\n=== Aufruf der Methode durch C ===\")\n",
    "c.m()\n",
    "\n",
    "print(\"\\n=== Aufruf der Methode durch D ===\")\n",
    "d.m()"
   ]
  },
  {
   "cell_type": "markdown",
   "id": "88e57ce5",
   "metadata": {},
   "source": [
    "Im letzten Beispiel sehen wir, dass die Methode von `A` doppelt aufgerufen wird. Dies ist ein Verhalten, welches wir in der Regel nicht wollen. Um dies zu vermeiden, können wir die `super()`-Funktion verwenden, die die nächste Klasse in der Method Resolution Order (MRO) aufruft. Dadurch wird sichergestellt, dass jede Methode nur einmal aufgerufen wird, selbst wenn mehrere Elternklassen die gleiche Methode haben.\n",
    "\n",
    "```python"
   ]
  },
  {
   "cell_type": "code",
   "execution_count": null,
   "id": "c85072bf",
   "metadata": {},
   "outputs": [],
   "source": [
    "class A:\n",
    "    def m(self):\n",
    "        print(\"A.m()\")\n",
    "        \n",
    "class B(A):\n",
    "    def m(self):\n",
    "        print(\"B.m()\")\n",
    "        super().m()  # Aufruf der Methode von A\n",
    "        \n",
    "class C(A):\n",
    "    def m(self):\n",
    "        print(\"C.m()\")\n",
    "        super().m()  # Aufruf der Methode von A\n",
    "        \n",
    "class D(B, C):\n",
    "    def m(self):\n",
    "        print(\"D.m()\")\n",
    "        super().m()  # Aufruf der Methode von B oder C, je nach MRO\n",
    "\n",
    "a, b, c, d = A(), B(), C(), D()\n",
    "\n",
    "print(\"\\n=== Aufruf der Methode durch A ===\")\n",
    "a.m()\n",
    "\n",
    "print(\"\\n=== Aufruf der Methode durch B ===\")\n",
    "b.m()\n",
    "\n",
    "print(\"\\n=== Aufruf der Methode durch C ===\")\n",
    "c.m()\n",
    "\n",
    "print(\"\\n=== Aufruf der Methode durch D ===\")\n",
    "d.m()"
   ]
  },
  {
   "cell_type": "markdown",
   "id": "0d6b4cc7",
   "metadata": {},
   "source": [
    "Die `super()`-Funktion gibt ein sogenanntes \"Proxy-Objekt\" zurück, das sich wie `self` verhält, aber auf die nächste Klasse in der Method Resolution Order verweist. Dadurch können wir Methoden der Elternklasse aufrufen, ohne uns um die genaue Hierarchie kümmern zu müssen.\n"
   ]
  },
  {
   "cell_type": "markdown",
   "id": "017d31e6",
   "metadata": {},
   "source": [
    "## Vector Klasse durch Vererbung\n",
    "\n",
    "In der vorherigen Lektion haben wir eine `Vector`-Klasse erstellt, die ein Attribut `_components` als Tuple definiert hat um die einzelnen Komponenten eines Vektors zu speichern. Zudem haben wir auf dieser Basis die Methoden des Container-Protokolls implementiert, um die Vektoren wie Container zu behandeln.\n",
    "\n",
    "Wir können das gleiche Verhalten auch durch Vererbung erreichen, indem wir eine `Vector`-Klasse erstellen, die von der `tuple`-Klasse erbt. Dadurch können wir die Funktionalität von `tuple` nutzen und gleichzeitig unsere eigenen Methoden hinzufügen.\n",
    "\n",
    "In der Datei `vector.py` findest du eine Implementierung der `Vector`-Klasse, die von `tuple` erbt. "
   ]
  },
  {
   "cell_type": "code",
   "execution_count": null,
   "id": "27b4ef83",
   "metadata": {},
   "outputs": [],
   "source": [
    "from vector import Vector\n",
    "\n",
    "v1 = Vector([1, 2, 3])\n",
    "v2 = Vector([4, 5, 6])\n",
    "\n",
    "print(\"\\n=== Beispielanwengun ===\")\n",
    "print(f\"v1 = {v1}\")\n",
    "print(f\"v2 = {v2}\")\n",
    "print(f\"v1 + v2 = {v1 + v2}\")\n",
    "\n",
    "for component in enumerate(v1):\n",
    "    print(f\"v1[{component[0]}] = {component[1]}\")\n"
   ]
  },
  {
   "cell_type": "markdown",
   "id": "2240130b",
   "metadata": {},
   "source": [
    "Unsere Vector objekte sind vom typ `Vector`, und damit ebenfalls eine Instanz von `tuple`. Dadurch können wir die Methoden von `tuple` direkt auf unseren Vector-Objekten verwenden, wie z.B. `len()`, `in`-Operator und Indexzugriff.\n"
   ]
  },
  {
   "cell_type": "code",
   "execution_count": null,
   "id": "e9df4934",
   "metadata": {},
   "outputs": [],
   "source": [
    "print(\"type(v1) = \", type(v1))  # Zeigt den Typ des Vektors\n",
    "print(\"isinstance(v1, Vector) = \", isinstance(v1, Vector))\n",
    "print(\"isinstance(v1, tuple) = \", isinstance(v1, tuple))  # v1 ist auch eine Instanz von tuple"
   ]
  },
  {
   "cell_type": "markdown",
   "id": "939407bc",
   "metadata": {},
   "source": [
    "Durch das Erben von `tuple` können wir uns die implementierung der Container-Protokoll-Methoden sparen, da `tuple` diese bereits implementiert hat. Dadurch können wir unsere `Vector`-Klasse schlanker und einfacher gestalten.\n",
    "\n",
    "Allerdings bekommen wir auch ein paar Probleme:\n",
    "\n",
    "Da `tuple` unveränderliche Objekte erzeugt, können wir die Komponenten eines Vektors nicht wie bissher in der `__init__`-Methode setzen, da zu diesem Zeitpunkt das Objekt bereits erstellt wurde. Stattdessen müssen wir die Komponenten direkt im Konstruktor der `Vector`-Klasse, der sogenannten `__new__`-Methode, setzen. Diese Methode wird aufgerufen, bevor das Objekt erstellt wird und ermöglicht es uns, die Komponenten des Vektors zu definieren.\n"
   ]
  },
  {
   "cell_type": "code",
   "execution_count": null,
   "id": "f912caee",
   "metadata": {},
   "outputs": [],
   "source": [
    "Code(inspect.getsource(Vector.__new__), language='python')"
   ]
  },
  {
   "cell_type": "markdown",
   "id": "04b477b4",
   "metadata": {},
   "source": [
    "Hier verwenden wir die `super()`-Funktion, um die `__new__`-Methode der Elternklasse `tuple` aufzurufen und die Komponenten des Vektors zu setzen. Die `__init__`-Methode wird in diesem Fall nicht benötigt, da die Initialisierung bereits in der `__new__`-Methode erfolgt.\n"
   ]
  },
  {
   "cell_type": "markdown",
   "id": "d9b2de99",
   "metadata": {},
   "source": [
    "Ein weiteres Problem entsteht, da ein Vektor ein etwas anderes Verhalten als ein Tuple haben soll. Beim vergleich von Vektoren durch die `__lt__`-Methode sollen Vektoren anhand ihrer Geometrischen Länge verglichen werden. Ein Tuple hingegen wird komponentenweise verglichen. "
   ]
  },
  {
   "cell_type": "code",
   "execution_count": null,
   "id": "ddf6d3aa",
   "metadata": {},
   "outputs": [],
   "source": [
    "components1 = (0, 10, 10)\n",
    "components2 = (1, 0, 0)\n",
    "\n",
    "print(Vector(components1) < Vector(components2))\n",
    "print(components1 < components2)  # Tuple Vergleich"
   ]
  },
  {
   "cell_type": "markdown",
   "id": "2b9f777e",
   "metadata": {},
   "source": [
    "Obwohl die Komponenten der Tuple und der Vektoren gleich sind, verhalten sie sich in diesem Spezialfall unterschiedlich. Dies kann zu sehr schwer zu findenden Fehlern führen, da unsere Vektoren immernoch Instanzen von `tuple` sind und wir somit möglicherweise unerwartete Ergebnisse erhalten.\n",
    "\n",
    "In der regel wird daher empfohlen, die Komposition (das verwenden eines Objekts als Attribut in einer anderen Klasse) anstelle der Vererbung zu verwenden, wenn die Beziehung zwischen den Klassen nicht klar hierarchisch ist oder wenn die Basisklasse nicht für die Erweiterung gedacht ist. In unserem Fall wäre es besser, eine `Vector`-Klasse zu erstellen, die ein `tuple` als Attribut enthält, anstatt von `tuple` zu erben."
   ]
  }
 ],
 "metadata": {
  "kernelspec": {
   "display_name": "python-entwicklung",
   "language": "python",
   "name": "python3"
  },
  "language_info": {
   "codemirror_mode": {
    "name": "ipython",
    "version": 3
   },
   "file_extension": ".py",
   "mimetype": "text/x-python",
   "name": "python",
   "nbconvert_exporter": "python",
   "pygments_lexer": "ipython3",
   "version": "3.12.4"
  }
 },
 "nbformat": 4,
 "nbformat_minor": 5
}
