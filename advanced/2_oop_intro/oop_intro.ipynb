{
 "cells": [
  {
   "cell_type": "code",
   "execution_count": 1,
   "id": "5f69fa22",
   "metadata": {},
   "outputs": [],
   "source": [
    "# This cell is used to set the autoreload extension for Jupyter notebooks.\n",
    "# It allows for automatic reloading of modules when they are modified.\n",
    "%load_ext autoreload\n",
    "%autoreload 2"
   ]
  },
  {
   "cell_type": "markdown",
   "id": "1092bfd1",
   "metadata": {},
   "source": [
    "# 2D Vektoren Definitionen und Operationen\n",
    "\n",
    "## Definition\n",
    "Ein 2D-Vektor ist ein **Tupel** aus zwei Komponenten:\n",
    "$\\vec{v} = \\begin{pmatrix} v_0 \\\\ v_1 \\end{pmatrix}$\n",
    "wobei $v_0, v_1 \\in \\mathbb{R}$.\n",
    "\n",
    "## Vektoroperationen (Vector Operations)\n",
    "\n",
    "| Operation | Formel | Methode | Implementierung |\n",
    "|-----------|--------|---------|-----------------|\n",
    "| **Addition** | $\\vec{u} + \\vec{v} = \\begin{pmatrix} u_0 + v_0 \\\\ u_1 + v_1 \\end{pmatrix}$ | `__add__` | `(v1[0] + v2[0], v1[1] + v2[1])` |\n",
    "| **Subtraktion** | $\\vec{u} - \\vec{v} = \\begin{pmatrix} u_0 - v_0 \\\\ u_1 - v_1 \\end{pmatrix}$ | `__sub__` | `(v1[0] - v2[0], v1[1] - v2[1])` |\n",
    "| **Skalarmultiplikation** | $k \\cdot \\vec{v} = \\begin{pmatrix} k \\cdot v_0 \\\\ k \\cdot v_1 \\end{pmatrix}$ | `__mul__` | `(k * v[0], k * v[1])` |\n",
    "| **Komponentenweise Multiplikation** | $\\vec{u} \\odot \\vec{v} = \\begin{pmatrix} u_0 \\cdot v_0 \\\\ u_1 \\cdot v_1 \\end{pmatrix}$ | `__mul__` | `(v1[0] * v2[0], v1[1] * v2[1])` |\n",
    "| **Skalarprodukt (Dot Product)** | $\\vec{u} \\cdot \\vec{v} = u_0 \\cdot v_0 + u_1 \\cdot v_1$ | `__matmul__` | `v1[0] * v2[0] + v1[1] * v2[1]` |\n",
    "| **Norm/Betrag (Magnitude)** | $\\|\\vec{v}\\| = \\sqrt{v_0^2 + v_1^2}$ | `__abs__` | `math.sqrt(v[0]**2 + v[1]**2)` |\n",
    "| **Normalisierung (Normalization)** | $\\hat{\\vec{u}} = \\frac{\\vec{u}}{\\|\\vec{u}\\|} = \\frac{1}{\\|\\vec{u}\\|} \\begin{pmatrix} u_0 \\\\ u_1 \\end{pmatrix}$ | `normalize` | `(v[0] / norm, v[1] / norm)` |\n",
    "| **Winkel (Angle)** | $\\theta = \\arccos\\left(\\frac{\\vec{u} \\cdot \\vec{v}}{\\|\\vec{u}\\| \\cdot \\|\\vec{v}\\|}\\right)$ | - | -\n"
   ]
  },
  {
   "cell_type": "markdown",
   "id": "266f6992",
   "metadata": {},
   "source": [
    "<!-- \n",
    "### Einleitung und Motivation\n",
    "\n",
    "**Vektoren** begegnen dir in vielen Data Science- und Analytics-Anwendungen: Alles beginnt mit Datenpunkten, Messwerten, Merkmalen – oftmals als Listen oder Tupel aus Zahlen. Sobald du beginnst, mit diesen Daten zu rechnen, werden sie zu mathematischen Objekten mit spannenden Eigenschaften und vielfältigen Einsatzmöglichkeiten.\n",
    "\n",
    "\n",
    "#### Warum ist die Repräsentation so wichtig?\n",
    "\n",
    "Je nach Aufgabe kannst du Vektoren als einfache **Datenstrukturen** behandeln – zum Beispiel als Tupel oder Listen. Doch schnell stößt du damit an Grenzen:\n",
    "\n",
    "- Was passiert, wenn du viele verschiedene Operationen auf denselben Typ anwenden möchtest?\n",
    "- Wie kannst du sicherstellen, dass die Daten zu den Methoden passen, mit denen du sie bearbeitest?\n",
    "- Wie verhinderst du Fehler durch unpassende Kombinationen oder falsch benutzte Funktionen?\n",
    "\n",
    "\n",
    "#### Objektorientierte Programmierung: Dein Werkzeug gegen Chaos\n",
    "\n",
    "Hier kommt die **objektorientierte Programmierung (OOP)** ins Spiel. Sie verfolgt das Prinzip, **Daten** und die darauf passenden **Funktionen** (in der OOP heißen diese *Methoden*) in einer Einheit, nämlich einem **Objekt**, zu bündeln. Das hat gleich mehrere Vorteile:\n",
    "\n",
    "- **Kohäsion:** Daten und ihre Methoden gehören logisch zusammen.\n",
    "- **Kapselung:** Interna des Objekts werden geschützt, du arbeitest auf einer klar definierten Oberfläche.\n",
    "- **Lesbarkeit und Wartbarkeit:** Dein Code wird intuitiver, Fehler werden vermieden und Erweiterungen sind leichter möglich.\n",
    "- **Intuitive Syntax:** Du kannst Operatoren wie `+` oder `*` direkt für deine Objekte nutzen!\n",
    "\n",
    "Gerade in der Datenanalyse baust du schnell komplexe Datenmodelle. Je klarer diese strukturiert und gekapselt sind, desto besser kannst du dich auf die wirklich spannenden Fragen konzentrieren – und nicht auf die Fehlerbehebung zwischen Daten und Funktionen.\n",
    "\n",
    "\n",
    "#### Was erwartet dich in diesem Notebook?\n",
    "\n",
    "Du wirst sehen, wie dieselbe Aufgabe – das Arbeiten mit Vektoren – erst als lose Sammlung von Funktionen und später als elegant gekapselte und vielseitige Klasse gelöst werden kann. Damit bekommst du:\n",
    "\n",
    "- Ein Verständnis, **warum OOP** in Python (und vielen anderen Sprachen) so mächtig ist,\n",
    "- und wie du davon für deine eigenen Data-Science-Projekte profitierst. -->\n"
   ]
  },
  {
   "cell_type": "markdown",
   "id": "2b60af33",
   "metadata": {},
   "source": [
    "<!-- ### Die funktionale Variante\n",
    "\n",
    "Bevor wir tiefer in die objektorientierte Programmierung eintauchen, werfen wir einen Blick auf eine weit verbreitete, sehr zugängliche Herangehensweise: die **funktionale Variante**. In deinem Arbeitsalltag mit Python hast du vielleicht schon oft selbst so gearbeitet – besonders, wenn es darum ging, kleine mathematische Probleme kompakt zu lösen.\n",
    "\n",
    "#### Ein Blick in die Werkzeugkiste\n",
    "\n",
    "In der Datei **`vector_functional.py`** findest du praktische Funktionen rund um Vektoren. Hier wird ein Vektor ganz einfach als Tuple, etwa `v = (1.0, 2.0)`, behandelt. Sämtliche Operationen wie Addition oder Skalarmultiplikation laufen dann über einzelne Funktionen, denen du deine Vektoren als Argumente übergibst.\n",
    "\n",
    "Hier eine beispielhafte Nutzung: -->\n"
   ]
  },
  {
   "cell_type": "markdown",
   "id": "7300ad26",
   "metadata": {},
   "source": [
    "\n",
    "## Funktionale Variante\n",
    "In der praktischen Informatik haben sich die **funktionale** und die **objektorientierte** Programmierung als zwei der wichtigsten Paradigmen für Programmiersprachen etabliert. In Python kannst du beide Ansätze nutzen, um deine Daten und Abläufe zu organisieren.\n",
    "\n",
    "Bei der funktionalen Programmierung arbeitest du mit *reinen* Funktionen (pure functions), die keine Seiteneffekte haben und nur von ihren Eingabewerten abhängen. Das bedeutet, dass sie immer das gleiche Ergebnis liefern, wenn du die gleichen Argumente übergibst. Dies führt zu einem klaren, vorhersehbaren Verhalten. Die Speicherung von Daten und die Logik sind hierbei strikt voneinander getrennt.\n",
    "\n",
    "In unserem Fall bedeutet das, dass wir für unsere Vektoren eine Datenstruktur zum Speichern der Vektorkomponenten benötigen und dann Funktionen definieren, die diese Datenstruktur als Argumente nehmen und die gewünschten Operationen durchführen.\n",
    "\n",
    "In Python gibt es unterschiedliche Datenstrukturen, die hierfür geeignet sind. Im Wesentlichen müssen wir die einzelnen Komponenten eines Vektors als Zahlen abspeichern und auf diese zugreifen können. Da Vektoren in der Mathematik oft als Tupel dargestellt werden, nutzen wir den in Python eingebauten Datentyp `tuple`, um Vektoren zu repräsentieren.\n",
    "\n",
    "\n",
    "Auf dieser grundlage können wir dann die verschiedenen Vektoroperationen implementieren. In der Datei **`vector_functional.py`** findest du ein paar Implementierungen von typischen Vektoroperationen."
   ]
  },
  {
   "cell_type": "code",
   "execution_count": 28,
   "id": "e97a281a",
   "metadata": {},
   "outputs": [
    {
     "name": "stdout",
     "output_type": "stream",
     "text": [
      "Vektor u: (1.0, 2.0)\n",
      "Vektor v: (3.0, 4.0)\n",
      "Addition u+v: (4.0, 6.0)\n",
      "Skalar s: 2.5\n",
      "Skalarmultiplikation u*s: (2.5, 5.0)\n",
      "Norm von u: 2.23606797749979\n",
      "Skalarprodukt von u und v: 11.0\n"
     ]
    }
   ],
   "source": [
    "from vector_functional import add, mul, abs, dot_product\n",
    "\n",
    "u = (1.0, 2.0)\n",
    "v = (3.0, 4.0)\n",
    "\n",
    "print(\"Vektor u:\", u)\n",
    "print(\"Vektor v:\", v)\n",
    "\n",
    "result = add(u, v)\n",
    "print(\"Addition u+v:\", result)\n",
    "\n",
    "s = 2.5\n",
    "print(\"Skalar s:\", s)\n",
    "print(\"Skalarmultiplikation u*s:\", mul(u, s))\n",
    "\n",
    "print(\"Norm von u:\", abs(u))\n",
    "print(\"Skalarprodukt von u und v:\", dot_product(u, v))\n"
   ]
  },
  {
   "cell_type": "code",
   "execution_count": null,
   "id": "5e0fc525",
   "metadata": {},
   "outputs": [
    {
     "data": {
      "text/plain": [
       "(1.0, 2.0, 3.0, 4.0)"
      ]
     },
     "execution_count": 29,
     "metadata": {},
     "output_type": "execute_result"
    }
   ],
   "source": [
    "u+v"
   ]
  },
  {
   "cell_type": "markdown",
   "id": "9faba312",
   "metadata": {},
   "source": [
    "Ein Blick auf die Implementierung offenbart ein paar wichtige Prinzipien:\n",
    "\n",
    "- **Datenrepräsentation:**  \n",
    "  In dieser Variante ist ein Vektor schlicht ein Tupel der Länge 2: `(x, y)`.\n",
    "  \n",
    "- **Explizite Funktionsschnittstelle:**  \n",
    "  Jede Funktion ist unabhängig und nimmt in der Regel ein oder mehrere Vektoren als eigene Argumente entgegen. So steuert zum Beispiel `add(u, v)` explizit beide Operanden.\n",
    "\n",
    "Schauen wir uns beispielsweise die Addition zweier Vektoren an:\n",
    "\n",
    "```python\n",
    "def add(v1: tuple, v2: tuple) -> tuple:\n",
    "    \"\"\"Add two vectors.\"\"\"\n",
    "    return (v1[0] + v2[0], v1[1] + v2[1])\n",
    "```\n",
    "\n",
    "*Hinweis:* Für die parameter und den Rückgabewert sind hier sogenannte *type hints* angegeben um anderen Programmierern deutlich zu machen, welche Datentypen erwartet werden. Das ist besonders hilfreich in größeren Projekten, um die Lesbarkeit und Wartbarkeit des Codes zu verbessern. Python selbst ignoriert diese Hinweise, sie dienen nur der Dokumentation und Unterstützung durch IDEs. Im Prinzip könnten wir die Funktion mit jedem Datentyp nutzen, der die indexierung der Form `v[0]` und `v[1]` unterstützt. Dazu später mehr in der objektorientierten Variante.\n",
    "\n",
    "Die `add`-Funktion nimmt zwei Argumente `v1` und `v2`, die jeweils Tupel repräsentieren. Auf Basis der Mathematischen definition der Vektoraddition wird ein neues Tupel gebildet und zurückgegeben.\n",
    "\n",
    "Alle anderen Vektoroperationen folgen einem ähnlichen Muster."
   ]
  },
  {
   "cell_type": "markdown",
   "id": "ec23fd21",
   "metadata": {},
   "source": [
    "### Objektorientierte Programmierung\n",
    "\n",
    "In der objektorientierten Programmierung (OOP) wird die klare Trennung von Daten und Logik aufgehoben. Stattdessen werden Daten (Attribute) und die darauf passenden Funktionen (Methoden) in einem Objekt zusammengefasst."
   ]
  },
  {
   "cell_type": "markdown",
   "id": "a16028d4",
   "metadata": {},
   "source": [
    "\n",
    "#### Klassen und Instanzen\n",
    "\n",
    "Starten wir mit dem einfachsten OOP-Konstrukt in Python – einer leeren Klasse:\n"
   ]
  },
  {
   "cell_type": "code",
   "execution_count": 3,
   "id": "824620eb",
   "metadata": {},
   "outputs": [],
   "source": [
    "class C:\n",
    "    pass"
   ]
  },
  {
   "cell_type": "markdown",
   "id": "6e9d2f3a",
   "metadata": {},
   "source": [
    "\n",
    "Klassen dienen als Bauplan für Objekte und als Träger für Funktionen, die auf den Objekten der Klasse arbeiten. Sie können leer sein oder bereits Methoden (Funktionen) und Attribute (Daten) enthalten. In diesem Fall ist `C` eine leere Klasse, die noch keine Funktionalität hat.\n",
    "\n",
    "Wir können von jeder Klasse ein Objekt (eine Instanz der Klasse) erzeugen indem wir die Klasse selbst wie eine Funktion aufrufen:"
   ]
  },
  {
   "cell_type": "code",
   "execution_count": 4,
   "id": "f3d073c3",
   "metadata": {},
   "outputs": [
    {
     "name": "stdout",
     "output_type": "stream",
     "text": [
      "<__main__.C object at 0x00000194C48C1BB0>\n",
      "<class '__main__.C'>\n"
     ]
    }
   ],
   "source": [
    "obj = C()\n",
    "print(obj)\n",
    "print(type(obj))"
   ]
  },
  {
   "cell_type": "markdown",
   "id": "665c7600",
   "metadata": {},
   "source": [
    "Das Objekt `obj` ist nun eine Instanz der Klasse `C`. Ein Objekt dient als Träger für Daten. Diese Daten definieren einen Zustand oder eine Eigenschaft des Objekts. In diesem Fall ist `obj` einfach ein leeres Objekt ohne weitere Informationen.\n",
    "\n",
    "#### Attribute zuweisen und nutzen\n",
    "\n",
    "Wir können beliebig viele Objekte einer Klasse erstellen. Was die Objekte voneinander unterscheidet, sind ihre **Attribute** – also die Daten, die sie speichern. Attribute können dabei jeden beliebigen Datentyp haben, auch komplexe Strukturen wie Listen oder Dictionaries. Im Grunde sind Attribute wie Variablen, die an ein bestimmtes Objekt gebunden sind.\n",
    "Über den Namen des Objekts und den Punktoperator (`.`) können wir Attribute zuweisen oder abfragen:"
   ]
  },
  {
   "cell_type": "code",
   "execution_count": 5,
   "id": "66eb0abd",
   "metadata": {},
   "outputs": [
    {
     "name": "stdout",
     "output_type": "stream",
     "text": [
      "Mein Objekt\n"
     ]
    }
   ],
   "source": [
    "obj.name = \"Mein Objekt\"\n",
    "print(obj.name)"
   ]
  },
  {
   "cell_type": "markdown",
   "id": "8b0b6309",
   "metadata": {},
   "source": [
    "Die Attribute eines Objekts werden in einem internen Dictionary gespeichert, das über `obj.__dict__` zugänglich ist. Dieses Dictionary enthält alle Attribute des Objekts und deren Werte."
   ]
  },
  {
   "cell_type": "code",
   "execution_count": 6,
   "id": "2f3cf884",
   "metadata": {},
   "outputs": [
    {
     "data": {
      "text/plain": [
       "{'name': 'Mein Objekt'}"
      ]
     },
     "execution_count": 6,
     "metadata": {},
     "output_type": "execute_result"
    }
   ],
   "source": [
    "obj.__dict__"
   ]
  },
  {
   "cell_type": "markdown",
   "id": "063b4b10",
   "metadata": {},
   "source": [
    "#### Die `__init__`-Methode\n",
    "\n",
    "In der Regel wollen wir unsere Objekte immer mit der gleichen Struktur und den gleichen Attributen aufbauen. Das sorgt dafür, dass alle Objekte einer Klasse konsistent sind und wir uns darauf verlassen können, dass sie die gleichen Eigenschaften haben. \n",
    "\n",
    "Um das zu erreichen, können wir in unserer Klasse eine Funktion definieren, die ein Objekt der Klasse als Argument nimmt und die Attribute für das Objekt initialisiert. Diese Funktion erhält, neben dem Objekt selbst, auch die konkreten Werte für die Attribute, welche im Objekt gespeichert werden sollen. \n",
    "\n"
   ]
  },
  {
   "cell_type": "code",
   "execution_count": 7,
   "id": "83fd1445",
   "metadata": {},
   "outputs": [
    {
     "name": "stdout",
     "output_type": "stream",
     "text": [
      "Mein D-Objekt\n"
     ]
    }
   ],
   "source": [
    "class D:\n",
    "    def init(obj, name):\n",
    "        obj.name = name\n",
    "        \n",
    "d = D()\n",
    "D.init(d, \"Mein D-Objekt\")\n",
    "print(d.name)"
   ]
  },
  {
   "cell_type": "markdown",
   "id": "f8ca20f8",
   "metadata": {},
   "source": [
    "Das funktioniert wunderbar. Allerdings ist es etwas umständlich, da wir zunächst das Objekt selbst erstellen und dann die `init`-Methode über die Klasse aufrufen und das objekt manuell übergeben müssen.\n",
    "\n",
    "In Python können wir die Funktionen einer Klasse (die Methoden) auch direkt über das Objekt aufrufen. Wenn wir das machen wird Python immer automatisch das Objekt selbst als erstes Argument an die Methode übergeben. Das bedeutet, dass wir die `init`-Methode direkt auf dem Objekt aufrufen können, ohne es explizit zu übergeben zu müssen.:\n",
    "\n"
   ]
  },
  {
   "cell_type": "code",
   "execution_count": 8,
   "id": "50b820b7",
   "metadata": {},
   "outputs": [
    {
     "name": "stdout",
     "output_type": "stream",
     "text": [
      "Mein D-Objekt\n"
     ]
    }
   ],
   "source": [
    "d = D()\n",
    "d.init(\"Mein D-Objekt\")\n",
    "print(d.name)"
   ]
  },
  {
   "cell_type": "markdown",
   "id": "a09540b1",
   "metadata": {},
   "source": [
    "#### Dunder-Methoden\n",
    "\n",
    "Es geht aber noch ein wenig einfacher. In Python gibt es mehrere spezielle Methoden, die, wenn sie in einer Klasse definiert sind, von der Sprache selbst für unterschiedliche Zwecke verwendet werden. Diese Methoden beginnen und enden mit zwei Unterstrichen (Dunder = Double Underscore) und werden oft als \"Magic Methods\" bezeichnet. Sie ermöglichen es dir, das Standardverhalten von Python für deine Objekte zu überschreiben oder anzupassen. Wir werden in späteren Lektionen noch genauer darauf eingehen.\n",
    "\n",
    "Wenn wir unserer Methode `init` den Namen `__init__` geben, wird sie automatisch aufgerufen, wenn wir ein neues Objekt der Klasse erstellen. Das bedeutet, dass wir die Attribute direkt beim Erstellen des Objekts initialisieren können. Die Argumente für die `__init__`-Methode übergeben wir dann direkt beim Erstellen des Objekts:\n"
   ]
  },
  {
   "cell_type": "code",
   "execution_count": 9,
   "id": "6fa90d36",
   "metadata": {},
   "outputs": [
    {
     "name": "stdout",
     "output_type": "stream",
     "text": [
      "Mein E-Objekt\n"
     ]
    }
   ],
   "source": [
    "class E:\n",
    "    def __init__(self, name):\n",
    "        self.name = name\n",
    "        \n",
    "e = E(\"Mein E-Objekt\")\n",
    "print(e.name)"
   ]
  },
  {
   "cell_type": "markdown",
   "id": "638833db",
   "metadata": {},
   "source": [
    "#### Das `self` Argument\n",
    "Wir haben hier das erste Argument der `__init__`-Methode `self` genannt. Das ist eine Konvention in Python, die besagt, dass das erste Argument einer Methode immer das Objekt selbst ist. Der Name kann theoretisch frei gewählt werden, aber `self` ist der allgemein akzeptierte Name. Bei der Erstellung eines Objekts wird dieses automatisch als erstes Argument an die `__init__`-Methode übergeben."
   ]
  },
  {
   "cell_type": "markdown",
   "id": "39a488f9",
   "metadata": {},
   "source": [
    "##### Eine einfache Klasse\n",
    "\n",
    "Im folgenden Code Beispiel siehst du eine komplette Klasse mit `__init__`-Methode, zwei Attributen und einer Methode."
   ]
  },
  {
   "cell_type": "code",
   "execution_count": 10,
   "id": "27a4fb73",
   "metadata": {},
   "outputs": [
    {
     "name": "stdout",
     "output_type": "stream",
     "text": [
      "Laura\n",
      "29\n",
      "Max\n",
      "35\n",
      "Hallo, ich bin Laura und 29 Jahre alt.\n",
      "Hallo, ich bin Max und 35 Jahre alt.\n"
     ]
    }
   ],
   "source": [
    "class Person:                           # Klassendefinition und Klassenname\n",
    "    def __init__(self, name, alter):    # __init__ Methode initialisieren der Objekte\n",
    "        self.name = name                # Attribut\n",
    "        self.alter = alter              # Attribut\n",
    "    \n",
    "    def begruessen(self):               # Methode die auf einem Objekt 'self' aufbaut\n",
    "        print(f\"Hallo, ich bin {self.name} und {self.alter} Jahre alt.\")\n",
    "\n",
    "p1 = Person(\"Laura\", 29)\n",
    "p2 = Person(\"Max\", 35)\n",
    "print(p1.name)\n",
    "print(p1.alter)\n",
    "print(p2.name)\n",
    "print(p2.alter)\n",
    "p1.begruessen()\n",
    "p2.begruessen()"
   ]
  },
  {
   "cell_type": "markdown",
   "id": "a9459b26",
   "metadata": {},
   "source": [
    "\n",
    "Was passiert hier? Beim aufruf der Klasse `Person` mit `Person(\"Laura\", 29)` wird automatisch ein Leeres Objekt der Klasse `Person` erzeugt. Danach wird automatisch die `__init__` Methode aufgerufen sofern diese definiert ist. Diese Methode wird verwendet, um das Objekt mit Anfangswerten auszustatten. Dabei wird das neue Objekt als erstes Argument (`self`) übergeben, und die Attribute `name` und `alter` werden im Objekt gespeichert.\n",
    "\n",
    "\n",
    "**Wichtig:**  \n",
    "Die Methode `__init__` gibt **kein** neues Objekt zurück! Das „fertige“ Objekt wird als erster Parameter (`self`) an die Methode übergeben und dort nur „ausgestattet“ (z.B. mit Daten). Die `__init__`-Methode benötigt also keine `return`-Anweisung. Sie ist dafür da, das Objekt zu initialisieren, nicht es zu erzeugen."
   ]
  },
  {
   "cell_type": "markdown",
   "id": "cfab901b",
   "metadata": {},
   "source": [
    "#### Was lernst du daraus für die OOP-Vektoren?\n",
    "\n",
    "- Ein **Objekt** ist ein Bündel aus Daten und passender Funktionalität.\n",
    "- Mit `__init__` steuerst du, wie ein Objekt mit Anfangswerten ausgestattet wird.\n",
    "- Attribute gehören zum Objekt – und können später einfach genutzt oder abgefragt werden.\n",
    "- Methoden nutzen den Zugang zu den eigenen Objekt-Daten (über `self`).\n"
   ]
  },
  {
   "cell_type": "markdown",
   "id": "4e74a856",
   "metadata": {},
   "source": [
    "## OOP Variante\n",
    "\n",
    "Nachdem du nun die Vorteile der objektorientierten Programmierung kennengelernt hast, wird es Zeit, deine Vektoroperationen in eine moderne, elegante Python-Klasse zu überführen. Die komplette Umsetzung findest du bereits fertig in der Datei **`vector_oop.py`** – du kannst sie im nächsten Schritt einfach importieren und direkt anwenden!\n",
    "\n",
    "\n",
    "#### Die neue Sichtweise: Vektoren als eigene Objekte\n",
    "\n",
    "Während in der funktionalen Variante Daten und Funktionen getrennt waren, bündelt die OOP-Variante beides in einem Objekt. Aus einem Tupel wie `(1.0, 2.0)` wird nun ein Exemplar einer eigenen Klasse.\n"
   ]
  },
  {
   "cell_type": "code",
   "execution_count": 11,
   "id": "9b03f47d",
   "metadata": {},
   "outputs": [
    {
     "name": "stdout",
     "output_type": "stream",
     "text": [
      "Vector2D(1.0, 2.0)\n",
      "Vector2D(3.0, 4.0)\n",
      "Vector2D(4.0, 6.0)\n"
     ]
    }
   ],
   "source": [
    "from vector_oop import Vector2D\n",
    "\n",
    "u = Vector2D(1.0, 2.0)\n",
    "v = Vector2D(3.0, 4.0)\n",
    "\n",
    "print(u)\n",
    "print(v)\n",
    "print(u + v)"
   ]
  },
  {
   "cell_type": "markdown",
   "id": "9622e8ac",
   "metadata": {},
   "source": [
    "#### Methoden statt Funktionen – Beispiele für den neuen Umgang\n",
    "\n",
    "Vergleiche die Syntax und Anwendung von Methoden im Gegensatz zu den funktionalen Ansätzen:\n",
    "\n",
    "```python\n",
    "# Addition\n",
    "print(\"Addition:\", u + v)  # Ausgabe: Vector(4.0, 6.0)\n",
    "\n",
    "# Skalarmultiplikation\n",
    "print(\"Skalarmultiplikation:\", u * 2.5)  # Ausgabe: Vector(2.5, 5.0)\n",
    "\n",
    "# Norm berechnen\n",
    "print(\"Norm von u:\", u.norm())  # Ausgabe: 2.236...\n",
    "\n",
    "# Skalarprodukt\n",
    "print(\"Skalarprodukt:\", u.dot(v))  # Ausgabe: 11.0\n",
    "```\n",
    "\n",
    "Besonders elegant: **Operatoren wie `+` und `*` funktionieren nun direkt mit Vektor-Objekten!**\n",
    "\n",
    "---\n",
    "\n",
    "#### Die wichtigsten Neuerungen im Design\n",
    "\n",
    "Sehen wir uns an, wie genau sich das Innenleben und die Nutzung in der OOP-Version von der funktionalen Variante unterscheidet:\n",
    "\n",
    "---\n",
    "\n",
    "##### 1. Initialisierung und Datenzugriff – mit `__init__` und `__getitem__`\n",
    "\n",
    "- **`__init__` (Konstruktor):**  \n",
    "  In der Klasse stecken die Vektor-Koordinaten nicht mehr in einem anonymen Tupel, sondern als explizite Attribute im Objekt selbst.  \n",
    "  ```python\n",
    "  u = Vector(1.0, 2.0)  # ruft intern u.__init__(1.0, 2.0) auf\n",
    "  ```\n",
    "  Das sorgt für Übersicht und weitere Methoden haben klar definierten Zugriff auf diese Werte.\n",
    "\n",
    "- **Zugriff per Index (`__getitem__`):**  \n",
    "  Auch nach der Umstellung kannst du weiterhin wie gewohnt per Index auf die Komponenten zugreifen:  \n",
    "  ```python\n",
    "  print(u[0])  # 1.0\n",
    "  print(u[1])  # 2.0\n",
    "  ```\n",
    "  Möglich macht das die Implementierung der speziellen Methode `__getitem__`. So bleibt die Klasse sowohl mit bisherigen Funktionen (ggf. für die Übergangszeit), als auch mit Python-eigenen Features kompatibel.\n",
    "\n",
    "---\n",
    "\n",
    "##### 2. Methoden als Teil des Vektors\n",
    "\n",
    "- Funktionen wie \"Addition\" oder \"Norm\" sind jetzt **Methoden**, die direkt an das jeweilige Objekt gebunden sind.  \n",
    "  Statt `add(u, v)` schreibst du klarer und natürlicher:  \n",
    "  ```python\n",
    "  u.add(v)   # oder, eleganter dank Operator-Überladung: u + v\n",
    "  ```\n",
    "- Methoden wie `norm()` oder `dot(other)` nutzen intern automatisch die gespeicherten Werte des Objekts.\n",
    "\n",
    "---\n",
    "\n",
    "##### 3. Operatoren überladen – für komfortable Syntax\n",
    "\n",
    "Durch die Implementierung spezieller Methoden wie `__add__` und `__mul__` kannst du Operatoren für deine Vektor-Objekte verwenden:\n",
    "- `u + v` entspricht intern `u.__add__(v)`\n",
    "- `u * 2.5` wird als `u.__mul__(2.5)` umgesetzt\n",
    "\n",
    "Das sorgt für besonders lesbaren und fehlerunanfälligen Code – insbesondere, wenn du viele mathematische Operationen schreibst.\n",
    "\n",
    "---\n",
    "\n",
    "##### 4. Klar definierte Fehlerquellen & Schutz vor Missbrauch\n",
    "\n",
    "Innerhalb der Klasse lässt sich viel gezielter prüfen, ob etwa\n",
    "- das andere Argument beim Addieren wirklich ein Vektor ist\n",
    "- der Skalar bei multiplikativen Operationen den erwarteten Typ hat\n",
    "\n",
    "Dadurch werden potenzielle Fehler früh und präzise abgefangen – im Gegensatz zur funktionalen Variante, wo beliebige Tupel akzeptiert und manche Fehler erst sehr spät sichtbar wurden.\n",
    "\n",
    "---\n",
    "\n",
    "#### Das große Ganze: Mehr Übersicht, mehr Sicherheit, mehr Komfort\n",
    "\n",
    "Mit der objektorientierten Variante steht dir nun ein mächtiges Werkzeug zur Verfügung:  \n",
    "Deine Vektoren sind nicht länger anonyme Zahlenpaare – sondern „echte“ Objekte mit Identität, Klarnamen und eigener Werkzeugkiste.\n",
    "\n",
    "Die Vorteile sind besonders spürbar, wenn du  \n",
    "- deinen Code später erweitern möchtest (z.B. um weitere Operationen oder Eigenschaften),  \n",
    "- Wert auf Nachvollziehbarkeit und Lesbarkeit legst  \n",
    "- oder sicherstellen willst, dass sich alle Operationen wirklich nur auf passende Typen anwenden lassen.\n"
   ]
  },
  {
   "cell_type": "markdown",
   "id": "76c1e7df",
   "metadata": {},
   "source": [
    "# Anwendung: Kundensegmentierung mit Vector2D\n",
    "\n",
    "In diesem Beispiel zeigen wir, wie Vektoroperationen für die Kundensegmentierung verwendet werden können - eine häufige Aufgabe in der Datenanalyse und im Marketing.\n",
    "\n",
    "## Das Geschäftsproblem\n",
    "\n",
    "Ein Unternehmen möchte seinen Kundenstamm besser verstehen, indem es zwei wichtige Kennzahlen analysiert:\n",
    "- **Alter** (Jahre)\n",
    "- **Monatliche Ausgaben** (Euro)\n",
    "\n",
    "Indem wir jeden Kunden als 2D-Vektor darstellen, können wir mathematische Operationen nutzen, um Muster und Ähnlichkeiten zu finden.\n",
    "\n"
   ]
  },
  {
   "cell_type": "code",
   "execution_count": 12,
   "id": "6e585650",
   "metadata": {},
   "outputs": [],
   "source": [
    "from vector_oop import Vector2D\n",
    "import matplotlib.pyplot as plt\n",
    "import seaborn as sns"
   ]
  },
  {
   "cell_type": "markdown",
   "id": "2ce6fd09",
   "metadata": {},
   "source": [
    "\n",
    "## Kunden-Vektoren erstellen\n",
    "\n",
    "Erstellen wir einige Beispielkunden. Jeder Kunde wird als Vektor dargestellt, wobei:\n",
    "- X-Koordinate = Alter\n",
    "- Y-Koordinate = Monatliche Ausgaben\n"
   ]
  },
  {
   "cell_type": "code",
   "execution_count": 17,
   "id": "80bf9a6c",
   "metadata": {},
   "outputs": [
    {
     "name": "stdout",
     "output_type": "stream",
     "text": [
      "Name       | Alter | Ausgaben\n",
      "------------------------------\n",
      "Alice      |    25 |     200\n",
      "Bob        |    28 |     800\n",
      "Charlie    |    45 |     500\n",
      "Diana      |    42 |     300\n",
      "Eve        |    35 |     750\n",
      "Frank      |    55 |     400\n"
     ]
    }
   ],
   "source": [
    "# Kunden-Vektoren erstellen\n",
    "kunden = {\n",
    "    \"Alice\": Vector2D(25, 200),      # Jung, sparsam\n",
    "    \"Bob\": Vector2D(28, 800),        # Jung, viel Geld ausgebend\n",
    "    \"Charlie\": Vector2D(45, 500),    # Mittleres Alter, moderate Ausgaben\n",
    "    \"Diana\": Vector2D(42, 300),      # Mittleres Alter, sparsam\n",
    "    \"Eve\": Vector2D(35, 750),        # Karriere-Mitte, hohe Ausgaben\n",
    "    \"Frank\": Vector2D(55, 400)       # Älter, moderate Ausgaben\n",
    "}\n",
    "\n",
    "# Unsere Kunden anzeigen\n",
    "print(f\"{'Name':<10} | {'Alter':<5} | {'Ausgaben':<7}\")\n",
    "print(\"-\" * 30)\n",
    "for name, kunde in kunden.items():\n",
    "    print(f\"{name:<10} | {kunde[0]:>5} | {kunde[1]:>7}\")\n",
    "\n"
   ]
  },
  {
   "cell_type": "markdown",
   "id": "c68898e5",
   "metadata": {},
   "source": [
    "\n",
    "## Kundenpositionen visualisieren\n"
   ]
  },
  {
   "cell_type": "code",
   "execution_count": 18,
   "id": "1381c41d",
   "metadata": {},
   "outputs": [
    {
     "data": {
      "image/png": "[encoded data removed]",
      "text/plain": [
       "<Figure size 1000x600 with 1 Axes>"
      ]
     },
     "metadata": {},
     "output_type": "display_data"
    }
   ],
   "source": [
    "def erstelle_kunden_plot(kunden, figsize=(10, 6), equal_aspect=False):\n",
    "    \"\"\"\n",
    "    Erstelle ein Streudiagramm für die Kundensegmentierung.\n",
    "    \n",
    "    Args:\n",
    "        kunden: Dictionary mit Namen als Keys und Vector2D-Objekten als Values\n",
    "        figsize: Tuple für die Figurengröße\n",
    "        \n",
    "    Returns:\n",
    "        fig, ax: Matplotlib Figure und Axes Objekte\n",
    "    \"\"\"\n",
    "    # Koordinaten für die Darstellung extrahieren\n",
    "    alter = [kunde[0] for kunde in kunden.values()]\n",
    "    ausgaben = [kunde[1] for kunde in kunden.values()]\n",
    "    \n",
    "    # Figure und Axes erstellen\n",
    "    fig, ax = plt.subplots(figsize=figsize)\n",
    "    \n",
    "    # Streudiagramm erstellen\n",
    "    sns.scatterplot(x=alter, y=ausgaben, s=100, alpha=0.7, c='lightblue', edgecolors='black', ax=ax)\n",
    "    \n",
    "    # Beschriftungen für jeden Kunden hinzufügen\n",
    "    for name, kunde in kunden.items():\n",
    "        ax.annotate(name, (kunde[0], kunde[1]), \n",
    "                   xytext=(5, 5), textcoords='offset points')\n",
    "    \n",
    "    # Achsenbeschriftungen und Titel\n",
    "    ax.set_xlabel('Alter (Jahre)')\n",
    "    ax.set_ylabel('Monatliche Ausgaben (€)')\n",
    "    ax.set_title('Kundensegmentierung: Alter vs Monatliche Ausgaben')\n",
    "    ax.grid(True, alpha=0.3)\n",
    "    if equal_aspect:\n",
    "        ax.set_aspect('equal', adjustable='datalim')\n",
    "        \n",
    "        # Achsenbereiche erweitern, um die volle Breite/Höhe der Abbildung zu nutzen\n",
    "        padding = 0.1  # 10% Padding als Beispiel\n",
    "        x_range = max(alter) - min(alter)\n",
    "        y_range = max(ausgaben) - min(ausgaben)\n",
    "        \n",
    "        ax.set_xlim(min(alter) - padding * x_range, max(alter) + padding * x_range)\n",
    "        ax.set_ylim(min(ausgaben) - padding * y_range, max(ausgaben) + padding * y_range)\n",
    "    \n",
    "        \n",
    "    \n",
    "    return fig, ax\n",
    "\n",
    "# Plot erstellen\n",
    "fig, ax = erstelle_kunden_plot(kunden)"
   ]
  },
  {
   "cell_type": "markdown",
   "id": "50ec54e1",
   "metadata": {},
   "source": [
    "\n",
    "## Ähnliche Kunden finden\n",
    "\n",
    "Jetzt verwenden wir Vektoroperationen, um Kunden zu finden, die einander ähnlich sind. Wir berechnen die Distanz zwischen Kunden mit Vektorsubtraktion und Betrag.\n"
   ]
  },
  {
   "cell_type": "code",
   "execution_count": 19,
   "id": "e445f213",
   "metadata": {},
   "outputs": [
    {
     "name": "stdout",
     "output_type": "stream",
     "text": [
      "Kunden, die Alice am ähnlichsten sind:\n",
      "Diana: Distanz = 101.43\n",
      "Frank: Distanz = 202.24\n",
      "Charlie: Distanz = 300.67\n",
      "Eve: Distanz = 550.09\n",
      "Bob: Distanz = 600.01\n"
     ]
    }
   ],
   "source": [
    "def kunden_distanz(kunde1, kunde2):\n",
    "    \"\"\"Berechne die Distanz zwischen zwei Kunden mit Vektoroperationen.\"\"\"\n",
    "    differenz = kunde1 - kunde2\n",
    "    return abs(differenz)  # Verwende die __abs__-Methode der Vector2D-Klasse\n",
    "\n",
    "\n",
    "# Schauen wir, wer Alice am ähnlichsten ist\n",
    "alice = kunden[\"Alice\"]\n",
    "alice_distanzen = []\n",
    "for name, kunde in kunden.items():\n",
    "    if name != \"Alice\":  # Alice selbst überspringen\n",
    "        distanz = kunden_distanz(alice, kunde)\n",
    "        alice_distanzen.append((name, distanz))\n",
    "\n",
    "# Nach Distanz sortieren\n",
    "alice_distanzen.sort(key=lambda x: x[1])\n",
    "\n",
    "print(\"Kunden, die Alice am ähnlichsten sind:\")\n",
    "for name, distanz in alice_distanzen:\n",
    "    print(f\"{name}: Distanz = {distanz:.2f}\")"
   ]
  },
  {
   "cell_type": "code",
   "execution_count": 20,
   "id": "388fe78e",
   "metadata": {},
   "outputs": [
    {
     "name": "stderr",
     "output_type": "stream",
     "text": [
      "Ignoring fixed x limits to fulfill fixed data aspect with adjustable data limits.\n"
     ]
    },
    {
     "data": {
      "image/png": "[encoded data removed]",
      "text/plain": [
       "<Figure size 1000x600 with 1 Axes>"
      ]
     },
     "metadata": {},
     "output_type": "display_data"
    }
   ],
   "source": [
    "# Funktion zum Hinzufügen von Distanzlinien\n",
    "def zeichne_distanzlinien(ax, referenz_kunde, andere_kunden, referenz_name, farbe='red', alpha=0.3):\n",
    "    \"\"\"\n",
    "    Zeichne Linien von einem Referenzkunden zu anderen Kunden.\n",
    "    \n",
    "    Args:\n",
    "        ax: Matplotlib Axes Objekt\n",
    "        referenz_kunde: Vector2D des Referenzkunden\n",
    "        andere_kunden: Dictionary mit anderen Kunden\n",
    "        referenz_name: Name des Referenzkunden\n",
    "        farbe: Farbe der Linien\n",
    "        alpha: Transparenz der Linien\n",
    "    \"\"\"\n",
    "    for name, kunde in andere_kunden.items():\n",
    "        if name != referenz_name:\n",
    "            ax.plot([referenz_kunde[0], kunde[0]], \n",
    "                   [referenz_kunde[1], kunde[1]], \n",
    "                   color=farbe, alpha=alpha, linestyle='-', linewidth=1)\n",
    "\n",
    "# Beispiel: Nach der Distanzberechnung Linien zu Alice hinzufügen\n",
    "fig, ax = erstelle_kunden_plot(kunden, equal_aspect=True)\n",
    "zeichne_distanzlinien(ax, kunden[\"Alice\"], kunden, \"Alice\")\n",
    "# plt.show()"
   ]
  },
  {
   "cell_type": "markdown",
   "id": "c2157cb6",
   "metadata": {},
   "source": [
    "## Kundenprofile normalisieren\n",
    "\n",
    "Verschiedene Metriken haben unterschiedliche Skalen (Alter in Jahren vs. Ausgaben in Euro). Normalisieren wir unsere Vektoren für fairere Vergleiche.\n"
   ]
  },
  {
   "cell_type": "code",
   "execution_count": 22,
   "id": "2f4da18f",
   "metadata": {},
   "outputs": [
    {
     "name": "stderr",
     "output_type": "stream",
     "text": [
      "Ignoring fixed y limits to fulfill fixed data aspect with adjustable data limits.\n"
     ]
    },
    {
     "name": "stdout",
     "output_type": "stream",
     "text": [
      "Original vs Normalisierte Kunden:\n",
      "Alice: Vector2D(25, 200) -> Vector2D(0.12403473458920847, 0.9922778767136677)\n",
      "  Betrag: 201.56 -> 1.00\n",
      "Bob: Vector2D(28, 800) -> Vector2D(0.034978582175618625, 0.9993880621605321)\n",
      "  Betrag: 800.49 -> 1.00\n",
      "Charlie: Vector2D(45, 500) -> Vector2D(0.0896376994958906, 0.9959744388432288)\n",
      "  Betrag: 502.02 -> 1.00\n",
      "Diana: Vector2D(42, 300) -> Vector2D(0.1386478445344062, 0.9903417466743301)\n",
      "  Betrag: 302.93 -> 1.00\n",
      "Eve: Vector2D(35, 750) -> Vector2D(0.04661593469904403, 0.9989128864080863)\n",
      "  Betrag: 750.82 -> 1.00\n",
      "Frank: Vector2D(55, 400) -> Vector2D(0.1362183404787282, 0.9906788398452958)\n",
      "  Betrag: 403.76 -> 1.00\n"
     ]
    },
    {
     "data": {
      "image/png": "[encoded data removed]",
      "text/plain": [
       "<Figure size 1000x600 with 1 Axes>"
      ]
     },
     "metadata": {},
     "output_type": "display_data"
    }
   ],
   "source": [
    "# Alle Kunden-Vektoren normalisieren\n",
    "normalisierte_kunden = {}\n",
    "for name, kunde in kunden.items():\n",
    "    normalisiert = Vector2D.normalize(kunde)\n",
    "    normalisierte_kunden[name] = normalisiert\n",
    "# alternative:\n",
    "#normalisierte_kunden = {name: Vector2D.normalize(kunde) for name, kunde in kunden.items()}\n",
    "\n",
    "print(\"Original vs Normalisierte Kunden:\")\n",
    "for name in kunden.keys():\n",
    "    orig = kunden[name]\n",
    "    norm = normalisierte_kunden[name]\n",
    "    print(f\"{name}: {orig} -> {norm}\")\n",
    "    print(f\"  Betrag: {abs(orig):.2f} -> {abs(norm):.2f}\")\n",
    "    \n",
    "# Plot mit normalisierten Kunden\n",
    "fig, ax = erstelle_kunden_plot(normalisierte_kunden, equal_aspect=True)\n",
    "# ax.scatter(0, 0)\n",
    "\n",
    "# ax.set_xlim(-1.2, 1.2)\n",
    "# ax.set_ylim(-1.2, 1.2)\n"
   ]
  },
  {
   "cell_type": "markdown",
   "id": "4cb4ba49",
   "metadata": {},
   "source": [
    "\n",
    "## Kundenähnlichkeit mit Skalarprodukt\n",
    "\n",
    "Das Skalarprodukt kann messen, wie \"ausgerichtet\" zwei Kunden in ihren Profilmerkmalen sind.\n"
   ]
  },
  {
   "cell_type": "code",
   "execution_count": 24,
   "id": "90ff269d",
   "metadata": {},
   "outputs": [
    {
     "name": "stdout",
     "output_type": "stream",
     "text": [
      "\n",
      "Kundenähnlichkeit mit Skalarprodukt:\n",
      "(Höhere Werte = ähnlichere Richtung)\n",
      "Alice & Bob: 0.9960092234900995 Angle 0.0893692757, 0.0893692757\n",
      "Alice & Charlie: 0.9994015897026058 Angle 0.0345968204, 0.0345968204\n",
      "Alice & Diana: 0.9998913542091001 Angle 0.0147409469, 0.0147409469\n",
      "Alice & Eve: 0.9969811530349608 Angle 0.0777221602, 0.0777221602\n",
      "Alice & Frank: 0.9999245014143113 Angle 0.0122881679, 0.0122881679\n"
     ]
    }
   ],
   "source": [
    "print(\"\\nKundenähnlichkeit mit Skalarprodukt:\")\n",
    "print(\"(Höhere Werte = ähnlichere Richtung)\")\n",
    "\n",
    "from math import acos\n",
    "\n",
    "# Alle Kunden mit Alice vergleichen (Skalarprodukt)\n",
    "alice = normalisierte_kunden[\"Alice\"]\n",
    "for name, kunde in normalisierte_kunden.items():\n",
    "    if name != \"Alice\":  # Alice selbst überspringen\n",
    "        skalar_prod = alice.dot_product(kunde)\n",
    "        print(f\"Alice & {name}: {skalar_prod} Angle {acos(skalar_prod):.10f}, {alice.angle_with(kunde):.10f}\")\n"
   ]
  },
  {
   "cell_type": "markdown",
   "id": "3b277716",
   "metadata": {},
   "source": [
    "\n",
    "## Den \"Durchschnittskunden\" finden\n",
    "\n",
    "Wir können alle Kunden-Vektoren addieren und durch die Anzahl der Kunden teilen, um den Schwerpunkt zu finden.\n"
   ]
  },
  {
   "cell_type": "code",
   "execution_count": 25,
   "id": "b7a31f67",
   "metadata": {},
   "outputs": [
    {
     "name": "stdout",
     "output_type": "stream",
     "text": [
      "\n",
      "Durchschnittliches Kundenprofil: Vector2D(38.33333333333333, 491.66666666666663)\n",
      "Durchschnittsalter: 38.3 Jahre\n",
      "Durchschnittsausgaben: 491.67€\n"
     ]
    }
   ],
   "source": [
    "# Durchschnittskunden berechnen\n",
    "# gesamt_vektor = Vector2D(0, 0)\n",
    "# for kunde in kunden.values():\n",
    "#     gesamt_vektor = gesamt_vektor + kunde\n",
    "\n",
    "gesamt_vektor = sum(kunden.values(), Vector2D(0, 0))\n",
    "durchschnitts_kunde = gesamt_vektor * (1/len(kunden))\n",
    "\n",
    "print(f\"\\nDurchschnittliches Kundenprofil: {durchschnitts_kunde}\")\n",
    "print(f\"Durchschnittsalter: {durchschnitts_kunde[0]:.1f} Jahre\")\n",
    "print(f\"Durchschnittsausgaben: {durchschnitts_kunde[1]:.2f}€\")"
   ]
  },
  {
   "cell_type": "markdown",
   "id": "78949c69",
   "metadata": {},
   "source": [
    "\n",
    "## Geschäftliche Erkenntnisse\n",
    "\n",
    "Nutzen wir unsere Vektoroperationen, um geschäftliche Erkenntnisse zu gewinnen:\n"
   ]
  },
  {
   "cell_type": "code",
   "execution_count": 26,
   "id": "0aeed5b9",
   "metadata": {},
   "outputs": [
    {
     "name": "stdout",
     "output_type": "stream",
     "text": [
      "'Mainstream'-Kunden (dem Durchschnitt am nächsten):\n",
      "Charlie: Distanz zum Durchschnitt = 10.67\n",
      "Frank: Distanz zum Durchschnitt = 93.17\n",
      "Diana: Distanz zum Durchschnitt = 191.70\n",
      "\n",
      "Ausreißer-Kunden (am weitesten vom Durchschnitt entfernt):\n",
      "Alice: Distanz zum Durchschnitt = 291.97\n",
      "Bob: Distanz zum Durchschnitt = 308.51\n"
     ]
    }
   ],
   "source": [
    "# Kunden finden, die dem Durchschnitt am nächsten sind (Mainstream-Kunden)\n",
    "durchschnitts_distanzen = []\n",
    "for name, kunde in kunden.items():\n",
    "    distanz = kunden_distanz(kunde, durchschnitts_kunde)\n",
    "    durchschnitts_distanzen.append((name, distanz))\n",
    "\n",
    "durchschnitts_distanzen.sort(key=lambda x: x[1])\n",
    "\n",
    "print(\"'Mainstream'-Kunden (dem Durchschnitt am nächsten):\")\n",
    "for name, distanz in durchschnitts_distanzen[:3]:\n",
    "    print(f\"{name}: Distanz zum Durchschnitt = {distanz:.2f}\")\n",
    "\n",
    "# Ausreißer finden (Kunden, die am weitesten vom Durchschnitt entfernt sind)\n",
    "print(\"\\nAusreißer-Kunden (am weitesten vom Durchschnitt entfernt):\")\n",
    "for name, distanz in durchschnitts_distanzen[-2:]:\n",
    "    print(f\"{name}: Distanz zum Durchschnitt = {distanz:.2f}\")"
   ]
  },
  {
   "cell_type": "markdown",
   "id": "a283a87b",
   "metadata": {},
   "source": [
    "\n",
    "## Marketing-Anwendungen\n",
    "\n",
    "Basierend auf unserer Vektoranalyse können wir Marketing-Empfehlungen geben:\n"
   ]
  },
  {
   "cell_type": "code",
   "execution_count": 27,
   "id": "e6317307",
   "metadata": {},
   "outputs": [
    {
     "name": "stdout",
     "output_type": "stream",
     "text": [
      "\n",
      "Viel-Ausgeber (>600€): 2 Kunden\n",
      "Junge Kunden (<35): 2 Kunden\n",
      "Junge Viel-Ausgeber: ['Bob']\n",
      "→ Zielgruppe für Premium-Produkt-Kampagnen!\n"
     ]
    }
   ],
   "source": [
    "# Kundensegmente identifizieren\n",
    "viel_ausgeber = [kunde for kunde in kunden.values() if kunde[1] > 600]\n",
    "junge_kunden = [kunde for kunde in kunden.values() if kunde[0] < 35]\n",
    "\n",
    "print(f\"\\nViel-Ausgeber (>600€): {len(viel_ausgeber)} Kunden\")\n",
    "print(f\"Junge Kunden (<35): {len(junge_kunden)} Kunden\")\n",
    "\n",
    "# Junge Viel-Ausgeber mit Vektoroperationen finden\n",
    "junge_viel_ausgeber = []\n",
    "for name, kunde in kunden.items():\n",
    "    if kunde[0] < 35 and kunde[1] > 600:\n",
    "        junge_viel_ausgeber.append(name)\n",
    "\n",
    "print(f\"Junge Viel-Ausgeber: {junge_viel_ausgeber}\")\n",
    "print(\"→ Zielgruppe für Premium-Produkt-Kampagnen!\")"
   ]
  },
  {
   "cell_type": "markdown",
   "id": "6f08d573",
   "metadata": {},
   "source": [
    "\n",
    "## Wichtige Erkenntnisse\n",
    "\n",
    "Dieses Beispiel zeigt, wie Vektoroperationen fundamental für die Datenanalyse sind:\n",
    "\n",
    "1. **Vektordarstellung** macht komplexe Datenbeziehungen visuell und mathematisch zugänglich\n",
    "2. **Distanzberechnungen** helfen bei der Identifizierung ähnlicher Kunden oder Ausreißer\n",
    "3. **Normalisierung** gewährleistet faire Vergleiche über verschiedene Skalen hinweg\n",
    "4. **Skalarprodukte** messen Ähnlichkeit in Kundenverhaltensmustern\n",
    "5. **Vektoraddition** hilft bei der Findung zentraler Tendenzen und Durchschnittsprofilen\n",
    "\n",
    "Diese Prinzipien skalieren auf höhere Dimensionen und werden in Machine-Learning-Algorithmen, Empfehlungssystemen und fortgeschrittener Analytik verwendet!"
   ]
  }
 ],
 "metadata": {
  "kernelspec": {
   "display_name": "python-entwicklung",
   "language": "python",
   "name": "python3"
  },
  "language_info": {
   "codemirror_mode": {
    "name": "ipython",
    "version": 3
   },
   "file_extension": ".py",
   "mimetype": "text/x-python",
   "name": "python",
   "nbconvert_exporter": "python",
   "pygments_lexer": "ipython3",
   "version": "3.12.4"
  }
 },
 "nbformat": 4,
 "nbformat_minor": 5
}
