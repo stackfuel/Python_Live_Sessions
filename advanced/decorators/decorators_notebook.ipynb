{
 "cells": [
  {
   "cell_type": "markdown",
   "metadata": {},
   "source": [
    "# Decorators in Python\n"
   ]
  },
  {
   "cell_type": "markdown",
   "metadata": {},
   "source": [
    "## Vorbemerkung `*args` und `**kwargs`\n",
    "`*args` und `**kwargs` sind spezielle Syntaxelemente in Python, die es ermöglichen, eine variable Anzahl von Argumenten an eine Funktion zu übergeben.\n",
    "\n",
    "### `*args` - Variable Positionale Argumente\n",
    "`*args` ermöglicht es, eine beliebige Anzahl von positionalen Argumenten an eine Funktion zu übergeben. Diese Argumente werden als Tupel in der Funktion verfügbar.\n"
   ]
  },
  {
   "cell_type": "code",
   "execution_count": 20,
   "metadata": {},
   "outputs": [
    {
     "name": "stdout",
     "output_type": "stream",
     "text": [
      "6\n",
      "15\n",
      "0\n"
     ]
    }
   ],
   "source": [
    "def sum_all(*args):\n",
    "    \"\"\"Summiert alle übergebenen Zahlen\"\"\"\n",
    "    total = 0\n",
    "    for num in args:\n",
    "        total += num\n",
    "    return total\n",
    "\n",
    "print(sum_all(1, 2, 3))        # 6\n",
    "print(sum_all(1, 2, 3, 4, 5))  # 15\n",
    "print(sum_all())               # 0"
   ]
  },
  {
   "cell_type": "markdown",
   "metadata": {},
   "source": [
    "### `**kwargs` - Variable Schlüsselwortargumente\n",
    "`**kwargs` ermöglicht es, eine beliebige Anzahl von benannten Argumenten (Schlüsselwortargumenten) an eine Funktion zu übergeben. Diese Argumente werden als Dictionary in der Funktion verfügbar."
   ]
  },
  {
   "cell_type": "code",
   "execution_count": 21,
   "metadata": {},
   "outputs": [
    {
     "name": "stdout",
     "output_type": "stream",
     "text": [
      "name: Max\n",
      "age: 25\n",
      "city: Berlin\n"
     ]
    }
   ],
   "source": [
    "def print_info(**kwargs):\n",
    "    \"\"\"Gibt alle Schlüssel-Wert-Paare aus\"\"\"\n",
    "    for key, value in kwargs.items():\n",
    "        print(f\"{key}: {value}\")\n",
    "\n",
    "print_info(name=\"Max\", age=25, city=\"Berlin\")\n",
    "# name: Max\n",
    "# age: 25\n",
    "# city: Berlin"
   ]
  },
  {
   "cell_type": "code",
   "execution_count": 26,
   "metadata": {},
   "outputs": [
    {
     "name": "stdout",
     "output_type": "stream",
     "text": [
      "Pflichtargument: Hallo\n",
      "Pflichtargument: Hallo\n",
      "Zusätzliche Argumente: (1, 2, 3)\n",
      "Pflichtargument: Hallo\n",
      "Zusätzliche Argumente: (1, 2)\n",
      "Schlüsselwort-Argumente:\n",
      "  name = Anna\n",
      "  age = 30\n"
     ]
    }
   ],
   "source": [
    "def flexible_function(required_arg, *args, **kwargs):\n",
    "    \"\"\"Demonstration einer flexiblen Funktionssignatur\"\"\"\n",
    "    print(f\"Pflichtargument: {required_arg}\")\n",
    "    \n",
    "    if args:\n",
    "        print(f\"Zusätzliche Argumente: {args}\")\n",
    "    \n",
    "    if kwargs:\n",
    "        print(\"Schlüsselwort-Argumente:\")\n",
    "        for key, value in kwargs.items():\n",
    "            print(f\"  {key} = {value}\")\n",
    "\n",
    "# Verschiedene Aufrufe\n",
    "flexible_function(\"Hallo\")\n",
    "flexible_function(\"Hallo\", 1, 2, 3)\n",
    "flexible_function(\"Hallo\", 1, 2, name=\"Anna\", age=30)"
   ]
  },
  {
   "cell_type": "markdown",
   "metadata": {},
   "source": [
    "## Funktionen als First-Class Citizens\n",
    "In Python sind Funktionen Objekte - sie können wie jedes andere Objekt behandelt werden. Das bedeutet:\n",
    "\n",
    "- Funktionen können Variablen zugewiesen werden\n",
    "- Funktionen können als Parameter an andere Funktionen übergeben werden\n",
    "- Funktionen können von anderen Funktionen zurückgegeben werden\n",
    "- Funktionen haben Attribute und Methoden"
   ]
  },
  {
   "cell_type": "code",
   "execution_count": 22,
   "metadata": {},
   "outputs": [
    {
     "name": "stdout",
     "output_type": "stream",
     "text": [
      "greet\n",
      "Eine einfache Begrüßungsfunktion\n",
      "<class 'function'>\n",
      "Hallo, Anna!\n"
     ]
    }
   ],
   "source": [
    "def greet(name):\n",
    "    \"\"\"Eine einfache Begrüßungsfunktion\"\"\"\n",
    "    return f\"Hallo, {name}!\"\n",
    "\n",
    "# Funktionen haben Attribute\n",
    "print(greet.__name__)        # greet\n",
    "print(greet.__doc__)         # Eine einfache Begrüßungsfunktion\n",
    "print(type(greet))           # <class 'function'>\n",
    "\n",
    "# Funktionen können Variablen zugewiesen werden\n",
    "say_hello = greet\n",
    "print(say_hello(\"Anna\"))     # Hallo, Anna!\n",
    "\n",
    "# Funktionen können in Listen/Dictionaries gespeichert werden\n",
    "functions = [greet, say_hello]\n",
    "func_dict = {\"greeting\": greet}"
   ]
  },
  {
   "cell_type": "code",
   "execution_count": null,
   "metadata": {},
   "outputs": [
    {
     "data": {
      "text/plain": [
       "'Hallo, Alice!'"
      ]
     },
     "execution_count": 24,
     "metadata": {},
     "output_type": "execute_result"
    }
   ],
   "source": [
    "# Funktionen haben eine __call__-Methode die den Aufruf ermöglicht\n",
    "greet.__call__(\"Alice\")  # Aufruf der Funktion mit __call__"
   ]
  },
  {
   "cell_type": "code",
   "execution_count": null,
   "metadata": {},
   "outputs": [
    {
     "data": {
      "text/plain": [
       "'Hallo aus der Klasse, Bob!'"
      ]
     },
     "execution_count": 27,
     "metadata": {},
     "output_type": "execute_result"
    }
   ],
   "source": [
    "# Wir können eine eigene Klasse definieren, die wie eine Funktion aufgerufen werden kann\n",
    "class CallableClass:\n",
    "    def __call__(self, name):\n",
    "        return f\"Hallo aus der Klasse, {name}!\"\n",
    "    \n",
    "callable_object = CallableClass()\n",
    "callable_object(\"Bob\")  # Aufruf der Klasse wie eine Funktion"
   ]
  },
  {
   "cell_type": "markdown",
   "metadata": {},
   "source": [
    "### Higher order functions und Closures\n",
    "\n",
    "Eine **higher order function** ist eine Funktion, die mindestens eine der folgenden Eigenschaften hat:\n",
    "- Sie nimmt eine oder mehrere Funktionen als Argumente.\n",
    "- Sie gibt eine Funktion zurück.\n",
    "\n",
    "Typische Beispiele für Higher Order Functions sind `map()`, `filter()` und `reduce()`. Aber auch `sorted()` und `max()` können als Higher Order Functions betrachtet werden, da sie eine Funktion als Schlüsselwortargument `key` akzeptieren um die Elemente vor dem Vergleich zu transformieren.\n"
   ]
  },
  {
   "cell_type": "code",
   "execution_count": null,
   "metadata": {},
   "outputs": [
    {
     "name": "stdout",
     "output_type": "stream",
     "text": [
      "15\n"
     ]
    }
   ],
   "source": [
    "def add_5(x):\n",
    "    return x + 5\n",
    "\n",
    "def apply(func, x):\n",
    "    return func(x)\n",
    "\n",
    "print(apply(add_5, 10))"
   ]
  },
  {
   "cell_type": "markdown",
   "metadata": {},
   "source": [
    "Ein **Closure** ist eine Funktion, die auf Variablen aus ihrem umgebenden Kontext (enclosing scope) zugreifen kann, auch wenn dieser Kontext nicht mehr aktiv ist. Closures werden häufig verwendet, um Zustände zu kapseln und Funktionen zu erstellen, die sich an vorherige Aufrufe erinnern.\n"
   ]
  },
  {
   "cell_type": "code",
   "execution_count": null,
   "metadata": {},
   "outputs": [
    {
     "name": "stdout",
     "output_type": "stream",
     "text": [
      "15\n",
      "(<cell at 0x0000020A2EB05F90: int object at 0x00007FFB2B45FA38>,)\n",
      "5\n"
     ]
    }
   ],
   "source": [
    "def create_add_n(n):\n",
    "    def add_n(x):\n",
    "        return x + n\n",
    "    return add_n\n",
    "\n",
    "add_5 = create_add_n(5)\n",
    "\n",
    "print(add_5(10))\n",
    "print(add_5.__closure__)\n",
    "print(add_5.__closure__[0].cell_contents)  # Zugriff auf die Variable n im Closure"
   ]
  },
  {
   "cell_type": "code",
   "execution_count": 28,
   "metadata": {},
   "outputs": [
    {
     "name": "stdout",
     "output_type": "stream",
     "text": [
      "-9\n"
     ]
    }
   ],
   "source": [
    "def square(x):\n",
    "    return x * x\n",
    "\n",
    "def negate(x):\n",
    "    return -x\n",
    "\n",
    "def compose(func1, func2):\n",
    "    \"\"\"Kombiniert zwei Funktionen, indem die Ausgabe von func1 als Eingabe für func2 verwendet wird.\"\"\"\n",
    "    def composed_function(x):\n",
    "        return func2(func1(x))\n",
    "    \n",
    "    return composed_function\n",
    "\n",
    "# Beispiel für die Verwendung von compose\n",
    "composed = compose(square, negate)\n",
    "print(composed(3))  # Ausgabe: -9, da (3 * 3) = 9 und dann negiert wird"
   ]
  },
  {
   "cell_type": "code",
   "execution_count": 4,
   "metadata": {},
   "outputs": [
    {
     "name": "stdout",
     "output_type": "stream",
     "text": [
      "5\n",
      "1\n"
     ]
    }
   ],
   "source": [
    "from functools import reduce\n",
    "def max_all(*args, key=None):\n",
    "    \n",
    "    def max_two(a, b):\n",
    "        if key is not None:\n",
    "            return a if key(a) > key(b) else b\n",
    "        return a if a > b else b\n",
    "    \n",
    "    return reduce(max_two, args)\n",
    "\n",
    "print(max_all(1, 2, 3, 4, 5))  # 5\n",
    "print(max_all(1, 2, 3, 4, 5, key=lambda x: -x))  # 1 (da wir die Werte umkehren)\n"
   ]
  },
  {
   "cell_type": "markdown",
   "metadata": {},
   "source": []
  },
  {
   "cell_type": "markdown",
   "metadata": {},
   "source": [
    "## Decorators\n",
    "Ein **Decorator** ist ein Design-Pattern, bei dem eine Funktion eine andere Funktion modifiziert oder erweitert, ohne deren Quellcode zu ändern. Decorators werden häufig verwendet, um Funktionen zu protokollieren, zu überwachen oder zusätzliche Funktionalitäten hinzuzufügen."
   ]
  },
  {
   "cell_type": "code",
   "execution_count": 29,
   "metadata": {},
   "outputs": [],
   "source": [
    "def is_prime(n):\n",
    "    '''A simple function to check if a number is prime.'''\n",
    "    if n <= 1:\n",
    "        return False\n",
    "    return not any(n % i == 0 for i in range(2, n))\n",
    "\n",
    "def log_function(func):\n",
    "    def wrapper(n):\n",
    "        print(f'Calling {func.__name__} with parameter {n}')\n",
    "        return func(n)\n",
    "    return wrapper\n"
   ]
  },
  {
   "cell_type": "code",
   "execution_count": 30,
   "metadata": {},
   "outputs": [
    {
     "name": "stdout",
     "output_type": "stream",
     "text": [
      "True\n",
      "--------------------\n",
      "Calling is_prime with parameter 17\n",
      "True\n"
     ]
    }
   ],
   "source": [
    "logged_is_prime = log_function(is_prime)\n",
    "\n",
    "# call pure function\n",
    "print(is_prime(17))\n",
    "\n",
    "print(\"-\"*20)\n",
    "# call logged function\n",
    "print(logged_is_prime(17))\n",
    "    "
   ]
  },
  {
   "cell_type": "markdown",
   "metadata": {},
   "source": [
    "Unser Decorator funktioniert gerade nur dann, wenn die zu dekorierende Funktion genau ein Argument erwartet.\n",
    "Wir können das Problem lösen, indem wir *args und **kwargs in der inneren Funktion verwenden.\n",
    "Das bedeutet, dass die dekorierte Funktion beliebig viele Argumente akzeptieren kann. Hier ist der aktualisierte Code:\n"
   ]
  },
  {
   "cell_type": "code",
   "execution_count": null,
   "metadata": {},
   "outputs": [],
   "source": [
    "def log_function(func):\n",
    "    def wrapper(*args, **kwargs):\n",
    "        print(f'Calling {func.__name__} with parameters {args} and {kwargs}')\n",
    "        return func(*args, **kwargs)\n",
    "    return wrapper"
   ]
  },
  {
   "cell_type": "code",
   "execution_count": 4,
   "metadata": {},
   "outputs": [
    {
     "name": "stdout",
     "output_type": "stream",
     "text": [
      "Calling is_prime with parameter (17,) and {}\n",
      "True\n"
     ]
    }
   ],
   "source": [
    "is_prime_logged = log_function(is_prime)\n",
    "\n",
    "print(is_prime_logged(17))"
   ]
  },
  {
   "cell_type": "code",
   "execution_count": 5,
   "metadata": {},
   "outputs": [
    {
     "name": "stdout",
     "output_type": "stream",
     "text": [
      "[17, 19, 23]\n",
      "--------------------\n",
      "Calling filter_primes with parameter (4, 6, 9, 17, 18, 19, 22, 23) and {}\n",
      "[17, 19, 23]\n"
     ]
    }
   ],
   "source": [
    "def filter_primes(*numbers):\n",
    "    return [n for n in numbers if is_prime(n)]\n",
    "\n",
    "print(filter_primes(4, 6, 9, 17, 18, 19, 22, 23))\n",
    "\n",
    "print(\"-\"*20)\t    \n",
    "\n",
    "filter_primes_logged = log_function(filter_primes)\n",
    "\n",
    "print(filter_primes_logged(4, 6, 9, 17, 18, 19, 22, 23))"
   ]
  },
  {
   "cell_type": "markdown",
   "metadata": {},
   "source": [
    "Python bietet uns eine weitere Möglichkeit an um Funktionen direkt bei der Definition zu dekorieren.\n",
    "Hierfür wird das @-Zeichen verwendet. Anstatt\n",
    "\n",
    "```python\n",
    "decorated_function = decorator_function(original_function)\n",
    "```\n",
    "\n",
    "Zu schreiben können wir auch einfach\n",
    "```python\n",
    "@decorator_function\n",
    "def original_function():\n",
    "    pass\n",
    "```\n",
    "bei der Funktionsdefinition Verwenden."
   ]
  },
  {
   "cell_type": "markdown",
   "metadata": {},
   "source": [
    "Hier nochmal beide Funktionen zusammen:"
   ]
  },
  {
   "cell_type": "code",
   "execution_count": null,
   "metadata": {},
   "outputs": [],
   "source": [
    "def log_function(func):\n",
    "    def wrapper(*args, **kwargs):\n",
    "        print(f'Calling {func.__name__} with parameter {args} and {kwargs}')\n",
    "        result = func(*args, **kwargs)\n",
    "        return result\n",
    "    return wrapper\n",
    "\n",
    "@log_function\n",
    "def is_prime(n):\n",
    "    '''A simple function to check if a number is prime.'''\n",
    "    if n <= 1:\n",
    "        return False\n",
    "    return not any(n % i == 0 for i in range(2, n))"
   ]
  },
  {
   "cell_type": "code",
   "execution_count": 14,
   "metadata": {},
   "outputs": [
    {
     "name": "stdout",
     "output_type": "stream",
     "text": [
      "Calling func with parameter (17,) and {}\n",
      "True\n"
     ]
    }
   ],
   "source": [
    "print(is_prime(17))"
   ]
  },
  {
   "cell_type": "markdown",
   "metadata": {},
   "source": [
    "Da unsere Funktion durch diese syntax überschrieben wird ergeibt sich ein Problem:\n",
    "Möchten wir eigenschaften der Funktion abfrage, wie den Namen oder den Docstring, werden uns nun die Eigenschaften unserer wrapper Funktion zurückgegeben."
   ]
  },
  {
   "cell_type": "code",
   "execution_count": 15,
   "metadata": {},
   "outputs": [
    {
     "name": "stdout",
     "output_type": "stream",
     "text": [
      "wrapper\n",
      "None\n"
     ]
    }
   ],
   "source": [
    "print(is_prime.__name__)\n",
    "print(is_prime.__doc__)"
   ]
  },
  {
   "cell_type": "markdown",
   "metadata": {},
   "source": [
    "Um dieses Problem zu beheben, können wir direkt einen decorator aus dem functools Modul aus der Standard Bibliothek von Python benutzen."
   ]
  },
  {
   "cell_type": "code",
   "execution_count": 16,
   "metadata": {},
   "outputs": [],
   "source": [
    "from functools import wraps\n",
    "\n",
    "def log_function(func):\n",
    "    @wraps(func)\n",
    "    def wrapper(*args, **kwargs):\n",
    "        print(f'Calling func with parameter {args} and {kwargs}')\n",
    "        result = func(*args, **kwargs)\n",
    "        return result\n",
    "    return wrapper\n",
    "\n",
    "@log_function\n",
    "def is_prime(n):\n",
    "    '''A simple function to check if a number is prime.'''\n",
    "    if n <= 1:\n",
    "        return False\n",
    "    return not any(n % i == 0 for i in range(2, n))"
   ]
  },
  {
   "cell_type": "code",
   "execution_count": 17,
   "metadata": {},
   "outputs": [
    {
     "name": "stdout",
     "output_type": "stream",
     "text": [
      "is_prime\n",
      "A simple function to check if a number is prime.\n"
     ]
    }
   ],
   "source": [
    "print(is_prime.__name__)\n",
    "print(is_prime.__doc__)"
   ]
  },
  {
   "cell_type": "code",
   "execution_count": null,
   "metadata": {},
   "outputs": [
    {
     "name": "stdout",
     "output_type": "stream",
     "text": [
      "5\n",
      "Gesamtanzahl Aufrufe: 15\n",
      "fibonacci\n",
      "Berechnet die n-te Fibonacci-Zahl\n"
     ]
    }
   ],
   "source": [
    "from functools import update_wrapper\n",
    "\n",
    "class CountCalls:\n",
    "    \"\"\"Zählt Funktionsaufrufe\"\"\"\n",
    "    \n",
    "    def __init__(self, func):\n",
    "        self.func = func\n",
    "        self.count = 0\n",
    "        update_wrapper(self, func) # damit die Metadaten der Funktion erhalten bleiben\n",
    "    \n",
    "    def __call__(self, *args, **kwargs):\n",
    "        self.count += 1\n",
    "        return self.func(*args, **kwargs)\n",
    "    \n",
    "    def get_count(self):\n",
    "        return self.count\n",
    "\n",
    "@CountCalls\n",
    "def fibonacci(n):\n",
    "    \"\"\"Berechnet die n-te Fibonacci-Zahl\"\"\"\n",
    "    if n <= 1:\n",
    "        return n\n",
    "    return fibonacci(n-1) + fibonacci(n-2)\n",
    "\n",
    "# Testen\n",
    "print(fibonacci(5))  # 5\n",
    "print(f\"Gesamtanzahl Aufrufe: {fibonacci.get_count()}\")"
   ]
  },
  {
   "cell_type": "markdown",
   "metadata": {},
   "source": [
    "# Property decorator"
   ]
  },
  {
   "cell_type": "code",
   "execution_count": 19,
   "metadata": {},
   "outputs": [
    {
     "name": "stdout",
     "output_type": "stream",
     "text": [
      "5\n",
      "10\n"
     ]
    },
    {
     "ename": "ValueError",
     "evalue": "x must be positive",
     "output_type": "error",
     "traceback": [
      "\u001b[1;31m---------------------------------------------------------------------------\u001b[0m",
      "\u001b[1;31mValueError\u001b[0m                                Traceback (most recent call last)",
      "Cell \u001b[1;32mIn[19], line 24\u001b[0m\n\u001b[0;32m     21\u001b[0m b\u001b[38;5;241m.\u001b[39mx \u001b[38;5;241m=\u001b[39m \u001b[38;5;241m10\u001b[39m\n\u001b[0;32m     22\u001b[0m \u001b[38;5;28mprint\u001b[39m(b\u001b[38;5;241m.\u001b[39mx)\n\u001b[1;32m---> 24\u001b[0m b\u001b[38;5;241m.\u001b[39mx \u001b[38;5;241m=\u001b[39m \u001b[38;5;241m-\u001b[39m\u001b[38;5;241m1\u001b[39m\n",
      "Cell \u001b[1;32mIn[19], line 15\u001b[0m, in \u001b[0;36mB.x\u001b[1;34m(self, value)\u001b[0m\n\u001b[0;32m     12\u001b[0m \u001b[38;5;129m@x\u001b[39m\u001b[38;5;241m.\u001b[39msetter\n\u001b[0;32m     13\u001b[0m \u001b[38;5;28;01mdef\u001b[39;00m \u001b[38;5;21mx\u001b[39m(\u001b[38;5;28mself\u001b[39m, value):\n\u001b[0;32m     14\u001b[0m     \u001b[38;5;28;01mif\u001b[39;00m value \u001b[38;5;241m<\u001b[39m \u001b[38;5;241m0\u001b[39m:\n\u001b[1;32m---> 15\u001b[0m         \u001b[38;5;28;01mraise\u001b[39;00m \u001b[38;5;167;01mValueError\u001b[39;00m(\u001b[38;5;124m\"\u001b[39m\u001b[38;5;124mx must be positive\u001b[39m\u001b[38;5;124m\"\u001b[39m)\n\u001b[0;32m     16\u001b[0m     \u001b[38;5;28mself\u001b[39m\u001b[38;5;241m.\u001b[39m_x \u001b[38;5;241m=\u001b[39m value\n",
      "\u001b[1;31mValueError\u001b[0m: x must be positive"
     ]
    }
   ],
   "source": [
    "# demonstrate the property decorator\n",
    "\n",
    "class B():\n",
    "    \n",
    "    def __init__(self, x):\n",
    "        self.x = x\n",
    "        \n",
    "    @property\n",
    "    def x(self):\n",
    "        return self._x\n",
    "    \n",
    "    @x.setter\n",
    "    def x(self, value):\n",
    "        if value < 0:\n",
    "            raise ValueError(\"x must be positive\")\n",
    "        self._x = value\n",
    "        \n",
    "        \n",
    "b = B(5)\n",
    "print(b.x)\n",
    "b.x = 10\n",
    "print(b.x)\n",
    "\n",
    "b.x = -1\n",
    "\n"
   ]
  },
  {
   "cell_type": "code",
   "execution_count": null,
   "metadata": {},
   "outputs": [
    {
     "name": "stdout",
     "output_type": "stream",
     "text": [
      "Radius: 5\n",
      "Fläche: 78.54\n",
      "Umfang: 31.42\n",
      "Neue Fläche: 28.27\n",
      "Fehler: Radius muss positiv sein\n"
     ]
    }
   ],
   "source": [
    "import math\n",
    "\n",
    "class Circle:\n",
    "    \"\"\"Repräsentiert einen Kreis\"\"\"\n",
    "    \n",
    "    def __init__(self, radius):\n",
    "        self._radius = radius  # Privates Attribut\n",
    "    \n",
    "    @property\n",
    "    def radius(self):\n",
    "        \"\"\"Getter für den Radius\"\"\"\n",
    "        return self._radius\n",
    "    \n",
    "    @radius.setter\n",
    "    def radius(self, value):\n",
    "        \"\"\"Setter für den Radius mit Validierung\"\"\"\n",
    "        if value <= 0:\n",
    "            raise ValueError(\"Radius muss positiv sein\")\n",
    "        self._radius = value\n",
    "    \n",
    "    @property\n",
    "    def area(self):\n",
    "        \"\"\"Berechnet die Fläche (read-only Property)\"\"\"\n",
    "        return math.pi * self._radius ** 2\n",
    "    \n",
    "    @property\n",
    "    def circumference(self):\n",
    "        \"\"\"Berechnet den Umfang (read-only Property)\"\"\"\n",
    "        return 2 * math.pi * self._radius\n",
    "\n",
    "# Verwendung\n",
    "circle = Circle(5)\n",
    "print(f\"Radius: {circle.radius}\")           # 5\n",
    "print(f\"Fläche: {circle.area:.2f}\")         # 78.54\n",
    "print(f\"Umfang: {circle.circumference:.2f}\") # 31.42\n",
    "\n",
    "# Radius ändern\n",
    "circle.radius = 3\n",
    "print(f\"Neue Fläche: {circle.area:.2f}\")    # 28.27\n",
    "\n",
    "# Validierung testen\n",
    "try:\n",
    "    circle.radius = -1  # Fehler!\n",
    "except ValueError as e:\n",
    "    print(f\"Fehler: {e}\")"
   ]
  },
  {
   "cell_type": "code",
   "execution_count": 20,
   "metadata": {},
   "outputs": [
    {
     "name": "stdout",
     "output_type": "stream",
     "text": [
      "Birth Date: 1990-05-15\n",
      "Current Age: 34\n",
      "Death Date: 2020-05-14\n",
      "Age at Death: 29\n"
     ]
    },
    {
     "ename": "ValueError",
     "evalue": "Death date cannot be before birth date",
     "output_type": "error",
     "traceback": [
      "\u001b[1;31m---------------------------------------------------------------------------\u001b[0m",
      "\u001b[1;31mValueError\u001b[0m                                Traceback (most recent call last)",
      "Cell \u001b[1;32mIn[20], line 43\u001b[0m\n\u001b[0;32m     40\u001b[0m \u001b[38;5;28mprint\u001b[39m(\u001b[38;5;124mf\u001b[39m\u001b[38;5;124m\"\u001b[39m\u001b[38;5;124mDeath Date: \u001b[39m\u001b[38;5;132;01m{\u001b[39;00mperson\u001b[38;5;241m.\u001b[39mdeath_date\u001b[38;5;132;01m}\u001b[39;00m\u001b[38;5;124m\"\u001b[39m)\n\u001b[0;32m     41\u001b[0m \u001b[38;5;28mprint\u001b[39m(\u001b[38;5;124mf\u001b[39m\u001b[38;5;124m\"\u001b[39m\u001b[38;5;124mAge at Death: \u001b[39m\u001b[38;5;132;01m{\u001b[39;00mperson\u001b[38;5;241m.\u001b[39mage\u001b[38;5;132;01m}\u001b[39;00m\u001b[38;5;124m\"\u001b[39m)\n\u001b[1;32m---> 43\u001b[0m person\u001b[38;5;241m.\u001b[39mdeath_date \u001b[38;5;241m=\u001b[39m date(\u001b[38;5;241m1980\u001b[39m, \u001b[38;5;241m5\u001b[39m, \u001b[38;5;241m14\u001b[39m)\n",
      "Cell \u001b[1;32mIn[20], line 22\u001b[0m, in \u001b[0;36mPerson.death_date\u001b[1;34m(self, value)\u001b[0m\n\u001b[0;32m     20\u001b[0m \u001b[38;5;250m\u001b[39m\u001b[38;5;124;03m\"\"\"Set the death date of the person.\"\"\"\u001b[39;00m\n\u001b[0;32m     21\u001b[0m \u001b[38;5;28;01mif\u001b[39;00m value \u001b[38;5;241m<\u001b[39m \u001b[38;5;28mself\u001b[39m\u001b[38;5;241m.\u001b[39m_birth_date:\n\u001b[1;32m---> 22\u001b[0m     \u001b[38;5;28;01mraise\u001b[39;00m \u001b[38;5;167;01mValueError\u001b[39;00m(\u001b[38;5;124m\"\u001b[39m\u001b[38;5;124mDeath date cannot be before birth date\u001b[39m\u001b[38;5;124m\"\u001b[39m)\n\u001b[0;32m     23\u001b[0m \u001b[38;5;28mself\u001b[39m\u001b[38;5;241m.\u001b[39m_death_date \u001b[38;5;241m=\u001b[39m value\n",
      "\u001b[1;31mValueError\u001b[0m: Death date cannot be before birth date"
     ]
    }
   ],
   "source": [
    "from datetime import date\n",
    "\n",
    "class Person:\n",
    "    def __init__(self, birth_date, death_date=None):\n",
    "        self._birth_date = birth_date\n",
    "        self._death_date = death_date\n",
    "\n",
    "    @property\n",
    "    def birth_date(self):\n",
    "        \"\"\"Get the birth date of the person.\"\"\"\n",
    "        return self._birth_date\n",
    "\n",
    "    @property\n",
    "    def death_date(self):\n",
    "        \"\"\"Get the death date of the person, if applicable.\"\"\"\n",
    "        return self._death_date\n",
    "\n",
    "    @death_date.setter\n",
    "    def death_date(self, value):\n",
    "        \"\"\"Set the death date of the person.\"\"\"\n",
    "        if value < self._birth_date:\n",
    "            raise ValueError(\"Death date cannot be before birth date\")\n",
    "        self._death_date = value\n",
    "\n",
    "    @property\n",
    "    def age(self):\n",
    "        \"\"\"Calculate the age of the person based on birth and death date.\"\"\"\n",
    "        end_date = self._death_date if self._death_date else date.today()\n",
    "        return end_date.year - self._birth_date.year - (\n",
    "            (end_date.month, end_date.day) < (self._birth_date.month, self._birth_date.day)\n",
    "        )\n",
    "\n",
    "# Example usage\n",
    "person = Person(date(1990, 5, 15))\n",
    "print(f\"Birth Date: {person.birth_date}\")\n",
    "print(f\"Current Age: {person.age}\")\n",
    "\n",
    "# Set a death date\n",
    "person.death_date = date(2020, 5, 14)\n",
    "print(f\"Death Date: {person.death_date}\")\n",
    "print(f\"Age at Death: {person.age}\")\n",
    "\n",
    "person.death_date = date(1980, 5, 14)\n"
   ]
  },
  {
   "cell_type": "markdown",
   "metadata": {},
   "source": [
    "# Classmethod und Staticmethod"
   ]
  },
  {
   "cell_type": "markdown",
   "metadata": {},
   "source": [
    "Python bietet vier verschiedene Methodentypen, die sich in ihrem Zugriff auf Klassen- und Instanzdaten unterscheiden. Diese Methodentypen ermöglichen es, verschiedene Funktionalitäten je nach Anwendungsfall optimal zu implementieren.\n",
    "\n",
    "• **Einfache Methode** - Eine normale Funktion innerhalb einer Klasse ohne automatische Parameter, die nur über die Klasse selbst aufgerufen werden kann\n",
    "\n",
    "• **Instanzmethode** - Die Standard-Methode mit `self`-Parameter, die auf spezifische Objektinstanzen und deren Attribute zugreift\n",
    "\n",
    "• **Statische Methode** - Eine unabhängige Methode mit `@staticmethod`-Decorator, die weder auf Instanz- noch Klassendaten zugreift und sowohl über Klasse als auch Instanz aufrufbar ist\n",
    "\n",
    "• **Klassenmethode** - Eine Methode mit `@classmethod`-Decorator und `cls`-Parameter, die auf Klassendaten zugreift und oft für alternative Konstruktoren verwendet wird"
   ]
  },
  {
   "cell_type": "code",
   "execution_count": null,
   "metadata": {},
   "outputs": [
    {
     "name": "stdout",
     "output_type": "stream",
     "text": [
      "m2 of A called with self <__main__.A object at 0x000002A51D4D34A0>\n",
      "m3 of A called\n",
      "m4 of A called with cls <class '__main__.A'>\n",
      "--------------------\n",
      "m1 of A called\n",
      "m2 of A called with self <__main__.A object at 0x000002A51D4D34A0>\n",
      "m3 of A called\n",
      "m4 of A called with cls <class '__main__.A'>\n"
     ]
    }
   ],
   "source": [
    "class A:\n",
    "    \n",
    "    # method\n",
    "    def m1():\n",
    "        print(\"m1 of A called\")\n",
    "    \n",
    "    # instance method\n",
    "    def m2(self):\n",
    "        print(\"m2 of A called with self\", self)\n",
    "        \n",
    "    @staticmethod\n",
    "    def m3():\n",
    "        print(\"m3 of A called\")\n",
    "        \n",
    "    @classmethod\n",
    "    def m4(cls):\n",
    "        print(\"m4 of A called with cls\", cls)\n",
    "        \n",
    "        \n",
    "a = A()\n",
    "\n",
    "\n",
    "# a.m1()\n",
    "a.m2()\n",
    "a.m3()\n",
    "a.m4()\n",
    "\n",
    "print(\"-\"*20)\n",
    "\n",
    "A.m1()\n",
    "A.m2(a)\n",
    "A.m3()\n",
    "A.m4()"
   ]
  },
  {
   "cell_type": "markdown",
   "metadata": {},
   "source": [
    "# lru_cache"
   ]
  },
  {
   "cell_type": "code",
   "execution_count": 21,
   "metadata": {},
   "outputs": [
    {
     "name": "stdout",
     "output_type": "stream",
     "text": [
      "55\n",
      "6765\n",
      "55\n"
     ]
    }
   ],
   "source": [
    "from functools import lru_cache\n",
    "\n",
    "# Define a Fibonacci function with caching\n",
    "@lru_cache(maxsize=None)  # maxsize=None means unlimited cache size\n",
    "def fibonacci(n):\n",
    "    \"\"\"Return the nth Fibonacci number.\"\"\"\n",
    "    if n < 2:\n",
    "        return n\n",
    "    return fibonacci(n - 1) + fibonacci(n - 2)\n",
    "\n",
    "# Example usage\n",
    "print(fibonacci(10))  # Output: 55\n",
    "print(fibonacci(20))  # Output: 6765\n",
    "\n",
    "# Calling fibonacci(10) again will use the cached result\n",
    "print(fibonacci(10))  # Output: 55 (retrieved from cache)\n"
   ]
  },
  {
   "cell_type": "markdown",
   "metadata": {},
   "source": [
    "# Data Class"
   ]
  },
  {
   "cell_type": "code",
   "execution_count": 22,
   "metadata": {},
   "outputs": [
    {
     "name": "stdout",
     "output_type": "stream",
     "text": [
      "Point(x=1.5, y=2.5)\n",
      "1.5\n",
      "2.5\n",
      "True\n",
      "Point(x=3.0, y=2.5)\n"
     ]
    }
   ],
   "source": [
    "from dataclasses import dataclass\n",
    "\n",
    "@dataclass\n",
    "class Point:\n",
    "    x: float\n",
    "    y: float\n",
    "\n",
    "# Creating an instance of Point\n",
    "point1 = Point(1.5, 2.5)\n",
    "print(point1)  # Output: Point(x=1.5, y=2.5)\n",
    "\n",
    "# Accessing fields\n",
    "print(point1.x)  # Output: 1.5\n",
    "print(point1.y)  # Output: 2.5\n",
    "\n",
    "# Comparing instances\n",
    "point2 = Point(1.5, 2.5)\n",
    "print(point1 == point2)  # Output: True\n",
    "\n",
    "# Modifying fields\n",
    "point1.x = 3.0\n",
    "print(point1)  # Output: Point(x=3.0, y=2.5)\n"
   ]
  }
 ],
 "metadata": {
  "kernelspec": {
   "display_name": "python-entwicklung",
   "language": "python",
   "name": "python3"
  },
  "language_info": {
   "codemirror_mode": {
    "name": "ipython",
    "version": 3
   },
   "file_extension": ".py",
   "mimetype": "text/x-python",
   "name": "python",
   "nbconvert_exporter": "python",
   "pygments_lexer": "ipython3",
   "version": "3.12.4"
  }
 },
 "nbformat": 4,
 "nbformat_minor": 2
}
