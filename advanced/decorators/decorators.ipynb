{
 "cells": [
  {
   "cell_type": "markdown",
   "metadata": {},
   "source": [
    "# Decorators in Python\n"
   ]
  },
  {
   "cell_type": "markdown",
   "metadata": {},
   "source": [
    "## Tuple and Dictionary packing und unpacking\n",
    "\n",
    "In Python können tuple wie `(1, 2, 3)` mit dem `*` symbol \"entpackt\" werden."
   ]
  },
  {
   "cell_type": "code",
   "execution_count": 1,
   "metadata": {},
   "outputs": [
    {
     "name": "stdout",
     "output_type": "stream",
     "text": [
      "(1, 2, 3)\n",
      "1 2 3\n"
     ]
    }
   ],
   "source": [
    "t = (1, 2, 3)\n",
    "print(t)\n",
    "print(*t)"
   ]
  },
  {
   "cell_type": "markdown",
   "metadata": {},
   "source": [
    "Das Gleiche gilt für Dictionarys.\n",
    "\n",
    "Um dictionarys zu entpacken müssen die keys zu den Keyword Argumenten der Funtion passen."
   ]
  },
  {
   "cell_type": "code",
   "execution_count": 25,
   "metadata": {},
   "outputs": [
    {
     "name": "stdout",
     "output_type": "stream",
     "text": [
      "{'sep': ', ', 'end': '\\ndone\\n'}\n",
      "--------------------\n",
      "1, 2, 3\n",
      "done\n"
     ]
    }
   ],
   "source": [
    "print(d)\n",
    "print(\"-\"*20)\n",
    "\n",
    "d = {\n",
    "    'sep': ', ',\n",
    "    'end': '\\ndone\\n'\n",
    "}\n",
    "print(*t, **d)"
   ]
  },
  {
   "cell_type": "markdown",
   "metadata": {},
   "source": [
    "Der `*`-Operator wird auch in der Funktionsdefinition verwendet, um eine beliebige Anzahl von Argumenten zu akzeptieren."
   ]
  },
  {
   "cell_type": "code",
   "execution_count": 3,
   "metadata": {},
   "outputs": [
    {
     "name": "stdout",
     "output_type": "stream",
     "text": [
      "(1, 2, 3)\n"
     ]
    }
   ],
   "source": [
    "def f(*args):\n",
    "    print(args)\n",
    "    \n",
    "f(1, 2, 3)"
   ]
  },
  {
   "cell_type": "markdown",
   "metadata": {},
   "source": [
    "Wir können auch mit `**` arbeiten, um eine beliebige Anzahl von Schlüssel-Wert-Paaren zu übergeben:"
   ]
  },
  {
   "cell_type": "code",
   "execution_count": 4,
   "metadata": {},
   "outputs": [
    {
     "name": "stdout",
     "output_type": "stream",
     "text": [
      "{'a': 1, 'b': 2, 'c': 3}\n"
     ]
    }
   ],
   "source": [
    "def g(**kwargs):\n",
    "    print(kwargs)\n",
    "    \n",
    "g(a=1, b=2, c=3)"
   ]
  },
  {
   "cell_type": "markdown",
   "metadata": {},
   "source": [
    "Mit `*` werden die beliebig viele positional arguments als Tuple zusammengefasst. Mit `**` werden die beliebig viele keyword arguments als Dictionary zusammengefasst.\n",
    "\n",
    "Diese Technik erlaubt es uns Funktionen zu schreiben, die eine beliebige Anzahl von Argumenten akzeptieren."
   ]
  },
  {
   "cell_type": "code",
   "execution_count": 5,
   "metadata": {},
   "outputs": [
    {
     "name": "stdout",
     "output_type": "stream",
     "text": [
      "(1, 2, 3)\n",
      "{'a': 1, 'b': 2, 'c': 3}\n"
     ]
    }
   ],
   "source": [
    "def h(*args, **kwargs):\n",
    "    print(args)\n",
    "    print(kwargs)\n",
    "    \n",
    "h(1, 2, 3, a=1, b=2, c=3)"
   ]
  },
  {
   "cell_type": "markdown",
   "metadata": {},
   "source": [
    "## Higher order functions\n",
    "\n",
    "In Python ist alles ein Objekt, einschließlich Funktionen. Funktionen werden daher auch als *first class citizens* bezeichnet. \n",
    "\n",
    "Das bedeutet Folgendes:\n",
    "\n",
    "1. **Funktionen als Argumente**: Sie können Funktionen als Argumente an andere Funktionen übergeben.\n",
    "2. **Funktionen als Rückgabewerte**: Funktionen können auch als Rückgabewerte von anderen Funktionen genutzt werden.\n",
    "\n",
    "Eine Funktion, die eine andere Funktion als Argument erhält, wird als *higher order function* (höherwertige Funktion) bezeichnet."
   ]
  },
  {
   "cell_type": "code",
   "execution_count": 6,
   "metadata": {},
   "outputs": [
    {
     "name": "stdout",
     "output_type": "stream",
     "text": [
      "15\n"
     ]
    }
   ],
   "source": [
    "def add_5(x):\n",
    "    return x + 5\n",
    "\n",
    "def apply(func, x):\n",
    "    return func(x)\n",
    "\n",
    "print(apply(add_5, 10))"
   ]
  },
  {
   "cell_type": "code",
   "execution_count": 7,
   "metadata": {},
   "outputs": [
    {
     "name": "stdout",
     "output_type": "stream",
     "text": [
      "15\n"
     ]
    }
   ],
   "source": [
    "def create_add_n(n):\n",
    "    def add_n(x):\n",
    "        return x + n\n",
    "    return add_n\n",
    "\n",
    "add_5 = create_add_n(5)\n",
    "\n",
    "print(add_5(10))"
   ]
  },
  {
   "cell_type": "markdown",
   "metadata": {},
   "source": [
    "Diese Eigenschaft von Python können wir nutzen, um Funktionen im Nachhinein mit weiterer Funktionalität zu erweitern."
   ]
  },
  {
   "cell_type": "code",
   "execution_count": 8,
   "metadata": {},
   "outputs": [],
   "source": [
    "def is_prime(n):\n",
    "    '''A simple function to check if a number is prime.'''\n",
    "    if n <= 1:\n",
    "        return False\n",
    "    return not any(n % i == 0 for i in range(2, n))\n",
    "\n",
    "def log_function(func):\n",
    "    def wrapper(n):\n",
    "        print(f'Calling func with parameter {n}')\n",
    "        return func(n)\n",
    "    return wrapper\n"
   ]
  },
  {
   "cell_type": "code",
   "execution_count": 9,
   "metadata": {},
   "outputs": [
    {
     "name": "stdout",
     "output_type": "stream",
     "text": [
      "True\n",
      "--------------------\n",
      "Calling func with parameter 17\n",
      "True\n"
     ]
    }
   ],
   "source": [
    "logged_is_prime = log_function(is_prime)\n",
    "\n",
    "# call pure function\n",
    "print(is_prime(17))\n",
    "\n",
    "print(\"-\"*20)\n",
    "# call logged function\n",
    "print(logged_is_prime(17))\n",
    "    "
   ]
  },
  {
   "cell_type": "markdown",
   "metadata": {},
   "source": [
    "Unser Decorator funktioniert gerade nur dann, wenn die zu dekorierende Funktion genau ein Argument erwartet.\n",
    "Wir können das Problem lösen, indem wir *args und **kwargs in der inneren Funktion verwenden.\n",
    "Das bedeutet, dass die dekorierte Funktion beliebig viele Argumente akzeptieren kann. Hier ist der aktualisierte Code:\n"
   ]
  },
  {
   "cell_type": "code",
   "execution_count": 10,
   "metadata": {},
   "outputs": [],
   "source": [
    "def log_function(func):\n",
    "    def wrapper(*args, **kwargs):\n",
    "        print(f'Calling func with parameter {args} and {kwargs}')\n",
    "        return func(*args, **kwargs)\n",
    "    return wrapper"
   ]
  },
  {
   "cell_type": "code",
   "execution_count": 11,
   "metadata": {},
   "outputs": [
    {
     "name": "stdout",
     "output_type": "stream",
     "text": [
      "Calling func with parameter (17,) and {}\n",
      "True\n"
     ]
    }
   ],
   "source": [
    "is_prime_logged = log_function(is_prime)\n",
    "\n",
    "print(is_prime_logged(17))"
   ]
  },
  {
   "cell_type": "code",
   "execution_count": 12,
   "metadata": {},
   "outputs": [
    {
     "name": "stdout",
     "output_type": "stream",
     "text": [
      "[17, 19, 23]\n",
      "--------------------\n",
      "Calling func with parameter (4, 6, 9, 17, 18, 19, 22, 23) and {}\n",
      "[17, 19, 23]\n"
     ]
    }
   ],
   "source": [
    "def filter_primes(*numbers):\n",
    "    return [n for n in numbers if is_prime(n)]\n",
    "\n",
    "print(filter_primes(4, 6, 9, 17, 18, 19, 22, 23))\n",
    "\n",
    "print(\"-\"*20)\t    \n",
    "\n",
    "filter_primes_logged = log_function(filter_primes)\n",
    "\n",
    "print(filter_primes_logged(4, 6, 9, 17, 18, 19, 22, 23))"
   ]
  },
  {
   "cell_type": "markdown",
   "metadata": {},
   "source": [
    "Python bietet uns eine weitere Möglichkeit an um Funktionen direkt bei der Definition zu dekorieren.\n",
    "Hierfür wird das @-Zeichen verwendet. Anstatt\n",
    "```python\n",
    "decorated_function = decorator_function(original_function)\n",
    "```\n",
    "\n",
    "Zu schreiben können wir auch einfach\n",
    "```python\n",
    "@decorator_function\n",
    "def original_function():\n",
    "    pass\n",
    "```\n",
    "Verwenden."
   ]
  },
  {
   "cell_type": "markdown",
   "metadata": {},
   "source": [
    "Hier nochmal beide Funktionen zusammen:"
   ]
  },
  {
   "cell_type": "code",
   "execution_count": 13,
   "metadata": {},
   "outputs": [],
   "source": [
    "def log_function(func):\n",
    "    def wrapper(*args, **kwargs):\n",
    "        print(f'Calling func with parameter {args} and {kwargs}')\n",
    "        result = func(*args, **kwargs)\n",
    "        return result\n",
    "    return wrapper\n",
    "\n",
    "@log_function\n",
    "def is_prime(n):\n",
    "    '''A simple function to check if a number is prime.'''\n",
    "    if n <= 1:\n",
    "        return False\n",
    "    return not any(n % i == 0 for i in range(2, n))"
   ]
  },
  {
   "cell_type": "code",
   "execution_count": 14,
   "metadata": {},
   "outputs": [
    {
     "name": "stdout",
     "output_type": "stream",
     "text": [
      "Calling func with parameter (17,) and {}\n",
      "True\n"
     ]
    }
   ],
   "source": [
    "print(is_prime(17))"
   ]
  },
  {
   "cell_type": "markdown",
   "metadata": {},
   "source": [
    "Da unsere Funktion durch diese syntax überschrieben wird ergeibt sich ein Problem:\n",
    "Möchten wir eigenschaften der Funktion abfrage, wie den Namen oder den Docstring, werden uns nun die Eigenschaften unserer wrapper Funktion zurückgegeben."
   ]
  },
  {
   "cell_type": "code",
   "execution_count": 15,
   "metadata": {},
   "outputs": [
    {
     "name": "stdout",
     "output_type": "stream",
     "text": [
      "wrapper\n",
      "None\n"
     ]
    }
   ],
   "source": [
    "print(is_prime.__name__)\n",
    "print(is_prime.__doc__)"
   ]
  },
  {
   "cell_type": "markdown",
   "metadata": {},
   "source": [
    "Um dieses Problem zu beheben, können wir direkt einen decorator aus dem functools Modul aus der Standard Bibliothek von Python benutzen."
   ]
  },
  {
   "cell_type": "code",
   "execution_count": 16,
   "metadata": {},
   "outputs": [],
   "source": [
    "from functools import wraps\n",
    "\n",
    "def log_function(func):\n",
    "    @wraps(func)\n",
    "    def wrapper(*args, **kwargs):\n",
    "        print(f'Calling func with parameter {args} and {kwargs}')\n",
    "        result = func(*args, **kwargs)\n",
    "        return result\n",
    "    return wrapper\n",
    "\n",
    "@log_function\n",
    "def is_prime(n):\n",
    "    '''A simple function to check if a number is prime.'''\n",
    "    if n <= 1:\n",
    "        return False\n",
    "    return not any(n % i == 0 for i in range(2, n))"
   ]
  },
  {
   "cell_type": "code",
   "execution_count": 17,
   "metadata": {},
   "outputs": [
    {
     "name": "stdout",
     "output_type": "stream",
     "text": [
      "is_prime\n",
      "A simple function to check if a number is prime.\n"
     ]
    }
   ],
   "source": [
    "print(is_prime.__name__)\n",
    "print(is_prime.__doc__)"
   ]
  },
  {
   "cell_type": "markdown",
   "metadata": {},
   "source": [
    "# Classmethod und Staticmethod"
   ]
  },
  {
   "cell_type": "code",
   "execution_count": 18,
   "metadata": {},
   "outputs": [
    {
     "name": "stdout",
     "output_type": "stream",
     "text": [
      "m2 of A called with self <__main__.A object at 0x000002A51D4D34A0>\n",
      "m3 of A called\n",
      "m4 of A called with cls <class '__main__.A'>\n",
      "--------------------\n",
      "m1 of A called\n",
      "m2 of A called with self <__main__.A object at 0x000002A51D4D34A0>\n",
      "m3 of A called\n",
      "m4 of A called with cls <class '__main__.A'>\n"
     ]
    }
   ],
   "source": [
    "class A:\n",
    "    \n",
    "    def m1():\n",
    "        print(\"m1 of A called\")\n",
    "        \n",
    "    def m2(self):\n",
    "        print(\"m2 of A called with self\", self)\n",
    "        \n",
    "    @staticmethod\n",
    "    def m3():\n",
    "        print(\"m3 of A called\")\n",
    "        \n",
    "    @classmethod\n",
    "    def m4(cls):\n",
    "        print(\"m4 of A called with cls\", cls)\n",
    "        \n",
    "        \n",
    "a = A()\n",
    "\n",
    "\n",
    "# a.m1()\n",
    "a.m2()\n",
    "a.m3()\n",
    "a.m4()\n",
    "\n",
    "print(\"-\"*20)\n",
    "\n",
    "A.m1()\n",
    "A.m2(a)\n",
    "A.m3()\n",
    "A.m4()"
   ]
  },
  {
   "cell_type": "markdown",
   "metadata": {},
   "source": [
    "# Property decorator"
   ]
  },
  {
   "cell_type": "code",
   "execution_count": 19,
   "metadata": {},
   "outputs": [
    {
     "name": "stdout",
     "output_type": "stream",
     "text": [
      "5\n",
      "10\n"
     ]
    },
    {
     "ename": "ValueError",
     "evalue": "x must be positive",
     "output_type": "error",
     "traceback": [
      "\u001b[1;31m---------------------------------------------------------------------------\u001b[0m",
      "\u001b[1;31mValueError\u001b[0m                                Traceback (most recent call last)",
      "Cell \u001b[1;32mIn[19], line 24\u001b[0m\n\u001b[0;32m     21\u001b[0m b\u001b[38;5;241m.\u001b[39mx \u001b[38;5;241m=\u001b[39m \u001b[38;5;241m10\u001b[39m\n\u001b[0;32m     22\u001b[0m \u001b[38;5;28mprint\u001b[39m(b\u001b[38;5;241m.\u001b[39mx)\n\u001b[1;32m---> 24\u001b[0m b\u001b[38;5;241m.\u001b[39mx \u001b[38;5;241m=\u001b[39m \u001b[38;5;241m-\u001b[39m\u001b[38;5;241m1\u001b[39m\n",
      "Cell \u001b[1;32mIn[19], line 15\u001b[0m, in \u001b[0;36mB.x\u001b[1;34m(self, value)\u001b[0m\n\u001b[0;32m     12\u001b[0m \u001b[38;5;129m@x\u001b[39m\u001b[38;5;241m.\u001b[39msetter\n\u001b[0;32m     13\u001b[0m \u001b[38;5;28;01mdef\u001b[39;00m \u001b[38;5;21mx\u001b[39m(\u001b[38;5;28mself\u001b[39m, value):\n\u001b[0;32m     14\u001b[0m     \u001b[38;5;28;01mif\u001b[39;00m value \u001b[38;5;241m<\u001b[39m \u001b[38;5;241m0\u001b[39m:\n\u001b[1;32m---> 15\u001b[0m         \u001b[38;5;28;01mraise\u001b[39;00m \u001b[38;5;167;01mValueError\u001b[39;00m(\u001b[38;5;124m\"\u001b[39m\u001b[38;5;124mx must be positive\u001b[39m\u001b[38;5;124m\"\u001b[39m)\n\u001b[0;32m     16\u001b[0m     \u001b[38;5;28mself\u001b[39m\u001b[38;5;241m.\u001b[39m_x \u001b[38;5;241m=\u001b[39m value\n",
      "\u001b[1;31mValueError\u001b[0m: x must be positive"
     ]
    }
   ],
   "source": [
    "# demonstrate the property decorator\n",
    "\n",
    "class B():\n",
    "    \n",
    "    def __init__(self, x):\n",
    "        self.x = x\n",
    "        \n",
    "    @property\n",
    "    def x(self):\n",
    "        return self._x\n",
    "    \n",
    "    @x.setter\n",
    "    def x(self, value):\n",
    "        if value < 0:\n",
    "            raise ValueError(\"x must be positive\")\n",
    "        self._x = value\n",
    "        \n",
    "        \n",
    "b = B(5)\n",
    "print(b.x)\n",
    "b.x = 10\n",
    "print(b.x)\n",
    "\n",
    "b.x = -1\n",
    "\n"
   ]
  },
  {
   "cell_type": "code",
   "execution_count": 20,
   "metadata": {},
   "outputs": [
    {
     "name": "stdout",
     "output_type": "stream",
     "text": [
      "Birth Date: 1990-05-15\n",
      "Current Age: 34\n",
      "Death Date: 2020-05-14\n",
      "Age at Death: 29\n"
     ]
    },
    {
     "ename": "ValueError",
     "evalue": "Death date cannot be before birth date",
     "output_type": "error",
     "traceback": [
      "\u001b[1;31m---------------------------------------------------------------------------\u001b[0m",
      "\u001b[1;31mValueError\u001b[0m                                Traceback (most recent call last)",
      "Cell \u001b[1;32mIn[20], line 43\u001b[0m\n\u001b[0;32m     40\u001b[0m \u001b[38;5;28mprint\u001b[39m(\u001b[38;5;124mf\u001b[39m\u001b[38;5;124m\"\u001b[39m\u001b[38;5;124mDeath Date: \u001b[39m\u001b[38;5;132;01m{\u001b[39;00mperson\u001b[38;5;241m.\u001b[39mdeath_date\u001b[38;5;132;01m}\u001b[39;00m\u001b[38;5;124m\"\u001b[39m)\n\u001b[0;32m     41\u001b[0m \u001b[38;5;28mprint\u001b[39m(\u001b[38;5;124mf\u001b[39m\u001b[38;5;124m\"\u001b[39m\u001b[38;5;124mAge at Death: \u001b[39m\u001b[38;5;132;01m{\u001b[39;00mperson\u001b[38;5;241m.\u001b[39mage\u001b[38;5;132;01m}\u001b[39;00m\u001b[38;5;124m\"\u001b[39m)\n\u001b[1;32m---> 43\u001b[0m person\u001b[38;5;241m.\u001b[39mdeath_date \u001b[38;5;241m=\u001b[39m date(\u001b[38;5;241m1980\u001b[39m, \u001b[38;5;241m5\u001b[39m, \u001b[38;5;241m14\u001b[39m)\n",
      "Cell \u001b[1;32mIn[20], line 22\u001b[0m, in \u001b[0;36mPerson.death_date\u001b[1;34m(self, value)\u001b[0m\n\u001b[0;32m     20\u001b[0m \u001b[38;5;250m\u001b[39m\u001b[38;5;124;03m\"\"\"Set the death date of the person.\"\"\"\u001b[39;00m\n\u001b[0;32m     21\u001b[0m \u001b[38;5;28;01mif\u001b[39;00m value \u001b[38;5;241m<\u001b[39m \u001b[38;5;28mself\u001b[39m\u001b[38;5;241m.\u001b[39m_birth_date:\n\u001b[1;32m---> 22\u001b[0m     \u001b[38;5;28;01mraise\u001b[39;00m \u001b[38;5;167;01mValueError\u001b[39;00m(\u001b[38;5;124m\"\u001b[39m\u001b[38;5;124mDeath date cannot be before birth date\u001b[39m\u001b[38;5;124m\"\u001b[39m)\n\u001b[0;32m     23\u001b[0m \u001b[38;5;28mself\u001b[39m\u001b[38;5;241m.\u001b[39m_death_date \u001b[38;5;241m=\u001b[39m value\n",
      "\u001b[1;31mValueError\u001b[0m: Death date cannot be before birth date"
     ]
    }
   ],
   "source": [
    "from datetime import date\n",
    "\n",
    "class Person:\n",
    "    def __init__(self, birth_date, death_date=None):\n",
    "        self._birth_date = birth_date\n",
    "        self._death_date = death_date\n",
    "\n",
    "    @property\n",
    "    def birth_date(self):\n",
    "        \"\"\"Get the birth date of the person.\"\"\"\n",
    "        return self._birth_date\n",
    "\n",
    "    @property\n",
    "    def death_date(self):\n",
    "        \"\"\"Get the death date of the person, if applicable.\"\"\"\n",
    "        return self._death_date\n",
    "\n",
    "    @death_date.setter\n",
    "    def death_date(self, value):\n",
    "        \"\"\"Set the death date of the person.\"\"\"\n",
    "        if value < self._birth_date:\n",
    "            raise ValueError(\"Death date cannot be before birth date\")\n",
    "        self._death_date = value\n",
    "\n",
    "    @property\n",
    "    def age(self):\n",
    "        \"\"\"Calculate the age of the person based on birth and death date.\"\"\"\n",
    "        end_date = self._death_date if self._death_date else date.today()\n",
    "        return end_date.year - self._birth_date.year - (\n",
    "            (end_date.month, end_date.day) < (self._birth_date.month, self._birth_date.day)\n",
    "        )\n",
    "\n",
    "# Example usage\n",
    "person = Person(date(1990, 5, 15))\n",
    "print(f\"Birth Date: {person.birth_date}\")\n",
    "print(f\"Current Age: {person.age}\")\n",
    "\n",
    "# Set a death date\n",
    "person.death_date = date(2020, 5, 14)\n",
    "print(f\"Death Date: {person.death_date}\")\n",
    "print(f\"Age at Death: {person.age}\")\n",
    "\n",
    "person.death_date = date(1980, 5, 14)\n"
   ]
  },
  {
   "cell_type": "markdown",
   "metadata": {},
   "source": [
    "# lru_cache"
   ]
  },
  {
   "cell_type": "code",
   "execution_count": 21,
   "metadata": {},
   "outputs": [
    {
     "name": "stdout",
     "output_type": "stream",
     "text": [
      "55\n",
      "6765\n",
      "55\n"
     ]
    }
   ],
   "source": [
    "from functools import lru_cache\n",
    "\n",
    "# Define a Fibonacci function with caching\n",
    "@lru_cache(maxsize=None)  # maxsize=None means unlimited cache size\n",
    "def fibonacci(n):\n",
    "    \"\"\"Return the nth Fibonacci number.\"\"\"\n",
    "    if n < 2:\n",
    "        return n\n",
    "    return fibonacci(n - 1) + fibonacci(n - 2)\n",
    "\n",
    "# Example usage\n",
    "print(fibonacci(10))  # Output: 55\n",
    "print(fibonacci(20))  # Output: 6765\n",
    "\n",
    "# Calling fibonacci(10) again will use the cached result\n",
    "print(fibonacci(10))  # Output: 55 (retrieved from cache)\n"
   ]
  },
  {
   "cell_type": "markdown",
   "metadata": {},
   "source": [
    "# Data Class"
   ]
  },
  {
   "cell_type": "code",
   "execution_count": 22,
   "metadata": {},
   "outputs": [
    {
     "name": "stdout",
     "output_type": "stream",
     "text": [
      "Point(x=1.5, y=2.5)\n",
      "1.5\n",
      "2.5\n",
      "True\n",
      "Point(x=3.0, y=2.5)\n"
     ]
    }
   ],
   "source": [
    "from dataclasses import dataclass\n",
    "\n",
    "@dataclass\n",
    "class Point:\n",
    "    x: float\n",
    "    y: float\n",
    "\n",
    "# Creating an instance of Point\n",
    "point1 = Point(1.5, 2.5)\n",
    "print(point1)  # Output: Point(x=1.5, y=2.5)\n",
    "\n",
    "# Accessing fields\n",
    "print(point1.x)  # Output: 1.5\n",
    "print(point1.y)  # Output: 2.5\n",
    "\n",
    "# Comparing instances\n",
    "point2 = Point(1.5, 2.5)\n",
    "print(point1 == point2)  # Output: True\n",
    "\n",
    "# Modifying fields\n",
    "point1.x = 3.0\n",
    "print(point1)  # Output: Point(x=3.0, y=2.5)\n"
   ]
  }
 ],
 "metadata": {
  "kernelspec": {
   "display_name": "stackfuel",
   "language": "python",
   "name": "python3"
  },
  "language_info": {
   "codemirror_mode": {
    "name": "ipython",
    "version": 3
   },
   "file_extension": ".py",
   "mimetype": "text/x-python",
   "name": "python",
   "nbconvert_exporter": "python",
   "pygments_lexer": "ipython3",
   "version": "3.12.2"
  }
 },
 "nbformat": 4,
 "nbformat_minor": 2
}
