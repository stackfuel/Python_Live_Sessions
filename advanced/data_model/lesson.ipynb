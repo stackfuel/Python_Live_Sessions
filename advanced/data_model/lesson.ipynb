{
 "cells": [
  {
   "cell_type": "code",
   "execution_count": null,
   "id": "b7f3ff5b",
   "metadata": {},
   "outputs": [],
   "source": [
    "from vector import Vector\n",
    "import inspect\n",
    "from IPython.display import Code"
   ]
  },
  {
   "cell_type": "markdown",
   "id": "a3d0c2ae",
   "metadata": {},
   "source": [
    "# 1. Einleitung\n",
    "\n",
    "In dieser Unterrichtseinheit werden wir das Python Data Model anhand einer eigens entwickelten Vector-Klasse erkunden. Das Python Data Model definiert, wie Objekte in Python mit besonderen Methoden – den sogenannten *Dunder-Methoden* (double underscore methods) – interagieren. Diese Methoden ermöglichen es, benutzerdefinierte Klassen nahtlos in die Python-Sprache zu integrieren, sodass sie sich wie eingebaute Datentypen verhalten.\n",
    "\n",
    "## Ziel und Überblick\n",
    "\n",
    "Der Schwerpunkt dieser Einheit liegt auf:\n",
    "\n",
    "- **Verstehen der Dunder-Methoden:** Wir lernen, welche speziellen Methoden es gibt und wie sie zur Anpassung des Verhaltens unserer Klassen beitragen. Beispiele sind Methoden für den Containerzugriff (`__getitem__`, `__len__`, `__iter__`) oder für arithmetische Operationen (`__add__`, `__mul__`, `__matmul__`).\n",
    "- **Praktische Anwendung:** Am Beispiel der *Vector*-Klasse werden grundlegende Operationen eines mathematischen Vektors implementiert, wie zum Beispiel:\n",
    "  - Die Berechnung des Betrags, $$\\|v\\| = \\sqrt{\\sum_{i=1}^{n}v_i^2},$$\n",
    "  - Vektoraddition und -subtraktion,\n",
    "  - Skalare Multiplikation und elementweise Multiplikation,\n",
    "  - Dot-Produkt (Skalarprodukt) und \n",
    "  - Vergleichsoperationen basierend auf der Vektormagnitude.\n",
    "\n",
    "## Relevanz des Python Data Model\n",
    "\n",
    "Das Verständnis des Python Data Model ist essenziell, um eigene Klassen so zu gestalten, dass sie sich in Python \"pythonisch\" verhalten. Mit Hilfe der Dunder-Methoden können Klassen:\n",
    " \n",
    "- In Standardoperatoren eingebunden werden, z.B. Addition mit dem `+`-Operator oder Vergleiche mit `<` und `==`.\n",
    "- Als Container verwendet werden, sodass sie mit Schleifen, der `in`-Syntax und weiteren Standardfunktionen (wie `len()`) interagieren.\n",
    "- Als unveränderliche oder mutable Objekte gestaltet werden. In unserer Vector-Klasse wird beispielsweise die Immutabilität durch die Verwendung von Tuples und das Überschreiben der `__setitem__`-Methode sichergestellt.\n",
    "\n",
    "## Vorstellung der Vector-Klasse\n",
    "\n",
    "Die Vector-Klasse dient als praktisches Beispiel:\n",
    "- **Mathematische Vektoren** werden hier durch eine Folge von Zahlen repräsentiert.\n",
    "- Neben den grundlegenden Operationen (Addition, Subtraktion, Multiplikation, Division) nutzt die Klasse spezielle Operationen wie das Dot-Produkt (über `@`) und bietet Methoden zur Normierung und Berechnung von Distanzen und Winkeln.\n",
    "- Durch den Einsatz von Methoden wie `__repr__` und `__str__` werden Vektoren für Debugging und Darstellung benutzerfreundlich aufbereitet.\n",
    "\n",
    "Diese Einheit vermittelt Ihnen die Grundlagen, wie man das Python Data Model effektiv einsetzt, um robuste und intuitive Klassen zu erstellen. Im weiteren Verlauf werden wir jede Gruppe von Dunder-Methoden detailliert untersuchen und deren Implementierung und Einsatzmöglichkeiten anhand der Vector-Klasse erarbeiten.\n",
    "\n",
    "\n",
    "### Mathematische Grundlagen\n",
    "\n",
    "\n",
    "\n",
    "#### 1. Definition  \n",
    "Ein Vektor $\\mathbf v\\in\\mathbb R^n$ ist ein geordnetes $n$-Tupel seiner Komponenten\n",
    "$$\n",
    "\\mathbf v = (v_1, v_2, \\dots, v_n),\\quad v_i\\in\\mathbb R.\n",
    "$$  \n",
    "- **Dimension**: $n$  \n",
    "- **Komponente** $i$: $v_i$  \n",
    "\n",
    "#### 2. Grundoperationen  \n",
    "- **Addition** `u+v`\n",
    "  $$\n",
    "    \\mathbf u + \\mathbf v = (u_1+v_1,\\dots,u_n+v_n) \n",
    "  $$  \n",
    "- **Subtraktion** `u-v`\n",
    "  $$\n",
    "    \\mathbf u - \\mathbf v = \\mathbf u + (-\\mathbf v) =  (u_1-v_1,\\dots,u_n-v_n)\n",
    "  $$  \n",
    "- **Skalarmultiplikation** `a*v`\n",
    "  $$\n",
    "    \\lambda\\,\\mathbf v = (\\lambda v_1,\\dots,\\lambda v_n),\\quad \\lambda\\in\\mathbb R\n",
    "  $$  \n",
    "- **Element-weise Multiplikation** `u*v`\n",
    "  $$\n",
    "    \\mathbf u \\odot \\mathbf v = (u_1v_1,\\dots,u_nv_n)\n",
    "  $$  \n",
    "- **Punkt-/Skalarprodukt** `u@v`\n",
    "  $$\n",
    "    \\mathbf u \\cdot \\mathbf v\n",
    "    =\\sum_{i=1}^n u_i\\,v_i\n",
    "    \n",
    "  $$  \n",
    "\n",
    "#### 3. Länge (Norm)  \n",
    "Euklidische Norm `abs(v)`\n",
    "$$\n",
    "  \\|\\mathbf v\\| = \\sqrt{\\sum_{i=1}^n v_i^2}\n",
    "  \\quad\\Longrightarrow\\quad\n",
    "  |\\mathbf v| \\;=\\;\\|\\mathbf v\\|.\n",
    "$$  \n",
    "- **Einheitsvektor** `v.normalize()`\n",
    "  $$\n",
    "    \\hat{\\mathbf v} = \\frac{\\mathbf v}{\\|\\mathbf v\\|},\\quad\\|\\mathbf v\\|\\neq 0.\n",
    "  $$  \n",
    "\n",
    "#### 4. Abstand & Winkel  \n",
    "- **Abstand** \n",
    "  $$\n",
    "    d(\\mathbf u,\\mathbf v) = \\|\\mathbf u - \\mathbf v\\|.\n",
    "  $$  \n",
    "- **Winkel**\n",
    "  $$\n",
    "    \\cos\\theta\n",
    "    = \\frac{\\mathbf u\\cdot\\mathbf v}{\\|\\mathbf u\\|\\;\\|\\mathbf v\\|},\n",
    "    \\quad\n",
    "    \\theta = \\arccos(\\cos\\theta).\n",
    "  $$  \n",
    "\n",
    "#### 5. Vergleich & Immutability  \n",
    "- **Gleichheit**: gleiche Komponenten  \n",
    "- **Ordnung**: nach Magnitude $\\|\\mathbf u\\|<\\|\\mathbf v\\|$  \n",
    "- Die Komponenten sind unveränderlich (immutable tuple).\n",
    "\n",
    "\n"
   ]
  },
  {
   "cell_type": "markdown",
   "id": "3c979757",
   "metadata": {},
   "source": [
    "\n",
    "\n",
    "# 2. Grundlagen des Python Data Model\n",
    "\n",
    "Das Python [Data Model](https://docs.python.org/3/reference/datamodel.html) legt fest, wie Objekte in Python intern funktionieren und wie sie mit den Sprachkonstrukten interagieren. Zentral dabei sind die sogenannten *Dunder-Methoden* (double underscore methods), die es erlauben, benutzerdefinierte Objekte wie native Python-Typen zu nutzen.\n",
    "\n",
    "## Was sind Dunder-Methoden?\n",
    "\n",
    "Dunder-Methoden sind spezielle Methoden, deren Name mit zwei Unterstrichen beginnt und endet, z. B. `__init__`, `__repr__` oder `__add__`. Sie definieren wichtige Verhaltensweisen von Objekten und werden automatisch von Python aufgerufen, wenn bestimmte Operatoren oder Funktionen verwendet werden. Zum Beispiel:\n",
    "\n",
    "- `__init__`: Wird beim Erzeugen eines neuen Objekts ausgeführt.\n",
    "- `__repr__`: Wird zur Darstellung des Objekts im Debugging- und Interpretermodus verwendet.\n",
    "- `__str__`: Bestimmt, wie das Objekt mit `print()` ausgegeben wird.\n",
    "- `__add__`: Ermöglicht das Überschreiben des `+`-Operators für benutzerdefinierte Addition.\n",
    "\n",
    "Durch die Implementierung dieser Methoden in eigenen Klassen können Entwickler:innen das Verhalten ihrer Objekte fein abstimmen und sie in die Sprache „einbetten“.\n",
    "\n",
    "## Bedeutung und Anwendung spezieller Protokolle\n",
    "\n",
    "Python definiert verschiedene Protokolle, die von Dunder-Methoden abgedeckt werden. Diese Protokolle legen fest, wie Objekte sich verhalten sollen, wenn sie in bestimmten Kontexten verwendet werden:\n",
    "\n",
    "- **Container-Protokoll:**  \n",
    "  Mit Methoden wie `__len__`, `__getitem__`, `__setitem__` und `__contains__` wird definiert, wie Objekte als Container (ähnlich wie Listen oder Dictionaries) genutzt werden können. Beispielsweise ermöglicht `__getitem__` den Zugriff auf Elemente per Index, und `__iter__` erlaubt es, über die Elemente eines Objekts zu iterieren.\n",
    "  \n",
    "- **Iterator-Protokoll:**  \n",
    "  Ein Objekt wird durch die Implementierung von `__iter__` (und gegebenenfalls `__next__`) zu einem Iterator. Damit können benutzerdefinierte Objekte direkt in Schleifen verwendet werden, z. B. mit `for`-Schleifen.\n",
    "  \n",
    "- **Numerisches Protokoll:**  \n",
    "  Operatoren wie `+`, `-`, `*`, `/` und `@` (für das Dot-Produkt) können über Methoden wie `__add__`, `__sub__`, `__mul__`, `__truediv__` und `__matmul__` angepasst werden. Dadurch verhalten sich benutzerdefinierte numerische Objekte ähnlich wie eingebaute Zahlen oder Vektoren.\n",
    "  \n",
    "- **Vergleichsprotokoll:**  \n",
    "  Durch die Implementierung von `__eq__`, `__lt__` und anderen Vergleichsoperatoren können Objekte miteinander verglichen werden. Oftmals wird auch der Dekorator `@total_ordering` genutzt, der anhand von wenigen definierten Vergleichsmethoden alle notwendigen Vergleiche ergänzt.\n",
    "  \n",
    "- **Sonstige Protokolle:**  \n",
    "  Methoden wie `__hash__` (für die Verwendung als Schlüssel in Dictionaries) oder `__bool__` (für den Wahrheitswert eines Objekts) erlauben es, Objekte in weiter gefasste Python-Konzepte einzubetten.\n",
    "\n",
    "Diese Protokolle ermöglichen eine nahtlose Integration benutzerdefinierter Klassen in allgemeine Python-Konzepte und -Funktionen, sodass sie auf natürliche Weise zusammenwirken.\n"
   ]
  },
  {
   "cell_type": "markdown",
   "id": "27639d33",
   "metadata": {},
   "source": [
    "\n",
    "## Erläuterung der Rollen von `__init__`, `__repr__` und `__str__`\n",
    "\n",
    "Drei zentral wichtige Dunder-Methoden in jeder Klasse sind `__init__`, `__repr__` und `__str__`:\n",
    "\n",
    "- **`__init__` (Initialisierungsmethode):**  \n",
    "  Diese Methode wird aufgerufen, sobald ein neues Objekt einer Klasse erzeugt wird. Hier werden die initial notwendigen Werte gesetzt, Parameter geprüft und Ressourcen allokiert. In der Vector-Klasse beispielsweise werden die Komponenten des Vektors überprüft und in ein Tuple umgewandelt, um Immutabilität zu gewährleisten.\n",
    "\n",
    "  Beispiel:\n",
    "  Die `__init__`-Methode der Vector-Klasse sieht so aus:\n",
    "  \n"
   ]
  },
  {
   "cell_type": "code",
   "execution_count": null,
   "id": "3a49b470",
   "metadata": {},
   "outputs": [],
   "source": [
    "Code(inspect.getsource(Vector.__init__), language='python')"
   ]
  },
  {
   "cell_type": "code",
   "execution_count": null,
   "id": "16893df5",
   "metadata": {},
   "outputs": [],
   "source": [
    "# Example usage for __init__ method\n",
    "v1 = Vector((3, 4))\n",
    "v2 = Vector((1, 2))\n",
    "v3 = Vector((5, 6, 7))\n",
    "v4 = Vector((8, 9, 10, 11))"
   ]
  },
  {
   "cell_type": "markdown",
   "id": "15aa258c",
   "metadata": {},
   "source": [
    "\n",
    "- **`__repr__` (offizielle Darstellung):**  \n",
    "  Diese Methode soll eine möglichst genaue und rekonstruierbare String-Repräsentation des Objekts zurückgeben. Der Rückgabewert sollte so gestaltet sein, dass er, wenn er an `eval()` übergeben würde, ein äquivalentes Objekt erzeugen könnte. Dies ist besonders hilfreich beim Debuggen.\n",
    "\n",
    "  Beispiel:\n",
    "  Die `__repr__`-Methode der Vector-Klasse sieht so aus:\n",
    "  "
   ]
  },
  {
   "cell_type": "code",
   "execution_count": null,
   "id": "6cedf11f",
   "metadata": {},
   "outputs": [],
   "source": [
    "Code(inspect.getsource(Vector.__repr__), language='python')"
   ]
  },
  {
   "cell_type": "markdown",
   "id": "82dfc927",
   "metadata": {},
   "source": [
    "Die `__repr__`-Methode wird durch die `repr()`-Funktion von Python aufgerufen."
   ]
  },
  {
   "cell_type": "code",
   "execution_count": null,
   "id": "5e9df115",
   "metadata": {},
   "outputs": [],
   "source": [
    "repr(v1)"
   ]
  },
  {
   "cell_type": "markdown",
   "id": "10dd3c30",
   "metadata": {},
   "source": [
    "In Jupyter Notebooks wird die `__repr__`-Methode automatisch aufgerufen, wenn ein Objekt in einer Zelle ausgegeben wird. Dadurch wird eine klare und informative Darstellung des Objekts angezeigt."
   ]
  },
  {
   "cell_type": "code",
   "execution_count": null,
   "id": "f9bd67fd",
   "metadata": {},
   "outputs": [],
   "source": [
    "v1"
   ]
  },
  {
   "cell_type": "markdown",
   "id": "82395c8a",
   "metadata": {},
   "source": [
    "Ist keine `__repr__`-Methode definiert, wird eine Standarddarstellung des Objekts zurückgegeben, die in der Regel den Klassennamen und die Speicheradresse enthält."
   ]
  },
  {
   "cell_type": "code",
   "execution_count": null,
   "id": "b3c36fc6",
   "metadata": {},
   "outputs": [],
   "source": [
    "class C():\n",
    "    pass\n",
    "\n",
    "c = C()\n",
    "repr(c)"
   ]
  },
  {
   "cell_type": "markdown",
   "id": "74486278",
   "metadata": {},
   "source": [
    "\n",
    "- **`__str__` (benutzerfreundliche Darstellung):**  \n",
    "  Während `__repr__` vor allem für Entwickler:innen gedacht ist, liefert `__str__` eine leserlichere Darstellung des Objekts, die beim Ausgeben mit `print()` genutzt wird. Es handelt sich hierbei also um eine „schöne“ Version des Objekts.\n",
    "\n",
    "  Beispiel:\n",
    "  Die `__str__`-Methode der Vector-Klasse sieht so aus:\n"
   ]
  },
  {
   "cell_type": "code",
   "execution_count": null,
   "id": "22aa4802",
   "metadata": {},
   "outputs": [],
   "source": [
    "Code(inspect.getsource(Vector.__str__), language='python')"
   ]
  },
  {
   "cell_type": "markdown",
   "id": "38d59601",
   "metadata": {},
   "source": [
    "Die `__str__`-Methode wird aufgerufen, wenn das Objekt durch die `str`-Funktion oder `print()` ausgegeben wird."
   ]
  },
  {
   "cell_type": "code",
   "execution_count": null,
   "id": "60278c59",
   "metadata": {},
   "outputs": [],
   "source": [
    "str(v1)"
   ]
  },
  {
   "cell_type": "code",
   "execution_count": null,
   "id": "ceff28d3",
   "metadata": {},
   "outputs": [],
   "source": [
    "# print uses __str__ method to convert the object to a string\n",
    "print(v1)"
   ]
  },
  {
   "cell_type": "markdown",
   "id": "1c6cc7a9",
   "metadata": {},
   "source": [
    "Wenn keine `__str__`-Methode definiert ist, wird die `__repr__`-Methode verwendet, um eine String-Repräsentation des Objekts zu erzeugen."
   ]
  },
  {
   "cell_type": "code",
   "execution_count": null,
   "id": "c17d7397",
   "metadata": {},
   "outputs": [],
   "source": [
    "str(c)"
   ]
  },
  {
   "cell_type": "markdown",
   "id": "168d42e1",
   "metadata": {},
   "source": [
    "\n",
    "Zusammengefasst bildet das Python Data Model mit seinen Dunder-Methoden und Protokollen die Grundlage, um eigene Klassen so zu gestalten, dass sie sich wie eingebaute Datentypen verhalten. Durch die Implementierung von Methoden wie `__init__`, `__repr__` und `__str__` wird sichergestellt, dass Objekte sowohl initialisiert, debuggt als auch benutzerfreundlich dargestellt werden können. Diese Konzepte werden im weiteren Verlauf anhand der Vector-Klasse vertieft und praktisch veranschaulicht.\n",
    "\n"
   ]
  },
  {
   "cell_type": "markdown",
   "id": "07376c51",
   "metadata": {},
   "source": [
    "# 3. Implementierung der Klasseninvarianz und Immutabilität\n",
    "\n",
    "In objektorientierten Programmen ist es oft wichtig, dass Objekte nach ihrer Erstellung unveränderlich bleiben – sie sollen also einen bestimmten, konsistenten Zustand (Invarianz) behalten. Anhand unserer Vector-Klasse zeigen wir, wie man sowohl die Eingabedaten mittels des Konstruktors validiert als auch Maßnahmen zur Immutabilität ergreift.\n",
    "\n",
    "## Konstruktor (`__init__`) und Validierung der Eingabedaten\n",
    "\n",
    "Der Konstruktor `__init__` spielt eine zentrale Rolle bei der Erstellung eines Objekts. Hier erfolgt nicht nur die Initialisierung der benötigten Attribute, sondern auch eine Validierung der Eingabedaten. In unserer Vector-Klasse werden die Komponenten des Vektors auf ihre Gültigkeit geprüft. Dabei stellen wir sicher, dass alle Komponenten reale Zahlen sind, und konvertieren sie in Fließkommazahlen, um eine konsistente Darstellung zu gewährleisten.\n",
    "\n",
    "Beispielcode:\n"
   ]
  },
  {
   "cell_type": "code",
   "execution_count": null,
   "id": "e6c3c0ad",
   "metadata": {},
   "outputs": [],
   "source": [
    "Code(inspect.getsource(Vector.__init__), language='python')"
   ]
  },
  {
   "cell_type": "markdown",
   "id": "88fce2f3",
   "metadata": {},
   "source": [
    "In diesem Codeausschnitt:\n",
    "- Wird überprüft, ob die Eingabe bereits in Sequenzform vorliegt und korrekt entpackt.\n",
    "- Erfolgt eine umfassende Validierung, bei der sichergestellt wird, dass jede Komponente zur Klasse `numbers.Real` gehört.\n",
    "- Werden die Komponenten in ein Tuple umgewandelt, was uns zum nächsten Punkt führt: der Immutabilität.\n",
    "\n",
    "## Maßnahmen zur Unveränderlichkeit: Verwendung von Tuples und `__setitem__`\n",
    "\n",
    "Ein wesentlicher Aspekt der Klasseninvarianz ist, dass einmal gesetzte Werte nicht mehr verändert werden können. Dies erhöht die Sicherheit des Programmcodes, da unvorhergesehene Seiteneffekte vermieden werden. Bei der Vector-Klasse erreichen wir das durch:\n",
    "\n",
    "1. **Verwendung eines Tuples:**  \n",
    "   Da Tuples in Python unveränderlich (immutable) sind, gewährleistet die Speicherung der Vektorkomponenten in einem Tuple, dass keine Komponente nach der Initialisierung verändert werden kann.\n",
    "\n",
    "2. **Überschreiben von `__setitem__`:**  \n",
    "   Selbst wenn der Zugriff auf einzelne Elemente über `__getitem__` möglich ist, verhindern wir mit einer definierten `__setitem__`-Methode, dass versucht wird, einzelne Komponenten zu modifizieren. Der Versuch, einen Wert zu ändern, führt zu einem Fehler.\n",
    "\n",
    "Beispielcode:"
   ]
  },
  {
   "cell_type": "code",
   "execution_count": null,
   "id": "f7f2210a",
   "metadata": {},
   "outputs": [],
   "source": [
    "Code(inspect.getsource(Vector.__setitem__), language='python')"
   ]
  },
  {
   "cell_type": "code",
   "execution_count": null,
   "id": "7452b3e0",
   "metadata": {},
   "outputs": [],
   "source": [
    "try:\n",
    "    v1[0] = 10\n",
    "except TypeError as e:\n",
    "    print(f\"Error: {e}\")"
   ]
  },
  {
   "cell_type": "markdown",
   "id": "6dfb14da",
   "metadata": {},
   "source": [
    "Mit dieser Methode wird jeder Versuch, über den Indexzugriff Werte zu verändern, sofort mit einem `TypeError` abgefangen. Dadurch bleibt der Zustand eines Vektor-Objekts nach dessen Erstellung konstant.\n",
    "\n",
    "## Zusammenfassung\n",
    "\n",
    "- Im Konstruktor `__init__` wird sichergestellt, dass alle Eingabedaten korrekt validiert und in eine Form gebracht werden, die die Invarianz garantiert.\n",
    "- Die Speicherung der Vektorkomponenten als Tuple verhindert nachträgliche Änderungen.\n",
    "- Durch das Überschreiben der `__setitem__`-Methode wird aktiv verhindert, dass einzelne Komponenten des Vektors modifiziert werden können.\n",
    "\n",
    "Diese Maßnahmen zusammen führen zu einer robusten und unveränderlichen Implementierung der Vector-Klasse, die einen konsistenten Zustand während ihrer gesamten Lebensdauer beibehält.\n",
    "\n",
    "\n"
   ]
  },
  {
   "cell_type": "markdown",
   "id": "a07edba3",
   "metadata": {},
   "source": [
    "# 4. Container-Protokoll in der Vector-Klasse\n",
    "\n",
    "Das Container-Protokoll definiert, wie ein Objekt als Sammlung von Elementen behandelt wird. In der Vector-Klasse kommen mehrere Dunder-Methoden zum Einsatz, um den Zugriff und die Iteration über die Vektorkomponenten zu ermöglichen. Im Folgenden betrachten wir die Methoden `__len__`, `__getitem__`, `__iter__` und `__contains__`.\n",
    "\n",
    "## `__len__`: Bestimmen der Dimensionalität\n",
    "\n",
    "Die Methode `__len__` gibt die Anzahl der Komponenten des Vektors zurück. Dies entspricht der Dimensionalität des Vektors. Wenn ein Vektor $v$ beispielsweise drei Elemente hat, gilt:  \n",
    "$$ \\text{dim}(v) = 3. $$\n"
   ]
  },
  {
   "cell_type": "code",
   "execution_count": null,
   "id": "5fc15da6",
   "metadata": {},
   "outputs": [],
   "source": [
    "Code(inspect.getsource(Vector.__len__), language='python')"
   ]
  },
  {
   "cell_type": "code",
   "execution_count": null,
   "id": "45c49168",
   "metadata": {},
   "outputs": [],
   "source": [
    "print(f\"v1 {v1} has length {len(v1)}\")\n",
    "print(f\"v2 {v2} has length {len(v1)}\")\n",
    "print(f\"v3 {v3} has length {len(v3)}\")\n",
    "print(f\"v4 {v4} has length {len(v4)}\")"
   ]
  },
  {
   "cell_type": "markdown",
   "id": "9061f603",
   "metadata": {},
   "source": [
    "## `__getitem__`: Zugriff auf Einzelkomponenten und Slicing\n",
    "\n",
    "Mit der Methode `__getitem__` kann auf einzelne Komponenten zugegriffen werden. Dabei wird auch das Slicing unterstützt, sodass man z. B. einen Teilausschnitt des Vektors extrahieren kann. Wird ein Slice übergeben, so wird ein neuer Vector mit den ausgewählten Komponenten erstellt."
   ]
  },
  {
   "cell_type": "code",
   "execution_count": null,
   "id": "3243d0ab",
   "metadata": {},
   "outputs": [],
   "source": [
    "Code(inspect.getsource(Vector.__getitem__), language='python')"
   ]
  },
  {
   "cell_type": "code",
   "execution_count": null,
   "id": "b6d6cc4f",
   "metadata": {},
   "outputs": [],
   "source": [
    "print(v4)\n",
    "print(v4[0])\n",
    "print(v4[1])\n",
    "\n",
    "print(v4[:2])\n",
    "print(v4[1:3])\n",
    "print(v4[1:])"
   ]
  },
  {
   "cell_type": "markdown",
   "id": "1ae0c168",
   "metadata": {},
   "source": [
    "## `__iter__`: Ermöglichen der Iteration über die Komponenten\n",
    "\n",
    "Die Methode `__iter__` macht es möglich, über die Bestandteile des Objekts zu iterieren. Dadurch können Vektoren in Schleifen (z. B. in einer `for`-Schleife) verwendet werden. Intern wird ein Iterator über das interne Tuple der Komponenten zurückgegeben.\n",
    "\n"
   ]
  },
  {
   "cell_type": "code",
   "execution_count": null,
   "id": "ac9e9c17",
   "metadata": {},
   "outputs": [],
   "source": [
    "Code(inspect.getsource(Vector.__iter__), language='python')"
   ]
  },
  {
   "cell_type": "code",
   "execution_count": null,
   "id": "c0f2e956",
   "metadata": {},
   "outputs": [],
   "source": [
    "for i in v4:\n",
    "    print(i)"
   ]
  },
  {
   "cell_type": "code",
   "execution_count": null,
   "id": "73240ae5",
   "metadata": {},
   "outputs": [],
   "source": [
    "v4_iter = iter(v4)"
   ]
  },
  {
   "cell_type": "code",
   "execution_count": null,
   "id": "6755b766",
   "metadata": {},
   "outputs": [],
   "source": [
    "next(v4_iter)"
   ]
  },
  {
   "cell_type": "markdown",
   "id": "532b2fbc",
   "metadata": {},
   "source": [
    "## `__contains__`: Verwendung des „in“-Operators\n",
    "\n",
    "Die Methode `__contains__` ermöglicht es, mit dem `in`-Operator zu prüfen, ob ein bestimmter Wert unter den Komponenten des Vektors existiert. Dies vereinfacht die Überprüfung, ob ein bestimmtes Element Teil des Vektors ist."
   ]
  },
  {
   "cell_type": "code",
   "execution_count": null,
   "id": "25b9fa0b",
   "metadata": {},
   "outputs": [],
   "source": [
    "Code(inspect.getsource(Vector.__contains__), language='python')"
   ]
  },
  {
   "cell_type": "code",
   "execution_count": null,
   "id": "de0fa765",
   "metadata": {},
   "outputs": [],
   "source": [
    "print(v4)\n",
    "\n",
    "print(5 in v4)\n",
    "print(8 in v4)\n",
    "print(10 in v4)"
   ]
  },
  {
   "cell_type": "markdown",
   "id": "888cbce8",
   "metadata": {},
   "source": [
    "## Zusammenfassung\n",
    "\n",
    "- Mit `__len__` erhalten wir die Dimensionalität des Vektors, d.h. die Anzahl seiner Komponenten.\n",
    "  \n",
    "- Über `__getitem__` können wir gezielt einzelne Komponenten oder sogar Teilausschnitte (Slicing) des Vektors abrufen.  \n",
    "  Dabei wird im Falle eines Slices ein neuer Vector erzeugt.\n",
    "\n",
    "- Die Methode `__iter__` stellt einen Iterator über alle Komponenten bereit, wodurch der Vektor in Schleifen oder anderen Iterationskontexten genutzt werden kann.\n",
    "\n",
    "- Mit `__contains__` wird das Prüfen, ob ein bestimmter Wert im Vektor existiert, durch den `in`-Operator ermöglicht.\n",
    "\n",
    "Diese Methoden sorgen zusammen dafür, dass unsere Vector-Klasse sich wie ein standardmäßiger Container verhält, was die Nutzung und Integration in Python-Anwendungen erheblich erleichtert.\n",
    "\n",
    "\n",
    "\n"
   ]
  },
  {
   "cell_type": "markdown",
   "id": "b5a070f3",
   "metadata": {},
   "source": [
    "# 5. Vergleichs- und Hash-Protokoll\n",
    "\n",
    "In diesem Abschnitt betrachten wir, wie Objekte der Vector-Klasse untereinander verglichen werden können und wie sie als Schlüssel in Mengen oder Dictionaries verwendet werden. Dafür spielen die Dunder-Methoden `__eq__`, `__lt__` und `__hash__` sowie der Dekorator `@total_ordering` eine zentrale Rolle.\n",
    "\n",
    "## `__eq__`: Vergleich auf Gleichheit der Komponenten\n",
    "\n",
    "Die Methode `__eq__` definiert die Gleichheit zweier Vektor-Objekte, indem die jeweiligen Komponenten miteinander verglichen werden. Zwei Vektoren gelten als gleich, wenn sie exakt die gleichen Werte besitzen. Dies ist vor allem im Debugging und beim Vergleich von mathematischen Objekten von großer Bedeutung.\n",
    "\n"
   ]
  },
  {
   "cell_type": "code",
   "execution_count": null,
   "id": "dff2bd32",
   "metadata": {},
   "outputs": [],
   "source": [
    "Code(inspect.getsource(Vector.__eq__), language='python')"
   ]
  },
  {
   "cell_type": "code",
   "execution_count": null,
   "id": "5662fb6a",
   "metadata": {},
   "outputs": [],
   "source": [
    "print(v1)\n",
    "print(v2)\n",
    "print(v1 == v2)\n",
    "print(v1 == v1)"
   ]
  },
  {
   "cell_type": "markdown",
   "id": "598ce417",
   "metadata": {},
   "source": [
    "## `__lt__`: Vergleich basierend auf der Vektormagnitude\n",
    "\n",
    "Die Methode `__lt__` (less-than) ermöglicht den Vergleich zweier Vektoren anhand ihrer Magnitude (Betrag). Die Magnitude eines Vektors $v$ wird durch die Formel\n",
    "\n",
    "$$\n",
    "\\| v \\| = \\sqrt{\\sum_{i=1}^{n}v_i^2}\n",
    "$$\n",
    "\n",
    "berechnet. So kann festgestellt werden, ob ein Vektor \"kleiner\" als ein anderer ist, indem man ihre Beträge vergleicht.\n",
    "\n"
   ]
  },
  {
   "cell_type": "code",
   "execution_count": null,
   "id": "832d2735",
   "metadata": {},
   "outputs": [],
   "source": [
    "Code(inspect.getsource(Vector.__lt__), language='python')"
   ]
  },
  {
   "cell_type": "code",
   "execution_count": null,
   "id": "8d3998d6",
   "metadata": {},
   "outputs": [],
   "source": [
    "print(v1, abs(v1))\n",
    "print(v2, abs(v2))\n",
    "print(v3, abs(v3))\n",
    "print(v4, abs(v4))\n",
    "\n",
    "print(v1 < v2)\n",
    "print(v1 < v1)\n",
    "\n",
    "print(v2 < v3)\n",
    "print(v3 < v4)"
   ]
  },
  {
   "cell_type": "markdown",
   "id": "0cd660e4",
   "metadata": {},
   "source": [
    "## total_ordering-Dekorator: Automatische Ergänzung der Vergleichsoperatoren\n",
    "\n",
    "Der Paket `functools.total_ordering` vereinfacht die Implementierung von Vergleichsoperatoren. Wenn mindestens die Methoden `__eq__` und eine der Methoden für die Ordnungsrelationen (z. B. `__lt__`) definiert sind, ergänzt der Dekorator automatisch die weiteren Vergleichsmethoden (`__le__`, `__gt__`, `__ge__`).  \n",
    "Durch den Einsatz von `@total_ordering` müssen wir also nicht alle Operatoren explizit implementieren, was den Code übersichtlicher und wartungsfreundlicher macht.\n",
    "\n",
    "Verwendung:\n",
    "```python\n",
    "from functools import total_ordering\n",
    "\n",
    "@total_ordering\n",
    "class Vector:\n",
    "    # __eq__ und __lt__ (und damit auch die anderen Vergleichsoperatoren) sind implementiert\n",
    "    ...\n",
    "```\n"
   ]
  },
  {
   "cell_type": "code",
   "execution_count": null,
   "id": "b26bcb07",
   "metadata": {},
   "outputs": [],
   "source": [
    "print(v1, abs(v1))\n",
    "print(v2, abs(v2))\n",
    "print(v3, abs(v3))\n",
    "print(v4, abs(v4))\n",
    "\n",
    "print(v1 < v2)\n",
    "print(v1 <= v1)\n",
    "print(v2 > v3)\n",
    "print(v3 >= v4)\n",
    "\n"
   ]
  },
  {
   "cell_type": "markdown",
   "id": "89bd8c1e",
   "metadata": {},
   "source": [
    "## `__hash__`: Verwendung in Mengen und als Dictionary-Schlüssel\n",
    "\n",
    "Die Methode `__hash__` stellt sicher, dass Vector-Objekte einen konsistenten Hash-Wert besitzen. Damit können Vektoren als Schlüssel in Dictionaries oder Elemente in Mengen verwendet werden. Da in unserer Implementierung die Komponenten als Tuple gespeichert werden – welches von sich aus hashbar ist – lässt sich der Hash-Wert einfach aus diesem Tuple ableiten."
   ]
  },
  {
   "cell_type": "code",
   "execution_count": null,
   "id": "4972fa72",
   "metadata": {},
   "outputs": [],
   "source": [
    "Code(inspect.getsource(Vector.__hash__), language='python')"
   ]
  },
  {
   "cell_type": "code",
   "execution_count": null,
   "id": "59a6e553",
   "metadata": {},
   "outputs": [],
   "source": [
    "print(hash(v1))\n",
    "print(hash(v2))"
   ]
  },
  {
   "cell_type": "code",
   "execution_count": null,
   "id": "78aaae2a",
   "metadata": {},
   "outputs": [],
   "source": [
    "d = {v1: \"Vector 1\", v2: \"Vector 2\"}\n",
    "\n",
    "for key, value in d.items():\n",
    "    print(f\"{key}: {value}\")"
   ]
  },
  {
   "cell_type": "code",
   "execution_count": null,
   "id": "3cbcfc0f",
   "metadata": {},
   "outputs": [],
   "source": [
    "d[v1]"
   ]
  },
  {
   "cell_type": "markdown",
   "id": "c9f1f59e",
   "metadata": {},
   "source": [
    "## Zusammenfassung\n",
    "\n",
    "- Mit `__eq__` vergleichen wir zwei Vektoren, indem wir überprüfen, ob ihre Komponenten identisch sind.\n",
    "- Die Methode `__lt__` verwendet die Vektormagnitude, um zwei Vektoren hinsichtlich ihrer \"Größe\" zu ordnen.\n",
    "- Der Dekorator `@total_ordering` sorgt dafür, dass aus `__eq__` und `__lt__` automatisch alle weiteren Vergleichsoperationen abgeleitet werden.\n",
    "- `__hash__` ermöglicht die Benutzung von Vektoren als Schlüssel in Dictionaries und als Elemente in Mengen, indem ein konsistenter Hash-Wert basierend auf den unveränderlichen Komponenten erzeugt wird.\n",
    "\n",
    "Diese Mechanismen stellen sicher, dass die Vector-Klasse nicht nur mathematische Operationen unterstützt, sondern auch vollständig in die Python-Datenmodelle integriert ist.\n",
    "\n",
    "\n"
   ]
  },
  {
   "cell_type": "markdown",
   "id": "9dc474fb",
   "metadata": {},
   "source": [
    "# 6. Numerische bzw. Arithmetische Operationen\n",
    "\n",
    "Die Vector-Klasse unterstützt verschiedene arithmetische Operationen, die mathematisch sinnvolle Vektoroperationen ermöglichen. In diesem Abschnitt werden wir die Implementierung von Addition, Subtraktion, Multiplikation, Division, Dot-Produkt sowie Negation und Identitätsoperation betrachten.\n",
    "\n",
    "## `__add__` und `__sub__`: Vektoraddition und -subtraktion\n",
    "\n",
    "Mit der Methode `__add__` wird die Addition zweier Vektoren realisiert. Dabei erfolgt die Addition komponentenweise. Analog dazu wird in der Methode `__sub__` die Subtraktion zweier Vektoren implementiert. Wichtig ist, dass beide Vektoren dieselbe Anzahl an Komponenten (d.h. dieselbe Dimensionalität) haben.\n",
    "\n"
   ]
  },
  {
   "cell_type": "code",
   "execution_count": null,
   "id": "dc8fcde2",
   "metadata": {},
   "outputs": [],
   "source": [
    "Code(inspect.getsource(Vector.__add__), language='python')"
   ]
  },
  {
   "cell_type": "code",
   "execution_count": null,
   "id": "754b05e6",
   "metadata": {},
   "outputs": [],
   "source": [
    "Code(inspect.getsource(Vector.__sub__), language='python')"
   ]
  },
  {
   "cell_type": "code",
   "execution_count": null,
   "id": "50cdf46d",
   "metadata": {},
   "outputs": [],
   "source": [
    "for v in [v1, v2, v3, v4]:\n",
    "    print(f\"Vector: {v}\")\n",
    "    \n",
    "print(v1 + v2)\n",
    "print(v1 - v2)\n",
    "\n",
    "try:\n",
    "    print(v1 + v3)\n",
    "except ValueError as e:\n",
    "    print(f\"Error: {e}\")"
   ]
  },
  {
   "cell_type": "markdown",
   "id": "c771aa1a",
   "metadata": {},
   "source": [
    "## `__mul__` und `__rmul__`: Skalare Multiplikation und Element-weises Produkt\n",
    "\n",
    "Die Methode `__mul__` ermöglicht zwei unterschiedliche Arten der Multiplikation:\n",
    "- **Skalare Multiplikation:** Wenn der Operand eine reelle Zahl ist, wird jeder Vektorkomponente der Skalar multipliziert.\n",
    "- **Element-weises Produkt:** Wenn der Operand ebenfalls ein Vector ist, erfolgt eine komponentenweise Multiplikation.\n",
    "\n",
    "Darüber hinaus sorgt `__rmul__` dafür, dass die Multiplikation auch dann funktioniert, wenn die Zahl (Skalar) links vom Vektor steht.\n",
    "\n"
   ]
  },
  {
   "cell_type": "code",
   "execution_count": null,
   "id": "09cd37cc",
   "metadata": {},
   "outputs": [],
   "source": [
    "Code(inspect.getsource(Vector.__mul__), language='python')"
   ]
  },
  {
   "cell_type": "code",
   "execution_count": null,
   "id": "30740c00",
   "metadata": {},
   "outputs": [],
   "source": [
    "Code(inspect.getsource(Vector.__rmul__), language='python')"
   ]
  },
  {
   "cell_type": "code",
   "execution_count": null,
   "id": "d46a69a9",
   "metadata": {},
   "outputs": [],
   "source": [
    "print(v1)\n",
    "print(v2)\n",
    "\n",
    "print(v1 * 2)\n",
    "print(2 * v1)\n",
    "\n",
    "print(v1 * v2)\n",
    "\n",
    "try:\n",
    "    print(v1 * v3)\n",
    "except ValueError as e:\n",
    "    print(f\"Error: {e}\")"
   ]
  },
  {
   "cell_type": "markdown",
   "id": "5cc9da08",
   "metadata": {},
   "source": [
    "## `__truediv__`: Division eines Vektors durch einen Skalar\n",
    "\n",
    "Die Methode `__truediv__` definiert die Division eines Vektors durch einen reellen Skalar. Hierbei wird jede Komponente des Vektors durch den Skalar geteilt. Ein Versuch, durch Null zu teilen, führt zu einem Fehler.\n",
    "\n"
   ]
  },
  {
   "cell_type": "code",
   "execution_count": null,
   "id": "f5aa6acc",
   "metadata": {},
   "outputs": [],
   "source": [
    "Code(inspect.getsource(Vector.__truediv__), language='python')"
   ]
  },
  {
   "cell_type": "code",
   "execution_count": null,
   "id": "e2e24aa8",
   "metadata": {},
   "outputs": [],
   "source": [
    "print(v4)\n",
    "print(v4 / 2)"
   ]
  },
  {
   "cell_type": "markdown",
   "id": "63e8ad6a",
   "metadata": {},
   "source": [
    "## `__matmul__`: Berechnung des Skalarprodukts (Dot Product)\n",
    "\n",
    "Die Methode `__matmul__` wird verwendet, um das Skalarprodukt (Dot Product) zweier Vektoren zu berechnen. Dabei werden die entsprechenden Komponenten multipliziert und die Produkte aufsummiert. Auch hier müssen die Vektoren dieselbe Anzahl an Komponenten haben."
   ]
  },
  {
   "cell_type": "code",
   "execution_count": null,
   "id": "29dcae8b",
   "metadata": {},
   "outputs": [],
   "source": [
    "Code(inspect.getsource(Vector.__matmul__), language='python')"
   ]
  },
  {
   "cell_type": "code",
   "execution_count": null,
   "id": "f20d4fe6",
   "metadata": {},
   "outputs": [],
   "source": [
    "print(v1)\n",
    "print(v2)\n",
    "print(v1 @ v2)"
   ]
  },
  {
   "cell_type": "markdown",
   "id": "93704c98",
   "metadata": {},
   "source": [
    "\n",
    "\n",
    "## `__neg__` und `__pos__`: Negation und Identitätsoperation\n",
    "\n",
    "Mit `__neg__` wird der Vektor negiert, d.h. jede Komponente wird mit -1 multipliziert. Dagegen gibt `__pos__` den Vektor selbst zurück (Identitätsoperation). Diese Methoden ermöglichen eine elegante Anwendung der unären Operatoren `-` und `+`.\n"
   ]
  },
  {
   "cell_type": "code",
   "execution_count": null,
   "id": "ad81be18",
   "metadata": {},
   "outputs": [],
   "source": [
    "Code(inspect.getsource(Vector.__neg__), language='python')"
   ]
  },
  {
   "cell_type": "code",
   "execution_count": null,
   "id": "ecfc72bb",
   "metadata": {},
   "outputs": [],
   "source": [
    "print(v1)\n",
    "print(-v1)"
   ]
  },
  {
   "cell_type": "code",
   "execution_count": null,
   "id": "eebdf4c3",
   "metadata": {},
   "outputs": [],
   "source": [
    "Code(inspect.getsource(Vector.__pos__), language='python')"
   ]
  },
  {
   "cell_type": "code",
   "execution_count": null,
   "id": "6318175f",
   "metadata": {},
   "outputs": [],
   "source": [
    "print(v1)\n",
    "print(+v1)"
   ]
  },
  {
   "cell_type": "markdown",
   "id": "6b1c7fb8",
   "metadata": {},
   "source": [
    "## Zusammenfassung\n",
    "\n",
    "- Mit `__add__` und `__sub__` werden Vektoren komponentenweise addiert bzw. subtrahiert.\n",
    "- Die Methoden `__mul__` und `__rmul__` ermöglichen sowohl die skalare Multiplikation als auch das elementweise Produkt zwischen Vektoren.\n",
    "- `__truediv__` teilt jede Komponente eines Vektors durch einen Skalar.\n",
    "- Mit `__matmul__` wird das Skalarprodukt (Dot Product) zweier Vektoren berechnet.\n",
    "- `__neg__` negiert den Vektor, während `__pos__` ihn unverändert zurückgibt.\n",
    "\n",
    "Diese Operationen erweitern die Funktionalität der Vector-Klasse und stellen sicher, dass mathematische Berechnungen auf intuitive und pythonische Weise durchgeführt werden können."
   ]
  },
  {
   "cell_type": "markdown",
   "id": "f9570d1b",
   "metadata": {},
   "source": [
    "# 7. Weitere spezielle Methoden und Protokolle\n",
    "\n",
    "Neben den grundlegenden arithmetischen Operationen bietet die Vector-Klasse noch weitere Methoden, die zusätzliche Funktionalitäten und Verhaltensweisen definieren:\n",
    "\n",
    "## `__abs__`: Berechnung der Vektormagnitude\n",
    "\n",
    "Die Methode `__abs__` berechnet die euklidische Norm (Magnitude) eines Vektors. Für einen Vektor $$v = (v_1, v_2, ..., v_n)$$ gilt:  \n",
    "$$\\| v \\| = \\sqrt{v_1^2 + v_2^2 + \\dots + v_n^2}.$$\n",
    "\n"
   ]
  },
  {
   "cell_type": "code",
   "execution_count": null,
   "id": "9039049e",
   "metadata": {},
   "outputs": [],
   "source": [
    "Code(inspect.getsource(Vector.__abs__), language='python')"
   ]
  },
  {
   "cell_type": "code",
   "execution_count": null,
   "id": "45eabf9b",
   "metadata": {},
   "outputs": [],
   "source": [
    "print(v4)\n",
    "print(abs(v4))"
   ]
  },
  {
   "cell_type": "markdown",
   "id": "3f7bf70a",
   "metadata": {},
   "source": [
    "## `__bool__`: Bestimmung der Wahrheitswerteigenschaft\n",
    "\n",
    "Die `__bool__`-Methode legt fest, ob ein Vektor als \"wahr\" oder \"falsch\" bewertet wird, wenn z. B. in Bedingungen geprüft. In der Vector-Klasse wird häufig definiert, dass ein Vektor dann als `False` gilt, wenn alle Komponenten den Wert 0 haben.\n",
    "\n"
   ]
  },
  {
   "cell_type": "code",
   "execution_count": null,
   "id": "4bca02f4",
   "metadata": {},
   "outputs": [],
   "source": [
    "Code(inspect.getsource(Vector.__bool__), language='python')"
   ]
  },
  {
   "cell_type": "code",
   "execution_count": null,
   "id": "3b1f7105",
   "metadata": {},
   "outputs": [],
   "source": [
    "for v in [v1, v2, v3, v4]:\n",
    "    print(f\"Vector: {v}, bool: {bool(v)}\")\n",
    "\n",
    "print(bool(Vector([])))\n",
    "print(bool(Vector()))\n",
    "print(bool(Vector([0, 0, 0])))\n",
    "print(bool(Vector([1, 2, 3])))"
   ]
  },
  {
   "cell_type": "markdown",
   "id": "d30a0f98",
   "metadata": {},
   "source": [
    "## Zusatzmethoden\n",
    "\n",
    "Neben den standardisierten Dunder-Methoden bietet die Vector-Klasse auch spezielle Funktionen, die häufig in mathematischen Berechnungen benötigt werden:\n",
    "\n",
    "### normalize\n",
    "\n",
    "Die Methode `normalize` wandelt den Vektor in einen Einheitsvektor um, d. h. er wird auf die Länge 1 normiert.  \n",
    "Formel:  \n",
    "$$ u = \\frac{v}{\\|v\\|} $$  \n",
    "Dabei muss beachtet werden, dass die Normalisierung eines Nullvektors nicht durchgeführt werden kann.\n",
    "\n"
   ]
  },
  {
   "cell_type": "code",
   "execution_count": null,
   "id": "bfd5b1cf",
   "metadata": {},
   "outputs": [],
   "source": [
    "Code(inspect.getsource(Vector.normalize), language='python')"
   ]
  },
  {
   "cell_type": "code",
   "execution_count": null,
   "id": "3cd317a5",
   "metadata": {},
   "outputs": [],
   "source": [
    "print(v3, abs(v3))\n",
    "\n",
    "\n",
    "v3_n = v3.normalize()\n",
    "print(v3_n, abs(v3_n))"
   ]
  },
  {
   "cell_type": "markdown",
   "id": "d19cbd6e",
   "metadata": {},
   "source": [
    "### distance_to\n",
    "\n",
    "`distance_to` berechnet die euklidische Entfernung zwischen zwei Vektoren. Dies entspricht der Magnitude der Differenz beider Vektoren.  \n",
    "\n"
   ]
  },
  {
   "cell_type": "code",
   "execution_count": null,
   "id": "b16118ee",
   "metadata": {},
   "outputs": [],
   "source": [
    "Code(inspect.getsource(Vector.distance_to), language='python')"
   ]
  },
  {
   "cell_type": "code",
   "execution_count": null,
   "id": "3a6c77a1",
   "metadata": {},
   "outputs": [],
   "source": [
    "print(v1.distance_to(v2))"
   ]
  },
  {
   "cell_type": "markdown",
   "id": "10d7e601",
   "metadata": {},
   "source": [
    "### angle_to\n",
    "\n",
    "Mit der Methode `angle_to` wird der Winkel (in Radiant) zwischen zwei Vektoren berechnet.  \n",
    "Formel:  \n",
    "$$ \\cos(\\theta) = \\frac{v \\cdot w}{\\|v\\|\\|w\\|} $$\n"
   ]
  },
  {
   "cell_type": "code",
   "execution_count": null,
   "id": "ed70101d",
   "metadata": {},
   "outputs": [],
   "source": [
    "Code(inspect.getsource(Vector.angle_to), language='python')"
   ]
  },
  {
   "cell_type": "code",
   "execution_count": null,
   "id": "6f211bab",
   "metadata": {},
   "outputs": [],
   "source": [
    "v1.angle_to(v2)"
   ]
  }
 ],
 "metadata": {
  "kernelspec": {
   "display_name": "python-entwicklung",
   "language": "python",
   "name": "python3"
  },
  "language_info": {
   "codemirror_mode": {
    "name": "ipython",
    "version": 3
   },
   "file_extension": ".py",
   "mimetype": "text/x-python",
   "name": "python",
   "nbconvert_exporter": "python",
   "pygments_lexer": "ipython3",
   "version": "3.12.4"
  }
 },
 "nbformat": 4,
 "nbformat_minor": 5
}
