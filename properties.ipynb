{
 "cells": [
  {
   "cell_type": "code",
   "execution_count": 15,
   "metadata": {},
   "outputs": [],
   "source": [
    "class Building:\n",
    "   \n",
    "    def __init__(self, height=1):\n",
    "        self.height = height\n",
    "\n",
    "\n",
    "    # Getter for height\n",
    "    @property\n",
    "    def height(self):\n",
    "        print(\"property called\")\n",
    "        return self._height\n",
    "\n",
    "    # Setter for height\n",
    "    @height.setter\n",
    "    def height(self, value):\n",
    "        print(f\"height was set with {value}\")\n",
    "        if value <= 0:\n",
    "            raise ValueError(\"Height must be positive\")\n",
    "        self._height = value\n",
    "    "
   ]
  },
  {
   "cell_type": "code",
   "execution_count": 18,
   "metadata": {},
   "outputs": [
    {
     "name": "stdout",
     "output_type": "stream",
     "text": [
      "-6\n"
     ]
    },
    {
     "ename": "",
     "evalue": "",
     "output_type": "error",
     "traceback": [
      "\u001b[1;31mThe Kernel crashed while executing code in the current cell or a previous cell. \n",
      "\u001b[1;31mPlease review the code in the cell(s) to identify a possible cause of the failure. \n",
      "\u001b[1;31mClick <a href='https://aka.ms/vscodeJupyterKernelCrash'>here</a> for more info. \n",
      "\u001b[1;31mView Jupyter <a href='command:jupyter.viewOutput'>log</a> for further details."
     ]
    }
   ],
   "source": [
    "b = Building(-6)\n",
    "\n",
    "b.height = \n",
    "print(b._height)"
   ]
  },
  {
   "cell_type": "code",
   "execution_count": 16,
   "metadata": {},
   "outputs": [],
   "source": [
    "class Blub:\n",
    "    \n",
    "    def __init__(self):\n",
    "        self.a = 13\n",
    "\n",
    "\n",
    "class Test(Blub):\n",
    "    \n",
    "    class_atr = 5\n",
    "    \n",
    "    def __init__(self, a, b, c, objects=None):\n",
    "        #self.a = a\n",
    "        self.b = b\n",
    "        self.c = c\n",
    "        \n",
    "        #self.blub = Blub()\n",
    "        \n",
    "        if objects is not None:\n",
    "            self.objects = objects\n",
    "            \n",
    "        else:\n",
    "            self.objects = []\n",
    "        \n",
    "        \n",
    "        \n",
    "    def sum(self):\n",
    "        return self.a + self.b + self.c\n",
    "    \n",
    "    def class_method():\n",
    "        return Test.class_atr + 2\n",
    "        \n",
    "    def __str__(self):\n",
    "        return f\"{self.a} {self.b} {self.c}\""
   ]
  },
  {
   "cell_type": "code",
   "execution_count": 17,
   "metadata": {},
   "outputs": [
    {
     "ename": "TypeError",
     "evalue": "descriptor '__init__' requires a 'super' object but received a 'Test'",
     "output_type": "error",
     "traceback": [
      "\u001b[1;31m---------------------------------------------------------------------------\u001b[0m",
      "\u001b[1;31mTypeError\u001b[0m                                 Traceback (most recent call last)",
      "Cell \u001b[1;32mIn[17], line 1\u001b[0m\n\u001b[1;32m----> 1\u001b[0m test \u001b[38;5;241m=\u001b[39m Test(\u001b[38;5;241m5\u001b[39m, \u001b[38;5;241m7\u001b[39m, \u001b[38;5;241m9\u001b[39m)\n\u001b[0;32m      3\u001b[0m test\u001b[38;5;241m.\u001b[39md \u001b[38;5;241m=\u001b[39m \u001b[38;5;241m12\u001b[39m\n\u001b[0;32m      5\u001b[0m \u001b[38;5;66;03m# Test.sum(test)\u001b[39;00m\n\u001b[0;32m      6\u001b[0m \u001b[38;5;66;03m# test.sum()\u001b[39;00m\n",
      "Cell \u001b[1;32mIn[16], line 13\u001b[0m, in \u001b[0;36mTest.__init__\u001b[1;34m(self, a, b, c, objects)\u001b[0m\n\u001b[0;32m     11\u001b[0m \u001b[38;5;28;01mdef\u001b[39;00m \u001b[38;5;21m__init__\u001b[39m(\u001b[38;5;28mself\u001b[39m, a, b, c, objects\u001b[38;5;241m=\u001b[39m\u001b[38;5;28;01mNone\u001b[39;00m):\n\u001b[0;32m     12\u001b[0m     \u001b[38;5;66;03m#self.a = a\u001b[39;00m\n\u001b[1;32m---> 13\u001b[0m     \u001b[38;5;28msuper\u001b[39m\u001b[38;5;241m.\u001b[39m\u001b[38;5;21m__init__\u001b[39m(\u001b[38;5;28mself\u001b[39m)\n\u001b[0;32m     14\u001b[0m     \u001b[38;5;28mself\u001b[39m\u001b[38;5;241m.\u001b[39mb \u001b[38;5;241m=\u001b[39m b\n\u001b[0;32m     15\u001b[0m     \u001b[38;5;28mself\u001b[39m\u001b[38;5;241m.\u001b[39mc \u001b[38;5;241m=\u001b[39m c\n",
      "\u001b[1;31mTypeError\u001b[0m: descriptor '__init__' requires a 'super' object but received a 'Test'"
     ]
    }
   ],
   "source": [
    "test = Test(5, 7, 9)\n",
    "\n",
    "test.d = 12\n",
    "\n",
    "# Test.sum(test)\n",
    "# test.sum()\n",
    "\n",
    "\n",
    "print(Test.sum(test))"
   ]
  },
  {
   "cell_type": "code",
   "execution_count": 6,
   "metadata": {},
   "outputs": [
    {
     "data": {
      "text/plain": [
       "{'a': 5, 'b': 7, 'c': 9, 'd': 7}"
      ]
     },
     "execution_count": 6,
     "metadata": {},
     "output_type": "execute_result"
    }
   ],
   "source": [
    "test.__dict__"
   ]
  }
 ],
 "metadata": {
  "kernelspec": {
   "display_name": "stackfuel",
   "language": "python",
   "name": "python3"
  },
  "language_info": {
   "codemirror_mode": {
    "name": "ipython",
    "version": 3
   },
   "file_extension": ".py",
   "mimetype": "text/x-python",
   "name": "python",
   "nbconvert_exporter": "python",
   "pygments_lexer": "ipython3",
   "version": "3.12.2"
  }
 },
 "nbformat": 4,
 "nbformat_minor": 2
}
