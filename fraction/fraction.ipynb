{
 "cells": [
  {
   "cell_type": "markdown",
   "metadata": {},
   "source": [
    "# Rundungsfehler bei Fließkommazahlen"
   ]
  },
  {
   "cell_type": "code",
   "execution_count": 1,
   "metadata": {},
   "outputs": [
    {
     "data": {
      "text/plain": [
       "False"
      ]
     },
     "execution_count": 1,
     "metadata": {},
     "output_type": "execute_result"
    }
   ],
   "source": [
    "a = 0.1 + 0.2\n",
    "0.3 == a"
   ]
  },
  {
   "cell_type": "code",
   "execution_count": 2,
   "metadata": {},
   "outputs": [
    {
     "name": "stdout",
     "output_type": "stream",
     "text": [
      "0.1000000000000000055511151231257827021182\n"
     ]
    }
   ],
   "source": [
    "print(f\"{0.1:.40f}\")"
   ]
  },
  {
   "cell_type": "code",
   "execution_count": 3,
   "metadata": {},
   "outputs": [
    {
     "data": {
      "text/plain": [
       "False"
      ]
     },
     "execution_count": 3,
     "metadata": {},
     "output_type": "execute_result"
    }
   ],
   "source": [
    "0.1 + 0.2 == 0.3"
   ]
  },
  {
   "cell_type": "markdown",
   "metadata": {},
   "source": [
    "$$\n",
    "0.1_{10} = 0.0001100110011\\ldots_2 = 0.0001\\overline{1001}_2\n",
    "$$\n",
    "\n",
    "$$\n",
    "0.2_{10} = 0.001100110011\\ldots_2 = 0.0011\\overline{0011}_2\n",
    "$$\n",
    "\n",
    "$$\n",
    "0.3_{10} = 0.01001100110011\\ldots_2 = 0.0100\\overline{1100}_2\n",
    "$$\n"
   ]
  },
  {
   "cell_type": "code",
   "execution_count": 4,
   "metadata": {},
   "outputs": [
    {
     "data": {
      "text/plain": [
       "False"
      ]
     },
     "execution_count": 4,
     "metadata": {},
     "output_type": "execute_result"
    }
   ],
   "source": [
    "b = 0\n",
    "for _ in range(10):\n",
    "    b += 0.1\n",
    "b == 1.0"
   ]
  },
  {
   "cell_type": "code",
   "execution_count": 5,
   "metadata": {},
   "outputs": [
    {
     "data": {
      "text/plain": [
       "False"
      ]
     },
     "execution_count": 5,
     "metadata": {},
     "output_type": "execute_result"
    }
   ],
   "source": [
    "c = 1\n",
    "for _ in range(10):\n",
    "    c -= 0.1\n",
    "c == 0.0"
   ]
  },
  {
   "cell_type": "code",
   "execution_count": 6,
   "metadata": {},
   "outputs": [
    {
     "data": {
      "text/plain": [
       "False"
      ]
     },
     "execution_count": 6,
     "metadata": {},
     "output_type": "execute_result"
    }
   ],
   "source": [
    "d = 1.1 * 1.1\n",
    "1.21 == d"
   ]
  },
  {
   "cell_type": "code",
   "execution_count": 7,
   "metadata": {},
   "outputs": [
    {
     "name": "stdout",
     "output_type": "stream",
     "text": [
      "a=0.30000000000000004\n",
      "b=0.9999999999999999\n",
      "c=1.3877787807814457e-16\n",
      "d=1.2100000000000002\n"
     ]
    }
   ],
   "source": [
    "print(f\"{a=}\")\n",
    "print(f\"{b=}\")\n",
    "print(f\"{c=}\")\n",
    "print(f\"{d=}\")\n"
   ]
  },
  {
   "cell_type": "code",
   "execution_count": 8,
   "metadata": {},
   "outputs": [
    {
     "name": "stdout",
     "output_type": "stream",
     "text": [
      "1/1  = 1.0\n",
      "1/2  = 0.5\n",
      "1/3  = 0.3333333333333333\n",
      "1/4  = 0.25\n",
      "1/5  = 0.2\n",
      "1/6  = 0.16666666666666666\n",
      "1/7  = 0.14285714285714285\n",
      "1/8  = 0.125\n",
      "1/9  = 0.1111111111111111\n",
      "1/10 = 0.1\n"
     ]
    }
   ],
   "source": [
    "for i in range(1, 11):\n",
    "    print(f\"1/{i:<2} = {1/i}\")"
   ]
  },
  {
   "cell_type": "code",
   "execution_count": 9,
   "metadata": {},
   "outputs": [
    {
     "name": "stdout",
     "output_type": "stream",
     "text": [
      "1/1  = 1.0000000000000000000000000000000000000000\n",
      "1/2  = 0.5000000000000000000000000000000000000000\n",
      "1/3  = 0.3333333333333333148296162562473909929395\n",
      "1/4  = 0.2500000000000000000000000000000000000000\n",
      "1/5  = 0.2000000000000000111022302462515654042363\n",
      "1/6  = 0.1666666666666666574148081281236954964697\n",
      "1/7  = 0.1428571428571428492126926812488818541169\n",
      "1/8  = 0.1250000000000000000000000000000000000000\n",
      "1/9  = 0.1111111111111111049432054187491303309798\n",
      "1/10 = 0.1000000000000000055511151231257827021182\n"
     ]
    }
   ],
   "source": [
    "for i in range(1, 11):\n",
    "    print(f\"1/{i:<2} = {1/i:.40f}\")"
   ]
  },
  {
   "cell_type": "markdown",
   "metadata": {},
   "source": [
    "# Lösung: Brüche"
   ]
  },
  {
   "cell_type": "code",
   "execution_count": 10,
   "metadata": {},
   "outputs": [
    {
     "name": "stdout",
     "output_type": "stream",
     "text": [
      "a: [1, 3]\n",
      "b: (1, 3)\n",
      "c: {'numerator': 1, 'denominator': 3}\n",
      "d: Fraction(numerator=1, denominator=3)\n"
     ]
    }
   ],
   "source": [
    "# Brüche bestehen aus zwei Integer werten (Zähler und Nenner) engl. numerator und denominator.\n",
    "# Wir können Brüche in unterschiedlichen Datenstrukturen speichern.\n",
    "\n",
    "# List\n",
    "a = [1, 3]\n",
    "\n",
    "# Tuple\n",
    "b = (1, 3)\n",
    "\n",
    "# Dictionary\n",
    "c = {\"numerator\": 1, \"denominator\": 3}\n",
    "\n",
    "# Named Tuple\n",
    "from collections import namedtuple\n",
    "Fraction = namedtuple(\"Fraction\", [\"numerator\", \"denominator\"])\n",
    "d = Fraction(1, 3)\n",
    "\n",
    "for fraction, name in zip((a, b, c, d), (\"a\", \"b\", \"c\", \"d\")):\n",
    "    print(f\"{name}: {fraction}\")"
   ]
  },
  {
   "cell_type": "code",
   "execution_count": 11,
   "metadata": {},
   "outputs": [
    {
     "name": "stdout",
     "output_type": "stream",
     "text": [
      "1\n",
      "3\n"
     ]
    }
   ],
   "source": [
    "# Named Tuple erlauben es uns auf die Werte über ihre Namen zuzugreifen.\n",
    "print(d.numerator)\n",
    "print(d.denominator)"
   ]
  },
  {
   "cell_type": "code",
   "execution_count": 12,
   "metadata": {},
   "outputs": [],
   "source": [
    "a = Fraction(1, 1)\n",
    "b = Fraction(1, 2)\n",
    "c = Fraction(1, 3)\n",
    "\n",
    "d = Fraction(2, 4)\n",
    "e = Fraction(8, 1)\n",
    "f = Fraction(17, 32)"
   ]
  },
  {
   "cell_type": "markdown",
   "metadata": {},
   "source": [
    "Um Tuple als Brüche zu interpretieren brauchen wir einige Hilfsfunktionen um klassische Rechenoperationen durchzuführen.\n",
    "\n",
    "### Kürzen\n",
    "\n",
    "$$\n",
    "\\begin{align*}\n",
    "\\frac{a}{b} = \\frac{a \\div \\text{ggT}(a, b)}{b \\div \\text{ggT}(a, b)}\n",
    "\\end{align*}\n",
    "$$\n",
    "\n",
    "### Addieren\n",
    "\n",
    "$$\n",
    "\\frac{a}{b} + \\frac{c}{d} = \\frac{a \\cdot d + c \\cdot b}{b \\cdot d}\n",
    "$$\n",
    "\n",
    "### Subtrahieren\n",
    "\n",
    "$$\n",
    "\\frac{a}{b} - \\frac{c}{d} = \\frac{a \\cdot d - c \\cdot b}{b \\cdot d}\n",
    "$$\n",
    "\n",
    "### Multiplizieren\n",
    "\n",
    "$$\n",
    "\\frac{a}{b} \\cdot \\frac{c}{d} = \\frac{a \\cdot c}{b \\cdot d}\n",
    "$$\n",
    "\n",
    "### Dividieren\n",
    "\n",
    "$$\n",
    "\\frac{a}{b} \\div \\frac{c}{d} = \\frac{a}{b} \\cdot \\frac{d}{c} = \\frac{a \\cdot d}{b \\cdot c}\n",
    "$$\n"
   ]
  },
  {
   "cell_type": "code",
   "execution_count": 13,
   "metadata": {},
   "outputs": [
    {
     "name": "stdout",
     "output_type": "stream",
     "text": [
      "Fraction(numerator=6, denominator=3) = Fraction(numerator=2, denominator=1)\n",
      "Fraction(numerator=10, denominator=2) = Fraction(numerator=5, denominator=1)\n",
      "Fraction(numerator=4, denominator=3) = Fraction(numerator=4, denominator=3)\n",
      "Fraction(numerator=33, denominator=11) = Fraction(numerator=3, denominator=1)\n",
      "Fraction(numerator=3, denominator=15) = Fraction(numerator=1, denominator=5)\n"
     ]
    }
   ],
   "source": [
    "from math import gcd\n",
    "\n",
    "def simplify(fraction: Fraction) -> Fraction:\n",
    "    \"\"\"Simplify a fraction.\"\"\"\n",
    "    common_divisor = gcd(fraction.numerator, fraction.denominator)\n",
    "    new_numerator = fraction.numerator // common_divisor\n",
    "    new_denominator = fraction.denominator // common_divisor\n",
    "    return Fraction(new_numerator, new_denominator)\n",
    "\n",
    "\n",
    "fractions = [\n",
    "    Fraction(6, 3),\n",
    "    Fraction(10, 2),\n",
    "    Fraction(4, 3),\n",
    "    Fraction(33, 11),\n",
    "    Fraction(3, 15)\n",
    "]\n",
    "\n",
    "for frac in fractions:\n",
    "    print(f\"{frac} = {simplify(frac)}\")\n",
    "    "
   ]
  },
  {
   "cell_type": "code",
   "execution_count": 14,
   "metadata": {},
   "outputs": [
    {
     "name": "stdout",
     "output_type": "stream",
     "text": [
      "Fraction(numerator=1, denominator=1) * Fraction(numerator=1, denominator=2) = Fraction(numerator=1, denominator=2)\n",
      "Fraction(numerator=1, denominator=3) * Fraction(numerator=2, denominator=4) = Fraction(numerator=1, denominator=6)\n",
      "Fraction(numerator=8, denominator=1) * Fraction(numerator=17, denominator=32) = Fraction(numerator=17, denominator=4)\n"
     ]
    }
   ],
   "source": [
    "def multiply(a: Fraction, b: Fraction) -> Fraction:\n",
    "    \"\"\"Multiply two fractions.\"\"\"\n",
    "    new_numerator = a.numerator * b.numerator\n",
    "    new_denominator = a.denominator * b.denominator\n",
    "    return simplify(Fraction(new_numerator, new_denominator))\n",
    "\n",
    "print(f\"{a} * {b} = {multiply(a, b)}\")\n",
    "print(f\"{c} * {d} = {multiply(c, d)}\")\n",
    "print(f\"{e} * {f} = {multiply(e, f)}\")"
   ]
  },
  {
   "cell_type": "markdown",
   "metadata": {},
   "source": [
    "Wir können weitere Hilfsfunktionen definieren die auf unserer Datenstruktur arbeiten und uns das Ergebnis als Rückgabewert liefern.\n",
    "\n",
    "Diese Funktionen können auch kombiniert werden, so können wir die `simplify` Funktion in den anderen Funktionen nutzen um unsere neue Fraction gekürtzt zurückzugeben."
   ]
  },
  {
   "cell_type": "code",
   "execution_count": 16,
   "metadata": {},
   "outputs": [
    {
     "name": "stdout",
     "output_type": "stream",
     "text": [
      "Addition: Fraction(numerator=5, denominator=4)\n",
      "Subtraction: Fraction(numerator=-1, denominator=4)\n",
      "Multiplication: Fraction(numerator=3, denominator=8)\n",
      "Division: Fraction(numerator=2, denominator=3)\n"
     ]
    }
   ],
   "source": [
    "from math import gcd\n",
    "from collections import namedtuple\n",
    "\n",
    "Fraction = namedtuple(\"Fraction\", [\"numerator\", \"denominator\"])\n",
    "\n",
    "def simplify(fraction: Fraction) -> Fraction:\n",
    "    \"\"\"Simplify a fraction.\"\"\"\n",
    "    common_divisor = gcd(fraction.numerator, fraction.denominator)\n",
    "    return Fraction(fraction.numerator // common_divisor, fraction.denominator // common_divisor)\n",
    "\n",
    "def add(a: Fraction, b: Fraction) -> Fraction:\n",
    "    \"\"\"Add two fractions.\"\"\"\n",
    "    new_numerator = a.numerator * b.denominator + b.numerator * a.denominator\n",
    "    new_denominator = a.denominator * b.denominator\n",
    "    return simplify(Fraction(new_numerator, new_denominator))\n",
    "\n",
    "def subtract(a: Fraction, b: Fraction) -> Fraction:\n",
    "    \"\"\"Subtract the second fraction from the first fraction.\"\"\"\n",
    "    new_numerator = a.numerator * b.denominator - b.numerator * a.denominator\n",
    "    new_denominator = a.denominator * b.denominator\n",
    "    return simplify(Fraction(new_numerator, new_denominator))\n",
    "\n",
    "def multiply(a: Fraction, b: Fraction) -> Fraction:\n",
    "    \"\"\"Multiply two fractions.\"\"\"\n",
    "    new_numerator = a.numerator * b.numerator\n",
    "    new_denominator = a.denominator * b.denominator\n",
    "    return simplify(Fraction(new_numerator, new_denominator))\n",
    "\n",
    "def divide(a: Fraction, b: Fraction) -> Fraction:\n",
    "    \"\"\"Divide the first fraction by the second fraction.\"\"\"\n",
    "    new_numerator = a.numerator * b.denominator\n",
    "    new_denominator = a.denominator * b.numerator\n",
    "    return simplify(Fraction(new_numerator, new_denominator))\n",
    "\n",
    "\n",
    "# Example usage\n",
    "a = Fraction(1, 2)\n",
    "b = Fraction(3, 4)\n",
    "\n",
    "print(\"Addition:\", add(a, b))               # (5, 4)\n",
    "print(\"Subtraction:\", subtract(a, b))       # (-1, 4)\n",
    "print(\"Multiplication:\", multiply(a, b))    # (3, 8)\n",
    "print(\"Division:\", divide(a, b))            # (2, 3)\n"
   ]
  },
  {
   "cell_type": "markdown",
   "metadata": {},
   "source": [
    "Diese Vorgehensweise hat starke Einschränkungen. So können wir nicht die Zeichen `+`, `-`, `*` usw. nutzen sondern müssen die Funktionen stehts beim Namen nenne.\n",
    "\n",
    "Mit einer Klasse können wir die Funktionen fast genauso definieren."
   ]
  },
  {
   "cell_type": "code",
   "execution_count": 17,
   "metadata": {},
   "outputs": [],
   "source": [
    "from math import gcd\n",
    "\n",
    "class Fraction:\n",
    "    \n",
    "    def __init__(self: \"Fraction\", numerator: int | float | str, denominator: int = 1) -> None:\n",
    "        \"\"\"\n",
    "        Initializes a Fraction object.\n",
    "        Args:\n",
    "            numerator (int | float | str): The numerator of the fraction. It can be an integer, float, or string.\n",
    "            denominator (int, optional): The denominator of the fraction. Defaults to 1.\n",
    "        Raises:\n",
    "            ValueError: If the denominator is 0.\n",
    "        Notes:\n",
    "            - If the numerator is a float, it will be converted to a fraction using its integer ratio.\n",
    "            - If the numerator is a string, it will be parsed into a fraction.\n",
    "        \"\"\"\n",
    "        \n",
    "        if denominator == 0:\n",
    "            raise ValueError(\"Denominator can't be 0\")\n",
    "        \n",
    "        if isinstance(numerator, float):\n",
    "            numerator, denominator = numerator.as_integer_ratio()\n",
    "            \n",
    "        if isinstance(numerator, str):\n",
    "            frac = Fraction.from_string(numerator)\n",
    "            numerator, denominator = frac.numerator, frac.denominator\n",
    "            \n",
    "        self.numerator = numerator\n",
    "        self.denominator = denominator\n",
    "\n",
    "    \n",
    "    @staticmethod\n",
    "    def from_string(value: str) -> \"Fraction\":\n",
    "        \"\"\"\n",
    "        Create a Fraction from a string.\n",
    "\n",
    "        This method supports three types of string inputs:\n",
    "        1. A string representing a fraction in the form \"numerator/denominator\".\n",
    "        2. A string representing a decimal number.\n",
    "        3. A string representing an integer.\n",
    "        \"\"\"\n",
    "        \n",
    "        if \"/\" in value:\n",
    "            numerator, denominator = map(int, value.split(\"/\"))\n",
    "            return Fraction(numerator, denominator)\n",
    "        if \".\" in value:\n",
    "            before_decimal, after_decimal = value.split(\".\")\n",
    "            denominator = 10 ** len(after_decimal)\n",
    "            numerator = int(before_decimal + after_decimal)\n",
    "            return Fraction(numerator, denominator).simplify()\n",
    "        return Fraction(int(value))\n",
    "\n",
    "    \n",
    "    def simplify(fraction: \"Fraction\") -> \"Fraction\":\n",
    "        \"\"\"Simplify a fraction.\"\"\"\n",
    "        \n",
    "        common_divisor = gcd(fraction.numerator, fraction.denominator)\n",
    "        return Fraction(fraction.numerator // common_divisor, fraction.denominator // common_divisor)\n",
    "\n",
    "    \n",
    "    def __eq__(self: \"Fraction\", other: \"Fraction\") -> bool:\n",
    "        \"\"\"\n",
    "        Check if two Fraction instances are equal.\n",
    "        \"\"\"\n",
    "        \n",
    "        a = self.simplify()\n",
    "        b = other.simplify()\n",
    "        return a.numerator == b.numerator and a.denominator == b.denominator\n",
    "\n",
    "\n",
    "    def __add__(a: \"Fraction\", b: \"Fraction\") -> \"Fraction\":\n",
    "        \"\"\"Add two fractions.\"\"\"\n",
    "        \n",
    "        new_numerator = a.numerator * b.denominator + b.numerator * a.denominator\n",
    "        new_denominator = a.denominator * b.denominator\n",
    "        return Fraction(new_numerator, new_denominator).simplify()\n",
    "\n",
    "\n",
    "    def __sub__(a: \"Fraction\", b: \"Fraction\") -> \"Fraction\":\n",
    "        \"\"\"Subtract the second fraction from the first fraction.\"\"\"\n",
    "        \n",
    "        new_numerator = a.numerator * b.denominator - b.numerator * a.denominator\n",
    "        new_denominator = a.denominator * b.denominator\n",
    "        return Fraction(new_numerator, new_denominator).simplify()\n",
    "\n",
    "\n",
    "    def __mul__(a: \"Fraction\", b: \"Fraction\") -> \"Fraction\":\n",
    "        \"\"\"Multiply two fractions.\"\"\"\n",
    "        \n",
    "        new_numerator = a.numerator * b.numerator\n",
    "        new_denominator = a.denominator * b.denominator\n",
    "        return Fraction(new_numerator, new_denominator).simplify()\n",
    "\n",
    "\n",
    "    def __truediv__(a: \"Fraction\", b: \"Fraction\") -> \"Fraction\":\n",
    "        \"\"\"Divide the first fraction by the second fraction.\"\"\"\n",
    "        \n",
    "        new_numerator = a.numerator * b.denominator\n",
    "        new_denominator = a.denominator * b.numerator\n",
    "        return Fraction(new_numerator, new_denominator).simplify()\n",
    "    \n",
    "    \n",
    "    def __str__(self):\n",
    "        return f\"{self.numerator}/{self.denominator}\"\n",
    "    \n",
    "    \n",
    "    def __repr__(self):\n",
    "        return f\"Fraction({self.numerator}, {self.denominator})\"\n",
    "    \n",
    "    \n",
    "    def __float__(self):\n",
    "        return self.numerator / self.denominator\n",
    "    \n",
    "    \n",
    "    def __int__(self):\n",
    "        return self.numerator // self.denominator"
   ]
  },
  {
   "cell_type": "code",
   "execution_count": 18,
   "metadata": {},
   "outputs": [
    {
     "name": "stdout",
     "output_type": "stream",
     "text": [
      "7/6\n",
      "-1/6\n",
      "1/3\n",
      "3/4\n",
      "True\n",
      "False\n",
      "1/2\n",
      "Fraction(1, 2)\n",
      "0.5\n",
      "0\n",
      "1/2\n",
      "1/2\n",
      "1/1\n",
      "2/3\n"
     ]
    }
   ],
   "source": [
    "f1 = Fraction(1, 2)\n",
    "f2 = Fraction(2, 3)\n",
    "f3 = Fraction(3, 4)\n",
    "f4 = Fraction(1, 2)\n",
    "\n",
    "print(f1 + f2)\n",
    "print(f1 - f2)\n",
    "print(f1 * f2)\n",
    "print(f1 / f2)\n",
    "print(f1 == f4)\n",
    "print(f1 == f2)\n",
    "print(f1)\n",
    "print(repr(f1))\n",
    "print(float(f1))\n",
    "print(int(f1))\n",
    "print(Fraction.from_string(\"1/2\"))\n",
    "print(Fraction.from_string(\"0.5\"))\n",
    "print(Fraction.from_string(\"1\"))\n",
    "print(Fraction.from_string(\"2/3\"))\n",
    "\n",
    "\n"
   ]
  },
  {
   "cell_type": "code",
   "execution_count": 19,
   "metadata": {},
   "outputs": [
    {
     "data": {
      "text/plain": [
       "0.75"
      ]
     },
     "execution_count": 19,
     "metadata": {},
     "output_type": "execute_result"
    }
   ],
   "source": [
    "float(f3)"
   ]
  },
  {
   "cell_type": "code",
   "execution_count": 20,
   "metadata": {},
   "outputs": [
    {
     "name": "stdout",
     "output_type": "stream",
     "text": [
      "1/5\n"
     ]
    }
   ],
   "source": [
    "print(Fraction(\"0.2\"))"
   ]
  },
  {
   "cell_type": "code",
   "execution_count": 21,
   "metadata": {},
   "outputs": [
    {
     "name": "stdout",
     "output_type": "stream",
     "text": [
      "a=1/10\n",
      "b=1/5\n",
      "1/10 + 1/5 = 3/10\n"
     ]
    },
    {
     "data": {
      "text/plain": [
       "True"
      ]
     },
     "execution_count": 21,
     "metadata": {},
     "output_type": "execute_result"
    }
   ],
   "source": [
    "a = Fraction(\"0.1\")\n",
    "b = Fraction(\"0.2\")\n",
    "print(f\"a={a}\")\n",
    "print(f\"b={b}\")\n",
    "print(f\"{a} + {b} = {a + b}\")\n",
    "Fraction(\"0.3\") == a+b"
   ]
  },
  {
   "cell_type": "code",
   "execution_count": 22,
   "metadata": {},
   "outputs": [
    {
     "name": "stdout",
     "output_type": "stream",
     "text": [
      "1/3 + 1/3 + 1/3 = 1/1\n"
     ]
    },
    {
     "data": {
      "text/plain": [
       "True"
      ]
     },
     "execution_count": 22,
     "metadata": {},
     "output_type": "execute_result"
    }
   ],
   "source": [
    "# 1/3 + 1/3 + 1/3 = 1\n",
    "a = Fraction(1, 3)\n",
    "b = Fraction(1, 3)\n",
    "c = Fraction(1, 3)\n",
    "print(f\"{a} + {b} + {c} = {a + b + c}\")\n",
    "Fraction(1) == a + b + c\n",
    "\n"
   ]
  }
 ],
 "metadata": {
  "kernelspec": {
   "display_name": "stackfuel",
   "language": "python",
   "name": "python3"
  },
  "language_info": {
   "codemirror_mode": {
    "name": "ipython",
    "version": 3
   },
   "file_extension": ".py",
   "mimetype": "text/x-python",
   "name": "python",
   "nbconvert_exporter": "python",
   "pygments_lexer": "ipython3",
   "version": "3.12.2"
  }
 },
 "nbformat": 4,
 "nbformat_minor": 2
}
