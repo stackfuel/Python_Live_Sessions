{
 "cells": [
  {
   "cell_type": "markdown",
   "metadata": {},
   "source": [
    "# Decoratoren"
   ]
  },
  {
   "cell_type": "code",
   "execution_count": 4,
   "metadata": {},
   "outputs": [
    {
     "name": "stdout",
     "output_type": "stream",
     "text": [
      "(1, 2, 3)\n",
      "1 2 3\n",
      "1_2_3\n"
     ]
    }
   ],
   "source": [
    "t = (1, 2, 3)\n",
    "print(t)\n",
    "print(*t)\n",
    "print(1, 2, 3, sep=\"_\")"
   ]
  },
  {
   "cell_type": "code",
   "execution_count": 11,
   "metadata": {},
   "outputs": [
    {
     "name": "stdout",
     "output_type": "stream",
     "text": [
      "{'sep': '*'}\n",
      "1*2*3\n"
     ]
    }
   ],
   "source": [
    "d = {'sep': \"*\"}\n",
    "\n",
    "print(d)\n",
    "print(1, 2, 3, **d)"
   ]
  },
  {
   "cell_type": "code",
   "execution_count": 13,
   "metadata": {},
   "outputs": [
    {
     "name": "stdout",
     "output_type": "stream",
     "text": [
      "(1, 2, 3, 4, 5)\n",
      "{'a': 1, 'b': 2, 'c': 3}\n"
     ]
    }
   ],
   "source": [
    "def f(*args, **kwargs):\n",
    "    print(args)\n",
    "    print(kwargs)\n",
    "    \n",
    "f(1, 2, 3, 4, 5, a=1, b=2, c=3)"
   ]
  },
  {
   "cell_type": "code",
   "execution_count": 14,
   "metadata": {},
   "outputs": [
    {
     "name": "stdout",
     "output_type": "stream",
     "text": [
      "15\n"
     ]
    }
   ],
   "source": [
    "def add_5(x):\n",
    "    return x + 5\n",
    "\n",
    "def apply(func, x):\n",
    "    return func(x)\n",
    "\n",
    "print(apply(add_5, 10))"
   ]
  },
  {
   "cell_type": "code",
   "execution_count": 15,
   "metadata": {},
   "outputs": [
    {
     "name": "stdout",
     "output_type": "stream",
     "text": [
      "12\n"
     ]
    }
   ],
   "source": [
    "def create_add_n(n):\n",
    "    def add_n(x):\n",
    "        return x + n\n",
    "    return add_n\n",
    "\n",
    "add_10 = create_add_n(10)\n",
    "\n",
    "print(add_10(2))\n",
    "\n"
   ]
  },
  {
   "cell_type": "code",
   "execution_count": 19,
   "metadata": {},
   "outputs": [
    {
     "name": "stdout",
     "output_type": "stream",
     "text": [
      "Calling function is_prime with argument 11\n"
     ]
    },
    {
     "data": {
      "text/plain": [
       "True"
      ]
     },
     "execution_count": 19,
     "metadata": {},
     "output_type": "execute_result"
    }
   ],
   "source": [
    "def is_prime(n):\n",
    "    if n < 2:\n",
    "        return False\n",
    "    return not any(n % i == 0 for i in range(2, n))\n",
    "\n",
    "\n",
    "def log_function(func):\n",
    "    def wrapper(n):\n",
    "        print(f\"Calling function {func.__name__} with argument {n}\")\n",
    "        return func(n)\n",
    "    return wrapper\n",
    "\n",
    "# print(is_prime(10))\n",
    "# print(is_prime(11))\n",
    "\n",
    "logged_is_prime = log_function(is_prime)\n",
    "logged_is_prime(11)"
   ]
  },
  {
   "cell_type": "code",
   "execution_count": 24,
   "metadata": {},
   "outputs": [
    {
     "name": "stdout",
     "output_type": "stream",
     "text": [
      "Calling function filter_primes with arguments (1, 2, 5, 7, 8, 9, 11) {}\n",
      "function was calles\n"
     ]
    },
    {
     "data": {
      "text/plain": [
       "[2, 5, 7, 11]"
      ]
     },
     "execution_count": 24,
     "metadata": {},
     "output_type": "execute_result"
    }
   ],
   "source": [
    "def log_function(func):\n",
    "    def wrapper(*args, **kwargs):\n",
    "        print(f\"Calling function {func.__name__} with arguments {args} {kwargs}\")\n",
    "        result = func(*args, **kwargs)\n",
    "        print(\"function was calles\")\n",
    "        return result\n",
    "    return wrapper\n",
    "\n",
    "\n",
    "def filter_primes(*numbers):\n",
    "    return [n for n in numbers if is_prime(n)]\n",
    "\n",
    "# logged_is_prime = log_function(is_prime)\n",
    "\n",
    "# logged_is_prime(11)\n",
    "\n",
    "filter_primes(1, 2, 5, 7, 8, 9, 11)\n",
    "\n",
    "logged_filter_primes = log_function(filter_primes)\n",
    "\n",
    "logged_filter_primes(1, 2, 5, 7, 8, 9, 11)"
   ]
  },
  {
   "cell_type": "code",
   "execution_count": 29,
   "metadata": {},
   "outputs": [
    {
     "name": "stdout",
     "output_type": "stream",
     "text": [
      "\n",
      "    Check if a number is prime\n",
      "    \n",
      "is_prime\n"
     ]
    }
   ],
   "source": [
    "\n",
    "from functools import wraps\n",
    "\n",
    "def log_function(func):\n",
    "    @wraps(func)\n",
    "    def wrapper(*args, **kwargs):\n",
    "        print(f\"Calling function {func.__name__} with arguments {args} {kwargs}\")\n",
    "        result = func(*args, **kwargs)\n",
    "        print(\"function was calles\")\n",
    "        return result\n",
    "    return wrapper\n",
    "\n",
    "\n",
    "@log_function\n",
    "def is_prime(n):\n",
    "    '''\n",
    "    Check if a number is prime\n",
    "    '''\n",
    "    if n < 2:\n",
    "        return False\n",
    "    return not any(n % i == 0 for i in range(2, n))\n",
    "\n",
    "print(is_prime.__doc__)\n",
    "print(is_prime.__name__)"
   ]
  },
  {
   "cell_type": "code",
   "execution_count": 32,
   "metadata": {},
   "outputs": [
    {
     "name": "stdout",
     "output_type": "stream",
     "text": [
      "m2 of A called with self <__main__.A object at 0x000002703A9A6E10>\n",
      "m3 of A called\n",
      "m4 of A called with cls <class '__main__.A'>\n",
      "--------------------\n",
      "m1 of A called\n",
      "m2 of A called with self <__main__.A object at 0x000002703A9A6E10>\n",
      "m3 of A called\n",
      "m4 of A called with cls <class '__main__.A'>\n"
     ]
    }
   ],
   "source": [
    "class A:\n",
    "    \n",
    "    def m1():\n",
    "        print(\"m1 of A called\")\n",
    "        \n",
    "    def m2(self):\n",
    "        print(\"m2 of A called with self\", self)\n",
    "        \n",
    "    @staticmethod\n",
    "    def m3():\n",
    "        print(\"m3 of A called\")\n",
    "        \n",
    "    @classmethod\n",
    "    def m4(cls):\n",
    "        print(\"m4 of A called with cls\", cls)\n",
    "        \n",
    "        \n",
    "a = A()\n",
    "\n",
    "\n",
    "# a.m1()\n",
    "a.m2()\n",
    "a.m3()\n",
    "a.m4()\n",
    "\n",
    "print(\"-\"*20)\n",
    "\n",
    "A.m1()\n",
    "A.m2(a)\n",
    "A.m3()\n",
    "A.m4()"
   ]
  },
  {
   "cell_type": "code",
   "execution_count": 34,
   "metadata": {},
   "outputs": [
    {
     "ename": "ValueError",
     "evalue": "x must be positive",
     "output_type": "error",
     "traceback": [
      "\u001b[1;31m---------------------------------------------------------------------------\u001b[0m",
      "\u001b[1;31mValueError\u001b[0m                                Traceback (most recent call last)",
      "Cell \u001b[1;32mIn[34], line 19\u001b[0m\n\u001b[0;32m     15\u001b[0m             \u001b[38;5;28;01mraise\u001b[39;00m \u001b[38;5;167;01mValueError\u001b[39;00m(\u001b[38;5;124m\"\u001b[39m\u001b[38;5;124mx must be positive\u001b[39m\u001b[38;5;124m\"\u001b[39m)\n\u001b[0;32m     16\u001b[0m         \u001b[38;5;28mself\u001b[39m\u001b[38;5;241m.\u001b[39m_x \u001b[38;5;241m=\u001b[39m value\n\u001b[1;32m---> 19\u001b[0m b \u001b[38;5;241m=\u001b[39m B(\u001b[38;5;241m-\u001b[39m\u001b[38;5;241m5\u001b[39m)\n\u001b[0;32m     21\u001b[0m b\u001b[38;5;241m.\u001b[39mx \u001b[38;5;241m=\u001b[39m \u001b[38;5;241m10\u001b[39m\n\u001b[0;32m     23\u001b[0m \u001b[38;5;28mprint\u001b[39m(b\u001b[38;5;241m.\u001b[39mx)\n",
      "Cell \u001b[1;32mIn[34], line 6\u001b[0m, in \u001b[0;36mB.__init__\u001b[1;34m(self, a)\u001b[0m\n\u001b[0;32m      5\u001b[0m \u001b[38;5;28;01mdef\u001b[39;00m \u001b[38;5;21m__init__\u001b[39m(\u001b[38;5;28mself\u001b[39m, a):\n\u001b[1;32m----> 6\u001b[0m     \u001b[38;5;28mself\u001b[39m\u001b[38;5;241m.\u001b[39mx \u001b[38;5;241m=\u001b[39m a\n",
      "Cell \u001b[1;32mIn[34], line 15\u001b[0m, in \u001b[0;36mB.x\u001b[1;34m(self, value)\u001b[0m\n\u001b[0;32m     12\u001b[0m \u001b[38;5;129m@x\u001b[39m\u001b[38;5;241m.\u001b[39msetter\n\u001b[0;32m     13\u001b[0m \u001b[38;5;28;01mdef\u001b[39;00m \u001b[38;5;21mx\u001b[39m(\u001b[38;5;28mself\u001b[39m, value):\n\u001b[0;32m     14\u001b[0m     \u001b[38;5;28;01mif\u001b[39;00m value \u001b[38;5;241m<\u001b[39m \u001b[38;5;241m0\u001b[39m:\n\u001b[1;32m---> 15\u001b[0m         \u001b[38;5;28;01mraise\u001b[39;00m \u001b[38;5;167;01mValueError\u001b[39;00m(\u001b[38;5;124m\"\u001b[39m\u001b[38;5;124mx must be positive\u001b[39m\u001b[38;5;124m\"\u001b[39m)\n\u001b[0;32m     16\u001b[0m     \u001b[38;5;28mself\u001b[39m\u001b[38;5;241m.\u001b[39m_x \u001b[38;5;241m=\u001b[39m value\n",
      "\u001b[1;31mValueError\u001b[0m: x must be positive"
     ]
    }
   ],
   "source": [
    "# demonstrate the property decorator\n",
    "\n",
    "class B():\n",
    "    \n",
    "    def __init__(self, a):\n",
    "        self.x = a\n",
    "        \n",
    "    @property\n",
    "    def x(self):\n",
    "        return self._x\n",
    "    \n",
    "    @x.setter\n",
    "    def x(self, value):\n",
    "        if value < 0:\n",
    "            raise ValueError(\"x must be positive\")\n",
    "        self._x = value\n",
    "        \n",
    "        \n",
    "b = B(-5)\n",
    "\n",
    "b.x = 10\n",
    "\n",
    "print(b.x)\n",
    "b.x = 10\n",
    "print(b.x)\n",
    "\n",
    "b.x = -1\n",
    "\n"
   ]
  },
  {
   "cell_type": "code",
   "execution_count": 38,
   "metadata": {},
   "outputs": [
    {
     "name": "stdout",
     "output_type": "stream",
     "text": [
      "Birth Date: 1990-05-15\n",
      "Current Age: 34\n",
      "Death Date: 2020-05-14\n",
      "Age at Death: 29\n"
     ]
    },
    {
     "ename": "ValueError",
     "evalue": "Death date cannot be before birth date",
     "output_type": "error",
     "traceback": [
      "\u001b[1;31m---------------------------------------------------------------------------\u001b[0m",
      "\u001b[1;31mValueError\u001b[0m                                Traceback (most recent call last)",
      "Cell \u001b[1;32mIn[38], line 43\u001b[0m\n\u001b[0;32m     40\u001b[0m \u001b[38;5;28mprint\u001b[39m(\u001b[38;5;124mf\u001b[39m\u001b[38;5;124m\"\u001b[39m\u001b[38;5;124mDeath Date: \u001b[39m\u001b[38;5;132;01m{\u001b[39;00mperson\u001b[38;5;241m.\u001b[39mdeath_date\u001b[38;5;132;01m}\u001b[39;00m\u001b[38;5;124m\"\u001b[39m)\n\u001b[0;32m     41\u001b[0m \u001b[38;5;28mprint\u001b[39m(\u001b[38;5;124mf\u001b[39m\u001b[38;5;124m\"\u001b[39m\u001b[38;5;124mAge at Death: \u001b[39m\u001b[38;5;132;01m{\u001b[39;00mperson\u001b[38;5;241m.\u001b[39mage\u001b[38;5;132;01m}\u001b[39;00m\u001b[38;5;124m\"\u001b[39m)\n\u001b[1;32m---> 43\u001b[0m person\u001b[38;5;241m.\u001b[39mdeath_date \u001b[38;5;241m=\u001b[39m date(\u001b[38;5;241m1980\u001b[39m, \u001b[38;5;241m5\u001b[39m, \u001b[38;5;241m14\u001b[39m)\n",
      "Cell \u001b[1;32mIn[38], line 22\u001b[0m, in \u001b[0;36mPerson.death_date\u001b[1;34m(self, _date)\u001b[0m\n\u001b[0;32m     20\u001b[0m \u001b[38;5;250m\u001b[39m\u001b[38;5;124;03m\"\"\"Set the death date of the person.\"\"\"\u001b[39;00m\n\u001b[0;32m     21\u001b[0m \u001b[38;5;28;01mif\u001b[39;00m _date \u001b[38;5;241m<\u001b[39m \u001b[38;5;28mself\u001b[39m\u001b[38;5;241m.\u001b[39m_birth_date:\n\u001b[1;32m---> 22\u001b[0m     \u001b[38;5;28;01mraise\u001b[39;00m \u001b[38;5;167;01mValueError\u001b[39;00m(\u001b[38;5;124m\"\u001b[39m\u001b[38;5;124mDeath date cannot be before birth date\u001b[39m\u001b[38;5;124m\"\u001b[39m)\n\u001b[0;32m     23\u001b[0m \u001b[38;5;28mself\u001b[39m\u001b[38;5;241m.\u001b[39m_death_date \u001b[38;5;241m=\u001b[39m _date\n",
      "\u001b[1;31mValueError\u001b[0m: Death date cannot be before birth date"
     ]
    }
   ],
   "source": [
    "from datetime import date\n",
    "\n",
    "class Person:\n",
    "    def __init__(self, birth_date, death_date=None):\n",
    "        self._birth_date = birth_date\n",
    "        self._death_date = death_date\n",
    "\n",
    "    @property\n",
    "    def birth_date(self):\n",
    "        \"\"\"Get the birth date of the person.\"\"\"\n",
    "        return self._birth_date\n",
    "\n",
    "    @property\n",
    "    def death_date(self):\n",
    "        \"\"\"Get the death date of the person, if applicable.\"\"\"\n",
    "        return self._death_date\n",
    "\n",
    "    @death_date.setter\n",
    "    def death_date(self, _date):\n",
    "        \"\"\"Set the death date of the person.\"\"\"\n",
    "        if _date < self._birth_date:\n",
    "            raise ValueError(\"Death date cannot be before birth date\")\n",
    "        self._death_date = _date\n",
    "\n",
    "    @property\n",
    "    def age(self):\n",
    "        \"\"\"Calculate the age of the person based on birth and death date.\"\"\"\n",
    "        end_date = self._death_date if self._death_date else date.today()\n",
    "        return end_date.year - self._birth_date.year - (\n",
    "            (end_date.month, end_date.day) < (self._birth_date.month, self._birth_date.day)\n",
    "        )\n",
    "\n",
    "# Example usage\n",
    "person = Person(date(1990, 5, 15))\n",
    "print(f\"Birth Date: {person.birth_date}\")\n",
    "print(f\"Current Age: {person.age}\")\n",
    "\n",
    "# Set a death date\n",
    "person.death_date = date(2020, 5, 14)\n",
    "print(f\"Death Date: {person.death_date}\")\n",
    "print(f\"Age at Death: {person.age}\")\n",
    "\n",
    "person.death_date = date(1980, 5, 14)\n"
   ]
  },
  {
   "cell_type": "code",
   "execution_count": 50,
   "metadata": {},
   "outputs": [
    {
     "name": "stdout",
     "output_type": "stream",
     "text": [
      "354224848179261915075\n"
     ]
    }
   ],
   "source": [
    "from functools import lru_cache\n",
    "\n",
    "# 0, 1, 1, 2, 3, 5, 8, 13, 21, ...\n",
    "# 0, 1, 2, 3, 4, 5, 6, 7,  8, ...\n",
    "# Define a Fibonacci function with caching\n",
    "@lru_cache(maxsize=None)  # maxsize=None means unlimited cache size\n",
    "def fibonacci(n):\n",
    "    \"\"\"Return the nth Fibonacci number.\"\"\"\n",
    "    if n < 2:\n",
    "        return n\n",
    "    return fibonacci(n - 1) + fibonacci(n - 2)\n",
    "\n",
    "# Example usage\n",
    "print(fibonacci(100))  # Output: 55\n",
    "# print(fibonacci(20))  # Output: 6765\n",
    "\n",
    "# # Calling fibonacci(10) again will use the cached result\n",
    "# print(fibonacci(10))  # Output: 55 (retrieved from cache)\n"
   ]
  },
  {
   "cell_type": "code",
   "execution_count": 55,
   "metadata": {},
   "outputs": [
    {
     "name": "stdout",
     "output_type": "stream",
     "text": [
      "Point(x=1.5, y=2.5)\n",
      "1.5\n",
      "2.5\n",
      "False\n",
      "Point(x=3.0, y=2.5)\n"
     ]
    }
   ],
   "source": [
    "from dataclasses import dataclass\n",
    "\n",
    "@dataclass\n",
    "class Point:\n",
    "    x: float\n",
    "    y: float\n",
    "\n",
    "\n",
    "# Creating an instance of Point\n",
    "point1 = Point(1.5, 2.5)\n",
    "print(point1)  # Output: Point(x=1.5, y=2.5)\n",
    "\n",
    "# Accessing fields\n",
    "print(point1.x)  # Output: 1.5\n",
    "print(point1.y)  # Output: 2.5\n",
    "\n",
    "# Comparing instances\n",
    "point2 = Point(1.5, 2.5)\n",
    "print(point1 == point2)  # Output: True\n",
    "\n",
    "# Modifying fields\n",
    "point1.x = 3.0\n",
    "print(point1)  # Output: Point(x=3.0, y=2.5)\n"
   ]
  }
 ],
 "metadata": {
  "kernelspec": {
   "display_name": "stackfuel",
   "language": "python",
   "name": "python3"
  },
  "language_info": {
   "codemirror_mode": {
    "name": "ipython",
    "version": 3
   },
   "file_extension": ".py",
   "mimetype": "text/x-python",
   "name": "python",
   "nbconvert_exporter": "python",
   "pygments_lexer": "ipython3",
   "version": "3.12.2"
  }
 },
 "nbformat": 4,
 "nbformat_minor": 2
}
