{
 "cells": [
  {
   "cell_type": "markdown",
   "id": "215761ae",
   "metadata": {},
   "source": [
    "# Python Data Structures: Lists, Tuples, Sets, and Dictionaries\n",
    "\n",
    "In Python, data structures are used to store collections of data, which can be accessed and manipulated in various ways. The built-in data structures in Python include **lists**, **tuples**, **sets**, and **dictionaries**. Each of these data structures has unique characteristics and uses.\n",
    "\n",
    "In this lesson, we will explore these data structures, understand their properties, and learn how to use them effectively in Python programming.\n",
    "\n",
    "**Overview:**\n",
    "\n",
    "- Introduction to basic data types\n",
    "- Understanding Tuples\n",
    "- Working with Lists\n",
    "- Exploring Sets\n",
    "- Using Dictionaries\n",
    "- Summary"
   ]
  },
  {
   "cell_type": "markdown",
   "id": "ddd93d66",
   "metadata": {},
   "source": [
    "## Basic Data Types in Python\n",
    "\n",
    "Before diving into complex data structures, let's briefly review some of the basic data types in Python:\n",
    "\n",
    "- **Boolean**: Represents `True` or `False` values.\n",
    "- **Integer**: Whole numbers, positive or negative, without decimals.\n",
    "- **Float**: Numbers with decimals.\n",
    "- **String**: Ordered sequence of characters, enclosed in single, double, or triple quotes.\n",
    "- **None**: Represents the absence of a value."
   ]
  },
  {
   "cell_type": "code",
   "execution_count": null,
   "id": "d073a70a",
   "metadata": {},
   "outputs": [],
   "source": [
    "# Examples of basic data types\n",
    "boolean_var = True                 # Boolean\n",
    "integer_var = 42                   # Integer\n",
    "float_var = 3.14                   # Float\n",
    "string_var = \"Hello, World!\"       # String\n",
    "none_var = None                    # NoneType\n",
    "\n",
    "print(\"Boolean:\", boolean_var)\n",
    "print(\"Integer:\", integer_var)\n",
    "print(\"Float:\", float_var)\n",
    "print(\"String:\", string_var)\n",
    "print(\"NoneType:\", none_var)"
   ]
  },
  {
   "cell_type": "markdown",
   "id": "efe28413",
   "metadata": {},
   "source": [
    "## Tuples\n",
    "\n",
    "### What is a Tuple?\n",
    "\n",
    "A **tuple** is an **immutable**, **ordered** sequence of elements. Tuples are used to store multiple items in a single variable, and are defined by enclosing elements in parentheses `(` `)` separated by commas `,`.\n",
    "\n",
    "**Characteristics of Tuples:**\n",
    "\n",
    "- **Ordered**: Elements have a defined order and can be accessed via indices.\n",
    "- **Immutable**: Elements cannot be changed after the tuple is created.\n",
    "- **Allows duplicates**: Tuples can contain duplicate elements.\n",
    "- **Can contain mixed data types**: Elements can be of different data types.\n",
    "\n",
    "Tuples are similar to lists, but the main difference is that tuples are immutable, while lists are mutable."
   ]
  },
  {
   "cell_type": "code",
   "execution_count": null,
   "id": "07405942",
   "metadata": {},
   "outputs": [],
   "source": [
    "# Creating a tuple with different data types\n",
    "my_tuple = (boolean_var, integer_var, float_var, string_var, none_var)\n",
    "print(\"My Tuple:\", my_tuple)"
   ]
  },
  {
   "cell_type": "markdown",
   "id": "9efdefcc",
   "metadata": {},
   "source": [
    "### Creating Tuples\n",
    "\n",
    "Tuples can be created in several ways:"
   ]
  },
  {
   "cell_type": "code",
   "execution_count": null,
   "id": "9b40eade",
   "metadata": {},
   "outputs": [],
   "source": [
    "# Using parentheses\n",
    "tuple1 = (1, 2, 3)\n",
    "print(\"Tuple1:\", tuple1)\n",
    "\n",
    "# Without parentheses (tuple packing)\n",
    "tuple2 = 4, 5, 6\n",
    "print(\"Tuple2:\", tuple2)\n",
    "\n",
    "# Using the tuple() constructor\n",
    "tuple3 = tuple([7, 8, 9])\n",
    "print(\"Tuple3:\", tuple3)\n",
    "\n",
    "# Creating an empty tuple\n",
    "empty_tuple = ()\n",
    "print(\"Empty Tuple:\", empty_tuple)\n",
    "\n",
    "# Creating a single-element tuple (note the comma)\n",
    "single_element_tuple = (42,)\n",
    "print(\"Single-element Tuple:\", single_element_tuple)"
   ]
  },
  {
   "cell_type": "markdown",
   "id": "53414e77",
   "metadata": {},
   "source": [
    "### Accessing Tuple Elements\n",
    "\n",
    "You can access tuple elements by indexing and slicing, similar to lists."
   ]
  },
  {
   "cell_type": "code",
   "execution_count": null,
   "id": "d9e752a7",
   "metadata": {},
   "outputs": [],
   "source": [
    "fruits = ('apple', 'banana', 'cherry', 'apple', 'orange', 'banana', 'apple')\n",
    "\n",
    "# Accessing elements by index\n",
    "print(\"First element:\", fruits[0])\n",
    "print(\"Third element:\", fruits[2])\n",
    "\n",
    "# Accessing elements using negative indices\n",
    "print(\"Last element:\", fruits[-1])\n",
    "print(\"Second-to-last element:\", fruits[-2])\n",
    "\n",
    "# Slicing tuples\n",
    "print(\"Elements from index 1 to 3:\", fruits[1:4])\n",
    "print(\"Every second element:\", fruits[::2])\n",
    "print(\"Reversed tuple:\", fruits[::-1])"
   ]
  },
  {
   "cell_type": "markdown",
   "id": "3f94cc77",
   "metadata": {},
   "source": [
    "### Tuple Methods\n",
    "\n",
    "Tuples have only two built-in methods:\n",
    "\n",
    "- **count()**: Returns the number of times a specified value appears in the tuple.\n",
    "- **index()**: Searches the tuple for a specified value and returns the position of the first occurrence."
   ]
  },
  {
   "cell_type": "code",
   "execution_count": null,
   "id": "dcd2102c",
   "metadata": {},
   "outputs": [],
   "source": [
    "# Using count()\n",
    "apple_count = fruits.count('apple')\n",
    "print(\"Number of times 'apple' appears:\", apple_count)\n",
    "\n",
    "# Using index()\n",
    "first_banana_index = fruits.index('banana')\n",
    "print(\"First occurrence of 'banana' is at index:\", first_banana_index)\n",
    "\n",
    "# Using index() with start and end parameters\n",
    "second_apple_index = fruits.index('apple', first_banana_index + 1)\n",
    "print(\"Second occurrence of 'apple' is at index:\", second_apple_index)"
   ]
  },
  {
   "cell_type": "markdown",
   "id": "985606b5",
   "metadata": {},
   "source": [
    "### Immutability of Tuples\n",
    "\n",
    "Tuples are immutable, which means that once a tuple is created, its elements cannot be changed, added, or removed. Attempting to modify a tuple will result in a `TypeError`."
   ]
  },
  {
   "cell_type": "code",
   "execution_count": null,
   "id": "b1489b6a",
   "metadata": {},
   "outputs": [],
   "source": [
    "# Attempt to change a tuple element (This will raise an error)\n",
    "try:\n",
    "    fruits[0] = 'pear'\n",
    "except TypeError as e:\n",
    "    print(\"Error:\", e)"
   ]
  },
  {
   "cell_type": "markdown",
   "id": "3e115da4",
   "metadata": {},
   "source": [
    "### When to Use Tuples\n",
    "\n",
    "Tuples are useful when you want to ensure that the data cannot be modified. They are often used to represent fixed collections of items, such as coordinates, database records, or any data that should remain constant."
   ]
  },
  {
   "cell_type": "markdown",
   "id": "f23a7e86",
   "metadata": {},
   "source": [
    "## Lists\n",
    "\n",
    "### What is a List?\n",
    "\n",
    "A **list** is a **mutable**, **ordered** sequence of elements. Lists are one of the most versatile data types in Python, allowing elements to be added, removed, or changed.\n",
    "\n",
    "**Characteristics of Lists:**\n",
    "\n",
    "- **Ordered**: Elements have a defined order and can be accessed via indices.\n",
    "- **Mutable**: Elements can be changed after the list is created.\n",
    "- **Allows duplicates**: Lists can contain duplicate elements.\n",
    "- **Can contain mixed data types**: Elements can be of different data types."
   ]
  },
  {
   "cell_type": "code",
   "execution_count": null,
   "id": "bdaa8b0b",
   "metadata": {},
   "outputs": [],
   "source": [
    "# Creating a list with different data types\n",
    "my_list = [boolean_var, integer_var, float_var, string_var, none_var]\n",
    "print(\"My List:\", my_list)"
   ]
  },
  {
   "cell_type": "markdown",
   "id": "31f095a8",
   "metadata": {},
   "source": [
    "### Accessing List Elements\n",
    "\n",
    "Similar to tuples, you can access elements in a list using indices and slicing."
   ]
  },
  {
   "cell_type": "code",
   "execution_count": null,
   "id": "288dda2e",
   "metadata": {},
   "outputs": [],
   "source": [
    "names = [\"Alice\", \"Bob\", \"Charlie\", \"Bob\", \"David\", \"Eve\"]\n",
    "\n",
    "# Accessing elements by index\n",
    "print(\"First name:\", names[0])\n",
    "print(\"Third name:\", names[2])\n",
    "\n",
    "# Accessing elements using negative indices\n",
    "print(\"Last name:\", names[-1])\n",
    "print(\"Second-to-last name:\", names[-2])\n",
    "\n",
    "# Slicing lists\n",
    "print(\"Names from index 1 to 3:\", names[1:4])\n",
    "print(\"Every second name:\", names[::2])\n",
    "print(\"Reversed list:\", names[::-1])"
   ]
  },
  {
   "cell_type": "markdown",
   "id": "4170eeda",
   "metadata": {},
   "source": [
    "### Modifying Lists\n",
    "\n",
    "Lists are mutable, which means you can modify them after they are created."
   ]
  },
  {
   "cell_type": "code",
   "execution_count": null,
   "id": "02c29a63",
   "metadata": {},
   "outputs": [],
   "source": [
    "# Changing an element\n",
    "print(\"Original list:\", names)\n",
    "names[3] = \"Daniel\"\n",
    "print(\"After modification:\", names)"
   ]
  },
  {
   "cell_type": "markdown",
   "id": "be63f075",
   "metadata": {},
   "source": [
    "### List Methods\n",
    "\n",
    "Lists have many built-in methods that allow you to manipulate them:\n",
    "\n",
    "- **append()**: Adds an element to the end of the list.\n",
    "- **extend()**: Adds all elements of an iterable to the end of the list.\n",
    "- **insert()**: Inserts an element at a specified position.\n",
    "- **remove()**: Removes the first occurrence of a specified element.\n",
    "- **pop()**: Removes and returns the element at the specified position.\n",
    "- **clear()**: Removes all elements from the list.\n",
    "- **index()**: Returns the index of the first occurrence of a specified element.\n",
    "- **count()**: Returns the number of times a specified element appears in the list.\n",
    "- **sort()**: Sorts the list.\n",
    "- **reverse()**: Reverses the order of the list."
   ]
  },
  {
   "cell_type": "code",
   "execution_count": null,
   "id": "7b7b7d8f",
   "metadata": {},
   "outputs": [],
   "source": [
    "# append()\n",
    "names.append(\"Frank\")\n",
    "print(\"After appending 'Frank':\", names)\n",
    "\n",
    "# extend()\n",
    "names.extend([\"Grace\", \"Henry\"])\n",
    "print(\"After extending with ['Grace', 'Henry']:\", names)\n",
    "\n",
    "# insert()\n",
    "names.insert(2, \"Ivy\")\n",
    "print(\"After inserting 'Ivy' at index 2:\", names)\n",
    "\n",
    "# remove()\n",
    "names.remove(\"Bob\")\n",
    "print(\"After removing 'Bob':\", names)\n",
    "\n",
    "# pop()\n",
    "removed_name = names.pop(3)\n",
    "print(\"After popping index 3:\", names)\n",
    "print(\"Removed name:\", removed_name)\n",
    "\n",
    "# clear()\n",
    "names.clear()\n",
    "print(\"After clearing the list:\", names)\n",
    "\n",
    "# Re-populating the list for further examples\n",
    "names = [\"Alice\", \"Bob\", \"Charlie\", \"David\", \"Eve\"]\n",
    "\n",
    "# index()\n",
    "index_of_charlie = names.index(\"Charlie\")\n",
    "print(\"Index of 'Charlie':\", index_of_charlie)\n",
    "\n",
    "# count()\n",
    "count_of_bob = names.count(\"Bob\")\n",
    "print(\"Count of 'Bob':\", count_of_bob)\n",
    "\n",
    "# sort()\n",
    "numbers = [3, 1, 4, 1, 5, 9, 2, 6]\n",
    "print(\"Original numbers:\", numbers)\n",
    "numbers.sort()\n",
    "print(\"Sorted numbers:\", numbers)\n",
    "\n",
    "# reverse()\n",
    "numbers.reverse()\n",
    "print(\"Reversed numbers:\", numbers)"
   ]
  },
  {
   "cell_type": "markdown",
   "id": "caf1c9b8",
   "metadata": {},
   "source": [
    "### List Operations\n",
    "\n",
    "Lists support operations like concatenation and repetition."
   ]
  },
  {
   "cell_type": "code",
   "execution_count": null,
   "id": "296e0189",
   "metadata": {},
   "outputs": [],
   "source": [
    "# Concatenation using +\n",
    "list1 = [1, 2, 3]\n",
    "list2 = [4, 5, 6]\n",
    "concatenated_list = list1 + list2\n",
    "print(\"Concatenated List:\", concatenated_list)\n",
    "\n",
    "# Repetition using *\n",
    "repeated_list = list1 * 3\n",
    "print(\"Repeated List:\", repeated_list)"
   ]
  },
  {
   "cell_type": "markdown",
   "id": "4960abbe",
   "metadata": {},
   "source": [
    "### Lists as Stacks and Queues\n",
    "\n",
    "Lists can be used to implement stacks (LIFO) and queues (FIFO)."
   ]
  },
  {
   "cell_type": "code",
   "execution_count": null,
   "id": "b46e8a0c",
   "metadata": {},
   "outputs": [],
   "source": [
    "# Using list as a stack\n",
    "stack = []\n",
    "stack.append(1)\n",
    "stack.append(2)\n",
    "stack.append(3)\n",
    "print(\"Stack after pushes:\", stack)\n",
    "\n",
    "last_item = stack.pop()\n",
    "print(\"Popped item:\", last_item)\n",
    "print(\"Stack after pop:\", stack)\n",
    "\n",
    "# Using list as a queue (Note: Inefficient for large lists)\n",
    "queue = []\n",
    "queue.append('a')\n",
    "queue.append('b')\n",
    "queue.append('c')\n",
    "print(\"Queue after enqueues:\", queue)\n",
    "\n",
    "first_item = queue.pop(0)\n",
    "print(\"Dequeued item:\", first_item)\n",
    "print(\"Queue after dequeue:\", queue)"
   ]
  },
  {
   "cell_type": "markdown",
   "id": "51866922",
   "metadata": {},
   "source": [
    "### List Comprehensions\n",
    "\n",
    "List comprehensions provide a concise way to create lists."
   ]
  },
  {
   "cell_type": "code",
   "execution_count": null,
   "id": "a5e6aebd",
   "metadata": {},
   "outputs": [],
   "source": [
    "# Creating a list of squares\n",
    "squares = [x**2 for x in range(10)]\n",
    "print(\"List of squares:\", squares)\n",
    "\n",
    "# Creating a list with a condition\n",
    "even_squares = [x**2 for x in range(10) if x % 2 == 0]\n",
    "print(\"List of even squares:\", even_squares)"
   ]
  },
  {
   "cell_type": "markdown",
   "id": "fc760d8b",
   "metadata": {},
   "source": [
    "## Sets\n",
    "\n",
    "### What is a Set?\n",
    "\n",
    "A **set** is an **unordered**, **mutable** collection of **unique** elements. Sets are used to store multiple items in a single variable, and are defined by enclosing elements in curly braces `{}` separated by commas `,`, or by using the `set()` constructor.\n",
    "\n",
    "**Characteristics of Sets:**\n",
    "\n",
    "- **Unordered**: Elements do not have a defined order.\n",
    "- **Mutable**: Elements can be added or removed after the set is created.\n",
    "- **No duplicate elements**: Each element is unique.\n",
    "- **Elements must be immutable**: Elements must be of immutable data types."
   ]
  },
  {
   "cell_type": "code",
   "execution_count": null,
   "id": "801f2647",
   "metadata": {},
   "outputs": [],
   "source": [
    "# Creating a set\n",
    "my_set = {1, 2, 3, 4, 5}\n",
    "print(\"My Set:\", my_set)\n",
    "\n",
    "# Creating a set with mixed data types\n",
    "mixed_set = {\"Hello\", 3.14, (1, 2, 3)}\n",
    "print(\"Mixed Set:\", mixed_set)\n",
    "\n",
    "# Creating an empty set (Note: Use set(), not {})\n",
    "empty_set = set()\n",
    "print(\"Empty Set:\", empty_set)"
   ]
  },
  {
   "cell_type": "markdown",
   "id": "fda48068",
   "metadata": {},
   "source": [
    "### Accessing Set Elements\n",
    "\n",
    "Since sets are unordered, you cannot access elements using indices or slices. However, you can iterate over a set using a loop."
   ]
  },
  {
   "cell_type": "code",
   "execution_count": null,
   "id": "9b8ca495",
   "metadata": {},
   "outputs": [],
   "source": [
    "# Iterating over a set\n",
    "for element in my_set:\n",
    "    print(element)"
   ]
  },
  {
   "cell_type": "markdown",
   "id": "edf91d23",
   "metadata": {},
   "source": [
    "### Modifying Sets\n",
    "\n",
    "You can add and remove elements from a set."
   ]
  },
  {
   "cell_type": "code",
   "execution_count": null,
   "id": "1b68e924",
   "metadata": {},
   "outputs": [],
   "source": [
    "# Adding elements\n",
    "my_set.add(6)\n",
    "print(\"After adding 6:\", my_set)\n",
    "\n",
    "# Removing elements\n",
    "my_set.remove(3)\n",
    "print(\"After removing 3:\", my_set)\n",
    "\n",
    "# Discarding an element (no error if element doesn't exist)\n",
    "my_set.discard(10)\n",
    "print(\"After discarding 10 (which is not in the set):\", my_set)\n",
    "\n",
    "# Removing and returning an arbitrary element\n",
    "popped_element = my_set.pop()\n",
    "print(\"Popped element:\", popped_element)\n",
    "print(\"Set after pop:\", my_set)\n",
    "\n",
    "# Clearing all elements\n",
    "my_set.clear()\n",
    "print(\"Set after clearing:\", my_set)"
   ]
  },
  {
   "cell_type": "markdown",
   "id": "774caf2c",
   "metadata": {},
   "source": [
    "### Set Operations\n",
    "\n",
    "Sets support mathematical set operations like union, intersection, difference, and symmetric difference."
   ]
  },
  {
   "cell_type": "code",
   "execution_count": null,
   "id": "b985bdba",
   "metadata": {},
   "outputs": [],
   "source": [
    "# Defining sets\n",
    "set_a = {1, 2, 3, 4, 5}\n",
    "set_b = {4, 5, 6, 7, 8}\n",
    "\n",
    "# Union\n",
    "union_set = set_a.union(set_b)\n",
    "print(\"Union:\", union_set)\n",
    "\n",
    "# Intersection\n",
    "intersection_set = set_a.intersection(set_b)\n",
    "print(\"Intersection:\", intersection_set)\n",
    "\n",
    "# Difference\n",
    "difference_set = set_a.difference(set_b)\n",
    "print(\"Difference (A - B):\", difference_set)\n",
    "\n",
    "# Symmetric Difference\n",
    "sym_diff_set = set_a.symmetric_difference(set_b)\n",
    "print(\"Symmetric Difference:\", sym_diff_set)"
   ]
  },
  {
   "cell_type": "markdown",
   "id": "d3207cb9",
   "metadata": {},
   "source": [
    "### Set Membership Testing\n",
    "\n",
    "Checking if an element is in a set is highly efficient."
   ]
  },
  {
   "cell_type": "code",
   "execution_count": null,
   "id": "d6a46e83",
   "metadata": {},
   "outputs": [],
   "source": [
    "# Membership testing\n",
    "print(\"Is 3 in set_a?\", 3 in set_a)\n",
    "print(\"Is 6 in set_a?\", 6 in set_a)"
   ]
  },
  {
   "cell_type": "markdown",
   "id": "5115b866",
   "metadata": {},
   "source": [
    "### Frozen Sets\n",
    "\n",
    "A **frozenset** is an immutable version of a set. Once created, elements cannot be added or removed."
   ]
  },
  {
   "cell_type": "code",
   "execution_count": null,
   "id": "8970b632",
   "metadata": {},
   "outputs": [],
   "source": [
    "# Creating a frozenset\n",
    "frozen = frozenset([1, 2, 3, 4, 5])\n",
    "print(\"Frozen Set:\", frozen)\n",
    "\n",
    "# Attempting to add an element (will raise an error)\n",
    "try:\n",
    "    frozen.add(6)\n",
    "except AttributeError as e:\n",
    "    print(\"Error:\", e)"
   ]
  },
  {
   "cell_type": "markdown",
   "id": "5fa75fcd",
   "metadata": {},
   "source": [
    "## Dictionaries\n",
    "\n",
    "### What is a Dictionary?\n",
    "\n",
    "A **dictionary** is an **unordered**, **mutable** collection of **key-value pairs**. Dictionaries are optimized for retrieving values when the key is known.\n",
    "\n",
    "**Characteristics of Dictionaries:**\n",
    "\n",
    "- **Unordered** (Python 3.7+ maintains insertion order)\n",
    "- **Keys are unique** and must be immutable types (like strings, numbers, or tuples).\n",
    "- **Values** can be of any type and can be duplicated."
   ]
  },
  {
   "cell_type": "code",
   "execution_count": null,
   "id": "7e61cbb2",
   "metadata": {},
   "outputs": [],
   "source": [
    "# Creating a dictionary\n",
    "my_dict = {\n",
    "    \"name\": \"Alice\",\n",
    "    \"age\": 30,\n",
    "    \"city\": \"Wonderland\"\n",
    "}\n",
    "print(\"My Dictionary:\", my_dict)\n",
    "\n",
    "# Using the dict() constructor\n",
    "another_dict = dict([('name', 'Bob'), ('age', 25)])\n",
    "print(\"Another Dictionary:\", another_dict)\n",
    "\n",
    "# Empty dictionary\n",
    "empty_dict = {}\n",
    "print(\"Empty Dictionary:\", empty_dict)"
   ]
  },
  {
   "cell_type": "markdown",
   "id": "d2eff2a8",
   "metadata": {},
   "source": [
    "### Accessing Dictionary Elements\n",
    "\n",
    "You can access, add, and modify dictionary elements using keys."
   ]
  },
  {
   "cell_type": "code",
   "execution_count": null,
   "id": "cfbb0c9b",
   "metadata": {},
   "outputs": [],
   "source": [
    "# Accessing values\n",
    "name = my_dict[\"name\"]\n",
    "print(\"Name:\", name)\n",
    "\n",
    "# Modifying values\n",
    "my_dict[\"age\"] = 31\n",
    "print(\"Updated Dictionary:\", my_dict)\n",
    "\n",
    "# Adding new key-value pairs\n",
    "my_dict[\"profession\"] = \"Adventurer\"\n",
    "print(\"Dictionary after adding profession:\", my_dict)"
   ]
  },
  {
   "cell_type": "markdown",
   "id": "f3203624",
   "metadata": {},
   "source": [
    "### Dictionary Methods\n",
    "\n",
    "Some useful methods for dictionaries include:\n",
    "\n",
    "- **get()**: Returns the value for the specified key if it exists.\n",
    "- **keys()**: Returns a view object of all keys.\n",
    "- **values()**: Returns a view object of all values.\n",
    "- **items()**: Returns a view object of all key-value pairs (tuples).\n",
    "- **pop()**: Removes the specified key and returns the corresponding value.\n",
    "- **popitem()**: Removes and returns the last inserted key-value pair.\n",
    "- **update()**: Updates the dictionary with elements from another dictionary or iterable of key-value pairs.\n",
    "- **clear()**: Removes all elements from the dictionary."
   ]
  },
  {
   "cell_type": "code",
   "execution_count": null,
   "id": "f79fb496",
   "metadata": {},
   "outputs": [],
   "source": [
    "# get()\n",
    "city = my_dict.get(\"city\")\n",
    "print(\"City:\", city)\n",
    "\n",
    "# get() with default value\n",
    "country = my_dict.get(\"country\", \"Unknown\")\n",
    "print(\"Country:\", country)\n",
    "\n",
    "# keys()\n",
    "keys = my_dict.keys()\n",
    "print(\"Keys:\", keys)\n",
    "\n",
    "# values()\n",
    "values = my_dict.values()\n",
    "print(\"Values:\", values)\n",
    "\n",
    "# items()\n",
    "items = my_dict.items()\n",
    "print(\"Items:\", items)\n",
    "\n",
    "# pop()\n",
    "profession = my_dict.pop(\"profession\")\n",
    "print(\"Popped profession:\", profession)\n",
    "print(\"Dictionary after pop:\", my_dict)\n",
    "\n",
    "# popitem()\n",
    "last_item = my_dict.popitem()\n",
    "print(\"Last item popped:\", last_item)\n",
    "print(\"Dictionary after popitem:\", my_dict)\n",
    "\n",
    "# update()\n",
    "my_dict.update({\"age\": 32, \"country\": \"Wonderland\"})\n",
    "print(\"Dictionary after update:\", my_dict)\n",
    "\n",
    "# clear()\n",
    "my_dict.clear()\n",
    "print(\"Dictionary after clearing:\", my_dict)"
   ]
  },
  {
   "cell_type": "markdown",
   "id": "20099786",
   "metadata": {},
   "source": [
    "### Iterating Over Dictionaries"
   ]
  },
  {
   "cell_type": "code",
   "execution_count": null,
   "id": "ce68f615",
   "metadata": {},
   "outputs": [],
   "source": [
    "# Re-populating dictionary\n",
    "my_dict = {\n",
    "    \"name\": \"Alice\",\n",
    "    \"age\": 32,\n",
    "    \"city\": \"Wonderland\",\n",
    "    \"country\": \"Wonderland\"\n",
    "}\n",
    "\n",
    "# Iterating over keys\n",
    "print(\"Keys:\")\n",
    "for key in my_dict:\n",
    "    print(key)\n",
    "\n",
    "# Iterating over values\n",
    "print(\"\\nValues:\")\n",
    "for value in my_dict.values():\n",
    "    print(value)\n",
    "\n",
    "# Iterating over key-value pairs\n",
    "print(\"\\nKey-Value Pairs:\")\n",
    "for key, value in my_dict.items():\n",
    "    print(f\"{key}: {value}\")"
   ]
  },
  {
   "cell_type": "markdown",
   "id": "e09191ad",
   "metadata": {},
   "source": [
    "### Dictionary Comprehensions\n",
    "\n",
    "Similar to list comprehensions, you can create dictionaries using dictionary comprehensions."
   ]
  },
  {
   "cell_type": "code",
   "execution_count": null,
   "id": "13045902",
   "metadata": {},
   "outputs": [],
   "source": [
    "# Creating a dictionary of squares\n",
    "squares_dict = {x: x**2 for x in range(6)}\n",
    "print(\"Squares Dictionary:\", squares_dict)\n",
    "\n",
    "# Filtering in dictionary comprehensions\n",
    "even_squares_dict = {x: x**2 for x in range(6) if x % 2 == 0}\n",
    "print(\"Even Squares Dictionary:\", even_squares_dict)"
   ]
  },
  {
   "cell_type": "markdown",
   "id": "a45d2b39",
   "metadata": {},
   "source": [
    "### Nested Dictionaries\n",
    "\n",
    "Dictionaries can contain other dictionaries, which allows you to create nested data structures."
   ]
  },
  {
   "cell_type": "code",
   "execution_count": null,
   "id": "5fb5a8e3",
   "metadata": {},
   "outputs": [],
   "source": [
    "# Creating a nested dictionary\n",
    "nested_dict = {\n",
    "    \"child1\": {\"name\": \"Emily\", \"age\": 5},\n",
    "    \"child2\": {\"name\": \"Daniel\", \"age\": 3}\n",
    "}\n",
    "print(\"Nested Dictionary:\", nested_dict)\n",
    "\n",
    "# Accessing nested dictionary elements\n",
    "child1_name = nested_dict[\"child1\"][\"name\"]\n",
    "print(\"Child1's Name:\", child1_name)"
   ]
  },
  {
   "cell_type": "markdown",
   "id": "249b29a9",
   "metadata": {},
   "source": [
    "## Summary\n",
    "\n",
    "In this lesson, we explored the fundamental data structures in Python:\n",
    "\n",
    "- **Tuples**: Immutable, ordered sequences of elements.\n",
    "- **Lists**: Mutable, ordered sequences of elements.\n",
    "- **Sets**: Mutable, unordered collections of unique elements.\n",
    "- **Dictionaries**: Mutable, unordered collections of key-value pairs.\n",
    "\n",
    "Understanding these data structures is crucial for effective Python programming, as they allow you to store and manipulate data efficiently. Each data structure has its own use cases and advantages depending on the requirements of your program.\n",
    "\n",
    "**Key Takeaways:**\n",
    "\n",
    "- Use **tuples** when you need an immutable sequence of elements.\n",
    "- Use **lists** when you need a mutable sequence where elements can be added, removed, or changed.\n",
    "- Use **sets** when you need to store unique elements and perform set operations.\n",
    "- Use **dictionaries** when you need to associate keys with values for efficient lookup and manipulation."
   ]
  }
 ],
 "metadata": {
  "kernelspec": {
   "display_name": ".venv",
   "language": "python",
   "name": "python3"
  }
 },
 "nbformat": 4,
 "nbformat_minor": 5
}
