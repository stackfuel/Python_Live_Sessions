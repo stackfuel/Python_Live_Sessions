{
 "cells": [
  {
   "cell_type": "markdown",
   "id": "1ba21230-2f1e-4eb9-853d-eeb8a82fcd02",
   "metadata": {},
   "source": [
    "# Schleifen in Python"
   ]
  },
  {
   "cell_type": "markdown",
   "id": "949a3eca-af18-403f-be8b-ab786568c55c",
   "metadata": {},
   "source": [
    "## Agenda:\n",
    "1. `for`-Schleifen\n",
    "    1. Iteratoren\n",
    "    2. for-Schleifen vorzeitig abbrechen: `continue` und `break`\n",
    "2. Iteratorfunktionen: `zip()` und `enumerate()`\n",
    "3. List und Dictionary Comprehensions\n",
    "4. Bonus: Die `while`-Schleife"
   ]
  },
  {
   "cell_type": "markdown",
   "id": "5952b937-0f40-47ab-b1eb-99d9350a13e3",
   "metadata": {},
   "source": [
    "## 1. `for`-Schleifen"
   ]
  },
  {
   "cell_type": "markdown",
   "id": "73eaa185-9e14-49a2-b9f3-f6fa2e848a84",
   "metadata": {},
   "source": [
    "### Iteratoren"
   ]
  },
  {
   "cell_type": "markdown",
   "id": "e27fd6fc-d6eb-47e5-8d72-3deb19854b02",
   "metadata": {},
   "source": [
    "![](schleifendummy.png)"
   ]
  },
  {
   "cell_type": "markdown",
   "id": "bd679d28-5fb7-4331-bb39-2954d7dcbf50",
   "metadata": {},
   "source": [
    "Eine `for`-Schleife führt den Schleifencode mehrmals aus, und zwar jeweils einmal für jedes Element einer *Iterablen* \n",
    "(einer Sequenz von Werten, wie den Einträgen einer Liste oder den Zahlen, die eine `range()`-Funktion ausgibt).\n",
    "Dabei wird zu Beginn jedes einzelnen Schleifendurchlaufs das entsprechende Iterablen-Element in eine temporäre Variable\n",
    "(den *Iterator* oder die *Iteratorvariable*) kopiert; zu Beginn des ersten Schleifendurchlaufs entspricht der Iterator\n",
    "also dem ersten Wert der Sequenz, zu Beginn des zweiten Durchlaufs entspricht sie dem zweiten Wert der Sequenz usw.<br>\n",
    "Auf diese Weise kann der Schleifencode in jedem Durchlauf nacheinander auf jeden Wert der Iterablen zugreifen."
   ]
  },
  {
   "cell_type": "code",
   "execution_count": null,
   "id": "2f401f3f-d19b-443a-adf5-8c68c88ea169",
   "metadata": {},
   "outputs": [],
   "source": [
    "# Drucke mit Hilfe einer for-Schleife und range() alle Zahlen von 0 bis 3\n",
    "\n"
   ]
  },
  {
   "cell_type": "code",
   "execution_count": null,
   "id": "e126b44e-169f-4d80-92c3-c1550e9f85cc",
   "metadata": {},
   "outputs": [],
   "source": [
    "# Drucke mit Hilfe einer for-Schleife alle Namen in einer Liste\n",
    "names = [\"Anna\", \"Ben\", \"Chris\", \"Diana\", \"Ben\"]\n",
    "\n"
   ]
  },
  {
   "cell_type": "code",
   "execution_count": null,
   "id": "5094d72b-3218-4415-bd51-103a058df21f",
   "metadata": {},
   "outputs": [],
   "source": [
    "# Was passiert, wenn wir einer for-Schleife einen String als Iterable übergeben?\n",
    "string = \"Abc 123 ö.a.\"\n",
    "\n"
   ]
  },
  {
   "cell_type": "markdown",
   "id": "57a6790b-25af-445a-b5b3-e56ac335408a",
   "metadata": {},
   "source": [
    "Eine `for`-Schleife über einen String iteriert also über **die einzelnen Zeichen** des Strings!"
   ]
  },
  {
   "cell_type": "code",
   "execution_count": null,
   "id": "113c8c68-74a7-44a3-9464-11da9f2686c8",
   "metadata": {},
   "outputs": [],
   "source": [
    "# Was wird dem Iterator einer for-Schleife übergeben, wenn die Iterable ein Dictionary ist?\n",
    "dictionary = {\"Marke\": \"Melki\", \n",
    "              \"Produkt\": \"Schoki\", \n",
    "              \"Sorte\": \"Zartbitter\",\n",
    "              \"Zutat\": \"Ganze Mandel\"}\n",
    "\n"
   ]
  },
  {
   "cell_type": "markdown",
   "id": "911011a2-6dd0-49f2-a0dc-99670f7376da",
   "metadata": {},
   "source": [
    "Eine `for`-Schleife über ein Dictionary iteriert also über seine *key*s!"
   ]
  },
  {
   "cell_type": "markdown",
   "id": "c886a069-6780-40ef-920d-5d40422c6d7f",
   "metadata": {},
   "source": [
    "<div style=\"border: 1px solid black; padding: 10px; background-color: lightblue;\">\n",
    "    <b>Benennung der Iteratorvariablen:</b><br>\n",
    "    <li>Bei <b>numerischen Iterablen</b>, wie z.B. der Ausgabe einer <code>range()</code>-Funktion, \n",
    "    sind kurze Iteratornamen wie <code>i</code>, <code>j</code> oder auch <code>n</code> gebräuchlich; \n",
    "    wenn ausdrücklich irgendetwas \"gezählt\" wird, auch <code>counter</code> o.ä.</li>\n",
    "    <li>Bei anderen Iterablen orientieren sich gute Namen oft an der <b>inhaltlichen Natur</b> der Elemente,\n",
    "        über die iteriert werden soll; ein Iterator über die Früchte in einer Liste namens <code>fruits</code> \n",
    "        könnte so zum Beispiel <code>fruit</code> heißen, da im Iterator zu jedem Zeitpunkt immer nur eine\n",
    "        einzelne Frucht zwischengespeichert ist;<br>\n",
    "        ein typischer Name für einen Iterator, der die Spaltennamen einer Tabelle durchläuft, \n",
    "        wäre <code>col</code> (kurz für \"column\"),<br>\n",
    "        ein typischer Name für einen Iterator über die Zeichen eines Strings wäre <code>char</code> \n",
    "        (kurz für \"character\"), usw.</li>\n",
    "</div>"
   ]
  },
  {
   "cell_type": "markdown",
   "id": "c7762813-04f3-42cb-8c35-a55570cbe453",
   "metadata": {},
   "source": [
    "### Vorzeitige Abbrüche \n",
    "Schleifen können vorzeitig abgebrochen werden, wenn sie nicht bis zum Ende durchlaufen soll. \n",
    "Dazu gibt es zwei verschiedene Möglichkeiten, die beide i.d.R. in Verbidnung mit einer `if`-Bedingung o.ä. stehen:\n",
    "#### Die `continue`-Anweisung\n",
    "Mit der `continue`-Anweisung können wir den **aktuellen Schleifendurchlauf abbrechen** und \n",
    "sofort den **nächsten Schleifendurchlauf starten**."
   ]
  },
  {
   "cell_type": "code",
   "execution_count": null,
   "id": "629ac0be-aef1-4013-8b6f-a270201fbd6f",
   "metadata": {},
   "outputs": [],
   "source": [
    "# Drucke mit Hilfe der continue-Anweisung alle Zahlen einer Liste, die größer als 5 sind\n",
    "zahlen = [1, 5, 3, 8, 4, 6, 2, 13, 9, 0, 21]\n",
    "\n"
   ]
  },
  {
   "cell_type": "markdown",
   "id": "355b4084-1dc1-49be-84da-b7505c44cfd6",
   "metadata": {},
   "source": [
    "Anmerkung: In diesem Beispiel wäre die einfachste Lösung wohl, die if-Bedingung umzudrehen:"
   ]
  },
  {
   "cell_type": "code",
   "execution_count": null,
   "id": "35198713-5336-436f-85c0-5fbc46cf7fbc",
   "metadata": {},
   "outputs": [],
   "source": [
    "for zahl in zahlen:\n",
    "    if zahl > 5:\n",
    "        print(zahl)"
   ]
  },
  {
   "cell_type": "markdown",
   "id": "6bfa27ab-dee2-4485-9220-b37fe4cebd31",
   "metadata": {},
   "source": [
    "Die <code>continue</code>-Anweisung entfaltet ihren Nutzen meist erst bei etwas komplexeren Schleifencodes; \n",
    "darauf wollten wir im Rahmen dieses Notebooks aber verzichten."
   ]
  },
  {
   "cell_type": "markdown",
   "id": "9a110c9b-5d03-4194-9824-b903dcccec71",
   "metadata": {
    "tags": []
   },
   "source": [
    "#### Die `break`-Anweisung\n",
    "Mit der `break`-Anweisung können wir **die gesamte Schleife abbrechen**; \n",
    "es wird also nicht nur der aktuelle Schleifendurchlauf abgebrochen, sondern auch alle ggf. noch \n",
    "ausstehenden Iterationen übersprungen, und die Programmausführung wird unmittelbar **nach** \n",
    "der Schleife fortgesetzt - \n",
    "mit einer Ausnahme:\n",
    "#### break/else\n",
    "Bisher kannten wir `else`-Klauseln eigentlich nur im Zusammenhang mit `if`-Bedingungen. \n",
    "Zusammen mit der `break`-Anweisung gewinnen wir aber eine weitere Anwendung für sie: \n",
    "Wir können mit `else` einen Codeblock direkt an das Ende einer `for`-Schleife anschließen, \n",
    "der genau dann und nur dann im Anschluss an die Schleife ausgeführt wird, wenn diese **nicht** \n",
    "von einem `break` abgebrochen wurde. Falls die Schleife von einem `break` abgebrochen wurde, \n",
    "wird der \"else-Code\" also übersprungen, und die Ausführung wird danach fortgesetzt."
   ]
  },
  {
   "cell_type": "markdown",
   "id": "f4bb5c65-8609-4c21-a313-cbd21ba7b8d4",
   "metadata": {},
   "source": [
    "![](breakelse.png)"
   ]
  },
  {
   "cell_type": "code",
   "execution_count": null,
   "id": "c616e5e2-d04e-4b46-9269-0446dfd6cd61",
   "metadata": {},
   "outputs": [],
   "source": [
    "# Drucke alle Namen in einer Liste aus, bis zum ersten mal der Name \"Felix\" auftaucht. \n",
    "# Brich danach die Suche ab; sollte die Liste keinen \"Felix\" enthalten, drucke einen entsprechenden Hinweis.\n",
    "names_list = [\"Anna\", \"Bernd\", \"Carla\", \"David\", \"Elena\", \"Felix\", \"Griseldis\", \"Herbert\", \"Ilena\", \"Joachim\", \"Karim\", \"Larissa\", \"Maria\", \"Niklas\"]\n",
    "target = \"Felix\"\n",
    "\n"
   ]
  },
  {
   "cell_type": "markdown",
   "id": "7250ec54-347a-470b-8fb2-0cb6a9fa7cd8",
   "metadata": {},
   "source": [
    "<div style=\"border: 1px solid black; padding: 10px; background-color: lightblue;\">\n",
    "<b>Sowohl bei <code>break</code> als auch bei <code>continue</code> wird aber der bis zum \n",
    "Schleifenabbruch ausgeführte Code **nicht** rückgängig gemacht</b>; \n",
    "so bleiben zum Beispiel alle bis hierher erfolgten Änderungen an Variablen etc. erhalten und \n",
    "wirken sich dementsprechend auf den weiteren Verlauf der Programmausführung aus.\n",
    "</div>"
   ]
  },
  {
   "cell_type": "markdown",
   "id": "280bc867-083a-448a-9a03-174289db8457",
   "metadata": {
    "tags": []
   },
   "source": [
    "## 2. Iteratorfunktionen\n",
    "### `zip()`\n",
    "In for-Schleifen wird oft auf nicht nur eine, sondern mehrere Iterablen so zugegriffen, \n",
    "dass jeweils im n-ten Schleifendurchlauf das n-te Element jeder dieser Iterablen verwendet wird.\n",
    "Das kann man nun natürlich mit einem numerischen Iterator lösen:"
   ]
  },
  {
   "cell_type": "code",
   "execution_count": null,
   "id": "173a6f29-cc8c-4d8e-897f-c8e48b145e08",
   "metadata": {},
   "outputs": [],
   "source": [
    "# for-Schleife über eine Zahlenreihe, um auf mehrere Listen zuzugreifen\n",
    "names = [\"Anna\", \"Ben\", \"Christoph\", \"Diana\", \"Ben\"]\n",
    "drinks = [\"Aperol Spritz\", \"Bourbon\", \"Cider\", \"Drambuie\", \"Smoothie\"]\n",
    "details = [\"an der Strandbar\", \"on the rocks\", \"im Pub\", \"zum Dessert\", \"aus Kiwis\"]\n",
    "\n",
    "for i in range(len(names)):\n",
    "    print(f\"{names[i]} genießt einen {drinks[i]} {details[i]}.\")"
   ]
  },
  {
   "cell_type": "code",
   "execution_count": null,
   "id": "6a165c91-c789-4ab5-98b6-11f16035f173",
   "metadata": {},
   "outputs": [],
   "source": [
    "# for-Schleife über eine Liste mit \"manuellen\" Zugriff auf den Index\n",
    "for name in names:\n",
    "    index = names.index(name)\n",
    "    print(f\"{name} genießt einen {drinks[index]} {details[index]}.\")"
   ]
  },
  {
   "cell_type": "markdown",
   "id": "226126cf-633d-42b6-b48e-c25efd5f9656",
   "metadata": {},
   "source": [
    "Wie wir sehen, funktioniert die zweite Methode nur dann so wie sie soll, \n",
    "wenn die Iterable **nur einzigartige Werte** enthält.<br>\n",
    "Außerdem sind beide Methoden etwas \"sperrig\", nicht zuletzt wegen der `range(len(interable))`-\n",
    "Konstruktion beim numerischen Iterator.\n",
    "\n",
    "Eleganter und besser lesbar geht dies mit der `zip()`-Funktion, die es uns ermöglicht, \n",
    "\"im Reißverschlussverfahren\" (daher der Name) eine for-Schleife **mit mehreren Iteratoren \n",
    "über mehrere Iterablen gleichzeitig** laufen zu lassen:"
   ]
  },
  {
   "cell_type": "markdown",
   "id": "a80de81c-ef2f-4819-924d-28415ae4b407",
   "metadata": {},
   "source": [
    "![](zip.png)"
   ]
  },
  {
   "cell_type": "code",
   "execution_count": null,
   "id": "8624581b-272a-4d5d-b97f-e59bdc3e24ff",
   "metadata": {},
   "outputs": [],
   "source": [
    "# Drucke mit Hilfe einer for-Schleife und der zip()-Funktion die jeweils zusammengehörenden Namen, \n",
    "# Getränke und Details der Listen names, drinks und details als Satz mit dem String \n",
    "# f\"{name} genießt einen {drink} {detail}.\"\n",
    "\n"
   ]
  },
  {
   "cell_type": "markdown",
   "id": "01ec2417-b077-4ef9-a7d1-51186e8b300d",
   "metadata": {
    "tags": []
   },
   "source": [
    "### `enumerate()`\n",
    "Manchmal iterieren wir in einer for-Schleife sowohl über die Einträge einer Sequenz, \n",
    "benötigen aber auch ihre jeweilige Position in der Liste, also ihren Index. \n",
    "Dafür kennen wir bereits zwei Möglichkeiten:"
   ]
  },
  {
   "cell_type": "code",
   "execution_count": null,
   "id": "b432c209-707a-4052-b583-3a09a8373d4b",
   "metadata": {},
   "outputs": [],
   "source": [
    "# for-Schleife über Index ohne enumerate()\n",
    "for i in range(len(names)):\n",
    "    print(f\"Auf Listenindex {i} steht {names[i]}.\")\n",
    "\n",
    "# for-Schleife über eine Liste mit \"manuellen\" Zugriff auf den Index\n",
    "for name in names:\n",
    "    index = names.index(name)\n",
    "    print(f\"Auf Listenindex {index} steht {name}.\")"
   ]
  },
  {
   "cell_type": "markdown",
   "id": "70c322d0-1cc8-4745-942c-533806af6ec6",
   "metadata": {},
   "source": [
    "Die erste Möglichkeit gestaltet sich schon in einfachen Fällen recht umständlich und \"sperrig\" - \n",
    "da ist die zweite schon eleganter. Bei der zweiten laufen wir dafür aber in ein nur umso umständlicher \n",
    "zu lösendes Problem, sobald die Liste bestimmte Einträge mehr als einmal enthält, \n",
    "da die `index()`-Methode von Haus aus immer nur die Indexposition des ersten \"Treffers\" gleicher Einträge zurückgibt.<br>\n",
    "<br>\n",
    "Auch hier geht es wieder einfacher und eleganter mit einer Funktion, nämlich `enumerate()`: \n",
    "Mit ihr können wir gleichzeitig über die Indizes und die Werte einer Sequenz iterieren:"
   ]
  },
  {
   "cell_type": "markdown",
   "id": "708bc1ca-64d4-462a-8614-52faf63c857e",
   "metadata": {},
   "source": [
    "![](enumerate.png)"
   ]
  },
  {
   "cell_type": "markdown",
   "id": "2ae1b70d-3563-4ad3-9a03-30c8271ba964",
   "metadata": {},
   "source": [
    "Beachte dabei, dass die erstgenannte Iteratorvariable immer den Index, die zweite Iteratorvariable den Wert trägt."
   ]
  },
  {
   "cell_type": "code",
   "execution_count": null,
   "id": "fe039274-a958-4863-8614-980a788729b7",
   "metadata": {},
   "outputs": [],
   "source": [
    "# Drucke mit Hilfe der enumerate()-Funktion für jeden Namen auf der Liste names den String \n",
    "# f\"Auf Listenindex {i} steht {name}.\"\n",
    "\n"
   ]
  },
  {
   "cell_type": "markdown",
   "id": "5f5aeb2e-f54d-47f5-973e-0ddd1fc528ef",
   "metadata": {},
   "source": [
    "## 3. List und Dictionary Comprehensions\n",
    "### List Comprehensions\n",
    "Wir können bereits Listen zusammenstellen, indem wir eine leere Liste initialisieren und sie dann \n",
    "mit der `.append()`-Methode in einer for-Schleife schrittweise mit Inhalten befüllen:"
   ]
  },
  {
   "cell_type": "code",
   "execution_count": null,
   "id": "a3fc0840-0deb-4626-a7cb-0fe5bbdce44a",
   "metadata": {},
   "outputs": [],
   "source": [
    "# Listen erstellen mit for-Schleifen\n",
    "numbers = [1, 2, 3, 4, 5]\n",
    "\n",
    "squares = []\n",
    "\n",
    "for n in numbers:\n",
    "    square = n**2\n",
    "    squares.append(square)\n",
    "\n",
    "print(squares)\n",
    "\n",
    "######################################################\n",
    "\n",
    "werwaswie = []\n",
    "\n",
    "for i in range(len(names)):\n",
    "    name = names[i]\n",
    "    drink = drinks[i]\n",
    "    detail = details[i]\n",
    "    text = f\"{name} genießt einen {drink} {detail}.\"\n",
    "    werwaswie.append(text)\n",
    "\n",
    "for satz in werwaswie:\n",
    "    print(satz)"
   ]
  },
  {
   "cell_type": "markdown",
   "id": "198c27d0-b8fb-4215-8177-a95dcb74ce3e",
   "metadata": {},
   "source": [
    "**Mit einer List Comprehension machen wir daraus Einzeiler:**"
   ]
  },
  {
   "cell_type": "markdown",
   "id": "fe33efe0-1bc2-40dc-82c5-e31f5525918d",
   "metadata": {},
   "source": [
    "![](lc_beispiele.png)"
   ]
  },
  {
   "cell_type": "code",
   "execution_count": null,
   "id": "05ff99d2-5183-4596-a336-e0d949eef6af",
   "metadata": {},
   "outputs": [],
   "source": [
    "# Erstelle dieselben Listen noch einmal, diesmal mit Hilfe einer List Comprehension\n",
    "squares_lc = \n",
    "\n",
    "werwaswie_lc = \n",
    "\n",
    "print(squares_lc)\n",
    "for satz in werwaswie_lc:\n",
    "    print(satz)"
   ]
  },
  {
   "cell_type": "markdown",
   "id": "bcfd98eb-b63c-47ce-ba80-46a2262d03fc",
   "metadata": {},
   "source": [
    "Das ist nicht nur eleganter und spart uns Schreibarbeit, sondern es erlaubt uns auch, \n",
    "**Listen mitten in Codezeilen \"an Ort und Stelle\" zu erstellen und sofort zu verwenden**, \n",
    "statt sie vorher vorzubereiten und in einer Variablen zwischenzuspeichern:"
   ]
  },
  {
   "cell_type": "code",
   "execution_count": null,
   "id": "64cd48d1-dd04-4c5b-b585-075cbaaa85ec",
   "metadata": {},
   "outputs": [],
   "source": [
    "# Liste zur sofortigen Verwendung ohne Speicherung erstellen\n",
    "print([\"Hallo \" + name for name in names])"
   ]
  },
  {
   "cell_type": "markdown",
   "id": "36caed69-d4f9-4244-af96-528884228e82",
   "metadata": {
    "tags": []
   },
   "source": [
    "### List Comprehensions mit `if`-Bedingungen\n",
    "List Comprehensions ermöglichen auch die Einbindung von `if`-Bedingungen. \n",
    "#### 1. Einfache if-Bedingungen\n",
    "Einfache Bedingungen (ohne `else`) werden dabei einfach in der Listendefinition angehängt:"
   ]
  },
  {
   "cell_type": "markdown",
   "id": "bf9f3673-a312-49f4-a0e3-dfda8183ac1b",
   "metadata": {},
   "source": [
    "![](lc_if.png)"
   ]
  },
  {
   "cell_type": "code",
   "execution_count": null,
   "id": "0e88d442-4420-4a3b-984e-0991e84840a9",
   "metadata": {},
   "outputs": [],
   "source": [
    "# Erstelle eine Liste mit allen gerade Zahlen bis 10\n",
    "\n",
    "even_numbers = \n",
    "even_numbers"
   ]
  },
  {
   "cell_type": "markdown",
   "id": "25144ba7-d524-4ab8-8a28-0561ff4a056e",
   "metadata": {},
   "source": [
    "#### 2. if/else-Bedingungen\n",
    "Soll aber ein `else`-Fall definiert werden, müssen wir die Syntax umstellen:"
   ]
  },
  {
   "cell_type": "markdown",
   "id": "776485fa-aeff-4a69-b688-8b33f1862be3",
   "metadata": {},
   "source": [
    "![](lc_ifelse.png)"
   ]
  },
  {
   "cell_type": "code",
   "execution_count": null,
   "id": "951cccad-4e9d-457d-b7f1-3e6f6820c68e",
   "metadata": {},
   "outputs": [],
   "source": [
    "# Erstelle eine Liste, die für alle Zahlen bis 10 angibt, ob sie gerade oder ungerade ist\n",
    "\n",
    "types = \n",
    "types"
   ]
  },
  {
   "cell_type": "markdown",
   "id": "b80e3291-94b5-408d-9e50-69299c21cc9a",
   "metadata": {},
   "source": [
    "Komplexere Bedingungen mit `elif` beherrschen List Comprehensions dagegen (zumindest zum jetzigen Zeitpunkt noch) nicht."
   ]
  },
  {
   "cell_type": "markdown",
   "id": "a8074360-e702-42dd-9a91-33c0b45d96be",
   "metadata": {
    "tags": []
   },
   "source": [
    "### Dictionary Coprehensions\n",
    "Analog zu List Comprehensions können wir auch Dictionarys mit einem Einzeiler zusammenstellen.\n",
    "Sagen wir mal, wir möchten anders als oben nicht nur eine Liste von Quadratzahlen erstellen,\n",
    "sondern ein Dictionary, bei dem die ursprünglichen Zahlen als Keys und ihre jeweiligen Quadrate \n",
    "als Values eingetragen werden sollen. Das geht entweder manuell:"
   ]
  },
  {
   "cell_type": "code",
   "execution_count": null,
   "id": "7f7b62d9-8b4c-418b-8df3-b387933760e4",
   "metadata": {},
   "outputs": [],
   "source": [
    "# Manuelle Erstellung eines Dictionarys mit Zahlen als Keys und ihren Quadraten als Values\n",
    "squares_dict_manual = {1: 1**2,\n",
    "                      2: 2**2,\n",
    "                      3: 3**2,\n",
    "                      4: 4**2,\n",
    "                      5: 5**2}\n",
    "squares_dict_manual"
   ]
  },
  {
   "cell_type": "code",
   "execution_count": null,
   "id": "83fc5924-1f00-4294-a969-34f68fe48588",
   "metadata": {},
   "outputs": [],
   "source": [
    "# Erstellung des gleichen Dictionarys, aber mit Hilfe einer for-Schleife\n",
    "numbers = [1, 2, 3, 4, 5]\n",
    "\n",
    "squares_dict_forloop = {}\n",
    "\n",
    "for n in numbers:\n",
    "    squares_dict_forloop[n] = n**2\n",
    "\n",
    "squares_dict_forloop"
   ]
  },
  {
   "cell_type": "markdown",
   "id": "aef16ca6-c772-424b-904f-4c6276965d96",
   "metadata": {},
   "source": [
    "**Oder eben als EInzeiler mit einer Dictionary Comprehension:**"
   ]
  },
  {
   "cell_type": "markdown",
   "id": "392f872f-ac7d-45f6-8b33-e0a77559b4ba",
   "metadata": {},
   "source": [
    "![](dc.png)"
   ]
  },
  {
   "cell_type": "code",
   "execution_count": null,
   "id": "b88abf35-1dca-4d9a-b8b7-6391ab567dc5",
   "metadata": {},
   "outputs": [],
   "source": [
    "# Erstelle das gleiche Dictionary mit Hilfe einer Dictionary Comprehension\n",
    "\n",
    "squares_dict_dc = \n",
    "\n",
    "squares_dict_dc"
   ]
  },
  {
   "cell_type": "code",
   "execution_count": null,
   "id": "b02efe8e-8a4a-4187-99ef-f69beb37119e",
   "metadata": {},
   "outputs": [],
   "source": [
    "# Erstelle mit Hilfe einer Dictionary Comprehension ein Dictionary mit den Namen als keys und \n",
    "# den dazugehörigen Getränken als Values\n",
    "\n",
    "favdrinks = \n",
    "\n",
    "favdrinks"
   ]
  },
  {
   "cell_type": "markdown",
   "id": "662d5dbe-0733-4ed5-9cff-45bd9e06f22a",
   "metadata": {},
   "source": [
    "<div style=\"border: 1px solid black; padding: 10px; background-color: lightblue;\">\n",
    "    <b>List und Dictionary Comprehensions...</b><br>\n",
    "    ...funktionieren auch mit...\n",
    "    <li><code>if</code> und <code>if</code>/<code>else</code></li>\n",
    "    <li><code>zip()</code></li>\n",
    "    <li><code>enumerate()</code></li>\n",
    "    ...funktionieren <b>nicht</b> mit...\n",
    "    <li><code>break</code></li>\n",
    "    <li><code>continue</code></li>\n",
    "</div>"
   ]
  },
  {
   "cell_type": "markdown",
   "id": "ef7a8a6a-1f00-4352-b35e-af2947abad5d",
   "metadata": {
    "tags": []
   },
   "source": [
    "## Bonus: `while`-Schleifen\n",
    "for-Schleifen iterieren immer über eine bestimmte Iterable - eine endliche Werte-Sequenz.\n",
    "Mit `break` und `continue` haben wir zwar die Möglichkeit, for-Schleifen vorzeitig abzubrechen, \n",
    "aber die maximale Anzahl von Schleifendurchläufen steht von Anfang an fest.\n",
    "Wenn wir nun aber einen bestimmten Codeblock unbekannt oft wiederholen möchten, \n",
    "bis ein bestimmtes Ereignis eintritt, müssten wir mit der for-Schleife ein wenig tricksen, \n",
    "z.B. indem wir die Schleife über eine `range()` laufen lassen, die dann \"hoffentlich\" groß genug \n",
    "gewählt ist. <br>\n",
    "<br>\n",
    "Eleganter geht dies mit einer `while`-Schleife, die nicht über eine definierte Sequenz iteriert, \n",
    "sondern den Code einfach so lange wiederholt ausführt, wie eine bestimmte Bedingung erfüllt ist. \n",
    "Diese \"while-Bedingung\" muss also nun so formuliert werden, dass sie **genau so lange erfüllt** ist, \n",
    "wie das angestrebte Ereignis **noch nicht eingetreten** ist."
   ]
  },
  {
   "cell_type": "code",
   "execution_count": null,
   "id": "884524c7-0fe4-44b8-8914-b4479c5c8c88",
   "metadata": {},
   "outputs": [],
   "source": [
    "# Zähle die benötigten Würfelwürfe, bis ihre addierten Augen mindestens 40 ergeben\n",
    "import random\n",
    "\n",
    "counter = 0\n",
    "total = 0\n",
    "\n",
    "while total < 40:\n",
    "    roll = random.randint(1, 6)\n",
    "    total = total + roll\n",
    "    counter += 1\n",
    "    print(f\"Number of rolls: {counter} | This roll: {roll} | Current total: {total}.\")\n",
    "    \n",
    "    # Auch while-Schleifen können wir mit der break-Anweisung vorzeitig abbrechen:\n",
    "    # Ergänze die Schleife so, dass sie abbricht, sobald eine 6 gewürfelt wurde.\n",
    "    #if roll == 6:\n",
    "    #    print(\"Abbruch\")\n",
    "    #    break"
   ]
  },
  {
   "cell_type": "markdown",
   "id": "b23e8ed4-82ee-4bc0-a0f7-0db67b69559d",
   "metadata": {},
   "source": [
    "<div style=\"border: 1px solid black; padding: 10px; background-color: lightblue;\">\n",
    "    <b>continue, break und break/else</b><br>\n",
    "    funktionieren auch mit while-Schleifen; auch hier...\n",
    "    <li>...stoppt <code>continue</code> den aktuellen Schleifendurchlauf und startet den nächsten.</li>\n",
    "    <li>...bricht <code>break</code> die Schleife ab.</li>\n",
    "    <li>...wird der \"else-Code\" genau dann und nur dann im Anschluss an die Schleife ausgeführt, \n",
    "    wenn sie <b>nicht</b> durch ein <code>break</code> abgebrochen wurde.</li>\n",
    "</div>"
   ]
  },
  {
   "cell_type": "markdown",
   "id": "51506e12-989b-4e91-817e-8326fcd17eff",
   "metadata": {},
   "source": [
    "<div style=\"border: 1px solid black; padding: 10px; background-color: orange;\">\n",
    "    <b>VORSICHT!</b><br>\n",
    "    Die while-Schleife läuft so lange weiter, wie ihre Bedingung erfüllt ist; dadurch kann es passieren, \n",
    "    das Python sich hier in einer <b>Endlosschleife</b> verfängt. Daher ist es empfehlenswert, \n",
    "    eine Abbruchbedingung einzubauen, die einen <code>break</code> auslöst, und es ist <b>auf jeden Fall</b> \n",
    "    sicher zu stellen, dass spätestens nach einer endlichen Anzahl Schleifendurchläufe <b>zwangsläufig \n",
    "    entweder die Abbruchbedingung erfüllt oder die Schleifenbedingung <b>nicht</b> mehr erfüllt wird!</b>\n",
    "</div>"
   ]
  },
  {
   "cell_type": "markdown",
   "id": "2f308556-d804-484c-b18d-5f897b0e16f0",
   "metadata": {},
   "source": [
    "Das war's für heute."
   ]
  }
 ],
 "metadata": {
  "kernelspec": {
   "display_name": "Python 3 (ipykernel)",
   "language": "python",
   "name": "python3"
  },
  "language_info": {
   "codemirror_mode": {
    "name": "ipython",
    "version": 3
   },
   "file_extension": ".py",
   "mimetype": "text/x-python",
   "name": "python",
   "nbconvert_exporter": "python",
   "pygments_lexer": "ipython3",
   "version": "3.8.10"
  }
 },
 "nbformat": 4,
 "nbformat_minor": 5
}
