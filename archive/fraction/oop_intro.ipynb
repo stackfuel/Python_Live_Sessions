{
 "cells": [
  {
   "cell_type": "code",
   "execution_count": 5,
   "metadata": {},
   "outputs": [],
   "source": [
    "import this"
   ]
  },
  {
   "cell_type": "code",
   "execution_count": 6,
   "metadata": {},
   "outputs": [
    {
     "name": "stdout",
     "output_type": "stream",
     "text": [
      "0.1\n",
      "0.2\n",
      "0.3\n",
      "0.30000000000000004\n",
      "False\n"
     ]
    }
   ],
   "source": [
    "print(0.1)\n",
    "print(0.2)\n",
    "print(0.3)\n",
    "print(0.1 + 0.2)\n",
    "print(0.1 + 0.2 == 0.3)"
   ]
  },
  {
   "cell_type": "markdown",
   "metadata": {},
   "source": [
    "$$\n",
    "0.1_{10} = 0.0001100110011\\ldots_2 = 0.0001\\overline{1001}_2\n",
    "$$\n",
    "\n",
    "$$\n",
    "0.2_{10} = 0.001100110011\\ldots_2 = 0.0011\\overline{0011}_2\n",
    "$$\n",
    "\n",
    "$$\n",
    "0.3_{10} = 0.01001100110011\\ldots_2 = 0.0100\\overline{1100}_2\n",
    "$$\n"
   ]
  },
  {
   "cell_type": "markdown",
   "metadata": {},
   "source": [
    "</br>\n",
    "</br>\n",
    "</br>\n",
    "</br>\n",
    "</br>\n",
    "</br>\n",
    "</br>\n",
    "</br>\n",
    "</br>\n",
    "</br>\n",
    "</br>\n",
    "</br>\n",
    "</br>\n",
    "</br>"
   ]
  },
  {
   "cell_type": "code",
   "execution_count": 7,
   "metadata": {},
   "outputs": [
    {
     "name": "stdout",
     "output_type": "stream",
     "text": [
      "0.1000000000000000055511151231257827021182\n",
      "0.2000000000000000111022302462515654042363\n",
      "0.3000000000000000444089209850062616169453\n",
      "0.2999999999999999888977697537484345957637\n"
     ]
    }
   ],
   "source": [
    "print(f'{0.1:.40f}')\n",
    "print(f'{0.2:.40f}')\n",
    "print(f'{0.1 + 0.2:.40f}')\n",
    "print(f'{0.3:.40f}')"
   ]
  },
  {
   "cell_type": "code",
   "execution_count": null,
   "metadata": {},
   "outputs": [],
   "source": [
    "a = (1, 2)\n",
    "b = [1, 2]\n",
    "c = {\"zähler\": 1, \"nenner\":2}\n",
    "\n",
    "b[0] = 4"
   ]
  },
  {
   "cell_type": "code",
   "execution_count": 4,
   "metadata": {},
   "outputs": [
    {
     "data": {
      "text/plain": [
       "2"
      ]
     },
     "execution_count": 4,
     "metadata": {},
     "output_type": "execute_result"
    }
   ],
   "source": [
    "from collections import namedtuple\n",
    "\n",
    "Fraction = namedtuple(\"Fraction\", [\"numerator\", \"denominator\"])\n",
    "\n",
    "\n",
    "a = Fraction(1, 2)\n",
    "\n",
    "a.denominator"
   ]
  },
  {
   "cell_type": "markdown",
   "metadata": {},
   "source": [
    "\n",
    "\n",
    "### Kürzen\n",
    "\n",
    "$$\n",
    "\\begin{align*}\n",
    "\\frac{a}{b} = \\frac{a \\div \\text{ggT}(a, b)}{b \\div \\text{ggT}(a, b)}\n",
    "\\end{align*}\n",
    "$$\n",
    "\n",
    "### Addieren\n",
    "\n",
    "$$\n",
    "\\frac{a}{b} + \\frac{c}{d} = \\frac{a \\cdot d + c \\cdot b}{b \\cdot d}\n",
    "$$\n",
    "\n",
    "### Subtrahieren\n",
    "\n",
    "$$\n",
    "\\frac{a}{b} - \\frac{c}{d} = \\frac{a \\cdot d - c \\cdot b}{b \\cdot d}\n",
    "$$\n",
    "\n",
    "### Multiplizieren\n",
    "\n",
    "$$\n",
    "\\frac{a}{b} \\cdot \\frac{c}{d} = \\frac{a \\cdot c}{b \\cdot d}\n",
    "$$\n",
    "\n",
    "### Dividieren\n",
    "\n",
    "$$\n",
    "\\frac{a}{b} \\div \\frac{c}{d} = \\frac{a}{b} \\cdot \\frac{d}{c} = \\frac{a \\cdot d}{b \\cdot c}\n",
    "$$\n"
   ]
  },
  {
   "cell_type": "code",
   "execution_count": 20,
   "metadata": {},
   "outputs": [
    {
     "data": {
      "text/plain": [
       "3"
      ]
     },
     "execution_count": 20,
     "metadata": {},
     "output_type": "execute_result"
    }
   ],
   "source": [
    "from math import gcd\n",
    "\n",
    "gcd(12, 9)"
   ]
  },
  {
   "cell_type": "code",
   "execution_count": 25,
   "metadata": {},
   "outputs": [
    {
     "name": "stdout",
     "output_type": "stream",
     "text": [
      "Fraction(numerator=6, denominator=2)\n",
      "Fraction(numerator=3, denominator=1)\n",
      "Fraction(numerator=12, denominator=5)\n",
      "False\n"
     ]
    }
   ],
   "source": [
    "from math import gcd\n",
    "\n",
    "\n",
    "def simplify(f: Fraction) -> Fraction:\n",
    "    gcd_f = gcd(f.numerator, f.denominator)\n",
    "    \n",
    "    new_numerator = f.numerator // gcd_f\n",
    "    new_denominator = f.denominator // gcd_f\n",
    "    \n",
    "    return Fraction(new_numerator, new_denominator)\n",
    "\n",
    "\n",
    "def multiply(a: Fraction, b: Fraction) -> Fraction:\n",
    "    new_numerator = a.numerator * b.numerator\n",
    "    new_denominator = a.denominator * b.denominator\n",
    "    \n",
    "    new_f = Fraction(new_numerator, new_denominator)\n",
    "    return simplify(new_f)\n",
    "\n",
    "\n",
    "f1 = Fraction(6, 2)\n",
    "\n",
    "f2 = simplify(f1)\n",
    "\n",
    "\n",
    "f3 = Fraction(4, 5)\n",
    "\n",
    "print(f1)\n",
    "print(f2)\n",
    "print(multiply(f2, f3))\n",
    "print(f1 == f2)\n",
    "    \n",
    "    \n",
    "    "
   ]
  },
  {
   "cell_type": "code",
   "execution_count": null,
   "metadata": {},
   "outputs": [],
   "source": [
    "from math import gcd\n",
    "from collections import namedtuple\n",
    "\n",
    "\n",
    "class Fraction:\n",
    "\n",
    "    def __init__(self, numerator: int | float, denominator):\n",
    "        \n",
    "        if denominator == 0:\n",
    "            raise ValueError(\"Denominator can't be 0\")\n",
    "        \n",
    "        if isinstance(numerator, float):\n",
    "            numerator, denominator = numerator.as_integer_ratio()\n",
    "        \n",
    "        self.numerator = numerator\n",
    "        self.denominator = denominator\n",
    "                \n",
    "       \n",
    "    def simplify(fraction: Fraction) -> Fraction:\n",
    "        \"\"\"Simplify a fraction.\"\"\"\n",
    "        common_divisor = gcd(fraction.numerator, fraction.denominator)\n",
    "        return Fraction(fraction.numerator // common_divisor, fraction.denominator // common_divisor)\n",
    "    \n",
    "    def __eq__(self, other: Fraction) -> bool:\n",
    "        a = self.simplify()\n",
    "        b = other.simplify()\n",
    "        return a.numerator == b.numerator and a.denominator == b.denominator\n",
    "\n",
    "    def __add__(self: Fraction, other: Fraction) -> Fraction:\n",
    "        \"\"\"Add two fractions.\"\"\"\n",
    "        new_numerator = self.numerator * other.denominator + other.numerator * self.denominator\n",
    "        new_denominator = self.denominator * other.denominator\n",
    "        return simplify(Fraction(new_numerator, new_denominator))\n",
    "\n",
    "    def __sub__(a: Fraction, b: Fraction) -> Fraction:\n",
    "        \"\"\"Subtract the second fraction from the first fraction.\"\"\"\n",
    "        new_numerator = a.numerator * b.denominator - b.numerator * a.denominator\n",
    "        new_denominator = a.denominator * b.denominator\n",
    "        return simplify(Fraction(new_numerator, new_denominator))\n",
    "\n",
    "    def __mul__(a: Fraction, b: Fraction | int) -> Fraction:\n",
    "        \"\"\"Multiply two fractions.\"\"\"\n",
    "        # if type(b) == int:\n",
    "        #     b = Fraction(b, 1)\n",
    "        \n",
    "        new_numerator = a.numerator * b.numerator\n",
    "        new_denominator = a.denominator * b.denominator\n",
    "        return simplify(Fraction(new_numerator, new_denominator))\n",
    "\n",
    "    def __truediv__(a: Fraction, b: Fraction) -> Fraction:\n",
    "        \"\"\"Divide the first fraction by the second fraction.\"\"\"\n",
    "        new_numerator = a.numerator * b.denominator\n",
    "        new_denominator = a.denominator * b.numerator\n",
    "        return simplify(Fraction(new_numerator, new_denominator))\n",
    "    \n",
    "    def __str__(self):\n",
    "        return f\"{self.numerator}/{self.denominator}\"\n",
    "    \n",
    "    def __float__(self):\n",
    "        return self.numerator / self.denominator\n",
    "    \n",
    "    def __int__(self):\n",
    "        return self.numerator // self.denominator\n",
    "    \n"
   ]
  },
  {
   "cell_type": "code",
   "execution_count": 13,
   "metadata": {},
   "outputs": [
    {
     "name": "stdout",
     "output_type": "stream",
     "text": [
      "False\n",
      "1244.2633517495397\n",
      "1244\n",
      "4\n"
     ]
    },
    {
     "ename": "NameError",
     "evalue": "name 'simplify' is not defined",
     "output_type": "error",
     "traceback": [
      "\u001b[1;31m---------------------------------------------------------------------------\u001b[0m",
      "\u001b[1;31mNameError\u001b[0m                                 Traceback (most recent call last)",
      "Cell \u001b[1;32mIn[13], line 12\u001b[0m\n\u001b[0;32m      8\u001b[0m \u001b[38;5;28mprint\u001b[39m(\u001b[38;5;28mint\u001b[39m(a))\n\u001b[0;32m     10\u001b[0m \u001b[38;5;28mprint\u001b[39m(b\u001b[38;5;241m.\u001b[39mdenominator)\n\u001b[1;32m---> 12\u001b[0m \u001b[38;5;28mprint\u001b[39m(\u001b[38;5;124mf\u001b[39m\u001b[38;5;124m\"\u001b[39m\u001b[38;5;132;01m{\u001b[39;00ma\u001b[38;5;132;01m}\u001b[39;00m\u001b[38;5;124m * \u001b[39m\u001b[38;5;132;01m{\u001b[39;00mb\u001b[38;5;132;01m}\u001b[39;00m\u001b[38;5;124m = \u001b[39m\u001b[38;5;132;01m{\u001b[39;00m\u001b[38;5;250m  \u001b[39ma\u001b[38;5;250m \u001b[39m\u001b[38;5;241m*\u001b[39m\u001b[38;5;250m \u001b[39mb\u001b[38;5;250m  \u001b[39m\u001b[38;5;132;01m}\u001b[39;00m\u001b[38;5;124m\"\u001b[39m)\n\u001b[0;32m     13\u001b[0m \u001b[38;5;28mprint\u001b[39m(\u001b[38;5;124mf\u001b[39m\u001b[38;5;124m\"\u001b[39m\u001b[38;5;132;01m{\u001b[39;00ma\u001b[38;5;132;01m}\u001b[39;00m\u001b[38;5;124m + \u001b[39m\u001b[38;5;132;01m{\u001b[39;00mb\u001b[38;5;132;01m}\u001b[39;00m\u001b[38;5;124m = \u001b[39m\u001b[38;5;132;01m{\u001b[39;00m\u001b[38;5;250m  \u001b[39ma\u001b[38;5;250m \u001b[39m\u001b[38;5;241m+\u001b[39m\u001b[38;5;250m \u001b[39mb\u001b[38;5;250m  \u001b[39m\u001b[38;5;132;01m}\u001b[39;00m\u001b[38;5;124m\"\u001b[39m)\n\u001b[0;32m     14\u001b[0m \u001b[38;5;28mprint\u001b[39m(\u001b[38;5;124mf\u001b[39m\u001b[38;5;124m\"\u001b[39m\u001b[38;5;132;01m{\u001b[39;00ma\u001b[38;5;132;01m}\u001b[39;00m\u001b[38;5;124m - \u001b[39m\u001b[38;5;132;01m{\u001b[39;00mb\u001b[38;5;132;01m}\u001b[39;00m\u001b[38;5;124m = \u001b[39m\u001b[38;5;132;01m{\u001b[39;00m\u001b[38;5;250m  \u001b[39ma\u001b[38;5;250m \u001b[39m\u001b[38;5;241m-\u001b[39m\u001b[38;5;250m \u001b[39mb\u001b[38;5;250m  \u001b[39m\u001b[38;5;132;01m}\u001b[39;00m\u001b[38;5;124m\"\u001b[39m)\n",
      "Cell \u001b[1;32mIn[10], line 48\u001b[0m, in \u001b[0;36mFraction.__mul__\u001b[1;34m(a, b)\u001b[0m\n\u001b[0;32m     46\u001b[0m new_numerator \u001b[38;5;241m=\u001b[39m a\u001b[38;5;241m.\u001b[39mnumerator \u001b[38;5;241m*\u001b[39m b\u001b[38;5;241m.\u001b[39mnumerator\n\u001b[0;32m     47\u001b[0m new_denominator \u001b[38;5;241m=\u001b[39m a\u001b[38;5;241m.\u001b[39mdenominator \u001b[38;5;241m*\u001b[39m b\u001b[38;5;241m.\u001b[39mdenominator\n\u001b[1;32m---> 48\u001b[0m \u001b[38;5;28;01mreturn\u001b[39;00m simplify(Fraction(new_numerator, new_denominator))\n",
      "\u001b[1;31mNameError\u001b[0m: name 'simplify' is not defined"
     ]
    }
   ],
   "source": [
    "a = Fraction(675635, 543)\n",
    "b = Fraction(2, 4)\n",
    "\n",
    "\n",
    "print(a == b)\n",
    "\n",
    "print(float(a))\n",
    "print(int(a))\n",
    "\n",
    "print(b.denominator)\n",
    "\n",
    "print(f\"{a} * {b} = {  a * b  }\")\n",
    "print(f\"{a} + {b} = {  a + b  }\")\n",
    "print(f\"{a} - {b} = {  a - b  }\")\n",
    "print(f\"{a} / {b} = {  a / b  }\")\n"
   ]
  },
  {
   "cell_type": "code",
   "execution_count": null,
   "metadata": {},
   "outputs": [],
   "source": [
    "a = Fraction(1, 2)\n",
    "b = Fraction(3, 4)"
   ]
  },
  {
   "cell_type": "code",
   "execution_count": null,
   "metadata": {},
   "outputs": [],
   "source": [
    "\n",
    "a = 5\n",
    "b = 3\n",
    "\n",
    "c = a + b\n",
    "\n"
   ]
  },
  {
   "cell_type": "code",
   "execution_count": null,
   "metadata": {},
   "outputs": [],
   "source": [
    "class Test:\n",
    "    def __init__(self: \"Test\"):\n",
    "        self.a = 1\n",
    "        \n",
    "    def test(self, other: \"Test\"):\n",
    "        other.a"
   ]
  },
  {
   "cell_type": "code",
   "execution_count": 4,
   "metadata": {},
   "outputs": [
    {
     "name": "stdout",
     "output_type": "stream",
     "text": [
      "1.4\n",
      "1.35\n",
      "1.350\n",
      "1.3500\n",
      "54.2340\n"
     ]
    }
   ],
   "source": [
    "f = 1.35\n",
    "print(f\"{f:.1f}\")\n",
    "print(f\"{f:.2f}\")\n",
    "print(f\"{f:.3f}\")\n",
    "print(f\"{f:.4f}\")\n",
    "\n",
    "print(f\"{54.234:.4f}\")"
   ]
  },
  {
   "cell_type": "code",
   "execution_count": null,
   "metadata": {},
   "outputs": [],
   "source": []
  }
 ],
 "metadata": {
  "kernelspec": {
   "display_name": "stackfuel",
   "language": "python",
   "name": "python3"
  },
  "language_info": {
   "codemirror_mode": {
    "name": "ipython",
    "version": 3
   },
   "file_extension": ".py",
   "mimetype": "text/x-python",
   "name": "python",
   "nbconvert_exporter": "python",
   "pygments_lexer": "ipython3",
   "version": "3.12.2"
  }
 },
 "nbformat": 4,
 "nbformat_minor": 2
}
