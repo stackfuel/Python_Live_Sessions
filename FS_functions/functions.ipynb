{
 "cells": [
  {
   "cell_type": "markdown",
   "metadata": {},
   "source": [
    "# Funktionen"
   ]
  },
  {
   "cell_type": "markdown",
   "metadata": {},
   "source": [
    "Eine Funktionsdefinition besteht aus folgenden Teilen:\n",
    "- **def**: Das Schlüsselwort `def` leitet eine Funktionsdefinitions ein\n",
    "- **name**: jede Funktion hat einen eigenen Namen\n",
    "- **argumente**: Funktionen können beliebig viele Argumente besitzen auf die innerhalb der Funktion zugegriffen werden kann.\n",
    "- **return**: Mit dem Schlüsselwort `return` wird die Funktion beendet und der entsprechende Wert wird *zurück gegeben*"
   ]
  },
  {
   "cell_type": "code",
   "execution_count": 14,
   "metadata": {},
   "outputs": [
    {
     "name": "stdout",
     "output_type": "stream",
     "text": [
      "31\n",
      "10\n",
      "-81\n",
      "31.377999999999997\n"
     ]
    }
   ],
   "source": [
    "def f(a, b, c):\n",
    "    return a+b * c\n",
    "\n",
    "print(f(3, 4, 7))\n",
    "print(f(7, 1, 3))\n",
    "print(f(9, 45, -2))\n",
    "print(f(-3.3, 4.954, 7))"
   ]
  },
  {
   "cell_type": "markdown",
   "metadata": {},
   "source": [
    "Es gibt zwei Arten von Argumenten:\n",
    "- **positional arguments**: werden zuerst angegeben und über die Reihenfolge der Argumente identifiziert\n",
    "- **keyword arguments**: werden nach den positional arguments angegeben und besitzen einen default Wert."
   ]
  },
  {
   "cell_type": "code",
   "execution_count": 16,
   "metadata": {},
   "outputs": [],
   "source": [
    "def f1(a, b):\n",
    "    return a-b\n",
    "\n",
    "def f2(a, b=3):\n",
    "    return a-b\n",
    "\n",
    "def f3(a=2, b=3):\n",
    "    return a-b\n",
    "\n",
    "# def f4(a=3, b):\n",
    "#     return a+b"
   ]
  },
  {
   "cell_type": "code",
   "execution_count": 21,
   "metadata": {},
   "outputs": [
    {
     "data": {
      "text/plain": [
       "2"
      ]
     },
     "execution_count": 21,
     "metadata": {},
     "output_type": "execute_result"
    }
   ],
   "source": [
    "f2(5)"
   ]
  },
  {
   "cell_type": "code",
   "execution_count": 28,
   "metadata": {},
   "outputs": [
    {
     "name": "stdout",
     "output_type": "stream",
     "text": [
      "Hallo, du, fdsaf, gfdafd\n"
     ]
    }
   ],
   "source": [
    "print(\"Hallo\", \"du\", \"fdsaf\", \"gfdafd\", sep=\", \")"
   ]
  },
  {
   "cell_type": "code",
   "execution_count": 26,
   "metadata": {},
   "outputs": [
    {
     "name": "stdout",
     "output_type": "stream",
     "text": [
      "fist line\n",
      "second line\n",
      "third line\n"
     ]
    }
   ],
   "source": [
    "def print_lines(*args):\n",
    "    #print(a, b)\n",
    "    for e in args:\n",
    "        print(e)\n",
    "        \n",
    "print_lines(\"fist line\", \"second line\", \"third line\")"
   ]
  },
  {
   "cell_type": "code",
   "execution_count": 30,
   "metadata": {},
   "outputs": [
    {
     "name": "stdout",
     "output_type": "stream",
     "text": [
      "fist line, second line, third line\n"
     ]
    }
   ],
   "source": [
    "t = (\"fist line\", \"second line\", \"third line\")\n",
    "print(*t, sep=\", \")"
   ]
  },
  {
   "cell_type": "code",
   "execution_count": 31,
   "metadata": {},
   "outputs": [
    {
     "name": "stdout",
     "output_type": "stream",
     "text": [
      "('Hey', 2, 5.3, (1, 2, 3))\n",
      "{'first': [], 'second': 'second'}\n"
     ]
    }
   ],
   "source": [
    "def f(*args, **kwargs):\n",
    "    print(args)   # tuple\n",
    "    print(kwargs) # dict\n",
    "    \n",
    "f(\"Hey\", 2, 5.3, (1, 2, 3), first=[], second=\"second\")"
   ]
  },
  {
   "cell_type": "code",
   "execution_count": null,
   "metadata": {},
   "outputs": [],
   "source": [
    "(1, 2, 3)\n",
    "[1, 2, 3]\n"
   ]
  },
  {
   "cell_type": "code",
   "execution_count": 44,
   "metadata": {},
   "outputs": [
    {
     "name": "stdout",
     "output_type": "stream",
     "text": [
      "True\n",
      "False\n",
      "True\n"
     ]
    }
   ],
   "source": [
    "a = (1, 2, 3)\n",
    "b = (1, 2, 3)\n"
   ]
  },
  {
   "cell_type": "code",
   "execution_count": 45,
   "metadata": {},
   "outputs": [
    {
     "name": "stdout",
     "output_type": "stream",
     "text": [
      "[-2, -1, 0, 1, 2, 3, 4]\n",
      "[0, 1, 2, 3, 4]\n",
      "[0, 1, 2, 3, 4]\n"
     ]
    }
   ],
   "source": [
    "def f(a, b=None):\n",
    "    \n",
    "    if b is None:\n",
    "        b = []\n",
    "        \n",
    "    for i in range(a):\n",
    "        b.append(i)\n",
    "    return b\n",
    "\n",
    "print(f(5, [-2, -1]))\n",
    "print(f(5))\n",
    "print(f(5))"
   ]
  },
  {
   "cell_type": "markdown",
   "metadata": {},
   "source": [
    "Funktionen sind in Python sogenannte **first class objects**. Das bedeutet, dass sie sowohl als Parameter als auch als Rückgabewert anderer Funktionen dienen können."
   ]
  },
  {
   "cell_type": "code",
   "execution_count": null,
   "metadata": {},
   "outputs": [],
   "source": [
    "def f(g, x):\n",
    "    return g(x) + 5\n",
    "\n",
    "def g_(a):\n",
    "    return a*2\n",
    "    \n",
    "    \n",
    "f(g_, 8)"
   ]
  },
  {
   "cell_type": "code",
   "execution_count": null,
   "metadata": {},
   "outputs": [],
   "source": [
    "def add_(a):\n",
    "    def ret(b):\n",
    "        return a + b\n",
    "    \n",
    "    return ret\n",
    "\n",
    "add_2 = add_(2)\n",
    "\n",
    "add_2(5)"
   ]
  },
  {
   "cell_type": "markdown",
   "metadata": {},
   "source": [
    "Einige Beispiele"
   ]
  },
  {
   "cell_type": "code",
   "execution_count": null,
   "metadata": {},
   "outputs": [],
   "source": [
    "len(\"hallo\")\n",
    "\n",
    "l = [\"bb\", \"aaa\", \"c\"]\n",
    "\n",
    "sorted(l, key=len)"
   ]
  },
  {
   "cell_type": "code",
   "execution_count": null,
   "metadata": {},
   "outputs": [],
   "source": [
    "list(map(abs, [-1, 2, -4, 9]))"
   ]
  },
  {
   "cell_type": "code",
   "execution_count": null,
   "metadata": {},
   "outputs": [],
   "source": [
    "def map_(f, l):\n",
    "    l_new = []\n",
    "    for e in l:\n",
    "        l_new.append(f(e))\n",
    "    return l_new"
   ]
  },
  {
   "cell_type": "code",
   "execution_count": null,
   "metadata": {},
   "outputs": [],
   "source": [
    "from functools import reduce\n",
    "\n",
    "numbers = [4, 2, 6]\n",
    "\n",
    "def add(x, y):\n",
    "    return x+y\n",
    "\n",
    "reduce(add, numbers)"
   ]
  },
  {
   "cell_type": "code",
   "execution_count": null,
   "metadata": {},
   "outputs": [],
   "source": [
    "\n",
    "names = [\"Tom\", \"Bob\", \"Lea\",\"Bob\", \"Max\", \"Ron\", \"Bob\", \"Tom\", \"Lea\"]\n",
    "\n",
    "d = {}\n",
    "\n",
    "for name in names:\n",
    "    if name not in d:\n",
    "        d[name] = 1\n",
    "    else:\n",
    "        d[name] = d[name] + 1\n",
    "\n",
    "print(d)\n"
   ]
  },
  {
   "cell_type": "code",
   "execution_count": null,
   "metadata": {},
   "outputs": [],
   "source": [
    "from collections import defaultdict\n",
    "\n",
    "d = defaultdict(int)\n",
    "\n",
    "for name in names:\n",
    "    d[name] = d[name] + 1\n",
    "    \n",
    "print(d)"
   ]
  }
 ],
 "metadata": {
  "kernelspec": {
   "display_name": "base",
   "language": "python",
   "name": "python3"
  },
  "language_info": {
   "codemirror_mode": {
    "name": "ipython",
    "version": 3
   },
   "file_extension": ".py",
   "mimetype": "text/x-python",
   "name": "python",
   "nbconvert_exporter": "python",
   "pygments_lexer": "ipython3",
   "version": "3.12.4"
  }
 },
 "nbformat": 4,
 "nbformat_minor": 2
}
